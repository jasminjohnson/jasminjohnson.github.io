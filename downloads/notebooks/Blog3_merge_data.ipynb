{
 "cells": [
  {
   "cell_type": "code",
   "execution_count": 1,
   "metadata": {},
   "outputs": [
    {
     "data": {
      "text/html": [
       "<style>.container { width:100% !important; }</style>"
      ],
      "text/plain": [
       "<IPython.core.display.HTML object>"
      ]
     },
     "metadata": {},
     "output_type": "display_data"
    }
   ],
   "source": [
    "from IPython.core.interactiveshell import InteractiveShell\n",
    "from IPython.core.display import display, HTML\n",
    "display(HTML(\"<style>.container { width:100% !important; }</style>\"))\n",
    "%matplotlib inline \n",
    "import matplotlib.pyplot as plt\n",
    "import pandas as pd"
   ]
  },
  {
   "cell_type": "markdown",
   "metadata": {},
   "source": [
    "# Merge and Reshape Data\n",
    "    - Joint two dataframe using Key - Database-style DataFrame Merges\n",
    "    - How to spot the invalid data?  \n",
    "    - Remove duplicate data\n",
    "    - If you know the average value or the maximum value of certain data set. You can do it very easily in Python.\n",
    "This will help to spot an unusual value to validate the data.\n",
    "           \n",
    "    -Instead of using Vlookup or Sumif in Excel, how to get a clean and only valid data for data analysis?\n",
    "The data has a column for state, but some with incorrect spelling. In Excel, you can use vlookup to search for invalid data and sumif to add up data.\n",
    "\n",
    " In Python, there’s an easier way to do it.  Google and you can import fuzzywuzzy library and follow the code to covert the incorrect state to correct state.\n"
   ]
  },
  {
   "cell_type": "code",
   "execution_count": null,
   "metadata": {},
   "outputs": [],
   "source": []
  }
 ],
 "metadata": {
  "kernelspec": {
   "display_name": "Python 3",
   "language": "python",
   "name": "python3"
  },
  "language_info": {
   "codemirror_mode": {
    "name": "ipython",
    "version": 3
   },
   "file_extension": ".py",
   "mimetype": "text/x-python",
   "name": "python",
   "nbconvert_exporter": "python",
   "pygments_lexer": "ipython3",
   "version": "3.6.3"
  }
 },
 "nbformat": 4,
 "nbformat_minor": 2
}
