{
 "cells": [
  {
   "cell_type": "code",
   "execution_count": 5,
   "metadata": {},
   "outputs": [
    {
     "data": {
      "text/html": [
       "<style>.container { width:100% !important; }</style>"
      ],
      "text/plain": [
       "<IPython.core.display.HTML object>"
      ]
     },
     "metadata": {},
     "output_type": "display_data"
    }
   ],
   "source": [
    "from IPython.core.interactiveshell import InteractiveShell\n",
    "from IPython.core.display import display, HTML\n",
    "display(HTML(\"<style>.container { width:100% !important; }</style>\"))\n",
    "%matplotlib inline \n",
    "import matplotlib.pyplot as plt\n",
    "import pandas as pd\n"
   ]
  },
  {
   "cell_type": "markdown",
   "metadata": {},
   "source": [
    "# Data Analysis With Python for Excel Users II - Perform Excel Function in Python"
   ]
  },
  {
   "cell_type": "markdown",
   "metadata": {},
   "source": [
    "<!-- PELICAN_BEGIN_SUMMARY -->\n",
    "\n",
    "When we computed the mean, minimum and maximum of the data in Python, we are employing a technique to verify the data distribution.\n",
    "This can be very effective when we need to quickly verify datasets for financial analysis.\n",
    "\n",
    "<!-- PELICAN_END_SUMMARY -->"
   ]
  },
  {
   "cell_type": "markdown",
   "metadata": {},
   "source": [
    "## Apply Python Codes to Verfiy the Accuracy of the Datasets.\n",
    "- Sum up columns or rows in python and save the file in Excel\n",
    "- Transpose columns\n",
    "- Get the maximum, mean, average value in the datasets \n",
    "- Filter data to isolate invalid data "
   ]
  },
  {
   "cell_type": "markdown",
   "metadata": {},
   "source": [
    "### Example - Dow Jone Index and DJ Index 30  from 1985 to 2017    \n",
    "- Sum up columns income1, income2 and income3 \n",
    "- Insert a new column Total in Python"
   ]
  },
  {
   "cell_type": "code",
   "execution_count": 6,
   "metadata": {},
   "outputs": [
    {
     "data": {
      "text/html": [
       "<div>\n",
       "<style scoped>\n",
       "    .dataframe tbody tr th:only-of-type {\n",
       "        vertical-align: middle;\n",
       "    }\n",
       "\n",
       "    .dataframe tbody tr th {\n",
       "        vertical-align: top;\n",
       "    }\n",
       "\n",
       "    .dataframe thead th {\n",
       "        text-align: right;\n",
       "    }\n",
       "</style>\n",
       "<table border=\"1\" class=\"dataframe\">\n",
       "  <thead>\n",
       "    <tr style=\"text-align: right;\">\n",
       "      <th></th>\n",
       "      <th>Stock Symbol</th>\n",
       "      <th>Company Name</th>\n",
       "      <th>Dividend Yield</th>\n",
       "      <th>Closing Price</th>\n",
       "      <th>Annualized Dividend</th>\n",
       "      <th>Ex-Div Date</th>\n",
       "      <th>Pay Date</th>\n",
       "      <th>50-day moving average</th>\n",
       "      <th>200-day moving average</th>\n",
       "    </tr>\n",
       "  </thead>\n",
       "  <tbody>\n",
       "    <tr>\n",
       "      <th>0</th>\n",
       "      <td>WMT</td>\n",
       "      <td>Wal-Mart Stores</td>\n",
       "      <td>0.0242</td>\n",
       "      <td>85.91</td>\n",
       "      <td>2.08</td>\n",
       "      <td>2018-12-06</td>\n",
       "      <td>2019-01-02</td>\n",
       "      <td>82.35</td>\n",
       "      <td>78.6800</td>\n",
       "    </tr>\n",
       "    <tr>\n",
       "      <th>1</th>\n",
       "      <td>V</td>\n",
       "      <td>Visa</td>\n",
       "      <td>0.0070</td>\n",
       "      <td>119.78</td>\n",
       "      <td>0.84</td>\n",
       "      <td>2018-02-15</td>\n",
       "      <td>2018-03-06</td>\n",
       "      <td>106.44</td>\n",
       "      <td>98.9627</td>\n",
       "    </tr>\n",
       "    <tr>\n",
       "      <th>2</th>\n",
       "      <td>VZ</td>\n",
       "      <td>Verizon</td>\n",
       "      <td>0.0496</td>\n",
       "      <td>47.58</td>\n",
       "      <td>2.36</td>\n",
       "      <td>2018-04-09</td>\n",
       "      <td>2018-05-01</td>\n",
       "      <td>48.73</td>\n",
       "      <td>47.0300</td>\n",
       "    </tr>\n",
       "    <tr>\n",
       "      <th>3</th>\n",
       "      <td>UNH</td>\n",
       "      <td>UnitedHealth Group</td>\n",
       "      <td>0.0135</td>\n",
       "      <td>221.90</td>\n",
       "      <td>3.00</td>\n",
       "      <td>2018-03-08</td>\n",
       "      <td>2018-03-20</td>\n",
       "      <td>198.85</td>\n",
       "      <td>187.4800</td>\n",
       "    </tr>\n",
       "    <tr>\n",
       "      <th>4</th>\n",
       "      <td>UTX</td>\n",
       "      <td>United Technologies</td>\n",
       "      <td>0.0229</td>\n",
       "      <td>122.45</td>\n",
       "      <td>2.80</td>\n",
       "      <td>2018-02-15</td>\n",
       "      <td>2018-03-10</td>\n",
       "      <td>116.43</td>\n",
       "      <td>118.6200</td>\n",
       "    </tr>\n",
       "  </tbody>\n",
       "</table>\n",
       "</div>"
      ],
      "text/plain": [
       "  Stock Symbol         Company Name  Dividend Yield  Closing Price  \\\n",
       "0          WMT      Wal-Mart Stores          0.0242          85.91   \n",
       "1            V                 Visa          0.0070         119.78   \n",
       "2           VZ              Verizon          0.0496          47.58   \n",
       "3          UNH   UnitedHealth Group          0.0135         221.90   \n",
       "4          UTX  United Technologies          0.0229         122.45   \n",
       "\n",
       "   Annualized Dividend Ex-Div Date   Pay Date  50-day moving average  \\\n",
       "0                 2.08  2018-12-06 2019-01-02                  82.35   \n",
       "1                 0.84  2018-02-15 2018-03-06                 106.44   \n",
       "2                 2.36  2018-04-09 2018-05-01                  48.73   \n",
       "3                 3.00  2018-03-08 2018-03-20                 198.85   \n",
       "4                 2.80  2018-02-15 2018-03-10                 116.43   \n",
       "\n",
       "   200-day moving average  \n",
       "0                 78.6800  \n",
       "1                 98.9627  \n",
       "2                 47.0300  \n",
       "3                187.4800  \n",
       "4                118.6200  "
      ]
     },
     "execution_count": 6,
     "metadata": {},
     "output_type": "execute_result"
    }
   ],
   "source": [
    "df = pd.read_excel('data/Dow.xlsx')\n",
    "df.head()"
   ]
  },
  {
   "cell_type": "markdown",
   "metadata": {},
   "source": [
    "### Which Stock Has the Maximum Dividend Yield?"
   ]
  },
  {
   "cell_type": "code",
   "execution_count": 7,
   "metadata": {},
   "outputs": [
    {
     "name": "stdout",
     "output_type": "stream",
     "text": [
      "The stock with the max dividend yield is Verizon with yield 0.0496\n"
     ]
    }
   ],
   "source": [
    "max_div_stock=df.iloc[df[\"Dividend Yield\"].idxmax()]\n",
    "max_div_stock\n",
    "print(\"The stock with the max dividend yield is %s with yield %s\" % (max_div_stock['Company Name'],max_div_stock['Dividend Yield']))"
   ]
  },
  {
   "cell_type": "markdown",
   "metadata": {},
   "source": [
    "### Which Stock Has the Minimum Dividend Yield?"
   ]
  },
  {
   "cell_type": "code",
   "execution_count": 8,
   "metadata": {},
   "outputs": [
    {
     "name": "stdout",
     "output_type": "stream",
     "text": [
      "The stock with the minimum dividend yield is Visa with yield 0.007\n"
     ]
    }
   ],
   "source": [
    "min_div_stock=df.iloc[df[\"Dividend Yield\"].idxmin()]\n",
    "min_div_stock\n",
    "print(\"The stock with the minimum dividend yield is %s with yield %s\" % (min_div_stock['Company Name'],min_div_stock['Dividend Yield']))"
   ]
  },
  {
   "cell_type": "markdown",
   "metadata": {},
   "source": [
    "### Which Stock Price is Currently Below 50-day Moving Average?\n",
    "\n",
    "- Calculate the difference between 50-day moving average and the closing price \n",
    "- Filter the difference below zero, this showed a list of stocks below 50-day average"
   ]
  },
  {
   "cell_type": "code",
   "execution_count": 9,
   "metadata": {},
   "outputs": [
    {
     "data": {
      "text/html": [
       "<div>\n",
       "<style scoped>\n",
       "    .dataframe tbody tr th:only-of-type {\n",
       "        vertical-align: middle;\n",
       "    }\n",
       "\n",
       "    .dataframe tbody tr th {\n",
       "        vertical-align: top;\n",
       "    }\n",
       "\n",
       "    .dataframe thead th {\n",
       "        text-align: right;\n",
       "    }\n",
       "</style>\n",
       "<table border=\"1\" class=\"dataframe\">\n",
       "  <thead>\n",
       "    <tr style=\"text-align: right;\">\n",
       "      <th></th>\n",
       "      <th>Stock Symbol</th>\n",
       "      <th>Company Name</th>\n",
       "      <th>Dividend Yield</th>\n",
       "      <th>Closing Price</th>\n",
       "      <th>Annualized Dividend</th>\n",
       "      <th>Ex-Div Date</th>\n",
       "      <th>Pay Date</th>\n",
       "      <th>50-day moving average</th>\n",
       "      <th>200-day moving average</th>\n",
       "      <th>Dif 50-day</th>\n",
       "    </tr>\n",
       "  </thead>\n",
       "  <tbody>\n",
       "    <tr>\n",
       "      <th>0</th>\n",
       "      <td>WMT</td>\n",
       "      <td>Wal-Mart Stores</td>\n",
       "      <td>0.0242</td>\n",
       "      <td>85.91</td>\n",
       "      <td>2.08</td>\n",
       "      <td>2018-12-06</td>\n",
       "      <td>2019-01-02</td>\n",
       "      <td>82.35</td>\n",
       "      <td>78.6800</td>\n",
       "      <td>-3.56</td>\n",
       "    </tr>\n",
       "    <tr>\n",
       "      <th>1</th>\n",
       "      <td>V</td>\n",
       "      <td>Visa</td>\n",
       "      <td>0.0070</td>\n",
       "      <td>119.78</td>\n",
       "      <td>0.84</td>\n",
       "      <td>2018-02-15</td>\n",
       "      <td>2018-03-06</td>\n",
       "      <td>106.44</td>\n",
       "      <td>98.9627</td>\n",
       "      <td>-13.34</td>\n",
       "    </tr>\n",
       "    <tr>\n",
       "      <th>3</th>\n",
       "      <td>UNH</td>\n",
       "      <td>UnitedHealth Group</td>\n",
       "      <td>0.0135</td>\n",
       "      <td>221.90</td>\n",
       "      <td>3.00</td>\n",
       "      <td>2018-03-08</td>\n",
       "      <td>2018-03-20</td>\n",
       "      <td>198.85</td>\n",
       "      <td>187.4800</td>\n",
       "      <td>-23.05</td>\n",
       "    </tr>\n",
       "    <tr>\n",
       "      <th>4</th>\n",
       "      <td>UTX</td>\n",
       "      <td>United Technologies</td>\n",
       "      <td>0.0229</td>\n",
       "      <td>122.45</td>\n",
       "      <td>2.80</td>\n",
       "      <td>2018-02-15</td>\n",
       "      <td>2018-03-10</td>\n",
       "      <td>116.43</td>\n",
       "      <td>118.6200</td>\n",
       "      <td>-6.02</td>\n",
       "    </tr>\n",
       "    <tr>\n",
       "      <th>5</th>\n",
       "      <td>TRV</td>\n",
       "      <td>Travelers Co.</td>\n",
       "      <td>0.0211</td>\n",
       "      <td>136.59</td>\n",
       "      <td>2.88</td>\n",
       "      <td>2018-03-08</td>\n",
       "      <td>2018-03-30</td>\n",
       "      <td>125.36</td>\n",
       "      <td>124.7500</td>\n",
       "      <td>-11.23</td>\n",
       "    </tr>\n",
       "  </tbody>\n",
       "</table>\n",
       "</div>"
      ],
      "text/plain": [
       "  Stock Symbol         Company Name  Dividend Yield  Closing Price  \\\n",
       "0          WMT      Wal-Mart Stores          0.0242          85.91   \n",
       "1            V                 Visa          0.0070         119.78   \n",
       "3          UNH   UnitedHealth Group          0.0135         221.90   \n",
       "4          UTX  United Technologies          0.0229         122.45   \n",
       "5          TRV        Travelers Co.          0.0211         136.59   \n",
       "\n",
       "   Annualized Dividend Ex-Div Date   Pay Date  50-day moving average  \\\n",
       "0                 2.08  2018-12-06 2019-01-02                  82.35   \n",
       "1                 0.84  2018-02-15 2018-03-06                 106.44   \n",
       "3                 3.00  2018-03-08 2018-03-20                 198.85   \n",
       "4                 2.80  2018-02-15 2018-03-10                 116.43   \n",
       "5                 2.88  2018-03-08 2018-03-30                 125.36   \n",
       "\n",
       "   200-day moving average  Dif 50-day  \n",
       "0                 78.6800       -3.56  \n",
       "1                 98.9627      -13.34  \n",
       "3                187.4800      -23.05  \n",
       "4                118.6200       -6.02  \n",
       "5                124.7500      -11.23  "
      ]
     },
     "execution_count": 9,
     "metadata": {},
     "output_type": "execute_result"
    }
   ],
   "source": [
    "df[\"Dif 50-day\"] = df[\"50-day moving average\"] - df[\"Closing Price\"]  \n",
    "df[\"Dif 50-day\"].min()  \n",
    "df[df[\"Dif 50-day\"] <=0].head()"
   ]
  },
  {
   "cell_type": "markdown",
   "metadata": {},
   "source": [
    "### Insert Column and Assign Value in Python Instead of in Excel"
   ]
  },
  {
   "cell_type": "markdown",
   "metadata": {},
   "source": [
    "** Insert new column after columns 2 with 5% Commission Rate 5% **"
   ]
  },
  {
   "cell_type": "code",
   "execution_count": 10,
   "metadata": {},
   "outputs": [
    {
     "data": {
      "text/html": [
       "<div>\n",
       "<style scoped>\n",
       "    .dataframe tbody tr th:only-of-type {\n",
       "        vertical-align: middle;\n",
       "    }\n",
       "\n",
       "    .dataframe tbody tr th {\n",
       "        vertical-align: top;\n",
       "    }\n",
       "\n",
       "    .dataframe thead th {\n",
       "        text-align: right;\n",
       "    }\n",
       "</style>\n",
       "<table border=\"1\" class=\"dataframe\">\n",
       "  <thead>\n",
       "    <tr style=\"text-align: right;\">\n",
       "      <th></th>\n",
       "      <th>Stock Symbol</th>\n",
       "      <th>Company Name</th>\n",
       "      <th>Com Rate %</th>\n",
       "      <th>Dividend Yield</th>\n",
       "      <th>Closing Price</th>\n",
       "      <th>Annualized Dividend</th>\n",
       "      <th>Ex-Div Date</th>\n",
       "      <th>Pay Date</th>\n",
       "      <th>50-day moving average</th>\n",
       "      <th>200-day moving average</th>\n",
       "      <th>Dif 50-day</th>\n",
       "    </tr>\n",
       "  </thead>\n",
       "  <tbody>\n",
       "    <tr>\n",
       "      <th>0</th>\n",
       "      <td>WMT</td>\n",
       "      <td>Wal-Mart Stores</td>\n",
       "      <td>5</td>\n",
       "      <td>0.0242</td>\n",
       "      <td>85.91</td>\n",
       "      <td>2.08</td>\n",
       "      <td>2018-12-06</td>\n",
       "      <td>2019-01-02</td>\n",
       "      <td>82.35</td>\n",
       "      <td>78.6800</td>\n",
       "      <td>-3.56</td>\n",
       "    </tr>\n",
       "    <tr>\n",
       "      <th>1</th>\n",
       "      <td>V</td>\n",
       "      <td>Visa</td>\n",
       "      <td>5</td>\n",
       "      <td>0.0070</td>\n",
       "      <td>119.78</td>\n",
       "      <td>0.84</td>\n",
       "      <td>2018-02-15</td>\n",
       "      <td>2018-03-06</td>\n",
       "      <td>106.44</td>\n",
       "      <td>98.9627</td>\n",
       "      <td>-13.34</td>\n",
       "    </tr>\n",
       "    <tr>\n",
       "      <th>2</th>\n",
       "      <td>VZ</td>\n",
       "      <td>Verizon</td>\n",
       "      <td>5</td>\n",
       "      <td>0.0496</td>\n",
       "      <td>47.58</td>\n",
       "      <td>2.36</td>\n",
       "      <td>2018-04-09</td>\n",
       "      <td>2018-05-01</td>\n",
       "      <td>48.73</td>\n",
       "      <td>47.0300</td>\n",
       "      <td>1.15</td>\n",
       "    </tr>\n",
       "    <tr>\n",
       "      <th>3</th>\n",
       "      <td>UNH</td>\n",
       "      <td>UnitedHealth Group</td>\n",
       "      <td>5</td>\n",
       "      <td>0.0135</td>\n",
       "      <td>221.90</td>\n",
       "      <td>3.00</td>\n",
       "      <td>2018-03-08</td>\n",
       "      <td>2018-03-20</td>\n",
       "      <td>198.85</td>\n",
       "      <td>187.4800</td>\n",
       "      <td>-23.05</td>\n",
       "    </tr>\n",
       "    <tr>\n",
       "      <th>4</th>\n",
       "      <td>UTX</td>\n",
       "      <td>United Technologies</td>\n",
       "      <td>5</td>\n",
       "      <td>0.0229</td>\n",
       "      <td>122.45</td>\n",
       "      <td>2.80</td>\n",
       "      <td>2018-02-15</td>\n",
       "      <td>2018-03-10</td>\n",
       "      <td>116.43</td>\n",
       "      <td>118.6200</td>\n",
       "      <td>-6.02</td>\n",
       "    </tr>\n",
       "  </tbody>\n",
       "</table>\n",
       "</div>"
      ],
      "text/plain": [
       "  Stock Symbol         Company Name  Com Rate %  Dividend Yield  \\\n",
       "0          WMT      Wal-Mart Stores           5          0.0242   \n",
       "1            V                 Visa           5          0.0070   \n",
       "2           VZ              Verizon           5          0.0496   \n",
       "3          UNH   UnitedHealth Group           5          0.0135   \n",
       "4          UTX  United Technologies           5          0.0229   \n",
       "\n",
       "   Closing Price  Annualized Dividend Ex-Div Date   Pay Date  \\\n",
       "0          85.91                 2.08  2018-12-06 2019-01-02   \n",
       "1         119.78                 0.84  2018-02-15 2018-03-06   \n",
       "2          47.58                 2.36  2018-04-09 2018-05-01   \n",
       "3         221.90                 3.00  2018-03-08 2018-03-20   \n",
       "4         122.45                 2.80  2018-02-15 2018-03-10   \n",
       "\n",
       "   50-day moving average  200-day moving average  Dif 50-day  \n",
       "0                  82.35                 78.6800       -3.56  \n",
       "1                 106.44                 98.9627      -13.34  \n",
       "2                  48.73                 47.0300        1.15  \n",
       "3                 198.85                187.4800      -23.05  \n",
       "4                 116.43                118.6200       -6.02  "
      ]
     },
     "execution_count": 10,
     "metadata": {},
     "output_type": "execute_result"
    }
   ],
   "source": [
    "df.insert(2,\"Com Rate %\", 5)\n",
    "df.head()"
   ]
  },
  {
   "cell_type": "markdown",
   "metadata": {},
   "source": [
    "### Save the calculation and the newly created column to the Excel file"
   ]
  },
  {
   "cell_type": "code",
   "execution_count": 11,
   "metadata": {},
   "outputs": [
    {
     "data": {
      "text/html": [
       "<div>\n",
       "<style scoped>\n",
       "    .dataframe tbody tr th:only-of-type {\n",
       "        vertical-align: middle;\n",
       "    }\n",
       "\n",
       "    .dataframe tbody tr th {\n",
       "        vertical-align: top;\n",
       "    }\n",
       "\n",
       "    .dataframe thead th {\n",
       "        text-align: right;\n",
       "    }\n",
       "</style>\n",
       "<table border=\"1\" class=\"dataframe\">\n",
       "  <thead>\n",
       "    <tr style=\"text-align: right;\">\n",
       "      <th></th>\n",
       "      <th>Stock Symbol</th>\n",
       "      <th>Company Name</th>\n",
       "      <th>Com Rate %</th>\n",
       "      <th>Dividend Yield</th>\n",
       "      <th>Closing Price</th>\n",
       "      <th>Annualized Dividend</th>\n",
       "      <th>Ex-Div Date</th>\n",
       "      <th>Pay Date</th>\n",
       "      <th>50-day moving average</th>\n",
       "      <th>200-day moving average</th>\n",
       "      <th>Dif 50-day</th>\n",
       "    </tr>\n",
       "  </thead>\n",
       "  <tbody>\n",
       "    <tr>\n",
       "      <th>25</th>\n",
       "      <td>CAT</td>\n",
       "      <td>Caterpillar Inc.</td>\n",
       "      <td>5</td>\n",
       "      <td>0.0213</td>\n",
       "      <td>146.79</td>\n",
       "      <td>3.12</td>\n",
       "      <td>2018-04-20</td>\n",
       "      <td>2018-05-19</td>\n",
       "      <td>127.150</td>\n",
       "      <td>112.1300</td>\n",
       "      <td>-19.640</td>\n",
       "    </tr>\n",
       "    <tr>\n",
       "      <th>26</th>\n",
       "      <td>BA</td>\n",
       "      <td>Boeing Co.</td>\n",
       "      <td>5</td>\n",
       "      <td>0.0209</td>\n",
       "      <td>327.36</td>\n",
       "      <td>6.84</td>\n",
       "      <td>2018-02-08</td>\n",
       "      <td>2018-03-02</td>\n",
       "      <td>255.390</td>\n",
       "      <td>218.1440</td>\n",
       "      <td>-71.970</td>\n",
       "    </tr>\n",
       "    <tr>\n",
       "      <th>27</th>\n",
       "      <td>AAPL</td>\n",
       "      <td>Apple Inc.</td>\n",
       "      <td>5</td>\n",
       "      <td>0.0146</td>\n",
       "      <td>172.44</td>\n",
       "      <td>2.52</td>\n",
       "      <td>2018-02-09</td>\n",
       "      <td>2018-02-15</td>\n",
       "      <td>156.641</td>\n",
       "      <td>152.6100</td>\n",
       "      <td>-15.799</td>\n",
       "    </tr>\n",
       "    <tr>\n",
       "      <th>28</th>\n",
       "      <td>AXP</td>\n",
       "      <td>American Express</td>\n",
       "      <td>5</td>\n",
       "      <td>0.0153</td>\n",
       "      <td>91.60</td>\n",
       "      <td>1.40</td>\n",
       "      <td>2018-04-05</td>\n",
       "      <td>2018-05-10</td>\n",
       "      <td>90.340</td>\n",
       "      <td>84.1304</td>\n",
       "      <td>-1.260</td>\n",
       "    </tr>\n",
       "    <tr>\n",
       "      <th>29</th>\n",
       "      <td>MMM</td>\n",
       "      <td>3M</td>\n",
       "      <td>5</td>\n",
       "      <td>0.0254</td>\n",
       "      <td>214.33</td>\n",
       "      <td>5.44</td>\n",
       "      <td>2018-02-15</td>\n",
       "      <td>2018-03-12</td>\n",
       "      <td>216.330</td>\n",
       "      <td>206.6900</td>\n",
       "      <td>2.000</td>\n",
       "    </tr>\n",
       "  </tbody>\n",
       "</table>\n",
       "</div>"
      ],
      "text/plain": [
       "   Stock Symbol      Company Name  Com Rate %  Dividend Yield  Closing Price  \\\n",
       "25          CAT  Caterpillar Inc.           5          0.0213         146.79   \n",
       "26           BA        Boeing Co.           5          0.0209         327.36   \n",
       "27         AAPL        Apple Inc.           5          0.0146         172.44   \n",
       "28          AXP  American Express           5          0.0153          91.60   \n",
       "29          MMM                3M           5          0.0254         214.33   \n",
       "\n",
       "    Annualized Dividend Ex-Div Date   Pay Date  50-day moving average  \\\n",
       "25                 3.12  2018-04-20 2018-05-19                127.150   \n",
       "26                 6.84  2018-02-08 2018-03-02                255.390   \n",
       "27                 2.52  2018-02-09 2018-02-15                156.641   \n",
       "28                 1.40  2018-04-05 2018-05-10                 90.340   \n",
       "29                 5.44  2018-02-15 2018-03-12                216.330   \n",
       "\n",
       "    200-day moving average  Dif 50-day  \n",
       "25                112.1300     -19.640  \n",
       "26                218.1440     -71.970  \n",
       "27                152.6100     -15.799  \n",
       "28                 84.1304      -1.260  \n",
       "29                206.6900       2.000  "
      ]
     },
     "execution_count": 11,
     "metadata": {},
     "output_type": "execute_result"
    }
   ],
   "source": [
    "df.to_excel('data/Dow.xlsx')\n",
    "df.tail()   "
   ]
  },
  {
   "cell_type": "markdown",
   "metadata": {},
   "source": [
    " * two new columns created in python is saved in the Excel file "
   ]
  },
  {
   "cell_type": "markdown",
   "metadata": {},
   "source": [
    "### Count Rows and Columns When Dealing With Hugh Dataset"
   ]
  },
  {
   "cell_type": "code",
   "execution_count": 12,
   "metadata": {},
   "outputs": [
    {
     "name": "stdout",
     "output_type": "stream",
     "text": [
      "30\n",
      "11\n"
     ]
    }
   ],
   "source": [
    "Count_Row=df.shape[0] \n",
    "Count_Col=df.shape[1] \n",
    "print(Count_Row)\n",
    "print(Count_Col)"
   ]
  },
  {
   "cell_type": "markdown",
   "metadata": {},
   "source": [
    "### Sum up total for specific columns"
   ]
  },
  {
   "cell_type": "code",
   "execution_count": 13,
   "metadata": {},
   "outputs": [
    {
     "data": {
      "text/plain": [
       "Dividend Yield       0.7648\n",
       "Closing Price     3513.1300\n",
       "dtype: float64"
      ]
     },
     "execution_count": 13,
     "metadata": {},
     "output_type": "execute_result"
    }
   ],
   "source": [
    "sum_row=df[[\"Dividend Yield\",\"Closing Price\"]].sum()\n",
    "sum_row"
   ]
  },
  {
   "cell_type": "markdown",
   "metadata": {},
   "source": [
    "### Transpose columns\n",
    "- This code is very helpful for reader to view the report"
   ]
  },
  {
   "cell_type": "code",
   "execution_count": 14,
   "metadata": {},
   "outputs": [
    {
     "data": {
      "text/html": [
       "<div>\n",
       "<style scoped>\n",
       "    .dataframe tbody tr th:only-of-type {\n",
       "        vertical-align: middle;\n",
       "    }\n",
       "\n",
       "    .dataframe tbody tr th {\n",
       "        vertical-align: top;\n",
       "    }\n",
       "\n",
       "    .dataframe thead th {\n",
       "        text-align: right;\n",
       "    }\n",
       "</style>\n",
       "<table border=\"1\" class=\"dataframe\">\n",
       "  <thead>\n",
       "    <tr style=\"text-align: right;\">\n",
       "      <th></th>\n",
       "      <th>Dividend Yield</th>\n",
       "      <th>Closing Price</th>\n",
       "    </tr>\n",
       "  </thead>\n",
       "  <tbody>\n",
       "    <tr>\n",
       "      <th>0</th>\n",
       "      <td>0.7648</td>\n",
       "      <td>3513.13</td>\n",
       "    </tr>\n",
       "  </tbody>\n",
       "</table>\n",
       "</div>"
      ],
      "text/plain": [
       "   Dividend Yield  Closing Price\n",
       "0          0.7648        3513.13"
      ]
     },
     "execution_count": 14,
     "metadata": {},
     "output_type": "execute_result"
    }
   ],
   "source": [
    "df_sum=pd.DataFrame(data=sum_row).T\n",
    "df_sum  #easy to transpost the sum"
   ]
  }
 ],
 "metadata": {
  "kernelspec": {
   "display_name": "Python 3",
   "language": "python",
   "name": "python3"
  },
  "language_info": {
   "codemirror_mode": {
    "name": "ipython",
    "version": 3
   },
   "file_extension": ".py",
   "mimetype": "text/x-python",
   "name": "python",
   "nbconvert_exporter": "python",
   "pygments_lexer": "ipython3",
   "version": "3.6.3"
  }
 },
 "nbformat": 4,
 "nbformat_minor": 2
}
