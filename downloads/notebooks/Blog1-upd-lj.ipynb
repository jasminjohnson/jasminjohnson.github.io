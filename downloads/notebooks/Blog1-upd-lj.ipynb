{
 "cells": [
  {
   "cell_type": "code",
   "execution_count": 1,
   "metadata": {},
   "outputs": [
    {
     "data": {
      "text/html": [
       "<style>.container { width:100% !important; }</style>"
      ],
      "text/plain": [
       "<IPython.core.display.HTML object>"
      ]
     },
     "metadata": {},
     "output_type": "display_data"
    }
   ],
   "source": [
    "from IPython.core.interactiveshell import InteractiveShell\n",
    "from IPython.core.display import display, HTML\n",
    "display(HTML(\"<style>.container { width:100% !important; }</style>\"))\n",
    "%matplotlib inline \n",
    "import matplotlib.pyplot as plt"
   ]
  },
  {
   "cell_type": "code",
   "execution_count": 2,
   "metadata": {
    "scrolled": true
   },
   "outputs": [
    {
     "data": {
      "text/html": [
       "<div>\n",
       "<style scoped>\n",
       "    .dataframe tbody tr th:only-of-type {\n",
       "        vertical-align: middle;\n",
       "    }\n",
       "\n",
       "    .dataframe tbody tr th {\n",
       "        vertical-align: top;\n",
       "    }\n",
       "\n",
       "    .dataframe thead th {\n",
       "        text-align: right;\n",
       "    }\n",
       "</style>\n",
       "<table border=\"1\" class=\"dataframe\">\n",
       "  <thead>\n",
       "    <tr style=\"text-align: right;\">\n",
       "      <th></th>\n",
       "      <th>DATE</th>\n",
       "      <th>AA</th>\n",
       "      <th>AAPL</th>\n",
       "      <th>GE</th>\n",
       "      <th>IBM</th>\n",
       "      <th>JNJ</th>\n",
       "      <th>MSFT</th>\n",
       "      <th>PEP</th>\n",
       "      <th>SPX</th>\n",
       "      <th>XOM</th>\n",
       "      <th>Broker</th>\n",
       "    </tr>\n",
       "  </thead>\n",
       "  <tbody>\n",
       "    <tr>\n",
       "      <th>5467</th>\n",
       "      <td>2011-10-10</td>\n",
       "      <td>10.09</td>\n",
       "      <td>388.81</td>\n",
       "      <td>16.14</td>\n",
       "      <td>186.62</td>\n",
       "      <td>64.43</td>\n",
       "      <td>26.94</td>\n",
       "      <td>61.87</td>\n",
       "      <td>1194.89</td>\n",
       "      <td>76.28</td>\n",
       "      <td>TD Bank</td>\n",
       "    </tr>\n",
       "    <tr>\n",
       "      <th>5468</th>\n",
       "      <td>2011-10-11</td>\n",
       "      <td>10.30</td>\n",
       "      <td>400.29</td>\n",
       "      <td>16.14</td>\n",
       "      <td>185.00</td>\n",
       "      <td>63.96</td>\n",
       "      <td>27.00</td>\n",
       "      <td>60.95</td>\n",
       "      <td>1195.54</td>\n",
       "      <td>76.27</td>\n",
       "      <td>ABC Inc.</td>\n",
       "    </tr>\n",
       "    <tr>\n",
       "      <th>5469</th>\n",
       "      <td>2011-10-12</td>\n",
       "      <td>10.05</td>\n",
       "      <td>402.19</td>\n",
       "      <td>16.40</td>\n",
       "      <td>186.12</td>\n",
       "      <td>64.33</td>\n",
       "      <td>26.96</td>\n",
       "      <td>62.70</td>\n",
       "      <td>1207.25</td>\n",
       "      <td>77.16</td>\n",
       "      <td>XYZ Inc.</td>\n",
       "    </tr>\n",
       "    <tr>\n",
       "      <th>5470</th>\n",
       "      <td>2011-10-13</td>\n",
       "      <td>10.10</td>\n",
       "      <td>408.43</td>\n",
       "      <td>16.22</td>\n",
       "      <td>186.82</td>\n",
       "      <td>64.23</td>\n",
       "      <td>27.18</td>\n",
       "      <td>62.36</td>\n",
       "      <td>1203.66</td>\n",
       "      <td>76.37</td>\n",
       "      <td>Fidelity</td>\n",
       "    </tr>\n",
       "    <tr>\n",
       "      <th>5471</th>\n",
       "      <td>2011-10-14</td>\n",
       "      <td>10.26</td>\n",
       "      <td>422.00</td>\n",
       "      <td>16.60</td>\n",
       "      <td>190.53</td>\n",
       "      <td>64.72</td>\n",
       "      <td>27.27</td>\n",
       "      <td>62.24</td>\n",
       "      <td>1224.58</td>\n",
       "      <td>78.11</td>\n",
       "      <td>TD Bank</td>\n",
       "    </tr>\n",
       "  </tbody>\n",
       "</table>\n",
       "</div>"
      ],
      "text/plain": [
       "           DATE     AA    AAPL     GE     IBM    JNJ   MSFT    PEP      SPX  \\\n",
       "5467 2011-10-10  10.09  388.81  16.14  186.62  64.43  26.94  61.87  1194.89   \n",
       "5468 2011-10-11  10.30  400.29  16.14  185.00  63.96  27.00  60.95  1195.54   \n",
       "5469 2011-10-12  10.05  402.19  16.40  186.12  64.33  26.96  62.70  1207.25   \n",
       "5470 2011-10-13  10.10  408.43  16.22  186.82  64.23  27.18  62.36  1203.66   \n",
       "5471 2011-10-14  10.26  422.00  16.60  190.53  64.72  27.27  62.24  1224.58   \n",
       "\n",
       "        XOM    Broker  \n",
       "5467  76.28   TD Bank  \n",
       "5468  76.27  ABC Inc.  \n",
       "5469  77.16  XYZ Inc.  \n",
       "5470  76.37  Fidelity  \n",
       "5471  78.11   TD Bank  "
      ]
     },
     "execution_count": 2,
     "metadata": {},
     "output_type": "execute_result"
    }
   ],
   "source": [
    "import pandas as pd\n",
    "df = pd.read_excel('Stock_px.xlsx')\n",
    "df.head(5)\n",
    "df.tail(5)\n",
    "\n"
   ]
  },
  {
   "cell_type": "code",
   "execution_count": 20,
   "metadata": {},
   "outputs": [
    {
     "data": {
      "text/html": [
       "<div>\n",
       "<style scoped>\n",
       "    .dataframe tbody tr th:only-of-type {\n",
       "        vertical-align: middle;\n",
       "    }\n",
       "\n",
       "    .dataframe tbody tr th {\n",
       "        vertical-align: top;\n",
       "    }\n",
       "\n",
       "    .dataframe thead th {\n",
       "        text-align: right;\n",
       "    }\n",
       "</style>\n",
       "<table border=\"1\" class=\"dataframe\">\n",
       "  <thead>\n",
       "    <tr style=\"text-align: right;\">\n",
       "      <th></th>\n",
       "      <th>DATE</th>\n",
       "      <th>AA</th>\n",
       "      <th>AAPL</th>\n",
       "      <th>GE</th>\n",
       "      <th>IBM</th>\n",
       "      <th>JNJ</th>\n",
       "      <th>MSFT</th>\n",
       "      <th>PEP</th>\n",
       "      <th>SPX</th>\n",
       "      <th>XOM</th>\n",
       "      <th>Broker</th>\n",
       "    </tr>\n",
       "  </thead>\n",
       "  <tbody>\n",
       "    <tr>\n",
       "      <th>0</th>\n",
       "      <td>1990-02-01</td>\n",
       "      <td>4.98</td>\n",
       "      <td>7.86</td>\n",
       "      <td>2.87</td>\n",
       "      <td>16.79</td>\n",
       "      <td>4.27</td>\n",
       "      <td>0.51</td>\n",
       "      <td>6.04</td>\n",
       "      <td>328.79</td>\n",
       "      <td>6.12</td>\n",
       "      <td>ABC Inc.</td>\n",
       "    </tr>\n",
       "    <tr>\n",
       "      <th>1</th>\n",
       "      <td>1990-02-02</td>\n",
       "      <td>5.04</td>\n",
       "      <td>8.00</td>\n",
       "      <td>2.87</td>\n",
       "      <td>16.89</td>\n",
       "      <td>4.37</td>\n",
       "      <td>0.51</td>\n",
       "      <td>6.09</td>\n",
       "      <td>330.92</td>\n",
       "      <td>6.24</td>\n",
       "      <td>XYZ Inc.</td>\n",
       "    </tr>\n",
       "    <tr>\n",
       "      <th>2</th>\n",
       "      <td>1990-02-05</td>\n",
       "      <td>5.07</td>\n",
       "      <td>8.18</td>\n",
       "      <td>2.87</td>\n",
       "      <td>17.32</td>\n",
       "      <td>4.34</td>\n",
       "      <td>0.51</td>\n",
       "      <td>6.05</td>\n",
       "      <td>331.85</td>\n",
       "      <td>6.25</td>\n",
       "      <td>Fidelity</td>\n",
       "    </tr>\n",
       "    <tr>\n",
       "      <th>3</th>\n",
       "      <td>1990-02-06</td>\n",
       "      <td>5.01</td>\n",
       "      <td>8.12</td>\n",
       "      <td>2.88</td>\n",
       "      <td>17.56</td>\n",
       "      <td>4.32</td>\n",
       "      <td>0.51</td>\n",
       "      <td>6.15</td>\n",
       "      <td>329.66</td>\n",
       "      <td>6.23</td>\n",
       "      <td>TD American</td>\n",
       "    </tr>\n",
       "    <tr>\n",
       "      <th>4</th>\n",
       "      <td>1990-02-07</td>\n",
       "      <td>5.04</td>\n",
       "      <td>7.77</td>\n",
       "      <td>2.91</td>\n",
       "      <td>17.93</td>\n",
       "      <td>4.38</td>\n",
       "      <td>0.51</td>\n",
       "      <td>6.17</td>\n",
       "      <td>333.75</td>\n",
       "      <td>6.33</td>\n",
       "      <td>ABC Inc.</td>\n",
       "    </tr>\n",
       "  </tbody>\n",
       "</table>\n",
       "</div>"
      ],
      "text/plain": [
       "        DATE    AA  AAPL    GE    IBM   JNJ  MSFT   PEP     SPX   XOM  \\\n",
       "0 1990-02-01  4.98  7.86  2.87  16.79  4.27  0.51  6.04  328.79  6.12   \n",
       "1 1990-02-02  5.04  8.00  2.87  16.89  4.37  0.51  6.09  330.92  6.24   \n",
       "2 1990-02-05  5.07  8.18  2.87  17.32  4.34  0.51  6.05  331.85  6.25   \n",
       "3 1990-02-06  5.01  8.12  2.88  17.56  4.32  0.51  6.15  329.66  6.23   \n",
       "4 1990-02-07  5.04  7.77  2.91  17.93  4.38  0.51  6.17  333.75  6.33   \n",
       "\n",
       "        Broker  \n",
       "0     ABC Inc.  \n",
       "1     XYZ Inc.  \n",
       "2     Fidelity  \n",
       "3  TD American  \n",
       "4     ABC Inc.  "
      ]
     },
     "execution_count": 20,
     "metadata": {},
     "output_type": "execute_result"
    }
   ],
   "source": [
    "## Convert df['DATE'] from string to datetime\n",
    "df['DATE'] = pd.to_datetime(df['DATE'])\n",
    "\n",
    "df.head()"
   ]
  },
  {
   "cell_type": "code",
   "execution_count": 21,
   "metadata": {},
   "outputs": [
    {
     "data": {
      "text/html": [
       "<div>\n",
       "<style scoped>\n",
       "    .dataframe tbody tr th:only-of-type {\n",
       "        vertical-align: middle;\n",
       "    }\n",
       "\n",
       "    .dataframe tbody tr th {\n",
       "        vertical-align: top;\n",
       "    }\n",
       "\n",
       "    .dataframe thead th {\n",
       "        text-align: right;\n",
       "    }\n",
       "</style>\n",
       "<table border=\"1\" class=\"dataframe\">\n",
       "  <thead>\n",
       "    <tr style=\"text-align: right;\">\n",
       "      <th></th>\n",
       "      <th>AA</th>\n",
       "      <th>AAPL</th>\n",
       "      <th>GE</th>\n",
       "      <th>IBM</th>\n",
       "      <th>JNJ</th>\n",
       "      <th>MSFT</th>\n",
       "      <th>PEP</th>\n",
       "      <th>SPX</th>\n",
       "      <th>XOM</th>\n",
       "      <th>Broker</th>\n",
       "    </tr>\n",
       "    <tr>\n",
       "      <th>DATE</th>\n",
       "      <th></th>\n",
       "      <th></th>\n",
       "      <th></th>\n",
       "      <th></th>\n",
       "      <th></th>\n",
       "      <th></th>\n",
       "      <th></th>\n",
       "      <th></th>\n",
       "      <th></th>\n",
       "      <th></th>\n",
       "    </tr>\n",
       "  </thead>\n",
       "  <tbody>\n",
       "    <tr>\n",
       "      <th>1990-02-01</th>\n",
       "      <td>4.98</td>\n",
       "      <td>7.86</td>\n",
       "      <td>2.87</td>\n",
       "      <td>16.79</td>\n",
       "      <td>4.27</td>\n",
       "      <td>0.51</td>\n",
       "      <td>6.04</td>\n",
       "      <td>328.79</td>\n",
       "      <td>6.12</td>\n",
       "      <td>ABC Inc.</td>\n",
       "    </tr>\n",
       "    <tr>\n",
       "      <th>1990-02-02</th>\n",
       "      <td>5.04</td>\n",
       "      <td>8.00</td>\n",
       "      <td>2.87</td>\n",
       "      <td>16.89</td>\n",
       "      <td>4.37</td>\n",
       "      <td>0.51</td>\n",
       "      <td>6.09</td>\n",
       "      <td>330.92</td>\n",
       "      <td>6.24</td>\n",
       "      <td>XYZ Inc.</td>\n",
       "    </tr>\n",
       "    <tr>\n",
       "      <th>1990-02-05</th>\n",
       "      <td>5.07</td>\n",
       "      <td>8.18</td>\n",
       "      <td>2.87</td>\n",
       "      <td>17.32</td>\n",
       "      <td>4.34</td>\n",
       "      <td>0.51</td>\n",
       "      <td>6.05</td>\n",
       "      <td>331.85</td>\n",
       "      <td>6.25</td>\n",
       "      <td>Fidelity</td>\n",
       "    </tr>\n",
       "    <tr>\n",
       "      <th>1990-02-06</th>\n",
       "      <td>5.01</td>\n",
       "      <td>8.12</td>\n",
       "      <td>2.88</td>\n",
       "      <td>17.56</td>\n",
       "      <td>4.32</td>\n",
       "      <td>0.51</td>\n",
       "      <td>6.15</td>\n",
       "      <td>329.66</td>\n",
       "      <td>6.23</td>\n",
       "      <td>TD American</td>\n",
       "    </tr>\n",
       "    <tr>\n",
       "      <th>1990-02-07</th>\n",
       "      <td>5.04</td>\n",
       "      <td>7.77</td>\n",
       "      <td>2.91</td>\n",
       "      <td>17.93</td>\n",
       "      <td>4.38</td>\n",
       "      <td>0.51</td>\n",
       "      <td>6.17</td>\n",
       "      <td>333.75</td>\n",
       "      <td>6.33</td>\n",
       "      <td>ABC Inc.</td>\n",
       "    </tr>\n",
       "  </tbody>\n",
       "</table>\n",
       "</div>"
      ],
      "text/plain": [
       "              AA  AAPL    GE    IBM   JNJ  MSFT   PEP     SPX   XOM  \\\n",
       "DATE                                                                  \n",
       "1990-02-01  4.98  7.86  2.87  16.79  4.27  0.51  6.04  328.79  6.12   \n",
       "1990-02-02  5.04  8.00  2.87  16.89  4.37  0.51  6.09  330.92  6.24   \n",
       "1990-02-05  5.07  8.18  2.87  17.32  4.34  0.51  6.05  331.85  6.25   \n",
       "1990-02-06  5.01  8.12  2.88  17.56  4.32  0.51  6.15  329.66  6.23   \n",
       "1990-02-07  5.04  7.77  2.91  17.93  4.38  0.51  6.17  333.75  6.33   \n",
       "\n",
       "                 Broker  \n",
       "DATE                     \n",
       "1990-02-01     ABC Inc.  \n",
       "1990-02-02     XYZ Inc.  \n",
       "1990-02-05     Fidelity  \n",
       "1990-02-06  TD American  \n",
       "1990-02-07     ABC Inc.  "
      ]
     },
     "execution_count": 21,
     "metadata": {},
     "output_type": "execute_result"
    }
   ],
   "source": [
    "df.set_index('DATE', inplace=True)\n",
    "df.head()"
   ]
  },
  {
   "cell_type": "code",
   "execution_count": 22,
   "metadata": {},
   "outputs": [
    {
     "data": {
      "text/plain": [
       "[<matplotlib.lines.Line2D at 0x21130237f28>]"
      ]
     },
     "execution_count": 22,
     "metadata": {},
     "output_type": "execute_result"
    },
    {
     "data": {
      "image/png": "[encoded data removed]",
      "text/plain": [
       "<matplotlib.figure.Figure at 0x2112e79a198>"
      ]
     },
     "metadata": {},
     "output_type": "display_data"
    }
   ],
   "source": [
    "plt.plot(df['AA'])\n"
   ]
  },
  {
   "cell_type": "code",
   "execution_count": 23,
   "metadata": {},
   "outputs": [
    {
     "data": {
      "text/plain": [
       "<matplotlib.axes._subplots.AxesSubplot at 0x211303f4710>"
      ]
     },
     "execution_count": 23,
     "metadata": {},
     "output_type": "execute_result"
    },
    {
     "data": {
      "image/png": "[encoded data removed]",
      "text/plain": [
       "<matplotlib.figure.Figure at 0x2113016ef60>"
      ]
     },
     "metadata": {},
     "output_type": "display_data"
    }
   ],
   "source": [
    "## ref: https://chrisalbon.com/python/data_wrangling/pandas_time_series_basics/\n",
    "df.resample('D').sum().plot()\n"
   ]
  },
  {
   "cell_type": "code",
   "execution_count": 28,
   "metadata": {},
   "outputs": [
    {
     "data": {
      "text/html": [
       "<div>\n",
       "<style scoped>\n",
       "    .dataframe tbody tr th:only-of-type {\n",
       "        vertical-align: middle;\n",
       "    }\n",
       "\n",
       "    .dataframe tbody tr th {\n",
       "        vertical-align: top;\n",
       "    }\n",
       "\n",
       "    .dataframe thead th {\n",
       "        text-align: right;\n",
       "    }\n",
       "</style>\n",
       "<table border=\"1\" class=\"dataframe\">\n",
       "  <thead>\n",
       "    <tr style=\"text-align: right;\">\n",
       "      <th></th>\n",
       "      <th>DATE</th>\n",
       "      <th>AA</th>\n",
       "      <th>AAPL</th>\n",
       "      <th>GE</th>\n",
       "      <th>IBM</th>\n",
       "      <th>JNJ</th>\n",
       "      <th>MSFT</th>\n",
       "      <th>PEP</th>\n",
       "      <th>SPX</th>\n",
       "      <th>XOM</th>\n",
       "      <th>Broker</th>\n",
       "      <th>total</th>\n",
       "    </tr>\n",
       "  </thead>\n",
       "  <tbody>\n",
       "    <tr>\n",
       "      <th>5467</th>\n",
       "      <td>2011-10-10</td>\n",
       "      <td>10.09</td>\n",
       "      <td>388.81</td>\n",
       "      <td>16.14</td>\n",
       "      <td>186.62</td>\n",
       "      <td>64.43</td>\n",
       "      <td>26.94</td>\n",
       "      <td>61.87</td>\n",
       "      <td>1194.89</td>\n",
       "      <td>76.28</td>\n",
       "      <td>TD Bank</td>\n",
       "      <td>415.04</td>\n",
       "    </tr>\n",
       "    <tr>\n",
       "      <th>5468</th>\n",
       "      <td>2011-10-11</td>\n",
       "      <td>10.30</td>\n",
       "      <td>400.29</td>\n",
       "      <td>16.14</td>\n",
       "      <td>185.00</td>\n",
       "      <td>63.96</td>\n",
       "      <td>27.00</td>\n",
       "      <td>60.95</td>\n",
       "      <td>1195.54</td>\n",
       "      <td>76.27</td>\n",
       "      <td>ABC Inc.</td>\n",
       "      <td>426.73</td>\n",
       "    </tr>\n",
       "    <tr>\n",
       "      <th>5469</th>\n",
       "      <td>2011-10-12</td>\n",
       "      <td>10.05</td>\n",
       "      <td>402.19</td>\n",
       "      <td>16.40</td>\n",
       "      <td>186.12</td>\n",
       "      <td>64.33</td>\n",
       "      <td>26.96</td>\n",
       "      <td>62.70</td>\n",
       "      <td>1207.25</td>\n",
       "      <td>77.16</td>\n",
       "      <td>XYZ Inc.</td>\n",
       "      <td>428.64</td>\n",
       "    </tr>\n",
       "    <tr>\n",
       "      <th>5470</th>\n",
       "      <td>2011-10-13</td>\n",
       "      <td>10.10</td>\n",
       "      <td>408.43</td>\n",
       "      <td>16.22</td>\n",
       "      <td>186.82</td>\n",
       "      <td>64.23</td>\n",
       "      <td>27.18</td>\n",
       "      <td>62.36</td>\n",
       "      <td>1203.66</td>\n",
       "      <td>76.37</td>\n",
       "      <td>Fidelity</td>\n",
       "      <td>434.75</td>\n",
       "    </tr>\n",
       "    <tr>\n",
       "      <th>5471</th>\n",
       "      <td>2011-10-14</td>\n",
       "      <td>10.26</td>\n",
       "      <td>422.00</td>\n",
       "      <td>16.60</td>\n",
       "      <td>190.53</td>\n",
       "      <td>64.72</td>\n",
       "      <td>27.27</td>\n",
       "      <td>62.24</td>\n",
       "      <td>1224.58</td>\n",
       "      <td>78.11</td>\n",
       "      <td>TD Bank</td>\n",
       "      <td>448.86</td>\n",
       "    </tr>\n",
       "  </tbody>\n",
       "</table>\n",
       "</div>"
      ],
      "text/plain": [
       "           DATE     AA    AAPL     GE     IBM    JNJ   MSFT    PEP      SPX  \\\n",
       "5467 2011-10-10  10.09  388.81  16.14  186.62  64.43  26.94  61.87  1194.89   \n",
       "5468 2011-10-11  10.30  400.29  16.14  185.00  63.96  27.00  60.95  1195.54   \n",
       "5469 2011-10-12  10.05  402.19  16.40  186.12  64.33  26.96  62.70  1207.25   \n",
       "5470 2011-10-13  10.10  408.43  16.22  186.82  64.23  27.18  62.36  1203.66   \n",
       "5471 2011-10-14  10.26  422.00  16.60  190.53  64.72  27.27  62.24  1224.58   \n",
       "\n",
       "        XOM    Broker   total  \n",
       "5467  76.28   TD Bank  415.04  \n",
       "5468  76.27  ABC Inc.  426.73  \n",
       "5469  77.16  XYZ Inc.  428.64  \n",
       "5470  76.37  Fidelity  434.75  \n",
       "5471  78.11   TD Bank  448.86  "
      ]
     },
     "execution_count": 28,
     "metadata": {},
     "output_type": "execute_result"
    }
   ],
   "source": [
    "df[\"total\"] = df[\"AA\"] + df[\"AAPL\"] + df[\"GE\"]\n",
    "df.tail(5)    "
   ]
  },
  {
   "cell_type": "code",
   "execution_count": 30,
   "metadata": {},
   "outputs": [
    {
     "data": {
      "text/plain": [
       "(95433.239999999991, 17.44028508771932, 4.2000000000000002, 43.619999999999997)"
      ]
     },
     "execution_count": 30,
     "metadata": {},
     "output_type": "execute_result"
    }
   ],
   "source": [
    "df[\"AA\"].sum(), df[\"AA\"].mean(),df[\"AA\"].min(),df[\"AA\"].max() "
   ]
  },
  {
   "cell_type": "code",
   "execution_count": 89,
   "metadata": {},
   "outputs": [
    {
     "data": {
      "text/plain": [
       "[<matplotlib.lines.Line2D at 0x26fa90d95c0>]"
      ]
     },
     "execution_count": 89,
     "metadata": {},
     "output_type": "execute_result"
    },
    {
     "data": {
      "image/png": "[encoded data removed]",
      "text/plain": [
       "<matplotlib.figure.Figure at 0x26fa8f13be0>"
      ]
     },
     "metadata": {},
     "output_type": "display_data"
    }
   ],
   "source": [
    "y = df['DATE']\n",
    "x = df['AA']\n",
    "\n",
    "plt.plot(df['AA'])\n",
    "\n"
   ]
  },
  {
   "cell_type": "code",
   "execution_count": 91,
   "metadata": {},
   "outputs": [
    {
     "data": {
      "text/html": [
       "<div>\n",
       "<style scoped>\n",
       "    .dataframe tbody tr th:only-of-type {\n",
       "        vertical-align: middle;\n",
       "    }\n",
       "\n",
       "    .dataframe tbody tr th {\n",
       "        vertical-align: top;\n",
       "    }\n",
       "\n",
       "    .dataframe thead th {\n",
       "        text-align: right;\n",
       "    }\n",
       "</style>\n",
       "<table border=\"1\" class=\"dataframe\">\n",
       "  <thead>\n",
       "    <tr style=\"text-align: right;\">\n",
       "      <th></th>\n",
       "      <th>DATE</th>\n",
       "      <th>AA</th>\n",
       "    </tr>\n",
       "  </thead>\n",
       "  <tbody>\n",
       "    <tr>\n",
       "      <th>0</th>\n",
       "      <td>1990-02-01</td>\n",
       "      <td>4.98</td>\n",
       "    </tr>\n",
       "    <tr>\n",
       "      <th>1</th>\n",
       "      <td>1990-02-02</td>\n",
       "      <td>5.04</td>\n",
       "    </tr>\n",
       "    <tr>\n",
       "      <th>2</th>\n",
       "      <td>1990-02-05</td>\n",
       "      <td>5.07</td>\n",
       "    </tr>\n",
       "    <tr>\n",
       "      <th>3</th>\n",
       "      <td>1990-02-06</td>\n",
       "      <td>5.01</td>\n",
       "    </tr>\n",
       "    <tr>\n",
       "      <th>4</th>\n",
       "      <td>1990-02-07</td>\n",
       "      <td>5.04</td>\n",
       "    </tr>\n",
       "  </tbody>\n",
       "</table>\n",
       "</div>"
      ],
      "text/plain": [
       "        DATE    AA\n",
       "0 1990-02-01  4.98\n",
       "1 1990-02-02  5.04\n",
       "2 1990-02-05  5.07\n",
       "3 1990-02-06  5.01\n",
       "4 1990-02-07  5.04"
      ]
     },
     "execution_count": 91,
     "metadata": {},
     "output_type": "execute_result"
    }
   ],
   "source": [
    "# Set Index - only need certain columns\n",
    "df.set_index(['DATE','AA','AAPL','GE','IBM','JNJ','MSFT','PEP','SPX','XOM','Broker']) \n",
    "dfNew = df[['DATE','AA']]\n",
    "dfNew.head()\n"
   ]
  }
 ],
 "metadata": {
  "kernelspec": {
   "display_name": "Python 3",
   "language": "python",
   "name": "python3"
  },
  "language_info": {
   "codemirror_mode": {
    "name": "ipython",
    "version": 3
   },
   "file_extension": ".py",
   "mimetype": "text/x-python",
   "name": "python",
   "nbconvert_exporter": "python",
   "pygments_lexer": "ipython3",
   "version": "3.6.3"
  }
 },
 "nbformat": 4,
 "nbformat_minor": 2
}
