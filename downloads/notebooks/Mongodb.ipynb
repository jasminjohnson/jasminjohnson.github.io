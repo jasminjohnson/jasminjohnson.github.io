{
 "cells": [
  {
   "cell_type": "code",
   "execution_count": 1,
   "metadata": {},
   "outputs": [
    {
     "data": {
      "text/html": [
       "<style>.container { width:100% !important; }</style>"
      ],
      "text/plain": [
       "<IPython.core.display.HTML object>"
      ]
     },
     "metadata": {},
     "output_type": "display_data"
    }
   ],
   "source": [
    "from IPython.core.interactiveshell import InteractiveShell\n",
    "InteractiveShell.ast_node_interactivity = \"all\"\n",
    "\n",
    "from IPython.core.display import display, HTML\n",
    "display(HTML(\"<style>.container { width:100% !important; }</style>\"))\n",
    "%matplotlib inline \n",
    "import matplotlib.pyplot as plt\n",
    "import pandas as pd"
   ]
  },
  {
   "cell_type": "code",
   "execution_count": 2,
   "metadata": {},
   "outputs": [],
   "source": [
    "import pymongo\n",
    "from pymongo import MongoClient\n",
    "client = MongoClient()\n",
    "client = MongoClient('localhost', 27017)"
   ]
  },
  {
   "cell_type": "code",
   "execution_count": 8,
   "metadata": {},
   "outputs": [],
   "source": [
    "from __future__ import print_function\n",
    "import tweepy\n",
    "import json\n",
    "from pymongo import MongoClient\n",
    " \n",
    "MONGO_HOST= 'mongodb://localhost/twitterdb'  # assuming you have mongoDB installed locally\n",
    "                                             # and a database called 'twitterdb'\n",
    " \n",
    "WORDS = ['#insurance', '#AI', '#datascience', '#machinelearning', '#auto', '#reinsurance']\n",
    " \n",
    "CONSUMER_KEY = %env TWITTER_CONSUMER_KEY\n",
    "CONSUMER_SECRET = %env TWITTER_CONSUMER_SECRET\n",
    "ACCESS_TOKEN =%env TWITTER_ACCESS_TOKEN\n",
    "ACCESS_TOKEN_SECRET = %env TWITTER_ACCESS_TOKEN_SECRET\n"
   ]
  },
  {
   "cell_type": "markdown",
   "metadata": {},
   "source": [
    "## MongoDB Example - reinsurance loss data analysis , JSON BLOB and read Twitter "
   ]
  },
  {
   "cell_type": "markdown",
   "metadata": {},
   "source": [
    "<!-- PELICAN_BEGIN_SUMMARY -->\n",
    "\n",
    "MongoDB is a document-oriented database. Instead of storing your data in tables made out of individual rows,\n",
    "like a relational database does, it stores your data in collections made out of individual documents.\n",
    "In MongoDB, a document is a big JSON blob with no particular format or schema.\n",
    "\n",
    "You can have all your data in one single collection.\n",
    "\n",
    "<!-- PELICAN_END_SUMMARY -->"
   ]
  },
  {
   "cell_type": "markdown",
   "metadata": {},
   "source": [
    "**MongoDB Example**\n",
    "- Create a document styple data in MongoDB\n",
    "  - example: reinsurance treaty by reinsurer/year/treaty type        \n",
    "- Create a document style data in MongoDB from Json API format\n",
    "  - example: realtime stock price and realtime sector data        \n",
    "- Read Twitter data into MongoDB  \n",
    "  - example : read twitter page about what type of insurance people are interesting buying"
   ]
  },
  {
   "cell_type": "markdown",
   "metadata": {},
   "source": [
    "**Making a Connection with MongoClient**\n",
    "-  Below link is an introduction tutorial to working with MongoDB and PyMongo\n",
    "-  ref: http://api.mongodb.com/python/current/tutorial.html"
   ]
  },
  {
   "cell_type": "code",
   "execution_count": 4,
   "metadata": {},
   "outputs": [],
   "source": [
    "# Making a Connection with MongoClient\n",
    "# Import pymongo\n",
    "import pymongo\n",
    "\n",
    "# The first step when working with PyMongo is to create a MongoClient to the running mongod instance\n",
    "from pymongo import MongoClient\n",
    "\n",
    "# Connect on the default host and port.\n",
    "client = MongoClient()\n",
    "\n",
    "# We can also specify the host and port explicitly\n",
    "client = MongoClient('localhost', 27017)"
   ]
  },
  {
   "cell_type": "markdown",
   "metadata": {},
   "source": [
    "**Getting a Database**\n",
    "- A single instance of MongoDB can support multiple independent databases.\n",
    "- When working with PyMongo you access databases using attribute style access on MongoClient instances.\n",
    "- Database name can not use attribute style access (ie. test-data), but \"test_data\" is okay"
   ]
  },
  {
   "cell_type": "code",
   "execution_count": 5,
   "metadata": {},
   "outputs": [
    {
     "data": {
      "text/plain": [
       "Collection(Database(MongoClient(host=['localhost:27017'], document_class=dict, tz_aware=False, connect=True), 'test_database'), 'test_collection')"
      ]
     },
     "execution_count": 5,
     "metadata": {},
     "output_type": "execute_result"
    }
   ],
   "source": [
    "# Set up a collection name \"test_database\" in MongoDB\n",
    "db = client.test_database\n",
    "\n",
    "collection = db.test_collection\n",
    "\n",
    "collection"
   ]
  },
  {
   "cell_type": "markdown",
   "metadata": {},
   "source": [
    "#### **Document - example: reinsurance treaty by reinsurer/year/treaty type**\n",
    "- Data in MongoDB is represented (and stored) using JSON-style documents. \n",
    "- In PyMongo we use dictionaries to represent documents.\n",
    "- As an example, the following dictionary might be used to represent a reinsurance treaty type by reinsurer and year.\n",
    "- Documents can contain native Python types (like datetime.datetime instances) which will be automatically converted to and from the appropriate BSON types."
   ]
  },
  {
   "cell_type": "code",
   "execution_count": 6,
   "metadata": {},
   "outputs": [],
   "source": [
    "import datetime\n",
    "treaty = {\"reinsurer\": \"AIG\",\n",
    "        \"treaty\": \"XOL layer\",\n",
    "        \"tags\": [\"reinsurer\", \"treaty\", \"year\"],\n",
    "        \"date\": datetime.datetime.utcnow()}"
   ]
  },
  {
   "cell_type": "markdown",
   "metadata": {},
   "source": [
    "#### *Inserting a Document*\n",
    "- When a document is inserted a special key, \"_id\", is automatically added if the document doesn’t already contain an \"_id\" key.\n",
    "- The value of \"_id\" must be unique across the collection. insert_one() returns an instance of InsertOneResult. "
   ]
  },
  {
   "cell_type": "code",
   "execution_count": 7,
   "metadata": {},
   "outputs": [
    {
     "data": {
      "text/plain": [
       "ObjectId('5b80259a760df7342060e4b8')"
      ]
     },
     "execution_count": 7,
     "metadata": {},
     "output_type": "execute_result"
    }
   ],
   "source": [
    "# To insert a document into a collection we can use the insert_one() method:\n",
    "treaties = db.treaties\n",
    "treaty_id = treaties.insert_one(treaty).inserted_id\n",
    "treaty_id"
   ]
  },
  {
   "cell_type": "markdown",
   "metadata": {},
   "source": [
    "**After inserting the first document, the posts collection has actually been created on the server.**\n",
    "- We can verify this by listing all of the collections in our database:"
   ]
  },
  {
   "cell_type": "code",
   "execution_count": 8,
   "metadata": {},
   "outputs": [
    {
     "data": {
      "text/plain": [
       "['profiles', 'treaties', 'census', 'sector_data', 'stock_data']"
      ]
     },
     "execution_count": 8,
     "metadata": {},
     "output_type": "execute_result"
    }
   ],
   "source": [
    "db.list_collection_names()"
   ]
  },
  {
   "cell_type": "code",
   "execution_count": 9,
   "metadata": {},
   "outputs": [
    {
     "data": {
      "text/plain": [
       "ObjectId('5b80259e760df7342060e4b9')"
      ]
     },
     "execution_count": 9,
     "metadata": {},
     "output_type": "execute_result"
    }
   ],
   "source": [
    "treaty2 = {\"reinsurer\": \"Swiss Re\",\n",
    "        \"treaty\": \"Clash Layer\",\n",
    "        \"tags\": [\"reinsurer\", \"treaty\", \"year\"],\n",
    "        \"date\": datetime.datetime.utcnow()}\n",
    "\n",
    "treaty_id = treaties.insert_one(treaty2).inserted_id\n",
    "treaty_id"
   ]
  },
  {
   "cell_type": "code",
   "execution_count": 10,
   "metadata": {},
   "outputs": [
    {
     "data": {
      "text/plain": [
       "ObjectId('5b8025a2760df7342060e4ba')"
      ]
     },
     "execution_count": 10,
     "metadata": {},
     "output_type": "execute_result"
    }
   ],
   "source": [
    "treaty3 = {\"reinsurer\": \"Parter Re\",\n",
    "        \"treaty\": \"XOL 2nd Layer\",\n",
    "        \"tags\": [\"reinsurer\", \"treaty\", \"year\"],\n",
    "        \"date\": datetime.datetime.utcnow()}\n",
    "\n",
    "treaty_id = treaties.insert_one(treaty3).inserted_id\n",
    "treaty_id"
   ]
  },
  {
   "cell_type": "markdown",
   "metadata": {},
   "source": [
    "#### * Getting a Single Document With find_one()*\n",
    "- The most basic type of query that can be performed in MongoDB is find_one().\n",
    "- This method returns a single document matching a query (or None if there are no matches).\n",
    "- It is useful when you know there is only one matching document, or\n",
    "- are only interested in the first match. Here we use find_one() to get the first document from the posts collection:"
   ]
  },
  {
   "cell_type": "code",
   "execution_count": 11,
   "metadata": {},
   "outputs": [
    {
     "name": "stdout",
     "output_type": "stream",
     "text": [
      "{'_id': ObjectId('5b7ed794760df705188fc61f'),\n",
      " 'date': datetime.datetime(2018, 8, 23, 15, 49, 36, 898000),\n",
      " 'reinsurer': 'AIG',\n",
      " 'tags': ['reinsurer', 'treaty', 'year'],\n",
      " 'treaty': 'XOL layer'}\n"
     ]
    }
   ],
   "source": [
    "import pprint\n",
    "pprint.pprint(treaties.find_one())"
   ]
  },
  {
   "cell_type": "code",
   "execution_count": 12,
   "metadata": {},
   "outputs": [
    {
     "name": "stdout",
     "output_type": "stream",
     "text": [
      "{'_id': ObjectId('5b7ed794760df705188fc61f'),\n",
      " 'date': datetime.datetime(2018, 8, 23, 15, 49, 36, 898000),\n",
      " 'reinsurer': 'AIG',\n",
      " 'tags': ['reinsurer', 'treaty', 'year'],\n",
      " 'treaty': 'XOL layer'}\n"
     ]
    }
   ],
   "source": [
    "pprint.pprint(treaties.find_one({\"reinsurer\": \"AIG\"}))"
   ]
  },
  {
   "cell_type": "code",
   "execution_count": 13,
   "metadata": {},
   "outputs": [
    {
     "name": "stdout",
     "output_type": "stream",
     "text": [
      "None\n"
     ]
    }
   ],
   "source": [
    "pprint.pprint(treaties.find_one({\"reinsurer\": \"ACE\"}))"
   ]
  },
  {
   "cell_type": "markdown",
   "metadata": {},
   "source": [
    "#### * Querying By ObjectId*\n",
    "- We can also find a post by its _id, which in our example is an ObjectId:"
   ]
  },
  {
   "cell_type": "code",
   "execution_count": 14,
   "metadata": {},
   "outputs": [
    {
     "data": {
      "text/plain": [
       "ObjectId('5b8025a2760df7342060e4ba')"
      ]
     },
     "execution_count": 14,
     "metadata": {},
     "output_type": "execute_result"
    }
   ],
   "source": [
    "treaty_id  ##output is an object"
   ]
  },
  {
   "cell_type": "code",
   "execution_count": 15,
   "metadata": {},
   "outputs": [
    {
     "name": "stdout",
     "output_type": "stream",
     "text": [
      "{'_id': ObjectId('5b8025a2760df7342060e4ba'),\n",
      " 'date': datetime.datetime(2018, 8, 24, 15, 34, 58, 292000),\n",
      " 'reinsurer': 'Parter Re',\n",
      " 'tags': ['reinsurer', 'treaty', 'year'],\n",
      " 'treaty': 'XOL 2nd Layer'}\n"
     ]
    }
   ],
   "source": [
    "pprint.pprint(treaties.find_one({\"_id\": treaty_id}))"
   ]
  },
  {
   "cell_type": "markdown",
   "metadata": {},
   "source": [
    "#### * Note that an ObjectId is not the same as its string representation:*"
   ]
  },
  {
   "cell_type": "code",
   "execution_count": 16,
   "metadata": {},
   "outputs": [
    {
     "data": {
      "text/plain": [
       "'5b8025a2760df7342060e4ba'"
      ]
     },
     "execution_count": 16,
     "metadata": {},
     "output_type": "execute_result"
    }
   ],
   "source": [
    "treaty_id_as_str = str(treaty_id)\n",
    "treaty_id_as_str  ## output is a string"
   ]
  },
  {
   "cell_type": "code",
   "execution_count": 17,
   "metadata": {},
   "outputs": [],
   "source": [
    "treaties.find_one({\"_id\": treaty_id_as_str}) # No result"
   ]
  },
  {
   "cell_type": "markdown",
   "metadata": {},
   "source": [
    "**Bulk Inserts**\n",
    "- we can also perform bulk insert operations, by passing a list as the first argument to insert_many(). \n",
    "- This will insert each document in the list, sending only a single command to the server.\n",
    "- New_treaty has a different “shape” than the other posts - there is no \"tags\" field and we’ve added a new field, \"title\".\n",
    "- This is what we mean when we say that MongoDB is schema-free."
   ]
  },
  {
   "cell_type": "code",
   "execution_count": 18,
   "metadata": {},
   "outputs": [
    {
     "data": {
      "text/plain": [
       "[ObjectId('5b8025b7760df7342060e4bb'), ObjectId('5b8025b7760df7342060e4bc')]"
      ]
     },
     "execution_count": 18,
     "metadata": {},
     "output_type": "execute_result"
    }
   ],
   "source": [
    "# new_treaty has a different “shape” than the other posts \n",
    "# there is no \"tags\" field and we’ve added a new field, \"retenion\". \n",
    "\n",
    "new_treaty = [{\"reinsurer\": \"AIG\",\n",
    "              \"treaty\": \"XOL Layer 2018\",\n",
    "              \"tags\": [\"bulk\", \"insert\"],\n",
    "              \"date\": datetime.datetime(2018, 11, 12, 11, 14)},\n",
    "              {\"reinsurer\": \"Munich Re\",\n",
    "               \"treaty\": \"QS 2018\",\n",
    "               \"retenion\": \"QS 20% for US business\",\n",
    "               \"date\": datetime.datetime(2018, 11, 10, 10, 45)}]\n",
    "\n",
    "result = treaties.insert_many(new_treaty)\n",
    "result.inserted_ids"
   ]
  },
  {
   "cell_type": "markdown",
   "metadata": {},
   "source": [
    "*The result from insert_many() now returns two ObjectId instances, one for each inserted document.*"
   ]
  },
  {
   "cell_type": "markdown",
   "metadata": {},
   "source": [
    "**Query data**\n",
    "- use find()\n",
    "- use find_one()"
   ]
  },
  {
   "cell_type": "code",
   "execution_count": 19,
   "metadata": {},
   "outputs": [
    {
     "name": "stdout",
     "output_type": "stream",
     "text": [
      "{'_id': ObjectId('5b7ed794760df705188fc61f'),\n",
      " 'date': datetime.datetime(2018, 8, 23, 15, 49, 36, 898000),\n",
      " 'reinsurer': 'AIG',\n",
      " 'tags': ['reinsurer', 'treaty', 'year'],\n",
      " 'treaty': 'XOL layer'}\n",
      "{'_id': ObjectId('5b7ed797760df705188fc620'),\n",
      " 'date': datetime.datetime(2018, 8, 23, 15, 49, 43, 818000),\n",
      " 'reinsurer': 'Swiss Re',\n",
      " 'tags': ['reinsurer', 'treaty', 'year'],\n",
      " 'treaty': 'Clash Layer'}\n",
      "{'_id': ObjectId('5b7ed79a760df705188fc621'),\n",
      " 'date': datetime.datetime(2018, 8, 23, 15, 49, 46, 797000),\n",
      " 'reinsurer': 'Parter Re',\n",
      " 'tags': ['reinsurer', 'treaty', 'year'],\n",
      " 'treaty': 'XOL 2nd Layer'}\n",
      "{'_id': ObjectId('5b7ed7ad760df705188fc622'),\n",
      " 'date': datetime.datetime(2018, 11, 12, 11, 14),\n",
      " 'reinsurer': 'AIG',\n",
      " 'tags': ['bulk', 'insert'],\n",
      " 'treaty': 'XOL Layer 2018'}\n",
      "{'_id': ObjectId('5b7ed7ad760df705188fc623'),\n",
      " 'date': datetime.datetime(2018, 11, 10, 10, 45),\n",
      " 'reinsurer': 'Munich Re',\n",
      " 'retenion': 'QS 20% for US business',\n",
      " 'treaty': 'QS 2018'}\n",
      "{'_id': ObjectId('5b80259a760df7342060e4b8'),\n",
      " 'date': datetime.datetime(2018, 8, 24, 15, 34, 47, 804000),\n",
      " 'reinsurer': 'AIG',\n",
      " 'tags': ['reinsurer', 'treaty', 'year'],\n",
      " 'treaty': 'XOL layer'}\n",
      "{'_id': ObjectId('5b80259e760df7342060e4b9'),\n",
      " 'date': datetime.datetime(2018, 8, 24, 15, 34, 54, 896000),\n",
      " 'reinsurer': 'Swiss Re',\n",
      " 'tags': ['reinsurer', 'treaty', 'year'],\n",
      " 'treaty': 'Clash Layer'}\n",
      "{'_id': ObjectId('5b8025a2760df7342060e4ba'),\n",
      " 'date': datetime.datetime(2018, 8, 24, 15, 34, 58, 292000),\n",
      " 'reinsurer': 'Parter Re',\n",
      " 'tags': ['reinsurer', 'treaty', 'year'],\n",
      " 'treaty': 'XOL 2nd Layer'}\n",
      "{'_id': ObjectId('5b8025b7760df7342060e4bb'),\n",
      " 'date': datetime.datetime(2018, 11, 12, 11, 14),\n",
      " 'reinsurer': 'AIG',\n",
      " 'tags': ['bulk', 'insert'],\n",
      " 'treaty': 'XOL Layer 2018'}\n",
      "{'_id': ObjectId('5b8025b7760df7342060e4bc'),\n",
      " 'date': datetime.datetime(2018, 11, 10, 10, 45),\n",
      " 'reinsurer': 'Munich Re',\n",
      " 'retenion': 'QS 20% for US business',\n",
      " 'treaty': 'QS 2018'}\n"
     ]
    }
   ],
   "source": [
    "for treaty in treaties.find():\n",
    "     pprint.pprint(treaty)"
   ]
  },
  {
   "cell_type": "code",
   "execution_count": 20,
   "metadata": {},
   "outputs": [
    {
     "name": "stdout",
     "output_type": "stream",
     "text": [
      "{'_id': ObjectId('5b7ed794760df705188fc61f'),\n",
      " 'date': datetime.datetime(2018, 8, 23, 15, 49, 36, 898000),\n",
      " 'reinsurer': 'AIG',\n",
      " 'tags': ['reinsurer', 'treaty', 'year'],\n",
      " 'treaty': 'XOL layer'}\n",
      "{'_id': ObjectId('5b7ed7ad760df705188fc622'),\n",
      " 'date': datetime.datetime(2018, 11, 12, 11, 14),\n",
      " 'reinsurer': 'AIG',\n",
      " 'tags': ['bulk', 'insert'],\n",
      " 'treaty': 'XOL Layer 2018'}\n",
      "{'_id': ObjectId('5b80259a760df7342060e4b8'),\n",
      " 'date': datetime.datetime(2018, 8, 24, 15, 34, 47, 804000),\n",
      " 'reinsurer': 'AIG',\n",
      " 'tags': ['reinsurer', 'treaty', 'year'],\n",
      " 'treaty': 'XOL layer'}\n",
      "{'_id': ObjectId('5b8025b7760df7342060e4bb'),\n",
      " 'date': datetime.datetime(2018, 11, 12, 11, 14),\n",
      " 'reinsurer': 'AIG',\n",
      " 'tags': ['bulk', 'insert'],\n",
      " 'treaty': 'XOL Layer 2018'}\n"
     ]
    }
   ],
   "source": [
    "# Use find() for query\n",
    "\n",
    "# Find all treaty in the collection\n",
    "# for treaty in treaties.find():\n",
    "#      pprint.pprint(treaty)\n",
    "\n",
    "# Find all reinsurer-AIG treaty:\n",
    "for treaty in treaties.find({\"reinsurer\": \"AIG\"}):\n",
    "    pprint.pprint(treaty)"
   ]
  },
  {
   "cell_type": "code",
   "execution_count": 21,
   "metadata": {},
   "outputs": [
    {
     "name": "stdout",
     "output_type": "stream",
     "text": [
      "{'_id': ObjectId('5b7ed794760df705188fc61f'),\n",
      " 'date': datetime.datetime(2018, 8, 23, 15, 49, 36, 898000),\n",
      " 'reinsurer': 'AIG',\n",
      " 'tags': ['reinsurer', 'treaty', 'year'],\n",
      " 'treaty': 'XOL layer'}\n"
     ]
    }
   ],
   "source": [
    "# Find one reinsurer-AIG treaty:\n",
    "pprint.pprint(treaties.find_one({\"reinsurer\": \"AIG\"}))"
   ]
  },
  {
   "cell_type": "markdown",
   "metadata": {},
   "source": [
    "#### * Counting*\n",
    "- If we just want to know how many documents match a query we can perform a count() operation instead of a full query.\n",
    "- We can get a count of all of the documents in a collection:"
   ]
  },
  {
   "cell_type": "code",
   "execution_count": 22,
   "metadata": {},
   "outputs": [
    {
     "data": {
      "text/plain": [
       "4"
      ]
     },
     "execution_count": 22,
     "metadata": {},
     "output_type": "execute_result"
    },
    {
     "data": {
      "text/plain": [
       "10"
      ]
     },
     "execution_count": 22,
     "metadata": {},
     "output_type": "execute_result"
    }
   ],
   "source": [
    "# How many AIG treaty?\n",
    "treaties.count_documents(\n",
    "  filter={\"reinsurer\": \"AIG\"} \n",
    ")\n",
    "\n",
    "\n",
    "# How many treaties?\n",
    "treaties.count_documents(\n",
    "  filter={} \n",
    ")"
   ]
  },
  {
   "cell_type": "markdown",
   "metadata": {},
   "source": [
    "** Range Queries**\n",
    "- MongoDB supports many different types of advanced queries.\n",
    "- As an example, lets perform a query where we limit results to treaties older than a certain date, but also sort the results by reinsurers"
   ]
  },
  {
   "cell_type": "code",
   "execution_count": 23,
   "metadata": {},
   "outputs": [
    {
     "name": "stdout",
     "output_type": "stream",
     "text": [
      "{'_id': ObjectId('5b7ed794760df705188fc61f'),\n",
      " 'date': datetime.datetime(2018, 8, 23, 15, 49, 36, 898000),\n",
      " 'reinsurer': 'AIG',\n",
      " 'tags': ['reinsurer', 'treaty', 'year'],\n",
      " 'treaty': 'XOL layer'}\n",
      "{'_id': ObjectId('5b7ed7ad760df705188fc622'),\n",
      " 'date': datetime.datetime(2018, 11, 12, 11, 14),\n",
      " 'reinsurer': 'AIG',\n",
      " 'tags': ['bulk', 'insert'],\n",
      " 'treaty': 'XOL Layer 2018'}\n",
      "{'_id': ObjectId('5b80259a760df7342060e4b8'),\n",
      " 'date': datetime.datetime(2018, 8, 24, 15, 34, 47, 804000),\n",
      " 'reinsurer': 'AIG',\n",
      " 'tags': ['reinsurer', 'treaty', 'year'],\n",
      " 'treaty': 'XOL layer'}\n",
      "{'_id': ObjectId('5b8025b7760df7342060e4bb'),\n",
      " 'date': datetime.datetime(2018, 11, 12, 11, 14),\n",
      " 'reinsurer': 'AIG',\n",
      " 'tags': ['bulk', 'insert'],\n",
      " 'treaty': 'XOL Layer 2018'}\n",
      "{'_id': ObjectId('5b7ed7ad760df705188fc623'),\n",
      " 'date': datetime.datetime(2018, 11, 10, 10, 45),\n",
      " 'reinsurer': 'Munich Re',\n",
      " 'retenion': 'QS 20% for US business',\n",
      " 'treaty': 'QS 2018'}\n",
      "{'_id': ObjectId('5b8025b7760df7342060e4bc'),\n",
      " 'date': datetime.datetime(2018, 11, 10, 10, 45),\n",
      " 'reinsurer': 'Munich Re',\n",
      " 'retenion': 'QS 20% for US business',\n",
      " 'treaty': 'QS 2018'}\n",
      "{'_id': ObjectId('5b7ed79a760df705188fc621'),\n",
      " 'date': datetime.datetime(2018, 8, 23, 15, 49, 46, 797000),\n",
      " 'reinsurer': 'Parter Re',\n",
      " 'tags': ['reinsurer', 'treaty', 'year'],\n",
      " 'treaty': 'XOL 2nd Layer'}\n",
      "{'_id': ObjectId('5b8025a2760df7342060e4ba'),\n",
      " 'date': datetime.datetime(2018, 8, 24, 15, 34, 58, 292000),\n",
      " 'reinsurer': 'Parter Re',\n",
      " 'tags': ['reinsurer', 'treaty', 'year'],\n",
      " 'treaty': 'XOL 2nd Layer'}\n",
      "{'_id': ObjectId('5b7ed797760df705188fc620'),\n",
      " 'date': datetime.datetime(2018, 8, 23, 15, 49, 43, 818000),\n",
      " 'reinsurer': 'Swiss Re',\n",
      " 'tags': ['reinsurer', 'treaty', 'year'],\n",
      " 'treaty': 'Clash Layer'}\n",
      "{'_id': ObjectId('5b80259e760df7342060e4b9'),\n",
      " 'date': datetime.datetime(2018, 8, 24, 15, 34, 54, 896000),\n",
      " 'reinsurer': 'Swiss Re',\n",
      " 'tags': ['reinsurer', 'treaty', 'year'],\n",
      " 'treaty': 'Clash Layer'}\n"
     ]
    }
   ],
   "source": [
    "d = datetime.datetime(2018, 11, 12, 12)\n",
    "for treaty in treaties.find({\"date\": {\"$lt\": d}}).sort(\"reinsurer\"):\n",
    "    pprint.pprint(treaty)"
   ]
  },
  {
   "cell_type": "markdown",
   "metadata": {},
   "source": [
    "#### * Indexing*\n",
    "- Adding indexes can help accelerate certain queries and can also add additional functionality to querying and storing documents.\n",
    "- In this example, we’ll demonstrate how to create a unique index on a key that rejects documents whose value for that key already exists in the index.\n",
    "- First, we’ll need to create the index:"
   ]
  },
  {
   "cell_type": "code",
   "execution_count": 24,
   "metadata": {},
   "outputs": [
    {
     "data": {
      "text/plain": [
       "['_id_', 'reinsurer_id_1']"
      ]
     },
     "execution_count": 24,
     "metadata": {},
     "output_type": "execute_result"
    }
   ],
   "source": [
    " result = db.profiles.create_index([('reinsurer_id', pymongo.ASCENDING)],\n",
    "                                  unique=True)\n",
    " sorted(list(db.profiles.index_information()))"
   ]
  },
  {
   "cell_type": "markdown",
   "metadata": {},
   "source": [
    "**Notice that we have two indexes now**\n",
    "- one is the index on _id that MongoDB creates automatically,\n",
    "- and the other is the index on reinsurer_id we just created."
   ]
  },
  {
   "cell_type": "code",
   "execution_count": 26,
   "metadata": {},
   "outputs": [],
   "source": [
    " # set up some user profiles\n",
    "    \n",
    " user_profiles = [\n",
    "     {'reinsurer_id': 278, 'reinsurer': 'Atlantic Re'},\n",
    "     {'reinsurer_id': 275, 'reinsurer': 'XL Re'}]\n",
    " result = db.profiles.insert_many(user_profiles)"
   ]
  },
  {
   "cell_type": "code",
   "execution_count": null,
   "metadata": {},
   "outputs": [],
   "source": [
    " # DuplicateKeyError: E11000 duplicate key error collection: test_database.profiles index: user_id_1 dup key: { : 235 }\n",
    " new_profile = {'user_id': 213, 'reinsurer': 'XL American'}\n",
    " duplicate_profile = {'user_id': 235, 'reinsurer': 'SCOR S.E'}\n",
    " result = db.profiles.insert_one(new_profile)  # This is fine.\n",
    " result = db.profiles.insert_one(duplicate_profile)"
   ]
  },
  {
   "cell_type": "markdown",
   "metadata": {},
   "source": [
    "**Create a document style data in MongoDB from Json API format**\n",
    "- example: realtime intraday MSFT stock price\n",
    "- example: realtime sector stock return "
   ]
  },
  {
   "cell_type": "code",
   "execution_count": 27,
   "metadata": {},
   "outputs": [],
   "source": [
    "realtime_stock_data={\n",
    "\"Meta Data\": {\n",
    "\"1 Information\": \"Intraday (5min) open, high, low, close prices and volume\",\n",
    "\"2 Symbol\": \"MSFT\",\n",
    "\"3 Last Refreshed\": \"2018-08-22 15:55:00\",\n",
    "\"4 Interval\": \"5min\",\n",
    "\"5 Output Size\": \"Compact\",\n",
    "\"6 Time Zone\": \"US/Eastern\"\n",
    "},\n",
    "\"Time Series (5min)\": {\n",
    "\"2018-08-22 15:55:00\": {\n",
    "\"1 open\": \"107.1500\",\n",
    "\"2 high\": \"107.2100\",\n",
    "\"3 low\": \"107.0500\",\n",
    "\"4 close\": \"107.0500\",\n",
    "\"5 volume\": \"970838\"\n",
    "}\n",
    "}\n",
    "}"
   ]
  },
  {
   "cell_type": "code",
   "execution_count": 28,
   "metadata": {},
   "outputs": [
    {
     "data": {
      "text/plain": [
       "ObjectId('5b8025e7760df7342060e4c1')"
      ]
     },
     "execution_count": 28,
     "metadata": {},
     "output_type": "execute_result"
    }
   ],
   "source": [
    "stock_data = db.stock_data\n",
    "stock_data_id = stock_data.insert_one(realtime_stock_data).inserted_id\n",
    "stock_data_id"
   ]
  },
  {
   "cell_type": "code",
   "execution_count": 29,
   "metadata": {},
   "outputs": [],
   "source": [
    "realtime_sector_data={\n",
    "    \"Meta Data\": {\n",
    "        \"Information\": \"US Sector Performance (realtime & historical)\",\n",
    "        \"Last Refreshed\": \"02:05 PM ET 08/23/2018\"\n",
    "    },\n",
    "    \"Rank A: Real-Time Performance\": {\n",
    "        \"Information Technology\": \"0.51%\",\n",
    "        \"Consumer Discretionary\": \"-0.04%\",\n",
    "        \"Utilities\": \"-0.11%\",\n",
    "        \"Telecommunication Services\": \"-0.13%\",\n",
    "        \"Health Care\": \"-0.20%\",\n",
    "        \"Real Estate\": \"-0.25%\",\n",
    "        \"Consumer Staples\": \"-0.27%\",\n",
    "        \"Industrials\": \"-0.48%\",\n",
    "        \"Financials\": \"-0.54%\",\n",
    "        \"Energy\": \"-0.57%\",\n",
    "        \"Materials\": \"-0.86%\"\n",
    "    },\n",
    "    \"Rank B: 1 Day Performance\": {\n",
    "        \"Energy\": \"1.20%\",\n",
    "        \"Information Technology\": \"0.48%\",\n",
    "        \"Consumer Discretionary\": \"0.12%\",\n",
    "        \"Health Care\": \"0.11%\",\n",
    "        \"Financials\": \"-0.26%\",\n",
    "        \"Materials\": \"-0.45%\",\n",
    "        \"Consumer Staples\": \"-0.63%\",\n",
    "        \"Real Estate\": \"-0.65%\",\n",
    "        \"Utilities\": \"-0.78%\",\n",
    "        \"Industrials\": \"-0.93%\",\n",
    "        \"Telecommunication Services\": \"-2.02%\"\n",
    "    },\n",
    "    \"Rank C: 5 Day Performance\": {\n",
    "        \"Energy\": \"3.27%\",\n",
    "        \"Industrials\": \"2.23%\",\n",
    "        \"Consumer Discretionary\": \"2.21%\",\n",
    "        \"Materials\": \"2.02%\",\n",
    "        \"Financials\": \"1.93%\",\n",
    "        \"Health Care\": \"1.71%\",\n",
    "        \"Telecommunication Services\": \"1.09%\",\n",
    "        \"Information Technology\": \"0.84%\",\n",
    "        \"Consumer Staples\": \"0.76%\",\n",
    "        \"Real Estate\": \"0.16%\",\n",
    "        \"Utilities\": \"-0.35%\"\n",
    "    },\n",
    "    \"Rank D: 1 Month Performance\": {\n",
    "        \"Telecommunication Services\": \"6.53%\",\n",
    "        \"Health Care\": \"5.38%\",\n",
    "        \"Industrials\": \"2.75%\",\n",
    "        \"Real Estate\": \"2.62%\",\n",
    "        \"Consumer Staples\": \"2.57%\",\n",
    "        \"Financials\": \"2.45%\",\n",
    "        \"Utilities\": \"1.92%\",\n",
    "        \"Consumer Discretionary\": \"1.90%\",\n",
    "        \"Materials\": \"0.90%\",\n",
    "        \"Information Technology\": \"0.57%\",\n",
    "        \"Energy\": \"-1.17%\"\n",
    "    },\n",
    "    \"Rank E: 3 Month Performance\": {\n",
    "        \"Health Care\": \"9.80%\",\n",
    "        \"Consumer Staples\": \"9.18%\",\n",
    "        \"Utilities\": \"8.72%\",\n",
    "        \"Consumer Discretionary\": \"8.41%\",\n",
    "        \"Real Estate\": \"8.28%\",\n",
    "        \"Telecommunication Services\": \"6.02%\",\n",
    "        \"Information Technology\": \"5.55%\",\n",
    "        \"Financials\": \"0.49%\",\n",
    "        \"Industrials\": \"0.15%\",\n",
    "        \"Materials\": \"-2.15%\",\n",
    "        \"Energy\": \"-5.60%\"\n",
    "    },\n",
    "    \"Rank F: Year-to-Date (YTD) Performance\": {\n",
    "        \"Information Technology\": \"16.10%\",\n",
    "        \"Consumer Discretionary\": \"15.79%\",\n",
    "        \"Health Care\": \"10.55%\",\n",
    "        \"Energy\": \"2.53%\",\n",
    "        \"Financials\": \"1.05%\",\n",
    "        \"Utilities\": \"1.04%\",\n",
    "        \"Real Estate\": \"0.96%\",\n",
    "        \"Industrials\": \"0.75%\",\n",
    "        \"Materials\": \"-2.75%\",\n",
    "        \"Consumer Staples\": \"-5.33%\",\n",
    "        \"Telecommunication Services\": \"-6.21%\"\n",
    "    },\n",
    "    \"Rank G: 1 Year Performance\": {\n",
    "        \"Information Technology\": \"31.09%\",\n",
    "        \"Consumer Discretionary\": \"29.36%\",\n",
    "        \"Energy\": \"20.32%\",\n",
    "        \"Health Care\": \"16.84%\",\n",
    "        \"Financials\": \"15.29%\",\n",
    "        \"Industrials\": \"12.18%\",\n",
    "        \"Materials\": \"9.50%\",\n",
    "        \"Real Estate\": \"3.09%\",\n",
    "        \"Telecommunication Services\": \"-0.85%\",\n",
    "        \"Utilities\": \"-2.24%\",\n",
    "        \"Consumer Staples\": \"-2.32%\"\n",
    "    },\n",
    "    \"Rank H: 3 Year Performance\": {\n",
    "        \"Information Technology\": \"95.67%\",\n",
    "        \"Consumer Discretionary\": \"54.45%\",\n",
    "        \"Financials\": \"46.80%\",\n",
    "        \"Industrials\": \"45.21%\",\n",
    "        \"Materials\": \"36.15%\",\n",
    "        \"Health Care\": \"27.81%\",\n",
    "        \"Utilities\": \"18.65%\",\n",
    "        \"Energy\": \"18.31%\",\n",
    "        \"Consumer Staples\": \"13.63%\",\n",
    "        \"Telecommunication Services\": \"5.73%\"\n",
    "    },\n",
    "    \"Rank I: 5 Year Performance\": {\n",
    "        \"Information Technology\": \"151.29%\",\n",
    "        \"Consumer Discretionary\": \"98.24%\",\n",
    "        \"Health Care\": \"85.23%\",\n",
    "        \"Financials\": \"75.87%\",\n",
    "        \"Industrials\": \"67.23%\",\n",
    "        \"Materials\": \"45.10%\",\n",
    "        \"Utilities\": \"43.92%\",\n",
    "        \"Consumer Staples\": \"35.93%\",\n",
    "        \"Telecommunication Services\": \"4.47%\",\n",
    "        \"Energy\": \"-6.33%\"\n",
    "    },\n",
    "    \"Rank J: 10 Year Performance\": {\n",
    "        \"Consumer Discretionary\": \"284.77%\",\n",
    "        \"Information Technology\": \"252.24%\",\n",
    "        \"Health Care\": \"176.38%\",\n",
    "        \"Industrials\": \"107.68%\",\n",
    "        \"Consumer Staples\": \"90.16%\",\n",
    "        \"Financials\": \"74.45%\",\n",
    "        \"Materials\": \"50.53%\",\n",
    "        \"Utilities\": \"41.62%\",\n",
    "        \"Telecommunication Services\": \"21.26%\",\n",
    "        \"Energy\": \"-3.80%\"\n",
    "    }\n",
    "}"
   ]
  },
  {
   "cell_type": "code",
   "execution_count": 30,
   "metadata": {},
   "outputs": [
    {
     "data": {
      "text/plain": [
       "ObjectId('5b8025ef760df7342060e4c2')"
      ]
     },
     "execution_count": 30,
     "metadata": {},
     "output_type": "execute_result"
    }
   ],
   "source": [
    "sector_data = db.sector_data\n",
    "sector_data_id = sector_data.insert_one(realtime_sector_data).inserted_id\n",
    "sector_data_id"
   ]
  },
  {
   "cell_type": "markdown",
   "metadata": {},
   "source": [
    "**Collect data from Twitter into MongoDB**\n",
    "- ref:  http://pythondata.com/collecting-storing-tweets-with-python-and-mongodb/"
   ]
  },
  {
   "cell_type": "code",
   "execution_count": null,
   "metadata": {},
   "outputs": [
    {
     "name": "stdout",
     "output_type": "stream",
     "text": [
      "Tracking: ['#insurance', '#AI', '#datascience', '#machinelearning', '#auto', '#reinsurance']\n",
      "You are now connected to the streaming API.\n",
      "Tweet collected at Fri Aug 24 15:36:42 +0000 2018\n"
     ]
    },
    {
     "name": "stderr",
     "output_type": "stream",
     "text": [
      "C:\\apps\\python36\\python-3.6.3.amd64\\lib\\site-packages\\ipykernel_launcher.py:48: DeprecationWarning: insert is deprecated. Use insert_one or insert_many instead.\n"
     ]
    },
    {
     "name": "stdout",
     "output_type": "stream",
     "text": [
      "Tweet collected at Fri Aug 24 15:36:43 +0000 2018\n",
      "Tweet collected at Fri Aug 24 15:36:43 +0000 2018\n",
      "Tweet collected at Fri Aug 24 15:36:44 +0000 2018\n",
      "Tweet collected at Fri Aug 24 15:36:45 +0000 2018\n",
      "Tweet collected at Fri Aug 24 15:36:49 +0000 2018\n",
      "Tweet collected at Fri Aug 24 15:36:50 +0000 2018\n",
      "Tweet collected at Fri Aug 24 15:36:51 +0000 2018\n",
      "Tweet collected at Fri Aug 24 15:36:51 +0000 2018\n"
     ]
    }
   ],
   "source": [
    "from __future__ import print_function\n",
    "import tweepy\n",
    "import json\n",
    "from pymongo import MongoClient\n",
    " \n",
    "MONGO_HOST= 'mongodb://localhost/twitterdb'  # assuming you have mongoDB installed locally\n",
    "                                             # and a database called 'twitterdb'\n",
    " \n",
    "WORDS = ['#insurance', '#AI', '#datascience', '#machinelearning', '#auto', '#reinsurance']\n",
    " \n",
    "CONSUMER_KEY = %env TWITTER_CONSUMER_KEY\n",
    "CONSUMER_SECRET = %env TWITTER_CONSUMER_SECRET\n",
    "ACCESS_TOKEN =%env TWITTER_ACCESS_TOKEN\n",
    "ACCESS_TOKEN_SECRET = %env TWITTER_ACCESS_TOKEN_SECRET\n",
    "\n",
    " \n",
    " \n",
    "class StreamListener(tweepy.StreamListener):    \n",
    "    #This is a class provided by tweepy to access the Twitter Streaming API. \n",
    " \n",
    "    def on_connect(self):\n",
    "        # Called initially to connect to the Streaming API\n",
    "        print(\"You are now connected to the streaming API.\")\n",
    " \n",
    "    def on_error(self, status_code):\n",
    "        # On error - if an error occurs, display the error / status code\n",
    "        print('An Error has occured: ' + repr(status_code))\n",
    "        return False\n",
    " \n",
    "    def on_data(self, data):\n",
    "        #This is the meat of the script...it connects to your mongoDB and stores the tweet\n",
    "        try:\n",
    "            client = MongoClient(MONGO_HOST)\n",
    "            \n",
    "            # Use twitterdb database. If it doesn't exist, it will be created.\n",
    "            db = client.twitterdb\n",
    "    \n",
    "            # Decode the JSON from Twitter\n",
    "            datajson = json.loads(data)\n",
    "            \n",
    "            #grab the 'created_at' data from the Tweet to use for display\n",
    "            created_at = datajson['created_at']\n",
    " \n",
    "            #print out a message to the screen that we have collected a tweet\n",
    "            print(\"Tweet collected at \" + str(created_at))\n",
    "            \n",
    "            #insert the data into the mongoDB into a collection called twitter_search\n",
    "            #if twitter_search doesn't exist, it will be created.\n",
    "            db.twitter_search.insert(datajson)\n",
    "        except Exception as e:\n",
    "           print(e)\n",
    " \n",
    "auth = tweepy.OAuthHandler(CONSUMER_KEY, CONSUMER_SECRET)\n",
    "auth.set_access_token(ACCESS_TOKEN, ACCESS_TOKEN_SECRET)\n",
    "#Set up the listener. The 'wait_on_rate_limit=True' is needed to help with Twitter API rate limiting.\n",
    "listener = StreamListener(api=tweepy.API(wait_on_rate_limit=True)) \n",
    "streamer = tweepy.Stream(auth=auth, listener=listener)\n",
    "print(\"Tracking: \" + str(WORDS))\n",
    "streamer.filter(track=WORDS)\n",
    "\n",
    "  "
   ]
  }
 ],
 "metadata": {
  "kernelspec": {
   "display_name": "Python 3",
   "language": "python",
   "name": "python3"
  },
  "language_info": {
   "codemirror_mode": {
    "name": "ipython",
    "version": 3
   },
   "file_extension": ".py",
   "mimetype": "text/x-python",
   "name": "python",
   "nbconvert_exporter": "python",
   "pygments_lexer": "ipython3",
   "version": "3.6.3"
  }
 },
 "nbformat": 4,
 "nbformat_minor": 2
}
