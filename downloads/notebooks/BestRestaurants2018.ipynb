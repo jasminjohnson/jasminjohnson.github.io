{
 "cells": [
  {
   "cell_type": "code",
   "execution_count": 1,
   "metadata": {
    "_cell_guid": "b1076dfc-b9ad-4769-8c92-a6c4dae69d19",
    "_uuid": "8f2839f25d086af736a60e9eeb907d3b93b6e0e5"
   },
   "outputs": [
    {
     "data": {
      "text/html": [
       "<script>requirejs.config({paths: { 'plotly': ['https://cdn.plot.ly/plotly-latest.min']},});if(!window.Plotly) {{require(['plotly'],function(plotly) {window.Plotly=plotly;});}}</script>"
      ],
      "text/vnd.plotly.v1+html": [
       "<script>requirejs.config({paths: { 'plotly': ['https://cdn.plot.ly/plotly-latest.min']},});if(!window.Plotly) {{require(['plotly'],function(plotly) {window.Plotly=plotly;});}}</script>"
      ]
     },
     "metadata": {},
     "output_type": "display_data"
    }
   ],
   "source": [
    "import numpy as np \n",
    "import pandas as pd \n",
    "import string\n",
    "from plotly.offline import init_notebook_mode, iplot\n",
    "from plotly.graph_objs import *\n",
    "init_notebook_mode(connected=True)\n",
    "import plotly.graph_objs as go\n",
    "import os\n",
    "import plotly.plotly as py\n",
    "\n"
   ]
  },
  {
   "cell_type": "markdown",
   "metadata": {},
   "source": [
    "# World 50 Best Restaurants 2018 location"
   ]
  },
  {
   "cell_type": "code",
   "execution_count": null,
   "metadata": {},
   "outputs": [],
   "source": [
    "<!-- PELICAN_BEGIN_SUMMARY -->\n",
    "Map world 50 best restaurants \n",
    "\n",
    "<!-- PELICAN_END_SUMMARY -->"
   ]
  },
  {
   "cell_type": "code",
   "execution_count": null,
   "metadata": {},
   "outputs": [],
   "source": [
    "<br>\n",
    "**Goals: How to interperate and visualize dataset?**\n",
    "<br> **Data Overview:**\n",
    "     - Group Data \n",
    "     - Map Data\n",
    "     - Visualize Data\n"
   ]
  },
  {
   "cell_type": "code",
   "execution_count": 2,
   "metadata": {},
   "outputs": [
    {
     "name": "stdout",
     "output_type": "stream",
     "text": [
      "['BestRestaurants2018.csv', 'BestRestaurants2018.xlsx', 'FastFoodRestaurants.csv', 'Test.xlsx', 'test1.csv', 'WorldBestRestaurants2018.csv', 'WorldBestRestaurants2018.xlsx', '~$WorldBestRestaurants2018.xlsx']\n"
     ]
    }
   ],
   "source": [
    "print(os.listdir(\"data/Restaurant\"))\n",
    "df = pd.read_excel('data/Restaurant/WorldBestRestaurants2018.xlsx')\n"
   ]
  },
  {
   "cell_type": "code",
   "execution_count": 3,
   "metadata": {
    "_uuid": "7675b5a2ea9af315180e056363d54730a74e7394"
   },
   "outputs": [
    {
     "data": {
      "text/html": [
       "<div>\n",
       "<style scoped>\n",
       "    .dataframe tbody tr th:only-of-type {\n",
       "        vertical-align: middle;\n",
       "    }\n",
       "\n",
       "    .dataframe tbody tr th {\n",
       "        vertical-align: top;\n",
       "    }\n",
       "\n",
       "    .dataframe thead th {\n",
       "        text-align: right;\n",
       "    }\n",
       "</style>\n",
       "<table border=\"1\" class=\"dataframe\">\n",
       "  <thead>\n",
       "    <tr style=\"text-align: right;\">\n",
       "      <th></th>\n",
       "      <th>Year</th>\n",
       "      <th>Ranking</th>\n",
       "      <th>Name</th>\n",
       "      <th>City</th>\n",
       "      <th>Country</th>\n",
       "      <th>Latitude</th>\n",
       "      <th>Longitude</th>\n",
       "      <th>Code</th>\n",
       "    </tr>\n",
       "  </thead>\n",
       "  <tbody>\n",
       "    <tr>\n",
       "      <th>0</th>\n",
       "      <td>2018</td>\n",
       "      <td>1</td>\n",
       "      <td>Osteria Francescana</td>\n",
       "      <td>Modena</td>\n",
       "      <td>Italy</td>\n",
       "      <td>44.6431</td>\n",
       "      <td>10.9341</td>\n",
       "      <td>ITA</td>\n",
       "    </tr>\n",
       "    <tr>\n",
       "      <th>1</th>\n",
       "      <td>2018</td>\n",
       "      <td>2</td>\n",
       "      <td>El Celler de Can Roca</td>\n",
       "      <td>Girona</td>\n",
       "      <td>Spain</td>\n",
       "      <td>41.9808</td>\n",
       "      <td>2.8187</td>\n",
       "      <td>ESP</td>\n",
       "    </tr>\n",
       "    <tr>\n",
       "      <th>2</th>\n",
       "      <td>2018</td>\n",
       "      <td>3</td>\n",
       "      <td>Mirazur</td>\n",
       "      <td>Menton</td>\n",
       "      <td>France</td>\n",
       "      <td>43.7747</td>\n",
       "      <td>7.5046</td>\n",
       "      <td>FRA</td>\n",
       "    </tr>\n",
       "    <tr>\n",
       "      <th>3</th>\n",
       "      <td>2018</td>\n",
       "      <td>4</td>\n",
       "      <td>Eleven Madison Park</td>\n",
       "      <td>New York</td>\n",
       "      <td>USA</td>\n",
       "      <td>40.7146</td>\n",
       "      <td>-74.0071</td>\n",
       "      <td>USA</td>\n",
       "    </tr>\n",
       "    <tr>\n",
       "      <th>4</th>\n",
       "      <td>2018</td>\n",
       "      <td>5</td>\n",
       "      <td>Gaggan</td>\n",
       "      <td>Bangkok</td>\n",
       "      <td>Thailand</td>\n",
       "      <td>13.7500</td>\n",
       "      <td>100.5160</td>\n",
       "      <td>THA</td>\n",
       "    </tr>\n",
       "  </tbody>\n",
       "</table>\n",
       "</div>"
      ],
      "text/plain": [
       "   Year  Ranking                   Name      City   Country  Latitude  \\\n",
       "0  2018        1    Osteria Francescana    Modena     Italy   44.6431   \n",
       "1  2018        2  El Celler de Can Roca    Girona     Spain   41.9808   \n",
       "2  2018        3                Mirazur    Menton    France   43.7747   \n",
       "3  2018        4    Eleven Madison Park  New York       USA   40.7146   \n",
       "4  2018        5                 Gaggan   Bangkok  Thailand   13.7500   \n",
       "\n",
       "   Longitude Code  \n",
       "0    10.9341  ITA  \n",
       "1     2.8187  ESP  \n",
       "2     7.5046  FRA  \n",
       "3   -74.0071  USA  \n",
       "4   100.5160  THA  "
      ]
     },
     "execution_count": 3,
     "metadata": {},
     "output_type": "execute_result"
    }
   ],
   "source": [
    "df.head()"
   ]
  },
  {
   "cell_type": "code",
   "execution_count": 4,
   "metadata": {
    "_uuid": "fe515316f1db503aba9b4f3aea8188187794981e"
   },
   "outputs": [
    {
     "name": "stdout",
     "output_type": "stream",
     "text": [
      "Total number of columns: 8\n",
      "Total number of rows: 50\n"
     ]
    }
   ],
   "source": [
    "print('Total number of columns:',df.shape[1])\n",
    "print('Total number of rows:',df.shape[0])"
   ]
  },
  {
   "cell_type": "code",
   "execution_count": 5,
   "metadata": {
    "_uuid": "7413f64c76bbd33ef25591d5e4b608ac5503ce05"
   },
   "outputs": [
    {
     "name": "stdout",
     "output_type": "stream",
     "text": [
      "countries are: ['Italy' 'Spain' 'France' 'USA' 'Thailand' 'Peru' 'Mexico' 'Austria'\n",
      " 'Russia' 'Japan' 'Denmark' 'Australia' 'China' 'Chile' 'Singapore'\n",
      " 'Brazil' 'UK' 'Norway' 'Germany' 'Turkey' 'Switzerland' 'Slovenia'\n",
      " 'South Africa']\n",
      "city: ['Modena' 'Girona' 'Menton' 'New York' 'Bangkok' 'Lima' 'Paris'\n",
      " 'San Sebastian' 'Axpe' 'Mexico City' 'Pocantico Hills' 'Vienna' 'Moscow'\n",
      " 'Alba' 'Tokyo' 'Barcelona' 'Copenhagen' 'Melbourne' 'Rubano' 'Shanghai'\n",
      " 'Santiago' 'Singapore' 'São Paulo' 'London' 'Chicago' 'Oslo'\n",
      " 'Castel di Sangro' 'Berlin' 'Larrabetzu' 'Istanbul' 'San Francisco'\n",
      " 'Fürstenau' 'Kobarid' 'Cape Town']\n"
     ]
    }
   ],
   "source": [
    "print('countries are:',df.Country.unique())\n",
    "print('city:',df.City.unique())"
   ]
  },
  {
   "cell_type": "code",
   "execution_count": 6,
   "metadata": {
    "_uuid": "902df47ebe39621a220bc33d5539b446992ec2d7"
   },
   "outputs": [
    {
     "data": {
      "text/plain": [
       "Boragó                              1\n",
       "Schloss Schauenstein                1\n",
       "Le Calandre                         1\n",
       "Reale                               1\n",
       "Central                             1\n",
       "Arpège                              1\n",
       "Eleven Madison Park                 1\n",
       "Nihonryori RyuGin                   1\n",
       "Alléno Paris au Pavillon Ledoyen    1\n",
       "Den                                 1\n",
       "Name: Name, dtype: int64"
      ]
     },
     "execution_count": 6,
     "metadata": {},
     "output_type": "execute_result"
    }
   ],
   "source": [
    "df.Name.value_counts()[:10]"
   ]
  },
  {
   "cell_type": "code",
   "execution_count": 7,
   "metadata": {},
   "outputs": [
    {
     "data": {
      "text/html": [
       "<iframe id=\"igraph\" scrolling=\"no\" style=\"border:none;\" seamless=\"seamless\" src=\"https://plot.ly/~jasmin.c.johnson/56.embed\" height=\"525px\" width=\"100%\"></iframe>"
      ],
      "text/plain": [
       "<plotly.tools.PlotlyDisplay object>"
      ]
     },
     "execution_count": 7,
     "metadata": {},
     "output_type": "execute_result"
    }
   ],
   "source": [
    "import plotly.plotly as py\n",
    "import pandas as pd\n",
    "\n",
    "data = [ dict(\n",
    "        type = 'choropleth',\n",
    "        locations = df['Code'],\n",
    "        z = df['Ranking'],\n",
    "        text = df['Country'],\n",
    "        colorscale = [[0,\"rgb(5, 10, 172)\"],[0.35,\"rgb(40, 60, 190)\"],[0.5,\"rgb(70, 100, 245)\"],\\\n",
    "            [0.6,\"rgb(90, 120, 245)\"],[0.7,\"rgb(106, 137, 247)\"],[1,\"rgb(220, 220, 220)\"]],\n",
    "        autocolorscale = False,\n",
    "        reversescale = True,\n",
    "        marker = dict(\n",
    "            line = dict (\n",
    "                color = 'rgb(180,180,180)',\n",
    "                width = 0.5\n",
    "            ) ),\n",
    "        colorbar = dict(\n",
    "            autotick = False,\n",
    "#             tickprefix = '$',\n",
    "            title = 'Ranking'),\n",
    "      ) ]\n",
    "\n",
    "layout = dict(\n",
    "    title = '2018 best restaurants',\n",
    "    geo = dict(\n",
    "        showframe = False,\n",
    "        showcoastlines = False,\n",
    "        projection = dict(\n",
    "            type = 'Mercator'\n",
    "        )\n",
    "    )\n",
    ")\n",
    "\n",
    "fig = dict( data=data, layout=layout )\n",
    "py.iplot( fig, validate=False, filename='d3-world-map' )"
   ]
  }
 ],
 "metadata": {
  "kernelspec": {
   "display_name": "Python 3",
   "language": "python",
   "name": "python3"
  },
  "language_info": {
   "codemirror_mode": {
    "name": "ipython",
    "version": 3
   },
   "file_extension": ".py",
   "mimetype": "text/x-python",
   "name": "python",
   "nbconvert_exporter": "python",
   "pygments_lexer": "ipython3",
   "version": "3.6.3"
  }
 },
 "nbformat": 4,
 "nbformat_minor": 1
}
