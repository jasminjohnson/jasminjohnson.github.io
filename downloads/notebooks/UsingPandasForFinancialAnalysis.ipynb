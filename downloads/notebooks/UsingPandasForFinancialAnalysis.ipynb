{
 "cells": [
  {
   "cell_type": "code",
   "execution_count": 4,
   "metadata": {},
   "outputs": [
    {
     "data": {
      "text/html": [
       "<style>.container { width:100% !important; }</style>"
      ],
      "text/plain": [
       "<IPython.core.display.HTML object>"
      ]
     },
     "metadata": {},
     "output_type": "display_data"
    }
   ],
   "source": [
    "from IPython.core.interactiveshell import InteractiveShell\n",
    "from IPython.core.display import display, HTML\n",
    "display(HTML(\"<style>.container { width:100% !important; }</style>\"))\n",
    "%matplotlib inline \n",
    "import matplotlib.pyplot as plt\n",
    "import pandas as pd\n"
   ]
  },
  {
   "cell_type": "code",
   "execution_count": null,
   "metadata": {},
   "outputs": [],
   "source": [
    "# Data Analysis With Python for Excel Users I - Import Excel File"
   ]
  },
  {
   "cell_type": "markdown",
   "metadata": {},
   "source": [
    "<!-- PELICAN_BEGIN_SUMMARY -->\n",
    "The goal of this post is to use Python to import Excel datasets, performing the financial analysis, and to show some Python implementations putting the code into practice. My hope is that this post will give accountants like myself another way to analyze huge datasets."
   ]
  },
  {
   "cell_type": "markdown",
   "metadata": {},
   "source": [
    "How to analyze large datasets with endless rows and columns from the dataset dump? how to use Python to extract the data and perform the meaningful analysis? How to visualize the financial analysis? Two examples illustrated here are in either csv or xlsx format since most likely that IS department would only provide the output data in either format.\n",
    "<!-- PELICAN_END_SUMMARY -->"
   ]
  },
  {
   "cell_type": "markdown",
   "metadata": {},
   "source": [
    "Here are two sample data files:\n",
    "- First sample data is \"2015 USA Census Data\" with 20000 rows and 150 columns from gov.org\n",
    "- Second sample data is \"10 stocks historical daily price from 1990-2011\" with 5473 rows and 11 columns"
   ]
  },
  {
   "cell_type": "markdown",
   "metadata": {},
   "source": [
    "** First Example - 2015 USA Census Data in Excel **"
   ]
  },
  {
   "cell_type": "markdown",
   "metadata": {},
   "source": [
    "*Python Pandas to Read Excel Files*"
   ]
  },
  {
   "cell_type": "code",
   "execution_count": 1,
   "metadata": {},
   "outputs": [
    {
     "data": {
      "text/html": [
       "<div>\n",
       "<style scoped>\n",
       "    .dataframe tbody tr th:only-of-type {\n",
       "        vertical-align: middle;\n",
       "    }\n",
       "\n",
       "    .dataframe tbody tr th {\n",
       "        vertical-align: top;\n",
       "    }\n",
       "\n",
       "    .dataframe thead th {\n",
       "        text-align: right;\n",
       "    }\n",
       "</style>\n",
       "<table border=\"1\" class=\"dataframe\">\n",
       "  <thead>\n",
       "    <tr style=\"text-align: right;\">\n",
       "      <th></th>\n",
       "      <th>STATEFIPS</th>\n",
       "      <th>STATE</th>\n",
       "      <th>zipcode</th>\n",
       "      <th>agi_stub</th>\n",
       "      <th>income1</th>\n",
       "      <th>income2</th>\n",
       "      <th>income3</th>\n",
       "      <th>income4</th>\n",
       "      <th>income5</th>\n",
       "      <th>income6</th>\n",
       "      <th>...</th>\n",
       "      <th>A10300</th>\n",
       "      <th>N85530</th>\n",
       "      <th>A85530</th>\n",
       "      <th>N85300</th>\n",
       "      <th>A85300</th>\n",
       "      <th>N11901</th>\n",
       "      <th>A11901</th>\n",
       "      <th>N11902</th>\n",
       "      <th>A11902</th>\n",
       "      <th>total</th>\n",
       "    </tr>\n",
       "  </thead>\n",
       "  <tbody>\n",
       "    <tr>\n",
       "      <th>0</th>\n",
       "      <td>1</td>\n",
       "      <td>New Hampshere</td>\n",
       "      <td>0</td>\n",
       "      <td>1</td>\n",
       "      <td>836320</td>\n",
       "      <td>481570</td>\n",
       "      <td>109790</td>\n",
       "      <td>233260</td>\n",
       "      <td>455560</td>\n",
       "      <td>1356760</td>\n",
       "      <td>...</td>\n",
       "      <td>328469</td>\n",
       "      <td>0</td>\n",
       "      <td>0</td>\n",
       "      <td>0</td>\n",
       "      <td>0</td>\n",
       "      <td>61920</td>\n",
       "      <td>48150</td>\n",
       "      <td>732670</td>\n",
       "      <td>1933120</td>\n",
       "      <td>1427680</td>\n",
       "    </tr>\n",
       "    <tr>\n",
       "      <th>1</th>\n",
       "      <td>1</td>\n",
       "      <td>New Yok</td>\n",
       "      <td>0</td>\n",
       "      <td>2</td>\n",
       "      <td>494830</td>\n",
       "      <td>206630</td>\n",
       "      <td>146250</td>\n",
       "      <td>129390</td>\n",
       "      <td>275920</td>\n",
       "      <td>1010990</td>\n",
       "      <td>...</td>\n",
       "      <td>965011</td>\n",
       "      <td>0</td>\n",
       "      <td>0</td>\n",
       "      <td>0</td>\n",
       "      <td>0</td>\n",
       "      <td>73720</td>\n",
       "      <td>107304</td>\n",
       "      <td>415410</td>\n",
       "      <td>1187403</td>\n",
       "      <td>847710</td>\n",
       "    </tr>\n",
       "    <tr>\n",
       "      <th>2</th>\n",
       "      <td>1</td>\n",
       "      <td>Floria</td>\n",
       "      <td>0</td>\n",
       "      <td>3</td>\n",
       "      <td>261250</td>\n",
       "      <td>80720</td>\n",
       "      <td>139280</td>\n",
       "      <td>36130</td>\n",
       "      <td>155100</td>\n",
       "      <td>583910</td>\n",
       "      <td>...</td>\n",
       "      <td>1333418</td>\n",
       "      <td>0</td>\n",
       "      <td>0</td>\n",
       "      <td>0</td>\n",
       "      <td>0</td>\n",
       "      <td>64200</td>\n",
       "      <td>139598</td>\n",
       "      <td>193030</td>\n",
       "      <td>536699</td>\n",
       "      <td>481250</td>\n",
       "    </tr>\n",
       "  </tbody>\n",
       "</table>\n",
       "<p>3 rows × 132 columns</p>\n",
       "</div>"
      ],
      "text/plain": [
       "   STATEFIPS          STATE zipcode  agi_stub  income1  income2  income3  \\\n",
       "0          1  New Hampshere       0         1   836320   481570   109790   \n",
       "1          1        New Yok       0         2   494830   206630   146250   \n",
       "2          1         Floria       0         3   261250    80720   139280   \n",
       "\n",
       "   income4  income5  income6   ...      A10300  N85530  A85530  N85300  \\\n",
       "0   233260   455560  1356760   ...      328469       0       0       0   \n",
       "1   129390   275920  1010990   ...      965011       0       0       0   \n",
       "2    36130   155100   583910   ...     1333418       0       0       0   \n",
       "\n",
       "   A85300  N11901  A11901  N11902   A11902    total  \n",
       "0       0   61920   48150  732670  1933120  1427680  \n",
       "1       0   73720  107304  415410  1187403   847710  \n",
       "2       0   64200  139598  193030   536699   481250  \n",
       "\n",
       "[3 rows x 132 columns]"
      ]
     },
     "execution_count": 1,
     "metadata": {},
     "output_type": "execute_result"
    }
   ],
   "source": [
    "# Import pandas to read Excel and head(3) to show the first 3 rows only\n",
    "import pandas as pd\n",
    "df = pd.read_excel('data/sample.xlsx')\n",
    "df.head(3)"
   ]
  },
  {
   "cell_type": "markdown",
   "metadata": {},
   "source": [
    "* scroll on the bottem of the table to view the whold table"
   ]
  },
  {
   "cell_type": "markdown",
   "metadata": {},
   "source": [
    "#### ** Two Commands in Python Pandas to Read Excel Files**\n",
    "** pd = pd.read_excel(“sample.xlsx”) or \n",
    " pd = pd.ExcelFile(‘sample.xlsx’) **\n",
    "\n",
    "- Both commands can read Excel file\n",
    "- Use Pandas Timeit to time how long does it take to run the reports\n",
    "- General speaking, ExcelFile command is faster\n"
   ]
  },
  {
   "cell_type": "code",
   "execution_count": 3,
   "metadata": {},
   "outputs": [
    {
     "name": "stdout",
     "output_type": "stream",
     "text": [
      "test_excelfile(): time=\n",
      "608 ms ± 14.1 ms per loop (mean ± std. dev. of 7 runs, 1 loop each)\n",
      "694 ms ± 6.98 ms per loop (mean ± std. dev. of 7 runs, 1 loop each)\n"
     ]
    }
   ],
   "source": [
    "def test_excelfile():\n",
    "    df = pd.ExcelFile('data/sample.xlsx')  # this code is faster...use panda timeit library to compare \n",
    "    \n",
    "def test_read_excel():\n",
    "    df = pd.read_excel(\"data/sample.xlsx\")\n",
    "\n",
    "print(\"test_excelfile(): time=\")\n",
    "%timeit test_excelfile()\n",
    "%timeit test_read_excel()"
   ]
  },
  {
   "cell_type": "markdown",
   "metadata": {},
   "source": [
    "#### *How to filter data in Python instead of in Excel?*\n",
    "- To show income from zipcode 35210\n",
    "- Now, you might have the impression that you can get the filter result in Excel. In this case it certainly is.\n",
    "- But I did this here because it demonstrates an approach that can scale to complicated datasets, and can provide the results in Python then save it to Excel file. "
   ]
  },
  {
   "cell_type": "code",
   "execution_count": 2,
   "metadata": {},
   "outputs": [
    {
     "data": {
      "text/html": [
       "<div>\n",
       "<style scoped>\n",
       "    .dataframe tbody tr th:only-of-type {\n",
       "        vertical-align: middle;\n",
       "    }\n",
       "\n",
       "    .dataframe tbody tr th {\n",
       "        vertical-align: top;\n",
       "    }\n",
       "\n",
       "    .dataframe thead th {\n",
       "        text-align: right;\n",
       "    }\n",
       "</style>\n",
       "<table border=\"1\" class=\"dataframe\">\n",
       "  <thead>\n",
       "    <tr style=\"text-align: right;\">\n",
       "      <th></th>\n",
       "      <th>STATEFIPS</th>\n",
       "      <th>STATE</th>\n",
       "      <th>zipcode</th>\n",
       "      <th>agi_stub</th>\n",
       "      <th>income1</th>\n",
       "      <th>income2</th>\n",
       "      <th>income3</th>\n",
       "      <th>income4</th>\n",
       "      <th>income5</th>\n",
       "      <th>income6</th>\n",
       "      <th>...</th>\n",
       "      <th>A10300</th>\n",
       "      <th>N85530</th>\n",
       "      <th>A85530</th>\n",
       "      <th>N85300</th>\n",
       "      <th>A85300</th>\n",
       "      <th>N11901</th>\n",
       "      <th>A11901</th>\n",
       "      <th>N11902</th>\n",
       "      <th>A11902</th>\n",
       "      <th>total</th>\n",
       "    </tr>\n",
       "  </thead>\n",
       "  <tbody>\n",
       "    <tr>\n",
       "      <th>564</th>\n",
       "      <td>1</td>\n",
       "      <td>AL</td>\n",
       "      <td>35210</td>\n",
       "      <td>1</td>\n",
       "      <td>2420</td>\n",
       "      <td>1520</td>\n",
       "      <td>260</td>\n",
       "      <td>600</td>\n",
       "      <td>1250</td>\n",
       "      <td>3760</td>\n",
       "      <td>...</td>\n",
       "      <td>1015</td>\n",
       "      <td>0</td>\n",
       "      <td>0</td>\n",
       "      <td>0</td>\n",
       "      <td>0</td>\n",
       "      <td>250</td>\n",
       "      <td>210</td>\n",
       "      <td>2030</td>\n",
       "      <td>4969</td>\n",
       "      <td>4200</td>\n",
       "    </tr>\n",
       "    <tr>\n",
       "      <th>565</th>\n",
       "      <td>1</td>\n",
       "      <td>AL</td>\n",
       "      <td>35210</td>\n",
       "      <td>2</td>\n",
       "      <td>1840</td>\n",
       "      <td>980</td>\n",
       "      <td>370</td>\n",
       "      <td>410</td>\n",
       "      <td>860</td>\n",
       "      <td>3400</td>\n",
       "      <td>...</td>\n",
       "      <td>4265</td>\n",
       "      <td>0</td>\n",
       "      <td>0</td>\n",
       "      <td>0</td>\n",
       "      <td>0</td>\n",
       "      <td>340</td>\n",
       "      <td>544</td>\n",
       "      <td>1480</td>\n",
       "      <td>3663</td>\n",
       "      <td>3190</td>\n",
       "    </tr>\n",
       "    <tr>\n",
       "      <th>566</th>\n",
       "      <td>1</td>\n",
       "      <td>AL</td>\n",
       "      <td>35210</td>\n",
       "      <td>3</td>\n",
       "      <td>1020</td>\n",
       "      <td>430</td>\n",
       "      <td>400</td>\n",
       "      <td>150</td>\n",
       "      <td>490</td>\n",
       "      <td>1940</td>\n",
       "      <td>...</td>\n",
       "      <td>5792</td>\n",
       "      <td>0</td>\n",
       "      <td>0</td>\n",
       "      <td>0</td>\n",
       "      <td>0</td>\n",
       "      <td>290</td>\n",
       "      <td>677</td>\n",
       "      <td>700</td>\n",
       "      <td>1818</td>\n",
       "      <td>1850</td>\n",
       "    </tr>\n",
       "  </tbody>\n",
       "</table>\n",
       "<p>3 rows × 132 columns</p>\n",
       "</div>"
      ],
      "text/plain": [
       "     STATEFIPS STATE zipcode  agi_stub  income1  income2  income3  income4  \\\n",
       "564          1    AL   35210         1     2420     1520      260      600   \n",
       "565          1    AL   35210         2     1840      980      370      410   \n",
       "566          1    AL   35210         3     1020      430      400      150   \n",
       "\n",
       "     income5  income6  ...    A10300  N85530  A85530  N85300  A85300  N11901  \\\n",
       "564     1250     3760  ...      1015       0       0       0       0     250   \n",
       "565      860     3400  ...      4265       0       0       0       0     340   \n",
       "566      490     1940  ...      5792       0       0       0       0     290   \n",
       "\n",
       "     A11901  N11902  A11902  total  \n",
       "564     210    2030    4969   4200  \n",
       "565     544    1480    3663   3190  \n",
       "566     677     700    1818   1850  \n",
       "\n",
       "[3 rows x 132 columns]"
      ]
     },
     "execution_count": 2,
     "metadata": {},
     "output_type": "execute_result"
    }
   ],
   "source": [
    "df[df[\"zipcode\"]==35210].head(3)"
   ]
  },
  {
   "cell_type": "markdown",
   "metadata": {},
   "source": [
    "#### ** Second Example - 10 stocks historical price from 1990-2011**\n",
    "- Import pandas and read the Excel file (specified the directory)      "
   ]
  },
  {
   "cell_type": "code",
   "execution_count": 3,
   "metadata": {},
   "outputs": [
    {
     "data": {
      "text/html": [
       "<div>\n",
       "<style scoped>\n",
       "    .dataframe tbody tr th:only-of-type {\n",
       "        vertical-align: middle;\n",
       "    }\n",
       "\n",
       "    .dataframe tbody tr th {\n",
       "        vertical-align: top;\n",
       "    }\n",
       "\n",
       "    .dataframe thead th {\n",
       "        text-align: right;\n",
       "    }\n",
       "</style>\n",
       "<table border=\"1\" class=\"dataframe\">\n",
       "  <thead>\n",
       "    <tr style=\"text-align: right;\">\n",
       "      <th></th>\n",
       "      <th>DATE</th>\n",
       "      <th>AA</th>\n",
       "      <th>AAPL</th>\n",
       "      <th>GE</th>\n",
       "      <th>IBM</th>\n",
       "      <th>JNJ</th>\n",
       "      <th>MSFT</th>\n",
       "      <th>PEP</th>\n",
       "      <th>SPX</th>\n",
       "      <th>XOM</th>\n",
       "      <th>Broker</th>\n",
       "    </tr>\n",
       "  </thead>\n",
       "  <tbody>\n",
       "    <tr>\n",
       "      <th>0</th>\n",
       "      <td>1990-02-01</td>\n",
       "      <td>4.98</td>\n",
       "      <td>7.86</td>\n",
       "      <td>2.87</td>\n",
       "      <td>16.79</td>\n",
       "      <td>4.27</td>\n",
       "      <td>0.51</td>\n",
       "      <td>6.04</td>\n",
       "      <td>328.79</td>\n",
       "      <td>6.12</td>\n",
       "      <td>ABC Inc.</td>\n",
       "    </tr>\n",
       "    <tr>\n",
       "      <th>1</th>\n",
       "      <td>1990-02-02</td>\n",
       "      <td>5.04</td>\n",
       "      <td>8.00</td>\n",
       "      <td>2.87</td>\n",
       "      <td>16.89</td>\n",
       "      <td>4.37</td>\n",
       "      <td>0.51</td>\n",
       "      <td>6.09</td>\n",
       "      <td>330.92</td>\n",
       "      <td>6.24</td>\n",
       "      <td>XYZ Inc.</td>\n",
       "    </tr>\n",
       "    <tr>\n",
       "      <th>2</th>\n",
       "      <td>1990-02-05</td>\n",
       "      <td>5.07</td>\n",
       "      <td>8.18</td>\n",
       "      <td>2.87</td>\n",
       "      <td>17.32</td>\n",
       "      <td>4.34</td>\n",
       "      <td>0.51</td>\n",
       "      <td>6.05</td>\n",
       "      <td>331.85</td>\n",
       "      <td>6.25</td>\n",
       "      <td>Fidelity</td>\n",
       "    </tr>\n",
       "  </tbody>\n",
       "</table>\n",
       "</div>"
      ],
      "text/plain": [
       "        DATE    AA  AAPL    GE    IBM   JNJ  MSFT   PEP     SPX   XOM  \\\n",
       "0 1990-02-01  4.98  7.86  2.87  16.79  4.27  0.51  6.04  328.79  6.12   \n",
       "1 1990-02-02  5.04  8.00  2.87  16.89  4.37  0.51  6.09  330.92  6.24   \n",
       "2 1990-02-05  5.07  8.18  2.87  17.32  4.34  0.51  6.05  331.85  6.25   \n",
       "\n",
       "     Broker  \n",
       "0  ABC Inc.  \n",
       "1  XYZ Inc.  \n",
       "2  Fidelity  "
      ]
     },
     "execution_count": 3,
     "metadata": {},
     "output_type": "execute_result"
    }
   ],
   "source": [
    "df = pd.read_excel('data/Stock_px.xlsx')\n",
    "df.head(3)"
   ]
  },
  {
   "cell_type": "markdown",
   "metadata": {},
   "source": [
    "#### ** Insert New Column & Sum, Minimum, Maximum and Average of Data **"
   ]
  },
  {
   "cell_type": "code",
   "execution_count": 4,
   "metadata": {},
   "outputs": [
    {
     "data": {
      "text/html": [
       "<div>\n",
       "<style scoped>\n",
       "    .dataframe tbody tr th:only-of-type {\n",
       "        vertical-align: middle;\n",
       "    }\n",
       "\n",
       "    .dataframe tbody tr th {\n",
       "        vertical-align: top;\n",
       "    }\n",
       "\n",
       "    .dataframe thead th {\n",
       "        text-align: right;\n",
       "    }\n",
       "</style>\n",
       "<table border=\"1\" class=\"dataframe\">\n",
       "  <thead>\n",
       "    <tr style=\"text-align: right;\">\n",
       "      <th></th>\n",
       "      <th>DATE</th>\n",
       "      <th>AA</th>\n",
       "      <th>AAPL</th>\n",
       "      <th>GE</th>\n",
       "      <th>IBM</th>\n",
       "      <th>JNJ</th>\n",
       "      <th>MSFT</th>\n",
       "      <th>PEP</th>\n",
       "      <th>SPX</th>\n",
       "      <th>XOM</th>\n",
       "      <th>Broker</th>\n",
       "      <th>total</th>\n",
       "    </tr>\n",
       "  </thead>\n",
       "  <tbody>\n",
       "    <tr>\n",
       "      <th>5469</th>\n",
       "      <td>2011-10-12</td>\n",
       "      <td>10.05</td>\n",
       "      <td>402.19</td>\n",
       "      <td>16.40</td>\n",
       "      <td>186.12</td>\n",
       "      <td>64.33</td>\n",
       "      <td>26.96</td>\n",
       "      <td>62.70</td>\n",
       "      <td>1207.25</td>\n",
       "      <td>77.16</td>\n",
       "      <td>XYZ Inc.</td>\n",
       "      <td>428.64</td>\n",
       "    </tr>\n",
       "    <tr>\n",
       "      <th>5470</th>\n",
       "      <td>2011-10-13</td>\n",
       "      <td>10.10</td>\n",
       "      <td>408.43</td>\n",
       "      <td>16.22</td>\n",
       "      <td>186.82</td>\n",
       "      <td>64.23</td>\n",
       "      <td>27.18</td>\n",
       "      <td>62.36</td>\n",
       "      <td>1203.66</td>\n",
       "      <td>76.37</td>\n",
       "      <td>Fidelity</td>\n",
       "      <td>434.75</td>\n",
       "    </tr>\n",
       "    <tr>\n",
       "      <th>5471</th>\n",
       "      <td>2011-10-14</td>\n",
       "      <td>10.26</td>\n",
       "      <td>422.00</td>\n",
       "      <td>16.60</td>\n",
       "      <td>190.53</td>\n",
       "      <td>64.72</td>\n",
       "      <td>27.27</td>\n",
       "      <td>62.24</td>\n",
       "      <td>1224.58</td>\n",
       "      <td>78.11</td>\n",
       "      <td>TD Bank</td>\n",
       "      <td>448.86</td>\n",
       "    </tr>\n",
       "  </tbody>\n",
       "</table>\n",
       "</div>"
      ],
      "text/plain": [
       "           DATE     AA    AAPL     GE     IBM    JNJ   MSFT    PEP      SPX  \\\n",
       "5469 2011-10-12  10.05  402.19  16.40  186.12  64.33  26.96  62.70  1207.25   \n",
       "5470 2011-10-13  10.10  408.43  16.22  186.82  64.23  27.18  62.36  1203.66   \n",
       "5471 2011-10-14  10.26  422.00  16.60  190.53  64.72  27.27  62.24  1224.58   \n",
       "\n",
       "        XOM    Broker   total  \n",
       "5469  77.16  XYZ Inc.  428.64  \n",
       "5470  76.37  Fidelity  434.75  \n",
       "5471  78.11   TD Bank  448.86  "
      ]
     },
     "execution_count": 4,
     "metadata": {},
     "output_type": "execute_result"
    }
   ],
   "source": [
    "df[\"total\"] = df[\"AA\"] + df[\"AAPL\"] + df[\"GE\"]\n",
    "df.tail(3)    "
   ]
  },
  {
   "cell_type": "code",
   "execution_count": 31,
   "metadata": {},
   "outputs": [
    {
     "data": {
      "text/plain": [
       "(95433.239999999991, 17.44028508771932, 4.2000000000000002, 43.619999999999997)"
      ]
     },
     "execution_count": 31,
     "metadata": {},
     "output_type": "execute_result"
    }
   ],
   "source": [
    "df[\"AA\"].sum(), df[\"AA\"].mean(),df[\"AA\"].min(),df[\"AA\"].max() "
   ]
  },
  {
   "cell_type": "markdown",
   "metadata": {},
   "source": [
    "#### ** Pandas Time Series Analysis: DatetimeIndex and Resample**\n",
    "- Change column DATE type from string to timeseries \n",
    "- Set column \"DATE\" as index"
   ]
  },
  {
   "cell_type": "code",
   "execution_count": 32,
   "metadata": {},
   "outputs": [
    {
     "data": {
      "text/plain": [
       "pandas._libs.tslib.Timestamp"
      ]
     },
     "execution_count": 32,
     "metadata": {},
     "output_type": "execute_result"
    }
   ],
   "source": [
    "type(df.DATE[0])"
   ]
  },
  {
   "cell_type": "code",
   "execution_count": 5,
   "metadata": {},
   "outputs": [
    {
     "data": {
      "text/html": [
       "<div>\n",
       "<style scoped>\n",
       "    .dataframe tbody tr th:only-of-type {\n",
       "        vertical-align: middle;\n",
       "    }\n",
       "\n",
       "    .dataframe tbody tr th {\n",
       "        vertical-align: top;\n",
       "    }\n",
       "\n",
       "    .dataframe thead th {\n",
       "        text-align: right;\n",
       "    }\n",
       "</style>\n",
       "<table border=\"1\" class=\"dataframe\">\n",
       "  <thead>\n",
       "    <tr style=\"text-align: right;\">\n",
       "      <th></th>\n",
       "      <th>AA</th>\n",
       "      <th>AAPL</th>\n",
       "      <th>GE</th>\n",
       "      <th>IBM</th>\n",
       "      <th>JNJ</th>\n",
       "      <th>MSFT</th>\n",
       "      <th>PEP</th>\n",
       "      <th>SPX</th>\n",
       "      <th>XOM</th>\n",
       "      <th>Broker</th>\n",
       "    </tr>\n",
       "    <tr>\n",
       "      <th>DATE</th>\n",
       "      <th></th>\n",
       "      <th></th>\n",
       "      <th></th>\n",
       "      <th></th>\n",
       "      <th></th>\n",
       "      <th></th>\n",
       "      <th></th>\n",
       "      <th></th>\n",
       "      <th></th>\n",
       "      <th></th>\n",
       "    </tr>\n",
       "  </thead>\n",
       "  <tbody>\n",
       "    <tr>\n",
       "      <th>1990-02-01</th>\n",
       "      <td>4.98</td>\n",
       "      <td>7.86</td>\n",
       "      <td>2.87</td>\n",
       "      <td>16.79</td>\n",
       "      <td>4.27</td>\n",
       "      <td>0.51</td>\n",
       "      <td>6.04</td>\n",
       "      <td>328.79</td>\n",
       "      <td>6.12</td>\n",
       "      <td>ABC Inc.</td>\n",
       "    </tr>\n",
       "    <tr>\n",
       "      <th>1990-02-02</th>\n",
       "      <td>5.04</td>\n",
       "      <td>8.00</td>\n",
       "      <td>2.87</td>\n",
       "      <td>16.89</td>\n",
       "      <td>4.37</td>\n",
       "      <td>0.51</td>\n",
       "      <td>6.09</td>\n",
       "      <td>330.92</td>\n",
       "      <td>6.24</td>\n",
       "      <td>XYZ Inc.</td>\n",
       "    </tr>\n",
       "    <tr>\n",
       "      <th>1990-02-05</th>\n",
       "      <td>5.07</td>\n",
       "      <td>8.18</td>\n",
       "      <td>2.87</td>\n",
       "      <td>17.32</td>\n",
       "      <td>4.34</td>\n",
       "      <td>0.51</td>\n",
       "      <td>6.05</td>\n",
       "      <td>331.85</td>\n",
       "      <td>6.25</td>\n",
       "      <td>Fidelity</td>\n",
       "    </tr>\n",
       "  </tbody>\n",
       "</table>\n",
       "</div>"
      ],
      "text/plain": [
       "              AA  AAPL    GE    IBM   JNJ  MSFT   PEP     SPX   XOM    Broker\n",
       "DATE                                                                         \n",
       "1990-02-01  4.98  7.86  2.87  16.79  4.27  0.51  6.04  328.79  6.12  ABC Inc.\n",
       "1990-02-02  5.04  8.00  2.87  16.89  4.37  0.51  6.09  330.92  6.24  XYZ Inc.\n",
       "1990-02-05  5.07  8.18  2.87  17.32  4.34  0.51  6.05  331.85  6.25  Fidelity"
      ]
     },
     "execution_count": 5,
     "metadata": {},
     "output_type": "execute_result"
    }
   ],
   "source": [
    "df = pd.read_excel('data/Stock_px.xlsx', parse_dates=[\"DATE\"], index_col=\"DATE\")\n",
    "df.head(3)"
   ]
  },
  {
   "cell_type": "code",
   "execution_count": 34,
   "metadata": {},
   "outputs": [
    {
     "data": {
      "text/plain": [
       "<matplotlib.axes._subplots.AxesSubplot at 0x28037f2d1d0>"
      ]
     },
     "execution_count": 34,
     "metadata": {},
     "output_type": "execute_result"
    },
    {
     "data": {
      "image/png": "[encoded data removed]",
      "text/plain": [
       "<matplotlib.figure.Figure at 0x28037f22f98>"
      ]
     },
     "metadata": {},
     "output_type": "display_data"
    }
   ],
   "source": [
    "df.resample('D').sum().plot()"
   ]
  }
 ],
 "metadata": {
  "kernelspec": {
   "display_name": "Python 3",
   "language": "python",
   "name": "python3"
  },
  "language_info": {
   "codemirror_mode": {
    "name": "ipython",
    "version": 3
   },
   "file_extension": ".py",
   "mimetype": "text/x-python",
   "name": "python",
   "nbconvert_exporter": "python",
   "pygments_lexer": "ipython3",
   "version": "3.6.3"
  }
 },
 "nbformat": 4,
 "nbformat_minor": 2
}
