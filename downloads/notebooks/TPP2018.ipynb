{
 "cells": [
  {
   "cell_type": "code",
   "execution_count": 1,
   "metadata": {
    "slideshow": {
     "slide_type": "fragment"
    }
   },
   "outputs": [
    {
     "data": {
      "text/html": [
       "<style>.container { width:100% !important; }</style>"
      ],
      "text/plain": [
       "<IPython.core.display.HTML object>"
      ]
     },
     "metadata": {},
     "output_type": "display_data"
    }
   ],
   "source": [
    "from IPython.core.interactiveshell import InteractiveShell\n",
    "InteractiveShell.ast_node_interactivity = \"all\"\n",
    "\n",
    "from IPython.core.display import display, HTML\n",
    "display(HTML(\"<style>.container { width:100% !important; }</style>\"))\n",
    "%matplotlib inline\n",
    "import matplotlib.pyplot as plt\n",
    "import pandas as pd\n",
    "import numpy as np\n",
    "import os"
   ]
  },
  {
   "cell_type": "code",
   "execution_count": 2,
   "metadata": {},
   "outputs": [
    {
     "data": {
      "text/html": [
       "<div>\n",
       "<style scoped>\n",
       "    .dataframe tbody tr th:only-of-type {\n",
       "        vertical-align: middle;\n",
       "    }\n",
       "\n",
       "    .dataframe tbody tr th {\n",
       "        vertical-align: top;\n",
       "    }\n",
       "\n",
       "    .dataframe thead th {\n",
       "        text-align: right;\n",
       "    }\n",
       "</style>\n",
       "<table border=\"1\" class=\"dataframe\">\n",
       "  <thead>\n",
       "    <tr style=\"text-align: right;\">\n",
       "      <th></th>\n",
       "      <th>Period</th>\n",
       "      <th>Date</th>\n",
       "      <th>Journal</th>\n",
       "      <th>Comments</th>\n",
       "      <th>Beginning Balance</th>\n",
       "      <th>Debit</th>\n",
       "      <th>Credit</th>\n",
       "      <th>Net Change</th>\n",
       "      <th>Ending Balance</th>\n",
       "      <th>Unnamed: 9</th>\n",
       "      <th>Unnamed: 10</th>\n",
       "    </tr>\n",
       "  </thead>\n",
       "  <tbody>\n",
       "    <tr>\n",
       "      <th>0</th>\n",
       "      <td>103-02-01</td>\n",
       "      <td>NaN</td>\n",
       "      <td>NaN</td>\n",
       "      <td>SIGNATURE BANK - OPERATING ACCOUNT</td>\n",
       "      <td>134988.73</td>\n",
       "      <td>NaN</td>\n",
       "      <td>NaN</td>\n",
       "      <td>NaN</td>\n",
       "      <td>NaN</td>\n",
       "      <td>NaN</td>\n",
       "      <td>NaN</td>\n",
       "    </tr>\n",
       "    <tr>\n",
       "      <th>1</th>\n",
       "      <td>01</td>\n",
       "      <td>2018-01-01 00:00:00</td>\n",
       "      <td>JE-000007</td>\n",
       "      <td>Reversal: PRIMMA paid AFP</td>\n",
       "      <td>NaN</td>\n",
       "      <td>1275000</td>\n",
       "      <td>NaN</td>\n",
       "      <td>NaN</td>\n",
       "      <td>1.40999e+06</td>\n",
       "      <td>NaN</td>\n",
       "      <td>NaN</td>\n",
       "    </tr>\n",
       "    <tr>\n",
       "      <th>2</th>\n",
       "      <td>01</td>\n",
       "      <td>2018-01-02 00:00:00</td>\n",
       "      <td>CD-000071</td>\n",
       "      <td>A/P CHECK REGISTER</td>\n",
       "      <td>NaN</td>\n",
       "      <td>NaN</td>\n",
       "      <td>81131.8</td>\n",
       "      <td>NaN</td>\n",
       "      <td>1.32886e+06</td>\n",
       "      <td>NaN</td>\n",
       "      <td>NaN</td>\n",
       "    </tr>\n",
       "  </tbody>\n",
       "</table>\n",
       "</div>"
      ],
      "text/plain": [
       "      Period                 Date    Journal  \\\n",
       "0  103-02-01                  NaN        NaN   \n",
       "1         01  2018-01-01 00:00:00  JE-000007   \n",
       "2         01  2018-01-02 00:00:00  CD-000071   \n",
       "\n",
       "                             Comments  Beginning Balance    Debit   Credit  \\\n",
       "0  SIGNATURE BANK - OPERATING ACCOUNT          134988.73      NaN      NaN   \n",
       "1           Reversal: PRIMMA paid AFP                NaN  1275000      NaN   \n",
       "2                  A/P CHECK REGISTER                NaN      NaN  81131.8   \n",
       "\n",
       "  Net Change Ending Balance Unnamed: 9  Unnamed: 10  \n",
       "0        NaN            NaN        NaN          NaN  \n",
       "1        NaN    1.40999e+06        NaN          NaN  \n",
       "2        NaN    1.32886e+06        NaN          NaN  "
      ]
     },
     "execution_count": 2,
     "metadata": {},
     "output_type": "execute_result"
    },
    {
     "name": "stdout",
     "output_type": "stream",
     "text": [
      "There are 29869 rows\n",
      "There are 11 rows\n"
     ]
    },
    {
     "data": {
      "text/plain": [
       "29869"
      ]
     },
     "execution_count": 2,
     "metadata": {},
     "output_type": "execute_result"
    },
    {
     "data": {
      "text/plain": [
       "11"
      ]
     },
     "execution_count": 2,
     "metadata": {},
     "output_type": "execute_result"
    }
   ],
   "source": [
    "# read the file only has one tab. no need to specified which tab\n",
    "df = pd.read_excel('data/GL4Q18.xls')\n",
    "df.head(3)\n",
    "# shape can count row and columns\n",
    "# Count_Row=df.shape[0] \n",
    "# print(\"There are %s rows\" % (Count_Row)) \n",
    "rows=len(df) \n",
    "print(\"There are %s rows\" % (rows)) \n",
    "columns=len(df.columns) \n",
    "print(\"There are %s rows\" % (columns)) \n",
    "len(df)  #how many rows\n",
    "len(df.columns)  # how many columns"
   ]
  },
  {
   "cell_type": "code",
   "execution_count": 3,
   "metadata": {},
   "outputs": [
    {
     "name": "stdout",
     "output_type": "stream",
     "text": [
      "<class 'pandas.core.frame.DataFrame'>\n",
      "RangeIndex: 29869 entries, 0 to 29868\n",
      "Data columns (total 11 columns):\n",
      "Period               27550 non-null object\n",
      "Date                 26454 non-null object\n",
      "Journal              26456 non-null object\n",
      " Comments            27541 non-null object\n",
      "Beginning Balance    1221 non-null float64\n",
      "Debit                17885 non-null object\n",
      "Credit               10275 non-null object\n",
      "Net Change           1095 non-null object\n",
      "Ending Balance       27067 non-null object\n",
      "Unnamed: 9           2 non-null object\n",
      "Unnamed: 10          3 non-null float64\n",
      "dtypes: float64(2), object(9)\n",
      "memory usage: 2.5+ MB\n"
     ]
    },
    {
     "data": {
      "text/html": [
       "<div>\n",
       "<style scoped>\n",
       "    .dataframe tbody tr th:only-of-type {\n",
       "        vertical-align: middle;\n",
       "    }\n",
       "\n",
       "    .dataframe tbody tr th {\n",
       "        vertical-align: top;\n",
       "    }\n",
       "\n",
       "    .dataframe thead th {\n",
       "        text-align: right;\n",
       "    }\n",
       "</style>\n",
       "<table border=\"1\" class=\"dataframe\">\n",
       "  <thead>\n",
       "    <tr style=\"text-align: right;\">\n",
       "      <th></th>\n",
       "      <th>Period</th>\n",
       "      <th>Date</th>\n",
       "      <th>Journal</th>\n",
       "      <th>Comments</th>\n",
       "      <th>Beginning Balance</th>\n",
       "      <th>Debit</th>\n",
       "      <th>Credit</th>\n",
       "      <th>Net Change</th>\n",
       "      <th>Ending Balance</th>\n",
       "      <th>Unnamed: 9</th>\n",
       "      <th>Unnamed: 10</th>\n",
       "    </tr>\n",
       "  </thead>\n",
       "  <tbody>\n",
       "    <tr>\n",
       "      <th>184</th>\n",
       "      <td>05</td>\n",
       "      <td>2018-05-31 00:00:00</td>\n",
       "      <td>MC-000056</td>\n",
       "      <td>THE PRINCETON PARTNERSHIP, LLC</td>\n",
       "      <td>NaN</td>\n",
       "      <td>NaN</td>\n",
       "      <td>166559</td>\n",
       "      <td>NaN</td>\n",
       "      <td>793471</td>\n",
       "      <td>NaN</td>\n",
       "      <td>NaN</td>\n",
       "    </tr>\n",
       "    <tr>\n",
       "      <th>185</th>\n",
       "      <td>05</td>\n",
       "      <td>2018-05-31 00:00:00</td>\n",
       "      <td>MC-000056</td>\n",
       "      <td>THE PRINCETON PARTNERSHIP, LLC</td>\n",
       "      <td>NaN</td>\n",
       "      <td>NaN</td>\n",
       "      <td>166559</td>\n",
       "      <td>NaN</td>\n",
       "      <td>626911</td>\n",
       "      <td>NaN</td>\n",
       "      <td>NaN</td>\n",
       "    </tr>\n",
       "    <tr>\n",
       "      <th>186</th>\n",
       "      <td>05</td>\n",
       "      <td>2018-05-31 00:00:00</td>\n",
       "      <td>MC-000057</td>\n",
       "      <td>THE PRINCETON PARTNERSHIP, LLC</td>\n",
       "      <td>NaN</td>\n",
       "      <td>166559</td>\n",
       "      <td>NaN</td>\n",
       "      <td>NaN</td>\n",
       "      <td>793471</td>\n",
       "      <td>NaN</td>\n",
       "      <td>NaN</td>\n",
       "    </tr>\n",
       "  </tbody>\n",
       "</table>\n",
       "</div>"
      ],
      "text/plain": [
       "    Period                 Date    Journal                        Comments  \\\n",
       "184     05  2018-05-31 00:00:00  MC-000056  THE PRINCETON PARTNERSHIP, LLC   \n",
       "185     05  2018-05-31 00:00:00  MC-000056  THE PRINCETON PARTNERSHIP, LLC   \n",
       "186     05  2018-05-31 00:00:00  MC-000057  THE PRINCETON PARTNERSHIP, LLC   \n",
       "\n",
       "     Beginning Balance   Debit  Credit Net Change Ending Balance Unnamed: 9  \\\n",
       "184                NaN     NaN  166559        NaN         793471        NaN   \n",
       "185                NaN     NaN  166559        NaN         626911        NaN   \n",
       "186                NaN  166559     NaN        NaN         793471        NaN   \n",
       "\n",
       "     Unnamed: 10  \n",
       "184          NaN  \n",
       "185          NaN  \n",
       "186          NaN  "
      ]
     },
     "execution_count": 3,
     "metadata": {},
     "output_type": "execute_result"
    },
    {
     "data": {
      "text/html": [
       "<style  type=\"text/css\" >\n",
       "</style>  \n",
       "<table id=\"T_c3feae22_79fe_11ea_b8bf_b88a605d4570\" > \n",
       "<thead>    <tr> \n",
       "        <th class=\"blank level0\" ></th> \n",
       "        <th class=\"col_heading level0 col0\" >Debit</th> \n",
       "        <th class=\"col_heading level0 col1\" >Credit</th> \n",
       "    </tr>    <tr> \n",
       "        <th class=\"blank level1\" ></th> \n",
       "        <th class=\"col_heading level1 col0\" >sum</th> \n",
       "        <th class=\"col_heading level1 col1\" >sum</th> \n",
       "    </tr>    <tr> \n",
       "        <th class=\"index_name level0\" > Comments</th> \n",
       "        <th class=\"blank\" ></th> \n",
       "        <th class=\"blank\" ></th> \n",
       "    </tr></thead> \n",
       "<tbody>    <tr> \n",
       "        <th id=\"T_c3feae22_79fe_11ea_b8bf_b88a605d4570level0_row0\" class=\"row_heading level0 row0\" >THE PRINCETON PARTNERSHIP, LLC</th> \n",
       "        <td id=\"T_c3feae22_79fe_11ea_b8bf_b88a605d4570row0_col0\" class=\"data row0 col0\" >$5,118,989.78</td> \n",
       "        <td id=\"T_c3feae22_79fe_11ea_b8bf_b88a605d4570row0_col1\" class=\"data row0 col1\" >$2,438,871.50</td> \n",
       "    </tr></tbody> \n",
       "</table> "
      ],
      "text/plain": [
       "<pandas.io.formats.style.Styler at 0x1cd3fadea90>"
      ]
     },
     "execution_count": 3,
     "metadata": {},
     "output_type": "execute_result"
    }
   ],
   "source": [
    "df.info()\n",
    "# df[' Comments'].head(3)\n",
    "\n",
    "# filter security type Equity and see the unrealized value,,, there's a space before Comments.. its good to get information of the dataframe\n",
    "df_TPP=df[df[' Comments']=='THE PRINCETON PARTNERSHIP, LLC']\n",
    "df_TPP.head(3)\n",
    "\n",
    "# ## filter security type Corp and see the unrealized value\n",
    "# df_corp=df[(df['Security Type']=='CORP') & (df['STAT Unrealized']!=0)]\n",
    "\n",
    "# (df.groupby('STAT Classification')['STAT Unrealized']\n",
    "# .agg(['mean', 'sum'])\n",
    "# .style.format('${0:,.2f}'))\n",
    "\n",
    "(df_TPP.groupby(' Comments')\n",
    ".agg({'Debit':['sum'],'Credit':['sum']})\n",
    ".style.format('${0:,.2f}'))\n",
    "\n",
    "# (df.groupby(' Comments')\n",
    "# .agg({'Debit':['sum'],'Credit':['sum']}))\n",
    "\n",
    "df_TPP.to_excel(\"output.xlsx\")"
   ]
  }
 ],
 "metadata": {
  "kernelspec": {
   "display_name": "Python 3",
   "language": "python",
   "name": "python3"
  },
  "language_info": {
   "codemirror_mode": {
    "name": "ipython",
    "version": 3
   },
   "file_extension": ".py",
   "mimetype": "text/x-python",
   "name": "python",
   "nbconvert_exporter": "python",
   "pygments_lexer": "ipython3",
   "version": "3.6.3"
  }
 },
 "nbformat": 4,
 "nbformat_minor": 2
}
