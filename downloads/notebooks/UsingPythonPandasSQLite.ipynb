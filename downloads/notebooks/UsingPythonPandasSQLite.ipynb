{
 "cells": [
  {
   "cell_type": "code",
   "execution_count": 6,
   "metadata": {},
   "outputs": [
    {
     "data": {
      "text/html": [
       "<style>.container { width:100% !important; }</style>"
      ],
      "text/plain": [
       "<IPython.core.display.HTML object>"
      ]
     },
     "metadata": {},
     "output_type": "display_data"
    }
   ],
   "source": [
    "from IPython.core.interactiveshell import InteractiveShell\n",
    "from IPython.core.display import display, HTML\n",
    "display(HTML(\"<style>.container { width:100% !important; }</style>\"))\n",
    "%matplotlib inline \n",
    "import matplotlib.pyplot as plt\n",
    "import pandas as pd\n",
    "import sqlite3\n"
   ]
  },
  {
   "cell_type": "markdown",
   "metadata": {},
   "source": [
    "\n",
    "# Working with SQlite Databases using Python and Pandas\n"
   ]
  },
  {
   "cell_type": "markdown",
   "metadata": {},
   "source": [
    "<!-- PELICAN_BEGIN_SUMMARY -->\n",
    "\n",
    "Working with SQLite databases (can be imported from Excel) to visiual/interactive financial analysis \n",
    "\n",
    "<!-- PELICAN_END_SUMMARY -->\n",
    "\n",
    "\n",
    "## Sample is the 5 years of Dow30 stocks\n",
    "- Query Databases Row in Python\n",
    "- Mapping Dow30 Stocks over 10 years period \n",
    "- Reading results into a pandas DataFrame\n",
    "- Mapping Dow30 Stocks Yield Ratio\n",
    "- Modifying database rows\n",
    "- Inserting rows with Python\n",
    "- Passing parameters into a query\n",
    "- Updating rows\n",
    "- Deleting rows\n",
    "- Creating tables\n",
    "- Creating tables with pandas\n",
    "- Altering tables with Pandas\n",
    "- Visualize chart\n",
    "- Export out the file to Excel\n",
    "\n"
   ]
  }
 ],
 "metadata": {
  "kernelspec": {
   "display_name": "Python 3",
   "language": "python",
   "name": "python3"
  },
  "language_info": {
   "codemirror_mode": {
    "name": "ipython",
    "version": 3
   },
   "file_extension": ".py",
   "mimetype": "text/x-python",
   "name": "python",
   "nbconvert_exporter": "python",
   "pygments_lexer": "ipython3",
   "version": "3.6.3"
  }
 },
 "nbformat": 4,
 "nbformat_minor": 2
}
