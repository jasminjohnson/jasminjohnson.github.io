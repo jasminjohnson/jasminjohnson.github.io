{
 "cells": [
  {
   "cell_type": "code",
   "execution_count": 1,
   "metadata": {},
   "outputs": [
    {
     "data": {
      "text/html": [
       "<style>.container { width:100% !important; }</style>"
      ],
      "text/plain": [
       "<IPython.core.display.HTML object>"
      ]
     },
     "metadata": {},
     "output_type": "display_data"
    }
   ],
   "source": [
    "from IPython.core.interactiveshell import InteractiveShell\n",
    "InteractiveShell.ast_node_interactivity = \"all\"\n",
    "InteractiveShell.log_level = 'INFO'\n",
    "\n",
    "from IPython.core.display import display, HTML\n",
    "display(HTML(\"<style>.container { width:100% !important; }</style>\"))\n",
    "\n",
    "\n",
    "import numpy as np\n",
    "import pandas as pd\n",
    "%matplotlib inline\n",
    "import matplotlib.pyplot as plt"
   ]
  },
  {
   "cell_type": "code",
   "execution_count": 2,
   "metadata": {},
   "outputs": [],
   "source": [
    "## ref: https://plot.ly/python/getting-started/\n",
    "import plotly\n",
    "plotly.tools.set_credentials_file(username='jasmin.c.johnson', api_key='KbTlgxEVd1tTR1AWpPi4')\n"
   ]
  },
  {
   "cell_type": "markdown",
   "metadata": {},
   "source": [
    "### Plotly Interactive Dashboard"
   ]
  },
  {
   "cell_type": "markdown",
   "metadata": {},
   "source": [
    "<!-- PELICAN_BEGIN_SUMMARY -->\n",
    "\n",
    "Data visualization \n",
    "Plotly can be used for business analysts visualize data through precedent setting open-source software.\n",
    "Plotly provides a web-service for hosting graphs\n",
    "\n",
    "<!-- PELICAN_END_SUMMARY -->"
   ]
  },
  {
   "cell_type": "markdown",
   "metadata": {},
   "source": [
    "#### *Import Data *\n",
    "- Use pandas to read function to import data\n",
    "- You can execute the code when new data avaiable on the daily or weekly or quarterly basis\n",
    "- Create the table\n",
    "- Then plot the interactive dashboard inline or offline"
   ]
  },
  {
   "cell_type": "code",
   "execution_count": 3,
   "metadata": {},
   "outputs": [
    {
     "name": "stdout",
     "output_type": "stream",
     "text": [
      "3.1.0\n"
     ]
    },
    {
     "data": {
      "text/html": [
       "<script>requirejs.config({paths: { 'plotly': ['https://cdn.plot.ly/plotly-latest.min']},});if(!window.Plotly) {{require(['plotly'],function(plotly) {window.Plotly=plotly;});}}</script>"
      ],
      "text/vnd.plotly.v1+html": [
       "<script>requirejs.config({paths: { 'plotly': ['https://cdn.plot.ly/plotly-latest.min']},});if(!window.Plotly) {{require(['plotly'],function(plotly) {window.Plotly=plotly;});}}</script>"
      ]
     },
     "metadata": {},
     "output_type": "display_data"
    }
   ],
   "source": [
    "import plotly.plotly as py\n",
    "import plotly.figure_factory as ff\n",
    "\n",
    "from plotly import __version__\n",
    "from plotly.offline import download_plotlyjs, init_notebook_mode, plot, iplot\n",
    "\n",
    "import plotly.plotly as py\n",
    "import plotly.graph_objs as go\n",
    "\n",
    "print(__version__) # requires version >= 1.9.0\n",
    "\n",
    "\n",
    "init_notebook_mode(connected=True)\n"
   ]
  },
  {
   "cell_type": "markdown",
   "metadata": {},
   "source": [
    "#### *View dasboard offline*\n",
    "- ref: https://plot.ly/python/offline/\n",
    "- ref: https://plot.ly/python/ipython-notebook-tutorial/#import-data"
   ]
  },
  {
   "cell_type": "code",
   "execution_count": 4,
   "metadata": {},
   "outputs": [
    {
     "data": {
      "text/html": [
       "<div>\n",
       "<style scoped>\n",
       "    .dataframe tbody tr th:only-of-type {\n",
       "        vertical-align: middle;\n",
       "    }\n",
       "\n",
       "    .dataframe tbody tr th {\n",
       "        vertical-align: top;\n",
       "    }\n",
       "\n",
       "    .dataframe thead th {\n",
       "        text-align: right;\n",
       "    }\n",
       "</style>\n",
       "<table border=\"1\" class=\"dataframe\">\n",
       "  <thead>\n",
       "    <tr style=\"text-align: right;\">\n",
       "      <th></th>\n",
       "      <th>CountryName</th>\n",
       "      <th>Population</th>\n",
       "      <th>Birthrate</th>\n",
       "      <th>Deathrate</th>\n",
       "    </tr>\n",
       "  </thead>\n",
       "  <tbody>\n",
       "    <tr>\n",
       "      <th>0</th>\n",
       "      <td>Aruba</td>\n",
       "      <td>31056997</td>\n",
       "      <td>46.60</td>\n",
       "      <td>20.34</td>\n",
       "    </tr>\n",
       "    <tr>\n",
       "      <th>1</th>\n",
       "      <td>Afghanistan</td>\n",
       "      <td>3581655</td>\n",
       "      <td>15.11</td>\n",
       "      <td>5.22</td>\n",
       "    </tr>\n",
       "    <tr>\n",
       "      <th>2</th>\n",
       "      <td>Angola</td>\n",
       "      <td>32930091</td>\n",
       "      <td>17.14</td>\n",
       "      <td>4.61</td>\n",
       "    </tr>\n",
       "    <tr>\n",
       "      <th>3</th>\n",
       "      <td>Albania</td>\n",
       "      <td>57794</td>\n",
       "      <td>22.46</td>\n",
       "      <td>3.27</td>\n",
       "    </tr>\n",
       "    <tr>\n",
       "      <th>4</th>\n",
       "      <td>Andorra</td>\n",
       "      <td>71201</td>\n",
       "      <td>8.71</td>\n",
       "      <td>6.25</td>\n",
       "    </tr>\n",
       "  </tbody>\n",
       "</table>\n",
       "</div>"
      ],
      "text/plain": [
       "   CountryName  Population  Birthrate  Deathrate \n",
       "0        Aruba    31056997      46.60       20.34\n",
       "1  Afghanistan     3581655      15.11        5.22\n",
       "2       Angola    32930091      17.14        4.61\n",
       "3      Albania       57794      22.46        3.27\n",
       "4      Andorra       71201       8.71        6.25"
      ]
     },
     "execution_count": 4,
     "metadata": {},
     "output_type": "execute_result"
    },
    {
     "data": {
      "text/plain": [
       "'Grenada'"
      ]
     },
     "execution_count": 4,
     "metadata": {},
     "output_type": "execute_result"
    },
    {
     "data": {
      "text/plain": [
       "Population    1.178913e+08\n",
       "Birthrate     1.117672e+01\n",
       "Deathrate     4.990026e+00\n",
       "dtype: float64"
      ]
     },
     "execution_count": 4,
     "metadata": {},
     "output_type": "execute_result"
    }
   ],
   "source": [
    "# Import the file\n",
    "df = pd.read_csv('data/LifePlotly.csv')\n",
    "\n",
    "# You can import the file from sepecific website, for example if store the file in github\n",
    "# df = pd.read_csv(\"https://raw.githubusercontent.com/plotly/datasets/master/LifePlotly.csv\")\n",
    "\n",
    "df.head()\n",
    "\n",
    "# we can see the country name for 88th\n",
    "country = df.CountryName\n",
    "country[88]\n",
    "\n",
    "# Calling std() calculates the standard deviation for each column.\n",
    "df.std()\n"
   ]
  },
  {
   "cell_type": "code",
   "execution_count": 5,
   "metadata": {},
   "outputs": [
    {
     "data": {
      "text/html": [
       "<iframe id=\"igraph\" scrolling=\"no\" style=\"border:none;\" seamless=\"seamless\" src=\"https://plot.ly/~jasmin.c.johnson/14.embed\" height=\"6890px\" width=\"100%\"></iframe>"
      ],
      "text/plain": [
       "<plotly.tools.PlotlyDisplay object>"
      ]
     },
     "execution_count": 5,
     "metadata": {},
     "output_type": "execute_result"
    }
   ],
   "source": [
    "# Create a table\n",
    "table = ff.create_table(df)\n",
    "\n",
    "# View table online\n",
    "py.iplot(table, filename='world population table', auto_open=True)\n"
   ]
  },
  {
   "cell_type": "code",
   "execution_count": 6,
   "metadata": {},
   "outputs": [
    {
     "data": {
      "application/vnd.plotly.v1+json": {
       "data": [
        {
         "colorscale": [
          [
           0,
           "#00083e"
          ],
          [
           0.5,
           "#ededee"
          ],
          [
           1,
           "#ffffff"
          ]
         ],
         "hoverinfo": "none",
         "opacity": 0.75,
         "showscale": false,
         "type": "heatmap",
         "uid": "71f225be-a321-11e8-b6c4-b88a605d4570",
         "z": [
          [
           0,
           0,
           0,
           0
          ],
          [
           0.5,
           0.5,
           0.5,
           0.5
          ],
          [
           1,
           1,
           1,
           1
          ],
          [
           0.5,
           0.5,
           0.5,
           0.5
          ],
          [
           1,
           1,
           1,
           1
          ],
          [
           0.5,
           0.5,
           0.5,
           0.5
          ],
          [
           1,
           1,
           1,
           1
          ],
          [
           0.5,
           0.5,
           0.5,
           0.5
          ],
          [
           1,
           1,
           1,
           1
          ],
          [
           0.5,
           0.5,
           0.5,
           0.5
          ],
          [
           1,
           1,
           1,
           1
          ],
          [
           0.5,
           0.5,
           0.5,
           0.5
          ],
          [
           1,
           1,
           1,
           1
          ],
          [
           0.5,
           0.5,
           0.5,
           0.5
          ],
          [
           1,
           1,
           1,
           1
          ],
          [
           0.5,
           0.5,
           0.5,
           0.5
          ],
          [
           1,
           1,
           1,
           1
          ],
          [
           0.5,
           0.5,
           0.5,
           0.5
          ],
          [
           1,
           1,
           1,
           1
          ],
          [
           0.5,
           0.5,
           0.5,
           0.5
          ],
          [
           1,
           1,
           1,
           1
          ],
          [
           0.5,
           0.5,
           0.5,
           0.5
          ],
          [
           1,
           1,
           1,
           1
          ],
          [
           0.5,
           0.5,
           0.5,
           0.5
          ],
          [
           1,
           1,
           1,
           1
          ],
          [
           0.5,
           0.5,
           0.5,
           0.5
          ],
          [
           1,
           1,
           1,
           1
          ],
          [
           0.5,
           0.5,
           0.5,
           0.5
          ],
          [
           1,
           1,
           1,
           1
          ],
          [
           0.5,
           0.5,
           0.5,
           0.5
          ],
          [
           1,
           1,
           1,
           1
          ],
          [
           0.5,
           0.5,
           0.5,
           0.5
          ],
          [
           1,
           1,
           1,
           1
          ],
          [
           0.5,
           0.5,
           0.5,
           0.5
          ],
          [
           1,
           1,
           1,
           1
          ],
          [
           0.5,
           0.5,
           0.5,
           0.5
          ],
          [
           1,
           1,
           1,
           1
          ],
          [
           0.5,
           0.5,
           0.5,
           0.5
          ],
          [
           1,
           1,
           1,
           1
          ],
          [
           0.5,
           0.5,
           0.5,
           0.5
          ],
          [
           1,
           1,
           1,
           1
          ],
          [
           0.5,
           0.5,
           0.5,
           0.5
          ],
          [
           1,
           1,
           1,
           1
          ],
          [
           0.5,
           0.5,
           0.5,
           0.5
          ],
          [
           1,
           1,
           1,
           1
          ],
          [
           0.5,
           0.5,
           0.5,
           0.5
          ],
          [
           1,
           1,
           1,
           1
          ],
          [
           0.5,
           0.5,
           0.5,
           0.5
          ],
          [
           1,
           1,
           1,
           1
          ],
          [
           0.5,
           0.5,
           0.5,
           0.5
          ],
          [
           1,
           1,
           1,
           1
          ],
          [
           0.5,
           0.5,
           0.5,
           0.5
          ],
          [
           1,
           1,
           1,
           1
          ],
          [
           0.5,
           0.5,
           0.5,
           0.5
          ],
          [
           1,
           1,
           1,
           1
          ],
          [
           0.5,
           0.5,
           0.5,
           0.5
          ],
          [
           1,
           1,
           1,
           1
          ],
          [
           0.5,
           0.5,
           0.5,
           0.5
          ],
          [
           1,
           1,
           1,
           1
          ],
          [
           0.5,
           0.5,
           0.5,
           0.5
          ],
          [
           1,
           1,
           1,
           1
          ],
          [
           0.5,
           0.5,
           0.5,
           0.5
          ],
          [
           1,
           1,
           1,
           1
          ],
          [
           0.5,
           0.5,
           0.5,
           0.5
          ],
          [
           1,
           1,
           1,
           1
          ],
          [
           0.5,
           0.5,
           0.5,
           0.5
          ],
          [
           1,
           1,
           1,
           1
          ],
          [
           0.5,
           0.5,
           0.5,
           0.5
          ],
          [
           1,
           1,
           1,
           1
          ],
          [
           0.5,
           0.5,
           0.5,
           0.5
          ],
          [
           1,
           1,
           1,
           1
          ],
          [
           0.5,
           0.5,
           0.5,
           0.5
          ],
          [
           1,
           1,
           1,
           1
          ],
          [
           0.5,
           0.5,
           0.5,
           0.5
          ],
          [
           1,
           1,
           1,
           1
          ],
          [
           0.5,
           0.5,
           0.5,
           0.5
          ],
          [
           1,
           1,
           1,
           1
          ],
          [
           0.5,
           0.5,
           0.5,
           0.5
          ],
          [
           1,
           1,
           1,
           1
          ],
          [
           0.5,
           0.5,
           0.5,
           0.5
          ],
          [
           1,
           1,
           1,
           1
          ],
          [
           0.5,
           0.5,
           0.5,
           0.5
          ],
          [
           1,
           1,
           1,
           1
          ],
          [
           0.5,
           0.5,
           0.5,
           0.5
          ],
          [
           1,
           1,
           1,
           1
          ],
          [
           0.5,
           0.5,
           0.5,
           0.5
          ],
          [
           1,
           1,
           1,
           1
          ],
          [
           0.5,
           0.5,
           0.5,
           0.5
          ],
          [
           1,
           1,
           1,
           1
          ],
          [
           0.5,
           0.5,
           0.5,
           0.5
          ],
          [
           1,
           1,
           1,
           1
          ],
          [
           0.5,
           0.5,
           0.5,
           0.5
          ],
          [
           1,
           1,
           1,
           1
          ],
          [
           0.5,
           0.5,
           0.5,
           0.5
          ],
          [
           1,
           1,
           1,
           1
          ],
          [
           0.5,
           0.5,
           0.5,
           0.5
          ],
          [
           1,
           1,
           1,
           1
          ],
          [
           0.5,
           0.5,
           0.5,
           0.5
          ],
          [
           1,
           1,
           1,
           1
          ],
          [
           0.5,
           0.5,
           0.5,
           0.5
          ],
          [
           1,
           1,
           1,
           1
          ],
          [
           0.5,
           0.5,
           0.5,
           0.5
          ],
          [
           1,
           1,
           1,
           1
          ],
          [
           0.5,
           0.5,
           0.5,
           0.5
          ],
          [
           1,
           1,
           1,
           1
          ],
          [
           0.5,
           0.5,
           0.5,
           0.5
          ],
          [
           1,
           1,
           1,
           1
          ],
          [
           0.5,
           0.5,
           0.5,
           0.5
          ],
          [
           1,
           1,
           1,
           1
          ],
          [
           0.5,
           0.5,
           0.5,
           0.5
          ],
          [
           1,
           1,
           1,
           1
          ],
          [
           0.5,
           0.5,
           0.5,
           0.5
          ],
          [
           1,
           1,
           1,
           1
          ],
          [
           0.5,
           0.5,
           0.5,
           0.5
          ],
          [
           1,
           1,
           1,
           1
          ],
          [
           0.5,
           0.5,
           0.5,
           0.5
          ],
          [
           1,
           1,
           1,
           1
          ],
          [
           0.5,
           0.5,
           0.5,
           0.5
          ],
          [
           1,
           1,
           1,
           1
          ],
          [
           0.5,
           0.5,
           0.5,
           0.5
          ],
          [
           1,
           1,
           1,
           1
          ],
          [
           0.5,
           0.5,
           0.5,
           0.5
          ],
          [
           1,
           1,
           1,
           1
          ],
          [
           0.5,
           0.5,
           0.5,
           0.5
          ],
          [
           1,
           1,
           1,
           1
          ],
          [
           0.5,
           0.5,
           0.5,
           0.5
          ],
          [
           1,
           1,
           1,
           1
          ],
          [
           0.5,
           0.5,
           0.5,
           0.5
          ],
          [
           1,
           1,
           1,
           1
          ],
          [
           0.5,
           0.5,
           0.5,
           0.5
          ],
          [
           1,
           1,
           1,
           1
          ],
          [
           0.5,
           0.5,
           0.5,
           0.5
          ],
          [
           1,
           1,
           1,
           1
          ],
          [
           0.5,
           0.5,
           0.5,
           0.5
          ],
          [
           1,
           1,
           1,
           1
          ],
          [
           0.5,
           0.5,
           0.5,
           0.5
          ],
          [
           1,
           1,
           1,
           1
          ],
          [
           0.5,
           0.5,
           0.5,
           0.5
          ],
          [
           1,
           1,
           1,
           1
          ],
          [
           0.5,
           0.5,
           0.5,
           0.5
          ],
          [
           1,
           1,
           1,
           1
          ],
          [
           0.5,
           0.5,
           0.5,
           0.5
          ],
          [
           1,
           1,
           1,
           1
          ],
          [
           0.5,
           0.5,
           0.5,
           0.5
          ],
          [
           1,
           1,
           1,
           1
          ],
          [
           0.5,
           0.5,
           0.5,
           0.5
          ],
          [
           1,
           1,
           1,
           1
          ],
          [
           0.5,
           0.5,
           0.5,
           0.5
          ],
          [
           1,
           1,
           1,
           1
          ],
          [
           0.5,
           0.5,
           0.5,
           0.5
          ],
          [
           1,
           1,
           1,
           1
          ],
          [
           0.5,
           0.5,
           0.5,
           0.5
          ],
          [
           1,
           1,
           1,
           1
          ],
          [
           0.5,
           0.5,
           0.5,
           0.5
          ],
          [
           1,
           1,
           1,
           1
          ],
          [
           0.5,
           0.5,
           0.5,
           0.5
          ],
          [
           1,
           1,
           1,
           1
          ],
          [
           0.5,
           0.5,
           0.5,
           0.5
          ],
          [
           1,
           1,
           1,
           1
          ],
          [
           0.5,
           0.5,
           0.5,
           0.5
          ],
          [
           1,
           1,
           1,
           1
          ],
          [
           0.5,
           0.5,
           0.5,
           0.5
          ],
          [
           1,
           1,
           1,
           1
          ],
          [
           0.5,
           0.5,
           0.5,
           0.5
          ],
          [
           1,
           1,
           1,
           1
          ],
          [
           0.5,
           0.5,
           0.5,
           0.5
          ],
          [
           1,
           1,
           1,
           1
          ],
          [
           0.5,
           0.5,
           0.5,
           0.5
          ],
          [
           1,
           1,
           1,
           1
          ],
          [
           0.5,
           0.5,
           0.5,
           0.5
          ],
          [
           1,
           1,
           1,
           1
          ],
          [
           0.5,
           0.5,
           0.5,
           0.5
          ],
          [
           1,
           1,
           1,
           1
          ],
          [
           0.5,
           0.5,
           0.5,
           0.5
          ],
          [
           1,
           1,
           1,
           1
          ],
          [
           0.5,
           0.5,
           0.5,
           0.5
          ],
          [
           1,
           1,
           1,
           1
          ],
          [
           0.5,
           0.5,
           0.5,
           0.5
          ],
          [
           1,
           1,
           1,
           1
          ],
          [
           0.5,
           0.5,
           0.5,
           0.5
          ],
          [
           1,
           1,
           1,
           1
          ],
          [
           0.5,
           0.5,
           0.5,
           0.5
          ],
          [
           1,
           1,
           1,
           1
          ],
          [
           0.5,
           0.5,
           0.5,
           0.5
          ],
          [
           1,
           1,
           1,
           1
          ],
          [
           0.5,
           0.5,
           0.5,
           0.5
          ],
          [
           1,
           1,
           1,
           1
          ],
          [
           0.5,
           0.5,
           0.5,
           0.5
          ],
          [
           1,
           1,
           1,
           1
          ],
          [
           0.5,
           0.5,
           0.5,
           0.5
          ],
          [
           1,
           1,
           1,
           1
          ],
          [
           0.5,
           0.5,
           0.5,
           0.5
          ],
          [
           1,
           1,
           1,
           1
          ],
          [
           0.5,
           0.5,
           0.5,
           0.5
          ],
          [
           1,
           1,
           1,
           1
          ],
          [
           0.5,
           0.5,
           0.5,
           0.5
          ],
          [
           1,
           1,
           1,
           1
          ],
          [
           0.5,
           0.5,
           0.5,
           0.5
          ],
          [
           1,
           1,
           1,
           1
          ],
          [
           0.5,
           0.5,
           0.5,
           0.5
          ],
          [
           1,
           1,
           1,
           1
          ],
          [
           0.5,
           0.5,
           0.5,
           0.5
          ],
          [
           1,
           1,
           1,
           1
          ],
          [
           0.5,
           0.5,
           0.5,
           0.5
          ],
          [
           1,
           1,
           1,
           1
          ],
          [
           0.5,
           0.5,
           0.5,
           0.5
          ],
          [
           1,
           1,
           1,
           1
          ],
          [
           0.5,
           0.5,
           0.5,
           0.5
          ],
          [
           1,
           1,
           1,
           1
          ],
          [
           0.5,
           0.5,
           0.5,
           0.5
          ],
          [
           1,
           1,
           1,
           1
          ],
          [
           0.5,
           0.5,
           0.5,
           0.5
          ],
          [
           1,
           1,
           1,
           1
          ],
          [
           0.5,
           0.5,
           0.5,
           0.5
          ],
          [
           1,
           1,
           1,
           1
          ],
          [
           0.5,
           0.5,
           0.5,
           0.5
          ],
          [
           1,
           1,
           1,
           1
          ],
          [
           0.5,
           0.5,
           0.5,
           0.5
          ],
          [
           1,
           1,
           1,
           1
          ],
          [
           0.5,
           0.5,
           0.5,
           0.5
          ],
          [
           1,
           1,
           1,
           1
          ],
          [
           0.5,
           0.5,
           0.5,
           0.5
          ],
          [
           1,
           1,
           1,
           1
          ],
          [
           0.5,
           0.5,
           0.5,
           0.5
          ],
          [
           1,
           1,
           1,
           1
          ],
          [
           0.5,
           0.5,
           0.5,
           0.5
          ],
          [
           1,
           1,
           1,
           1
          ],
          [
           0.5,
           0.5,
           0.5,
           0.5
          ]
         ]
        }
       ],
       "layout": {
        "annotations": [
         {
          "align": "left",
          "font": {
           "color": "#ffffff"
          },
          "showarrow": false,
          "text": "<b>CountryName</b>",
          "x": -0.45,
          "xanchor": "left",
          "xref": "x",
          "y": 0,
          "yref": "y"
         },
         {
          "align": "left",
          "font": {
           "color": "#ffffff"
          },
          "showarrow": false,
          "text": "<b>Population</b>",
          "x": 0.55,
          "xanchor": "left",
          "xref": "x",
          "y": 0,
          "yref": "y"
         },
         {
          "align": "left",
          "font": {
           "color": "#ffffff"
          },
          "showarrow": false,
          "text": "<b>Birthrate</b>",
          "x": 1.55,
          "xanchor": "left",
          "xref": "x",
          "y": 0,
          "yref": "y"
         },
         {
          "align": "left",
          "font": {
           "color": "#ffffff"
          },
          "showarrow": false,
          "text": "<b>Deathrate </b>",
          "x": 2.55,
          "xanchor": "left",
          "xref": "x",
          "y": 0,
          "yref": "y"
         },
         {
          "align": "left",
          "font": {
           "color": "#000000"
          },
          "showarrow": false,
          "text": "Aruba",
          "x": -0.45,
          "xanchor": "left",
          "xref": "x",
          "y": 1,
          "yref": "y"
         },
         {
          "align": "left",
          "font": {
           "color": "#000000"
          },
          "showarrow": false,
          "text": "31056997",
          "x": 0.55,
          "xanchor": "left",
          "xref": "x",
          "y": 1,
          "yref": "y"
         },
         {
          "align": "left",
          "font": {
           "color": "#000000"
          },
          "showarrow": false,
          "text": "46.6",
          "x": 1.55,
          "xanchor": "left",
          "xref": "x",
          "y": 1,
          "yref": "y"
         },
         {
          "align": "left",
          "font": {
           "color": "#000000"
          },
          "showarrow": false,
          "text": "20.34",
          "x": 2.55,
          "xanchor": "left",
          "xref": "x",
          "y": 1,
          "yref": "y"
         },
         {
          "align": "left",
          "font": {
           "color": "#000000"
          },
          "showarrow": false,
          "text": "Afghanistan",
          "x": -0.45,
          "xanchor": "left",
          "xref": "x",
          "y": 2,
          "yref": "y"
         },
         {
          "align": "left",
          "font": {
           "color": "#000000"
          },
          "showarrow": false,
          "text": "3581655",
          "x": 0.55,
          "xanchor": "left",
          "xref": "x",
          "y": 2,
          "yref": "y"
         },
         {
          "align": "left",
          "font": {
           "color": "#000000"
          },
          "showarrow": false,
          "text": "15.11",
          "x": 1.55,
          "xanchor": "left",
          "xref": "x",
          "y": 2,
          "yref": "y"
         },
         {
          "align": "left",
          "font": {
           "color": "#000000"
          },
          "showarrow": false,
          "text": "5.22",
          "x": 2.55,
          "xanchor": "left",
          "xref": "x",
          "y": 2,
          "yref": "y"
         },
         {
          "align": "left",
          "font": {
           "color": "#000000"
          },
          "showarrow": false,
          "text": "Angola",
          "x": -0.45,
          "xanchor": "left",
          "xref": "x",
          "y": 3,
          "yref": "y"
         },
         {
          "align": "left",
          "font": {
           "color": "#000000"
          },
          "showarrow": false,
          "text": "32930091",
          "x": 0.55,
          "xanchor": "left",
          "xref": "x",
          "y": 3,
          "yref": "y"
         },
         {
          "align": "left",
          "font": {
           "color": "#000000"
          },
          "showarrow": false,
          "text": "17.14",
          "x": 1.55,
          "xanchor": "left",
          "xref": "x",
          "y": 3,
          "yref": "y"
         },
         {
          "align": "left",
          "font": {
           "color": "#000000"
          },
          "showarrow": false,
          "text": "4.61",
          "x": 2.55,
          "xanchor": "left",
          "xref": "x",
          "y": 3,
          "yref": "y"
         },
         {
          "align": "left",
          "font": {
           "color": "#000000"
          },
          "showarrow": false,
          "text": "Albania",
          "x": -0.45,
          "xanchor": "left",
          "xref": "x",
          "y": 4,
          "yref": "y"
         },
         {
          "align": "left",
          "font": {
           "color": "#000000"
          },
          "showarrow": false,
          "text": "57794",
          "x": 0.55,
          "xanchor": "left",
          "xref": "x",
          "y": 4,
          "yref": "y"
         },
         {
          "align": "left",
          "font": {
           "color": "#000000"
          },
          "showarrow": false,
          "text": "22.46",
          "x": 1.55,
          "xanchor": "left",
          "xref": "x",
          "y": 4,
          "yref": "y"
         },
         {
          "align": "left",
          "font": {
           "color": "#000000"
          },
          "showarrow": false,
          "text": "3.27",
          "x": 2.55,
          "xanchor": "left",
          "xref": "x",
          "y": 4,
          "yref": "y"
         },
         {
          "align": "left",
          "font": {
           "color": "#000000"
          },
          "showarrow": false,
          "text": "Andorra",
          "x": -0.45,
          "xanchor": "left",
          "xref": "x",
          "y": 5,
          "yref": "y"
         },
         {
          "align": "left",
          "font": {
           "color": "#000000"
          },
          "showarrow": false,
          "text": "71201",
          "x": 0.55,
          "xanchor": "left",
          "xref": "x",
          "y": 5,
          "yref": "y"
         },
         {
          "align": "left",
          "font": {
           "color": "#000000"
          },
          "showarrow": false,
          "text": "8.71",
          "x": 1.55,
          "xanchor": "left",
          "xref": "x",
          "y": 5,
          "yref": "y"
         },
         {
          "align": "left",
          "font": {
           "color": "#000000"
          },
          "showarrow": false,
          "text": "6.25",
          "x": 2.55,
          "xanchor": "left",
          "xref": "x",
          "y": 5,
          "yref": "y"
         },
         {
          "align": "left",
          "font": {
           "color": "#000000"
          },
          "showarrow": false,
          "text": "Arab World",
          "x": -0.45,
          "xanchor": "left",
          "xref": "x",
          "y": 6,
          "yref": "y"
         },
         {
          "align": "left",
          "font": {
           "color": "#000000"
          },
          "showarrow": false,
          "text": "12127071",
          "x": 0.55,
          "xanchor": "left",
          "xref": "x",
          "y": 6,
          "yref": "y"
         },
         {
          "align": "left",
          "font": {
           "color": "#000000"
          },
          "showarrow": false,
          "text": "45.11",
          "x": 1.55,
          "xanchor": "left",
          "xref": "x",
          "y": 6,
          "yref": "y"
         },
         {
          "align": "left",
          "font": {
           "color": "#000000"
          },
          "showarrow": false,
          "text": "24.2",
          "x": 2.55,
          "xanchor": "left",
          "xref": "x",
          "y": 6,
          "yref": "y"
         },
         {
          "align": "left",
          "font": {
           "color": "#000000"
          },
          "showarrow": false,
          "text": "United Arab Emirates",
          "x": -0.45,
          "xanchor": "left",
          "xref": "x",
          "y": 7,
          "yref": "y"
         },
         {
          "align": "left",
          "font": {
           "color": "#000000"
          },
          "showarrow": false,
          "text": "13477",
          "x": 0.55,
          "xanchor": "left",
          "xref": "x",
          "y": 7,
          "yref": "y"
         },
         {
          "align": "left",
          "font": {
           "color": "#000000"
          },
          "showarrow": false,
          "text": "14.17",
          "x": 1.55,
          "xanchor": "left",
          "xref": "x",
          "y": 7,
          "yref": "y"
         },
         {
          "align": "left",
          "font": {
           "color": "#000000"
          },
          "showarrow": false,
          "text": "5.34",
          "x": 2.55,
          "xanchor": "left",
          "xref": "x",
          "y": 7,
          "yref": "y"
         },
         {
          "align": "left",
          "font": {
           "color": "#000000"
          },
          "showarrow": false,
          "text": "Argentina",
          "x": -0.45,
          "xanchor": "left",
          "xref": "x",
          "y": 8,
          "yref": "y"
         },
         {
          "align": "left",
          "font": {
           "color": "#000000"
          },
          "showarrow": false,
          "text": "69108",
          "x": 0.55,
          "xanchor": "left",
          "xref": "x",
          "y": 8,
          "yref": "y"
         },
         {
          "align": "left",
          "font": {
           "color": "#000000"
          },
          "showarrow": false,
          "text": "16.93",
          "x": 1.55,
          "xanchor": "left",
          "xref": "x",
          "y": 8,
          "yref": "y"
         },
         {
          "align": "left",
          "font": {
           "color": "#000000"
          },
          "showarrow": false,
          "text": "5.37",
          "x": 2.55,
          "xanchor": "left",
          "xref": "x",
          "y": 8,
          "yref": "y"
         },
         {
          "align": "left",
          "font": {
           "color": "#000000"
          },
          "showarrow": false,
          "text": "Armenia",
          "x": -0.45,
          "xanchor": "left",
          "xref": "x",
          "y": 9,
          "yref": "y"
         },
         {
          "align": "left",
          "font": {
           "color": "#000000"
          },
          "showarrow": false,
          "text": "39921833",
          "x": 0.55,
          "xanchor": "left",
          "xref": "x",
          "y": 9,
          "yref": "y"
         },
         {
          "align": "left",
          "font": {
           "color": "#000000"
          },
          "showarrow": false,
          "text": "16.73",
          "x": 1.55,
          "xanchor": "left",
          "xref": "x",
          "y": 9,
          "yref": "y"
         },
         {
          "align": "left",
          "font": {
           "color": "#000000"
          },
          "showarrow": false,
          "text": "7.55",
          "x": 2.55,
          "xanchor": "left",
          "xref": "x",
          "y": 9,
          "yref": "y"
         },
         {
          "align": "left",
          "font": {
           "color": "#000000"
          },
          "showarrow": false,
          "text": "American Samoa",
          "x": -0.45,
          "xanchor": "left",
          "xref": "x",
          "y": 10,
          "yref": "y"
         },
         {
          "align": "left",
          "font": {
           "color": "#000000"
          },
          "showarrow": false,
          "text": "2976372",
          "x": 0.55,
          "xanchor": "left",
          "xref": "x",
          "y": 10,
          "yref": "y"
         },
         {
          "align": "left",
          "font": {
           "color": "#000000"
          },
          "showarrow": false,
          "text": "12.07",
          "x": 1.55,
          "xanchor": "left",
          "xref": "x",
          "y": 10,
          "yref": "y"
         },
         {
          "align": "left",
          "font": {
           "color": "#000000"
          },
          "showarrow": false,
          "text": "8.23",
          "x": 2.55,
          "xanchor": "left",
          "xref": "x",
          "y": 10,
          "yref": "y"
         },
         {
          "align": "left",
          "font": {
           "color": "#000000"
          },
          "showarrow": false,
          "text": "Antigua and Barbuda",
          "x": -0.45,
          "xanchor": "left",
          "xref": "x",
          "y": 11,
          "yref": "y"
         },
         {
          "align": "left",
          "font": {
           "color": "#000000"
          },
          "showarrow": false,
          "text": "71891",
          "x": 0.55,
          "xanchor": "left",
          "xref": "x",
          "y": 11,
          "yref": "y"
         },
         {
          "align": "left",
          "font": {
           "color": "#000000"
          },
          "showarrow": false,
          "text": "11.03",
          "x": 1.55,
          "xanchor": "left",
          "xref": "x",
          "y": 11,
          "yref": "y"
         },
         {
          "align": "left",
          "font": {
           "color": "#000000"
          },
          "showarrow": false,
          "text": "6.68",
          "x": 2.55,
          "xanchor": "left",
          "xref": "x",
          "y": 11,
          "yref": "y"
         },
         {
          "align": "left",
          "font": {
           "color": "#000000"
          },
          "showarrow": false,
          "text": "Australia",
          "x": -0.45,
          "xanchor": "left",
          "xref": "x",
          "y": 12,
          "yref": "y"
         },
         {
          "align": "left",
          "font": {
           "color": "#000000"
          },
          "showarrow": false,
          "text": "20264082",
          "x": 0.55,
          "xanchor": "left",
          "xref": "x",
          "y": 12,
          "yref": "y"
         },
         {
          "align": "left",
          "font": {
           "color": "#000000"
          },
          "showarrow": false,
          "text": "12.14",
          "x": 1.55,
          "xanchor": "left",
          "xref": "x",
          "y": 12,
          "yref": "y"
         },
         {
          "align": "left",
          "font": {
           "color": "#000000"
          },
          "showarrow": false,
          "text": "7.51",
          "x": 2.55,
          "xanchor": "left",
          "xref": "x",
          "y": 12,
          "yref": "y"
         },
         {
          "align": "left",
          "font": {
           "color": "#000000"
          },
          "showarrow": false,
          "text": "Austria",
          "x": -0.45,
          "xanchor": "left",
          "xref": "x",
          "y": 13,
          "yref": "y"
         },
         {
          "align": "left",
          "font": {
           "color": "#000000"
          },
          "showarrow": false,
          "text": "8192880",
          "x": 0.55,
          "xanchor": "left",
          "xref": "x",
          "y": 13,
          "yref": "y"
         },
         {
          "align": "left",
          "font": {
           "color": "#000000"
          },
          "showarrow": false,
          "text": "8.74",
          "x": 1.55,
          "xanchor": "left",
          "xref": "x",
          "y": 13,
          "yref": "y"
         },
         {
          "align": "left",
          "font": {
           "color": "#000000"
          },
          "showarrow": false,
          "text": "9.76",
          "x": 2.55,
          "xanchor": "left",
          "xref": "x",
          "y": 13,
          "yref": "y"
         },
         {
          "align": "left",
          "font": {
           "color": "#000000"
          },
          "showarrow": false,
          "text": "Azerbaijan",
          "x": -0.45,
          "xanchor": "left",
          "xref": "x",
          "y": 14,
          "yref": "y"
         },
         {
          "align": "left",
          "font": {
           "color": "#000000"
          },
          "showarrow": false,
          "text": "7961619",
          "x": 0.55,
          "xanchor": "left",
          "xref": "x",
          "y": 14,
          "yref": "y"
         },
         {
          "align": "left",
          "font": {
           "color": "#000000"
          },
          "showarrow": false,
          "text": "20.74",
          "x": 1.55,
          "xanchor": "left",
          "xref": "x",
          "y": 14,
          "yref": "y"
         },
         {
          "align": "left",
          "font": {
           "color": "#000000"
          },
          "showarrow": false,
          "text": "9.75",
          "x": 2.55,
          "xanchor": "left",
          "xref": "x",
          "y": 14,
          "yref": "y"
         },
         {
          "align": "left",
          "font": {
           "color": "#000000"
          },
          "showarrow": false,
          "text": "Burundi",
          "x": -0.45,
          "xanchor": "left",
          "xref": "x",
          "y": 15,
          "yref": "y"
         },
         {
          "align": "left",
          "font": {
           "color": "#000000"
          },
          "showarrow": false,
          "text": "303770",
          "x": 0.55,
          "xanchor": "left",
          "xref": "x",
          "y": 15,
          "yref": "y"
         },
         {
          "align": "left",
          "font": {
           "color": "#000000"
          },
          "showarrow": false,
          "text": "17.57",
          "x": 1.55,
          "xanchor": "left",
          "xref": "x",
          "y": 15,
          "yref": "y"
         },
         {
          "align": "left",
          "font": {
           "color": "#000000"
          },
          "showarrow": false,
          "text": "9.05",
          "x": 2.55,
          "xanchor": "left",
          "xref": "x",
          "y": 15,
          "yref": "y"
         },
         {
          "align": "left",
          "font": {
           "color": "#000000"
          },
          "showarrow": false,
          "text": "Belgium",
          "x": -0.45,
          "xanchor": "left",
          "xref": "x",
          "y": 16,
          "yref": "y"
         },
         {
          "align": "left",
          "font": {
           "color": "#000000"
          },
          "showarrow": false,
          "text": "698585",
          "x": 0.55,
          "xanchor": "left",
          "xref": "x",
          "y": 16,
          "yref": "y"
         },
         {
          "align": "left",
          "font": {
           "color": "#000000"
          },
          "showarrow": false,
          "text": "17.8",
          "x": 1.55,
          "xanchor": "left",
          "xref": "x",
          "y": 16,
          "yref": "y"
         },
         {
          "align": "left",
          "font": {
           "color": "#000000"
          },
          "showarrow": false,
          "text": "4.14",
          "x": 2.55,
          "xanchor": "left",
          "xref": "x",
          "y": 16,
          "yref": "y"
         },
         {
          "align": "left",
          "font": {
           "color": "#000000"
          },
          "showarrow": false,
          "text": "Benin",
          "x": -0.45,
          "xanchor": "left",
          "xref": "x",
          "y": 17,
          "yref": "y"
         },
         {
          "align": "left",
          "font": {
           "color": "#000000"
          },
          "showarrow": false,
          "text": "147365352",
          "x": 0.55,
          "xanchor": "left",
          "xref": "x",
          "y": 17,
          "yref": "y"
         },
         {
          "align": "left",
          "font": {
           "color": "#000000"
          },
          "showarrow": false,
          "text": "29.8",
          "x": 1.55,
          "xanchor": "left",
          "xref": "x",
          "y": 17,
          "yref": "y"
         },
         {
          "align": "left",
          "font": {
           "color": "#000000"
          },
          "showarrow": false,
          "text": "8.27",
          "x": 2.55,
          "xanchor": "left",
          "xref": "x",
          "y": 17,
          "yref": "y"
         },
         {
          "align": "left",
          "font": {
           "color": "#000000"
          },
          "showarrow": false,
          "text": "Burkina Faso",
          "x": -0.45,
          "xanchor": "left",
          "xref": "x",
          "y": 18,
          "yref": "y"
         },
         {
          "align": "left",
          "font": {
           "color": "#000000"
          },
          "showarrow": false,
          "text": "279912",
          "x": 0.55,
          "xanchor": "left",
          "xref": "x",
          "y": 18,
          "yref": "y"
         },
         {
          "align": "left",
          "font": {
           "color": "#000000"
          },
          "showarrow": false,
          "text": "12.71",
          "x": 1.55,
          "xanchor": "left",
          "xref": "x",
          "y": 18,
          "yref": "y"
         },
         {
          "align": "left",
          "font": {
           "color": "#000000"
          },
          "showarrow": false,
          "text": "8.67",
          "x": 2.55,
          "xanchor": "left",
          "xref": "x",
          "y": 18,
          "yref": "y"
         },
         {
          "align": "left",
          "font": {
           "color": "#000000"
          },
          "showarrow": false,
          "text": "Bangladesh",
          "x": -0.45,
          "xanchor": "left",
          "xref": "x",
          "y": 19,
          "yref": "y"
         },
         {
          "align": "left",
          "font": {
           "color": "#000000"
          },
          "showarrow": false,
          "text": "10293011",
          "x": 0.55,
          "xanchor": "left",
          "xref": "x",
          "y": 19,
          "yref": "y"
         },
         {
          "align": "left",
          "font": {
           "color": "#000000"
          },
          "showarrow": false,
          "text": "11.16",
          "x": 1.55,
          "xanchor": "left",
          "xref": "x",
          "y": 19,
          "yref": "y"
         },
         {
          "align": "left",
          "font": {
           "color": "#000000"
          },
          "showarrow": false,
          "text": "14.02",
          "x": 2.55,
          "xanchor": "left",
          "xref": "x",
          "y": 19,
          "yref": "y"
         },
         {
          "align": "left",
          "font": {
           "color": "#000000"
          },
          "showarrow": false,
          "text": "Bulgaria",
          "x": -0.45,
          "xanchor": "left",
          "xref": "x",
          "y": 20,
          "yref": "y"
         },
         {
          "align": "left",
          "font": {
           "color": "#000000"
          },
          "showarrow": false,
          "text": "10379067",
          "x": 0.55,
          "xanchor": "left",
          "xref": "x",
          "y": 20,
          "yref": "y"
         },
         {
          "align": "left",
          "font": {
           "color": "#000000"
          },
          "showarrow": false,
          "text": "10.38",
          "x": 1.55,
          "xanchor": "left",
          "xref": "x",
          "y": 20,
          "yref": "y"
         },
         {
          "align": "left",
          "font": {
           "color": "#000000"
          },
          "showarrow": false,
          "text": "10.27",
          "x": 2.55,
          "xanchor": "left",
          "xref": "x",
          "y": 20,
          "yref": "y"
         },
         {
          "align": "left",
          "font": {
           "color": "#000000"
          },
          "showarrow": false,
          "text": "Bahrain",
          "x": -0.45,
          "xanchor": "left",
          "xref": "x",
          "y": 21,
          "yref": "y"
         },
         {
          "align": "left",
          "font": {
           "color": "#000000"
          },
          "showarrow": false,
          "text": "287730",
          "x": 0.55,
          "xanchor": "left",
          "xref": "x",
          "y": 21,
          "yref": "y"
         },
         {
          "align": "left",
          "font": {
           "color": "#000000"
          },
          "showarrow": false,
          "text": "28.84",
          "x": 1.55,
          "xanchor": "left",
          "xref": "x",
          "y": 21,
          "yref": "y"
         },
         {
          "align": "left",
          "font": {
           "color": "#000000"
          },
          "showarrow": false,
          "text": "5.72",
          "x": 2.55,
          "xanchor": "left",
          "xref": "x",
          "y": 21,
          "yref": "y"
         },
         {
          "align": "left",
          "font": {
           "color": "#000000"
          },
          "showarrow": false,
          "text": "Bahamas, The",
          "x": -0.45,
          "xanchor": "left",
          "xref": "x",
          "y": 22,
          "yref": "y"
         },
         {
          "align": "left",
          "font": {
           "color": "#000000"
          },
          "showarrow": false,
          "text": "7862944",
          "x": 0.55,
          "xanchor": "left",
          "xref": "x",
          "y": 22,
          "yref": "y"
         },
         {
          "align": "left",
          "font": {
           "color": "#000000"
          },
          "showarrow": false,
          "text": "38.85",
          "x": 1.55,
          "xanchor": "left",
          "xref": "x",
          "y": 22,
          "yref": "y"
         },
         {
          "align": "left",
          "font": {
           "color": "#000000"
          },
          "showarrow": false,
          "text": "12.22",
          "x": 2.55,
          "xanchor": "left",
          "xref": "x",
          "y": 22,
          "yref": "y"
         },
         {
          "align": "left",
          "font": {
           "color": "#000000"
          },
          "showarrow": false,
          "text": "Bosnia and Herzegovina",
          "x": -0.45,
          "xanchor": "left",
          "xref": "x",
          "y": 23,
          "yref": "y"
         },
         {
          "align": "left",
          "font": {
           "color": "#000000"
          },
          "showarrow": false,
          "text": "65773",
          "x": 0.55,
          "xanchor": "left",
          "xref": "x",
          "y": 23,
          "yref": "y"
         },
         {
          "align": "left",
          "font": {
           "color": "#000000"
          },
          "showarrow": false,
          "text": "11.4",
          "x": 1.55,
          "xanchor": "left",
          "xref": "x",
          "y": 23,
          "yref": "y"
         },
         {
          "align": "left",
          "font": {
           "color": "#000000"
          },
          "showarrow": false,
          "text": "7.74",
          "x": 2.55,
          "xanchor": "left",
          "xref": "x",
          "y": 23,
          "yref": "y"
         },
         {
          "align": "left",
          "font": {
           "color": "#000000"
          },
          "showarrow": false,
          "text": "Belarus",
          "x": -0.45,
          "xanchor": "left",
          "xref": "x",
          "y": 24,
          "yref": "y"
         },
         {
          "align": "left",
          "font": {
           "color": "#000000"
          },
          "showarrow": false,
          "text": "2279723",
          "x": 0.55,
          "xanchor": "left",
          "xref": "x",
          "y": 24,
          "yref": "y"
         },
         {
          "align": "left",
          "font": {
           "color": "#000000"
          },
          "showarrow": false,
          "text": "33.65",
          "x": 1.55,
          "xanchor": "left",
          "xref": "x",
          "y": 24,
          "yref": "y"
         },
         {
          "align": "left",
          "font": {
           "color": "#000000"
          },
          "showarrow": false,
          "text": "12.7",
          "x": 2.55,
          "xanchor": "left",
          "xref": "x",
          "y": 24,
          "yref": "y"
         },
         {
          "align": "left",
          "font": {
           "color": "#000000"
          },
          "showarrow": false,
          "text": "Belize",
          "x": -0.45,
          "xanchor": "left",
          "xref": "x",
          "y": 25,
          "yref": "y"
         },
         {
          "align": "left",
          "font": {
           "color": "#000000"
          },
          "showarrow": false,
          "text": "8989046",
          "x": 0.55,
          "xanchor": "left",
          "xref": "x",
          "y": 25,
          "yref": "y"
         },
         {
          "align": "left",
          "font": {
           "color": "#000000"
          },
          "showarrow": false,
          "text": "23.3",
          "x": 1.55,
          "xanchor": "left",
          "xref": "x",
          "y": 25,
          "yref": "y"
         },
         {
          "align": "left",
          "font": {
           "color": "#000000"
          },
          "showarrow": false,
          "text": "7.53",
          "x": 2.55,
          "xanchor": "left",
          "xref": "x",
          "y": 25,
          "yref": "y"
         },
         {
          "align": "left",
          "font": {
           "color": "#000000"
          },
          "showarrow": false,
          "text": "Bermuda",
          "x": -0.45,
          "xanchor": "left",
          "xref": "x",
          "y": 26,
          "yref": "y"
         },
         {
          "align": "left",
          "font": {
           "color": "#000000"
          },
          "showarrow": false,
          "text": "4498976",
          "x": 0.55,
          "xanchor": "left",
          "xref": "x",
          "y": 26,
          "yref": "y"
         },
         {
          "align": "left",
          "font": {
           "color": "#000000"
          },
          "showarrow": false,
          "text": "8.77",
          "x": 1.55,
          "xanchor": "left",
          "xref": "x",
          "y": 26,
          "yref": "y"
         },
         {
          "align": "left",
          "font": {
           "color": "#000000"
          },
          "showarrow": false,
          "text": "8.27",
          "x": 2.55,
          "xanchor": "left",
          "xref": "x",
          "y": 26,
          "yref": "y"
         },
         {
          "align": "left",
          "font": {
           "color": "#000000"
          },
          "showarrow": false,
          "text": "Bolivia",
          "x": -0.45,
          "xanchor": "left",
          "xref": "x",
          "y": 27,
          "yref": "y"
         },
         {
          "align": "left",
          "font": {
           "color": "#000000"
          },
          "showarrow": false,
          "text": "1639833",
          "x": 0.55,
          "xanchor": "left",
          "xref": "x",
          "y": 27,
          "yref": "y"
         },
         {
          "align": "left",
          "font": {
           "color": "#000000"
          },
          "showarrow": false,
          "text": "23.08",
          "x": 1.55,
          "xanchor": "left",
          "xref": "x",
          "y": 27,
          "yref": "y"
         },
         {
          "align": "left",
          "font": {
           "color": "#000000"
          },
          "showarrow": false,
          "text": "29.5",
          "x": 2.55,
          "xanchor": "left",
          "xref": "x",
          "y": 27,
          "yref": "y"
         },
         {
          "align": "left",
          "font": {
           "color": "#000000"
          },
          "showarrow": false,
          "text": "Brazil",
          "x": -0.45,
          "xanchor": "left",
          "xref": "x",
          "y": 28,
          "yref": "y"
         },
         {
          "align": "left",
          "font": {
           "color": "#000000"
          },
          "showarrow": false,
          "text": "188078227",
          "x": 0.55,
          "xanchor": "left",
          "xref": "x",
          "y": 28,
          "yref": "y"
         },
         {
          "align": "left",
          "font": {
           "color": "#000000"
          },
          "showarrow": false,
          "text": "16.56",
          "x": 1.55,
          "xanchor": "left",
          "xref": "x",
          "y": 28,
          "yref": "y"
         },
         {
          "align": "left",
          "font": {
           "color": "#000000"
          },
          "showarrow": false,
          "text": "6.17",
          "x": 2.55,
          "xanchor": "left",
          "xref": "x",
          "y": 28,
          "yref": "y"
         },
         {
          "align": "left",
          "font": {
           "color": "#000000"
          },
          "showarrow": false,
          "text": "Barbados",
          "x": -0.45,
          "xanchor": "left",
          "xref": "x",
          "y": 29,
          "yref": "y"
         },
         {
          "align": "left",
          "font": {
           "color": "#000000"
          },
          "showarrow": false,
          "text": "23098",
          "x": 0.55,
          "xanchor": "left",
          "xref": "x",
          "y": 29,
          "yref": "y"
         },
         {
          "align": "left",
          "font": {
           "color": "#000000"
          },
          "showarrow": false,
          "text": "14.89",
          "x": 1.55,
          "xanchor": "left",
          "xref": "x",
          "y": 29,
          "yref": "y"
         },
         {
          "align": "left",
          "font": {
           "color": "#000000"
          },
          "showarrow": false,
          "text": "4.42",
          "x": 2.55,
          "xanchor": "left",
          "xref": "x",
          "y": 29,
          "yref": "y"
         },
         {
          "align": "left",
          "font": {
           "color": "#000000"
          },
          "showarrow": false,
          "text": "Brunei Darussalam",
          "x": -0.45,
          "xanchor": "left",
          "xref": "x",
          "y": 30,
          "yref": "y"
         },
         {
          "align": "left",
          "font": {
           "color": "#000000"
          },
          "showarrow": false,
          "text": "379444",
          "x": 0.55,
          "xanchor": "left",
          "xref": "x",
          "y": 30,
          "yref": "y"
         },
         {
          "align": "left",
          "font": {
           "color": "#000000"
          },
          "showarrow": false,
          "text": "18.79",
          "x": 1.55,
          "xanchor": "left",
          "xref": "x",
          "y": 30,
          "yref": "y"
         },
         {
          "align": "left",
          "font": {
           "color": "#000000"
          },
          "showarrow": false,
          "text": "3.45",
          "x": 2.55,
          "xanchor": "left",
          "xref": "x",
          "y": 30,
          "yref": "y"
         },
         {
          "align": "left",
          "font": {
           "color": "#000000"
          },
          "showarrow": false,
          "text": "Bhutan",
          "x": -0.45,
          "xanchor": "left",
          "xref": "x",
          "y": 31,
          "yref": "y"
         },
         {
          "align": "left",
          "font": {
           "color": "#000000"
          },
          "showarrow": false,
          "text": "7385367",
          "x": 0.55,
          "xanchor": "left",
          "xref": "x",
          "y": 31,
          "yref": "y"
         },
         {
          "align": "left",
          "font": {
           "color": "#000000"
          },
          "showarrow": false,
          "text": "9.65",
          "x": 1.55,
          "xanchor": "left",
          "xref": "x",
          "y": 31,
          "yref": "y"
         },
         {
          "align": "left",
          "font": {
           "color": "#000000"
          },
          "showarrow": false,
          "text": "14.27",
          "x": 2.55,
          "xanchor": "left",
          "xref": "x",
          "y": 31,
          "yref": "y"
         },
         {
          "align": "left",
          "font": {
           "color": "#000000"
          },
          "showarrow": false,
          "text": "Botswana",
          "x": -0.45,
          "xanchor": "left",
          "xref": "x",
          "y": 32,
          "yref": "y"
         },
         {
          "align": "left",
          "font": {
           "color": "#000000"
          },
          "showarrow": false,
          "text": "13902972",
          "x": 0.55,
          "xanchor": "left",
          "xref": "x",
          "y": 32,
          "yref": "y"
         },
         {
          "align": "left",
          "font": {
           "color": "#000000"
          },
          "showarrow": false,
          "text": "45.62",
          "x": 1.55,
          "xanchor": "left",
          "xref": "x",
          "y": 32,
          "yref": "y"
         },
         {
          "align": "left",
          "font": {
           "color": "#000000"
          },
          "showarrow": false,
          "text": "15.6",
          "x": 2.55,
          "xanchor": "left",
          "xref": "x",
          "y": 32,
          "yref": "y"
         },
         {
          "align": "left",
          "font": {
           "color": "#000000"
          },
          "showarrow": false,
          "text": "Central African Republic",
          "x": -0.45,
          "xanchor": "left",
          "xref": "x",
          "y": 33,
          "yref": "y"
         },
         {
          "align": "left",
          "font": {
           "color": "#000000"
          },
          "showarrow": false,
          "text": "47382633",
          "x": 0.55,
          "xanchor": "left",
          "xref": "x",
          "y": 33,
          "yref": "y"
         },
         {
          "align": "left",
          "font": {
           "color": "#000000"
          },
          "showarrow": false,
          "text": "17.91",
          "x": 1.55,
          "xanchor": "left",
          "xref": "x",
          "y": 33,
          "yref": "y"
         },
         {
          "align": "left",
          "font": {
           "color": "#000000"
          },
          "showarrow": false,
          "text": "9.83",
          "x": 2.55,
          "xanchor": "left",
          "xref": "x",
          "y": 33,
          "yref": "y"
         },
         {
          "align": "left",
          "font": {
           "color": "#000000"
          },
          "showarrow": false,
          "text": "Canada",
          "x": -0.45,
          "xanchor": "left",
          "xref": "x",
          "y": 34,
          "yref": "y"
         },
         {
          "align": "left",
          "font": {
           "color": "#000000"
          },
          "showarrow": false,
          "text": "8090068",
          "x": 0.55,
          "xanchor": "left",
          "xref": "x",
          "y": 34,
          "yref": "y"
         },
         {
          "align": "left",
          "font": {
           "color": "#000000"
          },
          "showarrow": false,
          "text": "42.22",
          "x": 1.55,
          "xanchor": "left",
          "xref": "x",
          "y": 34,
          "yref": "y"
         },
         {
          "align": "left",
          "font": {
           "color": "#000000"
          },
          "showarrow": false,
          "text": "13.46",
          "x": 2.55,
          "xanchor": "left",
          "xref": "x",
          "y": 34,
          "yref": "y"
         },
         {
          "align": "left",
          "font": {
           "color": "#000000"
          },
          "showarrow": false,
          "text": "Central Europe and the Baltics",
          "x": -0.45,
          "xanchor": "left",
          "xref": "x",
          "y": 35,
          "yref": "y"
         },
         {
          "align": "left",
          "font": {
           "color": "#000000"
          },
          "showarrow": false,
          "text": "13881427",
          "x": 0.55,
          "xanchor": "left",
          "xref": "x",
          "y": 35,
          "yref": "y"
         },
         {
          "align": "left",
          "font": {
           "color": "#000000"
          },
          "showarrow": false,
          "text": "26.9",
          "x": 1.55,
          "xanchor": "left",
          "xref": "x",
          "y": 35,
          "yref": "y"
         },
         {
          "align": "left",
          "font": {
           "color": "#000000"
          },
          "showarrow": false,
          "text": "9.06",
          "x": 2.55,
          "xanchor": "left",
          "xref": "x",
          "y": 35,
          "yref": "y"
         },
         {
          "align": "left",
          "font": {
           "color": "#000000"
          },
          "showarrow": false,
          "text": "Switzerland",
          "x": -0.45,
          "xanchor": "left",
          "xref": "x",
          "y": 36,
          "yref": "y"
         },
         {
          "align": "left",
          "font": {
           "color": "#000000"
          },
          "showarrow": false,
          "text": "17340702",
          "x": 0.55,
          "xanchor": "left",
          "xref": "x",
          "y": 36,
          "yref": "y"
         },
         {
          "align": "left",
          "font": {
           "color": "#000000"
          },
          "showarrow": false,
          "text": "33.89",
          "x": 1.55,
          "xanchor": "left",
          "xref": "x",
          "y": 36,
          "yref": "y"
         },
         {
          "align": "left",
          "font": {
           "color": "#000000"
          },
          "showarrow": false,
          "text": "13.47",
          "x": 2.55,
          "xanchor": "left",
          "xref": "x",
          "y": 36,
          "yref": "y"
         },
         {
          "align": "left",
          "font": {
           "color": "#000000"
          },
          "showarrow": false,
          "text": "Channel Islands",
          "x": -0.45,
          "xanchor": "left",
          "xref": "x",
          "y": 37,
          "yref": "y"
         },
         {
          "align": "left",
          "font": {
           "color": "#000000"
          },
          "showarrow": false,
          "text": "33098932",
          "x": 0.55,
          "xanchor": "left",
          "xref": "x",
          "y": 37,
          "yref": "y"
         },
         {
          "align": "left",
          "font": {
           "color": "#000000"
          },
          "showarrow": false,
          "text": "10.78",
          "x": 1.55,
          "xanchor": "left",
          "xref": "x",
          "y": 37,
          "yref": "y"
         },
         {
          "align": "left",
          "font": {
           "color": "#000000"
          },
          "showarrow": false,
          "text": "7.8",
          "x": 2.55,
          "xanchor": "left",
          "xref": "x",
          "y": 37,
          "yref": "y"
         },
         {
          "align": "left",
          "font": {
           "color": "#000000"
          },
          "showarrow": false,
          "text": "Chile",
          "x": -0.45,
          "xanchor": "left",
          "xref": "x",
          "y": 38,
          "yref": "y"
         },
         {
          "align": "left",
          "font": {
           "color": "#000000"
          },
          "showarrow": false,
          "text": "420979",
          "x": 0.55,
          "xanchor": "left",
          "xref": "x",
          "y": 38,
          "yref": "y"
         },
         {
          "align": "left",
          "font": {
           "color": "#000000"
          },
          "showarrow": false,
          "text": "24.87",
          "x": 1.55,
          "xanchor": "left",
          "xref": "x",
          "y": 38,
          "yref": "y"
         },
         {
          "align": "left",
          "font": {
           "color": "#000000"
          },
          "showarrow": false,
          "text": "6.55",
          "x": 2.55,
          "xanchor": "left",
          "xref": "x",
          "y": 38,
          "yref": "y"
         },
         {
          "align": "left",
          "font": {
           "color": "#000000"
          },
          "showarrow": false,
          "text": "China",
          "x": -0.45,
          "xanchor": "left",
          "xref": "x",
          "y": 39,
          "yref": "y"
         },
         {
          "align": "left",
          "font": {
           "color": "#000000"
          },
          "showarrow": false,
          "text": "45436",
          "x": 0.55,
          "xanchor": "left",
          "xref": "x",
          "y": 39,
          "yref": "y"
         },
         {
          "align": "left",
          "font": {
           "color": "#000000"
          },
          "showarrow": false,
          "text": "12.74",
          "x": 1.55,
          "xanchor": "left",
          "xref": "x",
          "y": 39,
          "yref": "y"
         },
         {
          "align": "left",
          "font": {
           "color": "#000000"
          },
          "showarrow": false,
          "text": "4.89",
          "x": 2.55,
          "xanchor": "left",
          "xref": "x",
          "y": 39,
          "yref": "y"
         },
         {
          "align": "left",
          "font": {
           "color": "#000000"
          },
          "showarrow": false,
          "text": "Cote d'Ivoire",
          "x": -0.45,
          "xanchor": "left",
          "xref": "x",
          "y": 40,
          "yref": "y"
         },
         {
          "align": "left",
          "font": {
           "color": "#000000"
          },
          "showarrow": false,
          "text": "4303356",
          "x": 0.55,
          "xanchor": "left",
          "xref": "x",
          "y": 40,
          "yref": "y"
         },
         {
          "align": "left",
          "font": {
           "color": "#000000"
          },
          "showarrow": false,
          "text": "33.91",
          "x": 1.55,
          "xanchor": "left",
          "xref": "x",
          "y": 40,
          "yref": "y"
         },
         {
          "align": "left",
          "font": {
           "color": "#000000"
          },
          "showarrow": false,
          "text": "18.65",
          "x": 2.55,
          "xanchor": "left",
          "xref": "x",
          "y": 40,
          "yref": "y"
         },
         {
          "align": "left",
          "font": {
           "color": "#000000"
          },
          "showarrow": false,
          "text": "Cameroon",
          "x": -0.45,
          "xanchor": "left",
          "xref": "x",
          "y": 41,
          "yref": "y"
         },
         {
          "align": "left",
          "font": {
           "color": "#000000"
          },
          "showarrow": false,
          "text": "9944201",
          "x": 0.55,
          "xanchor": "left",
          "xref": "x",
          "y": 41,
          "yref": "y"
         },
         {
          "align": "left",
          "font": {
           "color": "#000000"
          },
          "showarrow": false,
          "text": "45.73",
          "x": 1.55,
          "xanchor": "left",
          "xref": "x",
          "y": 41,
          "yref": "y"
         },
         {
          "align": "left",
          "font": {
           "color": "#000000"
          },
          "showarrow": false,
          "text": "16.38",
          "x": 2.55,
          "xanchor": "left",
          "xref": "x",
          "y": 41,
          "yref": "y"
         },
         {
          "align": "left",
          "font": {
           "color": "#000000"
          },
          "showarrow": false,
          "text": "Congo, Dem. Rep.",
          "x": -0.45,
          "xanchor": "left",
          "xref": "x",
          "y": 42,
          "yref": "y"
         },
         {
          "align": "left",
          "font": {
           "color": "#000000"
          },
          "showarrow": false,
          "text": "16134219",
          "x": 0.55,
          "xanchor": "left",
          "xref": "x",
          "y": 42,
          "yref": "y"
         },
         {
          "align": "left",
          "font": {
           "color": "#000000"
          },
          "showarrow": false,
          "text": "15.23",
          "x": 1.55,
          "xanchor": "left",
          "xref": "x",
          "y": 42,
          "yref": "y"
         },
         {
          "align": "left",
          "font": {
           "color": "#000000"
          },
          "showarrow": false,
          "text": "5.81",
          "x": 2.55,
          "xanchor": "left",
          "xref": "x",
          "y": 42,
          "yref": "y"
         },
         {
          "align": "left",
          "font": {
           "color": "#000000"
          },
          "showarrow": false,
          "text": "Congo, Rep.",
          "x": -0.45,
          "xanchor": "left",
          "xref": "x",
          "y": 43,
          "yref": "y"
         },
         {
          "align": "left",
          "font": {
           "color": "#000000"
          },
          "showarrow": false,
          "text": "1313973713",
          "x": 0.55,
          "xanchor": "left",
          "xref": "x",
          "y": 43,
          "yref": "y"
         },
         {
          "align": "left",
          "font": {
           "color": "#000000"
          },
          "showarrow": false,
          "text": "13.25",
          "x": 1.55,
          "xanchor": "left",
          "xref": "x",
          "y": 43,
          "yref": "y"
         },
         {
          "align": "left",
          "font": {
           "color": "#000000"
          },
          "showarrow": false,
          "text": "6.97",
          "x": 2.55,
          "xanchor": "left",
          "xref": "x",
          "y": 43,
          "yref": "y"
         },
         {
          "align": "left",
          "font": {
           "color": "#000000"
          },
          "showarrow": false,
          "text": "Colombia",
          "x": -0.45,
          "xanchor": "left",
          "xref": "x",
          "y": 44,
          "yref": "y"
         },
         {
          "align": "left",
          "font": {
           "color": "#000000"
          },
          "showarrow": false,
          "text": "43593035",
          "x": 0.55,
          "xanchor": "left",
          "xref": "x",
          "y": 44,
          "yref": "y"
         },
         {
          "align": "left",
          "font": {
           "color": "#000000"
          },
          "showarrow": false,
          "text": "20.48",
          "x": 1.55,
          "xanchor": "left",
          "xref": "x",
          "y": 44,
          "yref": "y"
         },
         {
          "align": "left",
          "font": {
           "color": "#000000"
          },
          "showarrow": false,
          "text": "5.58",
          "x": 2.55,
          "xanchor": "left",
          "xref": "x",
          "y": 44,
          "yref": "y"
         },
         {
          "align": "left",
          "font": {
           "color": "#000000"
          },
          "showarrow": false,
          "text": "Comoros",
          "x": -0.45,
          "xanchor": "left",
          "xref": "x",
          "y": 45,
          "yref": "y"
         },
         {
          "align": "left",
          "font": {
           "color": "#000000"
          },
          "showarrow": false,
          "text": "690948",
          "x": 0.55,
          "xanchor": "left",
          "xref": "x",
          "y": 45,
          "yref": "y"
         },
         {
          "align": "left",
          "font": {
           "color": "#000000"
          },
          "showarrow": false,
          "text": "36.93",
          "x": 1.55,
          "xanchor": "left",
          "xref": "x",
          "y": 45,
          "yref": "y"
         },
         {
          "align": "left",
          "font": {
           "color": "#000000"
          },
          "showarrow": false,
          "text": "8.2",
          "x": 2.55,
          "xanchor": "left",
          "xref": "x",
          "y": 45,
          "yref": "y"
         },
         {
          "align": "left",
          "font": {
           "color": "#000000"
          },
          "showarrow": false,
          "text": "Cabo Verde",
          "x": -0.45,
          "xanchor": "left",
          "xref": "x",
          "y": 46,
          "yref": "y"
         },
         {
          "align": "left",
          "font": {
           "color": "#000000"
          },
          "showarrow": false,
          "text": "62660551",
          "x": 0.55,
          "xanchor": "left",
          "xref": "x",
          "y": 46,
          "yref": "y"
         },
         {
          "align": "left",
          "font": {
           "color": "#000000"
          },
          "showarrow": false,
          "text": "43.69",
          "x": 1.55,
          "xanchor": "left",
          "xref": "x",
          "y": 46,
          "yref": "y"
         },
         {
          "align": "left",
          "font": {
           "color": "#000000"
          },
          "showarrow": false,
          "text": "13.27",
          "x": 2.55,
          "xanchor": "left",
          "xref": "x",
          "y": 46,
          "yref": "y"
         },
         {
          "align": "left",
          "font": {
           "color": "#000000"
          },
          "showarrow": false,
          "text": "Costa Rica",
          "x": -0.45,
          "xanchor": "left",
          "xref": "x",
          "y": 47,
          "yref": "y"
         },
         {
          "align": "left",
          "font": {
           "color": "#000000"
          },
          "showarrow": false,
          "text": "3702314",
          "x": 0.55,
          "xanchor": "left",
          "xref": "x",
          "y": 47,
          "yref": "y"
         },
         {
          "align": "left",
          "font": {
           "color": "#000000"
          },
          "showarrow": false,
          "text": "42.57",
          "x": 1.55,
          "xanchor": "left",
          "xref": "x",
          "y": 47,
          "yref": "y"
         },
         {
          "align": "left",
          "font": {
           "color": "#000000"
          },
          "showarrow": false,
          "text": "12.93",
          "x": 2.55,
          "xanchor": "left",
          "xref": "x",
          "y": 47,
          "yref": "y"
         },
         {
          "align": "left",
          "font": {
           "color": "#000000"
          },
          "showarrow": false,
          "text": "Caribbean small states",
          "x": -0.45,
          "xanchor": "left",
          "xref": "x",
          "y": 48,
          "yref": "y"
         },
         {
          "align": "left",
          "font": {
           "color": "#000000"
          },
          "showarrow": false,
          "text": "21388",
          "x": 0.55,
          "xanchor": "left",
          "xref": "x",
          "y": 48,
          "yref": "y"
         },
         {
          "align": "left",
          "font": {
           "color": "#000000"
          },
          "showarrow": false,
          "text": "21.0",
          "x": 1.55,
          "xanchor": "left",
          "xref": "x",
          "y": 48,
          "yref": "y"
         },
         {
          "align": "left",
          "font": {
           "color": "#000000"
          },
          "showarrow": false,
          "text": "nan",
          "x": 2.55,
          "xanchor": "left",
          "xref": "x",
          "y": 48,
          "yref": "y"
         },
         {
          "align": "left",
          "font": {
           "color": "#000000"
          },
          "showarrow": false,
          "text": "Cuba",
          "x": -0.45,
          "xanchor": "left",
          "xref": "x",
          "y": 49,
          "yref": "y"
         },
         {
          "align": "left",
          "font": {
           "color": "#000000"
          },
          "showarrow": false,
          "text": "4075261",
          "x": 0.55,
          "xanchor": "left",
          "xref": "x",
          "y": 49,
          "yref": "y"
         },
         {
          "align": "left",
          "font": {
           "color": "#000000"
          },
          "showarrow": false,
          "text": "18.32",
          "x": 1.55,
          "xanchor": "left",
          "xref": "x",
          "y": 49,
          "yref": "y"
         },
         {
          "align": "left",
          "font": {
           "color": "#000000"
          },
          "showarrow": false,
          "text": "4.36",
          "x": 2.55,
          "xanchor": "left",
          "xref": "x",
          "y": 49,
          "yref": "y"
         },
         {
          "align": "left",
          "font": {
           "color": "#000000"
          },
          "showarrow": false,
          "text": "Curacao",
          "x": -0.45,
          "xanchor": "left",
          "xref": "x",
          "y": 50,
          "yref": "y"
         },
         {
          "align": "left",
          "font": {
           "color": "#000000"
          },
          "showarrow": false,
          "text": "17654843",
          "x": 0.55,
          "xanchor": "left",
          "xref": "x",
          "y": 50,
          "yref": "y"
         },
         {
          "align": "left",
          "font": {
           "color": "#000000"
          },
          "showarrow": false,
          "text": "35.11",
          "x": 1.55,
          "xanchor": "left",
          "xref": "x",
          "y": 50,
          "yref": "y"
         },
         {
          "align": "left",
          "font": {
           "color": "#000000"
          },
          "showarrow": false,
          "text": "14.84",
          "x": 2.55,
          "xanchor": "left",
          "xref": "x",
          "y": 50,
          "yref": "y"
         },
         {
          "align": "left",
          "font": {
           "color": "#000000"
          },
          "showarrow": false,
          "text": "Cayman Islands",
          "x": -0.45,
          "xanchor": "left",
          "xref": "x",
          "y": 51,
          "yref": "y"
         },
         {
          "align": "left",
          "font": {
           "color": "#000000"
          },
          "showarrow": false,
          "text": "4494749",
          "x": 0.55,
          "xanchor": "left",
          "xref": "x",
          "y": 51,
          "yref": "y"
         },
         {
          "align": "left",
          "font": {
           "color": "#000000"
          },
          "showarrow": false,
          "text": "9.61",
          "x": 1.55,
          "xanchor": "left",
          "xref": "x",
          "y": 51,
          "yref": "y"
         },
         {
          "align": "left",
          "font": {
           "color": "#000000"
          },
          "showarrow": false,
          "text": "11.48",
          "x": 2.55,
          "xanchor": "left",
          "xref": "x",
          "y": 51,
          "yref": "y"
         },
         {
          "align": "left",
          "font": {
           "color": "#000000"
          },
          "showarrow": false,
          "text": "Cyprus",
          "x": -0.45,
          "xanchor": "left",
          "xref": "x",
          "y": 52,
          "yref": "y"
         },
         {
          "align": "left",
          "font": {
           "color": "#000000"
          },
          "showarrow": false,
          "text": "11382820",
          "x": 0.55,
          "xanchor": "left",
          "xref": "x",
          "y": 52,
          "yref": "y"
         },
         {
          "align": "left",
          "font": {
           "color": "#000000"
          },
          "showarrow": false,
          "text": "11.89",
          "x": 1.55,
          "xanchor": "left",
          "xref": "x",
          "y": 52,
          "yref": "y"
         },
         {
          "align": "left",
          "font": {
           "color": "#000000"
          },
          "showarrow": false,
          "text": "7.22",
          "x": 2.55,
          "xanchor": "left",
          "xref": "x",
          "y": 52,
          "yref": "y"
         },
         {
          "align": "left",
          "font": {
           "color": "#000000"
          },
          "showarrow": false,
          "text": "Czech Republic",
          "x": -0.45,
          "xanchor": "left",
          "xref": "x",
          "y": 53,
          "yref": "y"
         },
         {
          "align": "left",
          "font": {
           "color": "#000000"
          },
          "showarrow": false,
          "text": "784301",
          "x": 0.55,
          "xanchor": "left",
          "xref": "x",
          "y": 53,
          "yref": "y"
         },
         {
          "align": "left",
          "font": {
           "color": "#000000"
          },
          "showarrow": false,
          "text": "12.56",
          "x": 1.55,
          "xanchor": "left",
          "xref": "x",
          "y": 53,
          "yref": "y"
         },
         {
          "align": "left",
          "font": {
           "color": "#000000"
          },
          "showarrow": false,
          "text": "7.68",
          "x": 2.55,
          "xanchor": "left",
          "xref": "x",
          "y": 53,
          "yref": "y"
         },
         {
          "align": "left",
          "font": {
           "color": "#000000"
          },
          "showarrow": false,
          "text": "Germany",
          "x": -0.45,
          "xanchor": "left",
          "xref": "x",
          "y": 54,
          "yref": "y"
         },
         {
          "align": "left",
          "font": {
           "color": "#000000"
          },
          "showarrow": false,
          "text": "10235455",
          "x": 0.55,
          "xanchor": "left",
          "xref": "x",
          "y": 54,
          "yref": "y"
         },
         {
          "align": "left",
          "font": {
           "color": "#000000"
          },
          "showarrow": false,
          "text": "9.02",
          "x": 1.55,
          "xanchor": "left",
          "xref": "x",
          "y": 54,
          "yref": "y"
         },
         {
          "align": "left",
          "font": {
           "color": "#000000"
          },
          "showarrow": false,
          "text": "10.59",
          "x": 2.55,
          "xanchor": "left",
          "xref": "x",
          "y": 54,
          "yref": "y"
         },
         {
          "align": "left",
          "font": {
           "color": "#000000"
          },
          "showarrow": false,
          "text": "Djibouti",
          "x": -0.45,
          "xanchor": "left",
          "xref": "x",
          "y": 55,
          "yref": "y"
         },
         {
          "align": "left",
          "font": {
           "color": "#000000"
          },
          "showarrow": false,
          "text": "5450661",
          "x": 0.55,
          "xanchor": "left",
          "xref": "x",
          "y": 55,
          "yref": "y"
         },
         {
          "align": "left",
          "font": {
           "color": "#000000"
          },
          "showarrow": false,
          "text": "11.13",
          "x": 1.55,
          "xanchor": "left",
          "xref": "x",
          "y": 55,
          "yref": "y"
         },
         {
          "align": "left",
          "font": {
           "color": "#000000"
          },
          "showarrow": false,
          "text": "10.36",
          "x": 2.55,
          "xanchor": "left",
          "xref": "x",
          "y": 55,
          "yref": "y"
         },
         {
          "align": "left",
          "font": {
           "color": "#000000"
          },
          "showarrow": false,
          "text": "Dominica",
          "x": -0.45,
          "xanchor": "left",
          "xref": "x",
          "y": 56,
          "yref": "y"
         },
         {
          "align": "left",
          "font": {
           "color": "#000000"
          },
          "showarrow": false,
          "text": "486530",
          "x": 0.55,
          "xanchor": "left",
          "xref": "x",
          "y": 56,
          "yref": "y"
         },
         {
          "align": "left",
          "font": {
           "color": "#000000"
          },
          "showarrow": false,
          "text": "39.53",
          "x": 1.55,
          "xanchor": "left",
          "xref": "x",
          "y": 56,
          "yref": "y"
         },
         {
          "align": "left",
          "font": {
           "color": "#000000"
          },
          "showarrow": false,
          "text": "19.31",
          "x": 2.55,
          "xanchor": "left",
          "xref": "x",
          "y": 56,
          "yref": "y"
         },
         {
          "align": "left",
          "font": {
           "color": "#000000"
          },
          "showarrow": false,
          "text": "Denmark",
          "x": -0.45,
          "xanchor": "left",
          "xref": "x",
          "y": 57,
          "yref": "y"
         },
         {
          "align": "left",
          "font": {
           "color": "#000000"
          },
          "showarrow": false,
          "text": "68910",
          "x": 0.55,
          "xanchor": "left",
          "xref": "x",
          "y": 57,
          "yref": "y"
         },
         {
          "align": "left",
          "font": {
           "color": "#000000"
          },
          "showarrow": false,
          "text": "15.27",
          "x": 1.55,
          "xanchor": "left",
          "xref": "x",
          "y": 57,
          "yref": "y"
         },
         {
          "align": "left",
          "font": {
           "color": "#000000"
          },
          "showarrow": false,
          "text": "6.73",
          "x": 2.55,
          "xanchor": "left",
          "xref": "x",
          "y": 57,
          "yref": "y"
         },
         {
          "align": "left",
          "font": {
           "color": "#000000"
          },
          "showarrow": false,
          "text": "Dominican Republic",
          "x": -0.45,
          "xanchor": "left",
          "xref": "x",
          "y": 58,
          "yref": "y"
         },
         {
          "align": "left",
          "font": {
           "color": "#000000"
          },
          "showarrow": false,
          "text": "9183984",
          "x": 0.55,
          "xanchor": "left",
          "xref": "x",
          "y": 58,
          "yref": "y"
         },
         {
          "align": "left",
          "font": {
           "color": "#000000"
          },
          "showarrow": false,
          "text": "23.22",
          "x": 1.55,
          "xanchor": "left",
          "xref": "x",
          "y": 58,
          "yref": "y"
         },
         {
          "align": "left",
          "font": {
           "color": "#000000"
          },
          "showarrow": false,
          "text": "5.73",
          "x": 2.55,
          "xanchor": "left",
          "xref": "x",
          "y": 58,
          "yref": "y"
         },
         {
          "align": "left",
          "font": {
           "color": "#000000"
          },
          "showarrow": false,
          "text": "Algeria",
          "x": -0.45,
          "xanchor": "left",
          "xref": "x",
          "y": 59,
          "yref": "y"
         },
         {
          "align": "left",
          "font": {
           "color": "#000000"
          },
          "showarrow": false,
          "text": "1062777",
          "x": 0.55,
          "xanchor": "left",
          "xref": "x",
          "y": 59,
          "yref": "y"
         },
         {
          "align": "left",
          "font": {
           "color": "#000000"
          },
          "showarrow": false,
          "text": "26.99",
          "x": 1.55,
          "xanchor": "left",
          "xref": "x",
          "y": 59,
          "yref": "y"
         },
         {
          "align": "left",
          "font": {
           "color": "#000000"
          },
          "showarrow": false,
          "text": "6.24",
          "x": 2.55,
          "xanchor": "left",
          "xref": "x",
          "y": 59,
          "yref": "y"
         },
         {
          "align": "left",
          "font": {
           "color": "#000000"
          },
          "showarrow": false,
          "text": "East Asia & Pacific (excluding high income)",
          "x": -0.45,
          "xanchor": "left",
          "xref": "x",
          "y": 60,
          "yref": "y"
         },
         {
          "align": "left",
          "font": {
           "color": "#000000"
          },
          "showarrow": false,
          "text": "13547510",
          "x": 0.55,
          "xanchor": "left",
          "xref": "x",
          "y": 60,
          "yref": "y"
         },
         {
          "align": "left",
          "font": {
           "color": "#000000"
          },
          "showarrow": false,
          "text": "22.29",
          "x": 1.55,
          "xanchor": "left",
          "xref": "x",
          "y": 60,
          "yref": "y"
         },
         {
          "align": "left",
          "font": {
           "color": "#000000"
          },
          "showarrow": false,
          "text": "4.23",
          "x": 2.55,
          "xanchor": "left",
          "xref": "x",
          "y": 60,
          "yref": "y"
         },
         {
          "align": "left",
          "font": {
           "color": "#000000"
          },
          "showarrow": false,
          "text": "Early-demographic dividend",
          "x": -0.45,
          "xanchor": "left",
          "xref": "x",
          "y": 61,
          "yref": "y"
         },
         {
          "align": "left",
          "font": {
           "color": "#000000"
          },
          "showarrow": false,
          "text": "78887007",
          "x": 0.55,
          "xanchor": "left",
          "xref": "x",
          "y": 61,
          "yref": "y"
         },
         {
          "align": "left",
          "font": {
           "color": "#000000"
          },
          "showarrow": false,
          "text": "22.94",
          "x": 1.55,
          "xanchor": "left",
          "xref": "x",
          "y": 61,
          "yref": "y"
         },
         {
          "align": "left",
          "font": {
           "color": "#000000"
          },
          "showarrow": false,
          "text": "5.23",
          "x": 2.55,
          "xanchor": "left",
          "xref": "x",
          "y": 61,
          "yref": "y"
         },
         {
          "align": "left",
          "font": {
           "color": "#000000"
          },
          "showarrow": false,
          "text": "East Asia & Pacific",
          "x": -0.45,
          "xanchor": "left",
          "xref": "x",
          "y": 62,
          "yref": "y"
         },
         {
          "align": "left",
          "font": {
           "color": "#000000"
          },
          "showarrow": false,
          "text": "6822378",
          "x": 0.55,
          "xanchor": "left",
          "xref": "x",
          "y": 62,
          "yref": "y"
         },
         {
          "align": "left",
          "font": {
           "color": "#000000"
          },
          "showarrow": false,
          "text": "26.61",
          "x": 1.55,
          "xanchor": "left",
          "xref": "x",
          "y": 62,
          "yref": "y"
         },
         {
          "align": "left",
          "font": {
           "color": "#000000"
          },
          "showarrow": false,
          "text": "5.78",
          "x": 2.55,
          "xanchor": "left",
          "xref": "x",
          "y": 62,
          "yref": "y"
         },
         {
          "align": "left",
          "font": {
           "color": "#000000"
          },
          "showarrow": false,
          "text": "Europe & Central Asia (excluding high income)",
          "x": -0.45,
          "xanchor": "left",
          "xref": "x",
          "y": 63,
          "yref": "y"
         },
         {
          "align": "left",
          "font": {
           "color": "#000000"
          },
          "showarrow": false,
          "text": "540109",
          "x": 0.55,
          "xanchor": "left",
          "xref": "x",
          "y": 63,
          "yref": "y"
         },
         {
          "align": "left",
          "font": {
           "color": "#000000"
          },
          "showarrow": false,
          "text": "35.59",
          "x": 1.55,
          "xanchor": "left",
          "xref": "x",
          "y": 63,
          "yref": "y"
         },
         {
          "align": "left",
          "font": {
           "color": "#000000"
          },
          "showarrow": false,
          "text": "15.06",
          "x": 2.55,
          "xanchor": "left",
          "xref": "x",
          "y": 63,
          "yref": "y"
         },
         {
          "align": "left",
          "font": {
           "color": "#000000"
          },
          "showarrow": false,
          "text": "Europe & Central Asia",
          "x": -0.45,
          "xanchor": "left",
          "xref": "x",
          "y": 64,
          "yref": "y"
         },
         {
          "align": "left",
          "font": {
           "color": "#000000"
          },
          "showarrow": false,
          "text": "4786994",
          "x": 0.55,
          "xanchor": "left",
          "xref": "x",
          "y": 64,
          "yref": "y"
         },
         {
          "align": "left",
          "font": {
           "color": "#000000"
          },
          "showarrow": false,
          "text": "34.33",
          "x": 1.55,
          "xanchor": "left",
          "xref": "x",
          "y": 64,
          "yref": "y"
         },
         {
          "align": "left",
          "font": {
           "color": "#000000"
          },
          "showarrow": false,
          "text": "9.6",
          "x": 2.55,
          "xanchor": "left",
          "xref": "x",
          "y": 64,
          "yref": "y"
         },
         {
          "align": "left",
          "font": {
           "color": "#000000"
          },
          "showarrow": false,
          "text": "Ecuador",
          "x": -0.45,
          "xanchor": "left",
          "xref": "x",
          "y": 65,
          "yref": "y"
         },
         {
          "align": "left",
          "font": {
           "color": "#000000"
          },
          "showarrow": false,
          "text": "1324333",
          "x": 0.55,
          "xanchor": "left",
          "xref": "x",
          "y": 65,
          "yref": "y"
         },
         {
          "align": "left",
          "font": {
           "color": "#000000"
          },
          "showarrow": false,
          "text": "10.04",
          "x": 1.55,
          "xanchor": "left",
          "xref": "x",
          "y": 65,
          "yref": "y"
         },
         {
          "align": "left",
          "font": {
           "color": "#000000"
          },
          "showarrow": false,
          "text": "13.25",
          "x": 2.55,
          "xanchor": "left",
          "xref": "x",
          "y": 65,
          "yref": "y"
         },
         {
          "align": "left",
          "font": {
           "color": "#000000"
          },
          "showarrow": false,
          "text": "Egypt, Arab Rep.",
          "x": -0.45,
          "xanchor": "left",
          "xref": "x",
          "y": 66,
          "yref": "y"
         },
         {
          "align": "left",
          "font": {
           "color": "#000000"
          },
          "showarrow": false,
          "text": "74777981",
          "x": 0.55,
          "xanchor": "left",
          "xref": "x",
          "y": 66,
          "yref": "y"
         },
         {
          "align": "left",
          "font": {
           "color": "#000000"
          },
          "showarrow": false,
          "text": "37.98",
          "x": 1.55,
          "xanchor": "left",
          "xref": "x",
          "y": 66,
          "yref": "y"
         },
         {
          "align": "left",
          "font": {
           "color": "#000000"
          },
          "showarrow": false,
          "text": "14.86",
          "x": 2.55,
          "xanchor": "left",
          "xref": "x",
          "y": 66,
          "yref": "y"
         },
         {
          "align": "left",
          "font": {
           "color": "#000000"
          },
          "showarrow": false,
          "text": "Euro area",
          "x": -0.45,
          "xanchor": "left",
          "xref": "x",
          "y": 67,
          "yref": "y"
         },
         {
          "align": "left",
          "font": {
           "color": "#000000"
          },
          "showarrow": false,
          "text": "47246",
          "x": 0.55,
          "xanchor": "left",
          "xref": "x",
          "y": 67,
          "yref": "y"
         },
         {
          "align": "left",
          "font": {
           "color": "#000000"
          },
          "showarrow": false,
          "text": "14.05",
          "x": 1.55,
          "xanchor": "left",
          "xref": "x",
          "y": 67,
          "yref": "y"
         },
         {
          "align": "left",
          "font": {
           "color": "#000000"
          },
          "showarrow": false,
          "text": "8.7",
          "x": 2.55,
          "xanchor": "left",
          "xref": "x",
          "y": 67,
          "yref": "y"
         },
         {
          "align": "left",
          "font": {
           "color": "#000000"
          },
          "showarrow": false,
          "text": "Eritrea",
          "x": -0.45,
          "xanchor": "left",
          "xref": "x",
          "y": 68,
          "yref": "y"
         },
         {
          "align": "left",
          "font": {
           "color": "#000000"
          },
          "showarrow": false,
          "text": "905949",
          "x": 0.55,
          "xanchor": "left",
          "xref": "x",
          "y": 68,
          "yref": "y"
         },
         {
          "align": "left",
          "font": {
           "color": "#000000"
          },
          "showarrow": false,
          "text": "22.55",
          "x": 1.55,
          "xanchor": "left",
          "xref": "x",
          "y": 68,
          "yref": "y"
         },
         {
          "align": "left",
          "font": {
           "color": "#000000"
          },
          "showarrow": false,
          "text": "5.65",
          "x": 2.55,
          "xanchor": "left",
          "xref": "x",
          "y": 68,
          "yref": "y"
         },
         {
          "align": "left",
          "font": {
           "color": "#000000"
          },
          "showarrow": false,
          "text": "Spain",
          "x": -0.45,
          "xanchor": "left",
          "xref": "x",
          "y": 69,
          "yref": "y"
         },
         {
          "align": "left",
          "font": {
           "color": "#000000"
          },
          "showarrow": false,
          "text": "5231372",
          "x": 0.55,
          "xanchor": "left",
          "xref": "x",
          "y": 69,
          "yref": "y"
         },
         {
          "align": "left",
          "font": {
           "color": "#000000"
          },
          "showarrow": false,
          "text": "10.45",
          "x": 1.55,
          "xanchor": "left",
          "xref": "x",
          "y": 69,
          "yref": "y"
         },
         {
          "align": "left",
          "font": {
           "color": "#000000"
          },
          "showarrow": false,
          "text": "9.86",
          "x": 2.55,
          "xanchor": "left",
          "xref": "x",
          "y": 69,
          "yref": "y"
         },
         {
          "align": "left",
          "font": {
           "color": "#000000"
          },
          "showarrow": false,
          "text": "Estonia",
          "x": -0.45,
          "xanchor": "left",
          "xref": "x",
          "y": 70,
          "yref": "y"
         },
         {
          "align": "left",
          "font": {
           "color": "#000000"
          },
          "showarrow": false,
          "text": "60876136",
          "x": 0.55,
          "xanchor": "left",
          "xref": "x",
          "y": 70,
          "yref": "y"
         },
         {
          "align": "left",
          "font": {
           "color": "#000000"
          },
          "showarrow": false,
          "text": "11.99",
          "x": 1.55,
          "xanchor": "left",
          "xref": "x",
          "y": 70,
          "yref": "y"
         },
         {
          "align": "left",
          "font": {
           "color": "#000000"
          },
          "showarrow": false,
          "text": "9.14",
          "x": 2.55,
          "xanchor": "left",
          "xref": "x",
          "y": 70,
          "yref": "y"
         },
         {
          "align": "left",
          "font": {
           "color": "#000000"
          },
          "showarrow": false,
          "text": "Ethiopia",
          "x": -0.45,
          "xanchor": "left",
          "xref": "x",
          "y": 71,
          "yref": "y"
         },
         {
          "align": "left",
          "font": {
           "color": "#000000"
          },
          "showarrow": false,
          "text": "199509",
          "x": 0.55,
          "xanchor": "left",
          "xref": "x",
          "y": 71,
          "yref": "y"
         },
         {
          "align": "left",
          "font": {
           "color": "#000000"
          },
          "showarrow": false,
          "text": "20.46",
          "x": 1.55,
          "xanchor": "left",
          "xref": "x",
          "y": 71,
          "yref": "y"
         },
         {
          "align": "left",
          "font": {
           "color": "#000000"
          },
          "showarrow": false,
          "text": "4.88",
          "x": 2.55,
          "xanchor": "left",
          "xref": "x",
          "y": 71,
          "yref": "y"
         },
         {
          "align": "left",
          "font": {
           "color": "#000000"
          },
          "showarrow": false,
          "text": "European Union",
          "x": -0.45,
          "xanchor": "left",
          "xref": "x",
          "y": 72,
          "yref": "y"
         },
         {
          "align": "left",
          "font": {
           "color": "#000000"
          },
          "showarrow": false,
          "text": "274578",
          "x": 0.55,
          "xanchor": "left",
          "xref": "x",
          "y": 72,
          "yref": "y"
         },
         {
          "align": "left",
          "font": {
           "color": "#000000"
          },
          "showarrow": false,
          "text": "16.68",
          "x": 1.55,
          "xanchor": "left",
          "xref": "x",
          "y": 72,
          "yref": "y"
         },
         {
          "align": "left",
          "font": {
           "color": "#000000"
          },
          "showarrow": false,
          "text": "4.69",
          "x": 2.55,
          "xanchor": "left",
          "xref": "x",
          "y": 72,
          "yref": "y"
         },
         {
          "align": "left",
          "font": {
           "color": "#000000"
          },
          "showarrow": false,
          "text": "Fragile and conflict affected situations",
          "x": -0.45,
          "xanchor": "left",
          "xref": "x",
          "y": 73,
          "yref": "y"
         },
         {
          "align": "left",
          "font": {
           "color": "#000000"
          },
          "showarrow": false,
          "text": "1424906",
          "x": 0.55,
          "xanchor": "left",
          "xref": "x",
          "y": 73,
          "yref": "y"
         },
         {
          "align": "left",
          "font": {
           "color": "#000000"
          },
          "showarrow": false,
          "text": "36.16",
          "x": 1.55,
          "xanchor": "left",
          "xref": "x",
          "y": 73,
          "yref": "y"
         },
         {
          "align": "left",
          "font": {
           "color": "#000000"
          },
          "showarrow": false,
          "text": "12.25",
          "x": 2.55,
          "xanchor": "left",
          "xref": "x",
          "y": 73,
          "yref": "y"
         },
         {
          "align": "left",
          "font": {
           "color": "#000000"
          },
          "showarrow": false,
          "text": "Finland",
          "x": -0.45,
          "xanchor": "left",
          "xref": "x",
          "y": 74,
          "yref": "y"
         },
         {
          "align": "left",
          "font": {
           "color": "#000000"
          },
          "showarrow": false,
          "text": "1641564",
          "x": 0.55,
          "xanchor": "left",
          "xref": "x",
          "y": 74,
          "yref": "y"
         },
         {
          "align": "left",
          "font": {
           "color": "#000000"
          },
          "showarrow": false,
          "text": "39.37",
          "x": 1.55,
          "xanchor": "left",
          "xref": "x",
          "y": 74,
          "yref": "y"
         },
         {
          "align": "left",
          "font": {
           "color": "#000000"
          },
          "showarrow": false,
          "text": "12.25",
          "x": 2.55,
          "xanchor": "left",
          "xref": "x",
          "y": 74,
          "yref": "y"
         },
         {
          "align": "left",
          "font": {
           "color": "#000000"
          },
          "showarrow": false,
          "text": "Fiji",
          "x": -0.45,
          "xanchor": "left",
          "xref": "x",
          "y": 75,
          "yref": "y"
         },
         {
          "align": "left",
          "font": {
           "color": "#000000"
          },
          "showarrow": false,
          "text": "1428757",
          "x": 0.55,
          "xanchor": "left",
          "xref": "x",
          "y": 75,
          "yref": "y"
         },
         {
          "align": "left",
          "font": {
           "color": "#000000"
          },
          "showarrow": false,
          "text": "39.45",
          "x": 1.55,
          "xanchor": "left",
          "xref": "x",
          "y": 75,
          "yref": "y"
         },
         {
          "align": "left",
          "font": {
           "color": "#000000"
          },
          "showarrow": false,
          "text": "3.8",
          "x": 2.55,
          "xanchor": "left",
          "xref": "x",
          "y": 75,
          "yref": "y"
         },
         {
          "align": "left",
          "font": {
           "color": "#000000"
          },
          "showarrow": false,
          "text": "France",
          "x": -0.45,
          "xanchor": "left",
          "xref": "x",
          "y": 76,
          "yref": "y"
         },
         {
          "align": "left",
          "font": {
           "color": "#000000"
          },
          "showarrow": false,
          "text": "4661473",
          "x": 0.55,
          "xanchor": "left",
          "xref": "x",
          "y": 76,
          "yref": "y"
         },
         {
          "align": "left",
          "font": {
           "color": "#000000"
          },
          "showarrow": false,
          "text": "10.41",
          "x": 1.55,
          "xanchor": "left",
          "xref": "x",
          "y": 76,
          "yref": "y"
         },
         {
          "align": "left",
          "font": {
           "color": "#000000"
          },
          "showarrow": false,
          "text": "9.23",
          "x": 2.55,
          "xanchor": "left",
          "xref": "x",
          "y": 76,
          "yref": "y"
         },
         {
          "align": "left",
          "font": {
           "color": "#000000"
          },
          "showarrow": false,
          "text": "Faroe Islands",
          "x": -0.45,
          "xanchor": "left",
          "xref": "x",
          "y": 77,
          "yref": "y"
         },
         {
          "align": "left",
          "font": {
           "color": "#000000"
          },
          "showarrow": false,
          "text": "82422299",
          "x": 0.55,
          "xanchor": "left",
          "xref": "x",
          "y": 77,
          "yref": "y"
         },
         {
          "align": "left",
          "font": {
           "color": "#000000"
          },
          "showarrow": false,
          "text": "8.25",
          "x": 1.55,
          "xanchor": "left",
          "xref": "x",
          "y": 77,
          "yref": "y"
         },
         {
          "align": "left",
          "font": {
           "color": "#000000"
          },
          "showarrow": false,
          "text": "10.62",
          "x": 2.55,
          "xanchor": "left",
          "xref": "x",
          "y": 77,
          "yref": "y"
         },
         {
          "align": "left",
          "font": {
           "color": "#000000"
          },
          "showarrow": false,
          "text": "Micronesia, Fed. Sts.",
          "x": -0.45,
          "xanchor": "left",
          "xref": "x",
          "y": 78,
          "yref": "y"
         },
         {
          "align": "left",
          "font": {
           "color": "#000000"
          },
          "showarrow": false,
          "text": "22409572",
          "x": 0.55,
          "xanchor": "left",
          "xref": "x",
          "y": 78,
          "yref": "y"
         },
         {
          "align": "left",
          "font": {
           "color": "#000000"
          },
          "showarrow": false,
          "text": "30.52",
          "x": 1.55,
          "xanchor": "left",
          "xref": "x",
          "y": 78,
          "yref": "y"
         },
         {
          "align": "left",
          "font": {
           "color": "#000000"
          },
          "showarrow": false,
          "text": "9.72",
          "x": 2.55,
          "xanchor": "left",
          "xref": "x",
          "y": 78,
          "yref": "y"
         },
         {
          "align": "left",
          "font": {
           "color": "#000000"
          },
          "showarrow": false,
          "text": "Gabon",
          "x": -0.45,
          "xanchor": "left",
          "xref": "x",
          "y": 79,
          "yref": "y"
         },
         {
          "align": "left",
          "font": {
           "color": "#000000"
          },
          "showarrow": false,
          "text": "27928",
          "x": 0.55,
          "xanchor": "left",
          "xref": "x",
          "y": 79,
          "yref": "y"
         },
         {
          "align": "left",
          "font": {
           "color": "#000000"
          },
          "showarrow": false,
          "text": "10.74",
          "x": 1.55,
          "xanchor": "left",
          "xref": "x",
          "y": 79,
          "yref": "y"
         },
         {
          "align": "left",
          "font": {
           "color": "#000000"
          },
          "showarrow": false,
          "text": "9.31",
          "x": 2.55,
          "xanchor": "left",
          "xref": "x",
          "y": 79,
          "yref": "y"
         },
         {
          "align": "left",
          "font": {
           "color": "#000000"
          },
          "showarrow": false,
          "text": "United Kingdom",
          "x": -0.45,
          "xanchor": "left",
          "xref": "x",
          "y": 80,
          "yref": "y"
         },
         {
          "align": "left",
          "font": {
           "color": "#000000"
          },
          "showarrow": false,
          "text": "10688058",
          "x": 0.55,
          "xanchor": "left",
          "xref": "x",
          "y": 80,
          "yref": "y"
         },
         {
          "align": "left",
          "font": {
           "color": "#000000"
          },
          "showarrow": false,
          "text": "9.68",
          "x": 1.55,
          "xanchor": "left",
          "xref": "x",
          "y": 80,
          "yref": "y"
         },
         {
          "align": "left",
          "font": {
           "color": "#000000"
          },
          "showarrow": false,
          "text": "10.24",
          "x": 2.55,
          "xanchor": "left",
          "xref": "x",
          "y": 80,
          "yref": "y"
         },
         {
          "align": "left",
          "font": {
           "color": "#000000"
          },
          "showarrow": false,
          "text": "Georgia",
          "x": -0.45,
          "xanchor": "left",
          "xref": "x",
          "y": 81,
          "yref": "y"
         },
         {
          "align": "left",
          "font": {
           "color": "#000000"
          },
          "showarrow": false,
          "text": "56361",
          "x": 0.55,
          "xanchor": "left",
          "xref": "x",
          "y": 81,
          "yref": "y"
         },
         {
          "align": "left",
          "font": {
           "color": "#000000"
          },
          "showarrow": false,
          "text": "15.93",
          "x": 1.55,
          "xanchor": "left",
          "xref": "x",
          "y": 81,
          "yref": "y"
         },
         {
          "align": "left",
          "font": {
           "color": "#000000"
          },
          "showarrow": false,
          "text": "7.84",
          "x": 2.55,
          "xanchor": "left",
          "xref": "x",
          "y": 81,
          "yref": "y"
         },
         {
          "align": "left",
          "font": {
           "color": "#000000"
          },
          "showarrow": false,
          "text": "Ghana",
          "x": -0.45,
          "xanchor": "left",
          "xref": "x",
          "y": 82,
          "yref": "y"
         },
         {
          "align": "left",
          "font": {
           "color": "#000000"
          },
          "showarrow": false,
          "text": "89703",
          "x": 0.55,
          "xanchor": "left",
          "xref": "x",
          "y": 82,
          "yref": "y"
         },
         {
          "align": "left",
          "font": {
           "color": "#000000"
          },
          "showarrow": false,
          "text": "22.08",
          "x": 1.55,
          "xanchor": "left",
          "xref": "x",
          "y": 82,
          "yref": "y"
         },
         {
          "align": "left",
          "font": {
           "color": "#000000"
          },
          "showarrow": false,
          "text": "6.88",
          "x": 2.55,
          "xanchor": "left",
          "xref": "x",
          "y": 82,
          "yref": "y"
         },
         {
          "align": "left",
          "font": {
           "color": "#000000"
          },
          "showarrow": false,
          "text": "Gibraltar",
          "x": -0.45,
          "xanchor": "left",
          "xref": "x",
          "y": 83,
          "yref": "y"
         },
         {
          "align": "left",
          "font": {
           "color": "#000000"
          },
          "showarrow": false,
          "text": "452776",
          "x": 0.55,
          "xanchor": "left",
          "xref": "x",
          "y": 83,
          "yref": "y"
         },
         {
          "align": "left",
          "font": {
           "color": "#000000"
          },
          "showarrow": false,
          "text": "15.05",
          "x": 1.55,
          "xanchor": "left",
          "xref": "x",
          "y": 83,
          "yref": "y"
         },
         {
          "align": "left",
          "font": {
           "color": "#000000"
          },
          "showarrow": false,
          "text": "6.09",
          "x": 2.55,
          "xanchor": "left",
          "xref": "x",
          "y": 83,
          "yref": "y"
         },
         {
          "align": "left",
          "font": {
           "color": "#000000"
          },
          "showarrow": false,
          "text": "Guinea",
          "x": -0.45,
          "xanchor": "left",
          "xref": "x",
          "y": 84,
          "yref": "y"
         },
         {
          "align": "left",
          "font": {
           "color": "#000000"
          },
          "showarrow": false,
          "text": "171019",
          "x": 0.55,
          "xanchor": "left",
          "xref": "x",
          "y": 84,
          "yref": "y"
         },
         {
          "align": "left",
          "font": {
           "color": "#000000"
          },
          "showarrow": false,
          "text": "18.79",
          "x": 1.55,
          "xanchor": "left",
          "xref": "x",
          "y": 84,
          "yref": "y"
         },
         {
          "align": "left",
          "font": {
           "color": "#000000"
          },
          "showarrow": false,
          "text": "4.48",
          "x": 2.55,
          "xanchor": "left",
          "xref": "x",
          "y": 84,
          "yref": "y"
         },
         {
          "align": "left",
          "font": {
           "color": "#000000"
          },
          "showarrow": false,
          "text": "Gambia, The",
          "x": -0.45,
          "xanchor": "left",
          "xref": "x",
          "y": 85,
          "yref": "y"
         },
         {
          "align": "left",
          "font": {
           "color": "#000000"
          },
          "showarrow": false,
          "text": "12293545",
          "x": 0.55,
          "xanchor": "left",
          "xref": "x",
          "y": 85,
          "yref": "y"
         },
         {
          "align": "left",
          "font": {
           "color": "#000000"
          },
          "showarrow": false,
          "text": "29.88",
          "x": 1.55,
          "xanchor": "left",
          "xref": "x",
          "y": 85,
          "yref": "y"
         },
         {
          "align": "left",
          "font": {
           "color": "#000000"
          },
          "showarrow": false,
          "text": "5.2",
          "x": 2.55,
          "xanchor": "left",
          "xref": "x",
          "y": 85,
          "yref": "y"
         },
         {
          "align": "left",
          "font": {
           "color": "#000000"
          },
          "showarrow": false,
          "text": "Guinea-Bissau",
          "x": -0.45,
          "xanchor": "left",
          "xref": "x",
          "y": 86,
          "yref": "y"
         },
         {
          "align": "left",
          "font": {
           "color": "#000000"
          },
          "showarrow": false,
          "text": "65409",
          "x": 0.55,
          "xanchor": "left",
          "xref": "x",
          "y": 86,
          "yref": "y"
         },
         {
          "align": "left",
          "font": {
           "color": "#000000"
          },
          "showarrow": false,
          "text": "8.81",
          "x": 1.55,
          "xanchor": "left",
          "xref": "x",
          "y": 86,
          "yref": "y"
         },
         {
          "align": "left",
          "font": {
           "color": "#000000"
          },
          "showarrow": false,
          "text": "10.01",
          "x": 2.55,
          "xanchor": "left",
          "xref": "x",
          "y": 86,
          "yref": "y"
         },
         {
          "align": "left",
          "font": {
           "color": "#000000"
          },
          "showarrow": false,
          "text": "Equatorial Guinea",
          "x": -0.45,
          "xanchor": "left",
          "xref": "x",
          "y": 87,
          "yref": "y"
         },
         {
          "align": "left",
          "font": {
           "color": "#000000"
          },
          "showarrow": false,
          "text": "9690222",
          "x": 0.55,
          "xanchor": "left",
          "xref": "x",
          "y": 87,
          "yref": "y"
         },
         {
          "align": "left",
          "font": {
           "color": "#000000"
          },
          "showarrow": false,
          "text": "41.76",
          "x": 1.55,
          "xanchor": "left",
          "xref": "x",
          "y": 87,
          "yref": "y"
         },
         {
          "align": "left",
          "font": {
           "color": "#000000"
          },
          "showarrow": false,
          "text": "15.48",
          "x": 2.55,
          "xanchor": "left",
          "xref": "x",
          "y": 87,
          "yref": "y"
         },
         {
          "align": "left",
          "font": {
           "color": "#000000"
          },
          "showarrow": false,
          "text": "Greece",
          "x": -0.45,
          "xanchor": "left",
          "xref": "x",
          "y": 88,
          "yref": "y"
         },
         {
          "align": "left",
          "font": {
           "color": "#000000"
          },
          "showarrow": false,
          "text": "1442029",
          "x": 0.55,
          "xanchor": "left",
          "xref": "x",
          "y": 88,
          "yref": "y"
         },
         {
          "align": "left",
          "font": {
           "color": "#000000"
          },
          "showarrow": false,
          "text": "37.22",
          "x": 1.55,
          "xanchor": "left",
          "xref": "x",
          "y": 88,
          "yref": "y"
         },
         {
          "align": "left",
          "font": {
           "color": "#000000"
          },
          "showarrow": false,
          "text": "16.53",
          "x": 2.55,
          "xanchor": "left",
          "xref": "x",
          "y": 88,
          "yref": "y"
         },
         {
          "align": "left",
          "font": {
           "color": "#000000"
          },
          "showarrow": false,
          "text": "Grenada",
          "x": -0.45,
          "xanchor": "left",
          "xref": "x",
          "y": 89,
          "yref": "y"
         },
         {
          "align": "left",
          "font": {
           "color": "#000000"
          },
          "showarrow": false,
          "text": "767245",
          "x": 0.55,
          "xanchor": "left",
          "xref": "x",
          "y": 89,
          "yref": "y"
         },
         {
          "align": "left",
          "font": {
           "color": "#000000"
          },
          "showarrow": false,
          "text": "18.28",
          "x": 1.55,
          "xanchor": "left",
          "xref": "x",
          "y": 89,
          "yref": "y"
         },
         {
          "align": "left",
          "font": {
           "color": "#000000"
          },
          "showarrow": false,
          "text": "8.28",
          "x": 2.55,
          "xanchor": "left",
          "xref": "x",
          "y": 89,
          "yref": "y"
         },
         {
          "align": "left",
          "font": {
           "color": "#000000"
          },
          "showarrow": false,
          "text": "Greenland",
          "x": -0.45,
          "xanchor": "left",
          "xref": "x",
          "y": 90,
          "yref": "y"
         },
         {
          "align": "left",
          "font": {
           "color": "#000000"
          },
          "showarrow": false,
          "text": "8308504",
          "x": 0.55,
          "xanchor": "left",
          "xref": "x",
          "y": 90,
          "yref": "y"
         },
         {
          "align": "left",
          "font": {
           "color": "#000000"
          },
          "showarrow": false,
          "text": "36.44",
          "x": 1.55,
          "xanchor": "left",
          "xref": "x",
          "y": 90,
          "yref": "y"
         },
         {
          "align": "left",
          "font": {
           "color": "#000000"
          },
          "showarrow": false,
          "text": "12.17",
          "x": 2.55,
          "xanchor": "left",
          "xref": "x",
          "y": 90,
          "yref": "y"
         },
         {
          "align": "left",
          "font": {
           "color": "#000000"
          },
          "showarrow": false,
          "text": "Guatemala",
          "x": -0.45,
          "xanchor": "left",
          "xref": "x",
          "y": 91,
          "yref": "y"
         },
         {
          "align": "left",
          "font": {
           "color": "#000000"
          },
          "showarrow": false,
          "text": "7326496",
          "x": 0.55,
          "xanchor": "left",
          "xref": "x",
          "y": 91,
          "yref": "y"
         },
         {
          "align": "left",
          "font": {
           "color": "#000000"
          },
          "showarrow": false,
          "text": "28.24",
          "x": 1.55,
          "xanchor": "left",
          "xref": "x",
          "y": 91,
          "yref": "y"
         },
         {
          "align": "left",
          "font": {
           "color": "#000000"
          },
          "showarrow": false,
          "text": "5.28",
          "x": 2.55,
          "xanchor": "left",
          "xref": "x",
          "y": 91,
          "yref": "y"
         },
         {
          "align": "left",
          "font": {
           "color": "#000000"
          },
          "showarrow": false,
          "text": "Guam",
          "x": -0.45,
          "xanchor": "left",
          "xref": "x",
          "y": 92,
          "yref": "y"
         },
         {
          "align": "left",
          "font": {
           "color": "#000000"
          },
          "showarrow": false,
          "text": "6940432",
          "x": 0.55,
          "xanchor": "left",
          "xref": "x",
          "y": 92,
          "yref": "y"
         },
         {
          "align": "left",
          "font": {
           "color": "#000000"
          },
          "showarrow": false,
          "text": "7.29",
          "x": 1.55,
          "xanchor": "left",
          "xref": "x",
          "y": 92,
          "yref": "y"
         },
         {
          "align": "left",
          "font": {
           "color": "#000000"
          },
          "showarrow": false,
          "text": "6.29",
          "x": 2.55,
          "xanchor": "left",
          "xref": "x",
          "y": 92,
          "yref": "y"
         },
         {
          "align": "left",
          "font": {
           "color": "#000000"
          },
          "showarrow": false,
          "text": "Guyana",
          "x": -0.45,
          "xanchor": "left",
          "xref": "x",
          "y": 93,
          "yref": "y"
         },
         {
          "align": "left",
          "font": {
           "color": "#000000"
          },
          "showarrow": false,
          "text": "9981334",
          "x": 0.55,
          "xanchor": "left",
          "xref": "x",
          "y": 93,
          "yref": "y"
         },
         {
          "align": "left",
          "font": {
           "color": "#000000"
          },
          "showarrow": false,
          "text": "9.72",
          "x": 1.55,
          "xanchor": "left",
          "xref": "x",
          "y": 93,
          "yref": "y"
         },
         {
          "align": "left",
          "font": {
           "color": "#000000"
          },
          "showarrow": false,
          "text": "13.11",
          "x": 2.55,
          "xanchor": "left",
          "xref": "x",
          "y": 93,
          "yref": "y"
         },
         {
          "align": "left",
          "font": {
           "color": "#000000"
          },
          "showarrow": false,
          "text": "High income",
          "x": -0.45,
          "xanchor": "left",
          "xref": "x",
          "y": 94,
          "yref": "y"
         },
         {
          "align": "left",
          "font": {
           "color": "#000000"
          },
          "showarrow": false,
          "text": "299388",
          "x": 0.55,
          "xanchor": "left",
          "xref": "x",
          "y": 94,
          "yref": "y"
         },
         {
          "align": "left",
          "font": {
           "color": "#000000"
          },
          "showarrow": false,
          "text": "13.64",
          "x": 1.55,
          "xanchor": "left",
          "xref": "x",
          "y": 94,
          "yref": "y"
         },
         {
          "align": "left",
          "font": {
           "color": "#000000"
          },
          "showarrow": false,
          "text": "6.72",
          "x": 2.55,
          "xanchor": "left",
          "xref": "x",
          "y": 94,
          "yref": "y"
         },
         {
          "align": "left",
          "font": {
           "color": "#000000"
          },
          "showarrow": false,
          "text": "Hong Kong SAR, China",
          "x": -0.45,
          "xanchor": "left",
          "xref": "x",
          "y": 95,
          "yref": "y"
         },
         {
          "align": "left",
          "font": {
           "color": "#000000"
          },
          "showarrow": false,
          "text": "1095351995",
          "x": 0.55,
          "xanchor": "left",
          "xref": "x",
          "y": 95,
          "yref": "y"
         },
         {
          "align": "left",
          "font": {
           "color": "#000000"
          },
          "showarrow": false,
          "text": "22.01",
          "x": 1.55,
          "xanchor": "left",
          "xref": "x",
          "y": 95,
          "yref": "y"
         },
         {
          "align": "left",
          "font": {
           "color": "#000000"
          },
          "showarrow": false,
          "text": "8.18",
          "x": 2.55,
          "xanchor": "left",
          "xref": "x",
          "y": 95,
          "yref": "y"
         },
         {
          "align": "left",
          "font": {
           "color": "#000000"
          },
          "showarrow": false,
          "text": "Honduras",
          "x": -0.45,
          "xanchor": "left",
          "xref": "x",
          "y": 96,
          "yref": "y"
         },
         {
          "align": "left",
          "font": {
           "color": "#000000"
          },
          "showarrow": false,
          "text": "245452739",
          "x": 0.55,
          "xanchor": "left",
          "xref": "x",
          "y": 96,
          "yref": "y"
         },
         {
          "align": "left",
          "font": {
           "color": "#000000"
          },
          "showarrow": false,
          "text": "20.34",
          "x": 1.55,
          "xanchor": "left",
          "xref": "x",
          "y": 96,
          "yref": "y"
         },
         {
          "align": "left",
          "font": {
           "color": "#000000"
          },
          "showarrow": false,
          "text": "6.25",
          "x": 2.55,
          "xanchor": "left",
          "xref": "x",
          "y": 96,
          "yref": "y"
         },
         {
          "align": "left",
          "font": {
           "color": "#000000"
          },
          "showarrow": false,
          "text": "Heavily indebted poor countries (HIPC)",
          "x": -0.45,
          "xanchor": "left",
          "xref": "x",
          "y": 97,
          "yref": "y"
         },
         {
          "align": "left",
          "font": {
           "color": "#000000"
          },
          "showarrow": false,
          "text": "68688433",
          "x": 0.55,
          "xanchor": "left",
          "xref": "x",
          "y": 97,
          "yref": "y"
         },
         {
          "align": "left",
          "font": {
           "color": "#000000"
          },
          "showarrow": false,
          "text": "17.0",
          "x": 1.55,
          "xanchor": "left",
          "xref": "x",
          "y": 97,
          "yref": "y"
         },
         {
          "align": "left",
          "font": {
           "color": "#000000"
          },
          "showarrow": false,
          "text": "5.55",
          "x": 2.55,
          "xanchor": "left",
          "xref": "x",
          "y": 97,
          "yref": "y"
         },
         {
          "align": "left",
          "font": {
           "color": "#000000"
          },
          "showarrow": false,
          "text": "Croatia",
          "x": -0.45,
          "xanchor": "left",
          "xref": "x",
          "y": 98,
          "yref": "y"
         },
         {
          "align": "left",
          "font": {
           "color": "#000000"
          },
          "showarrow": false,
          "text": "26783383",
          "x": 0.55,
          "xanchor": "left",
          "xref": "x",
          "y": 98,
          "yref": "y"
         },
         {
          "align": "left",
          "font": {
           "color": "#000000"
          },
          "showarrow": false,
          "text": "31.98",
          "x": 1.55,
          "xanchor": "left",
          "xref": "x",
          "y": 98,
          "yref": "y"
         },
         {
          "align": "left",
          "font": {
           "color": "#000000"
          },
          "showarrow": false,
          "text": "5.37",
          "x": 2.55,
          "xanchor": "left",
          "xref": "x",
          "y": 98,
          "yref": "y"
         },
         {
          "align": "left",
          "font": {
           "color": "#000000"
          },
          "showarrow": false,
          "text": "Haiti",
          "x": -0.45,
          "xanchor": "left",
          "xref": "x",
          "y": 99,
          "yref": "y"
         },
         {
          "align": "left",
          "font": {
           "color": "#000000"
          },
          "showarrow": false,
          "text": "4062235",
          "x": 0.55,
          "xanchor": "left",
          "xref": "x",
          "y": 99,
          "yref": "y"
         },
         {
          "align": "left",
          "font": {
           "color": "#000000"
          },
          "showarrow": false,
          "text": "14.45",
          "x": 1.55,
          "xanchor": "left",
          "xref": "x",
          "y": 99,
          "yref": "y"
         },
         {
          "align": "left",
          "font": {
           "color": "#000000"
          },
          "showarrow": false,
          "text": "7.82",
          "x": 2.55,
          "xanchor": "left",
          "xref": "x",
          "y": 99,
          "yref": "y"
         },
         {
          "align": "left",
          "font": {
           "color": "#000000"
          },
          "showarrow": false,
          "text": "Hungary",
          "x": -0.45,
          "xanchor": "left",
          "xref": "x",
          "y": 100,
          "yref": "y"
         },
         {
          "align": "left",
          "font": {
           "color": "#000000"
          },
          "showarrow": false,
          "text": "75441",
          "x": 0.55,
          "xanchor": "left",
          "xref": "x",
          "y": 100,
          "yref": "y"
         },
         {
          "align": "left",
          "font": {
           "color": "#000000"
          },
          "showarrow": false,
          "text": "11.05",
          "x": 1.55,
          "xanchor": "left",
          "xref": "x",
          "y": 100,
          "yref": "y"
         },
         {
          "align": "left",
          "font": {
           "color": "#000000"
          },
          "showarrow": false,
          "text": "11.19",
          "x": 2.55,
          "xanchor": "left",
          "xref": "x",
          "y": 100,
          "yref": "y"
         },
         {
          "align": "left",
          "font": {
           "color": "#000000"
          },
          "showarrow": false,
          "text": "IBRD only",
          "x": -0.45,
          "xanchor": "left",
          "xref": "x",
          "y": 101,
          "yref": "y"
         },
         {
          "align": "left",
          "font": {
           "color": "#000000"
          },
          "showarrow": false,
          "text": "6352117",
          "x": 0.55,
          "xanchor": "left",
          "xref": "x",
          "y": 101,
          "yref": "y"
         },
         {
          "align": "left",
          "font": {
           "color": "#000000"
          },
          "showarrow": false,
          "text": "17.97",
          "x": 1.55,
          "xanchor": "left",
          "xref": "x",
          "y": 101,
          "yref": "y"
         },
         {
          "align": "left",
          "font": {
           "color": "#000000"
          },
          "showarrow": false,
          "text": "6.18",
          "x": 2.55,
          "xanchor": "left",
          "xref": "x",
          "y": 101,
          "yref": "y"
         },
         {
          "align": "left",
          "font": {
           "color": "#000000"
          },
          "showarrow": false,
          "text": "IDA & IBRD total",
          "x": -0.45,
          "xanchor": "left",
          "xref": "x",
          "y": 102,
          "yref": "y"
         },
         {
          "align": "left",
          "font": {
           "color": "#000000"
          },
          "showarrow": false,
          "text": "58133509",
          "x": 0.55,
          "xanchor": "left",
          "xref": "x",
          "y": 102,
          "yref": "y"
         },
         {
          "align": "left",
          "font": {
           "color": "#000000"
          },
          "showarrow": false,
          "text": "8.72",
          "x": 1.55,
          "xanchor": "left",
          "xref": "x",
          "y": 102,
          "yref": "y"
         },
         {
          "align": "left",
          "font": {
           "color": "#000000"
          },
          "showarrow": false,
          "text": "10.4",
          "x": 2.55,
          "xanchor": "left",
          "xref": "x",
          "y": 102,
          "yref": "y"
         },
         {
          "align": "left",
          "font": {
           "color": "#000000"
          },
          "showarrow": false,
          "text": "IDA total",
          "x": -0.45,
          "xanchor": "left",
          "xref": "x",
          "y": 103,
          "yref": "y"
         },
         {
          "align": "left",
          "font": {
           "color": "#000000"
          },
          "showarrow": false,
          "text": "2758124",
          "x": 0.55,
          "xanchor": "left",
          "xref": "x",
          "y": 103,
          "yref": "y"
         },
         {
          "align": "left",
          "font": {
           "color": "#000000"
          },
          "showarrow": false,
          "text": "20.82",
          "x": 1.55,
          "xanchor": "left",
          "xref": "x",
          "y": 103,
          "yref": "y"
         },
         {
          "align": "left",
          "font": {
           "color": "#000000"
          },
          "showarrow": false,
          "text": "6.52",
          "x": 2.55,
          "xanchor": "left",
          "xref": "x",
          "y": 103,
          "yref": "y"
         },
         {
          "align": "left",
          "font": {
           "color": "#000000"
          },
          "showarrow": false,
          "text": "IDA blend",
          "x": -0.45,
          "xanchor": "left",
          "xref": "x",
          "y": 104,
          "yref": "y"
         },
         {
          "align": "left",
          "font": {
           "color": "#000000"
          },
          "showarrow": false,
          "text": "127463611",
          "x": 0.55,
          "xanchor": "left",
          "xref": "x",
          "y": 104,
          "yref": "y"
         },
         {
          "align": "left",
          "font": {
           "color": "#000000"
          },
          "showarrow": false,
          "text": "9.37",
          "x": 1.55,
          "xanchor": "left",
          "xref": "x",
          "y": 104,
          "yref": "y"
         },
         {
          "align": "left",
          "font": {
           "color": "#000000"
          },
          "showarrow": false,
          "text": "9.16",
          "x": 2.55,
          "xanchor": "left",
          "xref": "x",
          "y": 104,
          "yref": "y"
         },
         {
          "align": "left",
          "font": {
           "color": "#000000"
          },
          "showarrow": false,
          "text": "Indonesia",
          "x": -0.45,
          "xanchor": "left",
          "xref": "x",
          "y": 105,
          "yref": "y"
         },
         {
          "align": "left",
          "font": {
           "color": "#000000"
          },
          "showarrow": false,
          "text": "91084",
          "x": 0.55,
          "xanchor": "left",
          "xref": "x",
          "y": 105,
          "yref": "y"
         },
         {
          "align": "left",
          "font": {
           "color": "#000000"
          },
          "showarrow": false,
          "text": "9.3",
          "x": 1.55,
          "xanchor": "left",
          "xref": "x",
          "y": 105,
          "yref": "y"
         },
         {
          "align": "left",
          "font": {
           "color": "#000000"
          },
          "showarrow": false,
          "text": "9.28",
          "x": 2.55,
          "xanchor": "left",
          "xref": "x",
          "y": 105,
          "yref": "y"
         },
         {
          "align": "left",
          "font": {
           "color": "#000000"
          },
          "showarrow": false,
          "text": "IDA only",
          "x": -0.45,
          "xanchor": "left",
          "xref": "x",
          "y": 106,
          "yref": "y"
         },
         {
          "align": "left",
          "font": {
           "color": "#000000"
          },
          "showarrow": false,
          "text": "5906760",
          "x": 0.55,
          "xanchor": "left",
          "xref": "x",
          "y": 106,
          "yref": "y"
         },
         {
          "align": "left",
          "font": {
           "color": "#000000"
          },
          "showarrow": false,
          "text": "21.25",
          "x": 1.55,
          "xanchor": "left",
          "xref": "x",
          "y": 106,
          "yref": "y"
         },
         {
          "align": "left",
          "font": {
           "color": "#000000"
          },
          "showarrow": false,
          "text": "2.65",
          "x": 2.55,
          "xanchor": "left",
          "xref": "x",
          "y": 106,
          "yref": "y"
         },
         {
          "align": "left",
          "font": {
           "color": "#000000"
          },
          "showarrow": false,
          "text": "Isle of Man",
          "x": -0.45,
          "xanchor": "left",
          "xref": "x",
          "y": 107,
          "yref": "y"
         },
         {
          "align": "left",
          "font": {
           "color": "#000000"
          },
          "showarrow": false,
          "text": "15233244",
          "x": 0.55,
          "xanchor": "left",
          "xref": "x",
          "y": 107,
          "yref": "y"
         },
         {
          "align": "left",
          "font": {
           "color": "#000000"
          },
          "showarrow": false,
          "text": "16.0",
          "x": 1.55,
          "xanchor": "left",
          "xref": "x",
          "y": 107,
          "yref": "y"
         },
         {
          "align": "left",
          "font": {
           "color": "#000000"
          },
          "showarrow": false,
          "text": "9.42",
          "x": 2.55,
          "xanchor": "left",
          "xref": "x",
          "y": 107,
          "yref": "y"
         },
         {
          "align": "left",
          "font": {
           "color": "#000000"
          },
          "showarrow": false,
          "text": "India",
          "x": -0.45,
          "xanchor": "left",
          "xref": "x",
          "y": 108,
          "yref": "y"
         },
         {
          "align": "left",
          "font": {
           "color": "#000000"
          },
          "showarrow": false,
          "text": "34707817",
          "x": 0.55,
          "xanchor": "left",
          "xref": "x",
          "y": 108,
          "yref": "y"
         },
         {
          "align": "left",
          "font": {
           "color": "#000000"
          },
          "showarrow": false,
          "text": "39.72",
          "x": 1.55,
          "xanchor": "left",
          "xref": "x",
          "y": 108,
          "yref": "y"
         },
         {
          "align": "left",
          "font": {
           "color": "#000000"
          },
          "showarrow": false,
          "text": "14.02",
          "x": 2.55,
          "xanchor": "left",
          "xref": "x",
          "y": 108,
          "yref": "y"
         },
         {
          "align": "left",
          "font": {
           "color": "#000000"
          },
          "showarrow": false,
          "text": "Not classified",
          "x": -0.45,
          "xanchor": "left",
          "xref": "x",
          "y": 109,
          "yref": "y"
         },
         {
          "align": "left",
          "font": {
           "color": "#000000"
          },
          "showarrow": false,
          "text": "105432",
          "x": 0.55,
          "xanchor": "left",
          "xref": "x",
          "y": 109,
          "yref": "y"
         },
         {
          "align": "left",
          "font": {
           "color": "#000000"
          },
          "showarrow": false,
          "text": "30.65",
          "x": 1.55,
          "xanchor": "left",
          "xref": "x",
          "y": 109,
          "yref": "y"
         },
         {
          "align": "left",
          "font": {
           "color": "#000000"
          },
          "showarrow": false,
          "text": "8.26",
          "x": 2.55,
          "xanchor": "left",
          "xref": "x",
          "y": 109,
          "yref": "y"
         },
         {
          "align": "left",
          "font": {
           "color": "#000000"
          },
          "showarrow": false,
          "text": "Ireland",
          "x": -0.45,
          "xanchor": "left",
          "xref": "x",
          "y": 110,
          "yref": "y"
         },
         {
          "align": "left",
          "font": {
           "color": "#000000"
          },
          "showarrow": false,
          "text": "23113019",
          "x": 0.55,
          "xanchor": "left",
          "xref": "x",
          "y": 110,
          "yref": "y"
         },
         {
          "align": "left",
          "font": {
           "color": "#000000"
          },
          "showarrow": false,
          "text": "15.54",
          "x": 1.55,
          "xanchor": "left",
          "xref": "x",
          "y": 110,
          "yref": "y"
         },
         {
          "align": "left",
          "font": {
           "color": "#000000"
          },
          "showarrow": false,
          "text": "7.13",
          "x": 2.55,
          "xanchor": "left",
          "xref": "x",
          "y": 110,
          "yref": "y"
         },
         {
          "align": "left",
          "font": {
           "color": "#000000"
          },
          "showarrow": false,
          "text": "Iran, Islamic Rep.",
          "x": -0.45,
          "xanchor": "left",
          "xref": "x",
          "y": 111,
          "yref": "y"
         },
         {
          "align": "left",
          "font": {
           "color": "#000000"
          },
          "showarrow": false,
          "text": "48846823",
          "x": 0.55,
          "xanchor": "left",
          "xref": "x",
          "y": 111,
          "yref": "y"
         },
         {
          "align": "left",
          "font": {
           "color": "#000000"
          },
          "showarrow": false,
          "text": "10.0",
          "x": 1.55,
          "xanchor": "left",
          "xref": "x",
          "y": 111,
          "yref": "y"
         },
         {
          "align": "left",
          "font": {
           "color": "#000000"
          },
          "showarrow": false,
          "text": "5.85",
          "x": 2.55,
          "xanchor": "left",
          "xref": "x",
          "y": 111,
          "yref": "y"
         },
         {
          "align": "left",
          "font": {
           "color": "#000000"
          },
          "showarrow": false,
          "text": "Iraq",
          "x": -0.45,
          "xanchor": "left",
          "xref": "x",
          "y": 112,
          "yref": "y"
         },
         {
          "align": "left",
          "font": {
           "color": "#000000"
          },
          "showarrow": false,
          "text": "2418393",
          "x": 0.55,
          "xanchor": "left",
          "xref": "x",
          "y": 112,
          "yref": "y"
         },
         {
          "align": "left",
          "font": {
           "color": "#000000"
          },
          "showarrow": false,
          "text": "21.94",
          "x": 1.55,
          "xanchor": "left",
          "xref": "x",
          "y": 112,
          "yref": "y"
         },
         {
          "align": "left",
          "font": {
           "color": "#000000"
          },
          "showarrow": false,
          "text": "2.41",
          "x": 2.55,
          "xanchor": "left",
          "xref": "x",
          "y": 112,
          "yref": "y"
         },
         {
          "align": "left",
          "font": {
           "color": "#000000"
          },
          "showarrow": false,
          "text": "Iceland",
          "x": -0.45,
          "xanchor": "left",
          "xref": "x",
          "y": 113,
          "yref": "y"
         },
         {
          "align": "left",
          "font": {
           "color": "#000000"
          },
          "showarrow": false,
          "text": "5213898",
          "x": 0.55,
          "xanchor": "left",
          "xref": "x",
          "y": 113,
          "yref": "y"
         },
         {
          "align": "left",
          "font": {
           "color": "#000000"
          },
          "showarrow": false,
          "text": "22.8",
          "x": 1.55,
          "xanchor": "left",
          "xref": "x",
          "y": 113,
          "yref": "y"
         },
         {
          "align": "left",
          "font": {
           "color": "#000000"
          },
          "showarrow": false,
          "text": "7.08",
          "x": 2.55,
          "xanchor": "left",
          "xref": "x",
          "y": 113,
          "yref": "y"
         },
         {
          "align": "left",
          "font": {
           "color": "#000000"
          },
          "showarrow": false,
          "text": "Israel",
          "x": -0.45,
          "xanchor": "left",
          "xref": "x",
          "y": 114,
          "yref": "y"
         },
         {
          "align": "left",
          "font": {
           "color": "#000000"
          },
          "showarrow": false,
          "text": "6368481",
          "x": 0.55,
          "xanchor": "left",
          "xref": "x",
          "y": 114,
          "yref": "y"
         },
         {
          "align": "left",
          "font": {
           "color": "#000000"
          },
          "showarrow": false,
          "text": "35.49",
          "x": 1.55,
          "xanchor": "left",
          "xref": "x",
          "y": 114,
          "yref": "y"
         },
         {
          "align": "left",
          "font": {
           "color": "#000000"
          },
          "showarrow": false,
          "text": "11.55",
          "x": 2.55,
          "xanchor": "left",
          "xref": "x",
          "y": 114,
          "yref": "y"
         },
         {
          "align": "left",
          "font": {
           "color": "#000000"
          },
          "showarrow": false,
          "text": "Italy",
          "x": -0.45,
          "xanchor": "left",
          "xref": "x",
          "y": 115,
          "yref": "y"
         },
         {
          "align": "left",
          "font": {
           "color": "#000000"
          },
          "showarrow": false,
          "text": "2274735",
          "x": 0.55,
          "xanchor": "left",
          "xref": "x",
          "y": 115,
          "yref": "y"
         },
         {
          "align": "left",
          "font": {
           "color": "#000000"
          },
          "showarrow": false,
          "text": "9.24",
          "x": 1.55,
          "xanchor": "left",
          "xref": "x",
          "y": 115,
          "yref": "y"
         },
         {
          "align": "left",
          "font": {
           "color": "#000000"
          },
          "showarrow": false,
          "text": "13.66",
          "x": 2.55,
          "xanchor": "left",
          "xref": "x",
          "y": 115,
          "yref": "y"
         },
         {
          "align": "left",
          "font": {
           "color": "#000000"
          },
          "showarrow": false,
          "text": "Jamaica",
          "x": -0.45,
          "xanchor": "left",
          "xref": "x",
          "y": 116,
          "yref": "y"
         },
         {
          "align": "left",
          "font": {
           "color": "#000000"
          },
          "showarrow": false,
          "text": "3874050",
          "x": 0.55,
          "xanchor": "left",
          "xref": "x",
          "y": 116,
          "yref": "y"
         },
         {
          "align": "left",
          "font": {
           "color": "#000000"
          },
          "showarrow": false,
          "text": "18.52",
          "x": 1.55,
          "xanchor": "left",
          "xref": "x",
          "y": 116,
          "yref": "y"
         },
         {
          "align": "left",
          "font": {
           "color": "#000000"
          },
          "showarrow": false,
          "text": "6.21",
          "x": 2.55,
          "xanchor": "left",
          "xref": "x",
          "y": 116,
          "yref": "y"
         },
         {
          "align": "left",
          "font": {
           "color": "#000000"
          },
          "showarrow": false,
          "text": "Jordan",
          "x": -0.45,
          "xanchor": "left",
          "xref": "x",
          "y": 117,
          "yref": "y"
         },
         {
          "align": "left",
          "font": {
           "color": "#000000"
          },
          "showarrow": false,
          "text": "2022331",
          "x": 0.55,
          "xanchor": "left",
          "xref": "x",
          "y": 117,
          "yref": "y"
         },
         {
          "align": "left",
          "font": {
           "color": "#000000"
          },
          "showarrow": false,
          "text": "24.75",
          "x": 1.55,
          "xanchor": "left",
          "xref": "x",
          "y": 117,
          "yref": "y"
         },
         {
          "align": "left",
          "font": {
           "color": "#000000"
          },
          "showarrow": false,
          "text": "28.71",
          "x": 2.55,
          "xanchor": "left",
          "xref": "x",
          "y": 117,
          "yref": "y"
         },
         {
          "align": "left",
          "font": {
           "color": "#000000"
          },
          "showarrow": false,
          "text": "Japan",
          "x": -0.45,
          "xanchor": "left",
          "xref": "x",
          "y": 118,
          "yref": "y"
         },
         {
          "align": "left",
          "font": {
           "color": "#000000"
          },
          "showarrow": false,
          "text": "3042004",
          "x": 0.55,
          "xanchor": "left",
          "xref": "x",
          "y": 118,
          "yref": "y"
         },
         {
          "align": "left",
          "font": {
           "color": "#000000"
          },
          "showarrow": false,
          "text": "44.77",
          "x": 1.55,
          "xanchor": "left",
          "xref": "x",
          "y": 118,
          "yref": "y"
         },
         {
          "align": "left",
          "font": {
           "color": "#000000"
          },
          "showarrow": false,
          "text": "23.1",
          "x": 2.55,
          "xanchor": "left",
          "xref": "x",
          "y": 118,
          "yref": "y"
         },
         {
          "align": "left",
          "font": {
           "color": "#000000"
          },
          "showarrow": false,
          "text": "Kazakhstan",
          "x": -0.45,
          "xanchor": "left",
          "xref": "x",
          "y": 119,
          "yref": "y"
         },
         {
          "align": "left",
          "font": {
           "color": "#000000"
          },
          "showarrow": false,
          "text": "5900754",
          "x": 0.55,
          "xanchor": "left",
          "xref": "x",
          "y": 119,
          "yref": "y"
         },
         {
          "align": "left",
          "font": {
           "color": "#000000"
          },
          "showarrow": false,
          "text": "26.49",
          "x": 1.55,
          "xanchor": "left",
          "xref": "x",
          "y": 119,
          "yref": "y"
         },
         {
          "align": "left",
          "font": {
           "color": "#000000"
          },
          "showarrow": false,
          "text": "3.48",
          "x": 2.55,
          "xanchor": "left",
          "xref": "x",
          "y": 119,
          "yref": "y"
         },
         {
          "align": "left",
          "font": {
           "color": "#000000"
          },
          "showarrow": false,
          "text": "Kenya",
          "x": -0.45,
          "xanchor": "left",
          "xref": "x",
          "y": 120,
          "yref": "y"
         },
         {
          "align": "left",
          "font": {
           "color": "#000000"
          },
          "showarrow": false,
          "text": "33987",
          "x": 0.55,
          "xanchor": "left",
          "xref": "x",
          "y": 120,
          "yref": "y"
         },
         {
          "align": "left",
          "font": {
           "color": "#000000"
          },
          "showarrow": false,
          "text": "10.21",
          "x": 1.55,
          "xanchor": "left",
          "xref": "x",
          "y": 120,
          "yref": "y"
         },
         {
          "align": "left",
          "font": {
           "color": "#000000"
          },
          "showarrow": false,
          "text": "7.18",
          "x": 2.55,
          "xanchor": "left",
          "xref": "x",
          "y": 120,
          "yref": "y"
         },
         {
          "align": "left",
          "font": {
           "color": "#000000"
          },
          "showarrow": false,
          "text": "Kyrgyz Republic",
          "x": -0.45,
          "xanchor": "left",
          "xref": "x",
          "y": 121,
          "yref": "y"
         },
         {
          "align": "left",
          "font": {
           "color": "#000000"
          },
          "showarrow": false,
          "text": "3585906",
          "x": 0.55,
          "xanchor": "left",
          "xref": "x",
          "y": 121,
          "yref": "y"
         },
         {
          "align": "left",
          "font": {
           "color": "#000000"
          },
          "showarrow": false,
          "text": "8.75",
          "x": 1.55,
          "xanchor": "left",
          "xref": "x",
          "y": 121,
          "yref": "y"
         },
         {
          "align": "left",
          "font": {
           "color": "#000000"
          },
          "showarrow": false,
          "text": "10.98",
          "x": 2.55,
          "xanchor": "left",
          "xref": "x",
          "y": 121,
          "yref": "y"
         },
         {
          "align": "left",
          "font": {
           "color": "#000000"
          },
          "showarrow": false,
          "text": "Cambodia",
          "x": -0.45,
          "xanchor": "left",
          "xref": "x",
          "y": 122,
          "yref": "y"
         },
         {
          "align": "left",
          "font": {
           "color": "#000000"
          },
          "showarrow": false,
          "text": "474413",
          "x": 0.55,
          "xanchor": "left",
          "xref": "x",
          "y": 122,
          "yref": "y"
         },
         {
          "align": "left",
          "font": {
           "color": "#000000"
          },
          "showarrow": false,
          "text": "11.94",
          "x": 1.55,
          "xanchor": "left",
          "xref": "x",
          "y": 122,
          "yref": "y"
         },
         {
          "align": "left",
          "font": {
           "color": "#000000"
          },
          "showarrow": false,
          "text": "8.41",
          "x": 2.55,
          "xanchor": "left",
          "xref": "x",
          "y": 122,
          "yref": "y"
         },
         {
          "align": "left",
          "font": {
           "color": "#000000"
          },
          "showarrow": false,
          "text": "Kiribati",
          "x": -0.45,
          "xanchor": "left",
          "xref": "x",
          "y": 123,
          "yref": "y"
         },
         {
          "align": "left",
          "font": {
           "color": "#000000"
          },
          "showarrow": false,
          "text": "453125",
          "x": 0.55,
          "xanchor": "left",
          "xref": "x",
          "y": 123,
          "yref": "y"
         },
         {
          "align": "left",
          "font": {
           "color": "#000000"
          },
          "showarrow": false,
          "text": "8.48",
          "x": 1.55,
          "xanchor": "left",
          "xref": "x",
          "y": 123,
          "yref": "y"
         },
         {
          "align": "left",
          "font": {
           "color": "#000000"
          },
          "showarrow": false,
          "text": "4.47",
          "x": 2.55,
          "xanchor": "left",
          "xref": "x",
          "y": 123,
          "yref": "y"
         },
         {
          "align": "left",
          "font": {
           "color": "#000000"
          },
          "showarrow": false,
          "text": "St. Kitts and Nevis",
          "x": -0.45,
          "xanchor": "left",
          "xref": "x",
          "y": 124,
          "yref": "y"
         },
         {
          "align": "left",
          "font": {
           "color": "#000000"
          },
          "showarrow": false,
          "text": "2050554",
          "x": 0.55,
          "xanchor": "left",
          "xref": "x",
          "y": 124,
          "yref": "y"
         },
         {
          "align": "left",
          "font": {
           "color": "#000000"
          },
          "showarrow": false,
          "text": "12.02",
          "x": 1.55,
          "xanchor": "left",
          "xref": "x",
          "y": 124,
          "yref": "y"
         },
         {
          "align": "left",
          "font": {
           "color": "#000000"
          },
          "showarrow": false,
          "text": "8.77",
          "x": 2.55,
          "xanchor": "left",
          "xref": "x",
          "y": 124,
          "yref": "y"
         },
         {
          "align": "left",
          "font": {
           "color": "#000000"
          },
          "showarrow": false,
          "text": "Korea, Rep.",
          "x": -0.45,
          "xanchor": "left",
          "xref": "x",
          "y": 125,
          "yref": "y"
         },
         {
          "align": "left",
          "font": {
           "color": "#000000"
          },
          "showarrow": false,
          "text": "18595469",
          "x": 0.55,
          "xanchor": "left",
          "xref": "x",
          "y": 125,
          "yref": "y"
         },
         {
          "align": "left",
          "font": {
           "color": "#000000"
          },
          "showarrow": false,
          "text": "41.41",
          "x": 1.55,
          "xanchor": "left",
          "xref": "x",
          "y": 125,
          "yref": "y"
         },
         {
          "align": "left",
          "font": {
           "color": "#000000"
          },
          "showarrow": false,
          "text": "11.11",
          "x": 2.55,
          "xanchor": "left",
          "xref": "x",
          "y": 125,
          "yref": "y"
         },
         {
          "align": "left",
          "font": {
           "color": "#000000"
          },
          "showarrow": false,
          "text": "Kuwait",
          "x": -0.45,
          "xanchor": "left",
          "xref": "x",
          "y": 126,
          "yref": "y"
         },
         {
          "align": "left",
          "font": {
           "color": "#000000"
          },
          "showarrow": false,
          "text": "13013926",
          "x": 0.55,
          "xanchor": "left",
          "xref": "x",
          "y": 126,
          "yref": "y"
         },
         {
          "align": "left",
          "font": {
           "color": "#000000"
          },
          "showarrow": false,
          "text": "43.13",
          "x": 1.55,
          "xanchor": "left",
          "xref": "x",
          "y": 126,
          "yref": "y"
         },
         {
          "align": "left",
          "font": {
           "color": "#000000"
          },
          "showarrow": false,
          "text": "19.33",
          "x": 2.55,
          "xanchor": "left",
          "xref": "x",
          "y": 126,
          "yref": "y"
         },
         {
          "align": "left",
          "font": {
           "color": "#000000"
          },
          "showarrow": false,
          "text": "Latin America & Caribbean (excluding high income)",
          "x": -0.45,
          "xanchor": "left",
          "xref": "x",
          "y": 127,
          "yref": "y"
         },
         {
          "align": "left",
          "font": {
           "color": "#000000"
          },
          "showarrow": false,
          "text": "24385858",
          "x": 0.55,
          "xanchor": "left",
          "xref": "x",
          "y": 127,
          "yref": "y"
         },
         {
          "align": "left",
          "font": {
           "color": "#000000"
          },
          "showarrow": false,
          "text": "22.86",
          "x": 1.55,
          "xanchor": "left",
          "xref": "x",
          "y": 127,
          "yref": "y"
         },
         {
          "align": "left",
          "font": {
           "color": "#000000"
          },
          "showarrow": false,
          "text": "5.05",
          "x": 2.55,
          "xanchor": "left",
          "xref": "x",
          "y": 127,
          "yref": "y"
         },
         {
          "align": "left",
          "font": {
           "color": "#000000"
          },
          "showarrow": false,
          "text": "Lao PDR",
          "x": -0.45,
          "xanchor": "left",
          "xref": "x",
          "y": 128,
          "yref": "y"
         },
         {
          "align": "left",
          "font": {
           "color": "#000000"
          },
          "showarrow": false,
          "text": "359008",
          "x": 0.55,
          "xanchor": "left",
          "xref": "x",
          "y": 128,
          "yref": "y"
         },
         {
          "align": "left",
          "font": {
           "color": "#000000"
          },
          "showarrow": false,
          "text": "34.81",
          "x": 1.55,
          "xanchor": "left",
          "xref": "x",
          "y": 128,
          "yref": "y"
         },
         {
          "align": "left",
          "font": {
           "color": "#000000"
          },
          "showarrow": false,
          "text": "7.06",
          "x": 2.55,
          "xanchor": "left",
          "xref": "x",
          "y": 128,
          "yref": "y"
         },
         {
          "align": "left",
          "font": {
           "color": "#000000"
          },
          "showarrow": false,
          "text": "Lebanon",
          "x": -0.45,
          "xanchor": "left",
          "xref": "x",
          "y": 129,
          "yref": "y"
         },
         {
          "align": "left",
          "font": {
           "color": "#000000"
          },
          "showarrow": false,
          "text": "11716829",
          "x": 0.55,
          "xanchor": "left",
          "xref": "x",
          "y": 129,
          "yref": "y"
         },
         {
          "align": "left",
          "font": {
           "color": "#000000"
          },
          "showarrow": false,
          "text": "49.82",
          "x": 1.55,
          "xanchor": "left",
          "xref": "x",
          "y": 129,
          "yref": "y"
         },
         {
          "align": "left",
          "font": {
           "color": "#000000"
          },
          "showarrow": false,
          "text": "16.89",
          "x": 2.55,
          "xanchor": "left",
          "xref": "x",
          "y": 129,
          "yref": "y"
         },
         {
          "align": "left",
          "font": {
           "color": "#000000"
          },
          "showarrow": false,
          "text": "Liberia",
          "x": -0.45,
          "xanchor": "left",
          "xref": "x",
          "y": 130,
          "yref": "y"
         },
         {
          "align": "left",
          "font": {
           "color": "#000000"
          },
          "showarrow": false,
          "text": "400214",
          "x": 0.55,
          "xanchor": "left",
          "xref": "x",
          "y": 130,
          "yref": "y"
         },
         {
          "align": "left",
          "font": {
           "color": "#000000"
          },
          "showarrow": false,
          "text": "10.22",
          "x": 1.55,
          "xanchor": "left",
          "xref": "x",
          "y": 130,
          "yref": "y"
         },
         {
          "align": "left",
          "font": {
           "color": "#000000"
          },
          "showarrow": false,
          "text": "8.1",
          "x": 2.55,
          "xanchor": "left",
          "xref": "x",
          "y": 130,
          "yref": "y"
         },
         {
          "align": "left",
          "font": {
           "color": "#000000"
          },
          "showarrow": false,
          "text": "Libya",
          "x": -0.45,
          "xanchor": "left",
          "xref": "x",
          "y": 131,
          "yref": "y"
         },
         {
          "align": "left",
          "font": {
           "color": "#000000"
          },
          "showarrow": false,
          "text": "60422",
          "x": 0.55,
          "xanchor": "left",
          "xref": "x",
          "y": 131,
          "yref": "y"
         },
         {
          "align": "left",
          "font": {
           "color": "#000000"
          },
          "showarrow": false,
          "text": "33.05",
          "x": 1.55,
          "xanchor": "left",
          "xref": "x",
          "y": 131,
          "yref": "y"
         },
         {
          "align": "left",
          "font": {
           "color": "#000000"
          },
          "showarrow": false,
          "text": "4.78",
          "x": 2.55,
          "xanchor": "left",
          "xref": "x",
          "y": 131,
          "yref": "y"
         },
         {
          "align": "left",
          "font": {
           "color": "#000000"
          },
          "showarrow": false,
          "text": "St. Lucia",
          "x": -0.45,
          "xanchor": "left",
          "xref": "x",
          "y": 132,
          "yref": "y"
         },
         {
          "align": "left",
          "font": {
           "color": "#000000"
          },
          "showarrow": false,
          "text": "436131",
          "x": 0.55,
          "xanchor": "left",
          "xref": "x",
          "y": 132,
          "yref": "y"
         },
         {
          "align": "left",
          "font": {
           "color": "#000000"
          },
          "showarrow": false,
          "text": "13.74",
          "x": 1.55,
          "xanchor": "left",
          "xref": "x",
          "y": 132,
          "yref": "y"
         },
         {
          "align": "left",
          "font": {
           "color": "#000000"
          },
          "showarrow": false,
          "text": "6.48",
          "x": 2.55,
          "xanchor": "left",
          "xref": "x",
          "y": 132,
          "yref": "y"
         },
         {
          "align": "left",
          "font": {
           "color": "#000000"
          },
          "showarrow": false,
          "text": "Latin America & Caribbean",
          "x": -0.45,
          "xanchor": "left",
          "xref": "x",
          "y": 133,
          "yref": "y"
         },
         {
          "align": "left",
          "font": {
           "color": "#000000"
          },
          "showarrow": false,
          "text": "3177388",
          "x": 0.55,
          "xanchor": "left",
          "xref": "x",
          "y": 133,
          "yref": "y"
         },
         {
          "align": "left",
          "font": {
           "color": "#000000"
          },
          "showarrow": false,
          "text": "40.99",
          "x": 1.55,
          "xanchor": "left",
          "xref": "x",
          "y": 133,
          "yref": "y"
         },
         {
          "align": "left",
          "font": {
           "color": "#000000"
          },
          "showarrow": false,
          "text": "12.16",
          "x": 2.55,
          "xanchor": "left",
          "xref": "x",
          "y": 133,
          "yref": "y"
         },
         {
          "align": "left",
          "font": {
           "color": "#000000"
          },
          "showarrow": false,
          "text": "Least developed countries: UN classification",
          "x": -0.45,
          "xanchor": "left",
          "xref": "x",
          "y": 134,
          "yref": "y"
         },
         {
          "align": "left",
          "font": {
           "color": "#000000"
          },
          "showarrow": false,
          "text": "1240827",
          "x": 0.55,
          "xanchor": "left",
          "xref": "x",
          "y": 134,
          "yref": "y"
         },
         {
          "align": "left",
          "font": {
           "color": "#000000"
          },
          "showarrow": false,
          "text": "15.43",
          "x": 1.55,
          "xanchor": "left",
          "xref": "x",
          "y": 134,
          "yref": "y"
         },
         {
          "align": "left",
          "font": {
           "color": "#000000"
          },
          "showarrow": false,
          "text": "6.86",
          "x": 2.55,
          "xanchor": "left",
          "xref": "x",
          "y": 134,
          "yref": "y"
         },
         {
          "align": "left",
          "font": {
           "color": "#000000"
          },
          "showarrow": false,
          "text": "Low income",
          "x": -0.45,
          "xanchor": "left",
          "xref": "x",
          "y": 135,
          "yref": "y"
         },
         {
          "align": "left",
          "font": {
           "color": "#000000"
          },
          "showarrow": false,
          "text": "201234",
          "x": 0.55,
          "xanchor": "left",
          "xref": "x",
          "y": 135,
          "yref": "y"
         },
         {
          "align": "left",
          "font": {
           "color": "#000000"
          },
          "showarrow": false,
          "text": "40.95",
          "x": 1.55,
          "xanchor": "left",
          "xref": "x",
          "y": 135,
          "yref": "y"
         },
         {
          "align": "left",
          "font": {
           "color": "#000000"
          },
          "showarrow": false,
          "text": "7.7",
          "x": 2.55,
          "xanchor": "left",
          "xref": "x",
          "y": 135,
          "yref": "y"
         },
         {
          "align": "left",
          "font": {
           "color": "#000000"
          },
          "showarrow": false,
          "text": "Liechtenstein",
          "x": -0.45,
          "xanchor": "left",
          "xref": "x",
          "y": 136,
          "yref": "y"
         },
         {
          "align": "left",
          "font": {
           "color": "#000000"
          },
          "showarrow": false,
          "text": "107449525",
          "x": 0.55,
          "xanchor": "left",
          "xref": "x",
          "y": 136,
          "yref": "y"
         },
         {
          "align": "left",
          "font": {
           "color": "#000000"
          },
          "showarrow": false,
          "text": "20.69",
          "x": 1.55,
          "xanchor": "left",
          "xref": "x",
          "y": 136,
          "yref": "y"
         },
         {
          "align": "left",
          "font": {
           "color": "#000000"
          },
          "showarrow": false,
          "text": "4.74",
          "x": 2.55,
          "xanchor": "left",
          "xref": "x",
          "y": 136,
          "yref": "y"
         },
         {
          "align": "left",
          "font": {
           "color": "#000000"
          },
          "showarrow": false,
          "text": "Sri Lanka",
          "x": -0.45,
          "xanchor": "left",
          "xref": "x",
          "y": 137,
          "yref": "y"
         },
         {
          "align": "left",
          "font": {
           "color": "#000000"
          },
          "showarrow": false,
          "text": "108004",
          "x": 0.55,
          "xanchor": "left",
          "xref": "x",
          "y": 137,
          "yref": "y"
         },
         {
          "align": "left",
          "font": {
           "color": "#000000"
          },
          "showarrow": false,
          "text": "24.68",
          "x": 1.55,
          "xanchor": "left",
          "xref": "x",
          "y": 137,
          "yref": "y"
         },
         {
          "align": "left",
          "font": {
           "color": "#000000"
          },
          "showarrow": false,
          "text": "4.75",
          "x": 2.55,
          "xanchor": "left",
          "xref": "x",
          "y": 137,
          "yref": "y"
         },
         {
          "align": "left",
          "font": {
           "color": "#000000"
          },
          "showarrow": false,
          "text": "Lower middle income",
          "x": -0.45,
          "xanchor": "left",
          "xref": "x",
          "y": 138,
          "yref": "y"
         },
         {
          "align": "left",
          "font": {
           "color": "#000000"
          },
          "showarrow": false,
          "text": "4466706",
          "x": 0.55,
          "xanchor": "left",
          "xref": "x",
          "y": 138,
          "yref": "y"
         },
         {
          "align": "left",
          "font": {
           "color": "#000000"
          },
          "showarrow": false,
          "text": "15.7",
          "x": 1.55,
          "xanchor": "left",
          "xref": "x",
          "y": 138,
          "yref": "y"
         },
         {
          "align": "left",
          "font": {
           "color": "#000000"
          },
          "showarrow": false,
          "text": "12.64",
          "x": 2.55,
          "xanchor": "left",
          "xref": "x",
          "y": 138,
          "yref": "y"
         },
         {
          "align": "left",
          "font": {
           "color": "#000000"
          },
          "showarrow": false,
          "text": "Low & middle income",
          "x": -0.45,
          "xanchor": "left",
          "xref": "x",
          "y": 139,
          "yref": "y"
         },
         {
          "align": "left",
          "font": {
           "color": "#000000"
          },
          "showarrow": false,
          "text": "32543",
          "x": 0.55,
          "xanchor": "left",
          "xref": "x",
          "y": 139,
          "yref": "y"
         },
         {
          "align": "left",
          "font": {
           "color": "#000000"
          },
          "showarrow": false,
          "text": "9.19",
          "x": 1.55,
          "xanchor": "left",
          "xref": "x",
          "y": 139,
          "yref": "y"
         },
         {
          "align": "left",
          "font": {
           "color": "#000000"
          },
          "showarrow": false,
          "text": "12.91",
          "x": 2.55,
          "xanchor": "left",
          "xref": "x",
          "y": 139,
          "yref": "y"
         },
         {
          "align": "left",
          "font": {
           "color": "#000000"
          },
          "showarrow": false,
          "text": "Lesotho",
          "x": -0.45,
          "xanchor": "left",
          "xref": "x",
          "y": 140,
          "yref": "y"
         },
         {
          "align": "left",
          "font": {
           "color": "#000000"
          },
          "showarrow": false,
          "text": "2832224",
          "x": 0.55,
          "xanchor": "left",
          "xref": "x",
          "y": 140,
          "yref": "y"
         },
         {
          "align": "left",
          "font": {
           "color": "#000000"
          },
          "showarrow": false,
          "text": "21.59",
          "x": 1.55,
          "xanchor": "left",
          "xref": "x",
          "y": 140,
          "yref": "y"
         },
         {
          "align": "left",
          "font": {
           "color": "#000000"
          },
          "showarrow": false,
          "text": "6.95",
          "x": 2.55,
          "xanchor": "left",
          "xref": "x",
          "y": 140,
          "yref": "y"
         },
         {
          "align": "left",
          "font": {
           "color": "#000000"
          },
          "showarrow": false,
          "text": "Late-demographic dividend",
          "x": -0.45,
          "xanchor": "left",
          "xref": "x",
          "y": 141,
          "yref": "y"
         },
         {
          "align": "left",
          "font": {
           "color": "#000000"
          },
          "showarrow": false,
          "text": "9439",
          "x": 0.55,
          "xanchor": "left",
          "xref": "x",
          "y": 141,
          "yref": "y"
         },
         {
          "align": "left",
          "font": {
           "color": "#000000"
          },
          "showarrow": false,
          "text": "17.59",
          "x": 1.55,
          "xanchor": "left",
          "xref": "x",
          "y": 141,
          "yref": "y"
         },
         {
          "align": "left",
          "font": {
           "color": "#000000"
          },
          "showarrow": false,
          "text": "7.1",
          "x": 2.55,
          "xanchor": "left",
          "xref": "x",
          "y": 141,
          "yref": "y"
         },
         {
          "align": "left",
          "font": {
           "color": "#000000"
          },
          "showarrow": false,
          "text": "Lithuania",
          "x": -0.45,
          "xanchor": "left",
          "xref": "x",
          "y": 142,
          "yref": "y"
         },
         {
          "align": "left",
          "font": {
           "color": "#000000"
          },
          "showarrow": false,
          "text": "33241259",
          "x": 0.55,
          "xanchor": "left",
          "xref": "x",
          "y": 142,
          "yref": "y"
         },
         {
          "align": "left",
          "font": {
           "color": "#000000"
          },
          "showarrow": false,
          "text": "21.98",
          "x": 1.55,
          "xanchor": "left",
          "xref": "x",
          "y": 142,
          "yref": "y"
         },
         {
          "align": "left",
          "font": {
           "color": "#000000"
          },
          "showarrow": false,
          "text": "5.58",
          "x": 2.55,
          "xanchor": "left",
          "xref": "x",
          "y": 142,
          "yref": "y"
         },
         {
          "align": "left",
          "font": {
           "color": "#000000"
          },
          "showarrow": false,
          "text": "Luxembourg",
          "x": -0.45,
          "xanchor": "left",
          "xref": "x",
          "y": 143,
          "yref": "y"
         },
         {
          "align": "left",
          "font": {
           "color": "#000000"
          },
          "showarrow": false,
          "text": "19686505",
          "x": 0.55,
          "xanchor": "left",
          "xref": "x",
          "y": 143,
          "yref": "y"
         },
         {
          "align": "left",
          "font": {
           "color": "#000000"
          },
          "showarrow": false,
          "text": "35.18",
          "x": 1.55,
          "xanchor": "left",
          "xref": "x",
          "y": 143,
          "yref": "y"
         },
         {
          "align": "left",
          "font": {
           "color": "#000000"
          },
          "showarrow": false,
          "text": "21.35",
          "x": 2.55,
          "xanchor": "left",
          "xref": "x",
          "y": 143,
          "yref": "y"
         },
         {
          "align": "left",
          "font": {
           "color": "#000000"
          },
          "showarrow": false,
          "text": "Latvia",
          "x": -0.45,
          "xanchor": "left",
          "xref": "x",
          "y": 144,
          "yref": "y"
         },
         {
          "align": "left",
          "font": {
           "color": "#000000"
          },
          "showarrow": false,
          "text": "2044147",
          "x": 0.55,
          "xanchor": "left",
          "xref": "x",
          "y": 144,
          "yref": "y"
         },
         {
          "align": "left",
          "font": {
           "color": "#000000"
          },
          "showarrow": false,
          "text": "24.32",
          "x": 1.55,
          "xanchor": "left",
          "xref": "x",
          "y": 144,
          "yref": "y"
         },
         {
          "align": "left",
          "font": {
           "color": "#000000"
          },
          "showarrow": false,
          "text": "18.86",
          "x": 2.55,
          "xanchor": "left",
          "xref": "x",
          "y": 144,
          "yref": "y"
         },
         {
          "align": "left",
          "font": {
           "color": "#000000"
          },
          "showarrow": false,
          "text": "Macao SAR, China",
          "x": -0.45,
          "xanchor": "left",
          "xref": "x",
          "y": 145,
          "yref": "y"
         },
         {
          "align": "left",
          "font": {
           "color": "#000000"
          },
          "showarrow": false,
          "text": "13287",
          "x": 0.55,
          "xanchor": "left",
          "xref": "x",
          "y": 145,
          "yref": "y"
         },
         {
          "align": "left",
          "font": {
           "color": "#000000"
          },
          "showarrow": false,
          "text": "24.76",
          "x": 1.55,
          "xanchor": "left",
          "xref": "x",
          "y": 145,
          "yref": "y"
         },
         {
          "align": "left",
          "font": {
           "color": "#000000"
          },
          "showarrow": false,
          "text": "6.7",
          "x": 2.55,
          "xanchor": "left",
          "xref": "x",
          "y": 145,
          "yref": "y"
         },
         {
          "align": "left",
          "font": {
           "color": "#000000"
          },
          "showarrow": false,
          "text": "St. Martin (French part)",
          "x": -0.45,
          "xanchor": "left",
          "xref": "x",
          "y": 146,
          "yref": "y"
         },
         {
          "align": "left",
          "font": {
           "color": "#000000"
          },
          "showarrow": false,
          "text": "28287147",
          "x": 0.55,
          "xanchor": "left",
          "xref": "x",
          "y": 146,
          "yref": "y"
         },
         {
          "align": "left",
          "font": {
           "color": "#000000"
          },
          "showarrow": false,
          "text": "30.98",
          "x": 1.55,
          "xanchor": "left",
          "xref": "x",
          "y": 146,
          "yref": "y"
         },
         {
          "align": "left",
          "font": {
           "color": "#000000"
          },
          "showarrow": false,
          "text": "9.31",
          "x": 2.55,
          "xanchor": "left",
          "xref": "x",
          "y": 146,
          "yref": "y"
         },
         {
          "align": "left",
          "font": {
           "color": "#000000"
          },
          "showarrow": false,
          "text": "Morocco",
          "x": -0.45,
          "xanchor": "left",
          "xref": "x",
          "y": 147,
          "yref": "y"
         },
         {
          "align": "left",
          "font": {
           "color": "#000000"
          },
          "showarrow": false,
          "text": "16491461",
          "x": 0.55,
          "xanchor": "left",
          "xref": "x",
          "y": 147,
          "yref": "y"
         },
         {
          "align": "left",
          "font": {
           "color": "#000000"
          },
          "showarrow": false,
          "text": "10.9",
          "x": 1.55,
          "xanchor": "left",
          "xref": "x",
          "y": 147,
          "yref": "y"
         },
         {
          "align": "left",
          "font": {
           "color": "#000000"
          },
          "showarrow": false,
          "text": "8.68",
          "x": 2.55,
          "xanchor": "left",
          "xref": "x",
          "y": 147,
          "yref": "y"
         },
         {
          "align": "left",
          "font": {
           "color": "#000000"
          },
          "showarrow": false,
          "text": "Monaco",
          "x": -0.45,
          "xanchor": "left",
          "xref": "x",
          "y": 148,
          "yref": "y"
         },
         {
          "align": "left",
          "font": {
           "color": "#000000"
          },
          "showarrow": false,
          "text": "221736",
          "x": 0.55,
          "xanchor": "left",
          "xref": "x",
          "y": 148,
          "yref": "y"
         },
         {
          "align": "left",
          "font": {
           "color": "#000000"
          },
          "showarrow": false,
          "text": "14.78",
          "x": 1.55,
          "xanchor": "left",
          "xref": "x",
          "y": 148,
          "yref": "y"
         },
         {
          "align": "left",
          "font": {
           "color": "#000000"
          },
          "showarrow": false,
          "text": "6.45",
          "x": 2.55,
          "xanchor": "left",
          "xref": "x",
          "y": 148,
          "yref": "y"
         },
         {
          "align": "left",
          "font": {
           "color": "#000000"
          },
          "showarrow": false,
          "text": "Moldova",
          "x": -0.45,
          "xanchor": "left",
          "xref": "x",
          "y": 149,
          "yref": "y"
         },
         {
          "align": "left",
          "font": {
           "color": "#000000"
          },
          "showarrow": false,
          "text": "219246",
          "x": 0.55,
          "xanchor": "left",
          "xref": "x",
          "y": 149,
          "yref": "y"
         },
         {
          "align": "left",
          "font": {
           "color": "#000000"
          },
          "showarrow": false,
          "text": "18.11",
          "x": 1.55,
          "xanchor": "left",
          "xref": "x",
          "y": 149,
          "yref": "y"
         },
         {
          "align": "left",
          "font": {
           "color": "#000000"
          },
          "showarrow": false,
          "text": "5.69",
          "x": 2.55,
          "xanchor": "left",
          "xref": "x",
          "y": 149,
          "yref": "y"
         },
         {
          "align": "left",
          "font": {
           "color": "#000000"
          },
          "showarrow": false,
          "text": "Madagascar",
          "x": -0.45,
          "xanchor": "left",
          "xref": "x",
          "y": 150,
          "yref": "y"
         },
         {
          "align": "left",
          "font": {
           "color": "#000000"
          },
          "showarrow": false,
          "text": "4076140",
          "x": 0.55,
          "xanchor": "left",
          "xref": "x",
          "y": 150,
          "yref": "y"
         },
         {
          "align": "left",
          "font": {
           "color": "#000000"
          },
          "showarrow": false,
          "text": "13.76",
          "x": 1.55,
          "xanchor": "left",
          "xref": "x",
          "y": 150,
          "yref": "y"
         },
         {
          "align": "left",
          "font": {
           "color": "#000000"
          },
          "showarrow": false,
          "text": "7.53",
          "x": 2.55,
          "xanchor": "left",
          "xref": "x",
          "y": 150,
          "yref": "y"
         },
         {
          "align": "left",
          "font": {
           "color": "#000000"
          },
          "showarrow": false,
          "text": "Maldives",
          "x": -0.45,
          "xanchor": "left",
          "xref": "x",
          "y": 151,
          "yref": "y"
         },
         {
          "align": "left",
          "font": {
           "color": "#000000"
          },
          "showarrow": false,
          "text": "5570129",
          "x": 0.55,
          "xanchor": "left",
          "xref": "x",
          "y": 151,
          "yref": "y"
         },
         {
          "align": "left",
          "font": {
           "color": "#000000"
          },
          "showarrow": false,
          "text": "24.51",
          "x": 1.55,
          "xanchor": "left",
          "xref": "x",
          "y": 151,
          "yref": "y"
         },
         {
          "align": "left",
          "font": {
           "color": "#000000"
          },
          "showarrow": false,
          "text": "4.45",
          "x": 2.55,
          "xanchor": "left",
          "xref": "x",
          "y": 151,
          "yref": "y"
         },
         {
          "align": "left",
          "font": {
           "color": "#000000"
          },
          "showarrow": false,
          "text": "Middle East & North Africa",
          "x": -0.45,
          "xanchor": "left",
          "xref": "x",
          "y": 152,
          "yref": "y"
         },
         {
          "align": "left",
          "font": {
           "color": "#000000"
          },
          "showarrow": false,
          "text": "12525094",
          "x": 0.55,
          "xanchor": "left",
          "xref": "x",
          "y": 152,
          "yref": "y"
         },
         {
          "align": "left",
          "font": {
           "color": "#000000"
          },
          "showarrow": false,
          "text": "50.73",
          "x": 1.55,
          "xanchor": "left",
          "xref": "x",
          "y": 152,
          "yref": "y"
         },
         {
          "align": "left",
          "font": {
           "color": "#000000"
          },
          "showarrow": false,
          "text": "20.91",
          "x": 2.55,
          "xanchor": "left",
          "xref": "x",
          "y": 152,
          "yref": "y"
         },
         {
          "align": "left",
          "font": {
           "color": "#000000"
          },
          "showarrow": false,
          "text": "Mexico",
          "x": -0.45,
          "xanchor": "left",
          "xref": "x",
          "y": 153,
          "yref": "y"
         },
         {
          "align": "left",
          "font": {
           "color": "#000000"
          },
          "showarrow": false,
          "text": "131859731",
          "x": 0.55,
          "xanchor": "left",
          "xref": "x",
          "y": 153,
          "yref": "y"
         },
         {
          "align": "left",
          "font": {
           "color": "#000000"
          },
          "showarrow": false,
          "text": "40.43",
          "x": 1.55,
          "xanchor": "left",
          "xref": "x",
          "y": 153,
          "yref": "y"
         },
         {
          "align": "left",
          "font": {
           "color": "#000000"
          },
          "showarrow": false,
          "text": "16.94",
          "x": 2.55,
          "xanchor": "left",
          "xref": "x",
          "y": 153,
          "yref": "y"
         },
         {
          "align": "left",
          "font": {
           "color": "#000000"
          },
          "showarrow": false,
          "text": "Marshall Islands",
          "x": -0.45,
          "xanchor": "left",
          "xref": "x",
          "y": 154,
          "yref": "y"
         },
         {
          "align": "left",
          "font": {
           "color": "#000000"
          },
          "showarrow": false,
          "text": "82459",
          "x": 0.55,
          "xanchor": "left",
          "xref": "x",
          "y": 154,
          "yref": "y"
         },
         {
          "align": "left",
          "font": {
           "color": "#000000"
          },
          "showarrow": false,
          "text": "19.43",
          "x": 1.55,
          "xanchor": "left",
          "xref": "x",
          "y": 154,
          "yref": "y"
         },
         {
          "align": "left",
          "font": {
           "color": "#000000"
          },
          "showarrow": false,
          "text": "2.29",
          "x": 2.55,
          "xanchor": "left",
          "xref": "x",
          "y": 154,
          "yref": "y"
         },
         {
          "align": "left",
          "font": {
           "color": "#000000"
          },
          "showarrow": false,
          "text": "Middle income",
          "x": -0.45,
          "xanchor": "left",
          "xref": "x",
          "y": 155,
          "yref": "y"
         },
         {
          "align": "left",
          "font": {
           "color": "#000000"
          },
          "showarrow": false,
          "text": "4610820",
          "x": 0.55,
          "xanchor": "left",
          "xref": "x",
          "y": 155,
          "yref": "y"
         },
         {
          "align": "left",
          "font": {
           "color": "#000000"
          },
          "showarrow": false,
          "text": "11.46",
          "x": 1.55,
          "xanchor": "left",
          "xref": "x",
          "y": 155,
          "yref": "y"
         },
         {
          "align": "left",
          "font": {
           "color": "#000000"
          },
          "showarrow": false,
          "text": "9.4",
          "x": 2.55,
          "xanchor": "left",
          "xref": "x",
          "y": 155,
          "yref": "y"
         },
         {
          "align": "left",
          "font": {
           "color": "#000000"
          },
          "showarrow": false,
          "text": "Macedonia, FYR",
          "x": -0.45,
          "xanchor": "left",
          "xref": "x",
          "y": 156,
          "yref": "y"
         },
         {
          "align": "left",
          "font": {
           "color": "#000000"
          },
          "showarrow": false,
          "text": "3102229",
          "x": 0.55,
          "xanchor": "left",
          "xref": "x",
          "y": 156,
          "yref": "y"
         },
         {
          "align": "left",
          "font": {
           "color": "#000000"
          },
          "showarrow": false,
          "text": "36.24",
          "x": 1.55,
          "xanchor": "left",
          "xref": "x",
          "y": 156,
          "yref": "y"
         },
         {
          "align": "left",
          "font": {
           "color": "#000000"
          },
          "showarrow": false,
          "text": "3.81",
          "x": 2.55,
          "xanchor": "left",
          "xref": "x",
          "y": 156,
          "yref": "y"
         },
         {
          "align": "left",
          "font": {
           "color": "#000000"
          },
          "showarrow": false,
          "text": "Mali",
          "x": -0.45,
          "xanchor": "left",
          "xref": "x",
          "y": 157,
          "yref": "y"
         },
         {
          "align": "left",
          "font": {
           "color": "#000000"
          },
          "showarrow": false,
          "text": "165803560",
          "x": 0.55,
          "xanchor": "left",
          "xref": "x",
          "y": 157,
          "yref": "y"
         },
         {
          "align": "left",
          "font": {
           "color": "#000000"
          },
          "showarrow": false,
          "text": "29.74",
          "x": 1.55,
          "xanchor": "left",
          "xref": "x",
          "y": 157,
          "yref": "y"
         },
         {
          "align": "left",
          "font": {
           "color": "#000000"
          },
          "showarrow": false,
          "text": "8.23",
          "x": 2.55,
          "xanchor": "left",
          "xref": "x",
          "y": 157,
          "yref": "y"
         },
         {
          "align": "left",
          "font": {
           "color": "#000000"
          },
          "showarrow": false,
          "text": "Malta",
          "x": -0.45,
          "xanchor": "left",
          "xref": "x",
          "y": 158,
          "yref": "y"
         },
         {
          "align": "left",
          "font": {
           "color": "#000000"
          },
          "showarrow": false,
          "text": "20579",
          "x": 0.55,
          "xanchor": "left",
          "xref": "x",
          "y": 158,
          "yref": "y"
         },
         {
          "align": "left",
          "font": {
           "color": "#000000"
          },
          "showarrow": false,
          "text": "18.03",
          "x": 1.55,
          "xanchor": "left",
          "xref": "x",
          "y": 158,
          "yref": "y"
         },
         {
          "align": "left",
          "font": {
           "color": "#000000"
          },
          "showarrow": false,
          "text": "6.8",
          "x": 2.55,
          "xanchor": "left",
          "xref": "x",
          "y": 158,
          "yref": "y"
         },
         {
          "align": "left",
          "font": {
           "color": "#000000"
          },
          "showarrow": false,
          "text": "Myanmar",
          "x": -0.45,
          "xanchor": "left",
          "xref": "x",
          "y": 159,
          "yref": "y"
         },
         {
          "align": "left",
          "font": {
           "color": "#000000"
          },
          "showarrow": false,
          "text": "3191319",
          "x": 0.55,
          "xanchor": "left",
          "xref": "x",
          "y": 159,
          "yref": "y"
         },
         {
          "align": "left",
          "font": {
           "color": "#000000"
          },
          "showarrow": false,
          "text": "21.74",
          "x": 1.55,
          "xanchor": "left",
          "xref": "x",
          "y": 159,
          "yref": "y"
         },
         {
          "align": "left",
          "font": {
           "color": "#000000"
          },
          "showarrow": false,
          "text": "5.36",
          "x": 2.55,
          "xanchor": "left",
          "xref": "x",
          "y": 159,
          "yref": "y"
         },
         {
          "align": "left",
          "font": {
           "color": "#000000"
          },
          "showarrow": false,
          "text": "Middle East & North Africa (excluding high income)",
          "x": -0.45,
          "xanchor": "left",
          "xref": "x",
          "y": 160,
          "yref": "y"
         },
         {
          "align": "left",
          "font": {
           "color": "#000000"
          },
          "showarrow": false,
          "text": "5670544",
          "x": 0.55,
          "xanchor": "left",
          "xref": "x",
          "y": 160,
          "yref": "y"
         },
         {
          "align": "left",
          "font": {
           "color": "#000000"
          },
          "showarrow": false,
          "text": "29.36",
          "x": 1.55,
          "xanchor": "left",
          "xref": "x",
          "y": 160,
          "yref": "y"
         },
         {
          "align": "left",
          "font": {
           "color": "#000000"
          },
          "showarrow": false,
          "text": "7.25",
          "x": 2.55,
          "xanchor": "left",
          "xref": "x",
          "y": 160,
          "yref": "y"
         },
         {
          "align": "left",
          "font": {
           "color": "#000000"
          },
          "showarrow": false,
          "text": "Montenegro",
          "x": -0.45,
          "xanchor": "left",
          "xref": "x",
          "y": 161,
          "yref": "y"
         },
         {
          "align": "left",
          "font": {
           "color": "#000000"
          },
          "showarrow": false,
          "text": "6506464",
          "x": 0.55,
          "xanchor": "left",
          "xref": "x",
          "y": 161,
          "yref": "y"
         },
         {
          "align": "left",
          "font": {
           "color": "#000000"
          },
          "showarrow": false,
          "text": "29.1",
          "x": 1.55,
          "xanchor": "left",
          "xref": "x",
          "y": 161,
          "yref": "y"
         },
         {
          "align": "left",
          "font": {
           "color": "#000000"
          },
          "showarrow": false,
          "text": "4.49",
          "x": 2.55,
          "xanchor": "left",
          "xref": "x",
          "y": 161,
          "yref": "y"
         },
         {
          "align": "left",
          "font": {
           "color": "#000000"
          },
          "showarrow": false,
          "text": "Mongolia",
          "x": -0.45,
          "xanchor": "left",
          "xref": "x",
          "y": 162,
          "yref": "y"
         },
         {
          "align": "left",
          "font": {
           "color": "#000000"
          },
          "showarrow": false,
          "text": "28302603",
          "x": 0.55,
          "xanchor": "left",
          "xref": "x",
          "y": 162,
          "yref": "y"
         },
         {
          "align": "left",
          "font": {
           "color": "#000000"
          },
          "showarrow": false,
          "text": "20.48",
          "x": 1.55,
          "xanchor": "left",
          "xref": "x",
          "y": 162,
          "yref": "y"
         },
         {
          "align": "left",
          "font": {
           "color": "#000000"
          },
          "showarrow": false,
          "text": "6.23",
          "x": 2.55,
          "xanchor": "left",
          "xref": "x",
          "y": 162,
          "yref": "y"
         },
         {
          "align": "left",
          "font": {
           "color": "#000000"
          },
          "showarrow": false,
          "text": "Northern Mariana Islands",
          "x": -0.45,
          "xanchor": "left",
          "xref": "x",
          "y": 163,
          "yref": "y"
         },
         {
          "align": "left",
          "font": {
           "color": "#000000"
          },
          "showarrow": false,
          "text": "89468677",
          "x": 0.55,
          "xanchor": "left",
          "xref": "x",
          "y": 163,
          "yref": "y"
         },
         {
          "align": "left",
          "font": {
           "color": "#000000"
          },
          "showarrow": false,
          "text": "24.89",
          "x": 1.55,
          "xanchor": "left",
          "xref": "x",
          "y": 163,
          "yref": "y"
         },
         {
          "align": "left",
          "font": {
           "color": "#000000"
          },
          "showarrow": false,
          "text": "5.41",
          "x": 2.55,
          "xanchor": "left",
          "xref": "x",
          "y": 163,
          "yref": "y"
         },
         {
          "align": "left",
          "font": {
           "color": "#000000"
          },
          "showarrow": false,
          "text": "Mozambique",
          "x": -0.45,
          "xanchor": "left",
          "xref": "x",
          "y": 164,
          "yref": "y"
         },
         {
          "align": "left",
          "font": {
           "color": "#000000"
          },
          "showarrow": false,
          "text": "38536869",
          "x": 0.55,
          "xanchor": "left",
          "xref": "x",
          "y": 164,
          "yref": "y"
         },
         {
          "align": "left",
          "font": {
           "color": "#000000"
          },
          "showarrow": false,
          "text": "9.85",
          "x": 1.55,
          "xanchor": "left",
          "xref": "x",
          "y": 164,
          "yref": "y"
         },
         {
          "align": "left",
          "font": {
           "color": "#000000"
          },
          "showarrow": false,
          "text": "9.89",
          "x": 2.55,
          "xanchor": "left",
          "xref": "x",
          "y": 164,
          "yref": "y"
         },
         {
          "align": "left",
          "font": {
           "color": "#000000"
          },
          "showarrow": false,
          "text": "Mauritania",
          "x": -0.45,
          "xanchor": "left",
          "xref": "x",
          "y": 165,
          "yref": "y"
         },
         {
          "align": "left",
          "font": {
           "color": "#000000"
          },
          "showarrow": false,
          "text": "10605870",
          "x": 0.55,
          "xanchor": "left",
          "xref": "x",
          "y": 165,
          "yref": "y"
         },
         {
          "align": "left",
          "font": {
           "color": "#000000"
          },
          "showarrow": false,
          "text": "10.72",
          "x": 1.55,
          "xanchor": "left",
          "xref": "x",
          "y": 165,
          "yref": "y"
         },
         {
          "align": "left",
          "font": {
           "color": "#000000"
          },
          "showarrow": false,
          "text": "10.5",
          "x": 2.55,
          "xanchor": "left",
          "xref": "x",
          "y": 165,
          "yref": "y"
         },
         {
          "align": "left",
          "font": {
           "color": "#000000"
          },
          "showarrow": false,
          "text": "Mauritius",
          "x": -0.45,
          "xanchor": "left",
          "xref": "x",
          "y": 166,
          "yref": "y"
         },
         {
          "align": "left",
          "font": {
           "color": "#000000"
          },
          "showarrow": false,
          "text": "3927188",
          "x": 0.55,
          "xanchor": "left",
          "xref": "x",
          "y": 166,
          "yref": "y"
         },
         {
          "align": "left",
          "font": {
           "color": "#000000"
          },
          "showarrow": false,
          "text": "12.77",
          "x": 1.55,
          "xanchor": "left",
          "xref": "x",
          "y": 166,
          "yref": "y"
         },
         {
          "align": "left",
          "font": {
           "color": "#000000"
          },
          "showarrow": false,
          "text": "7.65",
          "x": 2.55,
          "xanchor": "left",
          "xref": "x",
          "y": 166,
          "yref": "y"
         },
         {
          "align": "left",
          "font": {
           "color": "#000000"
          },
          "showarrow": false,
          "text": "Malawi",
          "x": -0.45,
          "xanchor": "left",
          "xref": "x",
          "y": 167,
          "yref": "y"
         },
         {
          "align": "left",
          "font": {
           "color": "#000000"
          },
          "showarrow": false,
          "text": "885359",
          "x": 0.55,
          "xanchor": "left",
          "xref": "x",
          "y": 167,
          "yref": "y"
         },
         {
          "align": "left",
          "font": {
           "color": "#000000"
          },
          "showarrow": false,
          "text": "15.56",
          "x": 1.55,
          "xanchor": "left",
          "xref": "x",
          "y": 167,
          "yref": "y"
         },
         {
          "align": "left",
          "font": {
           "color": "#000000"
          },
          "showarrow": false,
          "text": "4.72",
          "x": 2.55,
          "xanchor": "left",
          "xref": "x",
          "y": 167,
          "yref": "y"
         },
         {
          "align": "left",
          "font": {
           "color": "#000000"
          },
          "showarrow": false,
          "text": "Malaysia",
          "x": -0.45,
          "xanchor": "left",
          "xref": "x",
          "y": 168,
          "yref": "y"
         },
         {
          "align": "left",
          "font": {
           "color": "#000000"
          },
          "showarrow": false,
          "text": "787584",
          "x": 0.55,
          "xanchor": "left",
          "xref": "x",
          "y": 168,
          "yref": "y"
         },
         {
          "align": "left",
          "font": {
           "color": "#000000"
          },
          "showarrow": false,
          "text": "18.9",
          "x": 1.55,
          "xanchor": "left",
          "xref": "x",
          "y": 168,
          "yref": "y"
         },
         {
          "align": "left",
          "font": {
           "color": "#000000"
          },
          "showarrow": false,
          "text": "5.49",
          "x": 2.55,
          "xanchor": "left",
          "xref": "x",
          "y": 168,
          "yref": "y"
         },
         {
          "align": "left",
          "font": {
           "color": "#000000"
          },
          "showarrow": false,
          "text": "North America",
          "x": -0.45,
          "xanchor": "left",
          "xref": "x",
          "y": 169,
          "yref": "y"
         },
         {
          "align": "left",
          "font": {
           "color": "#000000"
          },
          "showarrow": false,
          "text": "22303552",
          "x": 0.55,
          "xanchor": "left",
          "xref": "x",
          "y": 169,
          "yref": "y"
         },
         {
          "align": "left",
          "font": {
           "color": "#000000"
          },
          "showarrow": false,
          "text": "10.7",
          "x": 1.55,
          "xanchor": "left",
          "xref": "x",
          "y": 169,
          "yref": "y"
         },
         {
          "align": "left",
          "font": {
           "color": "#000000"
          },
          "showarrow": false,
          "text": "11.77",
          "x": 2.55,
          "xanchor": "left",
          "xref": "x",
          "y": 169,
          "yref": "y"
         },
         {
          "align": "left",
          "font": {
           "color": "#000000"
          },
          "showarrow": false,
          "text": "Namibia",
          "x": -0.45,
          "xanchor": "left",
          "xref": "x",
          "y": 170,
          "yref": "y"
         },
         {
          "align": "left",
          "font": {
           "color": "#000000"
          },
          "showarrow": false,
          "text": "142893540",
          "x": 0.55,
          "xanchor": "left",
          "xref": "x",
          "y": 170,
          "yref": "y"
         },
         {
          "align": "left",
          "font": {
           "color": "#000000"
          },
          "showarrow": false,
          "text": "9.95",
          "x": 1.55,
          "xanchor": "left",
          "xref": "x",
          "y": 170,
          "yref": "y"
         },
         {
          "align": "left",
          "font": {
           "color": "#000000"
          },
          "showarrow": false,
          "text": "14.65",
          "x": 2.55,
          "xanchor": "left",
          "xref": "x",
          "y": 170,
          "yref": "y"
         },
         {
          "align": "left",
          "font": {
           "color": "#000000"
          },
          "showarrow": false,
          "text": "New Caledonia",
          "x": -0.45,
          "xanchor": "left",
          "xref": "x",
          "y": 171,
          "yref": "y"
         },
         {
          "align": "left",
          "font": {
           "color": "#000000"
          },
          "showarrow": false,
          "text": "8648248",
          "x": 0.55,
          "xanchor": "left",
          "xref": "x",
          "y": 171,
          "yref": "y"
         },
         {
          "align": "left",
          "font": {
           "color": "#000000"
          },
          "showarrow": false,
          "text": "40.37",
          "x": 1.55,
          "xanchor": "left",
          "xref": "x",
          "y": 171,
          "yref": "y"
         },
         {
          "align": "left",
          "font": {
           "color": "#000000"
          },
          "showarrow": false,
          "text": "16.09",
          "x": 2.55,
          "xanchor": "left",
          "xref": "x",
          "y": 171,
          "yref": "y"
         },
         {
          "align": "left",
          "font": {
           "color": "#000000"
          },
          "showarrow": false,
          "text": "Niger",
          "x": -0.45,
          "xanchor": "left",
          "xref": "x",
          "y": 172,
          "yref": "y"
         },
         {
          "align": "left",
          "font": {
           "color": "#000000"
          },
          "showarrow": false,
          "text": "7502",
          "x": 0.55,
          "xanchor": "left",
          "xref": "x",
          "y": 172,
          "yref": "y"
         },
         {
          "align": "left",
          "font": {
           "color": "#000000"
          },
          "showarrow": false,
          "text": "12.13",
          "x": 1.55,
          "xanchor": "left",
          "xref": "x",
          "y": 172,
          "yref": "y"
         },
         {
          "align": "left",
          "font": {
           "color": "#000000"
          },
          "showarrow": false,
          "text": "6.53",
          "x": 2.55,
          "xanchor": "left",
          "xref": "x",
          "y": 172,
          "yref": "y"
         },
         {
          "align": "left",
          "font": {
           "color": "#000000"
          },
          "showarrow": false,
          "text": "Nigeria",
          "x": -0.45,
          "xanchor": "left",
          "xref": "x",
          "y": 173,
          "yref": "y"
         },
         {
          "align": "left",
          "font": {
           "color": "#000000"
          },
          "showarrow": false,
          "text": "39129",
          "x": 0.55,
          "xanchor": "left",
          "xref": "x",
          "y": 173,
          "yref": "y"
         },
         {
          "align": "left",
          "font": {
           "color": "#000000"
          },
          "showarrow": false,
          "text": "18.02",
          "x": 1.55,
          "xanchor": "left",
          "xref": "x",
          "y": 173,
          "yref": "y"
         },
         {
          "align": "left",
          "font": {
           "color": "#000000"
          },
          "showarrow": false,
          "text": "8.33",
          "x": 2.55,
          "xanchor": "left",
          "xref": "x",
          "y": 173,
          "yref": "y"
         },
         {
          "align": "left",
          "font": {
           "color": "#000000"
          },
          "showarrow": false,
          "text": "Nicaragua",
          "x": -0.45,
          "xanchor": "left",
          "xref": "x",
          "y": 174,
          "yref": "y"
         },
         {
          "align": "left",
          "font": {
           "color": "#000000"
          },
          "showarrow": false,
          "text": "168458",
          "x": 0.55,
          "xanchor": "left",
          "xref": "x",
          "y": 174,
          "yref": "y"
         },
         {
          "align": "left",
          "font": {
           "color": "#000000"
          },
          "showarrow": false,
          "text": "19.68",
          "x": 1.55,
          "xanchor": "left",
          "xref": "x",
          "y": 174,
          "yref": "y"
         },
         {
          "align": "left",
          "font": {
           "color": "#000000"
          },
          "showarrow": false,
          "text": "5.08",
          "x": 2.55,
          "xanchor": "left",
          "xref": "x",
          "y": 174,
          "yref": "y"
         },
         {
          "align": "left",
          "font": {
           "color": "#000000"
          },
          "showarrow": false,
          "text": "Netherlands",
          "x": -0.45,
          "xanchor": "left",
          "xref": "x",
          "y": 175,
          "yref": "y"
         },
         {
          "align": "left",
          "font": {
           "color": "#000000"
          },
          "showarrow": false,
          "text": "7026",
          "x": 0.55,
          "xanchor": "left",
          "xref": "x",
          "y": 175,
          "yref": "y"
         },
         {
          "align": "left",
          "font": {
           "color": "#000000"
          },
          "showarrow": false,
          "text": "13.52",
          "x": 1.55,
          "xanchor": "left",
          "xref": "x",
          "y": 175,
          "yref": "y"
         },
         {
          "align": "left",
          "font": {
           "color": "#000000"
          },
          "showarrow": false,
          "text": "6.83",
          "x": 2.55,
          "xanchor": "left",
          "xref": "x",
          "y": 175,
          "yref": "y"
         },
         {
          "align": "left",
          "font": {
           "color": "#000000"
          },
          "showarrow": false,
          "text": "Norway",
          "x": -0.45,
          "xanchor": "left",
          "xref": "x",
          "y": 176,
          "yref": "y"
         },
         {
          "align": "left",
          "font": {
           "color": "#000000"
          },
          "showarrow": false,
          "text": "117848",
          "x": 0.55,
          "xanchor": "left",
          "xref": "x",
          "y": 176,
          "yref": "y"
         },
         {
          "align": "left",
          "font": {
           "color": "#000000"
          },
          "showarrow": false,
          "text": "16.18",
          "x": 1.55,
          "xanchor": "left",
          "xref": "x",
          "y": 176,
          "yref": "y"
         },
         {
          "align": "left",
          "font": {
           "color": "#000000"
          },
          "showarrow": false,
          "text": "5.98",
          "x": 2.55,
          "xanchor": "left",
          "xref": "x",
          "y": 176,
          "yref": "y"
         },
         {
          "align": "left",
          "font": {
           "color": "#000000"
          },
          "showarrow": false,
          "text": "Nepal",
          "x": -0.45,
          "xanchor": "left",
          "xref": "x",
          "y": 177,
          "yref": "y"
         },
         {
          "align": "left",
          "font": {
           "color": "#000000"
          },
          "showarrow": false,
          "text": "176908",
          "x": 0.55,
          "xanchor": "left",
          "xref": "x",
          "y": 177,
          "yref": "y"
         },
         {
          "align": "left",
          "font": {
           "color": "#000000"
          },
          "showarrow": false,
          "text": "16.43",
          "x": 1.55,
          "xanchor": "left",
          "xref": "x",
          "y": 177,
          "yref": "y"
         },
         {
          "align": "left",
          "font": {
           "color": "#000000"
          },
          "showarrow": false,
          "text": "6.62",
          "x": 2.55,
          "xanchor": "left",
          "xref": "x",
          "y": 177,
          "yref": "y"
         },
         {
          "align": "left",
          "font": {
           "color": "#000000"
          },
          "showarrow": false,
          "text": "Nauru",
          "x": -0.45,
          "xanchor": "left",
          "xref": "x",
          "y": 178,
          "yref": "y"
         },
         {
          "align": "left",
          "font": {
           "color": "#000000"
          },
          "showarrow": false,
          "text": "29251",
          "x": 0.55,
          "xanchor": "left",
          "xref": "x",
          "y": 178,
          "yref": "y"
         },
         {
          "align": "left",
          "font": {
           "color": "#000000"
          },
          "showarrow": false,
          "text": "10.02",
          "x": 1.55,
          "xanchor": "left",
          "xref": "x",
          "y": 178,
          "yref": "y"
         },
         {
          "align": "left",
          "font": {
           "color": "#000000"
          },
          "showarrow": false,
          "text": "8.17",
          "x": 2.55,
          "xanchor": "left",
          "xref": "x",
          "y": 178,
          "yref": "y"
         },
         {
          "align": "left",
          "font": {
           "color": "#000000"
          },
          "showarrow": false,
          "text": "New Zealand",
          "x": -0.45,
          "xanchor": "left",
          "xref": "x",
          "y": 179,
          "yref": "y"
         },
         {
          "align": "left",
          "font": {
           "color": "#000000"
          },
          "showarrow": false,
          "text": "193413",
          "x": 0.55,
          "xanchor": "left",
          "xref": "x",
          "y": 179,
          "yref": "y"
         },
         {
          "align": "left",
          "font": {
           "color": "#000000"
          },
          "showarrow": false,
          "text": "40.25",
          "x": 1.55,
          "xanchor": "left",
          "xref": "x",
          "y": 179,
          "yref": "y"
         },
         {
          "align": "left",
          "font": {
           "color": "#000000"
          },
          "showarrow": false,
          "text": "6.47",
          "x": 2.55,
          "xanchor": "left",
          "xref": "x",
          "y": 179,
          "yref": "y"
         },
         {
          "align": "left",
          "font": {
           "color": "#000000"
          },
          "showarrow": false,
          "text": "OECD members",
          "x": -0.45,
          "xanchor": "left",
          "xref": "x",
          "y": 180,
          "yref": "y"
         },
         {
          "align": "left",
          "font": {
           "color": "#000000"
          },
          "showarrow": false,
          "text": "27019731",
          "x": 0.55,
          "xanchor": "left",
          "xref": "x",
          "y": 180,
          "yref": "y"
         },
         {
          "align": "left",
          "font": {
           "color": "#000000"
          },
          "showarrow": false,
          "text": "29.34",
          "x": 1.55,
          "xanchor": "left",
          "xref": "x",
          "y": 180,
          "yref": "y"
         },
         {
          "align": "left",
          "font": {
           "color": "#000000"
          },
          "showarrow": false,
          "text": "2.58",
          "x": 2.55,
          "xanchor": "left",
          "xref": "x",
          "y": 180,
          "yref": "y"
         },
         {
          "align": "left",
          "font": {
           "color": "#000000"
          },
          "showarrow": false,
          "text": "Oman",
          "x": -0.45,
          "xanchor": "left",
          "xref": "x",
          "y": 181,
          "yref": "y"
         },
         {
          "align": "left",
          "font": {
           "color": "#000000"
          },
          "showarrow": false,
          "text": "11987121",
          "x": 0.55,
          "xanchor": "left",
          "xref": "x",
          "y": 181,
          "yref": "y"
         },
         {
          "align": "left",
          "font": {
           "color": "#000000"
          },
          "showarrow": false,
          "text": "32.78",
          "x": 1.55,
          "xanchor": "left",
          "xref": "x",
          "y": 181,
          "yref": "y"
         },
         {
          "align": "left",
          "font": {
           "color": "#000000"
          },
          "showarrow": false,
          "text": "9.42",
          "x": 2.55,
          "xanchor": "left",
          "xref": "x",
          "y": 181,
          "yref": "y"
         },
         {
          "align": "left",
          "font": {
           "color": "#000000"
          },
          "showarrow": false,
          "text": "Other small states",
          "x": -0.45,
          "xanchor": "left",
          "xref": "x",
          "y": 182,
          "yref": "y"
         },
         {
          "align": "left",
          "font": {
           "color": "#000000"
          },
          "showarrow": false,
          "text": "9396411",
          "x": 0.55,
          "xanchor": "left",
          "xref": "x",
          "y": 182,
          "yref": "y"
         },
         {
          "align": "left",
          "font": {
           "color": "#000000"
          },
          "showarrow": false,
          "text": "nan",
          "x": 1.55,
          "xanchor": "left",
          "xref": "x",
          "y": 182,
          "yref": "y"
         },
         {
          "align": "left",
          "font": {
           "color": "#000000"
          },
          "showarrow": false,
          "text": "nan",
          "x": 2.55,
          "xanchor": "left",
          "xref": "x",
          "y": 182,
          "yref": "y"
         },
         {
          "align": "left",
          "font": {
           "color": "#000000"
          },
          "showarrow": false,
          "text": "Pakistan",
          "x": -0.45,
          "xanchor": "left",
          "xref": "x",
          "y": 183,
          "yref": "y"
         },
         {
          "align": "left",
          "font": {
           "color": "#000000"
          },
          "showarrow": false,
          "text": "81541",
          "x": 0.55,
          "xanchor": "left",
          "xref": "x",
          "y": 183,
          "yref": "y"
         },
         {
          "align": "left",
          "font": {
           "color": "#000000"
          },
          "showarrow": false,
          "text": "16.03",
          "x": 1.55,
          "xanchor": "left",
          "xref": "x",
          "y": 183,
          "yref": "y"
         },
         {
          "align": "left",
          "font": {
           "color": "#000000"
          },
          "showarrow": false,
          "text": "6.29",
          "x": 2.55,
          "xanchor": "left",
          "xref": "x",
          "y": 183,
          "yref": "y"
         },
         {
          "align": "left",
          "font": {
           "color": "#000000"
          },
          "showarrow": false,
          "text": "Panama",
          "x": -0.45,
          "xanchor": "left",
          "xref": "x",
          "y": 184,
          "yref": "y"
         },
         {
          "align": "left",
          "font": {
           "color": "#000000"
          },
          "showarrow": false,
          "text": "6005250",
          "x": 0.55,
          "xanchor": "left",
          "xref": "x",
          "y": 184,
          "yref": "y"
         },
         {
          "align": "left",
          "font": {
           "color": "#000000"
          },
          "showarrow": false,
          "text": "45.76",
          "x": 1.55,
          "xanchor": "left",
          "xref": "x",
          "y": 184,
          "yref": "y"
         },
         {
          "align": "left",
          "font": {
           "color": "#000000"
          },
          "showarrow": false,
          "text": "23.03",
          "x": 2.55,
          "xanchor": "left",
          "xref": "x",
          "y": 184,
          "yref": "y"
         },
         {
          "align": "left",
          "font": {
           "color": "#000000"
          },
          "showarrow": false,
          "text": "Peru",
          "x": -0.45,
          "xanchor": "left",
          "xref": "x",
          "y": 185,
          "yref": "y"
         },
         {
          "align": "left",
          "font": {
           "color": "#000000"
          },
          "showarrow": false,
          "text": "4492150",
          "x": 0.55,
          "xanchor": "left",
          "xref": "x",
          "y": 185,
          "yref": "y"
         },
         {
          "align": "left",
          "font": {
           "color": "#000000"
          },
          "showarrow": false,
          "text": "9.34",
          "x": 1.55,
          "xanchor": "left",
          "xref": "x",
          "y": 185,
          "yref": "y"
         },
         {
          "align": "left",
          "font": {
           "color": "#000000"
          },
          "showarrow": false,
          "text": "4.28",
          "x": 2.55,
          "xanchor": "left",
          "xref": "x",
          "y": 185,
          "yref": "y"
         },
         {
          "align": "left",
          "font": {
           "color": "#000000"
          },
          "showarrow": false,
          "text": "Philippines",
          "x": -0.45,
          "xanchor": "left",
          "xref": "x",
          "y": 186,
          "yref": "y"
         },
         {
          "align": "left",
          "font": {
           "color": "#000000"
          },
          "showarrow": false,
          "text": "5439448",
          "x": 0.55,
          "xanchor": "left",
          "xref": "x",
          "y": 186,
          "yref": "y"
         },
         {
          "align": "left",
          "font": {
           "color": "#000000"
          },
          "showarrow": false,
          "text": "10.65",
          "x": 1.55,
          "xanchor": "left",
          "xref": "x",
          "y": 186,
          "yref": "y"
         },
         {
          "align": "left",
          "font": {
           "color": "#000000"
          },
          "showarrow": false,
          "text": "9.45",
          "x": 2.55,
          "xanchor": "left",
          "xref": "x",
          "y": 186,
          "yref": "y"
         },
         {
          "align": "left",
          "font": {
           "color": "#000000"
          },
          "showarrow": false,
          "text": "Palau",
          "x": -0.45,
          "xanchor": "left",
          "xref": "x",
          "y": 187,
          "yref": "y"
         },
         {
          "align": "left",
          "font": {
           "color": "#000000"
          },
          "showarrow": false,
          "text": "2010347",
          "x": 0.55,
          "xanchor": "left",
          "xref": "x",
          "y": 187,
          "yref": "y"
         },
         {
          "align": "left",
          "font": {
           "color": "#000000"
          },
          "showarrow": false,
          "text": "8.98",
          "x": 1.55,
          "xanchor": "left",
          "xref": "x",
          "y": 187,
          "yref": "y"
         },
         {
          "align": "left",
          "font": {
           "color": "#000000"
          },
          "showarrow": false,
          "text": "10.31",
          "x": 2.55,
          "xanchor": "left",
          "xref": "x",
          "y": 187,
          "yref": "y"
         },
         {
          "align": "left",
          "font": {
           "color": "#000000"
          },
          "showarrow": false,
          "text": "Papua New Guinea",
          "x": -0.45,
          "xanchor": "left",
          "xref": "x",
          "y": 188,
          "yref": "y"
         },
         {
          "align": "left",
          "font": {
           "color": "#000000"
          },
          "showarrow": false,
          "text": "552438",
          "x": 0.55,
          "xanchor": "left",
          "xref": "x",
          "y": 188,
          "yref": "y"
         },
         {
          "align": "left",
          "font": {
           "color": "#000000"
          },
          "showarrow": false,
          "text": "30.01",
          "x": 1.55,
          "xanchor": "left",
          "xref": "x",
          "y": 188,
          "yref": "y"
         },
         {
          "align": "left",
          "font": {
           "color": "#000000"
          },
          "showarrow": false,
          "text": "3.92",
          "x": 2.55,
          "xanchor": "left",
          "xref": "x",
          "y": 188,
          "yref": "y"
         },
         {
          "align": "left",
          "font": {
           "color": "#000000"
          },
          "showarrow": false,
          "text": "Poland",
          "x": -0.45,
          "xanchor": "left",
          "xref": "x",
          "y": 189,
          "yref": "y"
         },
         {
          "align": "left",
          "font": {
           "color": "#000000"
          },
          "showarrow": false,
          "text": "8863338",
          "x": 0.55,
          "xanchor": "left",
          "xref": "x",
          "y": 189,
          "yref": "y"
         },
         {
          "align": "left",
          "font": {
           "color": "#000000"
          },
          "showarrow": false,
          "text": "45.13",
          "x": 1.55,
          "xanchor": "left",
          "xref": "x",
          "y": 189,
          "yref": "y"
         },
         {
          "align": "left",
          "font": {
           "color": "#000000"
          },
          "showarrow": false,
          "text": "16.63",
          "x": 2.55,
          "xanchor": "left",
          "xref": "x",
          "y": 189,
          "yref": "y"
         },
         {
          "align": "left",
          "font": {
           "color": "#000000"
          },
          "showarrow": false,
          "text": "Pre-demographic dividend",
          "x": -0.45,
          "xanchor": "left",
          "xref": "x",
          "y": 190,
          "yref": "y"
         },
         {
          "align": "left",
          "font": {
           "color": "#000000"
          },
          "showarrow": false,
          "text": "44187637",
          "x": 0.55,
          "xanchor": "left",
          "xref": "x",
          "y": 190,
          "yref": "y"
         },
         {
          "align": "left",
          "font": {
           "color": "#000000"
          },
          "showarrow": false,
          "text": "18.2",
          "x": 1.55,
          "xanchor": "left",
          "xref": "x",
          "y": 190,
          "yref": "y"
         },
         {
          "align": "left",
          "font": {
           "color": "#000000"
          },
          "showarrow": false,
          "text": "22.0",
          "x": 2.55,
          "xanchor": "left",
          "xref": "x",
          "y": 190,
          "yref": "y"
         },
         {
          "align": "left",
          "font": {
           "color": "#000000"
          },
          "showarrow": false,
          "text": "Puerto Rico",
          "x": -0.45,
          "xanchor": "left",
          "xref": "x",
          "y": 191,
          "yref": "y"
         },
         {
          "align": "left",
          "font": {
           "color": "#000000"
          },
          "showarrow": false,
          "text": "40397842",
          "x": 0.55,
          "xanchor": "left",
          "xref": "x",
          "y": 191,
          "yref": "y"
         },
         {
          "align": "left",
          "font": {
           "color": "#000000"
          },
          "showarrow": false,
          "text": "10.06",
          "x": 1.55,
          "xanchor": "left",
          "xref": "x",
          "y": 191,
          "yref": "y"
         },
         {
          "align": "left",
          "font": {
           "color": "#000000"
          },
          "showarrow": false,
          "text": "9.72",
          "x": 2.55,
          "xanchor": "left",
          "xref": "x",
          "y": 191,
          "yref": "y"
         },
         {
          "align": "left",
          "font": {
           "color": "#000000"
          },
          "showarrow": false,
          "text": "Korea, Dem. People?s Rep.",
          "x": -0.45,
          "xanchor": "left",
          "xref": "x",
          "y": 192,
          "yref": "y"
         },
         {
          "align": "left",
          "font": {
           "color": "#000000"
          },
          "showarrow": false,
          "text": "20222240",
          "x": 0.55,
          "xanchor": "left",
          "xref": "x",
          "y": 192,
          "yref": "y"
         },
         {
          "align": "left",
          "font": {
           "color": "#000000"
          },
          "showarrow": false,
          "text": "15.51",
          "x": 1.55,
          "xanchor": "left",
          "xref": "x",
          "y": 192,
          "yref": "y"
         },
         {
          "align": "left",
          "font": {
           "color": "#000000"
          },
          "showarrow": false,
          "text": "6.52",
          "x": 2.55,
          "xanchor": "left",
          "xref": "x",
          "y": 192,
          "yref": "y"
         },
         {
          "align": "left",
          "font": {
           "color": "#000000"
          },
          "showarrow": false,
          "text": "Portugal",
          "x": -0.45,
          "xanchor": "left",
          "xref": "x",
          "y": 193,
          "yref": "y"
         },
         {
          "align": "left",
          "font": {
           "color": "#000000"
          },
          "showarrow": false,
          "text": "41236378",
          "x": 0.55,
          "xanchor": "left",
          "xref": "x",
          "y": 193,
          "yref": "y"
         },
         {
          "align": "left",
          "font": {
           "color": "#000000"
          },
          "showarrow": false,
          "text": "34.53",
          "x": 1.55,
          "xanchor": "left",
          "xref": "x",
          "y": 193,
          "yref": "y"
         },
         {
          "align": "left",
          "font": {
           "color": "#000000"
          },
          "showarrow": false,
          "text": "8.97",
          "x": 2.55,
          "xanchor": "left",
          "xref": "x",
          "y": 193,
          "yref": "y"
         },
         {
          "align": "left",
          "font": {
           "color": "#000000"
          },
          "showarrow": false,
          "text": "Paraguay",
          "x": -0.45,
          "xanchor": "left",
          "xref": "x",
          "y": 194,
          "yref": "y"
         },
         {
          "align": "left",
          "font": {
           "color": "#000000"
          },
          "showarrow": false,
          "text": "439117",
          "x": 0.55,
          "xanchor": "left",
          "xref": "x",
          "y": 194,
          "yref": "y"
         },
         {
          "align": "left",
          "font": {
           "color": "#000000"
          },
          "showarrow": false,
          "text": "18.02",
          "x": 1.55,
          "xanchor": "left",
          "xref": "x",
          "y": 194,
          "yref": "y"
         },
         {
          "align": "left",
          "font": {
           "color": "#000000"
          },
          "showarrow": false,
          "text": "7.27",
          "x": 2.55,
          "xanchor": "left",
          "xref": "x",
          "y": 194,
          "yref": "y"
         },
         {
          "align": "left",
          "font": {
           "color": "#000000"
          },
          "showarrow": false,
          "text": "West Bank and Gaza",
          "x": -0.45,
          "xanchor": "left",
          "xref": "x",
          "y": 195,
          "yref": "y"
         },
         {
          "align": "left",
          "font": {
           "color": "#000000"
          },
          "showarrow": false,
          "text": "1136334",
          "x": 0.55,
          "xanchor": "left",
          "xref": "x",
          "y": 195,
          "yref": "y"
         },
         {
          "align": "left",
          "font": {
           "color": "#000000"
          },
          "showarrow": false,
          "text": "27.41",
          "x": 1.55,
          "xanchor": "left",
          "xref": "x",
          "y": 195,
          "yref": "y"
         },
         {
          "align": "left",
          "font": {
           "color": "#000000"
          },
          "showarrow": false,
          "text": "29.74",
          "x": 2.55,
          "xanchor": "left",
          "xref": "x",
          "y": 195,
          "yref": "y"
         },
         {
          "align": "left",
          "font": {
           "color": "#000000"
          },
          "showarrow": false,
          "text": "Pacific island small states",
          "x": -0.45,
          "xanchor": "left",
          "xref": "x",
          "y": 196,
          "yref": "y"
         },
         {
          "align": "left",
          "font": {
           "color": "#000000"
          },
          "showarrow": false,
          "text": "9016596",
          "x": 0.55,
          "xanchor": "left",
          "xref": "x",
          "y": 196,
          "yref": "y"
         },
         {
          "align": "left",
          "font": {
           "color": "#000000"
          },
          "showarrow": false,
          "text": "10.27",
          "x": 1.55,
          "xanchor": "left",
          "xref": "x",
          "y": 196,
          "yref": "y"
         },
         {
          "align": "left",
          "font": {
           "color": "#000000"
          },
          "showarrow": false,
          "text": "10.31",
          "x": 2.55,
          "xanchor": "left",
          "xref": "x",
          "y": 196,
          "yref": "y"
         },
         {
          "align": "left",
          "font": {
           "color": "#000000"
          },
          "showarrow": false,
          "text": "Post-demographic dividend",
          "x": -0.45,
          "xanchor": "left",
          "xref": "x",
          "y": 197,
          "yref": "y"
         },
         {
          "align": "left",
          "font": {
           "color": "#000000"
          },
          "showarrow": false,
          "text": "7523934",
          "x": 0.55,
          "xanchor": "left",
          "xref": "x",
          "y": 197,
          "yref": "y"
         },
         {
          "align": "left",
          "font": {
           "color": "#000000"
          },
          "showarrow": false,
          "text": "9.71",
          "x": 1.55,
          "xanchor": "left",
          "xref": "x",
          "y": 197,
          "yref": "y"
         },
         {
          "align": "left",
          "font": {
           "color": "#000000"
          },
          "showarrow": false,
          "text": "8.49",
          "x": 2.55,
          "xanchor": "left",
          "xref": "x",
          "y": 197,
          "yref": "y"
         },
         {
          "align": "left",
          "font": {
           "color": "#000000"
          },
          "showarrow": false,
          "text": "French Polynesia",
          "x": -0.45,
          "xanchor": "left",
          "xref": "x",
          "y": 198,
          "yref": "y"
         },
         {
          "align": "left",
          "font": {
           "color": "#000000"
          },
          "showarrow": false,
          "text": "18881361",
          "x": 0.55,
          "xanchor": "left",
          "xref": "x",
          "y": 198,
          "yref": "y"
         },
         {
          "align": "left",
          "font": {
           "color": "#000000"
          },
          "showarrow": false,
          "text": "27.76",
          "x": 1.55,
          "xanchor": "left",
          "xref": "x",
          "y": 198,
          "yref": "y"
         },
         {
          "align": "left",
          "font": {
           "color": "#000000"
          },
          "showarrow": false,
          "text": "4.81",
          "x": 2.55,
          "xanchor": "left",
          "xref": "x",
          "y": 198,
          "yref": "y"
         },
         {
          "align": "left",
          "font": {
           "color": "#000000"
          },
          "showarrow": false,
          "text": "Qatar",
          "x": -0.45,
          "xanchor": "left",
          "xref": "x",
          "y": 199,
          "yref": "y"
         },
         {
          "align": "left",
          "font": {
           "color": "#000000"
          },
          "showarrow": false,
          "text": "23036087",
          "x": 0.55,
          "xanchor": "left",
          "xref": "x",
          "y": 199,
          "yref": "y"
         },
         {
          "align": "left",
          "font": {
           "color": "#000000"
          },
          "showarrow": false,
          "text": "12.56",
          "x": 1.55,
          "xanchor": "left",
          "xref": "x",
          "y": 199,
          "yref": "y"
         },
         {
          "align": "left",
          "font": {
           "color": "#000000"
          },
          "showarrow": false,
          "text": "6.48",
          "x": 2.55,
          "xanchor": "left",
          "xref": "x",
          "y": 199,
          "yref": "y"
         },
         {
          "align": "left",
          "font": {
           "color": "#000000"
          },
          "showarrow": false,
          "text": "Romania",
          "x": -0.45,
          "xanchor": "left",
          "xref": "x",
          "y": 200,
          "yref": "y"
         },
         {
          "align": "left",
          "font": {
           "color": "#000000"
          },
          "showarrow": false,
          "text": "7320815",
          "x": 0.55,
          "xanchor": "left",
          "xref": "x",
          "y": 200,
          "yref": "y"
         },
         {
          "align": "left",
          "font": {
           "color": "#000000"
          },
          "showarrow": false,
          "text": "32.65",
          "x": 1.55,
          "xanchor": "left",
          "xref": "x",
          "y": 200,
          "yref": "y"
         },
         {
          "align": "left",
          "font": {
           "color": "#000000"
          },
          "showarrow": false,
          "text": "8.25",
          "x": 2.55,
          "xanchor": "left",
          "xref": "x",
          "y": 200,
          "yref": "y"
         },
         {
          "align": "left",
          "font": {
           "color": "#000000"
          },
          "showarrow": false,
          "text": "Russian Federation",
          "x": -0.45,
          "xanchor": "left",
          "xref": "x",
          "y": 201,
          "yref": "y"
         },
         {
          "align": "left",
          "font": {
           "color": "#000000"
          },
          "showarrow": false,
          "text": "37445392",
          "x": 0.55,
          "xanchor": "left",
          "xref": "x",
          "y": 201,
          "yref": "y"
         },
         {
          "align": "left",
          "font": {
           "color": "#000000"
          },
          "showarrow": false,
          "text": "37.71",
          "x": 1.55,
          "xanchor": "left",
          "xref": "x",
          "y": 201,
          "yref": "y"
         },
         {
          "align": "left",
          "font": {
           "color": "#000000"
          },
          "showarrow": false,
          "text": "16.39",
          "x": 2.55,
          "xanchor": "left",
          "xref": "x",
          "y": 201,
          "yref": "y"
         },
         {
          "align": "left",
          "font": {
           "color": "#000000"
          },
          "showarrow": false,
          "text": "Rwanda",
          "x": -0.45,
          "xanchor": "left",
          "xref": "x",
          "y": 202,
          "yref": "y"
         },
         {
          "align": "left",
          "font": {
           "color": "#000000"
          },
          "showarrow": false,
          "text": "64631595",
          "x": 0.55,
          "xanchor": "left",
          "xref": "x",
          "y": 202,
          "yref": "y"
         },
         {
          "align": "left",
          "font": {
           "color": "#000000"
          },
          "showarrow": false,
          "text": "13.87",
          "x": 1.55,
          "xanchor": "left",
          "xref": "x",
          "y": 202,
          "yref": "y"
         },
         {
          "align": "left",
          "font": {
           "color": "#000000"
          },
          "showarrow": false,
          "text": "7.04",
          "x": 2.55,
          "xanchor": "left",
          "xref": "x",
          "y": 202,
          "yref": "y"
         },
         {
          "align": "left",
          "font": {
           "color": "#000000"
          },
          "showarrow": false,
          "text": "South Asia",
          "x": -0.45,
          "xanchor": "left",
          "xref": "x",
          "y": 203,
          "yref": "y"
         },
         {
          "align": "left",
          "font": {
           "color": "#000000"
          },
          "showarrow": false,
          "text": "5548702",
          "x": 0.55,
          "xanchor": "left",
          "xref": "x",
          "y": 203,
          "yref": "y"
         },
         {
          "align": "left",
          "font": {
           "color": "#000000"
          },
          "showarrow": false,
          "text": "37.01",
          "x": 1.55,
          "xanchor": "left",
          "xref": "x",
          "y": 203,
          "yref": "y"
         },
         {
          "align": "left",
          "font": {
           "color": "#000000"
          },
          "showarrow": false,
          "text": "9.83",
          "x": 2.55,
          "xanchor": "left",
          "xref": "x",
          "y": 203,
          "yref": "y"
         },
         {
          "align": "left",
          "font": {
           "color": "#000000"
          },
          "showarrow": false,
          "text": "Saudi Arabia",
          "x": -0.45,
          "xanchor": "left",
          "xref": "x",
          "y": 204,
          "yref": "y"
         },
         {
          "align": "left",
          "font": {
           "color": "#000000"
          },
          "showarrow": false,
          "text": "114689",
          "x": 0.55,
          "xanchor": "left",
          "xref": "x",
          "y": 204,
          "yref": "y"
         },
         {
          "align": "left",
          "font": {
           "color": "#000000"
          },
          "showarrow": false,
          "text": "25.37",
          "x": 1.55,
          "xanchor": "left",
          "xref": "x",
          "y": 204,
          "yref": "y"
         },
         {
          "align": "left",
          "font": {
           "color": "#000000"
          },
          "showarrow": false,
          "text": "5.28",
          "x": 2.55,
          "xanchor": "left",
          "xref": "x",
          "y": 204,
          "yref": "y"
         },
         {
          "align": "left",
          "font": {
           "color": "#000000"
          },
          "showarrow": false,
          "text": "Sudan",
          "x": -0.45,
          "xanchor": "left",
          "xref": "x",
          "y": 205,
          "yref": "y"
         },
         {
          "align": "left",
          "font": {
           "color": "#000000"
          },
          "showarrow": false,
          "text": "1065842",
          "x": 0.55,
          "xanchor": "left",
          "xref": "x",
          "y": 205,
          "yref": "y"
         },
         {
          "align": "left",
          "font": {
           "color": "#000000"
          },
          "showarrow": false,
          "text": "12.9",
          "x": 1.55,
          "xanchor": "left",
          "xref": "x",
          "y": 205,
          "yref": "y"
         },
         {
          "align": "left",
          "font": {
           "color": "#000000"
          },
          "showarrow": false,
          "text": "10.57",
          "x": 2.55,
          "xanchor": "left",
          "xref": "x",
          "y": 205,
          "yref": "y"
         },
         {
          "align": "left",
          "font": {
           "color": "#000000"
          },
          "showarrow": false,
          "text": "Senegal",
          "x": -0.45,
          "xanchor": "left",
          "xref": "x",
          "y": 206,
          "yref": "y"
         },
         {
          "align": "left",
          "font": {
           "color": "#000000"
          },
          "showarrow": false,
          "text": "10175014",
          "x": 0.55,
          "xanchor": "left",
          "xref": "x",
          "y": 206,
          "yref": "y"
         },
         {
          "align": "left",
          "font": {
           "color": "#000000"
          },
          "showarrow": false,
          "text": "15.52",
          "x": 1.55,
          "xanchor": "left",
          "xref": "x",
          "y": 206,
          "yref": "y"
         },
         {
          "align": "left",
          "font": {
           "color": "#000000"
          },
          "showarrow": false,
          "text": "5.13",
          "x": 2.55,
          "xanchor": "left",
          "xref": "x",
          "y": 206,
          "yref": "y"
         },
         {
          "align": "left",
          "font": {
           "color": "#000000"
          },
          "showarrow": false,
          "text": "Singapore",
          "x": -0.45,
          "xanchor": "left",
          "xref": "x",
          "y": 207,
          "yref": "y"
         },
         {
          "align": "left",
          "font": {
           "color": "#000000"
          },
          "showarrow": false,
          "text": "70413958",
          "x": 0.55,
          "xanchor": "left",
          "xref": "x",
          "y": 207,
          "yref": "y"
         },
         {
          "align": "left",
          "font": {
           "color": "#000000"
          },
          "showarrow": false,
          "text": "16.62",
          "x": 1.55,
          "xanchor": "left",
          "xref": "x",
          "y": 207,
          "yref": "y"
         },
         {
          "align": "left",
          "font": {
           "color": "#000000"
          },
          "showarrow": false,
          "text": "5.97",
          "x": 2.55,
          "xanchor": "left",
          "xref": "x",
          "y": 207,
          "yref": "y"
         },
         {
          "align": "left",
          "font": {
           "color": "#000000"
          },
          "showarrow": false,
          "text": "Solomon Islands",
          "x": -0.45,
          "xanchor": "left",
          "xref": "x",
          "y": 208,
          "yref": "y"
         },
         {
          "align": "left",
          "font": {
           "color": "#000000"
          },
          "showarrow": false,
          "text": "5042920",
          "x": 0.55,
          "xanchor": "left",
          "xref": "x",
          "y": 208,
          "yref": "y"
         },
         {
          "align": "left",
          "font": {
           "color": "#000000"
          },
          "showarrow": false,
          "text": "27.61",
          "x": 1.55,
          "xanchor": "left",
          "xref": "x",
          "y": 208,
          "yref": "y"
         },
         {
          "align": "left",
          "font": {
           "color": "#000000"
          },
          "showarrow": false,
          "text": "8.6",
          "x": 2.55,
          "xanchor": "left",
          "xref": "x",
          "y": 208,
          "yref": "y"
         },
         {
          "align": "left",
          "font": {
           "color": "#000000"
          },
          "showarrow": false,
          "text": "Sierra Leone",
          "x": -0.45,
          "xanchor": "left",
          "xref": "x",
          "y": 209,
          "yref": "y"
         },
         {
          "align": "left",
          "font": {
           "color": "#000000"
          },
          "showarrow": false,
          "text": "21152",
          "x": 0.55,
          "xanchor": "left",
          "xref": "x",
          "y": 209,
          "yref": "y"
         },
         {
          "align": "left",
          "font": {
           "color": "#000000"
          },
          "showarrow": false,
          "text": "21.84",
          "x": 1.55,
          "xanchor": "left",
          "xref": "x",
          "y": 209,
          "yref": "y"
         },
         {
          "align": "left",
          "font": {
           "color": "#000000"
          },
          "showarrow": false,
          "text": "4.21",
          "x": 2.55,
          "xanchor": "left",
          "xref": "x",
          "y": 209,
          "yref": "y"
         },
         {
          "align": "left",
          "font": {
           "color": "#000000"
          },
          "showarrow": false,
          "text": "El Salvador",
          "x": -0.45,
          "xanchor": "left",
          "xref": "x",
          "y": 210,
          "yref": "y"
         },
         {
          "align": "left",
          "font": {
           "color": "#000000"
          },
          "showarrow": false,
          "text": "11810",
          "x": 0.55,
          "xanchor": "left",
          "xref": "x",
          "y": 210,
          "yref": "y"
         },
         {
          "align": "left",
          "font": {
           "color": "#000000"
          },
          "showarrow": false,
          "text": "22.18",
          "x": 1.55,
          "xanchor": "left",
          "xref": "x",
          "y": 210,
          "yref": "y"
         },
         {
          "align": "left",
          "font": {
           "color": "#000000"
          },
          "showarrow": false,
          "text": "7.11",
          "x": 2.55,
          "xanchor": "left",
          "xref": "x",
          "y": 210,
          "yref": "y"
         },
         {
          "align": "left",
          "font": {
           "color": "#000000"
          },
          "showarrow": false,
          "text": "San Marino",
          "x": -0.45,
          "xanchor": "left",
          "xref": "x",
          "y": 211,
          "yref": "y"
         },
         {
          "align": "left",
          "font": {
           "color": "#000000"
          },
          "showarrow": false,
          "text": "28195754",
          "x": 0.55,
          "xanchor": "left",
          "xref": "x",
          "y": 211,
          "yref": "y"
         },
         {
          "align": "left",
          "font": {
           "color": "#000000"
          },
          "showarrow": false,
          "text": "47.35",
          "x": 1.55,
          "xanchor": "left",
          "xref": "x",
          "y": 211,
          "yref": "y"
         },
         {
          "align": "left",
          "font": {
           "color": "#000000"
          },
          "showarrow": false,
          "text": "12.24",
          "x": 2.55,
          "xanchor": "left",
          "xref": "x",
          "y": 211,
          "yref": "y"
         },
         {
          "align": "left",
          "font": {
           "color": "#000000"
          },
          "showarrow": false,
          "text": "Somalia",
          "x": -0.45,
          "xanchor": "left",
          "xref": "x",
          "y": 212,
          "yref": "y"
         },
         {
          "align": "left",
          "font": {
           "color": "#000000"
          },
          "showarrow": false,
          "text": "46710816",
          "x": 0.55,
          "xanchor": "left",
          "xref": "x",
          "y": 212,
          "yref": "y"
         },
         {
          "align": "left",
          "font": {
           "color": "#000000"
          },
          "showarrow": false,
          "text": "8.82",
          "x": 1.55,
          "xanchor": "left",
          "xref": "x",
          "y": 212,
          "yref": "y"
         },
         {
          "align": "left",
          "font": {
           "color": "#000000"
          },
          "showarrow": false,
          "text": "14.39",
          "x": 2.55,
          "xanchor": "left",
          "xref": "x",
          "y": 212,
          "yref": "y"
         },
         {
          "align": "left",
          "font": {
           "color": "#000000"
          },
          "showarrow": false,
          "text": "Serbia",
          "x": -0.45,
          "xanchor": "left",
          "xref": "x",
          "y": 213,
          "yref": "y"
         },
         {
          "align": "left",
          "font": {
           "color": "#000000"
          },
          "showarrow": false,
          "text": "2602713",
          "x": 0.55,
          "xanchor": "left",
          "xref": "x",
          "y": 213,
          "yref": "y"
         },
         {
          "align": "left",
          "font": {
           "color": "#000000"
          },
          "showarrow": false,
          "text": "18.96",
          "x": 1.55,
          "xanchor": "left",
          "xref": "x",
          "y": 213,
          "yref": "y"
         },
         {
          "align": "left",
          "font": {
           "color": "#000000"
          },
          "showarrow": false,
          "text": "4.4",
          "x": 2.55,
          "xanchor": "left",
          "xref": "x",
          "y": 213,
          "yref": "y"
         },
         {
          "align": "left",
          "font": {
           "color": "#000000"
          },
          "showarrow": false,
          "text": "Sub-Saharan Africa (excluding high income)",
          "x": -0.45,
          "xanchor": "left",
          "xref": "x",
          "y": 214,
          "yref": "y"
         },
         {
          "align": "left",
          "font": {
           "color": "#000000"
          },
          "showarrow": false,
          "text": "60609153",
          "x": 0.55,
          "xanchor": "left",
          "xref": "x",
          "y": 214,
          "yref": "y"
         },
         {
          "align": "left",
          "font": {
           "color": "#000000"
          },
          "showarrow": false,
          "text": "10.71",
          "x": 1.55,
          "xanchor": "left",
          "xref": "x",
          "y": 214,
          "yref": "y"
         },
         {
          "align": "left",
          "font": {
           "color": "#000000"
          },
          "showarrow": false,
          "text": "10.13",
          "x": 2.55,
          "xanchor": "left",
          "xref": "x",
          "y": 214,
          "yref": "y"
         },
         {
          "align": "left",
          "font": {
           "color": "#000000"
          },
          "showarrow": false,
          "text": "South Sudan",
          "x": -0.45,
          "xanchor": "left",
          "xref": "x",
          "y": 215,
          "yref": "y"
         },
         {
          "align": "left",
          "font": {
           "color": "#000000"
          },
          "showarrow": false,
          "text": "298444215",
          "x": 0.55,
          "xanchor": "left",
          "xref": "x",
          "y": 215,
          "yref": "y"
         },
         {
          "align": "left",
          "font": {
           "color": "#000000"
          },
          "showarrow": false,
          "text": "14.14",
          "x": 1.55,
          "xanchor": "left",
          "xref": "x",
          "y": 215,
          "yref": "y"
         },
         {
          "align": "left",
          "font": {
           "color": "#000000"
          },
          "showarrow": false,
          "text": "8.26",
          "x": 2.55,
          "xanchor": "left",
          "xref": "x",
          "y": 215,
          "yref": "y"
         },
         {
          "align": "left",
          "font": {
           "color": "#000000"
          },
          "showarrow": false,
          "text": "Sub-Saharan Africa",
          "x": -0.45,
          "xanchor": "left",
          "xref": "x",
          "y": 216,
          "yref": "y"
         },
         {
          "align": "left",
          "font": {
           "color": "#000000"
          },
          "showarrow": false,
          "text": "3431932",
          "x": 0.55,
          "xanchor": "left",
          "xref": "x",
          "y": 216,
          "yref": "y"
         },
         {
          "align": "left",
          "font": {
           "color": "#000000"
          },
          "showarrow": false,
          "text": "13.91",
          "x": 1.55,
          "xanchor": "left",
          "xref": "x",
          "y": 216,
          "yref": "y"
         },
         {
          "align": "left",
          "font": {
           "color": "#000000"
          },
          "showarrow": false,
          "text": "9.05",
          "x": 2.55,
          "xanchor": "left",
          "xref": "x",
          "y": 216,
          "yref": "y"
         },
         {
          "align": "left",
          "font": {
           "color": "#000000"
          },
          "showarrow": false,
          "text": "Small states",
          "x": -0.45,
          "xanchor": "left",
          "xref": "x",
          "y": 217,
          "yref": "y"
         },
         {
          "align": "left",
          "font": {
           "color": "#000000"
          },
          "showarrow": false,
          "text": "27307134",
          "x": 0.55,
          "xanchor": "left",
          "xref": "x",
          "y": 217,
          "yref": "y"
         },
         {
          "align": "left",
          "font": {
           "color": "#000000"
          },
          "showarrow": false,
          "text": "26.36",
          "x": 1.55,
          "xanchor": "left",
          "xref": "x",
          "y": 217,
          "yref": "y"
         },
         {
          "align": "left",
          "font": {
           "color": "#000000"
          },
          "showarrow": false,
          "text": "7.84",
          "x": 2.55,
          "xanchor": "left",
          "xref": "x",
          "y": 217,
          "yref": "y"
         },
         {
          "align": "left",
          "font": {
           "color": "#000000"
          },
          "showarrow": false,
          "text": "Sao Tome and Principe",
          "x": -0.45,
          "xanchor": "left",
          "xref": "x",
          "y": 218,
          "yref": "y"
         },
         {
          "align": "left",
          "font": {
           "color": "#000000"
          },
          "showarrow": false,
          "text": "208869",
          "x": 0.55,
          "xanchor": "left",
          "xref": "x",
          "y": 218,
          "yref": "y"
         },
         {
          "align": "left",
          "font": {
           "color": "#000000"
          },
          "showarrow": false,
          "text": "22.72",
          "x": 1.55,
          "xanchor": "left",
          "xref": "x",
          "y": 218,
          "yref": "y"
         },
         {
          "align": "left",
          "font": {
           "color": "#000000"
          },
          "showarrow": false,
          "text": "7.82",
          "x": 2.55,
          "xanchor": "left",
          "xref": "x",
          "y": 218,
          "yref": "y"
         },
         {
          "align": "left",
          "font": {
           "color": "#000000"
          },
          "showarrow": false,
          "text": "Suriname",
          "x": -0.45,
          "xanchor": "left",
          "xref": "x",
          "y": 219,
          "yref": "y"
         },
         {
          "align": "left",
          "font": {
           "color": "#000000"
          },
          "showarrow": false,
          "text": "25730435",
          "x": 0.55,
          "xanchor": "left",
          "xref": "x",
          "y": 219,
          "yref": "y"
         },
         {
          "align": "left",
          "font": {
           "color": "#000000"
          },
          "showarrow": false,
          "text": "18.71",
          "x": 1.55,
          "xanchor": "left",
          "xref": "x",
          "y": 219,
          "yref": "y"
         },
         {
          "align": "left",
          "font": {
           "color": "#000000"
          },
          "showarrow": false,
          "text": "4.92",
          "x": 2.55,
          "xanchor": "left",
          "xref": "x",
          "y": 219,
          "yref": "y"
         },
         {
          "align": "left",
          "font": {
           "color": "#000000"
          },
          "showarrow": false,
          "text": "Slovak Republic",
          "x": -0.45,
          "xanchor": "left",
          "xref": "x",
          "y": 220,
          "yref": "y"
         },
         {
          "align": "left",
          "font": {
           "color": "#000000"
          },
          "showarrow": false,
          "text": "84402966",
          "x": 0.55,
          "xanchor": "left",
          "xref": "x",
          "y": 220,
          "yref": "y"
         },
         {
          "align": "left",
          "font": {
           "color": "#000000"
          },
          "showarrow": false,
          "text": "16.86",
          "x": 1.55,
          "xanchor": "left",
          "xref": "x",
          "y": 220,
          "yref": "y"
         },
         {
          "align": "left",
          "font": {
           "color": "#000000"
          },
          "showarrow": false,
          "text": "6.22",
          "x": 2.55,
          "xanchor": "left",
          "xref": "x",
          "y": 220,
          "yref": "y"
         },
         {
          "align": "left",
          "font": {
           "color": "#000000"
          },
          "showarrow": false,
          "text": "Slovenia",
          "x": -0.45,
          "xanchor": "left",
          "xref": "x",
          "y": 221,
          "yref": "y"
         },
         {
          "align": "left",
          "font": {
           "color": "#000000"
          },
          "showarrow": false,
          "text": "108605",
          "x": 0.55,
          "xanchor": "left",
          "xref": "x",
          "y": 221,
          "yref": "y"
         },
         {
          "align": "left",
          "font": {
           "color": "#000000"
          },
          "showarrow": false,
          "text": "13.96",
          "x": 1.55,
          "xanchor": "left",
          "xref": "x",
          "y": 221,
          "yref": "y"
         },
         {
          "align": "left",
          "font": {
           "color": "#000000"
          },
          "showarrow": false,
          "text": "6.43",
          "x": 2.55,
          "xanchor": "left",
          "xref": "x",
          "y": 221,
          "yref": "y"
         },
         {
          "align": "left",
          "font": {
           "color": "#000000"
          },
          "showarrow": false,
          "text": "Sweden",
          "x": -0.45,
          "xanchor": "left",
          "xref": "x",
          "y": 222,
          "yref": "y"
         },
         {
          "align": "left",
          "font": {
           "color": "#000000"
          },
          "showarrow": false,
          "text": "16025",
          "x": 0.55,
          "xanchor": "left",
          "xref": "x",
          "y": 222,
          "yref": "y"
         },
         {
          "align": "left",
          "font": {
           "color": "#000000"
          },
          "showarrow": false,
          "text": "nan",
          "x": 1.55,
          "xanchor": "left",
          "xref": "x",
          "y": 222,
          "yref": "y"
         },
         {
          "align": "left",
          "font": {
           "color": "#000000"
          },
          "showarrow": false,
          "text": "nan",
          "x": 2.55,
          "xanchor": "left",
          "xref": "x",
          "y": 222,
          "yref": "y"
         },
         {
          "align": "left",
          "font": {
           "color": "#000000"
          },
          "showarrow": false,
          "text": "Swaziland",
          "x": -0.45,
          "xanchor": "left",
          "xref": "x",
          "y": 223,
          "yref": "y"
         },
         {
          "align": "left",
          "font": {
           "color": "#000000"
          },
          "showarrow": false,
          "text": "2460492",
          "x": 0.55,
          "xanchor": "left",
          "xref": "x",
          "y": 223,
          "yref": "y"
         },
         {
          "align": "left",
          "font": {
           "color": "#000000"
          },
          "showarrow": false,
          "text": "31.67",
          "x": 1.55,
          "xanchor": "left",
          "xref": "x",
          "y": 223,
          "yref": "y"
         },
         {
          "align": "left",
          "font": {
           "color": "#000000"
          },
          "showarrow": false,
          "text": "3.92",
          "x": 2.55,
          "xanchor": "left",
          "xref": "x",
          "y": 223,
          "yref": "y"
         },
         {
          "align": "left",
          "font": {
           "color": "#000000"
          },
          "showarrow": false,
          "text": "Sint Maarten (Dutch part)",
          "x": -0.45,
          "xanchor": "left",
          "xref": "x",
          "y": 224,
          "yref": "y"
         },
         {
          "align": "left",
          "font": {
           "color": "#000000"
          },
          "showarrow": false,
          "text": "273008",
          "x": 0.55,
          "xanchor": "left",
          "xref": "x",
          "y": 224,
          "yref": "y"
         },
         {
          "align": "left",
          "font": {
           "color": "#000000"
          },
          "showarrow": false,
          "text": "nan",
          "x": 1.55,
          "xanchor": "left",
          "xref": "x",
          "y": 224,
          "yref": "y"
         },
         {
          "align": "left",
          "font": {
           "color": "#000000"
          },
          "showarrow": false,
          "text": "nan",
          "x": 2.55,
          "xanchor": "left",
          "xref": "x",
          "y": 224,
          "yref": "y"
         },
         {
          "align": "left",
          "font": {
           "color": "#000000"
          },
          "showarrow": false,
          "text": "Seychelles",
          "x": -0.45,
          "xanchor": "left",
          "xref": "x",
          "y": 225,
          "yref": "y"
         },
         {
          "align": "left",
          "font": {
           "color": "#000000"
          },
          "showarrow": false,
          "text": "21456188",
          "x": 0.55,
          "xanchor": "left",
          "xref": "x",
          "y": 225,
          "yref": "y"
         },
         {
          "align": "left",
          "font": {
           "color": "#000000"
          },
          "showarrow": false,
          "text": "42.89",
          "x": 1.55,
          "xanchor": "left",
          "xref": "x",
          "y": 225,
          "yref": "y"
         },
         {
          "align": "left",
          "font": {
           "color": "#000000"
          },
          "showarrow": false,
          "text": "8.3",
          "x": 2.55,
          "xanchor": "left",
          "xref": "x",
          "y": 225,
          "yref": "y"
         },
         {
          "align": "left",
          "font": {
           "color": "#000000"
          },
          "showarrow": false,
          "text": "Syrian Arab Republic",
          "x": -0.45,
          "xanchor": "left",
          "xref": "x",
          "y": 226,
          "yref": "y"
         },
         {
          "align": "left",
          "font": {
           "color": "#000000"
          },
          "showarrow": false,
          "text": "11502010",
          "x": 0.55,
          "xanchor": "left",
          "xref": "x",
          "y": 226,
          "yref": "y"
         },
         {
          "align": "left",
          "font": {
           "color": "#000000"
          },
          "showarrow": false,
          "text": "41.0",
          "x": 1.55,
          "xanchor": "left",
          "xref": "x",
          "y": 226,
          "yref": "y"
         },
         {
          "align": "left",
          "font": {
           "color": "#000000"
          },
          "showarrow": false,
          "text": "19.93",
          "x": 2.55,
          "xanchor": "left",
          "xref": "x",
          "y": 226,
          "yref": "y"
         },
         {
          "align": "left",
          "font": {
           "color": "#000000"
          },
          "showarrow": false,
          "text": "Turks and Caicos Islands",
          "x": -0.45,
          "xanchor": "left",
          "xref": "x",
          "y": 227,
          "yref": "y"
         },
         {
          "align": "left",
          "font": {
           "color": "#000000"
          },
          "showarrow": false,
          "text": "12236805",
          "x": 0.55,
          "xanchor": "left",
          "xref": "x",
          "y": 227,
          "yref": "y"
         },
         {
          "align": "left",
          "font": {
           "color": "#000000"
          },
          "showarrow": false,
          "text": "28.01",
          "x": 1.55,
          "xanchor": "left",
          "xref": "x",
          "y": 227,
          "yref": "y"
         },
         {
          "align": "left",
          "font": {
           "color": "#000000"
          },
          "showarrow": false,
          "text": "21.84",
          "x": 2.55,
          "xanchor": "left",
          "xref": "x",
          "y": 227,
          "yref": "y"
         }
        ],
        "height": 6890,
        "margin": {
         "b": 0,
         "l": 0,
         "r": 0,
         "t": 0
        },
        "xaxis": {
         "dtick": 1,
         "gridwidth": 2,
         "showticklabels": false,
         "tick0": -0.5,
         "ticks": "",
         "zeroline": false
        },
        "yaxis": {
         "autorange": "reversed",
         "dtick": 1,
         "gridwidth": 2,
         "showticklabels": false,
         "tick0": 0.5,
         "ticks": "",
         "zeroline": false
        }
       }
      },
      "text/html": [
       "<div id=\"3ca1e1bc-faaa-4702-be82-9f760a684667\" style=\"height: 6890px; width: 100%;\" class=\"plotly-graph-div\"></div><script type=\"text/javascript\">require([\"plotly\"], function(Plotly) { window.PLOTLYENV=window.PLOTLYENV || {};window.PLOTLYENV.BASE_URL=\"https://plot.ly\";\n",
       "        Plotly.plot(\n",
       "            '3ca1e1bc-faaa-4702-be82-9f760a684667',\n",
       "            [{\"colorscale\": [[0, \"#00083e\"], [0.5, \"#ededee\"], [1, \"#ffffff\"]], \"hoverinfo\": \"none\", \"opacity\": 0.75, \"showscale\": false, \"z\": [[0, 0, 0, 0], [0.5, 0.5, 0.5, 0.5], [1, 1, 1, 1], [0.5, 0.5, 0.5, 0.5], [1, 1, 1, 1], [0.5, 0.5, 0.5, 0.5], [1, 1, 1, 1], [0.5, 0.5, 0.5, 0.5], [1, 1, 1, 1], [0.5, 0.5, 0.5, 0.5], [1, 1, 1, 1], [0.5, 0.5, 0.5, 0.5], [1, 1, 1, 1], [0.5, 0.5, 0.5, 0.5], [1, 1, 1, 1], [0.5, 0.5, 0.5, 0.5], [1, 1, 1, 1], [0.5, 0.5, 0.5, 0.5], [1, 1, 1, 1], [0.5, 0.5, 0.5, 0.5], [1, 1, 1, 1], [0.5, 0.5, 0.5, 0.5], [1, 1, 1, 1], [0.5, 0.5, 0.5, 0.5], [1, 1, 1, 1], [0.5, 0.5, 0.5, 0.5], [1, 1, 1, 1], [0.5, 0.5, 0.5, 0.5], [1, 1, 1, 1], [0.5, 0.5, 0.5, 0.5], [1, 1, 1, 1], [0.5, 0.5, 0.5, 0.5], [1, 1, 1, 1], [0.5, 0.5, 0.5, 0.5], [1, 1, 1, 1], [0.5, 0.5, 0.5, 0.5], [1, 1, 1, 1], [0.5, 0.5, 0.5, 0.5], [1, 1, 1, 1], [0.5, 0.5, 0.5, 0.5], [1, 1, 1, 1], [0.5, 0.5, 0.5, 0.5], [1, 1, 1, 1], [0.5, 0.5, 0.5, 0.5], [1, 1, 1, 1], [0.5, 0.5, 0.5, 0.5], [1, 1, 1, 1], [0.5, 0.5, 0.5, 0.5], [1, 1, 1, 1], [0.5, 0.5, 0.5, 0.5], [1, 1, 1, 1], [0.5, 0.5, 0.5, 0.5], [1, 1, 1, 1], [0.5, 0.5, 0.5, 0.5], [1, 1, 1, 1], [0.5, 0.5, 0.5, 0.5], [1, 1, 1, 1], [0.5, 0.5, 0.5, 0.5], [1, 1, 1, 1], [0.5, 0.5, 0.5, 0.5], [1, 1, 1, 1], [0.5, 0.5, 0.5, 0.5], [1, 1, 1, 1], [0.5, 0.5, 0.5, 0.5], [1, 1, 1, 1], [0.5, 0.5, 0.5, 0.5], [1, 1, 1, 1], [0.5, 0.5, 0.5, 0.5], [1, 1, 1, 1], [0.5, 0.5, 0.5, 0.5], [1, 1, 1, 1], [0.5, 0.5, 0.5, 0.5], [1, 1, 1, 1], [0.5, 0.5, 0.5, 0.5], [1, 1, 1, 1], [0.5, 0.5, 0.5, 0.5], [1, 1, 1, 1], [0.5, 0.5, 0.5, 0.5], [1, 1, 1, 1], [0.5, 0.5, 0.5, 0.5], [1, 1, 1, 1], [0.5, 0.5, 0.5, 0.5], [1, 1, 1, 1], [0.5, 0.5, 0.5, 0.5], [1, 1, 1, 1], [0.5, 0.5, 0.5, 0.5], [1, 1, 1, 1], [0.5, 0.5, 0.5, 0.5], [1, 1, 1, 1], [0.5, 0.5, 0.5, 0.5], [1, 1, 1, 1], [0.5, 0.5, 0.5, 0.5], [1, 1, 1, 1], [0.5, 0.5, 0.5, 0.5], [1, 1, 1, 1], [0.5, 0.5, 0.5, 0.5], [1, 1, 1, 1], [0.5, 0.5, 0.5, 0.5], [1, 1, 1, 1], [0.5, 0.5, 0.5, 0.5], [1, 1, 1, 1], [0.5, 0.5, 0.5, 0.5], [1, 1, 1, 1], [0.5, 0.5, 0.5, 0.5], [1, 1, 1, 1], [0.5, 0.5, 0.5, 0.5], [1, 1, 1, 1], [0.5, 0.5, 0.5, 0.5], [1, 1, 1, 1], [0.5, 0.5, 0.5, 0.5], [1, 1, 1, 1], [0.5, 0.5, 0.5, 0.5], [1, 1, 1, 1], [0.5, 0.5, 0.5, 0.5], [1, 1, 1, 1], [0.5, 0.5, 0.5, 0.5], [1, 1, 1, 1], [0.5, 0.5, 0.5, 0.5], [1, 1, 1, 1], [0.5, 0.5, 0.5, 0.5], [1, 1, 1, 1], [0.5, 0.5, 0.5, 0.5], [1, 1, 1, 1], [0.5, 0.5, 0.5, 0.5], [1, 1, 1, 1], [0.5, 0.5, 0.5, 0.5], [1, 1, 1, 1], [0.5, 0.5, 0.5, 0.5], [1, 1, 1, 1], [0.5, 0.5, 0.5, 0.5], [1, 1, 1, 1], [0.5, 0.5, 0.5, 0.5], [1, 1, 1, 1], [0.5, 0.5, 0.5, 0.5], [1, 1, 1, 1], [0.5, 0.5, 0.5, 0.5], [1, 1, 1, 1], [0.5, 0.5, 0.5, 0.5], [1, 1, 1, 1], [0.5, 0.5, 0.5, 0.5], [1, 1, 1, 1], [0.5, 0.5, 0.5, 0.5], [1, 1, 1, 1], [0.5, 0.5, 0.5, 0.5], [1, 1, 1, 1], [0.5, 0.5, 0.5, 0.5], [1, 1, 1, 1], [0.5, 0.5, 0.5, 0.5], [1, 1, 1, 1], [0.5, 0.5, 0.5, 0.5], [1, 1, 1, 1], [0.5, 0.5, 0.5, 0.5], [1, 1, 1, 1], [0.5, 0.5, 0.5, 0.5], [1, 1, 1, 1], [0.5, 0.5, 0.5, 0.5], [1, 1, 1, 1], [0.5, 0.5, 0.5, 0.5], [1, 1, 1, 1], [0.5, 0.5, 0.5, 0.5], [1, 1, 1, 1], [0.5, 0.5, 0.5, 0.5], [1, 1, 1, 1], [0.5, 0.5, 0.5, 0.5], [1, 1, 1, 1], [0.5, 0.5, 0.5, 0.5], [1, 1, 1, 1], [0.5, 0.5, 0.5, 0.5], [1, 1, 1, 1], [0.5, 0.5, 0.5, 0.5], [1, 1, 1, 1], [0.5, 0.5, 0.5, 0.5], [1, 1, 1, 1], [0.5, 0.5, 0.5, 0.5], [1, 1, 1, 1], [0.5, 0.5, 0.5, 0.5], [1, 1, 1, 1], [0.5, 0.5, 0.5, 0.5], [1, 1, 1, 1], [0.5, 0.5, 0.5, 0.5], [1, 1, 1, 1], [0.5, 0.5, 0.5, 0.5], [1, 1, 1, 1], [0.5, 0.5, 0.5, 0.5], [1, 1, 1, 1], [0.5, 0.5, 0.5, 0.5], [1, 1, 1, 1], [0.5, 0.5, 0.5, 0.5], [1, 1, 1, 1], [0.5, 0.5, 0.5, 0.5], [1, 1, 1, 1], [0.5, 0.5, 0.5, 0.5], [1, 1, 1, 1], [0.5, 0.5, 0.5, 0.5], [1, 1, 1, 1], [0.5, 0.5, 0.5, 0.5], [1, 1, 1, 1], [0.5, 0.5, 0.5, 0.5], [1, 1, 1, 1], [0.5, 0.5, 0.5, 0.5], [1, 1, 1, 1], [0.5, 0.5, 0.5, 0.5], [1, 1, 1, 1], [0.5, 0.5, 0.5, 0.5], [1, 1, 1, 1], [0.5, 0.5, 0.5, 0.5], [1, 1, 1, 1], [0.5, 0.5, 0.5, 0.5], [1, 1, 1, 1], [0.5, 0.5, 0.5, 0.5], [1, 1, 1, 1], [0.5, 0.5, 0.5, 0.5], [1, 1, 1, 1], [0.5, 0.5, 0.5, 0.5], [1, 1, 1, 1], [0.5, 0.5, 0.5, 0.5], [1, 1, 1, 1], [0.5, 0.5, 0.5, 0.5], [1, 1, 1, 1], [0.5, 0.5, 0.5, 0.5], [1, 1, 1, 1], [0.5, 0.5, 0.5, 0.5], [1, 1, 1, 1], [0.5, 0.5, 0.5, 0.5], [1, 1, 1, 1], [0.5, 0.5, 0.5, 0.5], [1, 1, 1, 1], [0.5, 0.5, 0.5, 0.5]], \"type\": \"heatmap\", \"uid\": \"71f225be-a321-11e8-b6c4-b88a605d4570\"}],\n",
       "            {\"annotations\": [{\"align\": \"left\", \"font\": {\"color\": \"#ffffff\"}, \"showarrow\": false, \"text\": \"<b>CountryName</b>\", \"x\": -0.45, \"xanchor\": \"left\", \"xref\": \"x\", \"y\": 0, \"yref\": \"y\"}, {\"align\": \"left\", \"font\": {\"color\": \"#ffffff\"}, \"showarrow\": false, \"text\": \"<b>Population</b>\", \"x\": 0.55, \"xanchor\": \"left\", \"xref\": \"x\", \"y\": 0, \"yref\": \"y\"}, {\"align\": \"left\", \"font\": {\"color\": \"#ffffff\"}, \"showarrow\": false, \"text\": \"<b>Birthrate</b>\", \"x\": 1.55, \"xanchor\": \"left\", \"xref\": \"x\", \"y\": 0, \"yref\": \"y\"}, {\"align\": \"left\", \"font\": {\"color\": \"#ffffff\"}, \"showarrow\": false, \"text\": \"<b>Deathrate </b>\", \"x\": 2.55, \"xanchor\": \"left\", \"xref\": \"x\", \"y\": 0, \"yref\": \"y\"}, {\"align\": \"left\", \"font\": {\"color\": \"#000000\"}, \"showarrow\": false, \"text\": \"Aruba\", \"x\": -0.45, \"xanchor\": \"left\", \"xref\": \"x\", \"y\": 1, \"yref\": \"y\"}, {\"align\": \"left\", \"font\": {\"color\": \"#000000\"}, \"showarrow\": false, \"text\": \"31056997\", \"x\": 0.55, \"xanchor\": \"left\", \"xref\": \"x\", \"y\": 1, \"yref\": \"y\"}, {\"align\": \"left\", \"font\": {\"color\": \"#000000\"}, \"showarrow\": false, \"text\": \"46.6\", \"x\": 1.55, \"xanchor\": \"left\", \"xref\": \"x\", \"y\": 1, \"yref\": \"y\"}, {\"align\": \"left\", \"font\": {\"color\": \"#000000\"}, \"showarrow\": false, \"text\": \"20.34\", \"x\": 2.55, \"xanchor\": \"left\", \"xref\": \"x\", \"y\": 1, \"yref\": \"y\"}, {\"align\": \"left\", \"font\": {\"color\": \"#000000\"}, \"showarrow\": false, \"text\": \"Afghanistan\", \"x\": -0.45, \"xanchor\": \"left\", \"xref\": \"x\", \"y\": 2, \"yref\": \"y\"}, {\"align\": \"left\", \"font\": {\"color\": \"#000000\"}, \"showarrow\": false, \"text\": \"3581655\", \"x\": 0.55, \"xanchor\": \"left\", \"xref\": \"x\", \"y\": 2, \"yref\": \"y\"}, {\"align\": \"left\", \"font\": {\"color\": \"#000000\"}, \"showarrow\": false, \"text\": \"15.11\", \"x\": 1.55, \"xanchor\": \"left\", \"xref\": \"x\", \"y\": 2, \"yref\": \"y\"}, {\"align\": \"left\", \"font\": {\"color\": \"#000000\"}, \"showarrow\": false, \"text\": \"5.22\", \"x\": 2.55, \"xanchor\": \"left\", \"xref\": \"x\", \"y\": 2, \"yref\": \"y\"}, {\"align\": \"left\", \"font\": {\"color\": \"#000000\"}, \"showarrow\": false, \"text\": \"Angola\", \"x\": -0.45, \"xanchor\": \"left\", \"xref\": \"x\", \"y\": 3, \"yref\": \"y\"}, {\"align\": \"left\", \"font\": {\"color\": \"#000000\"}, \"showarrow\": false, \"text\": \"32930091\", \"x\": 0.55, \"xanchor\": \"left\", \"xref\": \"x\", \"y\": 3, \"yref\": \"y\"}, {\"align\": \"left\", \"font\": {\"color\": \"#000000\"}, \"showarrow\": false, \"text\": \"17.14\", \"x\": 1.55, \"xanchor\": \"left\", \"xref\": \"x\", \"y\": 3, \"yref\": \"y\"}, {\"align\": \"left\", \"font\": {\"color\": \"#000000\"}, \"showarrow\": false, \"text\": \"4.61\", \"x\": 2.55, \"xanchor\": \"left\", \"xref\": \"x\", \"y\": 3, \"yref\": \"y\"}, {\"align\": \"left\", \"font\": {\"color\": \"#000000\"}, \"showarrow\": false, \"text\": \"Albania\", \"x\": -0.45, \"xanchor\": \"left\", \"xref\": \"x\", \"y\": 4, \"yref\": \"y\"}, {\"align\": \"left\", \"font\": {\"color\": \"#000000\"}, \"showarrow\": false, \"text\": \"57794\", \"x\": 0.55, \"xanchor\": \"left\", \"xref\": \"x\", \"y\": 4, \"yref\": \"y\"}, {\"align\": \"left\", \"font\": {\"color\": \"#000000\"}, \"showarrow\": false, \"text\": \"22.46\", \"x\": 1.55, \"xanchor\": \"left\", \"xref\": \"x\", \"y\": 4, \"yref\": \"y\"}, {\"align\": \"left\", \"font\": {\"color\": \"#000000\"}, \"showarrow\": false, \"text\": \"3.27\", \"x\": 2.55, \"xanchor\": \"left\", \"xref\": \"x\", \"y\": 4, \"yref\": \"y\"}, {\"align\": \"left\", \"font\": {\"color\": \"#000000\"}, \"showarrow\": false, \"text\": \"Andorra\", \"x\": -0.45, \"xanchor\": \"left\", \"xref\": \"x\", \"y\": 5, \"yref\": \"y\"}, {\"align\": \"left\", \"font\": {\"color\": \"#000000\"}, \"showarrow\": false, \"text\": \"71201\", \"x\": 0.55, \"xanchor\": \"left\", \"xref\": \"x\", \"y\": 5, \"yref\": \"y\"}, {\"align\": \"left\", \"font\": {\"color\": \"#000000\"}, \"showarrow\": false, \"text\": \"8.71\", \"x\": 1.55, \"xanchor\": \"left\", \"xref\": \"x\", \"y\": 5, \"yref\": \"y\"}, {\"align\": \"left\", \"font\": {\"color\": \"#000000\"}, \"showarrow\": false, \"text\": \"6.25\", \"x\": 2.55, \"xanchor\": \"left\", \"xref\": \"x\", \"y\": 5, \"yref\": \"y\"}, {\"align\": \"left\", \"font\": {\"color\": \"#000000\"}, \"showarrow\": false, \"text\": \"Arab World\", \"x\": -0.45, \"xanchor\": \"left\", \"xref\": \"x\", \"y\": 6, \"yref\": \"y\"}, {\"align\": \"left\", \"font\": {\"color\": \"#000000\"}, \"showarrow\": false, \"text\": \"12127071\", \"x\": 0.55, \"xanchor\": \"left\", \"xref\": \"x\", \"y\": 6, \"yref\": \"y\"}, {\"align\": \"left\", \"font\": {\"color\": \"#000000\"}, \"showarrow\": false, \"text\": \"45.11\", \"x\": 1.55, \"xanchor\": \"left\", \"xref\": \"x\", \"y\": 6, \"yref\": \"y\"}, {\"align\": \"left\", \"font\": {\"color\": \"#000000\"}, \"showarrow\": false, \"text\": \"24.2\", \"x\": 2.55, \"xanchor\": \"left\", \"xref\": \"x\", \"y\": 6, \"yref\": \"y\"}, {\"align\": \"left\", \"font\": {\"color\": \"#000000\"}, \"showarrow\": false, \"text\": \"United Arab Emirates\", \"x\": -0.45, \"xanchor\": \"left\", \"xref\": \"x\", \"y\": 7, \"yref\": \"y\"}, {\"align\": \"left\", \"font\": {\"color\": \"#000000\"}, \"showarrow\": false, \"text\": \"13477\", \"x\": 0.55, \"xanchor\": \"left\", \"xref\": \"x\", \"y\": 7, \"yref\": \"y\"}, {\"align\": \"left\", \"font\": {\"color\": \"#000000\"}, \"showarrow\": false, \"text\": \"14.17\", \"x\": 1.55, \"xanchor\": \"left\", \"xref\": \"x\", \"y\": 7, \"yref\": \"y\"}, {\"align\": \"left\", \"font\": {\"color\": \"#000000\"}, \"showarrow\": false, \"text\": \"5.34\", \"x\": 2.55, \"xanchor\": \"left\", \"xref\": \"x\", \"y\": 7, \"yref\": \"y\"}, {\"align\": \"left\", \"font\": {\"color\": \"#000000\"}, \"showarrow\": false, \"text\": \"Argentina\", \"x\": -0.45, \"xanchor\": \"left\", \"xref\": \"x\", \"y\": 8, \"yref\": \"y\"}, {\"align\": \"left\", \"font\": {\"color\": \"#000000\"}, \"showarrow\": false, \"text\": \"69108\", \"x\": 0.55, \"xanchor\": \"left\", \"xref\": \"x\", \"y\": 8, \"yref\": \"y\"}, {\"align\": \"left\", \"font\": {\"color\": \"#000000\"}, \"showarrow\": false, \"text\": \"16.93\", \"x\": 1.55, \"xanchor\": \"left\", \"xref\": \"x\", \"y\": 8, \"yref\": \"y\"}, {\"align\": \"left\", \"font\": {\"color\": \"#000000\"}, \"showarrow\": false, \"text\": \"5.37\", \"x\": 2.55, \"xanchor\": \"left\", \"xref\": \"x\", \"y\": 8, \"yref\": \"y\"}, {\"align\": \"left\", \"font\": {\"color\": \"#000000\"}, \"showarrow\": false, \"text\": \"Armenia\", \"x\": -0.45, \"xanchor\": \"left\", \"xref\": \"x\", \"y\": 9, \"yref\": \"y\"}, {\"align\": \"left\", \"font\": {\"color\": \"#000000\"}, \"showarrow\": false, \"text\": \"39921833\", \"x\": 0.55, \"xanchor\": \"left\", \"xref\": \"x\", \"y\": 9, \"yref\": \"y\"}, {\"align\": \"left\", \"font\": {\"color\": \"#000000\"}, \"showarrow\": false, \"text\": \"16.73\", \"x\": 1.55, \"xanchor\": \"left\", \"xref\": \"x\", \"y\": 9, \"yref\": \"y\"}, {\"align\": \"left\", \"font\": {\"color\": \"#000000\"}, \"showarrow\": false, \"text\": \"7.55\", \"x\": 2.55, \"xanchor\": \"left\", \"xref\": \"x\", \"y\": 9, \"yref\": \"y\"}, {\"align\": \"left\", \"font\": {\"color\": \"#000000\"}, \"showarrow\": false, \"text\": \"American Samoa\", \"x\": -0.45, \"xanchor\": \"left\", \"xref\": \"x\", \"y\": 10, \"yref\": \"y\"}, {\"align\": \"left\", \"font\": {\"color\": \"#000000\"}, \"showarrow\": false, \"text\": \"2976372\", \"x\": 0.55, \"xanchor\": \"left\", \"xref\": \"x\", \"y\": 10, \"yref\": \"y\"}, {\"align\": \"left\", \"font\": {\"color\": \"#000000\"}, \"showarrow\": false, \"text\": \"12.07\", \"x\": 1.55, \"xanchor\": \"left\", \"xref\": \"x\", \"y\": 10, \"yref\": \"y\"}, {\"align\": \"left\", \"font\": {\"color\": \"#000000\"}, \"showarrow\": false, \"text\": \"8.23\", \"x\": 2.55, \"xanchor\": \"left\", \"xref\": \"x\", \"y\": 10, \"yref\": \"y\"}, {\"align\": \"left\", \"font\": {\"color\": \"#000000\"}, \"showarrow\": false, \"text\": \"Antigua and Barbuda\", \"x\": -0.45, \"xanchor\": \"left\", \"xref\": \"x\", \"y\": 11, \"yref\": \"y\"}, {\"align\": \"left\", \"font\": {\"color\": \"#000000\"}, \"showarrow\": false, \"text\": \"71891\", \"x\": 0.55, \"xanchor\": \"left\", \"xref\": \"x\", \"y\": 11, \"yref\": \"y\"}, {\"align\": \"left\", \"font\": {\"color\": \"#000000\"}, \"showarrow\": false, \"text\": \"11.03\", \"x\": 1.55, \"xanchor\": \"left\", \"xref\": \"x\", \"y\": 11, \"yref\": \"y\"}, {\"align\": \"left\", \"font\": {\"color\": \"#000000\"}, \"showarrow\": false, \"text\": \"6.68\", \"x\": 2.55, \"xanchor\": \"left\", \"xref\": \"x\", \"y\": 11, \"yref\": \"y\"}, {\"align\": \"left\", \"font\": {\"color\": \"#000000\"}, \"showarrow\": false, \"text\": \"Australia\", \"x\": -0.45, \"xanchor\": \"left\", \"xref\": \"x\", \"y\": 12, \"yref\": \"y\"}, {\"align\": \"left\", \"font\": {\"color\": \"#000000\"}, \"showarrow\": false, \"text\": \"20264082\", \"x\": 0.55, \"xanchor\": \"left\", \"xref\": \"x\", \"y\": 12, \"yref\": \"y\"}, {\"align\": \"left\", \"font\": {\"color\": \"#000000\"}, \"showarrow\": false, \"text\": \"12.14\", \"x\": 1.55, \"xanchor\": \"left\", \"xref\": \"x\", \"y\": 12, \"yref\": \"y\"}, {\"align\": \"left\", \"font\": {\"color\": \"#000000\"}, \"showarrow\": false, \"text\": \"7.51\", \"x\": 2.55, \"xanchor\": \"left\", \"xref\": \"x\", \"y\": 12, \"yref\": \"y\"}, {\"align\": \"left\", \"font\": {\"color\": \"#000000\"}, \"showarrow\": false, \"text\": \"Austria\", \"x\": -0.45, \"xanchor\": \"left\", \"xref\": \"x\", \"y\": 13, \"yref\": \"y\"}, {\"align\": \"left\", \"font\": {\"color\": \"#000000\"}, \"showarrow\": false, \"text\": \"8192880\", \"x\": 0.55, \"xanchor\": \"left\", \"xref\": \"x\", \"y\": 13, \"yref\": \"y\"}, {\"align\": \"left\", \"font\": {\"color\": \"#000000\"}, \"showarrow\": false, \"text\": \"8.74\", \"x\": 1.55, \"xanchor\": \"left\", \"xref\": \"x\", \"y\": 13, \"yref\": \"y\"}, {\"align\": \"left\", \"font\": {\"color\": \"#000000\"}, \"showarrow\": false, \"text\": \"9.76\", \"x\": 2.55, \"xanchor\": \"left\", \"xref\": \"x\", \"y\": 13, \"yref\": \"y\"}, {\"align\": \"left\", \"font\": {\"color\": \"#000000\"}, \"showarrow\": false, \"text\": \"Azerbaijan\", \"x\": -0.45, \"xanchor\": \"left\", \"xref\": \"x\", \"y\": 14, \"yref\": \"y\"}, {\"align\": \"left\", \"font\": {\"color\": \"#000000\"}, \"showarrow\": false, \"text\": \"7961619\", \"x\": 0.55, \"xanchor\": \"left\", \"xref\": \"x\", \"y\": 14, \"yref\": \"y\"}, {\"align\": \"left\", \"font\": {\"color\": \"#000000\"}, \"showarrow\": false, \"text\": \"20.74\", \"x\": 1.55, \"xanchor\": \"left\", \"xref\": \"x\", \"y\": 14, \"yref\": \"y\"}, {\"align\": \"left\", \"font\": {\"color\": \"#000000\"}, \"showarrow\": false, \"text\": \"9.75\", \"x\": 2.55, \"xanchor\": \"left\", \"xref\": \"x\", \"y\": 14, \"yref\": \"y\"}, {\"align\": \"left\", \"font\": {\"color\": \"#000000\"}, \"showarrow\": false, \"text\": \"Burundi\", \"x\": -0.45, \"xanchor\": \"left\", \"xref\": \"x\", \"y\": 15, \"yref\": \"y\"}, {\"align\": \"left\", \"font\": {\"color\": \"#000000\"}, \"showarrow\": false, \"text\": \"303770\", \"x\": 0.55, \"xanchor\": \"left\", \"xref\": \"x\", \"y\": 15, \"yref\": \"y\"}, {\"align\": \"left\", \"font\": {\"color\": \"#000000\"}, \"showarrow\": false, \"text\": \"17.57\", \"x\": 1.55, \"xanchor\": \"left\", \"xref\": \"x\", \"y\": 15, \"yref\": \"y\"}, {\"align\": \"left\", \"font\": {\"color\": \"#000000\"}, \"showarrow\": false, \"text\": \"9.05\", \"x\": 2.55, \"xanchor\": \"left\", \"xref\": \"x\", \"y\": 15, \"yref\": \"y\"}, {\"align\": \"left\", \"font\": {\"color\": \"#000000\"}, \"showarrow\": false, \"text\": \"Belgium\", \"x\": -0.45, \"xanchor\": \"left\", \"xref\": \"x\", \"y\": 16, \"yref\": \"y\"}, {\"align\": \"left\", \"font\": {\"color\": \"#000000\"}, \"showarrow\": false, \"text\": \"698585\", \"x\": 0.55, \"xanchor\": \"left\", \"xref\": \"x\", \"y\": 16, \"yref\": \"y\"}, {\"align\": \"left\", \"font\": {\"color\": \"#000000\"}, \"showarrow\": false, \"text\": \"17.8\", \"x\": 1.55, \"xanchor\": \"left\", \"xref\": \"x\", \"y\": 16, \"yref\": \"y\"}, {\"align\": \"left\", \"font\": {\"color\": \"#000000\"}, \"showarrow\": false, \"text\": \"4.14\", \"x\": 2.55, \"xanchor\": \"left\", \"xref\": \"x\", \"y\": 16, \"yref\": \"y\"}, {\"align\": \"left\", \"font\": {\"color\": \"#000000\"}, \"showarrow\": false, \"text\": \"Benin\", \"x\": -0.45, \"xanchor\": \"left\", \"xref\": \"x\", \"y\": 17, \"yref\": \"y\"}, {\"align\": \"left\", \"font\": {\"color\": \"#000000\"}, \"showarrow\": false, \"text\": \"147365352\", \"x\": 0.55, \"xanchor\": \"left\", \"xref\": \"x\", \"y\": 17, \"yref\": \"y\"}, {\"align\": \"left\", \"font\": {\"color\": \"#000000\"}, \"showarrow\": false, \"text\": \"29.8\", \"x\": 1.55, \"xanchor\": \"left\", \"xref\": \"x\", \"y\": 17, \"yref\": \"y\"}, {\"align\": \"left\", \"font\": {\"color\": \"#000000\"}, \"showarrow\": false, \"text\": \"8.27\", \"x\": 2.55, \"xanchor\": \"left\", \"xref\": \"x\", \"y\": 17, \"yref\": \"y\"}, {\"align\": \"left\", \"font\": {\"color\": \"#000000\"}, \"showarrow\": false, \"text\": \"Burkina Faso\", \"x\": -0.45, \"xanchor\": \"left\", \"xref\": \"x\", \"y\": 18, \"yref\": \"y\"}, {\"align\": \"left\", \"font\": {\"color\": \"#000000\"}, \"showarrow\": false, \"text\": \"279912\", \"x\": 0.55, \"xanchor\": \"left\", \"xref\": \"x\", \"y\": 18, \"yref\": \"y\"}, {\"align\": \"left\", \"font\": {\"color\": \"#000000\"}, \"showarrow\": false, \"text\": \"12.71\", \"x\": 1.55, \"xanchor\": \"left\", \"xref\": \"x\", \"y\": 18, \"yref\": \"y\"}, {\"align\": \"left\", \"font\": {\"color\": \"#000000\"}, \"showarrow\": false, \"text\": \"8.67\", \"x\": 2.55, \"xanchor\": \"left\", \"xref\": \"x\", \"y\": 18, \"yref\": \"y\"}, {\"align\": \"left\", \"font\": {\"color\": \"#000000\"}, \"showarrow\": false, \"text\": \"Bangladesh\", \"x\": -0.45, \"xanchor\": \"left\", \"xref\": \"x\", \"y\": 19, \"yref\": \"y\"}, {\"align\": \"left\", \"font\": {\"color\": \"#000000\"}, \"showarrow\": false, \"text\": \"10293011\", \"x\": 0.55, \"xanchor\": \"left\", \"xref\": \"x\", \"y\": 19, \"yref\": \"y\"}, {\"align\": \"left\", \"font\": {\"color\": \"#000000\"}, \"showarrow\": false, \"text\": \"11.16\", \"x\": 1.55, \"xanchor\": \"left\", \"xref\": \"x\", \"y\": 19, \"yref\": \"y\"}, {\"align\": \"left\", \"font\": {\"color\": \"#000000\"}, \"showarrow\": false, \"text\": \"14.02\", \"x\": 2.55, \"xanchor\": \"left\", \"xref\": \"x\", \"y\": 19, \"yref\": \"y\"}, {\"align\": \"left\", \"font\": {\"color\": \"#000000\"}, \"showarrow\": false, \"text\": \"Bulgaria\", \"x\": -0.45, \"xanchor\": \"left\", \"xref\": \"x\", \"y\": 20, \"yref\": \"y\"}, {\"align\": \"left\", \"font\": {\"color\": \"#000000\"}, \"showarrow\": false, \"text\": \"10379067\", \"x\": 0.55, \"xanchor\": \"left\", \"xref\": \"x\", \"y\": 20, \"yref\": \"y\"}, {\"align\": \"left\", \"font\": {\"color\": \"#000000\"}, \"showarrow\": false, \"text\": \"10.38\", \"x\": 1.55, \"xanchor\": \"left\", \"xref\": \"x\", \"y\": 20, \"yref\": \"y\"}, {\"align\": \"left\", \"font\": {\"color\": \"#000000\"}, \"showarrow\": false, \"text\": \"10.27\", \"x\": 2.55, \"xanchor\": \"left\", \"xref\": \"x\", \"y\": 20, \"yref\": \"y\"}, {\"align\": \"left\", \"font\": {\"color\": \"#000000\"}, \"showarrow\": false, \"text\": \"Bahrain\", \"x\": -0.45, \"xanchor\": \"left\", \"xref\": \"x\", \"y\": 21, \"yref\": \"y\"}, {\"align\": \"left\", \"font\": {\"color\": \"#000000\"}, \"showarrow\": false, \"text\": \"287730\", \"x\": 0.55, \"xanchor\": \"left\", \"xref\": \"x\", \"y\": 21, \"yref\": \"y\"}, {\"align\": \"left\", \"font\": {\"color\": \"#000000\"}, \"showarrow\": false, \"text\": \"28.84\", \"x\": 1.55, \"xanchor\": \"left\", \"xref\": \"x\", \"y\": 21, \"yref\": \"y\"}, {\"align\": \"left\", \"font\": {\"color\": \"#000000\"}, \"showarrow\": false, \"text\": \"5.72\", \"x\": 2.55, \"xanchor\": \"left\", \"xref\": \"x\", \"y\": 21, \"yref\": \"y\"}, {\"align\": \"left\", \"font\": {\"color\": \"#000000\"}, \"showarrow\": false, \"text\": \"Bahamas, The\", \"x\": -0.45, \"xanchor\": \"left\", \"xref\": \"x\", \"y\": 22, \"yref\": \"y\"}, {\"align\": \"left\", \"font\": {\"color\": \"#000000\"}, \"showarrow\": false, \"text\": \"7862944\", \"x\": 0.55, \"xanchor\": \"left\", \"xref\": \"x\", \"y\": 22, \"yref\": \"y\"}, {\"align\": \"left\", \"font\": {\"color\": \"#000000\"}, \"showarrow\": false, \"text\": \"38.85\", \"x\": 1.55, \"xanchor\": \"left\", \"xref\": \"x\", \"y\": 22, \"yref\": \"y\"}, {\"align\": \"left\", \"font\": {\"color\": \"#000000\"}, \"showarrow\": false, \"text\": \"12.22\", \"x\": 2.55, \"xanchor\": \"left\", \"xref\": \"x\", \"y\": 22, \"yref\": \"y\"}, {\"align\": \"left\", \"font\": {\"color\": \"#000000\"}, \"showarrow\": false, \"text\": \"Bosnia and Herzegovina\", \"x\": -0.45, \"xanchor\": \"left\", \"xref\": \"x\", \"y\": 23, \"yref\": \"y\"}, {\"align\": \"left\", \"font\": {\"color\": \"#000000\"}, \"showarrow\": false, \"text\": \"65773\", \"x\": 0.55, \"xanchor\": \"left\", \"xref\": \"x\", \"y\": 23, \"yref\": \"y\"}, {\"align\": \"left\", \"font\": {\"color\": \"#000000\"}, \"showarrow\": false, \"text\": \"11.4\", \"x\": 1.55, \"xanchor\": \"left\", \"xref\": \"x\", \"y\": 23, \"yref\": \"y\"}, {\"align\": \"left\", \"font\": {\"color\": \"#000000\"}, \"showarrow\": false, \"text\": \"7.74\", \"x\": 2.55, \"xanchor\": \"left\", \"xref\": \"x\", \"y\": 23, \"yref\": \"y\"}, {\"align\": \"left\", \"font\": {\"color\": \"#000000\"}, \"showarrow\": false, \"text\": \"Belarus\", \"x\": -0.45, \"xanchor\": \"left\", \"xref\": \"x\", \"y\": 24, \"yref\": \"y\"}, {\"align\": \"left\", \"font\": {\"color\": \"#000000\"}, \"showarrow\": false, \"text\": \"2279723\", \"x\": 0.55, \"xanchor\": \"left\", \"xref\": \"x\", \"y\": 24, \"yref\": \"y\"}, {\"align\": \"left\", \"font\": {\"color\": \"#000000\"}, \"showarrow\": false, \"text\": \"33.65\", \"x\": 1.55, \"xanchor\": \"left\", \"xref\": \"x\", \"y\": 24, \"yref\": \"y\"}, {\"align\": \"left\", \"font\": {\"color\": \"#000000\"}, \"showarrow\": false, \"text\": \"12.7\", \"x\": 2.55, \"xanchor\": \"left\", \"xref\": \"x\", \"y\": 24, \"yref\": \"y\"}, {\"align\": \"left\", \"font\": {\"color\": \"#000000\"}, \"showarrow\": false, \"text\": \"Belize\", \"x\": -0.45, \"xanchor\": \"left\", \"xref\": \"x\", \"y\": 25, \"yref\": \"y\"}, {\"align\": \"left\", \"font\": {\"color\": \"#000000\"}, \"showarrow\": false, \"text\": \"8989046\", \"x\": 0.55, \"xanchor\": \"left\", \"xref\": \"x\", \"y\": 25, \"yref\": \"y\"}, {\"align\": \"left\", \"font\": {\"color\": \"#000000\"}, \"showarrow\": false, \"text\": \"23.3\", \"x\": 1.55, \"xanchor\": \"left\", \"xref\": \"x\", \"y\": 25, \"yref\": \"y\"}, {\"align\": \"left\", \"font\": {\"color\": \"#000000\"}, \"showarrow\": false, \"text\": \"7.53\", \"x\": 2.55, \"xanchor\": \"left\", \"xref\": \"x\", \"y\": 25, \"yref\": \"y\"}, {\"align\": \"left\", \"font\": {\"color\": \"#000000\"}, \"showarrow\": false, \"text\": \"Bermuda\", \"x\": -0.45, \"xanchor\": \"left\", \"xref\": \"x\", \"y\": 26, \"yref\": \"y\"}, {\"align\": \"left\", \"font\": {\"color\": \"#000000\"}, \"showarrow\": false, \"text\": \"4498976\", \"x\": 0.55, \"xanchor\": \"left\", \"xref\": \"x\", \"y\": 26, \"yref\": \"y\"}, {\"align\": \"left\", \"font\": {\"color\": \"#000000\"}, \"showarrow\": false, \"text\": \"8.77\", \"x\": 1.55, \"xanchor\": \"left\", \"xref\": \"x\", \"y\": 26, \"yref\": \"y\"}, {\"align\": \"left\", \"font\": {\"color\": \"#000000\"}, \"showarrow\": false, \"text\": \"8.27\", \"x\": 2.55, \"xanchor\": \"left\", \"xref\": \"x\", \"y\": 26, \"yref\": \"y\"}, {\"align\": \"left\", \"font\": {\"color\": \"#000000\"}, \"showarrow\": false, \"text\": \"Bolivia\", \"x\": -0.45, \"xanchor\": \"left\", \"xref\": \"x\", \"y\": 27, \"yref\": \"y\"}, {\"align\": \"left\", \"font\": {\"color\": \"#000000\"}, \"showarrow\": false, \"text\": \"1639833\", \"x\": 0.55, \"xanchor\": \"left\", \"xref\": \"x\", \"y\": 27, \"yref\": \"y\"}, {\"align\": \"left\", \"font\": {\"color\": \"#000000\"}, \"showarrow\": false, \"text\": \"23.08\", \"x\": 1.55, \"xanchor\": \"left\", \"xref\": \"x\", \"y\": 27, \"yref\": \"y\"}, {\"align\": \"left\", \"font\": {\"color\": \"#000000\"}, \"showarrow\": false, \"text\": \"29.5\", \"x\": 2.55, \"xanchor\": \"left\", \"xref\": \"x\", \"y\": 27, \"yref\": \"y\"}, {\"align\": \"left\", \"font\": {\"color\": \"#000000\"}, \"showarrow\": false, \"text\": \"Brazil\", \"x\": -0.45, \"xanchor\": \"left\", \"xref\": \"x\", \"y\": 28, \"yref\": \"y\"}, {\"align\": \"left\", \"font\": {\"color\": \"#000000\"}, \"showarrow\": false, \"text\": \"188078227\", \"x\": 0.55, \"xanchor\": \"left\", \"xref\": \"x\", \"y\": 28, \"yref\": \"y\"}, {\"align\": \"left\", \"font\": {\"color\": \"#000000\"}, \"showarrow\": false, \"text\": \"16.56\", \"x\": 1.55, \"xanchor\": \"left\", \"xref\": \"x\", \"y\": 28, \"yref\": \"y\"}, {\"align\": \"left\", \"font\": {\"color\": \"#000000\"}, \"showarrow\": false, \"text\": \"6.17\", \"x\": 2.55, \"xanchor\": \"left\", \"xref\": \"x\", \"y\": 28, \"yref\": \"y\"}, {\"align\": \"left\", \"font\": {\"color\": \"#000000\"}, \"showarrow\": false, \"text\": \"Barbados\", \"x\": -0.45, \"xanchor\": \"left\", \"xref\": \"x\", \"y\": 29, \"yref\": \"y\"}, {\"align\": \"left\", \"font\": {\"color\": \"#000000\"}, \"showarrow\": false, \"text\": \"23098\", \"x\": 0.55, \"xanchor\": \"left\", \"xref\": \"x\", \"y\": 29, \"yref\": \"y\"}, {\"align\": \"left\", \"font\": {\"color\": \"#000000\"}, \"showarrow\": false, \"text\": \"14.89\", \"x\": 1.55, \"xanchor\": \"left\", \"xref\": \"x\", \"y\": 29, \"yref\": \"y\"}, {\"align\": \"left\", \"font\": {\"color\": \"#000000\"}, \"showarrow\": false, \"text\": \"4.42\", \"x\": 2.55, \"xanchor\": \"left\", \"xref\": \"x\", \"y\": 29, \"yref\": \"y\"}, {\"align\": \"left\", \"font\": {\"color\": \"#000000\"}, \"showarrow\": false, \"text\": \"Brunei Darussalam\", \"x\": -0.45, \"xanchor\": \"left\", \"xref\": \"x\", \"y\": 30, \"yref\": \"y\"}, {\"align\": \"left\", \"font\": {\"color\": \"#000000\"}, \"showarrow\": false, \"text\": \"379444\", \"x\": 0.55, \"xanchor\": \"left\", \"xref\": \"x\", \"y\": 30, \"yref\": \"y\"}, {\"align\": \"left\", \"font\": {\"color\": \"#000000\"}, \"showarrow\": false, \"text\": \"18.79\", \"x\": 1.55, \"xanchor\": \"left\", \"xref\": \"x\", \"y\": 30, \"yref\": \"y\"}, {\"align\": \"left\", \"font\": {\"color\": \"#000000\"}, \"showarrow\": false, \"text\": \"3.45\", \"x\": 2.55, \"xanchor\": \"left\", \"xref\": \"x\", \"y\": 30, \"yref\": \"y\"}, {\"align\": \"left\", \"font\": {\"color\": \"#000000\"}, \"showarrow\": false, \"text\": \"Bhutan\", \"x\": -0.45, \"xanchor\": \"left\", \"xref\": \"x\", \"y\": 31, \"yref\": \"y\"}, {\"align\": \"left\", \"font\": {\"color\": \"#000000\"}, \"showarrow\": false, \"text\": \"7385367\", \"x\": 0.55, \"xanchor\": \"left\", \"xref\": \"x\", \"y\": 31, \"yref\": \"y\"}, {\"align\": \"left\", \"font\": {\"color\": \"#000000\"}, \"showarrow\": false, \"text\": \"9.65\", \"x\": 1.55, \"xanchor\": \"left\", \"xref\": \"x\", \"y\": 31, \"yref\": \"y\"}, {\"align\": \"left\", \"font\": {\"color\": \"#000000\"}, \"showarrow\": false, \"text\": \"14.27\", \"x\": 2.55, \"xanchor\": \"left\", \"xref\": \"x\", \"y\": 31, \"yref\": \"y\"}, {\"align\": \"left\", \"font\": {\"color\": \"#000000\"}, \"showarrow\": false, \"text\": \"Botswana\", \"x\": -0.45, \"xanchor\": \"left\", \"xref\": \"x\", \"y\": 32, \"yref\": \"y\"}, {\"align\": \"left\", \"font\": {\"color\": \"#000000\"}, \"showarrow\": false, \"text\": \"13902972\", \"x\": 0.55, \"xanchor\": \"left\", \"xref\": \"x\", \"y\": 32, \"yref\": \"y\"}, {\"align\": \"left\", \"font\": {\"color\": \"#000000\"}, \"showarrow\": false, \"text\": \"45.62\", \"x\": 1.55, \"xanchor\": \"left\", \"xref\": \"x\", \"y\": 32, \"yref\": \"y\"}, {\"align\": \"left\", \"font\": {\"color\": \"#000000\"}, \"showarrow\": false, \"text\": \"15.6\", \"x\": 2.55, \"xanchor\": \"left\", \"xref\": \"x\", \"y\": 32, \"yref\": \"y\"}, {\"align\": \"left\", \"font\": {\"color\": \"#000000\"}, \"showarrow\": false, \"text\": \"Central African Republic\", \"x\": -0.45, \"xanchor\": \"left\", \"xref\": \"x\", \"y\": 33, \"yref\": \"y\"}, {\"align\": \"left\", \"font\": {\"color\": \"#000000\"}, \"showarrow\": false, \"text\": \"47382633\", \"x\": 0.55, \"xanchor\": \"left\", \"xref\": \"x\", \"y\": 33, \"yref\": \"y\"}, {\"align\": \"left\", \"font\": {\"color\": \"#000000\"}, \"showarrow\": false, \"text\": \"17.91\", \"x\": 1.55, \"xanchor\": \"left\", \"xref\": \"x\", \"y\": 33, \"yref\": \"y\"}, {\"align\": \"left\", \"font\": {\"color\": \"#000000\"}, \"showarrow\": false, \"text\": \"9.83\", \"x\": 2.55, \"xanchor\": \"left\", \"xref\": \"x\", \"y\": 33, \"yref\": \"y\"}, {\"align\": \"left\", \"font\": {\"color\": \"#000000\"}, \"showarrow\": false, \"text\": \"Canada\", \"x\": -0.45, \"xanchor\": \"left\", \"xref\": \"x\", \"y\": 34, \"yref\": \"y\"}, {\"align\": \"left\", \"font\": {\"color\": \"#000000\"}, \"showarrow\": false, \"text\": \"8090068\", \"x\": 0.55, \"xanchor\": \"left\", \"xref\": \"x\", \"y\": 34, \"yref\": \"y\"}, {\"align\": \"left\", \"font\": {\"color\": \"#000000\"}, \"showarrow\": false, \"text\": \"42.22\", \"x\": 1.55, \"xanchor\": \"left\", \"xref\": \"x\", \"y\": 34, \"yref\": \"y\"}, {\"align\": \"left\", \"font\": {\"color\": \"#000000\"}, \"showarrow\": false, \"text\": \"13.46\", \"x\": 2.55, \"xanchor\": \"left\", \"xref\": \"x\", \"y\": 34, \"yref\": \"y\"}, {\"align\": \"left\", \"font\": {\"color\": \"#000000\"}, \"showarrow\": false, \"text\": \"Central Europe and the Baltics\", \"x\": -0.45, \"xanchor\": \"left\", \"xref\": \"x\", \"y\": 35, \"yref\": \"y\"}, {\"align\": \"left\", \"font\": {\"color\": \"#000000\"}, \"showarrow\": false, \"text\": \"13881427\", \"x\": 0.55, \"xanchor\": \"left\", \"xref\": \"x\", \"y\": 35, \"yref\": \"y\"}, {\"align\": \"left\", \"font\": {\"color\": \"#000000\"}, \"showarrow\": false, \"text\": \"26.9\", \"x\": 1.55, \"xanchor\": \"left\", \"xref\": \"x\", \"y\": 35, \"yref\": \"y\"}, {\"align\": \"left\", \"font\": {\"color\": \"#000000\"}, \"showarrow\": false, \"text\": \"9.06\", \"x\": 2.55, \"xanchor\": \"left\", \"xref\": \"x\", \"y\": 35, \"yref\": \"y\"}, {\"align\": \"left\", \"font\": {\"color\": \"#000000\"}, \"showarrow\": false, \"text\": \"Switzerland\", \"x\": -0.45, \"xanchor\": \"left\", \"xref\": \"x\", \"y\": 36, \"yref\": \"y\"}, {\"align\": \"left\", \"font\": {\"color\": \"#000000\"}, \"showarrow\": false, \"text\": \"17340702\", \"x\": 0.55, \"xanchor\": \"left\", \"xref\": \"x\", \"y\": 36, \"yref\": \"y\"}, {\"align\": \"left\", \"font\": {\"color\": \"#000000\"}, \"showarrow\": false, \"text\": \"33.89\", \"x\": 1.55, \"xanchor\": \"left\", \"xref\": \"x\", \"y\": 36, \"yref\": \"y\"}, {\"align\": \"left\", \"font\": {\"color\": \"#000000\"}, \"showarrow\": false, \"text\": \"13.47\", \"x\": 2.55, \"xanchor\": \"left\", \"xref\": \"x\", \"y\": 36, \"yref\": \"y\"}, {\"align\": \"left\", \"font\": {\"color\": \"#000000\"}, \"showarrow\": false, \"text\": \"Channel Islands\", \"x\": -0.45, \"xanchor\": \"left\", \"xref\": \"x\", \"y\": 37, \"yref\": \"y\"}, {\"align\": \"left\", \"font\": {\"color\": \"#000000\"}, \"showarrow\": false, \"text\": \"33098932\", \"x\": 0.55, \"xanchor\": \"left\", \"xref\": \"x\", \"y\": 37, \"yref\": \"y\"}, {\"align\": \"left\", \"font\": {\"color\": \"#000000\"}, \"showarrow\": false, \"text\": \"10.78\", \"x\": 1.55, \"xanchor\": \"left\", \"xref\": \"x\", \"y\": 37, \"yref\": \"y\"}, {\"align\": \"left\", \"font\": {\"color\": \"#000000\"}, \"showarrow\": false, \"text\": \"7.8\", \"x\": 2.55, \"xanchor\": \"left\", \"xref\": \"x\", \"y\": 37, \"yref\": \"y\"}, {\"align\": \"left\", \"font\": {\"color\": \"#000000\"}, \"showarrow\": false, \"text\": \"Chile\", \"x\": -0.45, \"xanchor\": \"left\", \"xref\": \"x\", \"y\": 38, \"yref\": \"y\"}, {\"align\": \"left\", \"font\": {\"color\": \"#000000\"}, \"showarrow\": false, \"text\": \"420979\", \"x\": 0.55, \"xanchor\": \"left\", \"xref\": \"x\", \"y\": 38, \"yref\": \"y\"}, {\"align\": \"left\", \"font\": {\"color\": \"#000000\"}, \"showarrow\": false, \"text\": \"24.87\", \"x\": 1.55, \"xanchor\": \"left\", \"xref\": \"x\", \"y\": 38, \"yref\": \"y\"}, {\"align\": \"left\", \"font\": {\"color\": \"#000000\"}, \"showarrow\": false, \"text\": \"6.55\", \"x\": 2.55, \"xanchor\": \"left\", \"xref\": \"x\", \"y\": 38, \"yref\": \"y\"}, {\"align\": \"left\", \"font\": {\"color\": \"#000000\"}, \"showarrow\": false, \"text\": \"China\", \"x\": -0.45, \"xanchor\": \"left\", \"xref\": \"x\", \"y\": 39, \"yref\": \"y\"}, {\"align\": \"left\", \"font\": {\"color\": \"#000000\"}, \"showarrow\": false, \"text\": \"45436\", \"x\": 0.55, \"xanchor\": \"left\", \"xref\": \"x\", \"y\": 39, \"yref\": \"y\"}, {\"align\": \"left\", \"font\": {\"color\": \"#000000\"}, \"showarrow\": false, \"text\": \"12.74\", \"x\": 1.55, \"xanchor\": \"left\", \"xref\": \"x\", \"y\": 39, \"yref\": \"y\"}, {\"align\": \"left\", \"font\": {\"color\": \"#000000\"}, \"showarrow\": false, \"text\": \"4.89\", \"x\": 2.55, \"xanchor\": \"left\", \"xref\": \"x\", \"y\": 39, \"yref\": \"y\"}, {\"align\": \"left\", \"font\": {\"color\": \"#000000\"}, \"showarrow\": false, \"text\": \"Cote d'Ivoire\", \"x\": -0.45, \"xanchor\": \"left\", \"xref\": \"x\", \"y\": 40, \"yref\": \"y\"}, {\"align\": \"left\", \"font\": {\"color\": \"#000000\"}, \"showarrow\": false, \"text\": \"4303356\", \"x\": 0.55, \"xanchor\": \"left\", \"xref\": \"x\", \"y\": 40, \"yref\": \"y\"}, {\"align\": \"left\", \"font\": {\"color\": \"#000000\"}, \"showarrow\": false, \"text\": \"33.91\", \"x\": 1.55, \"xanchor\": \"left\", \"xref\": \"x\", \"y\": 40, \"yref\": \"y\"}, {\"align\": \"left\", \"font\": {\"color\": \"#000000\"}, \"showarrow\": false, \"text\": \"18.65\", \"x\": 2.55, \"xanchor\": \"left\", \"xref\": \"x\", \"y\": 40, \"yref\": \"y\"}, {\"align\": \"left\", \"font\": {\"color\": \"#000000\"}, \"showarrow\": false, \"text\": \"Cameroon\", \"x\": -0.45, \"xanchor\": \"left\", \"xref\": \"x\", \"y\": 41, \"yref\": \"y\"}, {\"align\": \"left\", \"font\": {\"color\": \"#000000\"}, \"showarrow\": false, \"text\": \"9944201\", \"x\": 0.55, \"xanchor\": \"left\", \"xref\": \"x\", \"y\": 41, \"yref\": \"y\"}, {\"align\": \"left\", \"font\": {\"color\": \"#000000\"}, \"showarrow\": false, \"text\": \"45.73\", \"x\": 1.55, \"xanchor\": \"left\", \"xref\": \"x\", \"y\": 41, \"yref\": \"y\"}, {\"align\": \"left\", \"font\": {\"color\": \"#000000\"}, \"showarrow\": false, \"text\": \"16.38\", \"x\": 2.55, \"xanchor\": \"left\", \"xref\": \"x\", \"y\": 41, \"yref\": \"y\"}, {\"align\": \"left\", \"font\": {\"color\": \"#000000\"}, \"showarrow\": false, \"text\": \"Congo, Dem. Rep.\", \"x\": -0.45, \"xanchor\": \"left\", \"xref\": \"x\", \"y\": 42, \"yref\": \"y\"}, {\"align\": \"left\", \"font\": {\"color\": \"#000000\"}, \"showarrow\": false, \"text\": \"16134219\", \"x\": 0.55, \"xanchor\": \"left\", \"xref\": \"x\", \"y\": 42, \"yref\": \"y\"}, {\"align\": \"left\", \"font\": {\"color\": \"#000000\"}, \"showarrow\": false, \"text\": \"15.23\", \"x\": 1.55, \"xanchor\": \"left\", \"xref\": \"x\", \"y\": 42, \"yref\": \"y\"}, {\"align\": \"left\", \"font\": {\"color\": \"#000000\"}, \"showarrow\": false, \"text\": \"5.81\", \"x\": 2.55, \"xanchor\": \"left\", \"xref\": \"x\", \"y\": 42, \"yref\": \"y\"}, {\"align\": \"left\", \"font\": {\"color\": \"#000000\"}, \"showarrow\": false, \"text\": \"Congo, Rep.\", \"x\": -0.45, \"xanchor\": \"left\", \"xref\": \"x\", \"y\": 43, \"yref\": \"y\"}, {\"align\": \"left\", \"font\": {\"color\": \"#000000\"}, \"showarrow\": false, \"text\": \"1313973713\", \"x\": 0.55, \"xanchor\": \"left\", \"xref\": \"x\", \"y\": 43, \"yref\": \"y\"}, {\"align\": \"left\", \"font\": {\"color\": \"#000000\"}, \"showarrow\": false, \"text\": \"13.25\", \"x\": 1.55, \"xanchor\": \"left\", \"xref\": \"x\", \"y\": 43, \"yref\": \"y\"}, {\"align\": \"left\", \"font\": {\"color\": \"#000000\"}, \"showarrow\": false, \"text\": \"6.97\", \"x\": 2.55, \"xanchor\": \"left\", \"xref\": \"x\", \"y\": 43, \"yref\": \"y\"}, {\"align\": \"left\", \"font\": {\"color\": \"#000000\"}, \"showarrow\": false, \"text\": \"Colombia\", \"x\": -0.45, \"xanchor\": \"left\", \"xref\": \"x\", \"y\": 44, \"yref\": \"y\"}, {\"align\": \"left\", \"font\": {\"color\": \"#000000\"}, \"showarrow\": false, \"text\": \"43593035\", \"x\": 0.55, \"xanchor\": \"left\", \"xref\": \"x\", \"y\": 44, \"yref\": \"y\"}, {\"align\": \"left\", \"font\": {\"color\": \"#000000\"}, \"showarrow\": false, \"text\": \"20.48\", \"x\": 1.55, \"xanchor\": \"left\", \"xref\": \"x\", \"y\": 44, \"yref\": \"y\"}, {\"align\": \"left\", \"font\": {\"color\": \"#000000\"}, \"showarrow\": false, \"text\": \"5.58\", \"x\": 2.55, \"xanchor\": \"left\", \"xref\": \"x\", \"y\": 44, \"yref\": \"y\"}, {\"align\": \"left\", \"font\": {\"color\": \"#000000\"}, \"showarrow\": false, \"text\": \"Comoros\", \"x\": -0.45, \"xanchor\": \"left\", \"xref\": \"x\", \"y\": 45, \"yref\": \"y\"}, {\"align\": \"left\", \"font\": {\"color\": \"#000000\"}, \"showarrow\": false, \"text\": \"690948\", \"x\": 0.55, \"xanchor\": \"left\", \"xref\": \"x\", \"y\": 45, \"yref\": \"y\"}, {\"align\": \"left\", \"font\": {\"color\": \"#000000\"}, \"showarrow\": false, \"text\": \"36.93\", \"x\": 1.55, \"xanchor\": \"left\", \"xref\": \"x\", \"y\": 45, \"yref\": \"y\"}, {\"align\": \"left\", \"font\": {\"color\": \"#000000\"}, \"showarrow\": false, \"text\": \"8.2\", \"x\": 2.55, \"xanchor\": \"left\", \"xref\": \"x\", \"y\": 45, \"yref\": \"y\"}, {\"align\": \"left\", \"font\": {\"color\": \"#000000\"}, \"showarrow\": false, \"text\": \"Cabo Verde\", \"x\": -0.45, \"xanchor\": \"left\", \"xref\": \"x\", \"y\": 46, \"yref\": \"y\"}, {\"align\": \"left\", \"font\": {\"color\": \"#000000\"}, \"showarrow\": false, \"text\": \"62660551\", \"x\": 0.55, \"xanchor\": \"left\", \"xref\": \"x\", \"y\": 46, \"yref\": \"y\"}, {\"align\": \"left\", \"font\": {\"color\": \"#000000\"}, \"showarrow\": false, \"text\": \"43.69\", \"x\": 1.55, \"xanchor\": \"left\", \"xref\": \"x\", \"y\": 46, \"yref\": \"y\"}, {\"align\": \"left\", \"font\": {\"color\": \"#000000\"}, \"showarrow\": false, \"text\": \"13.27\", \"x\": 2.55, \"xanchor\": \"left\", \"xref\": \"x\", \"y\": 46, \"yref\": \"y\"}, {\"align\": \"left\", \"font\": {\"color\": \"#000000\"}, \"showarrow\": false, \"text\": \"Costa Rica\", \"x\": -0.45, \"xanchor\": \"left\", \"xref\": \"x\", \"y\": 47, \"yref\": \"y\"}, {\"align\": \"left\", \"font\": {\"color\": \"#000000\"}, \"showarrow\": false, \"text\": \"3702314\", \"x\": 0.55, \"xanchor\": \"left\", \"xref\": \"x\", \"y\": 47, \"yref\": \"y\"}, {\"align\": \"left\", \"font\": {\"color\": \"#000000\"}, \"showarrow\": false, \"text\": \"42.57\", \"x\": 1.55, \"xanchor\": \"left\", \"xref\": \"x\", \"y\": 47, \"yref\": \"y\"}, {\"align\": \"left\", \"font\": {\"color\": \"#000000\"}, \"showarrow\": false, \"text\": \"12.93\", \"x\": 2.55, \"xanchor\": \"left\", \"xref\": \"x\", \"y\": 47, \"yref\": \"y\"}, {\"align\": \"left\", \"font\": {\"color\": \"#000000\"}, \"showarrow\": false, \"text\": \"Caribbean small states\", \"x\": -0.45, \"xanchor\": \"left\", \"xref\": \"x\", \"y\": 48, \"yref\": \"y\"}, {\"align\": \"left\", \"font\": {\"color\": \"#000000\"}, \"showarrow\": false, \"text\": \"21388\", \"x\": 0.55, \"xanchor\": \"left\", \"xref\": \"x\", \"y\": 48, \"yref\": \"y\"}, {\"align\": \"left\", \"font\": {\"color\": \"#000000\"}, \"showarrow\": false, \"text\": \"21.0\", \"x\": 1.55, \"xanchor\": \"left\", \"xref\": \"x\", \"y\": 48, \"yref\": \"y\"}, {\"align\": \"left\", \"font\": {\"color\": \"#000000\"}, \"showarrow\": false, \"text\": \"nan\", \"x\": 2.55, \"xanchor\": \"left\", \"xref\": \"x\", \"y\": 48, \"yref\": \"y\"}, {\"align\": \"left\", \"font\": {\"color\": \"#000000\"}, \"showarrow\": false, \"text\": \"Cuba\", \"x\": -0.45, \"xanchor\": \"left\", \"xref\": \"x\", \"y\": 49, \"yref\": \"y\"}, {\"align\": \"left\", \"font\": {\"color\": \"#000000\"}, \"showarrow\": false, \"text\": \"4075261\", \"x\": 0.55, \"xanchor\": \"left\", \"xref\": \"x\", \"y\": 49, \"yref\": \"y\"}, {\"align\": \"left\", \"font\": {\"color\": \"#000000\"}, \"showarrow\": false, \"text\": \"18.32\", \"x\": 1.55, \"xanchor\": \"left\", \"xref\": \"x\", \"y\": 49, \"yref\": \"y\"}, {\"align\": \"left\", \"font\": {\"color\": \"#000000\"}, \"showarrow\": false, \"text\": \"4.36\", \"x\": 2.55, \"xanchor\": \"left\", \"xref\": \"x\", \"y\": 49, \"yref\": \"y\"}, {\"align\": \"left\", \"font\": {\"color\": \"#000000\"}, \"showarrow\": false, \"text\": \"Curacao\", \"x\": -0.45, \"xanchor\": \"left\", \"xref\": \"x\", \"y\": 50, \"yref\": \"y\"}, {\"align\": \"left\", \"font\": {\"color\": \"#000000\"}, \"showarrow\": false, \"text\": \"17654843\", \"x\": 0.55, \"xanchor\": \"left\", \"xref\": \"x\", \"y\": 50, \"yref\": \"y\"}, {\"align\": \"left\", \"font\": {\"color\": \"#000000\"}, \"showarrow\": false, \"text\": \"35.11\", \"x\": 1.55, \"xanchor\": \"left\", \"xref\": \"x\", \"y\": 50, \"yref\": \"y\"}, {\"align\": \"left\", \"font\": {\"color\": \"#000000\"}, \"showarrow\": false, \"text\": \"14.84\", \"x\": 2.55, \"xanchor\": \"left\", \"xref\": \"x\", \"y\": 50, \"yref\": \"y\"}, {\"align\": \"left\", \"font\": {\"color\": \"#000000\"}, \"showarrow\": false, \"text\": \"Cayman Islands\", \"x\": -0.45, \"xanchor\": \"left\", \"xref\": \"x\", \"y\": 51, \"yref\": \"y\"}, {\"align\": \"left\", \"font\": {\"color\": \"#000000\"}, \"showarrow\": false, \"text\": \"4494749\", \"x\": 0.55, \"xanchor\": \"left\", \"xref\": \"x\", \"y\": 51, \"yref\": \"y\"}, {\"align\": \"left\", \"font\": {\"color\": \"#000000\"}, \"showarrow\": false, \"text\": \"9.61\", \"x\": 1.55, \"xanchor\": \"left\", \"xref\": \"x\", \"y\": 51, \"yref\": \"y\"}, {\"align\": \"left\", \"font\": {\"color\": \"#000000\"}, \"showarrow\": false, \"text\": \"11.48\", \"x\": 2.55, \"xanchor\": \"left\", \"xref\": \"x\", \"y\": 51, \"yref\": \"y\"}, {\"align\": \"left\", \"font\": {\"color\": \"#000000\"}, \"showarrow\": false, \"text\": \"Cyprus\", \"x\": -0.45, \"xanchor\": \"left\", \"xref\": \"x\", \"y\": 52, \"yref\": \"y\"}, {\"align\": \"left\", \"font\": {\"color\": \"#000000\"}, \"showarrow\": false, \"text\": \"11382820\", \"x\": 0.55, \"xanchor\": \"left\", \"xref\": \"x\", \"y\": 52, \"yref\": \"y\"}, {\"align\": \"left\", \"font\": {\"color\": \"#000000\"}, \"showarrow\": false, \"text\": \"11.89\", \"x\": 1.55, \"xanchor\": \"left\", \"xref\": \"x\", \"y\": 52, \"yref\": \"y\"}, {\"align\": \"left\", \"font\": {\"color\": \"#000000\"}, \"showarrow\": false, \"text\": \"7.22\", \"x\": 2.55, \"xanchor\": \"left\", \"xref\": \"x\", \"y\": 52, \"yref\": \"y\"}, {\"align\": \"left\", \"font\": {\"color\": \"#000000\"}, \"showarrow\": false, \"text\": \"Czech Republic\", \"x\": -0.45, \"xanchor\": \"left\", \"xref\": \"x\", \"y\": 53, \"yref\": \"y\"}, {\"align\": \"left\", \"font\": {\"color\": \"#000000\"}, \"showarrow\": false, \"text\": \"784301\", \"x\": 0.55, \"xanchor\": \"left\", \"xref\": \"x\", \"y\": 53, \"yref\": \"y\"}, {\"align\": \"left\", \"font\": {\"color\": \"#000000\"}, \"showarrow\": false, \"text\": \"12.56\", \"x\": 1.55, \"xanchor\": \"left\", \"xref\": \"x\", \"y\": 53, \"yref\": \"y\"}, {\"align\": \"left\", \"font\": {\"color\": \"#000000\"}, \"showarrow\": false, \"text\": \"7.68\", \"x\": 2.55, \"xanchor\": \"left\", \"xref\": \"x\", \"y\": 53, \"yref\": \"y\"}, {\"align\": \"left\", \"font\": {\"color\": \"#000000\"}, \"showarrow\": false, \"text\": \"Germany\", \"x\": -0.45, \"xanchor\": \"left\", \"xref\": \"x\", \"y\": 54, \"yref\": \"y\"}, {\"align\": \"left\", \"font\": {\"color\": \"#000000\"}, \"showarrow\": false, \"text\": \"10235455\", \"x\": 0.55, \"xanchor\": \"left\", \"xref\": \"x\", \"y\": 54, \"yref\": \"y\"}, {\"align\": \"left\", \"font\": {\"color\": \"#000000\"}, \"showarrow\": false, \"text\": \"9.02\", \"x\": 1.55, \"xanchor\": \"left\", \"xref\": \"x\", \"y\": 54, \"yref\": \"y\"}, {\"align\": \"left\", \"font\": {\"color\": \"#000000\"}, \"showarrow\": false, \"text\": \"10.59\", \"x\": 2.55, \"xanchor\": \"left\", \"xref\": \"x\", \"y\": 54, \"yref\": \"y\"}, {\"align\": \"left\", \"font\": {\"color\": \"#000000\"}, \"showarrow\": false, \"text\": \"Djibouti\", \"x\": -0.45, \"xanchor\": \"left\", \"xref\": \"x\", \"y\": 55, \"yref\": \"y\"}, {\"align\": \"left\", \"font\": {\"color\": \"#000000\"}, \"showarrow\": false, \"text\": \"5450661\", \"x\": 0.55, \"xanchor\": \"left\", \"xref\": \"x\", \"y\": 55, \"yref\": \"y\"}, {\"align\": \"left\", \"font\": {\"color\": \"#000000\"}, \"showarrow\": false, \"text\": \"11.13\", \"x\": 1.55, \"xanchor\": \"left\", \"xref\": \"x\", \"y\": 55, \"yref\": \"y\"}, {\"align\": \"left\", \"font\": {\"color\": \"#000000\"}, \"showarrow\": false, \"text\": \"10.36\", \"x\": 2.55, \"xanchor\": \"left\", \"xref\": \"x\", \"y\": 55, \"yref\": \"y\"}, {\"align\": \"left\", \"font\": {\"color\": \"#000000\"}, \"showarrow\": false, \"text\": \"Dominica\", \"x\": -0.45, \"xanchor\": \"left\", \"xref\": \"x\", \"y\": 56, \"yref\": \"y\"}, {\"align\": \"left\", \"font\": {\"color\": \"#000000\"}, \"showarrow\": false, \"text\": \"486530\", \"x\": 0.55, \"xanchor\": \"left\", \"xref\": \"x\", \"y\": 56, \"yref\": \"y\"}, {\"align\": \"left\", \"font\": {\"color\": \"#000000\"}, \"showarrow\": false, \"text\": \"39.53\", \"x\": 1.55, \"xanchor\": \"left\", \"xref\": \"x\", \"y\": 56, \"yref\": \"y\"}, {\"align\": \"left\", \"font\": {\"color\": \"#000000\"}, \"showarrow\": false, \"text\": \"19.31\", \"x\": 2.55, \"xanchor\": \"left\", \"xref\": \"x\", \"y\": 56, \"yref\": \"y\"}, {\"align\": \"left\", \"font\": {\"color\": \"#000000\"}, \"showarrow\": false, \"text\": \"Denmark\", \"x\": -0.45, \"xanchor\": \"left\", \"xref\": \"x\", \"y\": 57, \"yref\": \"y\"}, {\"align\": \"left\", \"font\": {\"color\": \"#000000\"}, \"showarrow\": false, \"text\": \"68910\", \"x\": 0.55, \"xanchor\": \"left\", \"xref\": \"x\", \"y\": 57, \"yref\": \"y\"}, {\"align\": \"left\", \"font\": {\"color\": \"#000000\"}, \"showarrow\": false, \"text\": \"15.27\", \"x\": 1.55, \"xanchor\": \"left\", \"xref\": \"x\", \"y\": 57, \"yref\": \"y\"}, {\"align\": \"left\", \"font\": {\"color\": \"#000000\"}, \"showarrow\": false, \"text\": \"6.73\", \"x\": 2.55, \"xanchor\": \"left\", \"xref\": \"x\", \"y\": 57, \"yref\": \"y\"}, {\"align\": \"left\", \"font\": {\"color\": \"#000000\"}, \"showarrow\": false, \"text\": \"Dominican Republic\", \"x\": -0.45, \"xanchor\": \"left\", \"xref\": \"x\", \"y\": 58, \"yref\": \"y\"}, {\"align\": \"left\", \"font\": {\"color\": \"#000000\"}, \"showarrow\": false, \"text\": \"9183984\", \"x\": 0.55, \"xanchor\": \"left\", \"xref\": \"x\", \"y\": 58, \"yref\": \"y\"}, {\"align\": \"left\", \"font\": {\"color\": \"#000000\"}, \"showarrow\": false, \"text\": \"23.22\", \"x\": 1.55, \"xanchor\": \"left\", \"xref\": \"x\", \"y\": 58, \"yref\": \"y\"}, {\"align\": \"left\", \"font\": {\"color\": \"#000000\"}, \"showarrow\": false, \"text\": \"5.73\", \"x\": 2.55, \"xanchor\": \"left\", \"xref\": \"x\", \"y\": 58, \"yref\": \"y\"}, {\"align\": \"left\", \"font\": {\"color\": \"#000000\"}, \"showarrow\": false, \"text\": \"Algeria\", \"x\": -0.45, \"xanchor\": \"left\", \"xref\": \"x\", \"y\": 59, \"yref\": \"y\"}, {\"align\": \"left\", \"font\": {\"color\": \"#000000\"}, \"showarrow\": false, \"text\": \"1062777\", \"x\": 0.55, \"xanchor\": \"left\", \"xref\": \"x\", \"y\": 59, \"yref\": \"y\"}, {\"align\": \"left\", \"font\": {\"color\": \"#000000\"}, \"showarrow\": false, \"text\": \"26.99\", \"x\": 1.55, \"xanchor\": \"left\", \"xref\": \"x\", \"y\": 59, \"yref\": \"y\"}, {\"align\": \"left\", \"font\": {\"color\": \"#000000\"}, \"showarrow\": false, \"text\": \"6.24\", \"x\": 2.55, \"xanchor\": \"left\", \"xref\": \"x\", \"y\": 59, \"yref\": \"y\"}, {\"align\": \"left\", \"font\": {\"color\": \"#000000\"}, \"showarrow\": false, \"text\": \"East Asia & Pacific (excluding high income)\", \"x\": -0.45, \"xanchor\": \"left\", \"xref\": \"x\", \"y\": 60, \"yref\": \"y\"}, {\"align\": \"left\", \"font\": {\"color\": \"#000000\"}, \"showarrow\": false, \"text\": \"13547510\", \"x\": 0.55, \"xanchor\": \"left\", \"xref\": \"x\", \"y\": 60, \"yref\": \"y\"}, {\"align\": \"left\", \"font\": {\"color\": \"#000000\"}, \"showarrow\": false, \"text\": \"22.29\", \"x\": 1.55, \"xanchor\": \"left\", \"xref\": \"x\", \"y\": 60, \"yref\": \"y\"}, {\"align\": \"left\", \"font\": {\"color\": \"#000000\"}, \"showarrow\": false, \"text\": \"4.23\", \"x\": 2.55, \"xanchor\": \"left\", \"xref\": \"x\", \"y\": 60, \"yref\": \"y\"}, {\"align\": \"left\", \"font\": {\"color\": \"#000000\"}, \"showarrow\": false, \"text\": \"Early-demographic dividend\", \"x\": -0.45, \"xanchor\": \"left\", \"xref\": \"x\", \"y\": 61, \"yref\": \"y\"}, {\"align\": \"left\", \"font\": {\"color\": \"#000000\"}, \"showarrow\": false, \"text\": \"78887007\", \"x\": 0.55, \"xanchor\": \"left\", \"xref\": \"x\", \"y\": 61, \"yref\": \"y\"}, {\"align\": \"left\", \"font\": {\"color\": \"#000000\"}, \"showarrow\": false, \"text\": \"22.94\", \"x\": 1.55, \"xanchor\": \"left\", \"xref\": \"x\", \"y\": 61, \"yref\": \"y\"}, {\"align\": \"left\", \"font\": {\"color\": \"#000000\"}, \"showarrow\": false, \"text\": \"5.23\", \"x\": 2.55, \"xanchor\": \"left\", \"xref\": \"x\", \"y\": 61, \"yref\": \"y\"}, {\"align\": \"left\", \"font\": {\"color\": \"#000000\"}, \"showarrow\": false, \"text\": \"East Asia & Pacific\", \"x\": -0.45, \"xanchor\": \"left\", \"xref\": \"x\", \"y\": 62, \"yref\": \"y\"}, {\"align\": \"left\", \"font\": {\"color\": \"#000000\"}, \"showarrow\": false, \"text\": \"6822378\", \"x\": 0.55, \"xanchor\": \"left\", \"xref\": \"x\", \"y\": 62, \"yref\": \"y\"}, {\"align\": \"left\", \"font\": {\"color\": \"#000000\"}, \"showarrow\": false, \"text\": \"26.61\", \"x\": 1.55, \"xanchor\": \"left\", \"xref\": \"x\", \"y\": 62, \"yref\": \"y\"}, {\"align\": \"left\", \"font\": {\"color\": \"#000000\"}, \"showarrow\": false, \"text\": \"5.78\", \"x\": 2.55, \"xanchor\": \"left\", \"xref\": \"x\", \"y\": 62, \"yref\": \"y\"}, {\"align\": \"left\", \"font\": {\"color\": \"#000000\"}, \"showarrow\": false, \"text\": \"Europe & Central Asia (excluding high income)\", \"x\": -0.45, \"xanchor\": \"left\", \"xref\": \"x\", \"y\": 63, \"yref\": \"y\"}, {\"align\": \"left\", \"font\": {\"color\": \"#000000\"}, \"showarrow\": false, \"text\": \"540109\", \"x\": 0.55, \"xanchor\": \"left\", \"xref\": \"x\", \"y\": 63, \"yref\": \"y\"}, {\"align\": \"left\", \"font\": {\"color\": \"#000000\"}, \"showarrow\": false, \"text\": \"35.59\", \"x\": 1.55, \"xanchor\": \"left\", \"xref\": \"x\", \"y\": 63, \"yref\": \"y\"}, {\"align\": \"left\", \"font\": {\"color\": \"#000000\"}, \"showarrow\": false, \"text\": \"15.06\", \"x\": 2.55, \"xanchor\": \"left\", \"xref\": \"x\", \"y\": 63, \"yref\": \"y\"}, {\"align\": \"left\", \"font\": {\"color\": \"#000000\"}, \"showarrow\": false, \"text\": \"Europe & Central Asia\", \"x\": -0.45, \"xanchor\": \"left\", \"xref\": \"x\", \"y\": 64, \"yref\": \"y\"}, {\"align\": \"left\", \"font\": {\"color\": \"#000000\"}, \"showarrow\": false, \"text\": \"4786994\", \"x\": 0.55, \"xanchor\": \"left\", \"xref\": \"x\", \"y\": 64, \"yref\": \"y\"}, {\"align\": \"left\", \"font\": {\"color\": \"#000000\"}, \"showarrow\": false, \"text\": \"34.33\", \"x\": 1.55, \"xanchor\": \"left\", \"xref\": \"x\", \"y\": 64, \"yref\": \"y\"}, {\"align\": \"left\", \"font\": {\"color\": \"#000000\"}, \"showarrow\": false, \"text\": \"9.6\", \"x\": 2.55, \"xanchor\": \"left\", \"xref\": \"x\", \"y\": 64, \"yref\": \"y\"}, {\"align\": \"left\", \"font\": {\"color\": \"#000000\"}, \"showarrow\": false, \"text\": \"Ecuador\", \"x\": -0.45, \"xanchor\": \"left\", \"xref\": \"x\", \"y\": 65, \"yref\": \"y\"}, {\"align\": \"left\", \"font\": {\"color\": \"#000000\"}, \"showarrow\": false, \"text\": \"1324333\", \"x\": 0.55, \"xanchor\": \"left\", \"xref\": \"x\", \"y\": 65, \"yref\": \"y\"}, {\"align\": \"left\", \"font\": {\"color\": \"#000000\"}, \"showarrow\": false, \"text\": \"10.04\", \"x\": 1.55, \"xanchor\": \"left\", \"xref\": \"x\", \"y\": 65, \"yref\": \"y\"}, {\"align\": \"left\", \"font\": {\"color\": \"#000000\"}, \"showarrow\": false, \"text\": \"13.25\", \"x\": 2.55, \"xanchor\": \"left\", \"xref\": \"x\", \"y\": 65, \"yref\": \"y\"}, {\"align\": \"left\", \"font\": {\"color\": \"#000000\"}, \"showarrow\": false, \"text\": \"Egypt, Arab Rep.\", \"x\": -0.45, \"xanchor\": \"left\", \"xref\": \"x\", \"y\": 66, \"yref\": \"y\"}, {\"align\": \"left\", \"font\": {\"color\": \"#000000\"}, \"showarrow\": false, \"text\": \"74777981\", \"x\": 0.55, \"xanchor\": \"left\", \"xref\": \"x\", \"y\": 66, \"yref\": \"y\"}, {\"align\": \"left\", \"font\": {\"color\": \"#000000\"}, \"showarrow\": false, \"text\": \"37.98\", \"x\": 1.55, \"xanchor\": \"left\", \"xref\": \"x\", \"y\": 66, \"yref\": \"y\"}, {\"align\": \"left\", \"font\": {\"color\": \"#000000\"}, \"showarrow\": false, \"text\": \"14.86\", \"x\": 2.55, \"xanchor\": \"left\", \"xref\": \"x\", \"y\": 66, \"yref\": \"y\"}, {\"align\": \"left\", \"font\": {\"color\": \"#000000\"}, \"showarrow\": false, \"text\": \"Euro area\", \"x\": -0.45, \"xanchor\": \"left\", \"xref\": \"x\", \"y\": 67, \"yref\": \"y\"}, {\"align\": \"left\", \"font\": {\"color\": \"#000000\"}, \"showarrow\": false, \"text\": \"47246\", \"x\": 0.55, \"xanchor\": \"left\", \"xref\": \"x\", \"y\": 67, \"yref\": \"y\"}, {\"align\": \"left\", \"font\": {\"color\": \"#000000\"}, \"showarrow\": false, \"text\": \"14.05\", \"x\": 1.55, \"xanchor\": \"left\", \"xref\": \"x\", \"y\": 67, \"yref\": \"y\"}, {\"align\": \"left\", \"font\": {\"color\": \"#000000\"}, \"showarrow\": false, \"text\": \"8.7\", \"x\": 2.55, \"xanchor\": \"left\", \"xref\": \"x\", \"y\": 67, \"yref\": \"y\"}, {\"align\": \"left\", \"font\": {\"color\": \"#000000\"}, \"showarrow\": false, \"text\": \"Eritrea\", \"x\": -0.45, \"xanchor\": \"left\", \"xref\": \"x\", \"y\": 68, \"yref\": \"y\"}, {\"align\": \"left\", \"font\": {\"color\": \"#000000\"}, \"showarrow\": false, \"text\": \"905949\", \"x\": 0.55, \"xanchor\": \"left\", \"xref\": \"x\", \"y\": 68, \"yref\": \"y\"}, {\"align\": \"left\", \"font\": {\"color\": \"#000000\"}, \"showarrow\": false, \"text\": \"22.55\", \"x\": 1.55, \"xanchor\": \"left\", \"xref\": \"x\", \"y\": 68, \"yref\": \"y\"}, {\"align\": \"left\", \"font\": {\"color\": \"#000000\"}, \"showarrow\": false, \"text\": \"5.65\", \"x\": 2.55, \"xanchor\": \"left\", \"xref\": \"x\", \"y\": 68, \"yref\": \"y\"}, {\"align\": \"left\", \"font\": {\"color\": \"#000000\"}, \"showarrow\": false, \"text\": \"Spain\", \"x\": -0.45, \"xanchor\": \"left\", \"xref\": \"x\", \"y\": 69, \"yref\": \"y\"}, {\"align\": \"left\", \"font\": {\"color\": \"#000000\"}, \"showarrow\": false, \"text\": \"5231372\", \"x\": 0.55, \"xanchor\": \"left\", \"xref\": \"x\", \"y\": 69, \"yref\": \"y\"}, {\"align\": \"left\", \"font\": {\"color\": \"#000000\"}, \"showarrow\": false, \"text\": \"10.45\", \"x\": 1.55, \"xanchor\": \"left\", \"xref\": \"x\", \"y\": 69, \"yref\": \"y\"}, {\"align\": \"left\", \"font\": {\"color\": \"#000000\"}, \"showarrow\": false, \"text\": \"9.86\", \"x\": 2.55, \"xanchor\": \"left\", \"xref\": \"x\", \"y\": 69, \"yref\": \"y\"}, {\"align\": \"left\", \"font\": {\"color\": \"#000000\"}, \"showarrow\": false, \"text\": \"Estonia\", \"x\": -0.45, \"xanchor\": \"left\", \"xref\": \"x\", \"y\": 70, \"yref\": \"y\"}, {\"align\": \"left\", \"font\": {\"color\": \"#000000\"}, \"showarrow\": false, \"text\": \"60876136\", \"x\": 0.55, \"xanchor\": \"left\", \"xref\": \"x\", \"y\": 70, \"yref\": \"y\"}, {\"align\": \"left\", \"font\": {\"color\": \"#000000\"}, \"showarrow\": false, \"text\": \"11.99\", \"x\": 1.55, \"xanchor\": \"left\", \"xref\": \"x\", \"y\": 70, \"yref\": \"y\"}, {\"align\": \"left\", \"font\": {\"color\": \"#000000\"}, \"showarrow\": false, \"text\": \"9.14\", \"x\": 2.55, \"xanchor\": \"left\", \"xref\": \"x\", \"y\": 70, \"yref\": \"y\"}, {\"align\": \"left\", \"font\": {\"color\": \"#000000\"}, \"showarrow\": false, \"text\": \"Ethiopia\", \"x\": -0.45, \"xanchor\": \"left\", \"xref\": \"x\", \"y\": 71, \"yref\": \"y\"}, {\"align\": \"left\", \"font\": {\"color\": \"#000000\"}, \"showarrow\": false, \"text\": \"199509\", \"x\": 0.55, \"xanchor\": \"left\", \"xref\": \"x\", \"y\": 71, \"yref\": \"y\"}, {\"align\": \"left\", \"font\": {\"color\": \"#000000\"}, \"showarrow\": false, \"text\": \"20.46\", \"x\": 1.55, \"xanchor\": \"left\", \"xref\": \"x\", \"y\": 71, \"yref\": \"y\"}, {\"align\": \"left\", \"font\": {\"color\": \"#000000\"}, \"showarrow\": false, \"text\": \"4.88\", \"x\": 2.55, \"xanchor\": \"left\", \"xref\": \"x\", \"y\": 71, \"yref\": \"y\"}, {\"align\": \"left\", \"font\": {\"color\": \"#000000\"}, \"showarrow\": false, \"text\": \"European Union\", \"x\": -0.45, \"xanchor\": \"left\", \"xref\": \"x\", \"y\": 72, \"yref\": \"y\"}, {\"align\": \"left\", \"font\": {\"color\": \"#000000\"}, \"showarrow\": false, \"text\": \"274578\", \"x\": 0.55, \"xanchor\": \"left\", \"xref\": \"x\", \"y\": 72, \"yref\": \"y\"}, {\"align\": \"left\", \"font\": {\"color\": \"#000000\"}, \"showarrow\": false, \"text\": \"16.68\", \"x\": 1.55, \"xanchor\": \"left\", \"xref\": \"x\", \"y\": 72, \"yref\": \"y\"}, {\"align\": \"left\", \"font\": {\"color\": \"#000000\"}, \"showarrow\": false, \"text\": \"4.69\", \"x\": 2.55, \"xanchor\": \"left\", \"xref\": \"x\", \"y\": 72, \"yref\": \"y\"}, {\"align\": \"left\", \"font\": {\"color\": \"#000000\"}, \"showarrow\": false, \"text\": \"Fragile and conflict affected situations\", \"x\": -0.45, \"xanchor\": \"left\", \"xref\": \"x\", \"y\": 73, \"yref\": \"y\"}, {\"align\": \"left\", \"font\": {\"color\": \"#000000\"}, \"showarrow\": false, \"text\": \"1424906\", \"x\": 0.55, \"xanchor\": \"left\", \"xref\": \"x\", \"y\": 73, \"yref\": \"y\"}, {\"align\": \"left\", \"font\": {\"color\": \"#000000\"}, \"showarrow\": false, \"text\": \"36.16\", \"x\": 1.55, \"xanchor\": \"left\", \"xref\": \"x\", \"y\": 73, \"yref\": \"y\"}, {\"align\": \"left\", \"font\": {\"color\": \"#000000\"}, \"showarrow\": false, \"text\": \"12.25\", \"x\": 2.55, \"xanchor\": \"left\", \"xref\": \"x\", \"y\": 73, \"yref\": \"y\"}, {\"align\": \"left\", \"font\": {\"color\": \"#000000\"}, \"showarrow\": false, \"text\": \"Finland\", \"x\": -0.45, \"xanchor\": \"left\", \"xref\": \"x\", \"y\": 74, \"yref\": \"y\"}, {\"align\": \"left\", \"font\": {\"color\": \"#000000\"}, \"showarrow\": false, \"text\": \"1641564\", \"x\": 0.55, \"xanchor\": \"left\", \"xref\": \"x\", \"y\": 74, \"yref\": \"y\"}, {\"align\": \"left\", \"font\": {\"color\": \"#000000\"}, \"showarrow\": false, \"text\": \"39.37\", \"x\": 1.55, \"xanchor\": \"left\", \"xref\": \"x\", \"y\": 74, \"yref\": \"y\"}, {\"align\": \"left\", \"font\": {\"color\": \"#000000\"}, \"showarrow\": false, \"text\": \"12.25\", \"x\": 2.55, \"xanchor\": \"left\", \"xref\": \"x\", \"y\": 74, \"yref\": \"y\"}, {\"align\": \"left\", \"font\": {\"color\": \"#000000\"}, \"showarrow\": false, \"text\": \"Fiji\", \"x\": -0.45, \"xanchor\": \"left\", \"xref\": \"x\", \"y\": 75, \"yref\": \"y\"}, {\"align\": \"left\", \"font\": {\"color\": \"#000000\"}, \"showarrow\": false, \"text\": \"1428757\", \"x\": 0.55, \"xanchor\": \"left\", \"xref\": \"x\", \"y\": 75, \"yref\": \"y\"}, {\"align\": \"left\", \"font\": {\"color\": \"#000000\"}, \"showarrow\": false, \"text\": \"39.45\", \"x\": 1.55, \"xanchor\": \"left\", \"xref\": \"x\", \"y\": 75, \"yref\": \"y\"}, {\"align\": \"left\", \"font\": {\"color\": \"#000000\"}, \"showarrow\": false, \"text\": \"3.8\", \"x\": 2.55, \"xanchor\": \"left\", \"xref\": \"x\", \"y\": 75, \"yref\": \"y\"}, {\"align\": \"left\", \"font\": {\"color\": \"#000000\"}, \"showarrow\": false, \"text\": \"France\", \"x\": -0.45, \"xanchor\": \"left\", \"xref\": \"x\", \"y\": 76, \"yref\": \"y\"}, {\"align\": \"left\", \"font\": {\"color\": \"#000000\"}, \"showarrow\": false, \"text\": \"4661473\", \"x\": 0.55, \"xanchor\": \"left\", \"xref\": \"x\", \"y\": 76, \"yref\": \"y\"}, {\"align\": \"left\", \"font\": {\"color\": \"#000000\"}, \"showarrow\": false, \"text\": \"10.41\", \"x\": 1.55, \"xanchor\": \"left\", \"xref\": \"x\", \"y\": 76, \"yref\": \"y\"}, {\"align\": \"left\", \"font\": {\"color\": \"#000000\"}, \"showarrow\": false, \"text\": \"9.23\", \"x\": 2.55, \"xanchor\": \"left\", \"xref\": \"x\", \"y\": 76, \"yref\": \"y\"}, {\"align\": \"left\", \"font\": {\"color\": \"#000000\"}, \"showarrow\": false, \"text\": \"Faroe Islands\", \"x\": -0.45, \"xanchor\": \"left\", \"xref\": \"x\", \"y\": 77, \"yref\": \"y\"}, {\"align\": \"left\", \"font\": {\"color\": \"#000000\"}, \"showarrow\": false, \"text\": \"82422299\", \"x\": 0.55, \"xanchor\": \"left\", \"xref\": \"x\", \"y\": 77, \"yref\": \"y\"}, {\"align\": \"left\", \"font\": {\"color\": \"#000000\"}, \"showarrow\": false, \"text\": \"8.25\", \"x\": 1.55, \"xanchor\": \"left\", \"xref\": \"x\", \"y\": 77, \"yref\": \"y\"}, {\"align\": \"left\", \"font\": {\"color\": \"#000000\"}, \"showarrow\": false, \"text\": \"10.62\", \"x\": 2.55, \"xanchor\": \"left\", \"xref\": \"x\", \"y\": 77, \"yref\": \"y\"}, {\"align\": \"left\", \"font\": {\"color\": \"#000000\"}, \"showarrow\": false, \"text\": \"Micronesia, Fed. Sts.\", \"x\": -0.45, \"xanchor\": \"left\", \"xref\": \"x\", \"y\": 78, \"yref\": \"y\"}, {\"align\": \"left\", \"font\": {\"color\": \"#000000\"}, \"showarrow\": false, \"text\": \"22409572\", \"x\": 0.55, \"xanchor\": \"left\", \"xref\": \"x\", \"y\": 78, \"yref\": \"y\"}, {\"align\": \"left\", \"font\": {\"color\": \"#000000\"}, \"showarrow\": false, \"text\": \"30.52\", \"x\": 1.55, \"xanchor\": \"left\", \"xref\": \"x\", \"y\": 78, \"yref\": \"y\"}, {\"align\": \"left\", \"font\": {\"color\": \"#000000\"}, \"showarrow\": false, \"text\": \"9.72\", \"x\": 2.55, \"xanchor\": \"left\", \"xref\": \"x\", \"y\": 78, \"yref\": \"y\"}, {\"align\": \"left\", \"font\": {\"color\": \"#000000\"}, \"showarrow\": false, \"text\": \"Gabon\", \"x\": -0.45, \"xanchor\": \"left\", \"xref\": \"x\", \"y\": 79, \"yref\": \"y\"}, {\"align\": \"left\", \"font\": {\"color\": \"#000000\"}, \"showarrow\": false, \"text\": \"27928\", \"x\": 0.55, \"xanchor\": \"left\", \"xref\": \"x\", \"y\": 79, \"yref\": \"y\"}, {\"align\": \"left\", \"font\": {\"color\": \"#000000\"}, \"showarrow\": false, \"text\": \"10.74\", \"x\": 1.55, \"xanchor\": \"left\", \"xref\": \"x\", \"y\": 79, \"yref\": \"y\"}, {\"align\": \"left\", \"font\": {\"color\": \"#000000\"}, \"showarrow\": false, \"text\": \"9.31\", \"x\": 2.55, \"xanchor\": \"left\", \"xref\": \"x\", \"y\": 79, \"yref\": \"y\"}, {\"align\": \"left\", \"font\": {\"color\": \"#000000\"}, \"showarrow\": false, \"text\": \"United Kingdom\", \"x\": -0.45, \"xanchor\": \"left\", \"xref\": \"x\", \"y\": 80, \"yref\": \"y\"}, {\"align\": \"left\", \"font\": {\"color\": \"#000000\"}, \"showarrow\": false, \"text\": \"10688058\", \"x\": 0.55, \"xanchor\": \"left\", \"xref\": \"x\", \"y\": 80, \"yref\": \"y\"}, {\"align\": \"left\", \"font\": {\"color\": \"#000000\"}, \"showarrow\": false, \"text\": \"9.68\", \"x\": 1.55, \"xanchor\": \"left\", \"xref\": \"x\", \"y\": 80, \"yref\": \"y\"}, {\"align\": \"left\", \"font\": {\"color\": \"#000000\"}, \"showarrow\": false, \"text\": \"10.24\", \"x\": 2.55, \"xanchor\": \"left\", \"xref\": \"x\", \"y\": 80, \"yref\": \"y\"}, {\"align\": \"left\", \"font\": {\"color\": \"#000000\"}, \"showarrow\": false, \"text\": \"Georgia\", \"x\": -0.45, \"xanchor\": \"left\", \"xref\": \"x\", \"y\": 81, \"yref\": \"y\"}, {\"align\": \"left\", \"font\": {\"color\": \"#000000\"}, \"showarrow\": false, \"text\": \"56361\", \"x\": 0.55, \"xanchor\": \"left\", \"xref\": \"x\", \"y\": 81, \"yref\": \"y\"}, {\"align\": \"left\", \"font\": {\"color\": \"#000000\"}, \"showarrow\": false, \"text\": \"15.93\", \"x\": 1.55, \"xanchor\": \"left\", \"xref\": \"x\", \"y\": 81, \"yref\": \"y\"}, {\"align\": \"left\", \"font\": {\"color\": \"#000000\"}, \"showarrow\": false, \"text\": \"7.84\", \"x\": 2.55, \"xanchor\": \"left\", \"xref\": \"x\", \"y\": 81, \"yref\": \"y\"}, {\"align\": \"left\", \"font\": {\"color\": \"#000000\"}, \"showarrow\": false, \"text\": \"Ghana\", \"x\": -0.45, \"xanchor\": \"left\", \"xref\": \"x\", \"y\": 82, \"yref\": \"y\"}, {\"align\": \"left\", \"font\": {\"color\": \"#000000\"}, \"showarrow\": false, \"text\": \"89703\", \"x\": 0.55, \"xanchor\": \"left\", \"xref\": \"x\", \"y\": 82, \"yref\": \"y\"}, {\"align\": \"left\", \"font\": {\"color\": \"#000000\"}, \"showarrow\": false, \"text\": \"22.08\", \"x\": 1.55, \"xanchor\": \"left\", \"xref\": \"x\", \"y\": 82, \"yref\": \"y\"}, {\"align\": \"left\", \"font\": {\"color\": \"#000000\"}, \"showarrow\": false, \"text\": \"6.88\", \"x\": 2.55, \"xanchor\": \"left\", \"xref\": \"x\", \"y\": 82, \"yref\": \"y\"}, {\"align\": \"left\", \"font\": {\"color\": \"#000000\"}, \"showarrow\": false, \"text\": \"Gibraltar\", \"x\": -0.45, \"xanchor\": \"left\", \"xref\": \"x\", \"y\": 83, \"yref\": \"y\"}, {\"align\": \"left\", \"font\": {\"color\": \"#000000\"}, \"showarrow\": false, \"text\": \"452776\", \"x\": 0.55, \"xanchor\": \"left\", \"xref\": \"x\", \"y\": 83, \"yref\": \"y\"}, {\"align\": \"left\", \"font\": {\"color\": \"#000000\"}, \"showarrow\": false, \"text\": \"15.05\", \"x\": 1.55, \"xanchor\": \"left\", \"xref\": \"x\", \"y\": 83, \"yref\": \"y\"}, {\"align\": \"left\", \"font\": {\"color\": \"#000000\"}, \"showarrow\": false, \"text\": \"6.09\", \"x\": 2.55, \"xanchor\": \"left\", \"xref\": \"x\", \"y\": 83, \"yref\": \"y\"}, {\"align\": \"left\", \"font\": {\"color\": \"#000000\"}, \"showarrow\": false, \"text\": \"Guinea\", \"x\": -0.45, \"xanchor\": \"left\", \"xref\": \"x\", \"y\": 84, \"yref\": \"y\"}, {\"align\": \"left\", \"font\": {\"color\": \"#000000\"}, \"showarrow\": false, \"text\": \"171019\", \"x\": 0.55, \"xanchor\": \"left\", \"xref\": \"x\", \"y\": 84, \"yref\": \"y\"}, {\"align\": \"left\", \"font\": {\"color\": \"#000000\"}, \"showarrow\": false, \"text\": \"18.79\", \"x\": 1.55, \"xanchor\": \"left\", \"xref\": \"x\", \"y\": 84, \"yref\": \"y\"}, {\"align\": \"left\", \"font\": {\"color\": \"#000000\"}, \"showarrow\": false, \"text\": \"4.48\", \"x\": 2.55, \"xanchor\": \"left\", \"xref\": \"x\", \"y\": 84, \"yref\": \"y\"}, {\"align\": \"left\", \"font\": {\"color\": \"#000000\"}, \"showarrow\": false, \"text\": \"Gambia, The\", \"x\": -0.45, \"xanchor\": \"left\", \"xref\": \"x\", \"y\": 85, \"yref\": \"y\"}, {\"align\": \"left\", \"font\": {\"color\": \"#000000\"}, \"showarrow\": false, \"text\": \"12293545\", \"x\": 0.55, \"xanchor\": \"left\", \"xref\": \"x\", \"y\": 85, \"yref\": \"y\"}, {\"align\": \"left\", \"font\": {\"color\": \"#000000\"}, \"showarrow\": false, \"text\": \"29.88\", \"x\": 1.55, \"xanchor\": \"left\", \"xref\": \"x\", \"y\": 85, \"yref\": \"y\"}, {\"align\": \"left\", \"font\": {\"color\": \"#000000\"}, \"showarrow\": false, \"text\": \"5.2\", \"x\": 2.55, \"xanchor\": \"left\", \"xref\": \"x\", \"y\": 85, \"yref\": \"y\"}, {\"align\": \"left\", \"font\": {\"color\": \"#000000\"}, \"showarrow\": false, \"text\": \"Guinea-Bissau\", \"x\": -0.45, \"xanchor\": \"left\", \"xref\": \"x\", \"y\": 86, \"yref\": \"y\"}, {\"align\": \"left\", \"font\": {\"color\": \"#000000\"}, \"showarrow\": false, \"text\": \"65409\", \"x\": 0.55, \"xanchor\": \"left\", \"xref\": \"x\", \"y\": 86, \"yref\": \"y\"}, {\"align\": \"left\", \"font\": {\"color\": \"#000000\"}, \"showarrow\": false, \"text\": \"8.81\", \"x\": 1.55, \"xanchor\": \"left\", \"xref\": \"x\", \"y\": 86, \"yref\": \"y\"}, {\"align\": \"left\", \"font\": {\"color\": \"#000000\"}, \"showarrow\": false, \"text\": \"10.01\", \"x\": 2.55, \"xanchor\": \"left\", \"xref\": \"x\", \"y\": 86, \"yref\": \"y\"}, {\"align\": \"left\", \"font\": {\"color\": \"#000000\"}, \"showarrow\": false, \"text\": \"Equatorial Guinea\", \"x\": -0.45, \"xanchor\": \"left\", \"xref\": \"x\", \"y\": 87, \"yref\": \"y\"}, {\"align\": \"left\", \"font\": {\"color\": \"#000000\"}, \"showarrow\": false, \"text\": \"9690222\", \"x\": 0.55, \"xanchor\": \"left\", \"xref\": \"x\", \"y\": 87, \"yref\": \"y\"}, {\"align\": \"left\", \"font\": {\"color\": \"#000000\"}, \"showarrow\": false, \"text\": \"41.76\", \"x\": 1.55, \"xanchor\": \"left\", \"xref\": \"x\", \"y\": 87, \"yref\": \"y\"}, {\"align\": \"left\", \"font\": {\"color\": \"#000000\"}, \"showarrow\": false, \"text\": \"15.48\", \"x\": 2.55, \"xanchor\": \"left\", \"xref\": \"x\", \"y\": 87, \"yref\": \"y\"}, {\"align\": \"left\", \"font\": {\"color\": \"#000000\"}, \"showarrow\": false, \"text\": \"Greece\", \"x\": -0.45, \"xanchor\": \"left\", \"xref\": \"x\", \"y\": 88, \"yref\": \"y\"}, {\"align\": \"left\", \"font\": {\"color\": \"#000000\"}, \"showarrow\": false, \"text\": \"1442029\", \"x\": 0.55, \"xanchor\": \"left\", \"xref\": \"x\", \"y\": 88, \"yref\": \"y\"}, {\"align\": \"left\", \"font\": {\"color\": \"#000000\"}, \"showarrow\": false, \"text\": \"37.22\", \"x\": 1.55, \"xanchor\": \"left\", \"xref\": \"x\", \"y\": 88, \"yref\": \"y\"}, {\"align\": \"left\", \"font\": {\"color\": \"#000000\"}, \"showarrow\": false, \"text\": \"16.53\", \"x\": 2.55, \"xanchor\": \"left\", \"xref\": \"x\", \"y\": 88, \"yref\": \"y\"}, {\"align\": \"left\", \"font\": {\"color\": \"#000000\"}, \"showarrow\": false, \"text\": \"Grenada\", \"x\": -0.45, \"xanchor\": \"left\", \"xref\": \"x\", \"y\": 89, \"yref\": \"y\"}, {\"align\": \"left\", \"font\": {\"color\": \"#000000\"}, \"showarrow\": false, \"text\": \"767245\", \"x\": 0.55, \"xanchor\": \"left\", \"xref\": \"x\", \"y\": 89, \"yref\": \"y\"}, {\"align\": \"left\", \"font\": {\"color\": \"#000000\"}, \"showarrow\": false, \"text\": \"18.28\", \"x\": 1.55, \"xanchor\": \"left\", \"xref\": \"x\", \"y\": 89, \"yref\": \"y\"}, {\"align\": \"left\", \"font\": {\"color\": \"#000000\"}, \"showarrow\": false, \"text\": \"8.28\", \"x\": 2.55, \"xanchor\": \"left\", \"xref\": \"x\", \"y\": 89, \"yref\": \"y\"}, {\"align\": \"left\", \"font\": {\"color\": \"#000000\"}, \"showarrow\": false, \"text\": \"Greenland\", \"x\": -0.45, \"xanchor\": \"left\", \"xref\": \"x\", \"y\": 90, \"yref\": \"y\"}, {\"align\": \"left\", \"font\": {\"color\": \"#000000\"}, \"showarrow\": false, \"text\": \"8308504\", \"x\": 0.55, \"xanchor\": \"left\", \"xref\": \"x\", \"y\": 90, \"yref\": \"y\"}, {\"align\": \"left\", \"font\": {\"color\": \"#000000\"}, \"showarrow\": false, \"text\": \"36.44\", \"x\": 1.55, \"xanchor\": \"left\", \"xref\": \"x\", \"y\": 90, \"yref\": \"y\"}, {\"align\": \"left\", \"font\": {\"color\": \"#000000\"}, \"showarrow\": false, \"text\": \"12.17\", \"x\": 2.55, \"xanchor\": \"left\", \"xref\": \"x\", \"y\": 90, \"yref\": \"y\"}, {\"align\": \"left\", \"font\": {\"color\": \"#000000\"}, \"showarrow\": false, \"text\": \"Guatemala\", \"x\": -0.45, \"xanchor\": \"left\", \"xref\": \"x\", \"y\": 91, \"yref\": \"y\"}, {\"align\": \"left\", \"font\": {\"color\": \"#000000\"}, \"showarrow\": false, \"text\": \"7326496\", \"x\": 0.55, \"xanchor\": \"left\", \"xref\": \"x\", \"y\": 91, \"yref\": \"y\"}, {\"align\": \"left\", \"font\": {\"color\": \"#000000\"}, \"showarrow\": false, \"text\": \"28.24\", \"x\": 1.55, \"xanchor\": \"left\", \"xref\": \"x\", \"y\": 91, \"yref\": \"y\"}, {\"align\": \"left\", \"font\": {\"color\": \"#000000\"}, \"showarrow\": false, \"text\": \"5.28\", \"x\": 2.55, \"xanchor\": \"left\", \"xref\": \"x\", \"y\": 91, \"yref\": \"y\"}, {\"align\": \"left\", \"font\": {\"color\": \"#000000\"}, \"showarrow\": false, \"text\": \"Guam\", \"x\": -0.45, \"xanchor\": \"left\", \"xref\": \"x\", \"y\": 92, \"yref\": \"y\"}, {\"align\": \"left\", \"font\": {\"color\": \"#000000\"}, \"showarrow\": false, \"text\": \"6940432\", \"x\": 0.55, \"xanchor\": \"left\", \"xref\": \"x\", \"y\": 92, \"yref\": \"y\"}, {\"align\": \"left\", \"font\": {\"color\": \"#000000\"}, \"showarrow\": false, \"text\": \"7.29\", \"x\": 1.55, \"xanchor\": \"left\", \"xref\": \"x\", \"y\": 92, \"yref\": \"y\"}, {\"align\": \"left\", \"font\": {\"color\": \"#000000\"}, \"showarrow\": false, \"text\": \"6.29\", \"x\": 2.55, \"xanchor\": \"left\", \"xref\": \"x\", \"y\": 92, \"yref\": \"y\"}, {\"align\": \"left\", \"font\": {\"color\": \"#000000\"}, \"showarrow\": false, \"text\": \"Guyana\", \"x\": -0.45, \"xanchor\": \"left\", \"xref\": \"x\", \"y\": 93, \"yref\": \"y\"}, {\"align\": \"left\", \"font\": {\"color\": \"#000000\"}, \"showarrow\": false, \"text\": \"9981334\", \"x\": 0.55, \"xanchor\": \"left\", \"xref\": \"x\", \"y\": 93, \"yref\": \"y\"}, {\"align\": \"left\", \"font\": {\"color\": \"#000000\"}, \"showarrow\": false, \"text\": \"9.72\", \"x\": 1.55, \"xanchor\": \"left\", \"xref\": \"x\", \"y\": 93, \"yref\": \"y\"}, {\"align\": \"left\", \"font\": {\"color\": \"#000000\"}, \"showarrow\": false, \"text\": \"13.11\", \"x\": 2.55, \"xanchor\": \"left\", \"xref\": \"x\", \"y\": 93, \"yref\": \"y\"}, {\"align\": \"left\", \"font\": {\"color\": \"#000000\"}, \"showarrow\": false, \"text\": \"High income\", \"x\": -0.45, \"xanchor\": \"left\", \"xref\": \"x\", \"y\": 94, \"yref\": \"y\"}, {\"align\": \"left\", \"font\": {\"color\": \"#000000\"}, \"showarrow\": false, \"text\": \"299388\", \"x\": 0.55, \"xanchor\": \"left\", \"xref\": \"x\", \"y\": 94, \"yref\": \"y\"}, {\"align\": \"left\", \"font\": {\"color\": \"#000000\"}, \"showarrow\": false, \"text\": \"13.64\", \"x\": 1.55, \"xanchor\": \"left\", \"xref\": \"x\", \"y\": 94, \"yref\": \"y\"}, {\"align\": \"left\", \"font\": {\"color\": \"#000000\"}, \"showarrow\": false, \"text\": \"6.72\", \"x\": 2.55, \"xanchor\": \"left\", \"xref\": \"x\", \"y\": 94, \"yref\": \"y\"}, {\"align\": \"left\", \"font\": {\"color\": \"#000000\"}, \"showarrow\": false, \"text\": \"Hong Kong SAR, China\", \"x\": -0.45, \"xanchor\": \"left\", \"xref\": \"x\", \"y\": 95, \"yref\": \"y\"}, {\"align\": \"left\", \"font\": {\"color\": \"#000000\"}, \"showarrow\": false, \"text\": \"1095351995\", \"x\": 0.55, \"xanchor\": \"left\", \"xref\": \"x\", \"y\": 95, \"yref\": \"y\"}, {\"align\": \"left\", \"font\": {\"color\": \"#000000\"}, \"showarrow\": false, \"text\": \"22.01\", \"x\": 1.55, \"xanchor\": \"left\", \"xref\": \"x\", \"y\": 95, \"yref\": \"y\"}, {\"align\": \"left\", \"font\": {\"color\": \"#000000\"}, \"showarrow\": false, \"text\": \"8.18\", \"x\": 2.55, \"xanchor\": \"left\", \"xref\": \"x\", \"y\": 95, \"yref\": \"y\"}, {\"align\": \"left\", \"font\": {\"color\": \"#000000\"}, \"showarrow\": false, \"text\": \"Honduras\", \"x\": -0.45, \"xanchor\": \"left\", \"xref\": \"x\", \"y\": 96, \"yref\": \"y\"}, {\"align\": \"left\", \"font\": {\"color\": \"#000000\"}, \"showarrow\": false, \"text\": \"245452739\", \"x\": 0.55, \"xanchor\": \"left\", \"xref\": \"x\", \"y\": 96, \"yref\": \"y\"}, {\"align\": \"left\", \"font\": {\"color\": \"#000000\"}, \"showarrow\": false, \"text\": \"20.34\", \"x\": 1.55, \"xanchor\": \"left\", \"xref\": \"x\", \"y\": 96, \"yref\": \"y\"}, {\"align\": \"left\", \"font\": {\"color\": \"#000000\"}, \"showarrow\": false, \"text\": \"6.25\", \"x\": 2.55, \"xanchor\": \"left\", \"xref\": \"x\", \"y\": 96, \"yref\": \"y\"}, {\"align\": \"left\", \"font\": {\"color\": \"#000000\"}, \"showarrow\": false, \"text\": \"Heavily indebted poor countries (HIPC)\", \"x\": -0.45, \"xanchor\": \"left\", \"xref\": \"x\", \"y\": 97, \"yref\": \"y\"}, {\"align\": \"left\", \"font\": {\"color\": \"#000000\"}, \"showarrow\": false, \"text\": \"68688433\", \"x\": 0.55, \"xanchor\": \"left\", \"xref\": \"x\", \"y\": 97, \"yref\": \"y\"}, {\"align\": \"left\", \"font\": {\"color\": \"#000000\"}, \"showarrow\": false, \"text\": \"17.0\", \"x\": 1.55, \"xanchor\": \"left\", \"xref\": \"x\", \"y\": 97, \"yref\": \"y\"}, {\"align\": \"left\", \"font\": {\"color\": \"#000000\"}, \"showarrow\": false, \"text\": \"5.55\", \"x\": 2.55, \"xanchor\": \"left\", \"xref\": \"x\", \"y\": 97, \"yref\": \"y\"}, {\"align\": \"left\", \"font\": {\"color\": \"#000000\"}, \"showarrow\": false, \"text\": \"Croatia\", \"x\": -0.45, \"xanchor\": \"left\", \"xref\": \"x\", \"y\": 98, \"yref\": \"y\"}, {\"align\": \"left\", \"font\": {\"color\": \"#000000\"}, \"showarrow\": false, \"text\": \"26783383\", \"x\": 0.55, \"xanchor\": \"left\", \"xref\": \"x\", \"y\": 98, \"yref\": \"y\"}, {\"align\": \"left\", \"font\": {\"color\": \"#000000\"}, \"showarrow\": false, \"text\": \"31.98\", \"x\": 1.55, \"xanchor\": \"left\", \"xref\": \"x\", \"y\": 98, \"yref\": \"y\"}, {\"align\": \"left\", \"font\": {\"color\": \"#000000\"}, \"showarrow\": false, \"text\": \"5.37\", \"x\": 2.55, \"xanchor\": \"left\", \"xref\": \"x\", \"y\": 98, \"yref\": \"y\"}, {\"align\": \"left\", \"font\": {\"color\": \"#000000\"}, \"showarrow\": false, \"text\": \"Haiti\", \"x\": -0.45, \"xanchor\": \"left\", \"xref\": \"x\", \"y\": 99, \"yref\": \"y\"}, {\"align\": \"left\", \"font\": {\"color\": \"#000000\"}, \"showarrow\": false, \"text\": \"4062235\", \"x\": 0.55, \"xanchor\": \"left\", \"xref\": \"x\", \"y\": 99, \"yref\": \"y\"}, {\"align\": \"left\", \"font\": {\"color\": \"#000000\"}, \"showarrow\": false, \"text\": \"14.45\", \"x\": 1.55, \"xanchor\": \"left\", \"xref\": \"x\", \"y\": 99, \"yref\": \"y\"}, {\"align\": \"left\", \"font\": {\"color\": \"#000000\"}, \"showarrow\": false, \"text\": \"7.82\", \"x\": 2.55, \"xanchor\": \"left\", \"xref\": \"x\", \"y\": 99, \"yref\": \"y\"}, {\"align\": \"left\", \"font\": {\"color\": \"#000000\"}, \"showarrow\": false, \"text\": \"Hungary\", \"x\": -0.45, \"xanchor\": \"left\", \"xref\": \"x\", \"y\": 100, \"yref\": \"y\"}, {\"align\": \"left\", \"font\": {\"color\": \"#000000\"}, \"showarrow\": false, \"text\": \"75441\", \"x\": 0.55, \"xanchor\": \"left\", \"xref\": \"x\", \"y\": 100, \"yref\": \"y\"}, {\"align\": \"left\", \"font\": {\"color\": \"#000000\"}, \"showarrow\": false, \"text\": \"11.05\", \"x\": 1.55, \"xanchor\": \"left\", \"xref\": \"x\", \"y\": 100, \"yref\": \"y\"}, {\"align\": \"left\", \"font\": {\"color\": \"#000000\"}, \"showarrow\": false, \"text\": \"11.19\", \"x\": 2.55, \"xanchor\": \"left\", \"xref\": \"x\", \"y\": 100, \"yref\": \"y\"}, {\"align\": \"left\", \"font\": {\"color\": \"#000000\"}, \"showarrow\": false, \"text\": \"IBRD only\", \"x\": -0.45, \"xanchor\": \"left\", \"xref\": \"x\", \"y\": 101, \"yref\": \"y\"}, {\"align\": \"left\", \"font\": {\"color\": \"#000000\"}, \"showarrow\": false, \"text\": \"6352117\", \"x\": 0.55, \"xanchor\": \"left\", \"xref\": \"x\", \"y\": 101, \"yref\": \"y\"}, {\"align\": \"left\", \"font\": {\"color\": \"#000000\"}, \"showarrow\": false, \"text\": \"17.97\", \"x\": 1.55, \"xanchor\": \"left\", \"xref\": \"x\", \"y\": 101, \"yref\": \"y\"}, {\"align\": \"left\", \"font\": {\"color\": \"#000000\"}, \"showarrow\": false, \"text\": \"6.18\", \"x\": 2.55, \"xanchor\": \"left\", \"xref\": \"x\", \"y\": 101, \"yref\": \"y\"}, {\"align\": \"left\", \"font\": {\"color\": \"#000000\"}, \"showarrow\": false, \"text\": \"IDA & IBRD total\", \"x\": -0.45, \"xanchor\": \"left\", \"xref\": \"x\", \"y\": 102, \"yref\": \"y\"}, {\"align\": \"left\", \"font\": {\"color\": \"#000000\"}, \"showarrow\": false, \"text\": \"58133509\", \"x\": 0.55, \"xanchor\": \"left\", \"xref\": \"x\", \"y\": 102, \"yref\": \"y\"}, {\"align\": \"left\", \"font\": {\"color\": \"#000000\"}, \"showarrow\": false, \"text\": \"8.72\", \"x\": 1.55, \"xanchor\": \"left\", \"xref\": \"x\", \"y\": 102, \"yref\": \"y\"}, {\"align\": \"left\", \"font\": {\"color\": \"#000000\"}, \"showarrow\": false, \"text\": \"10.4\", \"x\": 2.55, \"xanchor\": \"left\", \"xref\": \"x\", \"y\": 102, \"yref\": \"y\"}, {\"align\": \"left\", \"font\": {\"color\": \"#000000\"}, \"showarrow\": false, \"text\": \"IDA total\", \"x\": -0.45, \"xanchor\": \"left\", \"xref\": \"x\", \"y\": 103, \"yref\": \"y\"}, {\"align\": \"left\", \"font\": {\"color\": \"#000000\"}, \"showarrow\": false, \"text\": \"2758124\", \"x\": 0.55, \"xanchor\": \"left\", \"xref\": \"x\", \"y\": 103, \"yref\": \"y\"}, {\"align\": \"left\", \"font\": {\"color\": \"#000000\"}, \"showarrow\": false, \"text\": \"20.82\", \"x\": 1.55, \"xanchor\": \"left\", \"xref\": \"x\", \"y\": 103, \"yref\": \"y\"}, {\"align\": \"left\", \"font\": {\"color\": \"#000000\"}, \"showarrow\": false, \"text\": \"6.52\", \"x\": 2.55, \"xanchor\": \"left\", \"xref\": \"x\", \"y\": 103, \"yref\": \"y\"}, {\"align\": \"left\", \"font\": {\"color\": \"#000000\"}, \"showarrow\": false, \"text\": \"IDA blend\", \"x\": -0.45, \"xanchor\": \"left\", \"xref\": \"x\", \"y\": 104, \"yref\": \"y\"}, {\"align\": \"left\", \"font\": {\"color\": \"#000000\"}, \"showarrow\": false, \"text\": \"127463611\", \"x\": 0.55, \"xanchor\": \"left\", \"xref\": \"x\", \"y\": 104, \"yref\": \"y\"}, {\"align\": \"left\", \"font\": {\"color\": \"#000000\"}, \"showarrow\": false, \"text\": \"9.37\", \"x\": 1.55, \"xanchor\": \"left\", \"xref\": \"x\", \"y\": 104, \"yref\": \"y\"}, {\"align\": \"left\", \"font\": {\"color\": \"#000000\"}, \"showarrow\": false, \"text\": \"9.16\", \"x\": 2.55, \"xanchor\": \"left\", \"xref\": \"x\", \"y\": 104, \"yref\": \"y\"}, {\"align\": \"left\", \"font\": {\"color\": \"#000000\"}, \"showarrow\": false, \"text\": \"Indonesia\", \"x\": -0.45, \"xanchor\": \"left\", \"xref\": \"x\", \"y\": 105, \"yref\": \"y\"}, {\"align\": \"left\", \"font\": {\"color\": \"#000000\"}, \"showarrow\": false, \"text\": \"91084\", \"x\": 0.55, \"xanchor\": \"left\", \"xref\": \"x\", \"y\": 105, \"yref\": \"y\"}, {\"align\": \"left\", \"font\": {\"color\": \"#000000\"}, \"showarrow\": false, \"text\": \"9.3\", \"x\": 1.55, \"xanchor\": \"left\", \"xref\": \"x\", \"y\": 105, \"yref\": \"y\"}, {\"align\": \"left\", \"font\": {\"color\": \"#000000\"}, \"showarrow\": false, \"text\": \"9.28\", \"x\": 2.55, \"xanchor\": \"left\", \"xref\": \"x\", \"y\": 105, \"yref\": \"y\"}, {\"align\": \"left\", \"font\": {\"color\": \"#000000\"}, \"showarrow\": false, \"text\": \"IDA only\", \"x\": -0.45, \"xanchor\": \"left\", \"xref\": \"x\", \"y\": 106, \"yref\": \"y\"}, {\"align\": \"left\", \"font\": {\"color\": \"#000000\"}, \"showarrow\": false, \"text\": \"5906760\", \"x\": 0.55, \"xanchor\": \"left\", \"xref\": \"x\", \"y\": 106, \"yref\": \"y\"}, {\"align\": \"left\", \"font\": {\"color\": \"#000000\"}, \"showarrow\": false, \"text\": \"21.25\", \"x\": 1.55, \"xanchor\": \"left\", \"xref\": \"x\", \"y\": 106, \"yref\": \"y\"}, {\"align\": \"left\", \"font\": {\"color\": \"#000000\"}, \"showarrow\": false, \"text\": \"2.65\", \"x\": 2.55, \"xanchor\": \"left\", \"xref\": \"x\", \"y\": 106, \"yref\": \"y\"}, {\"align\": \"left\", \"font\": {\"color\": \"#000000\"}, \"showarrow\": false, \"text\": \"Isle of Man\", \"x\": -0.45, \"xanchor\": \"left\", \"xref\": \"x\", \"y\": 107, \"yref\": \"y\"}, {\"align\": \"left\", \"font\": {\"color\": \"#000000\"}, \"showarrow\": false, \"text\": \"15233244\", \"x\": 0.55, \"xanchor\": \"left\", \"xref\": \"x\", \"y\": 107, \"yref\": \"y\"}, {\"align\": \"left\", \"font\": {\"color\": \"#000000\"}, \"showarrow\": false, \"text\": \"16.0\", \"x\": 1.55, \"xanchor\": \"left\", \"xref\": \"x\", \"y\": 107, \"yref\": \"y\"}, {\"align\": \"left\", \"font\": {\"color\": \"#000000\"}, \"showarrow\": false, \"text\": \"9.42\", \"x\": 2.55, \"xanchor\": \"left\", \"xref\": \"x\", \"y\": 107, \"yref\": \"y\"}, {\"align\": \"left\", \"font\": {\"color\": \"#000000\"}, \"showarrow\": false, \"text\": \"India\", \"x\": -0.45, \"xanchor\": \"left\", \"xref\": \"x\", \"y\": 108, \"yref\": \"y\"}, {\"align\": \"left\", \"font\": {\"color\": \"#000000\"}, \"showarrow\": false, \"text\": \"34707817\", \"x\": 0.55, \"xanchor\": \"left\", \"xref\": \"x\", \"y\": 108, \"yref\": \"y\"}, {\"align\": \"left\", \"font\": {\"color\": \"#000000\"}, \"showarrow\": false, \"text\": \"39.72\", \"x\": 1.55, \"xanchor\": \"left\", \"xref\": \"x\", \"y\": 108, \"yref\": \"y\"}, {\"align\": \"left\", \"font\": {\"color\": \"#000000\"}, \"showarrow\": false, \"text\": \"14.02\", \"x\": 2.55, \"xanchor\": \"left\", \"xref\": \"x\", \"y\": 108, \"yref\": \"y\"}, {\"align\": \"left\", \"font\": {\"color\": \"#000000\"}, \"showarrow\": false, \"text\": \"Not classified\", \"x\": -0.45, \"xanchor\": \"left\", \"xref\": \"x\", \"y\": 109, \"yref\": \"y\"}, {\"align\": \"left\", \"font\": {\"color\": \"#000000\"}, \"showarrow\": false, \"text\": \"105432\", \"x\": 0.55, \"xanchor\": \"left\", \"xref\": \"x\", \"y\": 109, \"yref\": \"y\"}, {\"align\": \"left\", \"font\": {\"color\": \"#000000\"}, \"showarrow\": false, \"text\": \"30.65\", \"x\": 1.55, \"xanchor\": \"left\", \"xref\": \"x\", \"y\": 109, \"yref\": \"y\"}, {\"align\": \"left\", \"font\": {\"color\": \"#000000\"}, \"showarrow\": false, \"text\": \"8.26\", \"x\": 2.55, \"xanchor\": \"left\", \"xref\": \"x\", \"y\": 109, \"yref\": \"y\"}, {\"align\": \"left\", \"font\": {\"color\": \"#000000\"}, \"showarrow\": false, \"text\": \"Ireland\", \"x\": -0.45, \"xanchor\": \"left\", \"xref\": \"x\", \"y\": 110, \"yref\": \"y\"}, {\"align\": \"left\", \"font\": {\"color\": \"#000000\"}, \"showarrow\": false, \"text\": \"23113019\", \"x\": 0.55, \"xanchor\": \"left\", \"xref\": \"x\", \"y\": 110, \"yref\": \"y\"}, {\"align\": \"left\", \"font\": {\"color\": \"#000000\"}, \"showarrow\": false, \"text\": \"15.54\", \"x\": 1.55, \"xanchor\": \"left\", \"xref\": \"x\", \"y\": 110, \"yref\": \"y\"}, {\"align\": \"left\", \"font\": {\"color\": \"#000000\"}, \"showarrow\": false, \"text\": \"7.13\", \"x\": 2.55, \"xanchor\": \"left\", \"xref\": \"x\", \"y\": 110, \"yref\": \"y\"}, {\"align\": \"left\", \"font\": {\"color\": \"#000000\"}, \"showarrow\": false, \"text\": \"Iran, Islamic Rep.\", \"x\": -0.45, \"xanchor\": \"left\", \"xref\": \"x\", \"y\": 111, \"yref\": \"y\"}, {\"align\": \"left\", \"font\": {\"color\": \"#000000\"}, \"showarrow\": false, \"text\": \"48846823\", \"x\": 0.55, \"xanchor\": \"left\", \"xref\": \"x\", \"y\": 111, \"yref\": \"y\"}, {\"align\": \"left\", \"font\": {\"color\": \"#000000\"}, \"showarrow\": false, \"text\": \"10.0\", \"x\": 1.55, \"xanchor\": \"left\", \"xref\": \"x\", \"y\": 111, \"yref\": \"y\"}, {\"align\": \"left\", \"font\": {\"color\": \"#000000\"}, \"showarrow\": false, \"text\": \"5.85\", \"x\": 2.55, \"xanchor\": \"left\", \"xref\": \"x\", \"y\": 111, \"yref\": \"y\"}, {\"align\": \"left\", \"font\": {\"color\": \"#000000\"}, \"showarrow\": false, \"text\": \"Iraq\", \"x\": -0.45, \"xanchor\": \"left\", \"xref\": \"x\", \"y\": 112, \"yref\": \"y\"}, {\"align\": \"left\", \"font\": {\"color\": \"#000000\"}, \"showarrow\": false, \"text\": \"2418393\", \"x\": 0.55, \"xanchor\": \"left\", \"xref\": \"x\", \"y\": 112, \"yref\": \"y\"}, {\"align\": \"left\", \"font\": {\"color\": \"#000000\"}, \"showarrow\": false, \"text\": \"21.94\", \"x\": 1.55, \"xanchor\": \"left\", \"xref\": \"x\", \"y\": 112, \"yref\": \"y\"}, {\"align\": \"left\", \"font\": {\"color\": \"#000000\"}, \"showarrow\": false, \"text\": \"2.41\", \"x\": 2.55, \"xanchor\": \"left\", \"xref\": \"x\", \"y\": 112, \"yref\": \"y\"}, {\"align\": \"left\", \"font\": {\"color\": \"#000000\"}, \"showarrow\": false, \"text\": \"Iceland\", \"x\": -0.45, \"xanchor\": \"left\", \"xref\": \"x\", \"y\": 113, \"yref\": \"y\"}, {\"align\": \"left\", \"font\": {\"color\": \"#000000\"}, \"showarrow\": false, \"text\": \"5213898\", \"x\": 0.55, \"xanchor\": \"left\", \"xref\": \"x\", \"y\": 113, \"yref\": \"y\"}, {\"align\": \"left\", \"font\": {\"color\": \"#000000\"}, \"showarrow\": false, \"text\": \"22.8\", \"x\": 1.55, \"xanchor\": \"left\", \"xref\": \"x\", \"y\": 113, \"yref\": \"y\"}, {\"align\": \"left\", \"font\": {\"color\": \"#000000\"}, \"showarrow\": false, \"text\": \"7.08\", \"x\": 2.55, \"xanchor\": \"left\", \"xref\": \"x\", \"y\": 113, \"yref\": \"y\"}, {\"align\": \"left\", \"font\": {\"color\": \"#000000\"}, \"showarrow\": false, \"text\": \"Israel\", \"x\": -0.45, \"xanchor\": \"left\", \"xref\": \"x\", \"y\": 114, \"yref\": \"y\"}, {\"align\": \"left\", \"font\": {\"color\": \"#000000\"}, \"showarrow\": false, \"text\": \"6368481\", \"x\": 0.55, \"xanchor\": \"left\", \"xref\": \"x\", \"y\": 114, \"yref\": \"y\"}, {\"align\": \"left\", \"font\": {\"color\": \"#000000\"}, \"showarrow\": false, \"text\": \"35.49\", \"x\": 1.55, \"xanchor\": \"left\", \"xref\": \"x\", \"y\": 114, \"yref\": \"y\"}, {\"align\": \"left\", \"font\": {\"color\": \"#000000\"}, \"showarrow\": false, \"text\": \"11.55\", \"x\": 2.55, \"xanchor\": \"left\", \"xref\": \"x\", \"y\": 114, \"yref\": \"y\"}, {\"align\": \"left\", \"font\": {\"color\": \"#000000\"}, \"showarrow\": false, \"text\": \"Italy\", \"x\": -0.45, \"xanchor\": \"left\", \"xref\": \"x\", \"y\": 115, \"yref\": \"y\"}, {\"align\": \"left\", \"font\": {\"color\": \"#000000\"}, \"showarrow\": false, \"text\": \"2274735\", \"x\": 0.55, \"xanchor\": \"left\", \"xref\": \"x\", \"y\": 115, \"yref\": \"y\"}, {\"align\": \"left\", \"font\": {\"color\": \"#000000\"}, \"showarrow\": false, \"text\": \"9.24\", \"x\": 1.55, \"xanchor\": \"left\", \"xref\": \"x\", \"y\": 115, \"yref\": \"y\"}, {\"align\": \"left\", \"font\": {\"color\": \"#000000\"}, \"showarrow\": false, \"text\": \"13.66\", \"x\": 2.55, \"xanchor\": \"left\", \"xref\": \"x\", \"y\": 115, \"yref\": \"y\"}, {\"align\": \"left\", \"font\": {\"color\": \"#000000\"}, \"showarrow\": false, \"text\": \"Jamaica\", \"x\": -0.45, \"xanchor\": \"left\", \"xref\": \"x\", \"y\": 116, \"yref\": \"y\"}, {\"align\": \"left\", \"font\": {\"color\": \"#000000\"}, \"showarrow\": false, \"text\": \"3874050\", \"x\": 0.55, \"xanchor\": \"left\", \"xref\": \"x\", \"y\": 116, \"yref\": \"y\"}, {\"align\": \"left\", \"font\": {\"color\": \"#000000\"}, \"showarrow\": false, \"text\": \"18.52\", \"x\": 1.55, \"xanchor\": \"left\", \"xref\": \"x\", \"y\": 116, \"yref\": \"y\"}, {\"align\": \"left\", \"font\": {\"color\": \"#000000\"}, \"showarrow\": false, \"text\": \"6.21\", \"x\": 2.55, \"xanchor\": \"left\", \"xref\": \"x\", \"y\": 116, \"yref\": \"y\"}, {\"align\": \"left\", \"font\": {\"color\": \"#000000\"}, \"showarrow\": false, \"text\": \"Jordan\", \"x\": -0.45, \"xanchor\": \"left\", \"xref\": \"x\", \"y\": 117, \"yref\": \"y\"}, {\"align\": \"left\", \"font\": {\"color\": \"#000000\"}, \"showarrow\": false, \"text\": \"2022331\", \"x\": 0.55, \"xanchor\": \"left\", \"xref\": \"x\", \"y\": 117, \"yref\": \"y\"}, {\"align\": \"left\", \"font\": {\"color\": \"#000000\"}, \"showarrow\": false, \"text\": \"24.75\", \"x\": 1.55, \"xanchor\": \"left\", \"xref\": \"x\", \"y\": 117, \"yref\": \"y\"}, {\"align\": \"left\", \"font\": {\"color\": \"#000000\"}, \"showarrow\": false, \"text\": \"28.71\", \"x\": 2.55, \"xanchor\": \"left\", \"xref\": \"x\", \"y\": 117, \"yref\": \"y\"}, {\"align\": \"left\", \"font\": {\"color\": \"#000000\"}, \"showarrow\": false, \"text\": \"Japan\", \"x\": -0.45, \"xanchor\": \"left\", \"xref\": \"x\", \"y\": 118, \"yref\": \"y\"}, {\"align\": \"left\", \"font\": {\"color\": \"#000000\"}, \"showarrow\": false, \"text\": \"3042004\", \"x\": 0.55, \"xanchor\": \"left\", \"xref\": \"x\", \"y\": 118, \"yref\": \"y\"}, {\"align\": \"left\", \"font\": {\"color\": \"#000000\"}, \"showarrow\": false, \"text\": \"44.77\", \"x\": 1.55, \"xanchor\": \"left\", \"xref\": \"x\", \"y\": 118, \"yref\": \"y\"}, {\"align\": \"left\", \"font\": {\"color\": \"#000000\"}, \"showarrow\": false, \"text\": \"23.1\", \"x\": 2.55, \"xanchor\": \"left\", \"xref\": \"x\", \"y\": 118, \"yref\": \"y\"}, {\"align\": \"left\", \"font\": {\"color\": \"#000000\"}, \"showarrow\": false, \"text\": \"Kazakhstan\", \"x\": -0.45, \"xanchor\": \"left\", \"xref\": \"x\", \"y\": 119, \"yref\": \"y\"}, {\"align\": \"left\", \"font\": {\"color\": \"#000000\"}, \"showarrow\": false, \"text\": \"5900754\", \"x\": 0.55, \"xanchor\": \"left\", \"xref\": \"x\", \"y\": 119, \"yref\": \"y\"}, {\"align\": \"left\", \"font\": {\"color\": \"#000000\"}, \"showarrow\": false, \"text\": \"26.49\", \"x\": 1.55, \"xanchor\": \"left\", \"xref\": \"x\", \"y\": 119, \"yref\": \"y\"}, {\"align\": \"left\", \"font\": {\"color\": \"#000000\"}, \"showarrow\": false, \"text\": \"3.48\", \"x\": 2.55, \"xanchor\": \"left\", \"xref\": \"x\", \"y\": 119, \"yref\": \"y\"}, {\"align\": \"left\", \"font\": {\"color\": \"#000000\"}, \"showarrow\": false, \"text\": \"Kenya\", \"x\": -0.45, \"xanchor\": \"left\", \"xref\": \"x\", \"y\": 120, \"yref\": \"y\"}, {\"align\": \"left\", \"font\": {\"color\": \"#000000\"}, \"showarrow\": false, \"text\": \"33987\", \"x\": 0.55, \"xanchor\": \"left\", \"xref\": \"x\", \"y\": 120, \"yref\": \"y\"}, {\"align\": \"left\", \"font\": {\"color\": \"#000000\"}, \"showarrow\": false, \"text\": \"10.21\", \"x\": 1.55, \"xanchor\": \"left\", \"xref\": \"x\", \"y\": 120, \"yref\": \"y\"}, {\"align\": \"left\", \"font\": {\"color\": \"#000000\"}, \"showarrow\": false, \"text\": \"7.18\", \"x\": 2.55, \"xanchor\": \"left\", \"xref\": \"x\", \"y\": 120, \"yref\": \"y\"}, {\"align\": \"left\", \"font\": {\"color\": \"#000000\"}, \"showarrow\": false, \"text\": \"Kyrgyz Republic\", \"x\": -0.45, \"xanchor\": \"left\", \"xref\": \"x\", \"y\": 121, \"yref\": \"y\"}, {\"align\": \"left\", \"font\": {\"color\": \"#000000\"}, \"showarrow\": false, \"text\": \"3585906\", \"x\": 0.55, \"xanchor\": \"left\", \"xref\": \"x\", \"y\": 121, \"yref\": \"y\"}, {\"align\": \"left\", \"font\": {\"color\": \"#000000\"}, \"showarrow\": false, \"text\": \"8.75\", \"x\": 1.55, \"xanchor\": \"left\", \"xref\": \"x\", \"y\": 121, \"yref\": \"y\"}, {\"align\": \"left\", \"font\": {\"color\": \"#000000\"}, \"showarrow\": false, \"text\": \"10.98\", \"x\": 2.55, \"xanchor\": \"left\", \"xref\": \"x\", \"y\": 121, \"yref\": \"y\"}, {\"align\": \"left\", \"font\": {\"color\": \"#000000\"}, \"showarrow\": false, \"text\": \"Cambodia\", \"x\": -0.45, \"xanchor\": \"left\", \"xref\": \"x\", \"y\": 122, \"yref\": \"y\"}, {\"align\": \"left\", \"font\": {\"color\": \"#000000\"}, \"showarrow\": false, \"text\": \"474413\", \"x\": 0.55, \"xanchor\": \"left\", \"xref\": \"x\", \"y\": 122, \"yref\": \"y\"}, {\"align\": \"left\", \"font\": {\"color\": \"#000000\"}, \"showarrow\": false, \"text\": \"11.94\", \"x\": 1.55, \"xanchor\": \"left\", \"xref\": \"x\", \"y\": 122, \"yref\": \"y\"}, {\"align\": \"left\", \"font\": {\"color\": \"#000000\"}, \"showarrow\": false, \"text\": \"8.41\", \"x\": 2.55, \"xanchor\": \"left\", \"xref\": \"x\", \"y\": 122, \"yref\": \"y\"}, {\"align\": \"left\", \"font\": {\"color\": \"#000000\"}, \"showarrow\": false, \"text\": \"Kiribati\", \"x\": -0.45, \"xanchor\": \"left\", \"xref\": \"x\", \"y\": 123, \"yref\": \"y\"}, {\"align\": \"left\", \"font\": {\"color\": \"#000000\"}, \"showarrow\": false, \"text\": \"453125\", \"x\": 0.55, \"xanchor\": \"left\", \"xref\": \"x\", \"y\": 123, \"yref\": \"y\"}, {\"align\": \"left\", \"font\": {\"color\": \"#000000\"}, \"showarrow\": false, \"text\": \"8.48\", \"x\": 1.55, \"xanchor\": \"left\", \"xref\": \"x\", \"y\": 123, \"yref\": \"y\"}, {\"align\": \"left\", \"font\": {\"color\": \"#000000\"}, \"showarrow\": false, \"text\": \"4.47\", \"x\": 2.55, \"xanchor\": \"left\", \"xref\": \"x\", \"y\": 123, \"yref\": \"y\"}, {\"align\": \"left\", \"font\": {\"color\": \"#000000\"}, \"showarrow\": false, \"text\": \"St. Kitts and Nevis\", \"x\": -0.45, \"xanchor\": \"left\", \"xref\": \"x\", \"y\": 124, \"yref\": \"y\"}, {\"align\": \"left\", \"font\": {\"color\": \"#000000\"}, \"showarrow\": false, \"text\": \"2050554\", \"x\": 0.55, \"xanchor\": \"left\", \"xref\": \"x\", \"y\": 124, \"yref\": \"y\"}, {\"align\": \"left\", \"font\": {\"color\": \"#000000\"}, \"showarrow\": false, \"text\": \"12.02\", \"x\": 1.55, \"xanchor\": \"left\", \"xref\": \"x\", \"y\": 124, \"yref\": \"y\"}, {\"align\": \"left\", \"font\": {\"color\": \"#000000\"}, \"showarrow\": false, \"text\": \"8.77\", \"x\": 2.55, \"xanchor\": \"left\", \"xref\": \"x\", \"y\": 124, \"yref\": \"y\"}, {\"align\": \"left\", \"font\": {\"color\": \"#000000\"}, \"showarrow\": false, \"text\": \"Korea, Rep.\", \"x\": -0.45, \"xanchor\": \"left\", \"xref\": \"x\", \"y\": 125, \"yref\": \"y\"}, {\"align\": \"left\", \"font\": {\"color\": \"#000000\"}, \"showarrow\": false, \"text\": \"18595469\", \"x\": 0.55, \"xanchor\": \"left\", \"xref\": \"x\", \"y\": 125, \"yref\": \"y\"}, {\"align\": \"left\", \"font\": {\"color\": \"#000000\"}, \"showarrow\": false, \"text\": \"41.41\", \"x\": 1.55, \"xanchor\": \"left\", \"xref\": \"x\", \"y\": 125, \"yref\": \"y\"}, {\"align\": \"left\", \"font\": {\"color\": \"#000000\"}, \"showarrow\": false, \"text\": \"11.11\", \"x\": 2.55, \"xanchor\": \"left\", \"xref\": \"x\", \"y\": 125, \"yref\": \"y\"}, {\"align\": \"left\", \"font\": {\"color\": \"#000000\"}, \"showarrow\": false, \"text\": \"Kuwait\", \"x\": -0.45, \"xanchor\": \"left\", \"xref\": \"x\", \"y\": 126, \"yref\": \"y\"}, {\"align\": \"left\", \"font\": {\"color\": \"#000000\"}, \"showarrow\": false, \"text\": \"13013926\", \"x\": 0.55, \"xanchor\": \"left\", \"xref\": \"x\", \"y\": 126, \"yref\": \"y\"}, {\"align\": \"left\", \"font\": {\"color\": \"#000000\"}, \"showarrow\": false, \"text\": \"43.13\", \"x\": 1.55, \"xanchor\": \"left\", \"xref\": \"x\", \"y\": 126, \"yref\": \"y\"}, {\"align\": \"left\", \"font\": {\"color\": \"#000000\"}, \"showarrow\": false, \"text\": \"19.33\", \"x\": 2.55, \"xanchor\": \"left\", \"xref\": \"x\", \"y\": 126, \"yref\": \"y\"}, {\"align\": \"left\", \"font\": {\"color\": \"#000000\"}, \"showarrow\": false, \"text\": \"Latin America & Caribbean (excluding high income)\", \"x\": -0.45, \"xanchor\": \"left\", \"xref\": \"x\", \"y\": 127, \"yref\": \"y\"}, {\"align\": \"left\", \"font\": {\"color\": \"#000000\"}, \"showarrow\": false, \"text\": \"24385858\", \"x\": 0.55, \"xanchor\": \"left\", \"xref\": \"x\", \"y\": 127, \"yref\": \"y\"}, {\"align\": \"left\", \"font\": {\"color\": \"#000000\"}, \"showarrow\": false, \"text\": \"22.86\", \"x\": 1.55, \"xanchor\": \"left\", \"xref\": \"x\", \"y\": 127, \"yref\": \"y\"}, {\"align\": \"left\", \"font\": {\"color\": \"#000000\"}, \"showarrow\": false, \"text\": \"5.05\", \"x\": 2.55, \"xanchor\": \"left\", \"xref\": \"x\", \"y\": 127, \"yref\": \"y\"}, {\"align\": \"left\", \"font\": {\"color\": \"#000000\"}, \"showarrow\": false, \"text\": \"Lao PDR\", \"x\": -0.45, \"xanchor\": \"left\", \"xref\": \"x\", \"y\": 128, \"yref\": \"y\"}, {\"align\": \"left\", \"font\": {\"color\": \"#000000\"}, \"showarrow\": false, \"text\": \"359008\", \"x\": 0.55, \"xanchor\": \"left\", \"xref\": \"x\", \"y\": 128, \"yref\": \"y\"}, {\"align\": \"left\", \"font\": {\"color\": \"#000000\"}, \"showarrow\": false, \"text\": \"34.81\", \"x\": 1.55, \"xanchor\": \"left\", \"xref\": \"x\", \"y\": 128, \"yref\": \"y\"}, {\"align\": \"left\", \"font\": {\"color\": \"#000000\"}, \"showarrow\": false, \"text\": \"7.06\", \"x\": 2.55, \"xanchor\": \"left\", \"xref\": \"x\", \"y\": 128, \"yref\": \"y\"}, {\"align\": \"left\", \"font\": {\"color\": \"#000000\"}, \"showarrow\": false, \"text\": \"Lebanon\", \"x\": -0.45, \"xanchor\": \"left\", \"xref\": \"x\", \"y\": 129, \"yref\": \"y\"}, {\"align\": \"left\", \"font\": {\"color\": \"#000000\"}, \"showarrow\": false, \"text\": \"11716829\", \"x\": 0.55, \"xanchor\": \"left\", \"xref\": \"x\", \"y\": 129, \"yref\": \"y\"}, {\"align\": \"left\", \"font\": {\"color\": \"#000000\"}, \"showarrow\": false, \"text\": \"49.82\", \"x\": 1.55, \"xanchor\": \"left\", \"xref\": \"x\", \"y\": 129, \"yref\": \"y\"}, {\"align\": \"left\", \"font\": {\"color\": \"#000000\"}, \"showarrow\": false, \"text\": \"16.89\", \"x\": 2.55, \"xanchor\": \"left\", \"xref\": \"x\", \"y\": 129, \"yref\": \"y\"}, {\"align\": \"left\", \"font\": {\"color\": \"#000000\"}, \"showarrow\": false, \"text\": \"Liberia\", \"x\": -0.45, \"xanchor\": \"left\", \"xref\": \"x\", \"y\": 130, \"yref\": \"y\"}, {\"align\": \"left\", \"font\": {\"color\": \"#000000\"}, \"showarrow\": false, \"text\": \"400214\", \"x\": 0.55, \"xanchor\": \"left\", \"xref\": \"x\", \"y\": 130, \"yref\": \"y\"}, {\"align\": \"left\", \"font\": {\"color\": \"#000000\"}, \"showarrow\": false, \"text\": \"10.22\", \"x\": 1.55, \"xanchor\": \"left\", \"xref\": \"x\", \"y\": 130, \"yref\": \"y\"}, {\"align\": \"left\", \"font\": {\"color\": \"#000000\"}, \"showarrow\": false, \"text\": \"8.1\", \"x\": 2.55, \"xanchor\": \"left\", \"xref\": \"x\", \"y\": 130, \"yref\": \"y\"}, {\"align\": \"left\", \"font\": {\"color\": \"#000000\"}, \"showarrow\": false, \"text\": \"Libya\", \"x\": -0.45, \"xanchor\": \"left\", \"xref\": \"x\", \"y\": 131, \"yref\": \"y\"}, {\"align\": \"left\", \"font\": {\"color\": \"#000000\"}, \"showarrow\": false, \"text\": \"60422\", \"x\": 0.55, \"xanchor\": \"left\", \"xref\": \"x\", \"y\": 131, \"yref\": \"y\"}, {\"align\": \"left\", \"font\": {\"color\": \"#000000\"}, \"showarrow\": false, \"text\": \"33.05\", \"x\": 1.55, \"xanchor\": \"left\", \"xref\": \"x\", \"y\": 131, \"yref\": \"y\"}, {\"align\": \"left\", \"font\": {\"color\": \"#000000\"}, \"showarrow\": false, \"text\": \"4.78\", \"x\": 2.55, \"xanchor\": \"left\", \"xref\": \"x\", \"y\": 131, \"yref\": \"y\"}, {\"align\": \"left\", \"font\": {\"color\": \"#000000\"}, \"showarrow\": false, \"text\": \"St. Lucia\", \"x\": -0.45, \"xanchor\": \"left\", \"xref\": \"x\", \"y\": 132, \"yref\": \"y\"}, {\"align\": \"left\", \"font\": {\"color\": \"#000000\"}, \"showarrow\": false, \"text\": \"436131\", \"x\": 0.55, \"xanchor\": \"left\", \"xref\": \"x\", \"y\": 132, \"yref\": \"y\"}, {\"align\": \"left\", \"font\": {\"color\": \"#000000\"}, \"showarrow\": false, \"text\": \"13.74\", \"x\": 1.55, \"xanchor\": \"left\", \"xref\": \"x\", \"y\": 132, \"yref\": \"y\"}, {\"align\": \"left\", \"font\": {\"color\": \"#000000\"}, \"showarrow\": false, \"text\": \"6.48\", \"x\": 2.55, \"xanchor\": \"left\", \"xref\": \"x\", \"y\": 132, \"yref\": \"y\"}, {\"align\": \"left\", \"font\": {\"color\": \"#000000\"}, \"showarrow\": false, \"text\": \"Latin America & Caribbean\", \"x\": -0.45, \"xanchor\": \"left\", \"xref\": \"x\", \"y\": 133, \"yref\": \"y\"}, {\"align\": \"left\", \"font\": {\"color\": \"#000000\"}, \"showarrow\": false, \"text\": \"3177388\", \"x\": 0.55, \"xanchor\": \"left\", \"xref\": \"x\", \"y\": 133, \"yref\": \"y\"}, {\"align\": \"left\", \"font\": {\"color\": \"#000000\"}, \"showarrow\": false, \"text\": \"40.99\", \"x\": 1.55, \"xanchor\": \"left\", \"xref\": \"x\", \"y\": 133, \"yref\": \"y\"}, {\"align\": \"left\", \"font\": {\"color\": \"#000000\"}, \"showarrow\": false, \"text\": \"12.16\", \"x\": 2.55, \"xanchor\": \"left\", \"xref\": \"x\", \"y\": 133, \"yref\": \"y\"}, {\"align\": \"left\", \"font\": {\"color\": \"#000000\"}, \"showarrow\": false, \"text\": \"Least developed countries: UN classification\", \"x\": -0.45, \"xanchor\": \"left\", \"xref\": \"x\", \"y\": 134, \"yref\": \"y\"}, {\"align\": \"left\", \"font\": {\"color\": \"#000000\"}, \"showarrow\": false, \"text\": \"1240827\", \"x\": 0.55, \"xanchor\": \"left\", \"xref\": \"x\", \"y\": 134, \"yref\": \"y\"}, {\"align\": \"left\", \"font\": {\"color\": \"#000000\"}, \"showarrow\": false, \"text\": \"15.43\", \"x\": 1.55, \"xanchor\": \"left\", \"xref\": \"x\", \"y\": 134, \"yref\": \"y\"}, {\"align\": \"left\", \"font\": {\"color\": \"#000000\"}, \"showarrow\": false, \"text\": \"6.86\", \"x\": 2.55, \"xanchor\": \"left\", \"xref\": \"x\", \"y\": 134, \"yref\": \"y\"}, {\"align\": \"left\", \"font\": {\"color\": \"#000000\"}, \"showarrow\": false, \"text\": \"Low income\", \"x\": -0.45, \"xanchor\": \"left\", \"xref\": \"x\", \"y\": 135, \"yref\": \"y\"}, {\"align\": \"left\", \"font\": {\"color\": \"#000000\"}, \"showarrow\": false, \"text\": \"201234\", \"x\": 0.55, \"xanchor\": \"left\", \"xref\": \"x\", \"y\": 135, \"yref\": \"y\"}, {\"align\": \"left\", \"font\": {\"color\": \"#000000\"}, \"showarrow\": false, \"text\": \"40.95\", \"x\": 1.55, \"xanchor\": \"left\", \"xref\": \"x\", \"y\": 135, \"yref\": \"y\"}, {\"align\": \"left\", \"font\": {\"color\": \"#000000\"}, \"showarrow\": false, \"text\": \"7.7\", \"x\": 2.55, \"xanchor\": \"left\", \"xref\": \"x\", \"y\": 135, \"yref\": \"y\"}, {\"align\": \"left\", \"font\": {\"color\": \"#000000\"}, \"showarrow\": false, \"text\": \"Liechtenstein\", \"x\": -0.45, \"xanchor\": \"left\", \"xref\": \"x\", \"y\": 136, \"yref\": \"y\"}, {\"align\": \"left\", \"font\": {\"color\": \"#000000\"}, \"showarrow\": false, \"text\": \"107449525\", \"x\": 0.55, \"xanchor\": \"left\", \"xref\": \"x\", \"y\": 136, \"yref\": \"y\"}, {\"align\": \"left\", \"font\": {\"color\": \"#000000\"}, \"showarrow\": false, \"text\": \"20.69\", \"x\": 1.55, \"xanchor\": \"left\", \"xref\": \"x\", \"y\": 136, \"yref\": \"y\"}, {\"align\": \"left\", \"font\": {\"color\": \"#000000\"}, \"showarrow\": false, \"text\": \"4.74\", \"x\": 2.55, \"xanchor\": \"left\", \"xref\": \"x\", \"y\": 136, \"yref\": \"y\"}, {\"align\": \"left\", \"font\": {\"color\": \"#000000\"}, \"showarrow\": false, \"text\": \"Sri Lanka\", \"x\": -0.45, \"xanchor\": \"left\", \"xref\": \"x\", \"y\": 137, \"yref\": \"y\"}, {\"align\": \"left\", \"font\": {\"color\": \"#000000\"}, \"showarrow\": false, \"text\": \"108004\", \"x\": 0.55, \"xanchor\": \"left\", \"xref\": \"x\", \"y\": 137, \"yref\": \"y\"}, {\"align\": \"left\", \"font\": {\"color\": \"#000000\"}, \"showarrow\": false, \"text\": \"24.68\", \"x\": 1.55, \"xanchor\": \"left\", \"xref\": \"x\", \"y\": 137, \"yref\": \"y\"}, {\"align\": \"left\", \"font\": {\"color\": \"#000000\"}, \"showarrow\": false, \"text\": \"4.75\", \"x\": 2.55, \"xanchor\": \"left\", \"xref\": \"x\", \"y\": 137, \"yref\": \"y\"}, {\"align\": \"left\", \"font\": {\"color\": \"#000000\"}, \"showarrow\": false, \"text\": \"Lower middle income\", \"x\": -0.45, \"xanchor\": \"left\", \"xref\": \"x\", \"y\": 138, \"yref\": \"y\"}, {\"align\": \"left\", \"font\": {\"color\": \"#000000\"}, \"showarrow\": false, \"text\": \"4466706\", \"x\": 0.55, \"xanchor\": \"left\", \"xref\": \"x\", \"y\": 138, \"yref\": \"y\"}, {\"align\": \"left\", \"font\": {\"color\": \"#000000\"}, \"showarrow\": false, \"text\": \"15.7\", \"x\": 1.55, \"xanchor\": \"left\", \"xref\": \"x\", \"y\": 138, \"yref\": \"y\"}, {\"align\": \"left\", \"font\": {\"color\": \"#000000\"}, \"showarrow\": false, \"text\": \"12.64\", \"x\": 2.55, \"xanchor\": \"left\", \"xref\": \"x\", \"y\": 138, \"yref\": \"y\"}, {\"align\": \"left\", \"font\": {\"color\": \"#000000\"}, \"showarrow\": false, \"text\": \"Low & middle income\", \"x\": -0.45, \"xanchor\": \"left\", \"xref\": \"x\", \"y\": 139, \"yref\": \"y\"}, {\"align\": \"left\", \"font\": {\"color\": \"#000000\"}, \"showarrow\": false, \"text\": \"32543\", \"x\": 0.55, \"xanchor\": \"left\", \"xref\": \"x\", \"y\": 139, \"yref\": \"y\"}, {\"align\": \"left\", \"font\": {\"color\": \"#000000\"}, \"showarrow\": false, \"text\": \"9.19\", \"x\": 1.55, \"xanchor\": \"left\", \"xref\": \"x\", \"y\": 139, \"yref\": \"y\"}, {\"align\": \"left\", \"font\": {\"color\": \"#000000\"}, \"showarrow\": false, \"text\": \"12.91\", \"x\": 2.55, \"xanchor\": \"left\", \"xref\": \"x\", \"y\": 139, \"yref\": \"y\"}, {\"align\": \"left\", \"font\": {\"color\": \"#000000\"}, \"showarrow\": false, \"text\": \"Lesotho\", \"x\": -0.45, \"xanchor\": \"left\", \"xref\": \"x\", \"y\": 140, \"yref\": \"y\"}, {\"align\": \"left\", \"font\": {\"color\": \"#000000\"}, \"showarrow\": false, \"text\": \"2832224\", \"x\": 0.55, \"xanchor\": \"left\", \"xref\": \"x\", \"y\": 140, \"yref\": \"y\"}, {\"align\": \"left\", \"font\": {\"color\": \"#000000\"}, \"showarrow\": false, \"text\": \"21.59\", \"x\": 1.55, \"xanchor\": \"left\", \"xref\": \"x\", \"y\": 140, \"yref\": \"y\"}, {\"align\": \"left\", \"font\": {\"color\": \"#000000\"}, \"showarrow\": false, \"text\": \"6.95\", \"x\": 2.55, \"xanchor\": \"left\", \"xref\": \"x\", \"y\": 140, \"yref\": \"y\"}, {\"align\": \"left\", \"font\": {\"color\": \"#000000\"}, \"showarrow\": false, \"text\": \"Late-demographic dividend\", \"x\": -0.45, \"xanchor\": \"left\", \"xref\": \"x\", \"y\": 141, \"yref\": \"y\"}, {\"align\": \"left\", \"font\": {\"color\": \"#000000\"}, \"showarrow\": false, \"text\": \"9439\", \"x\": 0.55, \"xanchor\": \"left\", \"xref\": \"x\", \"y\": 141, \"yref\": \"y\"}, {\"align\": \"left\", \"font\": {\"color\": \"#000000\"}, \"showarrow\": false, \"text\": \"17.59\", \"x\": 1.55, \"xanchor\": \"left\", \"xref\": \"x\", \"y\": 141, \"yref\": \"y\"}, {\"align\": \"left\", \"font\": {\"color\": \"#000000\"}, \"showarrow\": false, \"text\": \"7.1\", \"x\": 2.55, \"xanchor\": \"left\", \"xref\": \"x\", \"y\": 141, \"yref\": \"y\"}, {\"align\": \"left\", \"font\": {\"color\": \"#000000\"}, \"showarrow\": false, \"text\": \"Lithuania\", \"x\": -0.45, \"xanchor\": \"left\", \"xref\": \"x\", \"y\": 142, \"yref\": \"y\"}, {\"align\": \"left\", \"font\": {\"color\": \"#000000\"}, \"showarrow\": false, \"text\": \"33241259\", \"x\": 0.55, \"xanchor\": \"left\", \"xref\": \"x\", \"y\": 142, \"yref\": \"y\"}, {\"align\": \"left\", \"font\": {\"color\": \"#000000\"}, \"showarrow\": false, \"text\": \"21.98\", \"x\": 1.55, \"xanchor\": \"left\", \"xref\": \"x\", \"y\": 142, \"yref\": \"y\"}, {\"align\": \"left\", \"font\": {\"color\": \"#000000\"}, \"showarrow\": false, \"text\": \"5.58\", \"x\": 2.55, \"xanchor\": \"left\", \"xref\": \"x\", \"y\": 142, \"yref\": \"y\"}, {\"align\": \"left\", \"font\": {\"color\": \"#000000\"}, \"showarrow\": false, \"text\": \"Luxembourg\", \"x\": -0.45, \"xanchor\": \"left\", \"xref\": \"x\", \"y\": 143, \"yref\": \"y\"}, {\"align\": \"left\", \"font\": {\"color\": \"#000000\"}, \"showarrow\": false, \"text\": \"19686505\", \"x\": 0.55, \"xanchor\": \"left\", \"xref\": \"x\", \"y\": 143, \"yref\": \"y\"}, {\"align\": \"left\", \"font\": {\"color\": \"#000000\"}, \"showarrow\": false, \"text\": \"35.18\", \"x\": 1.55, \"xanchor\": \"left\", \"xref\": \"x\", \"y\": 143, \"yref\": \"y\"}, {\"align\": \"left\", \"font\": {\"color\": \"#000000\"}, \"showarrow\": false, \"text\": \"21.35\", \"x\": 2.55, \"xanchor\": \"left\", \"xref\": \"x\", \"y\": 143, \"yref\": \"y\"}, {\"align\": \"left\", \"font\": {\"color\": \"#000000\"}, \"showarrow\": false, \"text\": \"Latvia\", \"x\": -0.45, \"xanchor\": \"left\", \"xref\": \"x\", \"y\": 144, \"yref\": \"y\"}, {\"align\": \"left\", \"font\": {\"color\": \"#000000\"}, \"showarrow\": false, \"text\": \"2044147\", \"x\": 0.55, \"xanchor\": \"left\", \"xref\": \"x\", \"y\": 144, \"yref\": \"y\"}, {\"align\": \"left\", \"font\": {\"color\": \"#000000\"}, \"showarrow\": false, \"text\": \"24.32\", \"x\": 1.55, \"xanchor\": \"left\", \"xref\": \"x\", \"y\": 144, \"yref\": \"y\"}, {\"align\": \"left\", \"font\": {\"color\": \"#000000\"}, \"showarrow\": false, \"text\": \"18.86\", \"x\": 2.55, \"xanchor\": \"left\", \"xref\": \"x\", \"y\": 144, \"yref\": \"y\"}, {\"align\": \"left\", \"font\": {\"color\": \"#000000\"}, \"showarrow\": false, \"text\": \"Macao SAR, China\", \"x\": -0.45, \"xanchor\": \"left\", \"xref\": \"x\", \"y\": 145, \"yref\": \"y\"}, {\"align\": \"left\", \"font\": {\"color\": \"#000000\"}, \"showarrow\": false, \"text\": \"13287\", \"x\": 0.55, \"xanchor\": \"left\", \"xref\": \"x\", \"y\": 145, \"yref\": \"y\"}, {\"align\": \"left\", \"font\": {\"color\": \"#000000\"}, \"showarrow\": false, \"text\": \"24.76\", \"x\": 1.55, \"xanchor\": \"left\", \"xref\": \"x\", \"y\": 145, \"yref\": \"y\"}, {\"align\": \"left\", \"font\": {\"color\": \"#000000\"}, \"showarrow\": false, \"text\": \"6.7\", \"x\": 2.55, \"xanchor\": \"left\", \"xref\": \"x\", \"y\": 145, \"yref\": \"y\"}, {\"align\": \"left\", \"font\": {\"color\": \"#000000\"}, \"showarrow\": false, \"text\": \"St. Martin (French part)\", \"x\": -0.45, \"xanchor\": \"left\", \"xref\": \"x\", \"y\": 146, \"yref\": \"y\"}, {\"align\": \"left\", \"font\": {\"color\": \"#000000\"}, \"showarrow\": false, \"text\": \"28287147\", \"x\": 0.55, \"xanchor\": \"left\", \"xref\": \"x\", \"y\": 146, \"yref\": \"y\"}, {\"align\": \"left\", \"font\": {\"color\": \"#000000\"}, \"showarrow\": false, \"text\": \"30.98\", \"x\": 1.55, \"xanchor\": \"left\", \"xref\": \"x\", \"y\": 146, \"yref\": \"y\"}, {\"align\": \"left\", \"font\": {\"color\": \"#000000\"}, \"showarrow\": false, \"text\": \"9.31\", \"x\": 2.55, \"xanchor\": \"left\", \"xref\": \"x\", \"y\": 146, \"yref\": \"y\"}, {\"align\": \"left\", \"font\": {\"color\": \"#000000\"}, \"showarrow\": false, \"text\": \"Morocco\", \"x\": -0.45, \"xanchor\": \"left\", \"xref\": \"x\", \"y\": 147, \"yref\": \"y\"}, {\"align\": \"left\", \"font\": {\"color\": \"#000000\"}, \"showarrow\": false, \"text\": \"16491461\", \"x\": 0.55, \"xanchor\": \"left\", \"xref\": \"x\", \"y\": 147, \"yref\": \"y\"}, {\"align\": \"left\", \"font\": {\"color\": \"#000000\"}, \"showarrow\": false, \"text\": \"10.9\", \"x\": 1.55, \"xanchor\": \"left\", \"xref\": \"x\", \"y\": 147, \"yref\": \"y\"}, {\"align\": \"left\", \"font\": {\"color\": \"#000000\"}, \"showarrow\": false, \"text\": \"8.68\", \"x\": 2.55, \"xanchor\": \"left\", \"xref\": \"x\", \"y\": 147, \"yref\": \"y\"}, {\"align\": \"left\", \"font\": {\"color\": \"#000000\"}, \"showarrow\": false, \"text\": \"Monaco\", \"x\": -0.45, \"xanchor\": \"left\", \"xref\": \"x\", \"y\": 148, \"yref\": \"y\"}, {\"align\": \"left\", \"font\": {\"color\": \"#000000\"}, \"showarrow\": false, \"text\": \"221736\", \"x\": 0.55, \"xanchor\": \"left\", \"xref\": \"x\", \"y\": 148, \"yref\": \"y\"}, {\"align\": \"left\", \"font\": {\"color\": \"#000000\"}, \"showarrow\": false, \"text\": \"14.78\", \"x\": 1.55, \"xanchor\": \"left\", \"xref\": \"x\", \"y\": 148, \"yref\": \"y\"}, {\"align\": \"left\", \"font\": {\"color\": \"#000000\"}, \"showarrow\": false, \"text\": \"6.45\", \"x\": 2.55, \"xanchor\": \"left\", \"xref\": \"x\", \"y\": 148, \"yref\": \"y\"}, {\"align\": \"left\", \"font\": {\"color\": \"#000000\"}, \"showarrow\": false, \"text\": \"Moldova\", \"x\": -0.45, \"xanchor\": \"left\", \"xref\": \"x\", \"y\": 149, \"yref\": \"y\"}, {\"align\": \"left\", \"font\": {\"color\": \"#000000\"}, \"showarrow\": false, \"text\": \"219246\", \"x\": 0.55, \"xanchor\": \"left\", \"xref\": \"x\", \"y\": 149, \"yref\": \"y\"}, {\"align\": \"left\", \"font\": {\"color\": \"#000000\"}, \"showarrow\": false, \"text\": \"18.11\", \"x\": 1.55, \"xanchor\": \"left\", \"xref\": \"x\", \"y\": 149, \"yref\": \"y\"}, {\"align\": \"left\", \"font\": {\"color\": \"#000000\"}, \"showarrow\": false, \"text\": \"5.69\", \"x\": 2.55, \"xanchor\": \"left\", \"xref\": \"x\", \"y\": 149, \"yref\": \"y\"}, {\"align\": \"left\", \"font\": {\"color\": \"#000000\"}, \"showarrow\": false, \"text\": \"Madagascar\", \"x\": -0.45, \"xanchor\": \"left\", \"xref\": \"x\", \"y\": 150, \"yref\": \"y\"}, {\"align\": \"left\", \"font\": {\"color\": \"#000000\"}, \"showarrow\": false, \"text\": \"4076140\", \"x\": 0.55, \"xanchor\": \"left\", \"xref\": \"x\", \"y\": 150, \"yref\": \"y\"}, {\"align\": \"left\", \"font\": {\"color\": \"#000000\"}, \"showarrow\": false, \"text\": \"13.76\", \"x\": 1.55, \"xanchor\": \"left\", \"xref\": \"x\", \"y\": 150, \"yref\": \"y\"}, {\"align\": \"left\", \"font\": {\"color\": \"#000000\"}, \"showarrow\": false, \"text\": \"7.53\", \"x\": 2.55, \"xanchor\": \"left\", \"xref\": \"x\", \"y\": 150, \"yref\": \"y\"}, {\"align\": \"left\", \"font\": {\"color\": \"#000000\"}, \"showarrow\": false, \"text\": \"Maldives\", \"x\": -0.45, \"xanchor\": \"left\", \"xref\": \"x\", \"y\": 151, \"yref\": \"y\"}, {\"align\": \"left\", \"font\": {\"color\": \"#000000\"}, \"showarrow\": false, \"text\": \"5570129\", \"x\": 0.55, \"xanchor\": \"left\", \"xref\": \"x\", \"y\": 151, \"yref\": \"y\"}, {\"align\": \"left\", \"font\": {\"color\": \"#000000\"}, \"showarrow\": false, \"text\": \"24.51\", \"x\": 1.55, \"xanchor\": \"left\", \"xref\": \"x\", \"y\": 151, \"yref\": \"y\"}, {\"align\": \"left\", \"font\": {\"color\": \"#000000\"}, \"showarrow\": false, \"text\": \"4.45\", \"x\": 2.55, \"xanchor\": \"left\", \"xref\": \"x\", \"y\": 151, \"yref\": \"y\"}, {\"align\": \"left\", \"font\": {\"color\": \"#000000\"}, \"showarrow\": false, \"text\": \"Middle East & North Africa\", \"x\": -0.45, \"xanchor\": \"left\", \"xref\": \"x\", \"y\": 152, \"yref\": \"y\"}, {\"align\": \"left\", \"font\": {\"color\": \"#000000\"}, \"showarrow\": false, \"text\": \"12525094\", \"x\": 0.55, \"xanchor\": \"left\", \"xref\": \"x\", \"y\": 152, \"yref\": \"y\"}, {\"align\": \"left\", \"font\": {\"color\": \"#000000\"}, \"showarrow\": false, \"text\": \"50.73\", \"x\": 1.55, \"xanchor\": \"left\", \"xref\": \"x\", \"y\": 152, \"yref\": \"y\"}, {\"align\": \"left\", \"font\": {\"color\": \"#000000\"}, \"showarrow\": false, \"text\": \"20.91\", \"x\": 2.55, \"xanchor\": \"left\", \"xref\": \"x\", \"y\": 152, \"yref\": \"y\"}, {\"align\": \"left\", \"font\": {\"color\": \"#000000\"}, \"showarrow\": false, \"text\": \"Mexico\", \"x\": -0.45, \"xanchor\": \"left\", \"xref\": \"x\", \"y\": 153, \"yref\": \"y\"}, {\"align\": \"left\", \"font\": {\"color\": \"#000000\"}, \"showarrow\": false, \"text\": \"131859731\", \"x\": 0.55, \"xanchor\": \"left\", \"xref\": \"x\", \"y\": 153, \"yref\": \"y\"}, {\"align\": \"left\", \"font\": {\"color\": \"#000000\"}, \"showarrow\": false, \"text\": \"40.43\", \"x\": 1.55, \"xanchor\": \"left\", \"xref\": \"x\", \"y\": 153, \"yref\": \"y\"}, {\"align\": \"left\", \"font\": {\"color\": \"#000000\"}, \"showarrow\": false, \"text\": \"16.94\", \"x\": 2.55, \"xanchor\": \"left\", \"xref\": \"x\", \"y\": 153, \"yref\": \"y\"}, {\"align\": \"left\", \"font\": {\"color\": \"#000000\"}, \"showarrow\": false, \"text\": \"Marshall Islands\", \"x\": -0.45, \"xanchor\": \"left\", \"xref\": \"x\", \"y\": 154, \"yref\": \"y\"}, {\"align\": \"left\", \"font\": {\"color\": \"#000000\"}, \"showarrow\": false, \"text\": \"82459\", \"x\": 0.55, \"xanchor\": \"left\", \"xref\": \"x\", \"y\": 154, \"yref\": \"y\"}, {\"align\": \"left\", \"font\": {\"color\": \"#000000\"}, \"showarrow\": false, \"text\": \"19.43\", \"x\": 1.55, \"xanchor\": \"left\", \"xref\": \"x\", \"y\": 154, \"yref\": \"y\"}, {\"align\": \"left\", \"font\": {\"color\": \"#000000\"}, \"showarrow\": false, \"text\": \"2.29\", \"x\": 2.55, \"xanchor\": \"left\", \"xref\": \"x\", \"y\": 154, \"yref\": \"y\"}, {\"align\": \"left\", \"font\": {\"color\": \"#000000\"}, \"showarrow\": false, \"text\": \"Middle income\", \"x\": -0.45, \"xanchor\": \"left\", \"xref\": \"x\", \"y\": 155, \"yref\": \"y\"}, {\"align\": \"left\", \"font\": {\"color\": \"#000000\"}, \"showarrow\": false, \"text\": \"4610820\", \"x\": 0.55, \"xanchor\": \"left\", \"xref\": \"x\", \"y\": 155, \"yref\": \"y\"}, {\"align\": \"left\", \"font\": {\"color\": \"#000000\"}, \"showarrow\": false, \"text\": \"11.46\", \"x\": 1.55, \"xanchor\": \"left\", \"xref\": \"x\", \"y\": 155, \"yref\": \"y\"}, {\"align\": \"left\", \"font\": {\"color\": \"#000000\"}, \"showarrow\": false, \"text\": \"9.4\", \"x\": 2.55, \"xanchor\": \"left\", \"xref\": \"x\", \"y\": 155, \"yref\": \"y\"}, {\"align\": \"left\", \"font\": {\"color\": \"#000000\"}, \"showarrow\": false, \"text\": \"Macedonia, FYR\", \"x\": -0.45, \"xanchor\": \"left\", \"xref\": \"x\", \"y\": 156, \"yref\": \"y\"}, {\"align\": \"left\", \"font\": {\"color\": \"#000000\"}, \"showarrow\": false, \"text\": \"3102229\", \"x\": 0.55, \"xanchor\": \"left\", \"xref\": \"x\", \"y\": 156, \"yref\": \"y\"}, {\"align\": \"left\", \"font\": {\"color\": \"#000000\"}, \"showarrow\": false, \"text\": \"36.24\", \"x\": 1.55, \"xanchor\": \"left\", \"xref\": \"x\", \"y\": 156, \"yref\": \"y\"}, {\"align\": \"left\", \"font\": {\"color\": \"#000000\"}, \"showarrow\": false, \"text\": \"3.81\", \"x\": 2.55, \"xanchor\": \"left\", \"xref\": \"x\", \"y\": 156, \"yref\": \"y\"}, {\"align\": \"left\", \"font\": {\"color\": \"#000000\"}, \"showarrow\": false, \"text\": \"Mali\", \"x\": -0.45, \"xanchor\": \"left\", \"xref\": \"x\", \"y\": 157, \"yref\": \"y\"}, {\"align\": \"left\", \"font\": {\"color\": \"#000000\"}, \"showarrow\": false, \"text\": \"165803560\", \"x\": 0.55, \"xanchor\": \"left\", \"xref\": \"x\", \"y\": 157, \"yref\": \"y\"}, {\"align\": \"left\", \"font\": {\"color\": \"#000000\"}, \"showarrow\": false, \"text\": \"29.74\", \"x\": 1.55, \"xanchor\": \"left\", \"xref\": \"x\", \"y\": 157, \"yref\": \"y\"}, {\"align\": \"left\", \"font\": {\"color\": \"#000000\"}, \"showarrow\": false, \"text\": \"8.23\", \"x\": 2.55, \"xanchor\": \"left\", \"xref\": \"x\", \"y\": 157, \"yref\": \"y\"}, {\"align\": \"left\", \"font\": {\"color\": \"#000000\"}, \"showarrow\": false, \"text\": \"Malta\", \"x\": -0.45, \"xanchor\": \"left\", \"xref\": \"x\", \"y\": 158, \"yref\": \"y\"}, {\"align\": \"left\", \"font\": {\"color\": \"#000000\"}, \"showarrow\": false, \"text\": \"20579\", \"x\": 0.55, \"xanchor\": \"left\", \"xref\": \"x\", \"y\": 158, \"yref\": \"y\"}, {\"align\": \"left\", \"font\": {\"color\": \"#000000\"}, \"showarrow\": false, \"text\": \"18.03\", \"x\": 1.55, \"xanchor\": \"left\", \"xref\": \"x\", \"y\": 158, \"yref\": \"y\"}, {\"align\": \"left\", \"font\": {\"color\": \"#000000\"}, \"showarrow\": false, \"text\": \"6.8\", \"x\": 2.55, \"xanchor\": \"left\", \"xref\": \"x\", \"y\": 158, \"yref\": \"y\"}, {\"align\": \"left\", \"font\": {\"color\": \"#000000\"}, \"showarrow\": false, \"text\": \"Myanmar\", \"x\": -0.45, \"xanchor\": \"left\", \"xref\": \"x\", \"y\": 159, \"yref\": \"y\"}, {\"align\": \"left\", \"font\": {\"color\": \"#000000\"}, \"showarrow\": false, \"text\": \"3191319\", \"x\": 0.55, \"xanchor\": \"left\", \"xref\": \"x\", \"y\": 159, \"yref\": \"y\"}, {\"align\": \"left\", \"font\": {\"color\": \"#000000\"}, \"showarrow\": false, \"text\": \"21.74\", \"x\": 1.55, \"xanchor\": \"left\", \"xref\": \"x\", \"y\": 159, \"yref\": \"y\"}, {\"align\": \"left\", \"font\": {\"color\": \"#000000\"}, \"showarrow\": false, \"text\": \"5.36\", \"x\": 2.55, \"xanchor\": \"left\", \"xref\": \"x\", \"y\": 159, \"yref\": \"y\"}, {\"align\": \"left\", \"font\": {\"color\": \"#000000\"}, \"showarrow\": false, \"text\": \"Middle East & North Africa (excluding high income)\", \"x\": -0.45, \"xanchor\": \"left\", \"xref\": \"x\", \"y\": 160, \"yref\": \"y\"}, {\"align\": \"left\", \"font\": {\"color\": \"#000000\"}, \"showarrow\": false, \"text\": \"5670544\", \"x\": 0.55, \"xanchor\": \"left\", \"xref\": \"x\", \"y\": 160, \"yref\": \"y\"}, {\"align\": \"left\", \"font\": {\"color\": \"#000000\"}, \"showarrow\": false, \"text\": \"29.36\", \"x\": 1.55, \"xanchor\": \"left\", \"xref\": \"x\", \"y\": 160, \"yref\": \"y\"}, {\"align\": \"left\", \"font\": {\"color\": \"#000000\"}, \"showarrow\": false, \"text\": \"7.25\", \"x\": 2.55, \"xanchor\": \"left\", \"xref\": \"x\", \"y\": 160, \"yref\": \"y\"}, {\"align\": \"left\", \"font\": {\"color\": \"#000000\"}, \"showarrow\": false, \"text\": \"Montenegro\", \"x\": -0.45, \"xanchor\": \"left\", \"xref\": \"x\", \"y\": 161, \"yref\": \"y\"}, {\"align\": \"left\", \"font\": {\"color\": \"#000000\"}, \"showarrow\": false, \"text\": \"6506464\", \"x\": 0.55, \"xanchor\": \"left\", \"xref\": \"x\", \"y\": 161, \"yref\": \"y\"}, {\"align\": \"left\", \"font\": {\"color\": \"#000000\"}, \"showarrow\": false, \"text\": \"29.1\", \"x\": 1.55, \"xanchor\": \"left\", \"xref\": \"x\", \"y\": 161, \"yref\": \"y\"}, {\"align\": \"left\", \"font\": {\"color\": \"#000000\"}, \"showarrow\": false, \"text\": \"4.49\", \"x\": 2.55, \"xanchor\": \"left\", \"xref\": \"x\", \"y\": 161, \"yref\": \"y\"}, {\"align\": \"left\", \"font\": {\"color\": \"#000000\"}, \"showarrow\": false, \"text\": \"Mongolia\", \"x\": -0.45, \"xanchor\": \"left\", \"xref\": \"x\", \"y\": 162, \"yref\": \"y\"}, {\"align\": \"left\", \"font\": {\"color\": \"#000000\"}, \"showarrow\": false, \"text\": \"28302603\", \"x\": 0.55, \"xanchor\": \"left\", \"xref\": \"x\", \"y\": 162, \"yref\": \"y\"}, {\"align\": \"left\", \"font\": {\"color\": \"#000000\"}, \"showarrow\": false, \"text\": \"20.48\", \"x\": 1.55, \"xanchor\": \"left\", \"xref\": \"x\", \"y\": 162, \"yref\": \"y\"}, {\"align\": \"left\", \"font\": {\"color\": \"#000000\"}, \"showarrow\": false, \"text\": \"6.23\", \"x\": 2.55, \"xanchor\": \"left\", \"xref\": \"x\", \"y\": 162, \"yref\": \"y\"}, {\"align\": \"left\", \"font\": {\"color\": \"#000000\"}, \"showarrow\": false, \"text\": \"Northern Mariana Islands\", \"x\": -0.45, \"xanchor\": \"left\", \"xref\": \"x\", \"y\": 163, \"yref\": \"y\"}, {\"align\": \"left\", \"font\": {\"color\": \"#000000\"}, \"showarrow\": false, \"text\": \"89468677\", \"x\": 0.55, \"xanchor\": \"left\", \"xref\": \"x\", \"y\": 163, \"yref\": \"y\"}, {\"align\": \"left\", \"font\": {\"color\": \"#000000\"}, \"showarrow\": false, \"text\": \"24.89\", \"x\": 1.55, \"xanchor\": \"left\", \"xref\": \"x\", \"y\": 163, \"yref\": \"y\"}, {\"align\": \"left\", \"font\": {\"color\": \"#000000\"}, \"showarrow\": false, \"text\": \"5.41\", \"x\": 2.55, \"xanchor\": \"left\", \"xref\": \"x\", \"y\": 163, \"yref\": \"y\"}, {\"align\": \"left\", \"font\": {\"color\": \"#000000\"}, \"showarrow\": false, \"text\": \"Mozambique\", \"x\": -0.45, \"xanchor\": \"left\", \"xref\": \"x\", \"y\": 164, \"yref\": \"y\"}, {\"align\": \"left\", \"font\": {\"color\": \"#000000\"}, \"showarrow\": false, \"text\": \"38536869\", \"x\": 0.55, \"xanchor\": \"left\", \"xref\": \"x\", \"y\": 164, \"yref\": \"y\"}, {\"align\": \"left\", \"font\": {\"color\": \"#000000\"}, \"showarrow\": false, \"text\": \"9.85\", \"x\": 1.55, \"xanchor\": \"left\", \"xref\": \"x\", \"y\": 164, \"yref\": \"y\"}, {\"align\": \"left\", \"font\": {\"color\": \"#000000\"}, \"showarrow\": false, \"text\": \"9.89\", \"x\": 2.55, \"xanchor\": \"left\", \"xref\": \"x\", \"y\": 164, \"yref\": \"y\"}, {\"align\": \"left\", \"font\": {\"color\": \"#000000\"}, \"showarrow\": false, \"text\": \"Mauritania\", \"x\": -0.45, \"xanchor\": \"left\", \"xref\": \"x\", \"y\": 165, \"yref\": \"y\"}, {\"align\": \"left\", \"font\": {\"color\": \"#000000\"}, \"showarrow\": false, \"text\": \"10605870\", \"x\": 0.55, \"xanchor\": \"left\", \"xref\": \"x\", \"y\": 165, \"yref\": \"y\"}, {\"align\": \"left\", \"font\": {\"color\": \"#000000\"}, \"showarrow\": false, \"text\": \"10.72\", \"x\": 1.55, \"xanchor\": \"left\", \"xref\": \"x\", \"y\": 165, \"yref\": \"y\"}, {\"align\": \"left\", \"font\": {\"color\": \"#000000\"}, \"showarrow\": false, \"text\": \"10.5\", \"x\": 2.55, \"xanchor\": \"left\", \"xref\": \"x\", \"y\": 165, \"yref\": \"y\"}, {\"align\": \"left\", \"font\": {\"color\": \"#000000\"}, \"showarrow\": false, \"text\": \"Mauritius\", \"x\": -0.45, \"xanchor\": \"left\", \"xref\": \"x\", \"y\": 166, \"yref\": \"y\"}, {\"align\": \"left\", \"font\": {\"color\": \"#000000\"}, \"showarrow\": false, \"text\": \"3927188\", \"x\": 0.55, \"xanchor\": \"left\", \"xref\": \"x\", \"y\": 166, \"yref\": \"y\"}, {\"align\": \"left\", \"font\": {\"color\": \"#000000\"}, \"showarrow\": false, \"text\": \"12.77\", \"x\": 1.55, \"xanchor\": \"left\", \"xref\": \"x\", \"y\": 166, \"yref\": \"y\"}, {\"align\": \"left\", \"font\": {\"color\": \"#000000\"}, \"showarrow\": false, \"text\": \"7.65\", \"x\": 2.55, \"xanchor\": \"left\", \"xref\": \"x\", \"y\": 166, \"yref\": \"y\"}, {\"align\": \"left\", \"font\": {\"color\": \"#000000\"}, \"showarrow\": false, \"text\": \"Malawi\", \"x\": -0.45, \"xanchor\": \"left\", \"xref\": \"x\", \"y\": 167, \"yref\": \"y\"}, {\"align\": \"left\", \"font\": {\"color\": \"#000000\"}, \"showarrow\": false, \"text\": \"885359\", \"x\": 0.55, \"xanchor\": \"left\", \"xref\": \"x\", \"y\": 167, \"yref\": \"y\"}, {\"align\": \"left\", \"font\": {\"color\": \"#000000\"}, \"showarrow\": false, \"text\": \"15.56\", \"x\": 1.55, \"xanchor\": \"left\", \"xref\": \"x\", \"y\": 167, \"yref\": \"y\"}, {\"align\": \"left\", \"font\": {\"color\": \"#000000\"}, \"showarrow\": false, \"text\": \"4.72\", \"x\": 2.55, \"xanchor\": \"left\", \"xref\": \"x\", \"y\": 167, \"yref\": \"y\"}, {\"align\": \"left\", \"font\": {\"color\": \"#000000\"}, \"showarrow\": false, \"text\": \"Malaysia\", \"x\": -0.45, \"xanchor\": \"left\", \"xref\": \"x\", \"y\": 168, \"yref\": \"y\"}, {\"align\": \"left\", \"font\": {\"color\": \"#000000\"}, \"showarrow\": false, \"text\": \"787584\", \"x\": 0.55, \"xanchor\": \"left\", \"xref\": \"x\", \"y\": 168, \"yref\": \"y\"}, {\"align\": \"left\", \"font\": {\"color\": \"#000000\"}, \"showarrow\": false, \"text\": \"18.9\", \"x\": 1.55, \"xanchor\": \"left\", \"xref\": \"x\", \"y\": 168, \"yref\": \"y\"}, {\"align\": \"left\", \"font\": {\"color\": \"#000000\"}, \"showarrow\": false, \"text\": \"5.49\", \"x\": 2.55, \"xanchor\": \"left\", \"xref\": \"x\", \"y\": 168, \"yref\": \"y\"}, {\"align\": \"left\", \"font\": {\"color\": \"#000000\"}, \"showarrow\": false, \"text\": \"North America\", \"x\": -0.45, \"xanchor\": \"left\", \"xref\": \"x\", \"y\": 169, \"yref\": \"y\"}, {\"align\": \"left\", \"font\": {\"color\": \"#000000\"}, \"showarrow\": false, \"text\": \"22303552\", \"x\": 0.55, \"xanchor\": \"left\", \"xref\": \"x\", \"y\": 169, \"yref\": \"y\"}, {\"align\": \"left\", \"font\": {\"color\": \"#000000\"}, \"showarrow\": false, \"text\": \"10.7\", \"x\": 1.55, \"xanchor\": \"left\", \"xref\": \"x\", \"y\": 169, \"yref\": \"y\"}, {\"align\": \"left\", \"font\": {\"color\": \"#000000\"}, \"showarrow\": false, \"text\": \"11.77\", \"x\": 2.55, \"xanchor\": \"left\", \"xref\": \"x\", \"y\": 169, \"yref\": \"y\"}, {\"align\": \"left\", \"font\": {\"color\": \"#000000\"}, \"showarrow\": false, \"text\": \"Namibia\", \"x\": -0.45, \"xanchor\": \"left\", \"xref\": \"x\", \"y\": 170, \"yref\": \"y\"}, {\"align\": \"left\", \"font\": {\"color\": \"#000000\"}, \"showarrow\": false, \"text\": \"142893540\", \"x\": 0.55, \"xanchor\": \"left\", \"xref\": \"x\", \"y\": 170, \"yref\": \"y\"}, {\"align\": \"left\", \"font\": {\"color\": \"#000000\"}, \"showarrow\": false, \"text\": \"9.95\", \"x\": 1.55, \"xanchor\": \"left\", \"xref\": \"x\", \"y\": 170, \"yref\": \"y\"}, {\"align\": \"left\", \"font\": {\"color\": \"#000000\"}, \"showarrow\": false, \"text\": \"14.65\", \"x\": 2.55, \"xanchor\": \"left\", \"xref\": \"x\", \"y\": 170, \"yref\": \"y\"}, {\"align\": \"left\", \"font\": {\"color\": \"#000000\"}, \"showarrow\": false, \"text\": \"New Caledonia\", \"x\": -0.45, \"xanchor\": \"left\", \"xref\": \"x\", \"y\": 171, \"yref\": \"y\"}, {\"align\": \"left\", \"font\": {\"color\": \"#000000\"}, \"showarrow\": false, \"text\": \"8648248\", \"x\": 0.55, \"xanchor\": \"left\", \"xref\": \"x\", \"y\": 171, \"yref\": \"y\"}, {\"align\": \"left\", \"font\": {\"color\": \"#000000\"}, \"showarrow\": false, \"text\": \"40.37\", \"x\": 1.55, \"xanchor\": \"left\", \"xref\": \"x\", \"y\": 171, \"yref\": \"y\"}, {\"align\": \"left\", \"font\": {\"color\": \"#000000\"}, \"showarrow\": false, \"text\": \"16.09\", \"x\": 2.55, \"xanchor\": \"left\", \"xref\": \"x\", \"y\": 171, \"yref\": \"y\"}, {\"align\": \"left\", \"font\": {\"color\": \"#000000\"}, \"showarrow\": false, \"text\": \"Niger\", \"x\": -0.45, \"xanchor\": \"left\", \"xref\": \"x\", \"y\": 172, \"yref\": \"y\"}, {\"align\": \"left\", \"font\": {\"color\": \"#000000\"}, \"showarrow\": false, \"text\": \"7502\", \"x\": 0.55, \"xanchor\": \"left\", \"xref\": \"x\", \"y\": 172, \"yref\": \"y\"}, {\"align\": \"left\", \"font\": {\"color\": \"#000000\"}, \"showarrow\": false, \"text\": \"12.13\", \"x\": 1.55, \"xanchor\": \"left\", \"xref\": \"x\", \"y\": 172, \"yref\": \"y\"}, {\"align\": \"left\", \"font\": {\"color\": \"#000000\"}, \"showarrow\": false, \"text\": \"6.53\", \"x\": 2.55, \"xanchor\": \"left\", \"xref\": \"x\", \"y\": 172, \"yref\": \"y\"}, {\"align\": \"left\", \"font\": {\"color\": \"#000000\"}, \"showarrow\": false, \"text\": \"Nigeria\", \"x\": -0.45, \"xanchor\": \"left\", \"xref\": \"x\", \"y\": 173, \"yref\": \"y\"}, {\"align\": \"left\", \"font\": {\"color\": \"#000000\"}, \"showarrow\": false, \"text\": \"39129\", \"x\": 0.55, \"xanchor\": \"left\", \"xref\": \"x\", \"y\": 173, \"yref\": \"y\"}, {\"align\": \"left\", \"font\": {\"color\": \"#000000\"}, \"showarrow\": false, \"text\": \"18.02\", \"x\": 1.55, \"xanchor\": \"left\", \"xref\": \"x\", \"y\": 173, \"yref\": \"y\"}, {\"align\": \"left\", \"font\": {\"color\": \"#000000\"}, \"showarrow\": false, \"text\": \"8.33\", \"x\": 2.55, \"xanchor\": \"left\", \"xref\": \"x\", \"y\": 173, \"yref\": \"y\"}, {\"align\": \"left\", \"font\": {\"color\": \"#000000\"}, \"showarrow\": false, \"text\": \"Nicaragua\", \"x\": -0.45, \"xanchor\": \"left\", \"xref\": \"x\", \"y\": 174, \"yref\": \"y\"}, {\"align\": \"left\", \"font\": {\"color\": \"#000000\"}, \"showarrow\": false, \"text\": \"168458\", \"x\": 0.55, \"xanchor\": \"left\", \"xref\": \"x\", \"y\": 174, \"yref\": \"y\"}, {\"align\": \"left\", \"font\": {\"color\": \"#000000\"}, \"showarrow\": false, \"text\": \"19.68\", \"x\": 1.55, \"xanchor\": \"left\", \"xref\": \"x\", \"y\": 174, \"yref\": \"y\"}, {\"align\": \"left\", \"font\": {\"color\": \"#000000\"}, \"showarrow\": false, \"text\": \"5.08\", \"x\": 2.55, \"xanchor\": \"left\", \"xref\": \"x\", \"y\": 174, \"yref\": \"y\"}, {\"align\": \"left\", \"font\": {\"color\": \"#000000\"}, \"showarrow\": false, \"text\": \"Netherlands\", \"x\": -0.45, \"xanchor\": \"left\", \"xref\": \"x\", \"y\": 175, \"yref\": \"y\"}, {\"align\": \"left\", \"font\": {\"color\": \"#000000\"}, \"showarrow\": false, \"text\": \"7026\", \"x\": 0.55, \"xanchor\": \"left\", \"xref\": \"x\", \"y\": 175, \"yref\": \"y\"}, {\"align\": \"left\", \"font\": {\"color\": \"#000000\"}, \"showarrow\": false, \"text\": \"13.52\", \"x\": 1.55, \"xanchor\": \"left\", \"xref\": \"x\", \"y\": 175, \"yref\": \"y\"}, {\"align\": \"left\", \"font\": {\"color\": \"#000000\"}, \"showarrow\": false, \"text\": \"6.83\", \"x\": 2.55, \"xanchor\": \"left\", \"xref\": \"x\", \"y\": 175, \"yref\": \"y\"}, {\"align\": \"left\", \"font\": {\"color\": \"#000000\"}, \"showarrow\": false, \"text\": \"Norway\", \"x\": -0.45, \"xanchor\": \"left\", \"xref\": \"x\", \"y\": 176, \"yref\": \"y\"}, {\"align\": \"left\", \"font\": {\"color\": \"#000000\"}, \"showarrow\": false, \"text\": \"117848\", \"x\": 0.55, \"xanchor\": \"left\", \"xref\": \"x\", \"y\": 176, \"yref\": \"y\"}, {\"align\": \"left\", \"font\": {\"color\": \"#000000\"}, \"showarrow\": false, \"text\": \"16.18\", \"x\": 1.55, \"xanchor\": \"left\", \"xref\": \"x\", \"y\": 176, \"yref\": \"y\"}, {\"align\": \"left\", \"font\": {\"color\": \"#000000\"}, \"showarrow\": false, \"text\": \"5.98\", \"x\": 2.55, \"xanchor\": \"left\", \"xref\": \"x\", \"y\": 176, \"yref\": \"y\"}, {\"align\": \"left\", \"font\": {\"color\": \"#000000\"}, \"showarrow\": false, \"text\": \"Nepal\", \"x\": -0.45, \"xanchor\": \"left\", \"xref\": \"x\", \"y\": 177, \"yref\": \"y\"}, {\"align\": \"left\", \"font\": {\"color\": \"#000000\"}, \"showarrow\": false, \"text\": \"176908\", \"x\": 0.55, \"xanchor\": \"left\", \"xref\": \"x\", \"y\": 177, \"yref\": \"y\"}, {\"align\": \"left\", \"font\": {\"color\": \"#000000\"}, \"showarrow\": false, \"text\": \"16.43\", \"x\": 1.55, \"xanchor\": \"left\", \"xref\": \"x\", \"y\": 177, \"yref\": \"y\"}, {\"align\": \"left\", \"font\": {\"color\": \"#000000\"}, \"showarrow\": false, \"text\": \"6.62\", \"x\": 2.55, \"xanchor\": \"left\", \"xref\": \"x\", \"y\": 177, \"yref\": \"y\"}, {\"align\": \"left\", \"font\": {\"color\": \"#000000\"}, \"showarrow\": false, \"text\": \"Nauru\", \"x\": -0.45, \"xanchor\": \"left\", \"xref\": \"x\", \"y\": 178, \"yref\": \"y\"}, {\"align\": \"left\", \"font\": {\"color\": \"#000000\"}, \"showarrow\": false, \"text\": \"29251\", \"x\": 0.55, \"xanchor\": \"left\", \"xref\": \"x\", \"y\": 178, \"yref\": \"y\"}, {\"align\": \"left\", \"font\": {\"color\": \"#000000\"}, \"showarrow\": false, \"text\": \"10.02\", \"x\": 1.55, \"xanchor\": \"left\", \"xref\": \"x\", \"y\": 178, \"yref\": \"y\"}, {\"align\": \"left\", \"font\": {\"color\": \"#000000\"}, \"showarrow\": false, \"text\": \"8.17\", \"x\": 2.55, \"xanchor\": \"left\", \"xref\": \"x\", \"y\": 178, \"yref\": \"y\"}, {\"align\": \"left\", \"font\": {\"color\": \"#000000\"}, \"showarrow\": false, \"text\": \"New Zealand\", \"x\": -0.45, \"xanchor\": \"left\", \"xref\": \"x\", \"y\": 179, \"yref\": \"y\"}, {\"align\": \"left\", \"font\": {\"color\": \"#000000\"}, \"showarrow\": false, \"text\": \"193413\", \"x\": 0.55, \"xanchor\": \"left\", \"xref\": \"x\", \"y\": 179, \"yref\": \"y\"}, {\"align\": \"left\", \"font\": {\"color\": \"#000000\"}, \"showarrow\": false, \"text\": \"40.25\", \"x\": 1.55, \"xanchor\": \"left\", \"xref\": \"x\", \"y\": 179, \"yref\": \"y\"}, {\"align\": \"left\", \"font\": {\"color\": \"#000000\"}, \"showarrow\": false, \"text\": \"6.47\", \"x\": 2.55, \"xanchor\": \"left\", \"xref\": \"x\", \"y\": 179, \"yref\": \"y\"}, {\"align\": \"left\", \"font\": {\"color\": \"#000000\"}, \"showarrow\": false, \"text\": \"OECD members\", \"x\": -0.45, \"xanchor\": \"left\", \"xref\": \"x\", \"y\": 180, \"yref\": \"y\"}, {\"align\": \"left\", \"font\": {\"color\": \"#000000\"}, \"showarrow\": false, \"text\": \"27019731\", \"x\": 0.55, \"xanchor\": \"left\", \"xref\": \"x\", \"y\": 180, \"yref\": \"y\"}, {\"align\": \"left\", \"font\": {\"color\": \"#000000\"}, \"showarrow\": false, \"text\": \"29.34\", \"x\": 1.55, \"xanchor\": \"left\", \"xref\": \"x\", \"y\": 180, \"yref\": \"y\"}, {\"align\": \"left\", \"font\": {\"color\": \"#000000\"}, \"showarrow\": false, \"text\": \"2.58\", \"x\": 2.55, \"xanchor\": \"left\", \"xref\": \"x\", \"y\": 180, \"yref\": \"y\"}, {\"align\": \"left\", \"font\": {\"color\": \"#000000\"}, \"showarrow\": false, \"text\": \"Oman\", \"x\": -0.45, \"xanchor\": \"left\", \"xref\": \"x\", \"y\": 181, \"yref\": \"y\"}, {\"align\": \"left\", \"font\": {\"color\": \"#000000\"}, \"showarrow\": false, \"text\": \"11987121\", \"x\": 0.55, \"xanchor\": \"left\", \"xref\": \"x\", \"y\": 181, \"yref\": \"y\"}, {\"align\": \"left\", \"font\": {\"color\": \"#000000\"}, \"showarrow\": false, \"text\": \"32.78\", \"x\": 1.55, \"xanchor\": \"left\", \"xref\": \"x\", \"y\": 181, \"yref\": \"y\"}, {\"align\": \"left\", \"font\": {\"color\": \"#000000\"}, \"showarrow\": false, \"text\": \"9.42\", \"x\": 2.55, \"xanchor\": \"left\", \"xref\": \"x\", \"y\": 181, \"yref\": \"y\"}, {\"align\": \"left\", \"font\": {\"color\": \"#000000\"}, \"showarrow\": false, \"text\": \"Other small states\", \"x\": -0.45, \"xanchor\": \"left\", \"xref\": \"x\", \"y\": 182, \"yref\": \"y\"}, {\"align\": \"left\", \"font\": {\"color\": \"#000000\"}, \"showarrow\": false, \"text\": \"9396411\", \"x\": 0.55, \"xanchor\": \"left\", \"xref\": \"x\", \"y\": 182, \"yref\": \"y\"}, {\"align\": \"left\", \"font\": {\"color\": \"#000000\"}, \"showarrow\": false, \"text\": \"nan\", \"x\": 1.55, \"xanchor\": \"left\", \"xref\": \"x\", \"y\": 182, \"yref\": \"y\"}, {\"align\": \"left\", \"font\": {\"color\": \"#000000\"}, \"showarrow\": false, \"text\": \"nan\", \"x\": 2.55, \"xanchor\": \"left\", \"xref\": \"x\", \"y\": 182, \"yref\": \"y\"}, {\"align\": \"left\", \"font\": {\"color\": \"#000000\"}, \"showarrow\": false, \"text\": \"Pakistan\", \"x\": -0.45, \"xanchor\": \"left\", \"xref\": \"x\", \"y\": 183, \"yref\": \"y\"}, {\"align\": \"left\", \"font\": {\"color\": \"#000000\"}, \"showarrow\": false, \"text\": \"81541\", \"x\": 0.55, \"xanchor\": \"left\", \"xref\": \"x\", \"y\": 183, \"yref\": \"y\"}, {\"align\": \"left\", \"font\": {\"color\": \"#000000\"}, \"showarrow\": false, \"text\": \"16.03\", \"x\": 1.55, \"xanchor\": \"left\", \"xref\": \"x\", \"y\": 183, \"yref\": \"y\"}, {\"align\": \"left\", \"font\": {\"color\": \"#000000\"}, \"showarrow\": false, \"text\": \"6.29\", \"x\": 2.55, \"xanchor\": \"left\", \"xref\": \"x\", \"y\": 183, \"yref\": \"y\"}, {\"align\": \"left\", \"font\": {\"color\": \"#000000\"}, \"showarrow\": false, \"text\": \"Panama\", \"x\": -0.45, \"xanchor\": \"left\", \"xref\": \"x\", \"y\": 184, \"yref\": \"y\"}, {\"align\": \"left\", \"font\": {\"color\": \"#000000\"}, \"showarrow\": false, \"text\": \"6005250\", \"x\": 0.55, \"xanchor\": \"left\", \"xref\": \"x\", \"y\": 184, \"yref\": \"y\"}, {\"align\": \"left\", \"font\": {\"color\": \"#000000\"}, \"showarrow\": false, \"text\": \"45.76\", \"x\": 1.55, \"xanchor\": \"left\", \"xref\": \"x\", \"y\": 184, \"yref\": \"y\"}, {\"align\": \"left\", \"font\": {\"color\": \"#000000\"}, \"showarrow\": false, \"text\": \"23.03\", \"x\": 2.55, \"xanchor\": \"left\", \"xref\": \"x\", \"y\": 184, \"yref\": \"y\"}, {\"align\": \"left\", \"font\": {\"color\": \"#000000\"}, \"showarrow\": false, \"text\": \"Peru\", \"x\": -0.45, \"xanchor\": \"left\", \"xref\": \"x\", \"y\": 185, \"yref\": \"y\"}, {\"align\": \"left\", \"font\": {\"color\": \"#000000\"}, \"showarrow\": false, \"text\": \"4492150\", \"x\": 0.55, \"xanchor\": \"left\", \"xref\": \"x\", \"y\": 185, \"yref\": \"y\"}, {\"align\": \"left\", \"font\": {\"color\": \"#000000\"}, \"showarrow\": false, \"text\": \"9.34\", \"x\": 1.55, \"xanchor\": \"left\", \"xref\": \"x\", \"y\": 185, \"yref\": \"y\"}, {\"align\": \"left\", \"font\": {\"color\": \"#000000\"}, \"showarrow\": false, \"text\": \"4.28\", \"x\": 2.55, \"xanchor\": \"left\", \"xref\": \"x\", \"y\": 185, \"yref\": \"y\"}, {\"align\": \"left\", \"font\": {\"color\": \"#000000\"}, \"showarrow\": false, \"text\": \"Philippines\", \"x\": -0.45, \"xanchor\": \"left\", \"xref\": \"x\", \"y\": 186, \"yref\": \"y\"}, {\"align\": \"left\", \"font\": {\"color\": \"#000000\"}, \"showarrow\": false, \"text\": \"5439448\", \"x\": 0.55, \"xanchor\": \"left\", \"xref\": \"x\", \"y\": 186, \"yref\": \"y\"}, {\"align\": \"left\", \"font\": {\"color\": \"#000000\"}, \"showarrow\": false, \"text\": \"10.65\", \"x\": 1.55, \"xanchor\": \"left\", \"xref\": \"x\", \"y\": 186, \"yref\": \"y\"}, {\"align\": \"left\", \"font\": {\"color\": \"#000000\"}, \"showarrow\": false, \"text\": \"9.45\", \"x\": 2.55, \"xanchor\": \"left\", \"xref\": \"x\", \"y\": 186, \"yref\": \"y\"}, {\"align\": \"left\", \"font\": {\"color\": \"#000000\"}, \"showarrow\": false, \"text\": \"Palau\", \"x\": -0.45, \"xanchor\": \"left\", \"xref\": \"x\", \"y\": 187, \"yref\": \"y\"}, {\"align\": \"left\", \"font\": {\"color\": \"#000000\"}, \"showarrow\": false, \"text\": \"2010347\", \"x\": 0.55, \"xanchor\": \"left\", \"xref\": \"x\", \"y\": 187, \"yref\": \"y\"}, {\"align\": \"left\", \"font\": {\"color\": \"#000000\"}, \"showarrow\": false, \"text\": \"8.98\", \"x\": 1.55, \"xanchor\": \"left\", \"xref\": \"x\", \"y\": 187, \"yref\": \"y\"}, {\"align\": \"left\", \"font\": {\"color\": \"#000000\"}, \"showarrow\": false, \"text\": \"10.31\", \"x\": 2.55, \"xanchor\": \"left\", \"xref\": \"x\", \"y\": 187, \"yref\": \"y\"}, {\"align\": \"left\", \"font\": {\"color\": \"#000000\"}, \"showarrow\": false, \"text\": \"Papua New Guinea\", \"x\": -0.45, \"xanchor\": \"left\", \"xref\": \"x\", \"y\": 188, \"yref\": \"y\"}, {\"align\": \"left\", \"font\": {\"color\": \"#000000\"}, \"showarrow\": false, \"text\": \"552438\", \"x\": 0.55, \"xanchor\": \"left\", \"xref\": \"x\", \"y\": 188, \"yref\": \"y\"}, {\"align\": \"left\", \"font\": {\"color\": \"#000000\"}, \"showarrow\": false, \"text\": \"30.01\", \"x\": 1.55, \"xanchor\": \"left\", \"xref\": \"x\", \"y\": 188, \"yref\": \"y\"}, {\"align\": \"left\", \"font\": {\"color\": \"#000000\"}, \"showarrow\": false, \"text\": \"3.92\", \"x\": 2.55, \"xanchor\": \"left\", \"xref\": \"x\", \"y\": 188, \"yref\": \"y\"}, {\"align\": \"left\", \"font\": {\"color\": \"#000000\"}, \"showarrow\": false, \"text\": \"Poland\", \"x\": -0.45, \"xanchor\": \"left\", \"xref\": \"x\", \"y\": 189, \"yref\": \"y\"}, {\"align\": \"left\", \"font\": {\"color\": \"#000000\"}, \"showarrow\": false, \"text\": \"8863338\", \"x\": 0.55, \"xanchor\": \"left\", \"xref\": \"x\", \"y\": 189, \"yref\": \"y\"}, {\"align\": \"left\", \"font\": {\"color\": \"#000000\"}, \"showarrow\": false, \"text\": \"45.13\", \"x\": 1.55, \"xanchor\": \"left\", \"xref\": \"x\", \"y\": 189, \"yref\": \"y\"}, {\"align\": \"left\", \"font\": {\"color\": \"#000000\"}, \"showarrow\": false, \"text\": \"16.63\", \"x\": 2.55, \"xanchor\": \"left\", \"xref\": \"x\", \"y\": 189, \"yref\": \"y\"}, {\"align\": \"left\", \"font\": {\"color\": \"#000000\"}, \"showarrow\": false, \"text\": \"Pre-demographic dividend\", \"x\": -0.45, \"xanchor\": \"left\", \"xref\": \"x\", \"y\": 190, \"yref\": \"y\"}, {\"align\": \"left\", \"font\": {\"color\": \"#000000\"}, \"showarrow\": false, \"text\": \"44187637\", \"x\": 0.55, \"xanchor\": \"left\", \"xref\": \"x\", \"y\": 190, \"yref\": \"y\"}, {\"align\": \"left\", \"font\": {\"color\": \"#000000\"}, \"showarrow\": false, \"text\": \"18.2\", \"x\": 1.55, \"xanchor\": \"left\", \"xref\": \"x\", \"y\": 190, \"yref\": \"y\"}, {\"align\": \"left\", \"font\": {\"color\": \"#000000\"}, \"showarrow\": false, \"text\": \"22.0\", \"x\": 2.55, \"xanchor\": \"left\", \"xref\": \"x\", \"y\": 190, \"yref\": \"y\"}, {\"align\": \"left\", \"font\": {\"color\": \"#000000\"}, \"showarrow\": false, \"text\": \"Puerto Rico\", \"x\": -0.45, \"xanchor\": \"left\", \"xref\": \"x\", \"y\": 191, \"yref\": \"y\"}, {\"align\": \"left\", \"font\": {\"color\": \"#000000\"}, \"showarrow\": false, \"text\": \"40397842\", \"x\": 0.55, \"xanchor\": \"left\", \"xref\": \"x\", \"y\": 191, \"yref\": \"y\"}, {\"align\": \"left\", \"font\": {\"color\": \"#000000\"}, \"showarrow\": false, \"text\": \"10.06\", \"x\": 1.55, \"xanchor\": \"left\", \"xref\": \"x\", \"y\": 191, \"yref\": \"y\"}, {\"align\": \"left\", \"font\": {\"color\": \"#000000\"}, \"showarrow\": false, \"text\": \"9.72\", \"x\": 2.55, \"xanchor\": \"left\", \"xref\": \"x\", \"y\": 191, \"yref\": \"y\"}, {\"align\": \"left\", \"font\": {\"color\": \"#000000\"}, \"showarrow\": false, \"text\": \"Korea, Dem. People?s Rep.\", \"x\": -0.45, \"xanchor\": \"left\", \"xref\": \"x\", \"y\": 192, \"yref\": \"y\"}, {\"align\": \"left\", \"font\": {\"color\": \"#000000\"}, \"showarrow\": false, \"text\": \"20222240\", \"x\": 0.55, \"xanchor\": \"left\", \"xref\": \"x\", \"y\": 192, \"yref\": \"y\"}, {\"align\": \"left\", \"font\": {\"color\": \"#000000\"}, \"showarrow\": false, \"text\": \"15.51\", \"x\": 1.55, \"xanchor\": \"left\", \"xref\": \"x\", \"y\": 192, \"yref\": \"y\"}, {\"align\": \"left\", \"font\": {\"color\": \"#000000\"}, \"showarrow\": false, \"text\": \"6.52\", \"x\": 2.55, \"xanchor\": \"left\", \"xref\": \"x\", \"y\": 192, \"yref\": \"y\"}, {\"align\": \"left\", \"font\": {\"color\": \"#000000\"}, \"showarrow\": false, \"text\": \"Portugal\", \"x\": -0.45, \"xanchor\": \"left\", \"xref\": \"x\", \"y\": 193, \"yref\": \"y\"}, {\"align\": \"left\", \"font\": {\"color\": \"#000000\"}, \"showarrow\": false, \"text\": \"41236378\", \"x\": 0.55, \"xanchor\": \"left\", \"xref\": \"x\", \"y\": 193, \"yref\": \"y\"}, {\"align\": \"left\", \"font\": {\"color\": \"#000000\"}, \"showarrow\": false, \"text\": \"34.53\", \"x\": 1.55, \"xanchor\": \"left\", \"xref\": \"x\", \"y\": 193, \"yref\": \"y\"}, {\"align\": \"left\", \"font\": {\"color\": \"#000000\"}, \"showarrow\": false, \"text\": \"8.97\", \"x\": 2.55, \"xanchor\": \"left\", \"xref\": \"x\", \"y\": 193, \"yref\": \"y\"}, {\"align\": \"left\", \"font\": {\"color\": \"#000000\"}, \"showarrow\": false, \"text\": \"Paraguay\", \"x\": -0.45, \"xanchor\": \"left\", \"xref\": \"x\", \"y\": 194, \"yref\": \"y\"}, {\"align\": \"left\", \"font\": {\"color\": \"#000000\"}, \"showarrow\": false, \"text\": \"439117\", \"x\": 0.55, \"xanchor\": \"left\", \"xref\": \"x\", \"y\": 194, \"yref\": \"y\"}, {\"align\": \"left\", \"font\": {\"color\": \"#000000\"}, \"showarrow\": false, \"text\": \"18.02\", \"x\": 1.55, \"xanchor\": \"left\", \"xref\": \"x\", \"y\": 194, \"yref\": \"y\"}, {\"align\": \"left\", \"font\": {\"color\": \"#000000\"}, \"showarrow\": false, \"text\": \"7.27\", \"x\": 2.55, \"xanchor\": \"left\", \"xref\": \"x\", \"y\": 194, \"yref\": \"y\"}, {\"align\": \"left\", \"font\": {\"color\": \"#000000\"}, \"showarrow\": false, \"text\": \"West Bank and Gaza\", \"x\": -0.45, \"xanchor\": \"left\", \"xref\": \"x\", \"y\": 195, \"yref\": \"y\"}, {\"align\": \"left\", \"font\": {\"color\": \"#000000\"}, \"showarrow\": false, \"text\": \"1136334\", \"x\": 0.55, \"xanchor\": \"left\", \"xref\": \"x\", \"y\": 195, \"yref\": \"y\"}, {\"align\": \"left\", \"font\": {\"color\": \"#000000\"}, \"showarrow\": false, \"text\": \"27.41\", \"x\": 1.55, \"xanchor\": \"left\", \"xref\": \"x\", \"y\": 195, \"yref\": \"y\"}, {\"align\": \"left\", \"font\": {\"color\": \"#000000\"}, \"showarrow\": false, \"text\": \"29.74\", \"x\": 2.55, \"xanchor\": \"left\", \"xref\": \"x\", \"y\": 195, \"yref\": \"y\"}, {\"align\": \"left\", \"font\": {\"color\": \"#000000\"}, \"showarrow\": false, \"text\": \"Pacific island small states\", \"x\": -0.45, \"xanchor\": \"left\", \"xref\": \"x\", \"y\": 196, \"yref\": \"y\"}, {\"align\": \"left\", \"font\": {\"color\": \"#000000\"}, \"showarrow\": false, \"text\": \"9016596\", \"x\": 0.55, \"xanchor\": \"left\", \"xref\": \"x\", \"y\": 196, \"yref\": \"y\"}, {\"align\": \"left\", \"font\": {\"color\": \"#000000\"}, \"showarrow\": false, \"text\": \"10.27\", \"x\": 1.55, \"xanchor\": \"left\", \"xref\": \"x\", \"y\": 196, \"yref\": \"y\"}, {\"align\": \"left\", \"font\": {\"color\": \"#000000\"}, \"showarrow\": false, \"text\": \"10.31\", \"x\": 2.55, \"xanchor\": \"left\", \"xref\": \"x\", \"y\": 196, \"yref\": \"y\"}, {\"align\": \"left\", \"font\": {\"color\": \"#000000\"}, \"showarrow\": false, \"text\": \"Post-demographic dividend\", \"x\": -0.45, \"xanchor\": \"left\", \"xref\": \"x\", \"y\": 197, \"yref\": \"y\"}, {\"align\": \"left\", \"font\": {\"color\": \"#000000\"}, \"showarrow\": false, \"text\": \"7523934\", \"x\": 0.55, \"xanchor\": \"left\", \"xref\": \"x\", \"y\": 197, \"yref\": \"y\"}, {\"align\": \"left\", \"font\": {\"color\": \"#000000\"}, \"showarrow\": false, \"text\": \"9.71\", \"x\": 1.55, \"xanchor\": \"left\", \"xref\": \"x\", \"y\": 197, \"yref\": \"y\"}, {\"align\": \"left\", \"font\": {\"color\": \"#000000\"}, \"showarrow\": false, \"text\": \"8.49\", \"x\": 2.55, \"xanchor\": \"left\", \"xref\": \"x\", \"y\": 197, \"yref\": \"y\"}, {\"align\": \"left\", \"font\": {\"color\": \"#000000\"}, \"showarrow\": false, \"text\": \"French Polynesia\", \"x\": -0.45, \"xanchor\": \"left\", \"xref\": \"x\", \"y\": 198, \"yref\": \"y\"}, {\"align\": \"left\", \"font\": {\"color\": \"#000000\"}, \"showarrow\": false, \"text\": \"18881361\", \"x\": 0.55, \"xanchor\": \"left\", \"xref\": \"x\", \"y\": 198, \"yref\": \"y\"}, {\"align\": \"left\", \"font\": {\"color\": \"#000000\"}, \"showarrow\": false, \"text\": \"27.76\", \"x\": 1.55, \"xanchor\": \"left\", \"xref\": \"x\", \"y\": 198, \"yref\": \"y\"}, {\"align\": \"left\", \"font\": {\"color\": \"#000000\"}, \"showarrow\": false, \"text\": \"4.81\", \"x\": 2.55, \"xanchor\": \"left\", \"xref\": \"x\", \"y\": 198, \"yref\": \"y\"}, {\"align\": \"left\", \"font\": {\"color\": \"#000000\"}, \"showarrow\": false, \"text\": \"Qatar\", \"x\": -0.45, \"xanchor\": \"left\", \"xref\": \"x\", \"y\": 199, \"yref\": \"y\"}, {\"align\": \"left\", \"font\": {\"color\": \"#000000\"}, \"showarrow\": false, \"text\": \"23036087\", \"x\": 0.55, \"xanchor\": \"left\", \"xref\": \"x\", \"y\": 199, \"yref\": \"y\"}, {\"align\": \"left\", \"font\": {\"color\": \"#000000\"}, \"showarrow\": false, \"text\": \"12.56\", \"x\": 1.55, \"xanchor\": \"left\", \"xref\": \"x\", \"y\": 199, \"yref\": \"y\"}, {\"align\": \"left\", \"font\": {\"color\": \"#000000\"}, \"showarrow\": false, \"text\": \"6.48\", \"x\": 2.55, \"xanchor\": \"left\", \"xref\": \"x\", \"y\": 199, \"yref\": \"y\"}, {\"align\": \"left\", \"font\": {\"color\": \"#000000\"}, \"showarrow\": false, \"text\": \"Romania\", \"x\": -0.45, \"xanchor\": \"left\", \"xref\": \"x\", \"y\": 200, \"yref\": \"y\"}, {\"align\": \"left\", \"font\": {\"color\": \"#000000\"}, \"showarrow\": false, \"text\": \"7320815\", \"x\": 0.55, \"xanchor\": \"left\", \"xref\": \"x\", \"y\": 200, \"yref\": \"y\"}, {\"align\": \"left\", \"font\": {\"color\": \"#000000\"}, \"showarrow\": false, \"text\": \"32.65\", \"x\": 1.55, \"xanchor\": \"left\", \"xref\": \"x\", \"y\": 200, \"yref\": \"y\"}, {\"align\": \"left\", \"font\": {\"color\": \"#000000\"}, \"showarrow\": false, \"text\": \"8.25\", \"x\": 2.55, \"xanchor\": \"left\", \"xref\": \"x\", \"y\": 200, \"yref\": \"y\"}, {\"align\": \"left\", \"font\": {\"color\": \"#000000\"}, \"showarrow\": false, \"text\": \"Russian Federation\", \"x\": -0.45, \"xanchor\": \"left\", \"xref\": \"x\", \"y\": 201, \"yref\": \"y\"}, {\"align\": \"left\", \"font\": {\"color\": \"#000000\"}, \"showarrow\": false, \"text\": \"37445392\", \"x\": 0.55, \"xanchor\": \"left\", \"xref\": \"x\", \"y\": 201, \"yref\": \"y\"}, {\"align\": \"left\", \"font\": {\"color\": \"#000000\"}, \"showarrow\": false, \"text\": \"37.71\", \"x\": 1.55, \"xanchor\": \"left\", \"xref\": \"x\", \"y\": 201, \"yref\": \"y\"}, {\"align\": \"left\", \"font\": {\"color\": \"#000000\"}, \"showarrow\": false, \"text\": \"16.39\", \"x\": 2.55, \"xanchor\": \"left\", \"xref\": \"x\", \"y\": 201, \"yref\": \"y\"}, {\"align\": \"left\", \"font\": {\"color\": \"#000000\"}, \"showarrow\": false, \"text\": \"Rwanda\", \"x\": -0.45, \"xanchor\": \"left\", \"xref\": \"x\", \"y\": 202, \"yref\": \"y\"}, {\"align\": \"left\", \"font\": {\"color\": \"#000000\"}, \"showarrow\": false, \"text\": \"64631595\", \"x\": 0.55, \"xanchor\": \"left\", \"xref\": \"x\", \"y\": 202, \"yref\": \"y\"}, {\"align\": \"left\", \"font\": {\"color\": \"#000000\"}, \"showarrow\": false, \"text\": \"13.87\", \"x\": 1.55, \"xanchor\": \"left\", \"xref\": \"x\", \"y\": 202, \"yref\": \"y\"}, {\"align\": \"left\", \"font\": {\"color\": \"#000000\"}, \"showarrow\": false, \"text\": \"7.04\", \"x\": 2.55, \"xanchor\": \"left\", \"xref\": \"x\", \"y\": 202, \"yref\": \"y\"}, {\"align\": \"left\", \"font\": {\"color\": \"#000000\"}, \"showarrow\": false, \"text\": \"South Asia\", \"x\": -0.45, \"xanchor\": \"left\", \"xref\": \"x\", \"y\": 203, \"yref\": \"y\"}, {\"align\": \"left\", \"font\": {\"color\": \"#000000\"}, \"showarrow\": false, \"text\": \"5548702\", \"x\": 0.55, \"xanchor\": \"left\", \"xref\": \"x\", \"y\": 203, \"yref\": \"y\"}, {\"align\": \"left\", \"font\": {\"color\": \"#000000\"}, \"showarrow\": false, \"text\": \"37.01\", \"x\": 1.55, \"xanchor\": \"left\", \"xref\": \"x\", \"y\": 203, \"yref\": \"y\"}, {\"align\": \"left\", \"font\": {\"color\": \"#000000\"}, \"showarrow\": false, \"text\": \"9.83\", \"x\": 2.55, \"xanchor\": \"left\", \"xref\": \"x\", \"y\": 203, \"yref\": \"y\"}, {\"align\": \"left\", \"font\": {\"color\": \"#000000\"}, \"showarrow\": false, \"text\": \"Saudi Arabia\", \"x\": -0.45, \"xanchor\": \"left\", \"xref\": \"x\", \"y\": 204, \"yref\": \"y\"}, {\"align\": \"left\", \"font\": {\"color\": \"#000000\"}, \"showarrow\": false, \"text\": \"114689\", \"x\": 0.55, \"xanchor\": \"left\", \"xref\": \"x\", \"y\": 204, \"yref\": \"y\"}, {\"align\": \"left\", \"font\": {\"color\": \"#000000\"}, \"showarrow\": false, \"text\": \"25.37\", \"x\": 1.55, \"xanchor\": \"left\", \"xref\": \"x\", \"y\": 204, \"yref\": \"y\"}, {\"align\": \"left\", \"font\": {\"color\": \"#000000\"}, \"showarrow\": false, \"text\": \"5.28\", \"x\": 2.55, \"xanchor\": \"left\", \"xref\": \"x\", \"y\": 204, \"yref\": \"y\"}, {\"align\": \"left\", \"font\": {\"color\": \"#000000\"}, \"showarrow\": false, \"text\": \"Sudan\", \"x\": -0.45, \"xanchor\": \"left\", \"xref\": \"x\", \"y\": 205, \"yref\": \"y\"}, {\"align\": \"left\", \"font\": {\"color\": \"#000000\"}, \"showarrow\": false, \"text\": \"1065842\", \"x\": 0.55, \"xanchor\": \"left\", \"xref\": \"x\", \"y\": 205, \"yref\": \"y\"}, {\"align\": \"left\", \"font\": {\"color\": \"#000000\"}, \"showarrow\": false, \"text\": \"12.9\", \"x\": 1.55, \"xanchor\": \"left\", \"xref\": \"x\", \"y\": 205, \"yref\": \"y\"}, {\"align\": \"left\", \"font\": {\"color\": \"#000000\"}, \"showarrow\": false, \"text\": \"10.57\", \"x\": 2.55, \"xanchor\": \"left\", \"xref\": \"x\", \"y\": 205, \"yref\": \"y\"}, {\"align\": \"left\", \"font\": {\"color\": \"#000000\"}, \"showarrow\": false, \"text\": \"Senegal\", \"x\": -0.45, \"xanchor\": \"left\", \"xref\": \"x\", \"y\": 206, \"yref\": \"y\"}, {\"align\": \"left\", \"font\": {\"color\": \"#000000\"}, \"showarrow\": false, \"text\": \"10175014\", \"x\": 0.55, \"xanchor\": \"left\", \"xref\": \"x\", \"y\": 206, \"yref\": \"y\"}, {\"align\": \"left\", \"font\": {\"color\": \"#000000\"}, \"showarrow\": false, \"text\": \"15.52\", \"x\": 1.55, \"xanchor\": \"left\", \"xref\": \"x\", \"y\": 206, \"yref\": \"y\"}, {\"align\": \"left\", \"font\": {\"color\": \"#000000\"}, \"showarrow\": false, \"text\": \"5.13\", \"x\": 2.55, \"xanchor\": \"left\", \"xref\": \"x\", \"y\": 206, \"yref\": \"y\"}, {\"align\": \"left\", \"font\": {\"color\": \"#000000\"}, \"showarrow\": false, \"text\": \"Singapore\", \"x\": -0.45, \"xanchor\": \"left\", \"xref\": \"x\", \"y\": 207, \"yref\": \"y\"}, {\"align\": \"left\", \"font\": {\"color\": \"#000000\"}, \"showarrow\": false, \"text\": \"70413958\", \"x\": 0.55, \"xanchor\": \"left\", \"xref\": \"x\", \"y\": 207, \"yref\": \"y\"}, {\"align\": \"left\", \"font\": {\"color\": \"#000000\"}, \"showarrow\": false, \"text\": \"16.62\", \"x\": 1.55, \"xanchor\": \"left\", \"xref\": \"x\", \"y\": 207, \"yref\": \"y\"}, {\"align\": \"left\", \"font\": {\"color\": \"#000000\"}, \"showarrow\": false, \"text\": \"5.97\", \"x\": 2.55, \"xanchor\": \"left\", \"xref\": \"x\", \"y\": 207, \"yref\": \"y\"}, {\"align\": \"left\", \"font\": {\"color\": \"#000000\"}, \"showarrow\": false, \"text\": \"Solomon Islands\", \"x\": -0.45, \"xanchor\": \"left\", \"xref\": \"x\", \"y\": 208, \"yref\": \"y\"}, {\"align\": \"left\", \"font\": {\"color\": \"#000000\"}, \"showarrow\": false, \"text\": \"5042920\", \"x\": 0.55, \"xanchor\": \"left\", \"xref\": \"x\", \"y\": 208, \"yref\": \"y\"}, {\"align\": \"left\", \"font\": {\"color\": \"#000000\"}, \"showarrow\": false, \"text\": \"27.61\", \"x\": 1.55, \"xanchor\": \"left\", \"xref\": \"x\", \"y\": 208, \"yref\": \"y\"}, {\"align\": \"left\", \"font\": {\"color\": \"#000000\"}, \"showarrow\": false, \"text\": \"8.6\", \"x\": 2.55, \"xanchor\": \"left\", \"xref\": \"x\", \"y\": 208, \"yref\": \"y\"}, {\"align\": \"left\", \"font\": {\"color\": \"#000000\"}, \"showarrow\": false, \"text\": \"Sierra Leone\", \"x\": -0.45, \"xanchor\": \"left\", \"xref\": \"x\", \"y\": 209, \"yref\": \"y\"}, {\"align\": \"left\", \"font\": {\"color\": \"#000000\"}, \"showarrow\": false, \"text\": \"21152\", \"x\": 0.55, \"xanchor\": \"left\", \"xref\": \"x\", \"y\": 209, \"yref\": \"y\"}, {\"align\": \"left\", \"font\": {\"color\": \"#000000\"}, \"showarrow\": false, \"text\": \"21.84\", \"x\": 1.55, \"xanchor\": \"left\", \"xref\": \"x\", \"y\": 209, \"yref\": \"y\"}, {\"align\": \"left\", \"font\": {\"color\": \"#000000\"}, \"showarrow\": false, \"text\": \"4.21\", \"x\": 2.55, \"xanchor\": \"left\", \"xref\": \"x\", \"y\": 209, \"yref\": \"y\"}, {\"align\": \"left\", \"font\": {\"color\": \"#000000\"}, \"showarrow\": false, \"text\": \"El Salvador\", \"x\": -0.45, \"xanchor\": \"left\", \"xref\": \"x\", \"y\": 210, \"yref\": \"y\"}, {\"align\": \"left\", \"font\": {\"color\": \"#000000\"}, \"showarrow\": false, \"text\": \"11810\", \"x\": 0.55, \"xanchor\": \"left\", \"xref\": \"x\", \"y\": 210, \"yref\": \"y\"}, {\"align\": \"left\", \"font\": {\"color\": \"#000000\"}, \"showarrow\": false, \"text\": \"22.18\", \"x\": 1.55, \"xanchor\": \"left\", \"xref\": \"x\", \"y\": 210, \"yref\": \"y\"}, {\"align\": \"left\", \"font\": {\"color\": \"#000000\"}, \"showarrow\": false, \"text\": \"7.11\", \"x\": 2.55, \"xanchor\": \"left\", \"xref\": \"x\", \"y\": 210, \"yref\": \"y\"}, {\"align\": \"left\", \"font\": {\"color\": \"#000000\"}, \"showarrow\": false, \"text\": \"San Marino\", \"x\": -0.45, \"xanchor\": \"left\", \"xref\": \"x\", \"y\": 211, \"yref\": \"y\"}, {\"align\": \"left\", \"font\": {\"color\": \"#000000\"}, \"showarrow\": false, \"text\": \"28195754\", \"x\": 0.55, \"xanchor\": \"left\", \"xref\": \"x\", \"y\": 211, \"yref\": \"y\"}, {\"align\": \"left\", \"font\": {\"color\": \"#000000\"}, \"showarrow\": false, \"text\": \"47.35\", \"x\": 1.55, \"xanchor\": \"left\", \"xref\": \"x\", \"y\": 211, \"yref\": \"y\"}, {\"align\": \"left\", \"font\": {\"color\": \"#000000\"}, \"showarrow\": false, \"text\": \"12.24\", \"x\": 2.55, \"xanchor\": \"left\", \"xref\": \"x\", \"y\": 211, \"yref\": \"y\"}, {\"align\": \"left\", \"font\": {\"color\": \"#000000\"}, \"showarrow\": false, \"text\": \"Somalia\", \"x\": -0.45, \"xanchor\": \"left\", \"xref\": \"x\", \"y\": 212, \"yref\": \"y\"}, {\"align\": \"left\", \"font\": {\"color\": \"#000000\"}, \"showarrow\": false, \"text\": \"46710816\", \"x\": 0.55, \"xanchor\": \"left\", \"xref\": \"x\", \"y\": 212, \"yref\": \"y\"}, {\"align\": \"left\", \"font\": {\"color\": \"#000000\"}, \"showarrow\": false, \"text\": \"8.82\", \"x\": 1.55, \"xanchor\": \"left\", \"xref\": \"x\", \"y\": 212, \"yref\": \"y\"}, {\"align\": \"left\", \"font\": {\"color\": \"#000000\"}, \"showarrow\": false, \"text\": \"14.39\", \"x\": 2.55, \"xanchor\": \"left\", \"xref\": \"x\", \"y\": 212, \"yref\": \"y\"}, {\"align\": \"left\", \"font\": {\"color\": \"#000000\"}, \"showarrow\": false, \"text\": \"Serbia\", \"x\": -0.45, \"xanchor\": \"left\", \"xref\": \"x\", \"y\": 213, \"yref\": \"y\"}, {\"align\": \"left\", \"font\": {\"color\": \"#000000\"}, \"showarrow\": false, \"text\": \"2602713\", \"x\": 0.55, \"xanchor\": \"left\", \"xref\": \"x\", \"y\": 213, \"yref\": \"y\"}, {\"align\": \"left\", \"font\": {\"color\": \"#000000\"}, \"showarrow\": false, \"text\": \"18.96\", \"x\": 1.55, \"xanchor\": \"left\", \"xref\": \"x\", \"y\": 213, \"yref\": \"y\"}, {\"align\": \"left\", \"font\": {\"color\": \"#000000\"}, \"showarrow\": false, \"text\": \"4.4\", \"x\": 2.55, \"xanchor\": \"left\", \"xref\": \"x\", \"y\": 213, \"yref\": \"y\"}, {\"align\": \"left\", \"font\": {\"color\": \"#000000\"}, \"showarrow\": false, \"text\": \"Sub-Saharan Africa (excluding high income)\", \"x\": -0.45, \"xanchor\": \"left\", \"xref\": \"x\", \"y\": 214, \"yref\": \"y\"}, {\"align\": \"left\", \"font\": {\"color\": \"#000000\"}, \"showarrow\": false, \"text\": \"60609153\", \"x\": 0.55, \"xanchor\": \"left\", \"xref\": \"x\", \"y\": 214, \"yref\": \"y\"}, {\"align\": \"left\", \"font\": {\"color\": \"#000000\"}, \"showarrow\": false, \"text\": \"10.71\", \"x\": 1.55, \"xanchor\": \"left\", \"xref\": \"x\", \"y\": 214, \"yref\": \"y\"}, {\"align\": \"left\", \"font\": {\"color\": \"#000000\"}, \"showarrow\": false, \"text\": \"10.13\", \"x\": 2.55, \"xanchor\": \"left\", \"xref\": \"x\", \"y\": 214, \"yref\": \"y\"}, {\"align\": \"left\", \"font\": {\"color\": \"#000000\"}, \"showarrow\": false, \"text\": \"South Sudan\", \"x\": -0.45, \"xanchor\": \"left\", \"xref\": \"x\", \"y\": 215, \"yref\": \"y\"}, {\"align\": \"left\", \"font\": {\"color\": \"#000000\"}, \"showarrow\": false, \"text\": \"298444215\", \"x\": 0.55, \"xanchor\": \"left\", \"xref\": \"x\", \"y\": 215, \"yref\": \"y\"}, {\"align\": \"left\", \"font\": {\"color\": \"#000000\"}, \"showarrow\": false, \"text\": \"14.14\", \"x\": 1.55, \"xanchor\": \"left\", \"xref\": \"x\", \"y\": 215, \"yref\": \"y\"}, {\"align\": \"left\", \"font\": {\"color\": \"#000000\"}, \"showarrow\": false, \"text\": \"8.26\", \"x\": 2.55, \"xanchor\": \"left\", \"xref\": \"x\", \"y\": 215, \"yref\": \"y\"}, {\"align\": \"left\", \"font\": {\"color\": \"#000000\"}, \"showarrow\": false, \"text\": \"Sub-Saharan Africa\", \"x\": -0.45, \"xanchor\": \"left\", \"xref\": \"x\", \"y\": 216, \"yref\": \"y\"}, {\"align\": \"left\", \"font\": {\"color\": \"#000000\"}, \"showarrow\": false, \"text\": \"3431932\", \"x\": 0.55, \"xanchor\": \"left\", \"xref\": \"x\", \"y\": 216, \"yref\": \"y\"}, {\"align\": \"left\", \"font\": {\"color\": \"#000000\"}, \"showarrow\": false, \"text\": \"13.91\", \"x\": 1.55, \"xanchor\": \"left\", \"xref\": \"x\", \"y\": 216, \"yref\": \"y\"}, {\"align\": \"left\", \"font\": {\"color\": \"#000000\"}, \"showarrow\": false, \"text\": \"9.05\", \"x\": 2.55, \"xanchor\": \"left\", \"xref\": \"x\", \"y\": 216, \"yref\": \"y\"}, {\"align\": \"left\", \"font\": {\"color\": \"#000000\"}, \"showarrow\": false, \"text\": \"Small states\", \"x\": -0.45, \"xanchor\": \"left\", \"xref\": \"x\", \"y\": 217, \"yref\": \"y\"}, {\"align\": \"left\", \"font\": {\"color\": \"#000000\"}, \"showarrow\": false, \"text\": \"27307134\", \"x\": 0.55, \"xanchor\": \"left\", \"xref\": \"x\", \"y\": 217, \"yref\": \"y\"}, {\"align\": \"left\", \"font\": {\"color\": \"#000000\"}, \"showarrow\": false, \"text\": \"26.36\", \"x\": 1.55, \"xanchor\": \"left\", \"xref\": \"x\", \"y\": 217, \"yref\": \"y\"}, {\"align\": \"left\", \"font\": {\"color\": \"#000000\"}, \"showarrow\": false, \"text\": \"7.84\", \"x\": 2.55, \"xanchor\": \"left\", \"xref\": \"x\", \"y\": 217, \"yref\": \"y\"}, {\"align\": \"left\", \"font\": {\"color\": \"#000000\"}, \"showarrow\": false, \"text\": \"Sao Tome and Principe\", \"x\": -0.45, \"xanchor\": \"left\", \"xref\": \"x\", \"y\": 218, \"yref\": \"y\"}, {\"align\": \"left\", \"font\": {\"color\": \"#000000\"}, \"showarrow\": false, \"text\": \"208869\", \"x\": 0.55, \"xanchor\": \"left\", \"xref\": \"x\", \"y\": 218, \"yref\": \"y\"}, {\"align\": \"left\", \"font\": {\"color\": \"#000000\"}, \"showarrow\": false, \"text\": \"22.72\", \"x\": 1.55, \"xanchor\": \"left\", \"xref\": \"x\", \"y\": 218, \"yref\": \"y\"}, {\"align\": \"left\", \"font\": {\"color\": \"#000000\"}, \"showarrow\": false, \"text\": \"7.82\", \"x\": 2.55, \"xanchor\": \"left\", \"xref\": \"x\", \"y\": 218, \"yref\": \"y\"}, {\"align\": \"left\", \"font\": {\"color\": \"#000000\"}, \"showarrow\": false, \"text\": \"Suriname\", \"x\": -0.45, \"xanchor\": \"left\", \"xref\": \"x\", \"y\": 219, \"yref\": \"y\"}, {\"align\": \"left\", \"font\": {\"color\": \"#000000\"}, \"showarrow\": false, \"text\": \"25730435\", \"x\": 0.55, \"xanchor\": \"left\", \"xref\": \"x\", \"y\": 219, \"yref\": \"y\"}, {\"align\": \"left\", \"font\": {\"color\": \"#000000\"}, \"showarrow\": false, \"text\": \"18.71\", \"x\": 1.55, \"xanchor\": \"left\", \"xref\": \"x\", \"y\": 219, \"yref\": \"y\"}, {\"align\": \"left\", \"font\": {\"color\": \"#000000\"}, \"showarrow\": false, \"text\": \"4.92\", \"x\": 2.55, \"xanchor\": \"left\", \"xref\": \"x\", \"y\": 219, \"yref\": \"y\"}, {\"align\": \"left\", \"font\": {\"color\": \"#000000\"}, \"showarrow\": false, \"text\": \"Slovak Republic\", \"x\": -0.45, \"xanchor\": \"left\", \"xref\": \"x\", \"y\": 220, \"yref\": \"y\"}, {\"align\": \"left\", \"font\": {\"color\": \"#000000\"}, \"showarrow\": false, \"text\": \"84402966\", \"x\": 0.55, \"xanchor\": \"left\", \"xref\": \"x\", \"y\": 220, \"yref\": \"y\"}, {\"align\": \"left\", \"font\": {\"color\": \"#000000\"}, \"showarrow\": false, \"text\": \"16.86\", \"x\": 1.55, \"xanchor\": \"left\", \"xref\": \"x\", \"y\": 220, \"yref\": \"y\"}, {\"align\": \"left\", \"font\": {\"color\": \"#000000\"}, \"showarrow\": false, \"text\": \"6.22\", \"x\": 2.55, \"xanchor\": \"left\", \"xref\": \"x\", \"y\": 220, \"yref\": \"y\"}, {\"align\": \"left\", \"font\": {\"color\": \"#000000\"}, \"showarrow\": false, \"text\": \"Slovenia\", \"x\": -0.45, \"xanchor\": \"left\", \"xref\": \"x\", \"y\": 221, \"yref\": \"y\"}, {\"align\": \"left\", \"font\": {\"color\": \"#000000\"}, \"showarrow\": false, \"text\": \"108605\", \"x\": 0.55, \"xanchor\": \"left\", \"xref\": \"x\", \"y\": 221, \"yref\": \"y\"}, {\"align\": \"left\", \"font\": {\"color\": \"#000000\"}, \"showarrow\": false, \"text\": \"13.96\", \"x\": 1.55, \"xanchor\": \"left\", \"xref\": \"x\", \"y\": 221, \"yref\": \"y\"}, {\"align\": \"left\", \"font\": {\"color\": \"#000000\"}, \"showarrow\": false, \"text\": \"6.43\", \"x\": 2.55, \"xanchor\": \"left\", \"xref\": \"x\", \"y\": 221, \"yref\": \"y\"}, {\"align\": \"left\", \"font\": {\"color\": \"#000000\"}, \"showarrow\": false, \"text\": \"Sweden\", \"x\": -0.45, \"xanchor\": \"left\", \"xref\": \"x\", \"y\": 222, \"yref\": \"y\"}, {\"align\": \"left\", \"font\": {\"color\": \"#000000\"}, \"showarrow\": false, \"text\": \"16025\", \"x\": 0.55, \"xanchor\": \"left\", \"xref\": \"x\", \"y\": 222, \"yref\": \"y\"}, {\"align\": \"left\", \"font\": {\"color\": \"#000000\"}, \"showarrow\": false, \"text\": \"nan\", \"x\": 1.55, \"xanchor\": \"left\", \"xref\": \"x\", \"y\": 222, \"yref\": \"y\"}, {\"align\": \"left\", \"font\": {\"color\": \"#000000\"}, \"showarrow\": false, \"text\": \"nan\", \"x\": 2.55, \"xanchor\": \"left\", \"xref\": \"x\", \"y\": 222, \"yref\": \"y\"}, {\"align\": \"left\", \"font\": {\"color\": \"#000000\"}, \"showarrow\": false, \"text\": \"Swaziland\", \"x\": -0.45, \"xanchor\": \"left\", \"xref\": \"x\", \"y\": 223, \"yref\": \"y\"}, {\"align\": \"left\", \"font\": {\"color\": \"#000000\"}, \"showarrow\": false, \"text\": \"2460492\", \"x\": 0.55, \"xanchor\": \"left\", \"xref\": \"x\", \"y\": 223, \"yref\": \"y\"}, {\"align\": \"left\", \"font\": {\"color\": \"#000000\"}, \"showarrow\": false, \"text\": \"31.67\", \"x\": 1.55, \"xanchor\": \"left\", \"xref\": \"x\", \"y\": 223, \"yref\": \"y\"}, {\"align\": \"left\", \"font\": {\"color\": \"#000000\"}, \"showarrow\": false, \"text\": \"3.92\", \"x\": 2.55, \"xanchor\": \"left\", \"xref\": \"x\", \"y\": 223, \"yref\": \"y\"}, {\"align\": \"left\", \"font\": {\"color\": \"#000000\"}, \"showarrow\": false, \"text\": \"Sint Maarten (Dutch part)\", \"x\": -0.45, \"xanchor\": \"left\", \"xref\": \"x\", \"y\": 224, \"yref\": \"y\"}, {\"align\": \"left\", \"font\": {\"color\": \"#000000\"}, \"showarrow\": false, \"text\": \"273008\", \"x\": 0.55, \"xanchor\": \"left\", \"xref\": \"x\", \"y\": 224, \"yref\": \"y\"}, {\"align\": \"left\", \"font\": {\"color\": \"#000000\"}, \"showarrow\": false, \"text\": \"nan\", \"x\": 1.55, \"xanchor\": \"left\", \"xref\": \"x\", \"y\": 224, \"yref\": \"y\"}, {\"align\": \"left\", \"font\": {\"color\": \"#000000\"}, \"showarrow\": false, \"text\": \"nan\", \"x\": 2.55, \"xanchor\": \"left\", \"xref\": \"x\", \"y\": 224, \"yref\": \"y\"}, {\"align\": \"left\", \"font\": {\"color\": \"#000000\"}, \"showarrow\": false, \"text\": \"Seychelles\", \"x\": -0.45, \"xanchor\": \"left\", \"xref\": \"x\", \"y\": 225, \"yref\": \"y\"}, {\"align\": \"left\", \"font\": {\"color\": \"#000000\"}, \"showarrow\": false, \"text\": \"21456188\", \"x\": 0.55, \"xanchor\": \"left\", \"xref\": \"x\", \"y\": 225, \"yref\": \"y\"}, {\"align\": \"left\", \"font\": {\"color\": \"#000000\"}, \"showarrow\": false, \"text\": \"42.89\", \"x\": 1.55, \"xanchor\": \"left\", \"xref\": \"x\", \"y\": 225, \"yref\": \"y\"}, {\"align\": \"left\", \"font\": {\"color\": \"#000000\"}, \"showarrow\": false, \"text\": \"8.3\", \"x\": 2.55, \"xanchor\": \"left\", \"xref\": \"x\", \"y\": 225, \"yref\": \"y\"}, {\"align\": \"left\", \"font\": {\"color\": \"#000000\"}, \"showarrow\": false, \"text\": \"Syrian Arab Republic\", \"x\": -0.45, \"xanchor\": \"left\", \"xref\": \"x\", \"y\": 226, \"yref\": \"y\"}, {\"align\": \"left\", \"font\": {\"color\": \"#000000\"}, \"showarrow\": false, \"text\": \"11502010\", \"x\": 0.55, \"xanchor\": \"left\", \"xref\": \"x\", \"y\": 226, \"yref\": \"y\"}, {\"align\": \"left\", \"font\": {\"color\": \"#000000\"}, \"showarrow\": false, \"text\": \"41.0\", \"x\": 1.55, \"xanchor\": \"left\", \"xref\": \"x\", \"y\": 226, \"yref\": \"y\"}, {\"align\": \"left\", \"font\": {\"color\": \"#000000\"}, \"showarrow\": false, \"text\": \"19.93\", \"x\": 2.55, \"xanchor\": \"left\", \"xref\": \"x\", \"y\": 226, \"yref\": \"y\"}, {\"align\": \"left\", \"font\": {\"color\": \"#000000\"}, \"showarrow\": false, \"text\": \"Turks and Caicos Islands\", \"x\": -0.45, \"xanchor\": \"left\", \"xref\": \"x\", \"y\": 227, \"yref\": \"y\"}, {\"align\": \"left\", \"font\": {\"color\": \"#000000\"}, \"showarrow\": false, \"text\": \"12236805\", \"x\": 0.55, \"xanchor\": \"left\", \"xref\": \"x\", \"y\": 227, \"yref\": \"y\"}, {\"align\": \"left\", \"font\": {\"color\": \"#000000\"}, \"showarrow\": false, \"text\": \"28.01\", \"x\": 1.55, \"xanchor\": \"left\", \"xref\": \"x\", \"y\": 227, \"yref\": \"y\"}, {\"align\": \"left\", \"font\": {\"color\": \"#000000\"}, \"showarrow\": false, \"text\": \"21.84\", \"x\": 2.55, \"xanchor\": \"left\", \"xref\": \"x\", \"y\": 227, \"yref\": \"y\"}], \"height\": 6890, \"margin\": {\"b\": 0, \"l\": 0, \"r\": 0, \"t\": 0}, \"xaxis\": {\"dtick\": 1, \"gridwidth\": 2, \"showticklabels\": false, \"tick0\": -0.5, \"ticks\": \"\", \"zeroline\": false}, \"yaxis\": {\"autorange\": \"reversed\", \"dtick\": 1, \"gridwidth\": 2, \"showticklabels\": false, \"tick0\": 0.5, \"ticks\": \"\", \"zeroline\": false}},\n",
       "            {\"showLink\": true, \"linkText\": \"Export to plot.ly\"}\n",
       "        ).then(function () {return Plotly.addFrames('3ca1e1bc-faaa-4702-be82-9f760a684667',{});}).then(function(){Plotly.animate('3ca1e1bc-faaa-4702-be82-9f760a684667');})\n",
       "        });</script>"
      ],
      "text/vnd.plotly.v1+html": [
       "<div id=\"3ca1e1bc-faaa-4702-be82-9f760a684667\" style=\"height: 6890px; width: 100%;\" class=\"plotly-graph-div\"></div><script type=\"text/javascript\">require([\"plotly\"], function(Plotly) { window.PLOTLYENV=window.PLOTLYENV || {};window.PLOTLYENV.BASE_URL=\"https://plot.ly\";\n",
       "        Plotly.plot(\n",
       "            '3ca1e1bc-faaa-4702-be82-9f760a684667',\n",
       "            [{\"colorscale\": [[0, \"#00083e\"], [0.5, \"#ededee\"], [1, \"#ffffff\"]], \"hoverinfo\": \"none\", \"opacity\": 0.75, \"showscale\": false, \"z\": [[0, 0, 0, 0], [0.5, 0.5, 0.5, 0.5], [1, 1, 1, 1], [0.5, 0.5, 0.5, 0.5], [1, 1, 1, 1], [0.5, 0.5, 0.5, 0.5], [1, 1, 1, 1], [0.5, 0.5, 0.5, 0.5], [1, 1, 1, 1], [0.5, 0.5, 0.5, 0.5], [1, 1, 1, 1], [0.5, 0.5, 0.5, 0.5], [1, 1, 1, 1], [0.5, 0.5, 0.5, 0.5], [1, 1, 1, 1], [0.5, 0.5, 0.5, 0.5], [1, 1, 1, 1], [0.5, 0.5, 0.5, 0.5], [1, 1, 1, 1], [0.5, 0.5, 0.5, 0.5], [1, 1, 1, 1], [0.5, 0.5, 0.5, 0.5], [1, 1, 1, 1], [0.5, 0.5, 0.5, 0.5], [1, 1, 1, 1], [0.5, 0.5, 0.5, 0.5], [1, 1, 1, 1], [0.5, 0.5, 0.5, 0.5], [1, 1, 1, 1], [0.5, 0.5, 0.5, 0.5], [1, 1, 1, 1], [0.5, 0.5, 0.5, 0.5], [1, 1, 1, 1], [0.5, 0.5, 0.5, 0.5], [1, 1, 1, 1], [0.5, 0.5, 0.5, 0.5], [1, 1, 1, 1], [0.5, 0.5, 0.5, 0.5], [1, 1, 1, 1], [0.5, 0.5, 0.5, 0.5], [1, 1, 1, 1], [0.5, 0.5, 0.5, 0.5], [1, 1, 1, 1], [0.5, 0.5, 0.5, 0.5], [1, 1, 1, 1], [0.5, 0.5, 0.5, 0.5], [1, 1, 1, 1], [0.5, 0.5, 0.5, 0.5], [1, 1, 1, 1], [0.5, 0.5, 0.5, 0.5], [1, 1, 1, 1], [0.5, 0.5, 0.5, 0.5], [1, 1, 1, 1], [0.5, 0.5, 0.5, 0.5], [1, 1, 1, 1], [0.5, 0.5, 0.5, 0.5], [1, 1, 1, 1], [0.5, 0.5, 0.5, 0.5], [1, 1, 1, 1], [0.5, 0.5, 0.5, 0.5], [1, 1, 1, 1], [0.5, 0.5, 0.5, 0.5], [1, 1, 1, 1], [0.5, 0.5, 0.5, 0.5], [1, 1, 1, 1], [0.5, 0.5, 0.5, 0.5], [1, 1, 1, 1], [0.5, 0.5, 0.5, 0.5], [1, 1, 1, 1], [0.5, 0.5, 0.5, 0.5], [1, 1, 1, 1], [0.5, 0.5, 0.5, 0.5], [1, 1, 1, 1], [0.5, 0.5, 0.5, 0.5], [1, 1, 1, 1], [0.5, 0.5, 0.5, 0.5], [1, 1, 1, 1], [0.5, 0.5, 0.5, 0.5], [1, 1, 1, 1], [0.5, 0.5, 0.5, 0.5], [1, 1, 1, 1], [0.5, 0.5, 0.5, 0.5], [1, 1, 1, 1], [0.5, 0.5, 0.5, 0.5], [1, 1, 1, 1], [0.5, 0.5, 0.5, 0.5], [1, 1, 1, 1], [0.5, 0.5, 0.5, 0.5], [1, 1, 1, 1], [0.5, 0.5, 0.5, 0.5], [1, 1, 1, 1], [0.5, 0.5, 0.5, 0.5], [1, 1, 1, 1], [0.5, 0.5, 0.5, 0.5], [1, 1, 1, 1], [0.5, 0.5, 0.5, 0.5], [1, 1, 1, 1], [0.5, 0.5, 0.5, 0.5], [1, 1, 1, 1], [0.5, 0.5, 0.5, 0.5], [1, 1, 1, 1], [0.5, 0.5, 0.5, 0.5], [1, 1, 1, 1], [0.5, 0.5, 0.5, 0.5], [1, 1, 1, 1], [0.5, 0.5, 0.5, 0.5], [1, 1, 1, 1], [0.5, 0.5, 0.5, 0.5], [1, 1, 1, 1], [0.5, 0.5, 0.5, 0.5], [1, 1, 1, 1], [0.5, 0.5, 0.5, 0.5], [1, 1, 1, 1], [0.5, 0.5, 0.5, 0.5], [1, 1, 1, 1], [0.5, 0.5, 0.5, 0.5], [1, 1, 1, 1], [0.5, 0.5, 0.5, 0.5], [1, 1, 1, 1], [0.5, 0.5, 0.5, 0.5], [1, 1, 1, 1], [0.5, 0.5, 0.5, 0.5], [1, 1, 1, 1], [0.5, 0.5, 0.5, 0.5], [1, 1, 1, 1], [0.5, 0.5, 0.5, 0.5], [1, 1, 1, 1], [0.5, 0.5, 0.5, 0.5], [1, 1, 1, 1], [0.5, 0.5, 0.5, 0.5], [1, 1, 1, 1], [0.5, 0.5, 0.5, 0.5], [1, 1, 1, 1], [0.5, 0.5, 0.5, 0.5], [1, 1, 1, 1], [0.5, 0.5, 0.5, 0.5], [1, 1, 1, 1], [0.5, 0.5, 0.5, 0.5], [1, 1, 1, 1], [0.5, 0.5, 0.5, 0.5], [1, 1, 1, 1], [0.5, 0.5, 0.5, 0.5], [1, 1, 1, 1], [0.5, 0.5, 0.5, 0.5], [1, 1, 1, 1], [0.5, 0.5, 0.5, 0.5], [1, 1, 1, 1], [0.5, 0.5, 0.5, 0.5], [1, 1, 1, 1], [0.5, 0.5, 0.5, 0.5], [1, 1, 1, 1], [0.5, 0.5, 0.5, 0.5], [1, 1, 1, 1], [0.5, 0.5, 0.5, 0.5], [1, 1, 1, 1], [0.5, 0.5, 0.5, 0.5], [1, 1, 1, 1], [0.5, 0.5, 0.5, 0.5], [1, 1, 1, 1], [0.5, 0.5, 0.5, 0.5], [1, 1, 1, 1], [0.5, 0.5, 0.5, 0.5], [1, 1, 1, 1], [0.5, 0.5, 0.5, 0.5], [1, 1, 1, 1], [0.5, 0.5, 0.5, 0.5], [1, 1, 1, 1], [0.5, 0.5, 0.5, 0.5], [1, 1, 1, 1], [0.5, 0.5, 0.5, 0.5], [1, 1, 1, 1], [0.5, 0.5, 0.5, 0.5], [1, 1, 1, 1], [0.5, 0.5, 0.5, 0.5], [1, 1, 1, 1], [0.5, 0.5, 0.5, 0.5], [1, 1, 1, 1], [0.5, 0.5, 0.5, 0.5], [1, 1, 1, 1], [0.5, 0.5, 0.5, 0.5], [1, 1, 1, 1], [0.5, 0.5, 0.5, 0.5], [1, 1, 1, 1], [0.5, 0.5, 0.5, 0.5], [1, 1, 1, 1], [0.5, 0.5, 0.5, 0.5], [1, 1, 1, 1], [0.5, 0.5, 0.5, 0.5], [1, 1, 1, 1], [0.5, 0.5, 0.5, 0.5], [1, 1, 1, 1], [0.5, 0.5, 0.5, 0.5], [1, 1, 1, 1], [0.5, 0.5, 0.5, 0.5], [1, 1, 1, 1], [0.5, 0.5, 0.5, 0.5], [1, 1, 1, 1], [0.5, 0.5, 0.5, 0.5], [1, 1, 1, 1], [0.5, 0.5, 0.5, 0.5], [1, 1, 1, 1], [0.5, 0.5, 0.5, 0.5], [1, 1, 1, 1], [0.5, 0.5, 0.5, 0.5], [1, 1, 1, 1], [0.5, 0.5, 0.5, 0.5], [1, 1, 1, 1], [0.5, 0.5, 0.5, 0.5], [1, 1, 1, 1], [0.5, 0.5, 0.5, 0.5], [1, 1, 1, 1], [0.5, 0.5, 0.5, 0.5], [1, 1, 1, 1], [0.5, 0.5, 0.5, 0.5], [1, 1, 1, 1], [0.5, 0.5, 0.5, 0.5], [1, 1, 1, 1], [0.5, 0.5, 0.5, 0.5], [1, 1, 1, 1], [0.5, 0.5, 0.5, 0.5], [1, 1, 1, 1], [0.5, 0.5, 0.5, 0.5], [1, 1, 1, 1], [0.5, 0.5, 0.5, 0.5], [1, 1, 1, 1], [0.5, 0.5, 0.5, 0.5], [1, 1, 1, 1], [0.5, 0.5, 0.5, 0.5]], \"type\": \"heatmap\", \"uid\": \"71f225be-a321-11e8-b6c4-b88a605d4570\"}],\n",
       "            {\"annotations\": [{\"align\": \"left\", \"font\": {\"color\": \"#ffffff\"}, \"showarrow\": false, \"text\": \"<b>CountryName</b>\", \"x\": -0.45, \"xanchor\": \"left\", \"xref\": \"x\", \"y\": 0, \"yref\": \"y\"}, {\"align\": \"left\", \"font\": {\"color\": \"#ffffff\"}, \"showarrow\": false, \"text\": \"<b>Population</b>\", \"x\": 0.55, \"xanchor\": \"left\", \"xref\": \"x\", \"y\": 0, \"yref\": \"y\"}, {\"align\": \"left\", \"font\": {\"color\": \"#ffffff\"}, \"showarrow\": false, \"text\": \"<b>Birthrate</b>\", \"x\": 1.55, \"xanchor\": \"left\", \"xref\": \"x\", \"y\": 0, \"yref\": \"y\"}, {\"align\": \"left\", \"font\": {\"color\": \"#ffffff\"}, \"showarrow\": false, \"text\": \"<b>Deathrate </b>\", \"x\": 2.55, \"xanchor\": \"left\", \"xref\": \"x\", \"y\": 0, \"yref\": \"y\"}, {\"align\": \"left\", \"font\": {\"color\": \"#000000\"}, \"showarrow\": false, \"text\": \"Aruba\", \"x\": -0.45, \"xanchor\": \"left\", \"xref\": \"x\", \"y\": 1, \"yref\": \"y\"}, {\"align\": \"left\", \"font\": {\"color\": \"#000000\"}, \"showarrow\": false, \"text\": \"31056997\", \"x\": 0.55, \"xanchor\": \"left\", \"xref\": \"x\", \"y\": 1, \"yref\": \"y\"}, {\"align\": \"left\", \"font\": {\"color\": \"#000000\"}, \"showarrow\": false, \"text\": \"46.6\", \"x\": 1.55, \"xanchor\": \"left\", \"xref\": \"x\", \"y\": 1, \"yref\": \"y\"}, {\"align\": \"left\", \"font\": {\"color\": \"#000000\"}, \"showarrow\": false, \"text\": \"20.34\", \"x\": 2.55, \"xanchor\": \"left\", \"xref\": \"x\", \"y\": 1, \"yref\": \"y\"}, {\"align\": \"left\", \"font\": {\"color\": \"#000000\"}, \"showarrow\": false, \"text\": \"Afghanistan\", \"x\": -0.45, \"xanchor\": \"left\", \"xref\": \"x\", \"y\": 2, \"yref\": \"y\"}, {\"align\": \"left\", \"font\": {\"color\": \"#000000\"}, \"showarrow\": false, \"text\": \"3581655\", \"x\": 0.55, \"xanchor\": \"left\", \"xref\": \"x\", \"y\": 2, \"yref\": \"y\"}, {\"align\": \"left\", \"font\": {\"color\": \"#000000\"}, \"showarrow\": false, \"text\": \"15.11\", \"x\": 1.55, \"xanchor\": \"left\", \"xref\": \"x\", \"y\": 2, \"yref\": \"y\"}, {\"align\": \"left\", \"font\": {\"color\": \"#000000\"}, \"showarrow\": false, \"text\": \"5.22\", \"x\": 2.55, \"xanchor\": \"left\", \"xref\": \"x\", \"y\": 2, \"yref\": \"y\"}, {\"align\": \"left\", \"font\": {\"color\": \"#000000\"}, \"showarrow\": false, \"text\": \"Angola\", \"x\": -0.45, \"xanchor\": \"left\", \"xref\": \"x\", \"y\": 3, \"yref\": \"y\"}, {\"align\": \"left\", \"font\": {\"color\": \"#000000\"}, \"showarrow\": false, \"text\": \"32930091\", \"x\": 0.55, \"xanchor\": \"left\", \"xref\": \"x\", \"y\": 3, \"yref\": \"y\"}, {\"align\": \"left\", \"font\": {\"color\": \"#000000\"}, \"showarrow\": false, \"text\": \"17.14\", \"x\": 1.55, \"xanchor\": \"left\", \"xref\": \"x\", \"y\": 3, \"yref\": \"y\"}, {\"align\": \"left\", \"font\": {\"color\": \"#000000\"}, \"showarrow\": false, \"text\": \"4.61\", \"x\": 2.55, \"xanchor\": \"left\", \"xref\": \"x\", \"y\": 3, \"yref\": \"y\"}, {\"align\": \"left\", \"font\": {\"color\": \"#000000\"}, \"showarrow\": false, \"text\": \"Albania\", \"x\": -0.45, \"xanchor\": \"left\", \"xref\": \"x\", \"y\": 4, \"yref\": \"y\"}, {\"align\": \"left\", \"font\": {\"color\": \"#000000\"}, \"showarrow\": false, \"text\": \"57794\", \"x\": 0.55, \"xanchor\": \"left\", \"xref\": \"x\", \"y\": 4, \"yref\": \"y\"}, {\"align\": \"left\", \"font\": {\"color\": \"#000000\"}, \"showarrow\": false, \"text\": \"22.46\", \"x\": 1.55, \"xanchor\": \"left\", \"xref\": \"x\", \"y\": 4, \"yref\": \"y\"}, {\"align\": \"left\", \"font\": {\"color\": \"#000000\"}, \"showarrow\": false, \"text\": \"3.27\", \"x\": 2.55, \"xanchor\": \"left\", \"xref\": \"x\", \"y\": 4, \"yref\": \"y\"}, {\"align\": \"left\", \"font\": {\"color\": \"#000000\"}, \"showarrow\": false, \"text\": \"Andorra\", \"x\": -0.45, \"xanchor\": \"left\", \"xref\": \"x\", \"y\": 5, \"yref\": \"y\"}, {\"align\": \"left\", \"font\": {\"color\": \"#000000\"}, \"showarrow\": false, \"text\": \"71201\", \"x\": 0.55, \"xanchor\": \"left\", \"xref\": \"x\", \"y\": 5, \"yref\": \"y\"}, {\"align\": \"left\", \"font\": {\"color\": \"#000000\"}, \"showarrow\": false, \"text\": \"8.71\", \"x\": 1.55, \"xanchor\": \"left\", \"xref\": \"x\", \"y\": 5, \"yref\": \"y\"}, {\"align\": \"left\", \"font\": {\"color\": \"#000000\"}, \"showarrow\": false, \"text\": \"6.25\", \"x\": 2.55, \"xanchor\": \"left\", \"xref\": \"x\", \"y\": 5, \"yref\": \"y\"}, {\"align\": \"left\", \"font\": {\"color\": \"#000000\"}, \"showarrow\": false, \"text\": \"Arab World\", \"x\": -0.45, \"xanchor\": \"left\", \"xref\": \"x\", \"y\": 6, \"yref\": \"y\"}, {\"align\": \"left\", \"font\": {\"color\": \"#000000\"}, \"showarrow\": false, \"text\": \"12127071\", \"x\": 0.55, \"xanchor\": \"left\", \"xref\": \"x\", \"y\": 6, \"yref\": \"y\"}, {\"align\": \"left\", \"font\": {\"color\": \"#000000\"}, \"showarrow\": false, \"text\": \"45.11\", \"x\": 1.55, \"xanchor\": \"left\", \"xref\": \"x\", \"y\": 6, \"yref\": \"y\"}, {\"align\": \"left\", \"font\": {\"color\": \"#000000\"}, \"showarrow\": false, \"text\": \"24.2\", \"x\": 2.55, \"xanchor\": \"left\", \"xref\": \"x\", \"y\": 6, \"yref\": \"y\"}, {\"align\": \"left\", \"font\": {\"color\": \"#000000\"}, \"showarrow\": false, \"text\": \"United Arab Emirates\", \"x\": -0.45, \"xanchor\": \"left\", \"xref\": \"x\", \"y\": 7, \"yref\": \"y\"}, {\"align\": \"left\", \"font\": {\"color\": \"#000000\"}, \"showarrow\": false, \"text\": \"13477\", \"x\": 0.55, \"xanchor\": \"left\", \"xref\": \"x\", \"y\": 7, \"yref\": \"y\"}, {\"align\": \"left\", \"font\": {\"color\": \"#000000\"}, \"showarrow\": false, \"text\": \"14.17\", \"x\": 1.55, \"xanchor\": \"left\", \"xref\": \"x\", \"y\": 7, \"yref\": \"y\"}, {\"align\": \"left\", \"font\": {\"color\": \"#000000\"}, \"showarrow\": false, \"text\": \"5.34\", \"x\": 2.55, \"xanchor\": \"left\", \"xref\": \"x\", \"y\": 7, \"yref\": \"y\"}, {\"align\": \"left\", \"font\": {\"color\": \"#000000\"}, \"showarrow\": false, \"text\": \"Argentina\", \"x\": -0.45, \"xanchor\": \"left\", \"xref\": \"x\", \"y\": 8, \"yref\": \"y\"}, {\"align\": \"left\", \"font\": {\"color\": \"#000000\"}, \"showarrow\": false, \"text\": \"69108\", \"x\": 0.55, \"xanchor\": \"left\", \"xref\": \"x\", \"y\": 8, \"yref\": \"y\"}, {\"align\": \"left\", \"font\": {\"color\": \"#000000\"}, \"showarrow\": false, \"text\": \"16.93\", \"x\": 1.55, \"xanchor\": \"left\", \"xref\": \"x\", \"y\": 8, \"yref\": \"y\"}, {\"align\": \"left\", \"font\": {\"color\": \"#000000\"}, \"showarrow\": false, \"text\": \"5.37\", \"x\": 2.55, \"xanchor\": \"left\", \"xref\": \"x\", \"y\": 8, \"yref\": \"y\"}, {\"align\": \"left\", \"font\": {\"color\": \"#000000\"}, \"showarrow\": false, \"text\": \"Armenia\", \"x\": -0.45, \"xanchor\": \"left\", \"xref\": \"x\", \"y\": 9, \"yref\": \"y\"}, {\"align\": \"left\", \"font\": {\"color\": \"#000000\"}, \"showarrow\": false, \"text\": \"39921833\", \"x\": 0.55, \"xanchor\": \"left\", \"xref\": \"x\", \"y\": 9, \"yref\": \"y\"}, {\"align\": \"left\", \"font\": {\"color\": \"#000000\"}, \"showarrow\": false, \"text\": \"16.73\", \"x\": 1.55, \"xanchor\": \"left\", \"xref\": \"x\", \"y\": 9, \"yref\": \"y\"}, {\"align\": \"left\", \"font\": {\"color\": \"#000000\"}, \"showarrow\": false, \"text\": \"7.55\", \"x\": 2.55, \"xanchor\": \"left\", \"xref\": \"x\", \"y\": 9, \"yref\": \"y\"}, {\"align\": \"left\", \"font\": {\"color\": \"#000000\"}, \"showarrow\": false, \"text\": \"American Samoa\", \"x\": -0.45, \"xanchor\": \"left\", \"xref\": \"x\", \"y\": 10, \"yref\": \"y\"}, {\"align\": \"left\", \"font\": {\"color\": \"#000000\"}, \"showarrow\": false, \"text\": \"2976372\", \"x\": 0.55, \"xanchor\": \"left\", \"xref\": \"x\", \"y\": 10, \"yref\": \"y\"}, {\"align\": \"left\", \"font\": {\"color\": \"#000000\"}, \"showarrow\": false, \"text\": \"12.07\", \"x\": 1.55, \"xanchor\": \"left\", \"xref\": \"x\", \"y\": 10, \"yref\": \"y\"}, {\"align\": \"left\", \"font\": {\"color\": \"#000000\"}, \"showarrow\": false, \"text\": \"8.23\", \"x\": 2.55, \"xanchor\": \"left\", \"xref\": \"x\", \"y\": 10, \"yref\": \"y\"}, {\"align\": \"left\", \"font\": {\"color\": \"#000000\"}, \"showarrow\": false, \"text\": \"Antigua and Barbuda\", \"x\": -0.45, \"xanchor\": \"left\", \"xref\": \"x\", \"y\": 11, \"yref\": \"y\"}, {\"align\": \"left\", \"font\": {\"color\": \"#000000\"}, \"showarrow\": false, \"text\": \"71891\", \"x\": 0.55, \"xanchor\": \"left\", \"xref\": \"x\", \"y\": 11, \"yref\": \"y\"}, {\"align\": \"left\", \"font\": {\"color\": \"#000000\"}, \"showarrow\": false, \"text\": \"11.03\", \"x\": 1.55, \"xanchor\": \"left\", \"xref\": \"x\", \"y\": 11, \"yref\": \"y\"}, {\"align\": \"left\", \"font\": {\"color\": \"#000000\"}, \"showarrow\": false, \"text\": \"6.68\", \"x\": 2.55, \"xanchor\": \"left\", \"xref\": \"x\", \"y\": 11, \"yref\": \"y\"}, {\"align\": \"left\", \"font\": {\"color\": \"#000000\"}, \"showarrow\": false, \"text\": \"Australia\", \"x\": -0.45, \"xanchor\": \"left\", \"xref\": \"x\", \"y\": 12, \"yref\": \"y\"}, {\"align\": \"left\", \"font\": {\"color\": \"#000000\"}, \"showarrow\": false, \"text\": \"20264082\", \"x\": 0.55, \"xanchor\": \"left\", \"xref\": \"x\", \"y\": 12, \"yref\": \"y\"}, {\"align\": \"left\", \"font\": {\"color\": \"#000000\"}, \"showarrow\": false, \"text\": \"12.14\", \"x\": 1.55, \"xanchor\": \"left\", \"xref\": \"x\", \"y\": 12, \"yref\": \"y\"}, {\"align\": \"left\", \"font\": {\"color\": \"#000000\"}, \"showarrow\": false, \"text\": \"7.51\", \"x\": 2.55, \"xanchor\": \"left\", \"xref\": \"x\", \"y\": 12, \"yref\": \"y\"}, {\"align\": \"left\", \"font\": {\"color\": \"#000000\"}, \"showarrow\": false, \"text\": \"Austria\", \"x\": -0.45, \"xanchor\": \"left\", \"xref\": \"x\", \"y\": 13, \"yref\": \"y\"}, {\"align\": \"left\", \"font\": {\"color\": \"#000000\"}, \"showarrow\": false, \"text\": \"8192880\", \"x\": 0.55, \"xanchor\": \"left\", \"xref\": \"x\", \"y\": 13, \"yref\": \"y\"}, {\"align\": \"left\", \"font\": {\"color\": \"#000000\"}, \"showarrow\": false, \"text\": \"8.74\", \"x\": 1.55, \"xanchor\": \"left\", \"xref\": \"x\", \"y\": 13, \"yref\": \"y\"}, {\"align\": \"left\", \"font\": {\"color\": \"#000000\"}, \"showarrow\": false, \"text\": \"9.76\", \"x\": 2.55, \"xanchor\": \"left\", \"xref\": \"x\", \"y\": 13, \"yref\": \"y\"}, {\"align\": \"left\", \"font\": {\"color\": \"#000000\"}, \"showarrow\": false, \"text\": \"Azerbaijan\", \"x\": -0.45, \"xanchor\": \"left\", \"xref\": \"x\", \"y\": 14, \"yref\": \"y\"}, {\"align\": \"left\", \"font\": {\"color\": \"#000000\"}, \"showarrow\": false, \"text\": \"7961619\", \"x\": 0.55, \"xanchor\": \"left\", \"xref\": \"x\", \"y\": 14, \"yref\": \"y\"}, {\"align\": \"left\", \"font\": {\"color\": \"#000000\"}, \"showarrow\": false, \"text\": \"20.74\", \"x\": 1.55, \"xanchor\": \"left\", \"xref\": \"x\", \"y\": 14, \"yref\": \"y\"}, {\"align\": \"left\", \"font\": {\"color\": \"#000000\"}, \"showarrow\": false, \"text\": \"9.75\", \"x\": 2.55, \"xanchor\": \"left\", \"xref\": \"x\", \"y\": 14, \"yref\": \"y\"}, {\"align\": \"left\", \"font\": {\"color\": \"#000000\"}, \"showarrow\": false, \"text\": \"Burundi\", \"x\": -0.45, \"xanchor\": \"left\", \"xref\": \"x\", \"y\": 15, \"yref\": \"y\"}, {\"align\": \"left\", \"font\": {\"color\": \"#000000\"}, \"showarrow\": false, \"text\": \"303770\", \"x\": 0.55, \"xanchor\": \"left\", \"xref\": \"x\", \"y\": 15, \"yref\": \"y\"}, {\"align\": \"left\", \"font\": {\"color\": \"#000000\"}, \"showarrow\": false, \"text\": \"17.57\", \"x\": 1.55, \"xanchor\": \"left\", \"xref\": \"x\", \"y\": 15, \"yref\": \"y\"}, {\"align\": \"left\", \"font\": {\"color\": \"#000000\"}, \"showarrow\": false, \"text\": \"9.05\", \"x\": 2.55, \"xanchor\": \"left\", \"xref\": \"x\", \"y\": 15, \"yref\": \"y\"}, {\"align\": \"left\", \"font\": {\"color\": \"#000000\"}, \"showarrow\": false, \"text\": \"Belgium\", \"x\": -0.45, \"xanchor\": \"left\", \"xref\": \"x\", \"y\": 16, \"yref\": \"y\"}, {\"align\": \"left\", \"font\": {\"color\": \"#000000\"}, \"showarrow\": false, \"text\": \"698585\", \"x\": 0.55, \"xanchor\": \"left\", \"xref\": \"x\", \"y\": 16, \"yref\": \"y\"}, {\"align\": \"left\", \"font\": {\"color\": \"#000000\"}, \"showarrow\": false, \"text\": \"17.8\", \"x\": 1.55, \"xanchor\": \"left\", \"xref\": \"x\", \"y\": 16, \"yref\": \"y\"}, {\"align\": \"left\", \"font\": {\"color\": \"#000000\"}, \"showarrow\": false, \"text\": \"4.14\", \"x\": 2.55, \"xanchor\": \"left\", \"xref\": \"x\", \"y\": 16, \"yref\": \"y\"}, {\"align\": \"left\", \"font\": {\"color\": \"#000000\"}, \"showarrow\": false, \"text\": \"Benin\", \"x\": -0.45, \"xanchor\": \"left\", \"xref\": \"x\", \"y\": 17, \"yref\": \"y\"}, {\"align\": \"left\", \"font\": {\"color\": \"#000000\"}, \"showarrow\": false, \"text\": \"147365352\", \"x\": 0.55, \"xanchor\": \"left\", \"xref\": \"x\", \"y\": 17, \"yref\": \"y\"}, {\"align\": \"left\", \"font\": {\"color\": \"#000000\"}, \"showarrow\": false, \"text\": \"29.8\", \"x\": 1.55, \"xanchor\": \"left\", \"xref\": \"x\", \"y\": 17, \"yref\": \"y\"}, {\"align\": \"left\", \"font\": {\"color\": \"#000000\"}, \"showarrow\": false, \"text\": \"8.27\", \"x\": 2.55, \"xanchor\": \"left\", \"xref\": \"x\", \"y\": 17, \"yref\": \"y\"}, {\"align\": \"left\", \"font\": {\"color\": \"#000000\"}, \"showarrow\": false, \"text\": \"Burkina Faso\", \"x\": -0.45, \"xanchor\": \"left\", \"xref\": \"x\", \"y\": 18, \"yref\": \"y\"}, {\"align\": \"left\", \"font\": {\"color\": \"#000000\"}, \"showarrow\": false, \"text\": \"279912\", \"x\": 0.55, \"xanchor\": \"left\", \"xref\": \"x\", \"y\": 18, \"yref\": \"y\"}, {\"align\": \"left\", \"font\": {\"color\": \"#000000\"}, \"showarrow\": false, \"text\": \"12.71\", \"x\": 1.55, \"xanchor\": \"left\", \"xref\": \"x\", \"y\": 18, \"yref\": \"y\"}, {\"align\": \"left\", \"font\": {\"color\": \"#000000\"}, \"showarrow\": false, \"text\": \"8.67\", \"x\": 2.55, \"xanchor\": \"left\", \"xref\": \"x\", \"y\": 18, \"yref\": \"y\"}, {\"align\": \"left\", \"font\": {\"color\": \"#000000\"}, \"showarrow\": false, \"text\": \"Bangladesh\", \"x\": -0.45, \"xanchor\": \"left\", \"xref\": \"x\", \"y\": 19, \"yref\": \"y\"}, {\"align\": \"left\", \"font\": {\"color\": \"#000000\"}, \"showarrow\": false, \"text\": \"10293011\", \"x\": 0.55, \"xanchor\": \"left\", \"xref\": \"x\", \"y\": 19, \"yref\": \"y\"}, {\"align\": \"left\", \"font\": {\"color\": \"#000000\"}, \"showarrow\": false, \"text\": \"11.16\", \"x\": 1.55, \"xanchor\": \"left\", \"xref\": \"x\", \"y\": 19, \"yref\": \"y\"}, {\"align\": \"left\", \"font\": {\"color\": \"#000000\"}, \"showarrow\": false, \"text\": \"14.02\", \"x\": 2.55, \"xanchor\": \"left\", \"xref\": \"x\", \"y\": 19, \"yref\": \"y\"}, {\"align\": \"left\", \"font\": {\"color\": \"#000000\"}, \"showarrow\": false, \"text\": \"Bulgaria\", \"x\": -0.45, \"xanchor\": \"left\", \"xref\": \"x\", \"y\": 20, \"yref\": \"y\"}, {\"align\": \"left\", \"font\": {\"color\": \"#000000\"}, \"showarrow\": false, \"text\": \"10379067\", \"x\": 0.55, \"xanchor\": \"left\", \"xref\": \"x\", \"y\": 20, \"yref\": \"y\"}, {\"align\": \"left\", \"font\": {\"color\": \"#000000\"}, \"showarrow\": false, \"text\": \"10.38\", \"x\": 1.55, \"xanchor\": \"left\", \"xref\": \"x\", \"y\": 20, \"yref\": \"y\"}, {\"align\": \"left\", \"font\": {\"color\": \"#000000\"}, \"showarrow\": false, \"text\": \"10.27\", \"x\": 2.55, \"xanchor\": \"left\", \"xref\": \"x\", \"y\": 20, \"yref\": \"y\"}, {\"align\": \"left\", \"font\": {\"color\": \"#000000\"}, \"showarrow\": false, \"text\": \"Bahrain\", \"x\": -0.45, \"xanchor\": \"left\", \"xref\": \"x\", \"y\": 21, \"yref\": \"y\"}, {\"align\": \"left\", \"font\": {\"color\": \"#000000\"}, \"showarrow\": false, \"text\": \"287730\", \"x\": 0.55, \"xanchor\": \"left\", \"xref\": \"x\", \"y\": 21, \"yref\": \"y\"}, {\"align\": \"left\", \"font\": {\"color\": \"#000000\"}, \"showarrow\": false, \"text\": \"28.84\", \"x\": 1.55, \"xanchor\": \"left\", \"xref\": \"x\", \"y\": 21, \"yref\": \"y\"}, {\"align\": \"left\", \"font\": {\"color\": \"#000000\"}, \"showarrow\": false, \"text\": \"5.72\", \"x\": 2.55, \"xanchor\": \"left\", \"xref\": \"x\", \"y\": 21, \"yref\": \"y\"}, {\"align\": \"left\", \"font\": {\"color\": \"#000000\"}, \"showarrow\": false, \"text\": \"Bahamas, The\", \"x\": -0.45, \"xanchor\": \"left\", \"xref\": \"x\", \"y\": 22, \"yref\": \"y\"}, {\"align\": \"left\", \"font\": {\"color\": \"#000000\"}, \"showarrow\": false, \"text\": \"7862944\", \"x\": 0.55, \"xanchor\": \"left\", \"xref\": \"x\", \"y\": 22, \"yref\": \"y\"}, {\"align\": \"left\", \"font\": {\"color\": \"#000000\"}, \"showarrow\": false, \"text\": \"38.85\", \"x\": 1.55, \"xanchor\": \"left\", \"xref\": \"x\", \"y\": 22, \"yref\": \"y\"}, {\"align\": \"left\", \"font\": {\"color\": \"#000000\"}, \"showarrow\": false, \"text\": \"12.22\", \"x\": 2.55, \"xanchor\": \"left\", \"xref\": \"x\", \"y\": 22, \"yref\": \"y\"}, {\"align\": \"left\", \"font\": {\"color\": \"#000000\"}, \"showarrow\": false, \"text\": \"Bosnia and Herzegovina\", \"x\": -0.45, \"xanchor\": \"left\", \"xref\": \"x\", \"y\": 23, \"yref\": \"y\"}, {\"align\": \"left\", \"font\": {\"color\": \"#000000\"}, \"showarrow\": false, \"text\": \"65773\", \"x\": 0.55, \"xanchor\": \"left\", \"xref\": \"x\", \"y\": 23, \"yref\": \"y\"}, {\"align\": \"left\", \"font\": {\"color\": \"#000000\"}, \"showarrow\": false, \"text\": \"11.4\", \"x\": 1.55, \"xanchor\": \"left\", \"xref\": \"x\", \"y\": 23, \"yref\": \"y\"}, {\"align\": \"left\", \"font\": {\"color\": \"#000000\"}, \"showarrow\": false, \"text\": \"7.74\", \"x\": 2.55, \"xanchor\": \"left\", \"xref\": \"x\", \"y\": 23, \"yref\": \"y\"}, {\"align\": \"left\", \"font\": {\"color\": \"#000000\"}, \"showarrow\": false, \"text\": \"Belarus\", \"x\": -0.45, \"xanchor\": \"left\", \"xref\": \"x\", \"y\": 24, \"yref\": \"y\"}, {\"align\": \"left\", \"font\": {\"color\": \"#000000\"}, \"showarrow\": false, \"text\": \"2279723\", \"x\": 0.55, \"xanchor\": \"left\", \"xref\": \"x\", \"y\": 24, \"yref\": \"y\"}, {\"align\": \"left\", \"font\": {\"color\": \"#000000\"}, \"showarrow\": false, \"text\": \"33.65\", \"x\": 1.55, \"xanchor\": \"left\", \"xref\": \"x\", \"y\": 24, \"yref\": \"y\"}, {\"align\": \"left\", \"font\": {\"color\": \"#000000\"}, \"showarrow\": false, \"text\": \"12.7\", \"x\": 2.55, \"xanchor\": \"left\", \"xref\": \"x\", \"y\": 24, \"yref\": \"y\"}, {\"align\": \"left\", \"font\": {\"color\": \"#000000\"}, \"showarrow\": false, \"text\": \"Belize\", \"x\": -0.45, \"xanchor\": \"left\", \"xref\": \"x\", \"y\": 25, \"yref\": \"y\"}, {\"align\": \"left\", \"font\": {\"color\": \"#000000\"}, \"showarrow\": false, \"text\": \"8989046\", \"x\": 0.55, \"xanchor\": \"left\", \"xref\": \"x\", \"y\": 25, \"yref\": \"y\"}, {\"align\": \"left\", \"font\": {\"color\": \"#000000\"}, \"showarrow\": false, \"text\": \"23.3\", \"x\": 1.55, \"xanchor\": \"left\", \"xref\": \"x\", \"y\": 25, \"yref\": \"y\"}, {\"align\": \"left\", \"font\": {\"color\": \"#000000\"}, \"showarrow\": false, \"text\": \"7.53\", \"x\": 2.55, \"xanchor\": \"left\", \"xref\": \"x\", \"y\": 25, \"yref\": \"y\"}, {\"align\": \"left\", \"font\": {\"color\": \"#000000\"}, \"showarrow\": false, \"text\": \"Bermuda\", \"x\": -0.45, \"xanchor\": \"left\", \"xref\": \"x\", \"y\": 26, \"yref\": \"y\"}, {\"align\": \"left\", \"font\": {\"color\": \"#000000\"}, \"showarrow\": false, \"text\": \"4498976\", \"x\": 0.55, \"xanchor\": \"left\", \"xref\": \"x\", \"y\": 26, \"yref\": \"y\"}, {\"align\": \"left\", \"font\": {\"color\": \"#000000\"}, \"showarrow\": false, \"text\": \"8.77\", \"x\": 1.55, \"xanchor\": \"left\", \"xref\": \"x\", \"y\": 26, \"yref\": \"y\"}, {\"align\": \"left\", \"font\": {\"color\": \"#000000\"}, \"showarrow\": false, \"text\": \"8.27\", \"x\": 2.55, \"xanchor\": \"left\", \"xref\": \"x\", \"y\": 26, \"yref\": \"y\"}, {\"align\": \"left\", \"font\": {\"color\": \"#000000\"}, \"showarrow\": false, \"text\": \"Bolivia\", \"x\": -0.45, \"xanchor\": \"left\", \"xref\": \"x\", \"y\": 27, \"yref\": \"y\"}, {\"align\": \"left\", \"font\": {\"color\": \"#000000\"}, \"showarrow\": false, \"text\": \"1639833\", \"x\": 0.55, \"xanchor\": \"left\", \"xref\": \"x\", \"y\": 27, \"yref\": \"y\"}, {\"align\": \"left\", \"font\": {\"color\": \"#000000\"}, \"showarrow\": false, \"text\": \"23.08\", \"x\": 1.55, \"xanchor\": \"left\", \"xref\": \"x\", \"y\": 27, \"yref\": \"y\"}, {\"align\": \"left\", \"font\": {\"color\": \"#000000\"}, \"showarrow\": false, \"text\": \"29.5\", \"x\": 2.55, \"xanchor\": \"left\", \"xref\": \"x\", \"y\": 27, \"yref\": \"y\"}, {\"align\": \"left\", \"font\": {\"color\": \"#000000\"}, \"showarrow\": false, \"text\": \"Brazil\", \"x\": -0.45, \"xanchor\": \"left\", \"xref\": \"x\", \"y\": 28, \"yref\": \"y\"}, {\"align\": \"left\", \"font\": {\"color\": \"#000000\"}, \"showarrow\": false, \"text\": \"188078227\", \"x\": 0.55, \"xanchor\": \"left\", \"xref\": \"x\", \"y\": 28, \"yref\": \"y\"}, {\"align\": \"left\", \"font\": {\"color\": \"#000000\"}, \"showarrow\": false, \"text\": \"16.56\", \"x\": 1.55, \"xanchor\": \"left\", \"xref\": \"x\", \"y\": 28, \"yref\": \"y\"}, {\"align\": \"left\", \"font\": {\"color\": \"#000000\"}, \"showarrow\": false, \"text\": \"6.17\", \"x\": 2.55, \"xanchor\": \"left\", \"xref\": \"x\", \"y\": 28, \"yref\": \"y\"}, {\"align\": \"left\", \"font\": {\"color\": \"#000000\"}, \"showarrow\": false, \"text\": \"Barbados\", \"x\": -0.45, \"xanchor\": \"left\", \"xref\": \"x\", \"y\": 29, \"yref\": \"y\"}, {\"align\": \"left\", \"font\": {\"color\": \"#000000\"}, \"showarrow\": false, \"text\": \"23098\", \"x\": 0.55, \"xanchor\": \"left\", \"xref\": \"x\", \"y\": 29, \"yref\": \"y\"}, {\"align\": \"left\", \"font\": {\"color\": \"#000000\"}, \"showarrow\": false, \"text\": \"14.89\", \"x\": 1.55, \"xanchor\": \"left\", \"xref\": \"x\", \"y\": 29, \"yref\": \"y\"}, {\"align\": \"left\", \"font\": {\"color\": \"#000000\"}, \"showarrow\": false, \"text\": \"4.42\", \"x\": 2.55, \"xanchor\": \"left\", \"xref\": \"x\", \"y\": 29, \"yref\": \"y\"}, {\"align\": \"left\", \"font\": {\"color\": \"#000000\"}, \"showarrow\": false, \"text\": \"Brunei Darussalam\", \"x\": -0.45, \"xanchor\": \"left\", \"xref\": \"x\", \"y\": 30, \"yref\": \"y\"}, {\"align\": \"left\", \"font\": {\"color\": \"#000000\"}, \"showarrow\": false, \"text\": \"379444\", \"x\": 0.55, \"xanchor\": \"left\", \"xref\": \"x\", \"y\": 30, \"yref\": \"y\"}, {\"align\": \"left\", \"font\": {\"color\": \"#000000\"}, \"showarrow\": false, \"text\": \"18.79\", \"x\": 1.55, \"xanchor\": \"left\", \"xref\": \"x\", \"y\": 30, \"yref\": \"y\"}, {\"align\": \"left\", \"font\": {\"color\": \"#000000\"}, \"showarrow\": false, \"text\": \"3.45\", \"x\": 2.55, \"xanchor\": \"left\", \"xref\": \"x\", \"y\": 30, \"yref\": \"y\"}, {\"align\": \"left\", \"font\": {\"color\": \"#000000\"}, \"showarrow\": false, \"text\": \"Bhutan\", \"x\": -0.45, \"xanchor\": \"left\", \"xref\": \"x\", \"y\": 31, \"yref\": \"y\"}, {\"align\": \"left\", \"font\": {\"color\": \"#000000\"}, \"showarrow\": false, \"text\": \"7385367\", \"x\": 0.55, \"xanchor\": \"left\", \"xref\": \"x\", \"y\": 31, \"yref\": \"y\"}, {\"align\": \"left\", \"font\": {\"color\": \"#000000\"}, \"showarrow\": false, \"text\": \"9.65\", \"x\": 1.55, \"xanchor\": \"left\", \"xref\": \"x\", \"y\": 31, \"yref\": \"y\"}, {\"align\": \"left\", \"font\": {\"color\": \"#000000\"}, \"showarrow\": false, \"text\": \"14.27\", \"x\": 2.55, \"xanchor\": \"left\", \"xref\": \"x\", \"y\": 31, \"yref\": \"y\"}, {\"align\": \"left\", \"font\": {\"color\": \"#000000\"}, \"showarrow\": false, \"text\": \"Botswana\", \"x\": -0.45, \"xanchor\": \"left\", \"xref\": \"x\", \"y\": 32, \"yref\": \"y\"}, {\"align\": \"left\", \"font\": {\"color\": \"#000000\"}, \"showarrow\": false, \"text\": \"13902972\", \"x\": 0.55, \"xanchor\": \"left\", \"xref\": \"x\", \"y\": 32, \"yref\": \"y\"}, {\"align\": \"left\", \"font\": {\"color\": \"#000000\"}, \"showarrow\": false, \"text\": \"45.62\", \"x\": 1.55, \"xanchor\": \"left\", \"xref\": \"x\", \"y\": 32, \"yref\": \"y\"}, {\"align\": \"left\", \"font\": {\"color\": \"#000000\"}, \"showarrow\": false, \"text\": \"15.6\", \"x\": 2.55, \"xanchor\": \"left\", \"xref\": \"x\", \"y\": 32, \"yref\": \"y\"}, {\"align\": \"left\", \"font\": {\"color\": \"#000000\"}, \"showarrow\": false, \"text\": \"Central African Republic\", \"x\": -0.45, \"xanchor\": \"left\", \"xref\": \"x\", \"y\": 33, \"yref\": \"y\"}, {\"align\": \"left\", \"font\": {\"color\": \"#000000\"}, \"showarrow\": false, \"text\": \"47382633\", \"x\": 0.55, \"xanchor\": \"left\", \"xref\": \"x\", \"y\": 33, \"yref\": \"y\"}, {\"align\": \"left\", \"font\": {\"color\": \"#000000\"}, \"showarrow\": false, \"text\": \"17.91\", \"x\": 1.55, \"xanchor\": \"left\", \"xref\": \"x\", \"y\": 33, \"yref\": \"y\"}, {\"align\": \"left\", \"font\": {\"color\": \"#000000\"}, \"showarrow\": false, \"text\": \"9.83\", \"x\": 2.55, \"xanchor\": \"left\", \"xref\": \"x\", \"y\": 33, \"yref\": \"y\"}, {\"align\": \"left\", \"font\": {\"color\": \"#000000\"}, \"showarrow\": false, \"text\": \"Canada\", \"x\": -0.45, \"xanchor\": \"left\", \"xref\": \"x\", \"y\": 34, \"yref\": \"y\"}, {\"align\": \"left\", \"font\": {\"color\": \"#000000\"}, \"showarrow\": false, \"text\": \"8090068\", \"x\": 0.55, \"xanchor\": \"left\", \"xref\": \"x\", \"y\": 34, \"yref\": \"y\"}, {\"align\": \"left\", \"font\": {\"color\": \"#000000\"}, \"showarrow\": false, \"text\": \"42.22\", \"x\": 1.55, \"xanchor\": \"left\", \"xref\": \"x\", \"y\": 34, \"yref\": \"y\"}, {\"align\": \"left\", \"font\": {\"color\": \"#000000\"}, \"showarrow\": false, \"text\": \"13.46\", \"x\": 2.55, \"xanchor\": \"left\", \"xref\": \"x\", \"y\": 34, \"yref\": \"y\"}, {\"align\": \"left\", \"font\": {\"color\": \"#000000\"}, \"showarrow\": false, \"text\": \"Central Europe and the Baltics\", \"x\": -0.45, \"xanchor\": \"left\", \"xref\": \"x\", \"y\": 35, \"yref\": \"y\"}, {\"align\": \"left\", \"font\": {\"color\": \"#000000\"}, \"showarrow\": false, \"text\": \"13881427\", \"x\": 0.55, \"xanchor\": \"left\", \"xref\": \"x\", \"y\": 35, \"yref\": \"y\"}, {\"align\": \"left\", \"font\": {\"color\": \"#000000\"}, \"showarrow\": false, \"text\": \"26.9\", \"x\": 1.55, \"xanchor\": \"left\", \"xref\": \"x\", \"y\": 35, \"yref\": \"y\"}, {\"align\": \"left\", \"font\": {\"color\": \"#000000\"}, \"showarrow\": false, \"text\": \"9.06\", \"x\": 2.55, \"xanchor\": \"left\", \"xref\": \"x\", \"y\": 35, \"yref\": \"y\"}, {\"align\": \"left\", \"font\": {\"color\": \"#000000\"}, \"showarrow\": false, \"text\": \"Switzerland\", \"x\": -0.45, \"xanchor\": \"left\", \"xref\": \"x\", \"y\": 36, \"yref\": \"y\"}, {\"align\": \"left\", \"font\": {\"color\": \"#000000\"}, \"showarrow\": false, \"text\": \"17340702\", \"x\": 0.55, \"xanchor\": \"left\", \"xref\": \"x\", \"y\": 36, \"yref\": \"y\"}, {\"align\": \"left\", \"font\": {\"color\": \"#000000\"}, \"showarrow\": false, \"text\": \"33.89\", \"x\": 1.55, \"xanchor\": \"left\", \"xref\": \"x\", \"y\": 36, \"yref\": \"y\"}, {\"align\": \"left\", \"font\": {\"color\": \"#000000\"}, \"showarrow\": false, \"text\": \"13.47\", \"x\": 2.55, \"xanchor\": \"left\", \"xref\": \"x\", \"y\": 36, \"yref\": \"y\"}, {\"align\": \"left\", \"font\": {\"color\": \"#000000\"}, \"showarrow\": false, \"text\": \"Channel Islands\", \"x\": -0.45, \"xanchor\": \"left\", \"xref\": \"x\", \"y\": 37, \"yref\": \"y\"}, {\"align\": \"left\", \"font\": {\"color\": \"#000000\"}, \"showarrow\": false, \"text\": \"33098932\", \"x\": 0.55, \"xanchor\": \"left\", \"xref\": \"x\", \"y\": 37, \"yref\": \"y\"}, {\"align\": \"left\", \"font\": {\"color\": \"#000000\"}, \"showarrow\": false, \"text\": \"10.78\", \"x\": 1.55, \"xanchor\": \"left\", \"xref\": \"x\", \"y\": 37, \"yref\": \"y\"}, {\"align\": \"left\", \"font\": {\"color\": \"#000000\"}, \"showarrow\": false, \"text\": \"7.8\", \"x\": 2.55, \"xanchor\": \"left\", \"xref\": \"x\", \"y\": 37, \"yref\": \"y\"}, {\"align\": \"left\", \"font\": {\"color\": \"#000000\"}, \"showarrow\": false, \"text\": \"Chile\", \"x\": -0.45, \"xanchor\": \"left\", \"xref\": \"x\", \"y\": 38, \"yref\": \"y\"}, {\"align\": \"left\", \"font\": {\"color\": \"#000000\"}, \"showarrow\": false, \"text\": \"420979\", \"x\": 0.55, \"xanchor\": \"left\", \"xref\": \"x\", \"y\": 38, \"yref\": \"y\"}, {\"align\": \"left\", \"font\": {\"color\": \"#000000\"}, \"showarrow\": false, \"text\": \"24.87\", \"x\": 1.55, \"xanchor\": \"left\", \"xref\": \"x\", \"y\": 38, \"yref\": \"y\"}, {\"align\": \"left\", \"font\": {\"color\": \"#000000\"}, \"showarrow\": false, \"text\": \"6.55\", \"x\": 2.55, \"xanchor\": \"left\", \"xref\": \"x\", \"y\": 38, \"yref\": \"y\"}, {\"align\": \"left\", \"font\": {\"color\": \"#000000\"}, \"showarrow\": false, \"text\": \"China\", \"x\": -0.45, \"xanchor\": \"left\", \"xref\": \"x\", \"y\": 39, \"yref\": \"y\"}, {\"align\": \"left\", \"font\": {\"color\": \"#000000\"}, \"showarrow\": false, \"text\": \"45436\", \"x\": 0.55, \"xanchor\": \"left\", \"xref\": \"x\", \"y\": 39, \"yref\": \"y\"}, {\"align\": \"left\", \"font\": {\"color\": \"#000000\"}, \"showarrow\": false, \"text\": \"12.74\", \"x\": 1.55, \"xanchor\": \"left\", \"xref\": \"x\", \"y\": 39, \"yref\": \"y\"}, {\"align\": \"left\", \"font\": {\"color\": \"#000000\"}, \"showarrow\": false, \"text\": \"4.89\", \"x\": 2.55, \"xanchor\": \"left\", \"xref\": \"x\", \"y\": 39, \"yref\": \"y\"}, {\"align\": \"left\", \"font\": {\"color\": \"#000000\"}, \"showarrow\": false, \"text\": \"Cote d'Ivoire\", \"x\": -0.45, \"xanchor\": \"left\", \"xref\": \"x\", \"y\": 40, \"yref\": \"y\"}, {\"align\": \"left\", \"font\": {\"color\": \"#000000\"}, \"showarrow\": false, \"text\": \"4303356\", \"x\": 0.55, \"xanchor\": \"left\", \"xref\": \"x\", \"y\": 40, \"yref\": \"y\"}, {\"align\": \"left\", \"font\": {\"color\": \"#000000\"}, \"showarrow\": false, \"text\": \"33.91\", \"x\": 1.55, \"xanchor\": \"left\", \"xref\": \"x\", \"y\": 40, \"yref\": \"y\"}, {\"align\": \"left\", \"font\": {\"color\": \"#000000\"}, \"showarrow\": false, \"text\": \"18.65\", \"x\": 2.55, \"xanchor\": \"left\", \"xref\": \"x\", \"y\": 40, \"yref\": \"y\"}, {\"align\": \"left\", \"font\": {\"color\": \"#000000\"}, \"showarrow\": false, \"text\": \"Cameroon\", \"x\": -0.45, \"xanchor\": \"left\", \"xref\": \"x\", \"y\": 41, \"yref\": \"y\"}, {\"align\": \"left\", \"font\": {\"color\": \"#000000\"}, \"showarrow\": false, \"text\": \"9944201\", \"x\": 0.55, \"xanchor\": \"left\", \"xref\": \"x\", \"y\": 41, \"yref\": \"y\"}, {\"align\": \"left\", \"font\": {\"color\": \"#000000\"}, \"showarrow\": false, \"text\": \"45.73\", \"x\": 1.55, \"xanchor\": \"left\", \"xref\": \"x\", \"y\": 41, \"yref\": \"y\"}, {\"align\": \"left\", \"font\": {\"color\": \"#000000\"}, \"showarrow\": false, \"text\": \"16.38\", \"x\": 2.55, \"xanchor\": \"left\", \"xref\": \"x\", \"y\": 41, \"yref\": \"y\"}, {\"align\": \"left\", \"font\": {\"color\": \"#000000\"}, \"showarrow\": false, \"text\": \"Congo, Dem. Rep.\", \"x\": -0.45, \"xanchor\": \"left\", \"xref\": \"x\", \"y\": 42, \"yref\": \"y\"}, {\"align\": \"left\", \"font\": {\"color\": \"#000000\"}, \"showarrow\": false, \"text\": \"16134219\", \"x\": 0.55, \"xanchor\": \"left\", \"xref\": \"x\", \"y\": 42, \"yref\": \"y\"}, {\"align\": \"left\", \"font\": {\"color\": \"#000000\"}, \"showarrow\": false, \"text\": \"15.23\", \"x\": 1.55, \"xanchor\": \"left\", \"xref\": \"x\", \"y\": 42, \"yref\": \"y\"}, {\"align\": \"left\", \"font\": {\"color\": \"#000000\"}, \"showarrow\": false, \"text\": \"5.81\", \"x\": 2.55, \"xanchor\": \"left\", \"xref\": \"x\", \"y\": 42, \"yref\": \"y\"}, {\"align\": \"left\", \"font\": {\"color\": \"#000000\"}, \"showarrow\": false, \"text\": \"Congo, Rep.\", \"x\": -0.45, \"xanchor\": \"left\", \"xref\": \"x\", \"y\": 43, \"yref\": \"y\"}, {\"align\": \"left\", \"font\": {\"color\": \"#000000\"}, \"showarrow\": false, \"text\": \"1313973713\", \"x\": 0.55, \"xanchor\": \"left\", \"xref\": \"x\", \"y\": 43, \"yref\": \"y\"}, {\"align\": \"left\", \"font\": {\"color\": \"#000000\"}, \"showarrow\": false, \"text\": \"13.25\", \"x\": 1.55, \"xanchor\": \"left\", \"xref\": \"x\", \"y\": 43, \"yref\": \"y\"}, {\"align\": \"left\", \"font\": {\"color\": \"#000000\"}, \"showarrow\": false, \"text\": \"6.97\", \"x\": 2.55, \"xanchor\": \"left\", \"xref\": \"x\", \"y\": 43, \"yref\": \"y\"}, {\"align\": \"left\", \"font\": {\"color\": \"#000000\"}, \"showarrow\": false, \"text\": \"Colombia\", \"x\": -0.45, \"xanchor\": \"left\", \"xref\": \"x\", \"y\": 44, \"yref\": \"y\"}, {\"align\": \"left\", \"font\": {\"color\": \"#000000\"}, \"showarrow\": false, \"text\": \"43593035\", \"x\": 0.55, \"xanchor\": \"left\", \"xref\": \"x\", \"y\": 44, \"yref\": \"y\"}, {\"align\": \"left\", \"font\": {\"color\": \"#000000\"}, \"showarrow\": false, \"text\": \"20.48\", \"x\": 1.55, \"xanchor\": \"left\", \"xref\": \"x\", \"y\": 44, \"yref\": \"y\"}, {\"align\": \"left\", \"font\": {\"color\": \"#000000\"}, \"showarrow\": false, \"text\": \"5.58\", \"x\": 2.55, \"xanchor\": \"left\", \"xref\": \"x\", \"y\": 44, \"yref\": \"y\"}, {\"align\": \"left\", \"font\": {\"color\": \"#000000\"}, \"showarrow\": false, \"text\": \"Comoros\", \"x\": -0.45, \"xanchor\": \"left\", \"xref\": \"x\", \"y\": 45, \"yref\": \"y\"}, {\"align\": \"left\", \"font\": {\"color\": \"#000000\"}, \"showarrow\": false, \"text\": \"690948\", \"x\": 0.55, \"xanchor\": \"left\", \"xref\": \"x\", \"y\": 45, \"yref\": \"y\"}, {\"align\": \"left\", \"font\": {\"color\": \"#000000\"}, \"showarrow\": false, \"text\": \"36.93\", \"x\": 1.55, \"xanchor\": \"left\", \"xref\": \"x\", \"y\": 45, \"yref\": \"y\"}, {\"align\": \"left\", \"font\": {\"color\": \"#000000\"}, \"showarrow\": false, \"text\": \"8.2\", \"x\": 2.55, \"xanchor\": \"left\", \"xref\": \"x\", \"y\": 45, \"yref\": \"y\"}, {\"align\": \"left\", \"font\": {\"color\": \"#000000\"}, \"showarrow\": false, \"text\": \"Cabo Verde\", \"x\": -0.45, \"xanchor\": \"left\", \"xref\": \"x\", \"y\": 46, \"yref\": \"y\"}, {\"align\": \"left\", \"font\": {\"color\": \"#000000\"}, \"showarrow\": false, \"text\": \"62660551\", \"x\": 0.55, \"xanchor\": \"left\", \"xref\": \"x\", \"y\": 46, \"yref\": \"y\"}, {\"align\": \"left\", \"font\": {\"color\": \"#000000\"}, \"showarrow\": false, \"text\": \"43.69\", \"x\": 1.55, \"xanchor\": \"left\", \"xref\": \"x\", \"y\": 46, \"yref\": \"y\"}, {\"align\": \"left\", \"font\": {\"color\": \"#000000\"}, \"showarrow\": false, \"text\": \"13.27\", \"x\": 2.55, \"xanchor\": \"left\", \"xref\": \"x\", \"y\": 46, \"yref\": \"y\"}, {\"align\": \"left\", \"font\": {\"color\": \"#000000\"}, \"showarrow\": false, \"text\": \"Costa Rica\", \"x\": -0.45, \"xanchor\": \"left\", \"xref\": \"x\", \"y\": 47, \"yref\": \"y\"}, {\"align\": \"left\", \"font\": {\"color\": \"#000000\"}, \"showarrow\": false, \"text\": \"3702314\", \"x\": 0.55, \"xanchor\": \"left\", \"xref\": \"x\", \"y\": 47, \"yref\": \"y\"}, {\"align\": \"left\", \"font\": {\"color\": \"#000000\"}, \"showarrow\": false, \"text\": \"42.57\", \"x\": 1.55, \"xanchor\": \"left\", \"xref\": \"x\", \"y\": 47, \"yref\": \"y\"}, {\"align\": \"left\", \"font\": {\"color\": \"#000000\"}, \"showarrow\": false, \"text\": \"12.93\", \"x\": 2.55, \"xanchor\": \"left\", \"xref\": \"x\", \"y\": 47, \"yref\": \"y\"}, {\"align\": \"left\", \"font\": {\"color\": \"#000000\"}, \"showarrow\": false, \"text\": \"Caribbean small states\", \"x\": -0.45, \"xanchor\": \"left\", \"xref\": \"x\", \"y\": 48, \"yref\": \"y\"}, {\"align\": \"left\", \"font\": {\"color\": \"#000000\"}, \"showarrow\": false, \"text\": \"21388\", \"x\": 0.55, \"xanchor\": \"left\", \"xref\": \"x\", \"y\": 48, \"yref\": \"y\"}, {\"align\": \"left\", \"font\": {\"color\": \"#000000\"}, \"showarrow\": false, \"text\": \"21.0\", \"x\": 1.55, \"xanchor\": \"left\", \"xref\": \"x\", \"y\": 48, \"yref\": \"y\"}, {\"align\": \"left\", \"font\": {\"color\": \"#000000\"}, \"showarrow\": false, \"text\": \"nan\", \"x\": 2.55, \"xanchor\": \"left\", \"xref\": \"x\", \"y\": 48, \"yref\": \"y\"}, {\"align\": \"left\", \"font\": {\"color\": \"#000000\"}, \"showarrow\": false, \"text\": \"Cuba\", \"x\": -0.45, \"xanchor\": \"left\", \"xref\": \"x\", \"y\": 49, \"yref\": \"y\"}, {\"align\": \"left\", \"font\": {\"color\": \"#000000\"}, \"showarrow\": false, \"text\": \"4075261\", \"x\": 0.55, \"xanchor\": \"left\", \"xref\": \"x\", \"y\": 49, \"yref\": \"y\"}, {\"align\": \"left\", \"font\": {\"color\": \"#000000\"}, \"showarrow\": false, \"text\": \"18.32\", \"x\": 1.55, \"xanchor\": \"left\", \"xref\": \"x\", \"y\": 49, \"yref\": \"y\"}, {\"align\": \"left\", \"font\": {\"color\": \"#000000\"}, \"showarrow\": false, \"text\": \"4.36\", \"x\": 2.55, \"xanchor\": \"left\", \"xref\": \"x\", \"y\": 49, \"yref\": \"y\"}, {\"align\": \"left\", \"font\": {\"color\": \"#000000\"}, \"showarrow\": false, \"text\": \"Curacao\", \"x\": -0.45, \"xanchor\": \"left\", \"xref\": \"x\", \"y\": 50, \"yref\": \"y\"}, {\"align\": \"left\", \"font\": {\"color\": \"#000000\"}, \"showarrow\": false, \"text\": \"17654843\", \"x\": 0.55, \"xanchor\": \"left\", \"xref\": \"x\", \"y\": 50, \"yref\": \"y\"}, {\"align\": \"left\", \"font\": {\"color\": \"#000000\"}, \"showarrow\": false, \"text\": \"35.11\", \"x\": 1.55, \"xanchor\": \"left\", \"xref\": \"x\", \"y\": 50, \"yref\": \"y\"}, {\"align\": \"left\", \"font\": {\"color\": \"#000000\"}, \"showarrow\": false, \"text\": \"14.84\", \"x\": 2.55, \"xanchor\": \"left\", \"xref\": \"x\", \"y\": 50, \"yref\": \"y\"}, {\"align\": \"left\", \"font\": {\"color\": \"#000000\"}, \"showarrow\": false, \"text\": \"Cayman Islands\", \"x\": -0.45, \"xanchor\": \"left\", \"xref\": \"x\", \"y\": 51, \"yref\": \"y\"}, {\"align\": \"left\", \"font\": {\"color\": \"#000000\"}, \"showarrow\": false, \"text\": \"4494749\", \"x\": 0.55, \"xanchor\": \"left\", \"xref\": \"x\", \"y\": 51, \"yref\": \"y\"}, {\"align\": \"left\", \"font\": {\"color\": \"#000000\"}, \"showarrow\": false, \"text\": \"9.61\", \"x\": 1.55, \"xanchor\": \"left\", \"xref\": \"x\", \"y\": 51, \"yref\": \"y\"}, {\"align\": \"left\", \"font\": {\"color\": \"#000000\"}, \"showarrow\": false, \"text\": \"11.48\", \"x\": 2.55, \"xanchor\": \"left\", \"xref\": \"x\", \"y\": 51, \"yref\": \"y\"}, {\"align\": \"left\", \"font\": {\"color\": \"#000000\"}, \"showarrow\": false, \"text\": \"Cyprus\", \"x\": -0.45, \"xanchor\": \"left\", \"xref\": \"x\", \"y\": 52, \"yref\": \"y\"}, {\"align\": \"left\", \"font\": {\"color\": \"#000000\"}, \"showarrow\": false, \"text\": \"11382820\", \"x\": 0.55, \"xanchor\": \"left\", \"xref\": \"x\", \"y\": 52, \"yref\": \"y\"}, {\"align\": \"left\", \"font\": {\"color\": \"#000000\"}, \"showarrow\": false, \"text\": \"11.89\", \"x\": 1.55, \"xanchor\": \"left\", \"xref\": \"x\", \"y\": 52, \"yref\": \"y\"}, {\"align\": \"left\", \"font\": {\"color\": \"#000000\"}, \"showarrow\": false, \"text\": \"7.22\", \"x\": 2.55, \"xanchor\": \"left\", \"xref\": \"x\", \"y\": 52, \"yref\": \"y\"}, {\"align\": \"left\", \"font\": {\"color\": \"#000000\"}, \"showarrow\": false, \"text\": \"Czech Republic\", \"x\": -0.45, \"xanchor\": \"left\", \"xref\": \"x\", \"y\": 53, \"yref\": \"y\"}, {\"align\": \"left\", \"font\": {\"color\": \"#000000\"}, \"showarrow\": false, \"text\": \"784301\", \"x\": 0.55, \"xanchor\": \"left\", \"xref\": \"x\", \"y\": 53, \"yref\": \"y\"}, {\"align\": \"left\", \"font\": {\"color\": \"#000000\"}, \"showarrow\": false, \"text\": \"12.56\", \"x\": 1.55, \"xanchor\": \"left\", \"xref\": \"x\", \"y\": 53, \"yref\": \"y\"}, {\"align\": \"left\", \"font\": {\"color\": \"#000000\"}, \"showarrow\": false, \"text\": \"7.68\", \"x\": 2.55, \"xanchor\": \"left\", \"xref\": \"x\", \"y\": 53, \"yref\": \"y\"}, {\"align\": \"left\", \"font\": {\"color\": \"#000000\"}, \"showarrow\": false, \"text\": \"Germany\", \"x\": -0.45, \"xanchor\": \"left\", \"xref\": \"x\", \"y\": 54, \"yref\": \"y\"}, {\"align\": \"left\", \"font\": {\"color\": \"#000000\"}, \"showarrow\": false, \"text\": \"10235455\", \"x\": 0.55, \"xanchor\": \"left\", \"xref\": \"x\", \"y\": 54, \"yref\": \"y\"}, {\"align\": \"left\", \"font\": {\"color\": \"#000000\"}, \"showarrow\": false, \"text\": \"9.02\", \"x\": 1.55, \"xanchor\": \"left\", \"xref\": \"x\", \"y\": 54, \"yref\": \"y\"}, {\"align\": \"left\", \"font\": {\"color\": \"#000000\"}, \"showarrow\": false, \"text\": \"10.59\", \"x\": 2.55, \"xanchor\": \"left\", \"xref\": \"x\", \"y\": 54, \"yref\": \"y\"}, {\"align\": \"left\", \"font\": {\"color\": \"#000000\"}, \"showarrow\": false, \"text\": \"Djibouti\", \"x\": -0.45, \"xanchor\": \"left\", \"xref\": \"x\", \"y\": 55, \"yref\": \"y\"}, {\"align\": \"left\", \"font\": {\"color\": \"#000000\"}, \"showarrow\": false, \"text\": \"5450661\", \"x\": 0.55, \"xanchor\": \"left\", \"xref\": \"x\", \"y\": 55, \"yref\": \"y\"}, {\"align\": \"left\", \"font\": {\"color\": \"#000000\"}, \"showarrow\": false, \"text\": \"11.13\", \"x\": 1.55, \"xanchor\": \"left\", \"xref\": \"x\", \"y\": 55, \"yref\": \"y\"}, {\"align\": \"left\", \"font\": {\"color\": \"#000000\"}, \"showarrow\": false, \"text\": \"10.36\", \"x\": 2.55, \"xanchor\": \"left\", \"xref\": \"x\", \"y\": 55, \"yref\": \"y\"}, {\"align\": \"left\", \"font\": {\"color\": \"#000000\"}, \"showarrow\": false, \"text\": \"Dominica\", \"x\": -0.45, \"xanchor\": \"left\", \"xref\": \"x\", \"y\": 56, \"yref\": \"y\"}, {\"align\": \"left\", \"font\": {\"color\": \"#000000\"}, \"showarrow\": false, \"text\": \"486530\", \"x\": 0.55, \"xanchor\": \"left\", \"xref\": \"x\", \"y\": 56, \"yref\": \"y\"}, {\"align\": \"left\", \"font\": {\"color\": \"#000000\"}, \"showarrow\": false, \"text\": \"39.53\", \"x\": 1.55, \"xanchor\": \"left\", \"xref\": \"x\", \"y\": 56, \"yref\": \"y\"}, {\"align\": \"left\", \"font\": {\"color\": \"#000000\"}, \"showarrow\": false, \"text\": \"19.31\", \"x\": 2.55, \"xanchor\": \"left\", \"xref\": \"x\", \"y\": 56, \"yref\": \"y\"}, {\"align\": \"left\", \"font\": {\"color\": \"#000000\"}, \"showarrow\": false, \"text\": \"Denmark\", \"x\": -0.45, \"xanchor\": \"left\", \"xref\": \"x\", \"y\": 57, \"yref\": \"y\"}, {\"align\": \"left\", \"font\": {\"color\": \"#000000\"}, \"showarrow\": false, \"text\": \"68910\", \"x\": 0.55, \"xanchor\": \"left\", \"xref\": \"x\", \"y\": 57, \"yref\": \"y\"}, {\"align\": \"left\", \"font\": {\"color\": \"#000000\"}, \"showarrow\": false, \"text\": \"15.27\", \"x\": 1.55, \"xanchor\": \"left\", \"xref\": \"x\", \"y\": 57, \"yref\": \"y\"}, {\"align\": \"left\", \"font\": {\"color\": \"#000000\"}, \"showarrow\": false, \"text\": \"6.73\", \"x\": 2.55, \"xanchor\": \"left\", \"xref\": \"x\", \"y\": 57, \"yref\": \"y\"}, {\"align\": \"left\", \"font\": {\"color\": \"#000000\"}, \"showarrow\": false, \"text\": \"Dominican Republic\", \"x\": -0.45, \"xanchor\": \"left\", \"xref\": \"x\", \"y\": 58, \"yref\": \"y\"}, {\"align\": \"left\", \"font\": {\"color\": \"#000000\"}, \"showarrow\": false, \"text\": \"9183984\", \"x\": 0.55, \"xanchor\": \"left\", \"xref\": \"x\", \"y\": 58, \"yref\": \"y\"}, {\"align\": \"left\", \"font\": {\"color\": \"#000000\"}, \"showarrow\": false, \"text\": \"23.22\", \"x\": 1.55, \"xanchor\": \"left\", \"xref\": \"x\", \"y\": 58, \"yref\": \"y\"}, {\"align\": \"left\", \"font\": {\"color\": \"#000000\"}, \"showarrow\": false, \"text\": \"5.73\", \"x\": 2.55, \"xanchor\": \"left\", \"xref\": \"x\", \"y\": 58, \"yref\": \"y\"}, {\"align\": \"left\", \"font\": {\"color\": \"#000000\"}, \"showarrow\": false, \"text\": \"Algeria\", \"x\": -0.45, \"xanchor\": \"left\", \"xref\": \"x\", \"y\": 59, \"yref\": \"y\"}, {\"align\": \"left\", \"font\": {\"color\": \"#000000\"}, \"showarrow\": false, \"text\": \"1062777\", \"x\": 0.55, \"xanchor\": \"left\", \"xref\": \"x\", \"y\": 59, \"yref\": \"y\"}, {\"align\": \"left\", \"font\": {\"color\": \"#000000\"}, \"showarrow\": false, \"text\": \"26.99\", \"x\": 1.55, \"xanchor\": \"left\", \"xref\": \"x\", \"y\": 59, \"yref\": \"y\"}, {\"align\": \"left\", \"font\": {\"color\": \"#000000\"}, \"showarrow\": false, \"text\": \"6.24\", \"x\": 2.55, \"xanchor\": \"left\", \"xref\": \"x\", \"y\": 59, \"yref\": \"y\"}, {\"align\": \"left\", \"font\": {\"color\": \"#000000\"}, \"showarrow\": false, \"text\": \"East Asia & Pacific (excluding high income)\", \"x\": -0.45, \"xanchor\": \"left\", \"xref\": \"x\", \"y\": 60, \"yref\": \"y\"}, {\"align\": \"left\", \"font\": {\"color\": \"#000000\"}, \"showarrow\": false, \"text\": \"13547510\", \"x\": 0.55, \"xanchor\": \"left\", \"xref\": \"x\", \"y\": 60, \"yref\": \"y\"}, {\"align\": \"left\", \"font\": {\"color\": \"#000000\"}, \"showarrow\": false, \"text\": \"22.29\", \"x\": 1.55, \"xanchor\": \"left\", \"xref\": \"x\", \"y\": 60, \"yref\": \"y\"}, {\"align\": \"left\", \"font\": {\"color\": \"#000000\"}, \"showarrow\": false, \"text\": \"4.23\", \"x\": 2.55, \"xanchor\": \"left\", \"xref\": \"x\", \"y\": 60, \"yref\": \"y\"}, {\"align\": \"left\", \"font\": {\"color\": \"#000000\"}, \"showarrow\": false, \"text\": \"Early-demographic dividend\", \"x\": -0.45, \"xanchor\": \"left\", \"xref\": \"x\", \"y\": 61, \"yref\": \"y\"}, {\"align\": \"left\", \"font\": {\"color\": \"#000000\"}, \"showarrow\": false, \"text\": \"78887007\", \"x\": 0.55, \"xanchor\": \"left\", \"xref\": \"x\", \"y\": 61, \"yref\": \"y\"}, {\"align\": \"left\", \"font\": {\"color\": \"#000000\"}, \"showarrow\": false, \"text\": \"22.94\", \"x\": 1.55, \"xanchor\": \"left\", \"xref\": \"x\", \"y\": 61, \"yref\": \"y\"}, {\"align\": \"left\", \"font\": {\"color\": \"#000000\"}, \"showarrow\": false, \"text\": \"5.23\", \"x\": 2.55, \"xanchor\": \"left\", \"xref\": \"x\", \"y\": 61, \"yref\": \"y\"}, {\"align\": \"left\", \"font\": {\"color\": \"#000000\"}, \"showarrow\": false, \"text\": \"East Asia & Pacific\", \"x\": -0.45, \"xanchor\": \"left\", \"xref\": \"x\", \"y\": 62, \"yref\": \"y\"}, {\"align\": \"left\", \"font\": {\"color\": \"#000000\"}, \"showarrow\": false, \"text\": \"6822378\", \"x\": 0.55, \"xanchor\": \"left\", \"xref\": \"x\", \"y\": 62, \"yref\": \"y\"}, {\"align\": \"left\", \"font\": {\"color\": \"#000000\"}, \"showarrow\": false, \"text\": \"26.61\", \"x\": 1.55, \"xanchor\": \"left\", \"xref\": \"x\", \"y\": 62, \"yref\": \"y\"}, {\"align\": \"left\", \"font\": {\"color\": \"#000000\"}, \"showarrow\": false, \"text\": \"5.78\", \"x\": 2.55, \"xanchor\": \"left\", \"xref\": \"x\", \"y\": 62, \"yref\": \"y\"}, {\"align\": \"left\", \"font\": {\"color\": \"#000000\"}, \"showarrow\": false, \"text\": \"Europe & Central Asia (excluding high income)\", \"x\": -0.45, \"xanchor\": \"left\", \"xref\": \"x\", \"y\": 63, \"yref\": \"y\"}, {\"align\": \"left\", \"font\": {\"color\": \"#000000\"}, \"showarrow\": false, \"text\": \"540109\", \"x\": 0.55, \"xanchor\": \"left\", \"xref\": \"x\", \"y\": 63, \"yref\": \"y\"}, {\"align\": \"left\", \"font\": {\"color\": \"#000000\"}, \"showarrow\": false, \"text\": \"35.59\", \"x\": 1.55, \"xanchor\": \"left\", \"xref\": \"x\", \"y\": 63, \"yref\": \"y\"}, {\"align\": \"left\", \"font\": {\"color\": \"#000000\"}, \"showarrow\": false, \"text\": \"15.06\", \"x\": 2.55, \"xanchor\": \"left\", \"xref\": \"x\", \"y\": 63, \"yref\": \"y\"}, {\"align\": \"left\", \"font\": {\"color\": \"#000000\"}, \"showarrow\": false, \"text\": \"Europe & Central Asia\", \"x\": -0.45, \"xanchor\": \"left\", \"xref\": \"x\", \"y\": 64, \"yref\": \"y\"}, {\"align\": \"left\", \"font\": {\"color\": \"#000000\"}, \"showarrow\": false, \"text\": \"4786994\", \"x\": 0.55, \"xanchor\": \"left\", \"xref\": \"x\", \"y\": 64, \"yref\": \"y\"}, {\"align\": \"left\", \"font\": {\"color\": \"#000000\"}, \"showarrow\": false, \"text\": \"34.33\", \"x\": 1.55, \"xanchor\": \"left\", \"xref\": \"x\", \"y\": 64, \"yref\": \"y\"}, {\"align\": \"left\", \"font\": {\"color\": \"#000000\"}, \"showarrow\": false, \"text\": \"9.6\", \"x\": 2.55, \"xanchor\": \"left\", \"xref\": \"x\", \"y\": 64, \"yref\": \"y\"}, {\"align\": \"left\", \"font\": {\"color\": \"#000000\"}, \"showarrow\": false, \"text\": \"Ecuador\", \"x\": -0.45, \"xanchor\": \"left\", \"xref\": \"x\", \"y\": 65, \"yref\": \"y\"}, {\"align\": \"left\", \"font\": {\"color\": \"#000000\"}, \"showarrow\": false, \"text\": \"1324333\", \"x\": 0.55, \"xanchor\": \"left\", \"xref\": \"x\", \"y\": 65, \"yref\": \"y\"}, {\"align\": \"left\", \"font\": {\"color\": \"#000000\"}, \"showarrow\": false, \"text\": \"10.04\", \"x\": 1.55, \"xanchor\": \"left\", \"xref\": \"x\", \"y\": 65, \"yref\": \"y\"}, {\"align\": \"left\", \"font\": {\"color\": \"#000000\"}, \"showarrow\": false, \"text\": \"13.25\", \"x\": 2.55, \"xanchor\": \"left\", \"xref\": \"x\", \"y\": 65, \"yref\": \"y\"}, {\"align\": \"left\", \"font\": {\"color\": \"#000000\"}, \"showarrow\": false, \"text\": \"Egypt, Arab Rep.\", \"x\": -0.45, \"xanchor\": \"left\", \"xref\": \"x\", \"y\": 66, \"yref\": \"y\"}, {\"align\": \"left\", \"font\": {\"color\": \"#000000\"}, \"showarrow\": false, \"text\": \"74777981\", \"x\": 0.55, \"xanchor\": \"left\", \"xref\": \"x\", \"y\": 66, \"yref\": \"y\"}, {\"align\": \"left\", \"font\": {\"color\": \"#000000\"}, \"showarrow\": false, \"text\": \"37.98\", \"x\": 1.55, \"xanchor\": \"left\", \"xref\": \"x\", \"y\": 66, \"yref\": \"y\"}, {\"align\": \"left\", \"font\": {\"color\": \"#000000\"}, \"showarrow\": false, \"text\": \"14.86\", \"x\": 2.55, \"xanchor\": \"left\", \"xref\": \"x\", \"y\": 66, \"yref\": \"y\"}, {\"align\": \"left\", \"font\": {\"color\": \"#000000\"}, \"showarrow\": false, \"text\": \"Euro area\", \"x\": -0.45, \"xanchor\": \"left\", \"xref\": \"x\", \"y\": 67, \"yref\": \"y\"}, {\"align\": \"left\", \"font\": {\"color\": \"#000000\"}, \"showarrow\": false, \"text\": \"47246\", \"x\": 0.55, \"xanchor\": \"left\", \"xref\": \"x\", \"y\": 67, \"yref\": \"y\"}, {\"align\": \"left\", \"font\": {\"color\": \"#000000\"}, \"showarrow\": false, \"text\": \"14.05\", \"x\": 1.55, \"xanchor\": \"left\", \"xref\": \"x\", \"y\": 67, \"yref\": \"y\"}, {\"align\": \"left\", \"font\": {\"color\": \"#000000\"}, \"showarrow\": false, \"text\": \"8.7\", \"x\": 2.55, \"xanchor\": \"left\", \"xref\": \"x\", \"y\": 67, \"yref\": \"y\"}, {\"align\": \"left\", \"font\": {\"color\": \"#000000\"}, \"showarrow\": false, \"text\": \"Eritrea\", \"x\": -0.45, \"xanchor\": \"left\", \"xref\": \"x\", \"y\": 68, \"yref\": \"y\"}, {\"align\": \"left\", \"font\": {\"color\": \"#000000\"}, \"showarrow\": false, \"text\": \"905949\", \"x\": 0.55, \"xanchor\": \"left\", \"xref\": \"x\", \"y\": 68, \"yref\": \"y\"}, {\"align\": \"left\", \"font\": {\"color\": \"#000000\"}, \"showarrow\": false, \"text\": \"22.55\", \"x\": 1.55, \"xanchor\": \"left\", \"xref\": \"x\", \"y\": 68, \"yref\": \"y\"}, {\"align\": \"left\", \"font\": {\"color\": \"#000000\"}, \"showarrow\": false, \"text\": \"5.65\", \"x\": 2.55, \"xanchor\": \"left\", \"xref\": \"x\", \"y\": 68, \"yref\": \"y\"}, {\"align\": \"left\", \"font\": {\"color\": \"#000000\"}, \"showarrow\": false, \"text\": \"Spain\", \"x\": -0.45, \"xanchor\": \"left\", \"xref\": \"x\", \"y\": 69, \"yref\": \"y\"}, {\"align\": \"left\", \"font\": {\"color\": \"#000000\"}, \"showarrow\": false, \"text\": \"5231372\", \"x\": 0.55, \"xanchor\": \"left\", \"xref\": \"x\", \"y\": 69, \"yref\": \"y\"}, {\"align\": \"left\", \"font\": {\"color\": \"#000000\"}, \"showarrow\": false, \"text\": \"10.45\", \"x\": 1.55, \"xanchor\": \"left\", \"xref\": \"x\", \"y\": 69, \"yref\": \"y\"}, {\"align\": \"left\", \"font\": {\"color\": \"#000000\"}, \"showarrow\": false, \"text\": \"9.86\", \"x\": 2.55, \"xanchor\": \"left\", \"xref\": \"x\", \"y\": 69, \"yref\": \"y\"}, {\"align\": \"left\", \"font\": {\"color\": \"#000000\"}, \"showarrow\": false, \"text\": \"Estonia\", \"x\": -0.45, \"xanchor\": \"left\", \"xref\": \"x\", \"y\": 70, \"yref\": \"y\"}, {\"align\": \"left\", \"font\": {\"color\": \"#000000\"}, \"showarrow\": false, \"text\": \"60876136\", \"x\": 0.55, \"xanchor\": \"left\", \"xref\": \"x\", \"y\": 70, \"yref\": \"y\"}, {\"align\": \"left\", \"font\": {\"color\": \"#000000\"}, \"showarrow\": false, \"text\": \"11.99\", \"x\": 1.55, \"xanchor\": \"left\", \"xref\": \"x\", \"y\": 70, \"yref\": \"y\"}, {\"align\": \"left\", \"font\": {\"color\": \"#000000\"}, \"showarrow\": false, \"text\": \"9.14\", \"x\": 2.55, \"xanchor\": \"left\", \"xref\": \"x\", \"y\": 70, \"yref\": \"y\"}, {\"align\": \"left\", \"font\": {\"color\": \"#000000\"}, \"showarrow\": false, \"text\": \"Ethiopia\", \"x\": -0.45, \"xanchor\": \"left\", \"xref\": \"x\", \"y\": 71, \"yref\": \"y\"}, {\"align\": \"left\", \"font\": {\"color\": \"#000000\"}, \"showarrow\": false, \"text\": \"199509\", \"x\": 0.55, \"xanchor\": \"left\", \"xref\": \"x\", \"y\": 71, \"yref\": \"y\"}, {\"align\": \"left\", \"font\": {\"color\": \"#000000\"}, \"showarrow\": false, \"text\": \"20.46\", \"x\": 1.55, \"xanchor\": \"left\", \"xref\": \"x\", \"y\": 71, \"yref\": \"y\"}, {\"align\": \"left\", \"font\": {\"color\": \"#000000\"}, \"showarrow\": false, \"text\": \"4.88\", \"x\": 2.55, \"xanchor\": \"left\", \"xref\": \"x\", \"y\": 71, \"yref\": \"y\"}, {\"align\": \"left\", \"font\": {\"color\": \"#000000\"}, \"showarrow\": false, \"text\": \"European Union\", \"x\": -0.45, \"xanchor\": \"left\", \"xref\": \"x\", \"y\": 72, \"yref\": \"y\"}, {\"align\": \"left\", \"font\": {\"color\": \"#000000\"}, \"showarrow\": false, \"text\": \"274578\", \"x\": 0.55, \"xanchor\": \"left\", \"xref\": \"x\", \"y\": 72, \"yref\": \"y\"}, {\"align\": \"left\", \"font\": {\"color\": \"#000000\"}, \"showarrow\": false, \"text\": \"16.68\", \"x\": 1.55, \"xanchor\": \"left\", \"xref\": \"x\", \"y\": 72, \"yref\": \"y\"}, {\"align\": \"left\", \"font\": {\"color\": \"#000000\"}, \"showarrow\": false, \"text\": \"4.69\", \"x\": 2.55, \"xanchor\": \"left\", \"xref\": \"x\", \"y\": 72, \"yref\": \"y\"}, {\"align\": \"left\", \"font\": {\"color\": \"#000000\"}, \"showarrow\": false, \"text\": \"Fragile and conflict affected situations\", \"x\": -0.45, \"xanchor\": \"left\", \"xref\": \"x\", \"y\": 73, \"yref\": \"y\"}, {\"align\": \"left\", \"font\": {\"color\": \"#000000\"}, \"showarrow\": false, \"text\": \"1424906\", \"x\": 0.55, \"xanchor\": \"left\", \"xref\": \"x\", \"y\": 73, \"yref\": \"y\"}, {\"align\": \"left\", \"font\": {\"color\": \"#000000\"}, \"showarrow\": false, \"text\": \"36.16\", \"x\": 1.55, \"xanchor\": \"left\", \"xref\": \"x\", \"y\": 73, \"yref\": \"y\"}, {\"align\": \"left\", \"font\": {\"color\": \"#000000\"}, \"showarrow\": false, \"text\": \"12.25\", \"x\": 2.55, \"xanchor\": \"left\", \"xref\": \"x\", \"y\": 73, \"yref\": \"y\"}, {\"align\": \"left\", \"font\": {\"color\": \"#000000\"}, \"showarrow\": false, \"text\": \"Finland\", \"x\": -0.45, \"xanchor\": \"left\", \"xref\": \"x\", \"y\": 74, \"yref\": \"y\"}, {\"align\": \"left\", \"font\": {\"color\": \"#000000\"}, \"showarrow\": false, \"text\": \"1641564\", \"x\": 0.55, \"xanchor\": \"left\", \"xref\": \"x\", \"y\": 74, \"yref\": \"y\"}, {\"align\": \"left\", \"font\": {\"color\": \"#000000\"}, \"showarrow\": false, \"text\": \"39.37\", \"x\": 1.55, \"xanchor\": \"left\", \"xref\": \"x\", \"y\": 74, \"yref\": \"y\"}, {\"align\": \"left\", \"font\": {\"color\": \"#000000\"}, \"showarrow\": false, \"text\": \"12.25\", \"x\": 2.55, \"xanchor\": \"left\", \"xref\": \"x\", \"y\": 74, \"yref\": \"y\"}, {\"align\": \"left\", \"font\": {\"color\": \"#000000\"}, \"showarrow\": false, \"text\": \"Fiji\", \"x\": -0.45, \"xanchor\": \"left\", \"xref\": \"x\", \"y\": 75, \"yref\": \"y\"}, {\"align\": \"left\", \"font\": {\"color\": \"#000000\"}, \"showarrow\": false, \"text\": \"1428757\", \"x\": 0.55, \"xanchor\": \"left\", \"xref\": \"x\", \"y\": 75, \"yref\": \"y\"}, {\"align\": \"left\", \"font\": {\"color\": \"#000000\"}, \"showarrow\": false, \"text\": \"39.45\", \"x\": 1.55, \"xanchor\": \"left\", \"xref\": \"x\", \"y\": 75, \"yref\": \"y\"}, {\"align\": \"left\", \"font\": {\"color\": \"#000000\"}, \"showarrow\": false, \"text\": \"3.8\", \"x\": 2.55, \"xanchor\": \"left\", \"xref\": \"x\", \"y\": 75, \"yref\": \"y\"}, {\"align\": \"left\", \"font\": {\"color\": \"#000000\"}, \"showarrow\": false, \"text\": \"France\", \"x\": -0.45, \"xanchor\": \"left\", \"xref\": \"x\", \"y\": 76, \"yref\": \"y\"}, {\"align\": \"left\", \"font\": {\"color\": \"#000000\"}, \"showarrow\": false, \"text\": \"4661473\", \"x\": 0.55, \"xanchor\": \"left\", \"xref\": \"x\", \"y\": 76, \"yref\": \"y\"}, {\"align\": \"left\", \"font\": {\"color\": \"#000000\"}, \"showarrow\": false, \"text\": \"10.41\", \"x\": 1.55, \"xanchor\": \"left\", \"xref\": \"x\", \"y\": 76, \"yref\": \"y\"}, {\"align\": \"left\", \"font\": {\"color\": \"#000000\"}, \"showarrow\": false, \"text\": \"9.23\", \"x\": 2.55, \"xanchor\": \"left\", \"xref\": \"x\", \"y\": 76, \"yref\": \"y\"}, {\"align\": \"left\", \"font\": {\"color\": \"#000000\"}, \"showarrow\": false, \"text\": \"Faroe Islands\", \"x\": -0.45, \"xanchor\": \"left\", \"xref\": \"x\", \"y\": 77, \"yref\": \"y\"}, {\"align\": \"left\", \"font\": {\"color\": \"#000000\"}, \"showarrow\": false, \"text\": \"82422299\", \"x\": 0.55, \"xanchor\": \"left\", \"xref\": \"x\", \"y\": 77, \"yref\": \"y\"}, {\"align\": \"left\", \"font\": {\"color\": \"#000000\"}, \"showarrow\": false, \"text\": \"8.25\", \"x\": 1.55, \"xanchor\": \"left\", \"xref\": \"x\", \"y\": 77, \"yref\": \"y\"}, {\"align\": \"left\", \"font\": {\"color\": \"#000000\"}, \"showarrow\": false, \"text\": \"10.62\", \"x\": 2.55, \"xanchor\": \"left\", \"xref\": \"x\", \"y\": 77, \"yref\": \"y\"}, {\"align\": \"left\", \"font\": {\"color\": \"#000000\"}, \"showarrow\": false, \"text\": \"Micronesia, Fed. Sts.\", \"x\": -0.45, \"xanchor\": \"left\", \"xref\": \"x\", \"y\": 78, \"yref\": \"y\"}, {\"align\": \"left\", \"font\": {\"color\": \"#000000\"}, \"showarrow\": false, \"text\": \"22409572\", \"x\": 0.55, \"xanchor\": \"left\", \"xref\": \"x\", \"y\": 78, \"yref\": \"y\"}, {\"align\": \"left\", \"font\": {\"color\": \"#000000\"}, \"showarrow\": false, \"text\": \"30.52\", \"x\": 1.55, \"xanchor\": \"left\", \"xref\": \"x\", \"y\": 78, \"yref\": \"y\"}, {\"align\": \"left\", \"font\": {\"color\": \"#000000\"}, \"showarrow\": false, \"text\": \"9.72\", \"x\": 2.55, \"xanchor\": \"left\", \"xref\": \"x\", \"y\": 78, \"yref\": \"y\"}, {\"align\": \"left\", \"font\": {\"color\": \"#000000\"}, \"showarrow\": false, \"text\": \"Gabon\", \"x\": -0.45, \"xanchor\": \"left\", \"xref\": \"x\", \"y\": 79, \"yref\": \"y\"}, {\"align\": \"left\", \"font\": {\"color\": \"#000000\"}, \"showarrow\": false, \"text\": \"27928\", \"x\": 0.55, \"xanchor\": \"left\", \"xref\": \"x\", \"y\": 79, \"yref\": \"y\"}, {\"align\": \"left\", \"font\": {\"color\": \"#000000\"}, \"showarrow\": false, \"text\": \"10.74\", \"x\": 1.55, \"xanchor\": \"left\", \"xref\": \"x\", \"y\": 79, \"yref\": \"y\"}, {\"align\": \"left\", \"font\": {\"color\": \"#000000\"}, \"showarrow\": false, \"text\": \"9.31\", \"x\": 2.55, \"xanchor\": \"left\", \"xref\": \"x\", \"y\": 79, \"yref\": \"y\"}, {\"align\": \"left\", \"font\": {\"color\": \"#000000\"}, \"showarrow\": false, \"text\": \"United Kingdom\", \"x\": -0.45, \"xanchor\": \"left\", \"xref\": \"x\", \"y\": 80, \"yref\": \"y\"}, {\"align\": \"left\", \"font\": {\"color\": \"#000000\"}, \"showarrow\": false, \"text\": \"10688058\", \"x\": 0.55, \"xanchor\": \"left\", \"xref\": \"x\", \"y\": 80, \"yref\": \"y\"}, {\"align\": \"left\", \"font\": {\"color\": \"#000000\"}, \"showarrow\": false, \"text\": \"9.68\", \"x\": 1.55, \"xanchor\": \"left\", \"xref\": \"x\", \"y\": 80, \"yref\": \"y\"}, {\"align\": \"left\", \"font\": {\"color\": \"#000000\"}, \"showarrow\": false, \"text\": \"10.24\", \"x\": 2.55, \"xanchor\": \"left\", \"xref\": \"x\", \"y\": 80, \"yref\": \"y\"}, {\"align\": \"left\", \"font\": {\"color\": \"#000000\"}, \"showarrow\": false, \"text\": \"Georgia\", \"x\": -0.45, \"xanchor\": \"left\", \"xref\": \"x\", \"y\": 81, \"yref\": \"y\"}, {\"align\": \"left\", \"font\": {\"color\": \"#000000\"}, \"showarrow\": false, \"text\": \"56361\", \"x\": 0.55, \"xanchor\": \"left\", \"xref\": \"x\", \"y\": 81, \"yref\": \"y\"}, {\"align\": \"left\", \"font\": {\"color\": \"#000000\"}, \"showarrow\": false, \"text\": \"15.93\", \"x\": 1.55, \"xanchor\": \"left\", \"xref\": \"x\", \"y\": 81, \"yref\": \"y\"}, {\"align\": \"left\", \"font\": {\"color\": \"#000000\"}, \"showarrow\": false, \"text\": \"7.84\", \"x\": 2.55, \"xanchor\": \"left\", \"xref\": \"x\", \"y\": 81, \"yref\": \"y\"}, {\"align\": \"left\", \"font\": {\"color\": \"#000000\"}, \"showarrow\": false, \"text\": \"Ghana\", \"x\": -0.45, \"xanchor\": \"left\", \"xref\": \"x\", \"y\": 82, \"yref\": \"y\"}, {\"align\": \"left\", \"font\": {\"color\": \"#000000\"}, \"showarrow\": false, \"text\": \"89703\", \"x\": 0.55, \"xanchor\": \"left\", \"xref\": \"x\", \"y\": 82, \"yref\": \"y\"}, {\"align\": \"left\", \"font\": {\"color\": \"#000000\"}, \"showarrow\": false, \"text\": \"22.08\", \"x\": 1.55, \"xanchor\": \"left\", \"xref\": \"x\", \"y\": 82, \"yref\": \"y\"}, {\"align\": \"left\", \"font\": {\"color\": \"#000000\"}, \"showarrow\": false, \"text\": \"6.88\", \"x\": 2.55, \"xanchor\": \"left\", \"xref\": \"x\", \"y\": 82, \"yref\": \"y\"}, {\"align\": \"left\", \"font\": {\"color\": \"#000000\"}, \"showarrow\": false, \"text\": \"Gibraltar\", \"x\": -0.45, \"xanchor\": \"left\", \"xref\": \"x\", \"y\": 83, \"yref\": \"y\"}, {\"align\": \"left\", \"font\": {\"color\": \"#000000\"}, \"showarrow\": false, \"text\": \"452776\", \"x\": 0.55, \"xanchor\": \"left\", \"xref\": \"x\", \"y\": 83, \"yref\": \"y\"}, {\"align\": \"left\", \"font\": {\"color\": \"#000000\"}, \"showarrow\": false, \"text\": \"15.05\", \"x\": 1.55, \"xanchor\": \"left\", \"xref\": \"x\", \"y\": 83, \"yref\": \"y\"}, {\"align\": \"left\", \"font\": {\"color\": \"#000000\"}, \"showarrow\": false, \"text\": \"6.09\", \"x\": 2.55, \"xanchor\": \"left\", \"xref\": \"x\", \"y\": 83, \"yref\": \"y\"}, {\"align\": \"left\", \"font\": {\"color\": \"#000000\"}, \"showarrow\": false, \"text\": \"Guinea\", \"x\": -0.45, \"xanchor\": \"left\", \"xref\": \"x\", \"y\": 84, \"yref\": \"y\"}, {\"align\": \"left\", \"font\": {\"color\": \"#000000\"}, \"showarrow\": false, \"text\": \"171019\", \"x\": 0.55, \"xanchor\": \"left\", \"xref\": \"x\", \"y\": 84, \"yref\": \"y\"}, {\"align\": \"left\", \"font\": {\"color\": \"#000000\"}, \"showarrow\": false, \"text\": \"18.79\", \"x\": 1.55, \"xanchor\": \"left\", \"xref\": \"x\", \"y\": 84, \"yref\": \"y\"}, {\"align\": \"left\", \"font\": {\"color\": \"#000000\"}, \"showarrow\": false, \"text\": \"4.48\", \"x\": 2.55, \"xanchor\": \"left\", \"xref\": \"x\", \"y\": 84, \"yref\": \"y\"}, {\"align\": \"left\", \"font\": {\"color\": \"#000000\"}, \"showarrow\": false, \"text\": \"Gambia, The\", \"x\": -0.45, \"xanchor\": \"left\", \"xref\": \"x\", \"y\": 85, \"yref\": \"y\"}, {\"align\": \"left\", \"font\": {\"color\": \"#000000\"}, \"showarrow\": false, \"text\": \"12293545\", \"x\": 0.55, \"xanchor\": \"left\", \"xref\": \"x\", \"y\": 85, \"yref\": \"y\"}, {\"align\": \"left\", \"font\": {\"color\": \"#000000\"}, \"showarrow\": false, \"text\": \"29.88\", \"x\": 1.55, \"xanchor\": \"left\", \"xref\": \"x\", \"y\": 85, \"yref\": \"y\"}, {\"align\": \"left\", \"font\": {\"color\": \"#000000\"}, \"showarrow\": false, \"text\": \"5.2\", \"x\": 2.55, \"xanchor\": \"left\", \"xref\": \"x\", \"y\": 85, \"yref\": \"y\"}, {\"align\": \"left\", \"font\": {\"color\": \"#000000\"}, \"showarrow\": false, \"text\": \"Guinea-Bissau\", \"x\": -0.45, \"xanchor\": \"left\", \"xref\": \"x\", \"y\": 86, \"yref\": \"y\"}, {\"align\": \"left\", \"font\": {\"color\": \"#000000\"}, \"showarrow\": false, \"text\": \"65409\", \"x\": 0.55, \"xanchor\": \"left\", \"xref\": \"x\", \"y\": 86, \"yref\": \"y\"}, {\"align\": \"left\", \"font\": {\"color\": \"#000000\"}, \"showarrow\": false, \"text\": \"8.81\", \"x\": 1.55, \"xanchor\": \"left\", \"xref\": \"x\", \"y\": 86, \"yref\": \"y\"}, {\"align\": \"left\", \"font\": {\"color\": \"#000000\"}, \"showarrow\": false, \"text\": \"10.01\", \"x\": 2.55, \"xanchor\": \"left\", \"xref\": \"x\", \"y\": 86, \"yref\": \"y\"}, {\"align\": \"left\", \"font\": {\"color\": \"#000000\"}, \"showarrow\": false, \"text\": \"Equatorial Guinea\", \"x\": -0.45, \"xanchor\": \"left\", \"xref\": \"x\", \"y\": 87, \"yref\": \"y\"}, {\"align\": \"left\", \"font\": {\"color\": \"#000000\"}, \"showarrow\": false, \"text\": \"9690222\", \"x\": 0.55, \"xanchor\": \"left\", \"xref\": \"x\", \"y\": 87, \"yref\": \"y\"}, {\"align\": \"left\", \"font\": {\"color\": \"#000000\"}, \"showarrow\": false, \"text\": \"41.76\", \"x\": 1.55, \"xanchor\": \"left\", \"xref\": \"x\", \"y\": 87, \"yref\": \"y\"}, {\"align\": \"left\", \"font\": {\"color\": \"#000000\"}, \"showarrow\": false, \"text\": \"15.48\", \"x\": 2.55, \"xanchor\": \"left\", \"xref\": \"x\", \"y\": 87, \"yref\": \"y\"}, {\"align\": \"left\", \"font\": {\"color\": \"#000000\"}, \"showarrow\": false, \"text\": \"Greece\", \"x\": -0.45, \"xanchor\": \"left\", \"xref\": \"x\", \"y\": 88, \"yref\": \"y\"}, {\"align\": \"left\", \"font\": {\"color\": \"#000000\"}, \"showarrow\": false, \"text\": \"1442029\", \"x\": 0.55, \"xanchor\": \"left\", \"xref\": \"x\", \"y\": 88, \"yref\": \"y\"}, {\"align\": \"left\", \"font\": {\"color\": \"#000000\"}, \"showarrow\": false, \"text\": \"37.22\", \"x\": 1.55, \"xanchor\": \"left\", \"xref\": \"x\", \"y\": 88, \"yref\": \"y\"}, {\"align\": \"left\", \"font\": {\"color\": \"#000000\"}, \"showarrow\": false, \"text\": \"16.53\", \"x\": 2.55, \"xanchor\": \"left\", \"xref\": \"x\", \"y\": 88, \"yref\": \"y\"}, {\"align\": \"left\", \"font\": {\"color\": \"#000000\"}, \"showarrow\": false, \"text\": \"Grenada\", \"x\": -0.45, \"xanchor\": \"left\", \"xref\": \"x\", \"y\": 89, \"yref\": \"y\"}, {\"align\": \"left\", \"font\": {\"color\": \"#000000\"}, \"showarrow\": false, \"text\": \"767245\", \"x\": 0.55, \"xanchor\": \"left\", \"xref\": \"x\", \"y\": 89, \"yref\": \"y\"}, {\"align\": \"left\", \"font\": {\"color\": \"#000000\"}, \"showarrow\": false, \"text\": \"18.28\", \"x\": 1.55, \"xanchor\": \"left\", \"xref\": \"x\", \"y\": 89, \"yref\": \"y\"}, {\"align\": \"left\", \"font\": {\"color\": \"#000000\"}, \"showarrow\": false, \"text\": \"8.28\", \"x\": 2.55, \"xanchor\": \"left\", \"xref\": \"x\", \"y\": 89, \"yref\": \"y\"}, {\"align\": \"left\", \"font\": {\"color\": \"#000000\"}, \"showarrow\": false, \"text\": \"Greenland\", \"x\": -0.45, \"xanchor\": \"left\", \"xref\": \"x\", \"y\": 90, \"yref\": \"y\"}, {\"align\": \"left\", \"font\": {\"color\": \"#000000\"}, \"showarrow\": false, \"text\": \"8308504\", \"x\": 0.55, \"xanchor\": \"left\", \"xref\": \"x\", \"y\": 90, \"yref\": \"y\"}, {\"align\": \"left\", \"font\": {\"color\": \"#000000\"}, \"showarrow\": false, \"text\": \"36.44\", \"x\": 1.55, \"xanchor\": \"left\", \"xref\": \"x\", \"y\": 90, \"yref\": \"y\"}, {\"align\": \"left\", \"font\": {\"color\": \"#000000\"}, \"showarrow\": false, \"text\": \"12.17\", \"x\": 2.55, \"xanchor\": \"left\", \"xref\": \"x\", \"y\": 90, \"yref\": \"y\"}, {\"align\": \"left\", \"font\": {\"color\": \"#000000\"}, \"showarrow\": false, \"text\": \"Guatemala\", \"x\": -0.45, \"xanchor\": \"left\", \"xref\": \"x\", \"y\": 91, \"yref\": \"y\"}, {\"align\": \"left\", \"font\": {\"color\": \"#000000\"}, \"showarrow\": false, \"text\": \"7326496\", \"x\": 0.55, \"xanchor\": \"left\", \"xref\": \"x\", \"y\": 91, \"yref\": \"y\"}, {\"align\": \"left\", \"font\": {\"color\": \"#000000\"}, \"showarrow\": false, \"text\": \"28.24\", \"x\": 1.55, \"xanchor\": \"left\", \"xref\": \"x\", \"y\": 91, \"yref\": \"y\"}, {\"align\": \"left\", \"font\": {\"color\": \"#000000\"}, \"showarrow\": false, \"text\": \"5.28\", \"x\": 2.55, \"xanchor\": \"left\", \"xref\": \"x\", \"y\": 91, \"yref\": \"y\"}, {\"align\": \"left\", \"font\": {\"color\": \"#000000\"}, \"showarrow\": false, \"text\": \"Guam\", \"x\": -0.45, \"xanchor\": \"left\", \"xref\": \"x\", \"y\": 92, \"yref\": \"y\"}, {\"align\": \"left\", \"font\": {\"color\": \"#000000\"}, \"showarrow\": false, \"text\": \"6940432\", \"x\": 0.55, \"xanchor\": \"left\", \"xref\": \"x\", \"y\": 92, \"yref\": \"y\"}, {\"align\": \"left\", \"font\": {\"color\": \"#000000\"}, \"showarrow\": false, \"text\": \"7.29\", \"x\": 1.55, \"xanchor\": \"left\", \"xref\": \"x\", \"y\": 92, \"yref\": \"y\"}, {\"align\": \"left\", \"font\": {\"color\": \"#000000\"}, \"showarrow\": false, \"text\": \"6.29\", \"x\": 2.55, \"xanchor\": \"left\", \"xref\": \"x\", \"y\": 92, \"yref\": \"y\"}, {\"align\": \"left\", \"font\": {\"color\": \"#000000\"}, \"showarrow\": false, \"text\": \"Guyana\", \"x\": -0.45, \"xanchor\": \"left\", \"xref\": \"x\", \"y\": 93, \"yref\": \"y\"}, {\"align\": \"left\", \"font\": {\"color\": \"#000000\"}, \"showarrow\": false, \"text\": \"9981334\", \"x\": 0.55, \"xanchor\": \"left\", \"xref\": \"x\", \"y\": 93, \"yref\": \"y\"}, {\"align\": \"left\", \"font\": {\"color\": \"#000000\"}, \"showarrow\": false, \"text\": \"9.72\", \"x\": 1.55, \"xanchor\": \"left\", \"xref\": \"x\", \"y\": 93, \"yref\": \"y\"}, {\"align\": \"left\", \"font\": {\"color\": \"#000000\"}, \"showarrow\": false, \"text\": \"13.11\", \"x\": 2.55, \"xanchor\": \"left\", \"xref\": \"x\", \"y\": 93, \"yref\": \"y\"}, {\"align\": \"left\", \"font\": {\"color\": \"#000000\"}, \"showarrow\": false, \"text\": \"High income\", \"x\": -0.45, \"xanchor\": \"left\", \"xref\": \"x\", \"y\": 94, \"yref\": \"y\"}, {\"align\": \"left\", \"font\": {\"color\": \"#000000\"}, \"showarrow\": false, \"text\": \"299388\", \"x\": 0.55, \"xanchor\": \"left\", \"xref\": \"x\", \"y\": 94, \"yref\": \"y\"}, {\"align\": \"left\", \"font\": {\"color\": \"#000000\"}, \"showarrow\": false, \"text\": \"13.64\", \"x\": 1.55, \"xanchor\": \"left\", \"xref\": \"x\", \"y\": 94, \"yref\": \"y\"}, {\"align\": \"left\", \"font\": {\"color\": \"#000000\"}, \"showarrow\": false, \"text\": \"6.72\", \"x\": 2.55, \"xanchor\": \"left\", \"xref\": \"x\", \"y\": 94, \"yref\": \"y\"}, {\"align\": \"left\", \"font\": {\"color\": \"#000000\"}, \"showarrow\": false, \"text\": \"Hong Kong SAR, China\", \"x\": -0.45, \"xanchor\": \"left\", \"xref\": \"x\", \"y\": 95, \"yref\": \"y\"}, {\"align\": \"left\", \"font\": {\"color\": \"#000000\"}, \"showarrow\": false, \"text\": \"1095351995\", \"x\": 0.55, \"xanchor\": \"left\", \"xref\": \"x\", \"y\": 95, \"yref\": \"y\"}, {\"align\": \"left\", \"font\": {\"color\": \"#000000\"}, \"showarrow\": false, \"text\": \"22.01\", \"x\": 1.55, \"xanchor\": \"left\", \"xref\": \"x\", \"y\": 95, \"yref\": \"y\"}, {\"align\": \"left\", \"font\": {\"color\": \"#000000\"}, \"showarrow\": false, \"text\": \"8.18\", \"x\": 2.55, \"xanchor\": \"left\", \"xref\": \"x\", \"y\": 95, \"yref\": \"y\"}, {\"align\": \"left\", \"font\": {\"color\": \"#000000\"}, \"showarrow\": false, \"text\": \"Honduras\", \"x\": -0.45, \"xanchor\": \"left\", \"xref\": \"x\", \"y\": 96, \"yref\": \"y\"}, {\"align\": \"left\", \"font\": {\"color\": \"#000000\"}, \"showarrow\": false, \"text\": \"245452739\", \"x\": 0.55, \"xanchor\": \"left\", \"xref\": \"x\", \"y\": 96, \"yref\": \"y\"}, {\"align\": \"left\", \"font\": {\"color\": \"#000000\"}, \"showarrow\": false, \"text\": \"20.34\", \"x\": 1.55, \"xanchor\": \"left\", \"xref\": \"x\", \"y\": 96, \"yref\": \"y\"}, {\"align\": \"left\", \"font\": {\"color\": \"#000000\"}, \"showarrow\": false, \"text\": \"6.25\", \"x\": 2.55, \"xanchor\": \"left\", \"xref\": \"x\", \"y\": 96, \"yref\": \"y\"}, {\"align\": \"left\", \"font\": {\"color\": \"#000000\"}, \"showarrow\": false, \"text\": \"Heavily indebted poor countries (HIPC)\", \"x\": -0.45, \"xanchor\": \"left\", \"xref\": \"x\", \"y\": 97, \"yref\": \"y\"}, {\"align\": \"left\", \"font\": {\"color\": \"#000000\"}, \"showarrow\": false, \"text\": \"68688433\", \"x\": 0.55, \"xanchor\": \"left\", \"xref\": \"x\", \"y\": 97, \"yref\": \"y\"}, {\"align\": \"left\", \"font\": {\"color\": \"#000000\"}, \"showarrow\": false, \"text\": \"17.0\", \"x\": 1.55, \"xanchor\": \"left\", \"xref\": \"x\", \"y\": 97, \"yref\": \"y\"}, {\"align\": \"left\", \"font\": {\"color\": \"#000000\"}, \"showarrow\": false, \"text\": \"5.55\", \"x\": 2.55, \"xanchor\": \"left\", \"xref\": \"x\", \"y\": 97, \"yref\": \"y\"}, {\"align\": \"left\", \"font\": {\"color\": \"#000000\"}, \"showarrow\": false, \"text\": \"Croatia\", \"x\": -0.45, \"xanchor\": \"left\", \"xref\": \"x\", \"y\": 98, \"yref\": \"y\"}, {\"align\": \"left\", \"font\": {\"color\": \"#000000\"}, \"showarrow\": false, \"text\": \"26783383\", \"x\": 0.55, \"xanchor\": \"left\", \"xref\": \"x\", \"y\": 98, \"yref\": \"y\"}, {\"align\": \"left\", \"font\": {\"color\": \"#000000\"}, \"showarrow\": false, \"text\": \"31.98\", \"x\": 1.55, \"xanchor\": \"left\", \"xref\": \"x\", \"y\": 98, \"yref\": \"y\"}, {\"align\": \"left\", \"font\": {\"color\": \"#000000\"}, \"showarrow\": false, \"text\": \"5.37\", \"x\": 2.55, \"xanchor\": \"left\", \"xref\": \"x\", \"y\": 98, \"yref\": \"y\"}, {\"align\": \"left\", \"font\": {\"color\": \"#000000\"}, \"showarrow\": false, \"text\": \"Haiti\", \"x\": -0.45, \"xanchor\": \"left\", \"xref\": \"x\", \"y\": 99, \"yref\": \"y\"}, {\"align\": \"left\", \"font\": {\"color\": \"#000000\"}, \"showarrow\": false, \"text\": \"4062235\", \"x\": 0.55, \"xanchor\": \"left\", \"xref\": \"x\", \"y\": 99, \"yref\": \"y\"}, {\"align\": \"left\", \"font\": {\"color\": \"#000000\"}, \"showarrow\": false, \"text\": \"14.45\", \"x\": 1.55, \"xanchor\": \"left\", \"xref\": \"x\", \"y\": 99, \"yref\": \"y\"}, {\"align\": \"left\", \"font\": {\"color\": \"#000000\"}, \"showarrow\": false, \"text\": \"7.82\", \"x\": 2.55, \"xanchor\": \"left\", \"xref\": \"x\", \"y\": 99, \"yref\": \"y\"}, {\"align\": \"left\", \"font\": {\"color\": \"#000000\"}, \"showarrow\": false, \"text\": \"Hungary\", \"x\": -0.45, \"xanchor\": \"left\", \"xref\": \"x\", \"y\": 100, \"yref\": \"y\"}, {\"align\": \"left\", \"font\": {\"color\": \"#000000\"}, \"showarrow\": false, \"text\": \"75441\", \"x\": 0.55, \"xanchor\": \"left\", \"xref\": \"x\", \"y\": 100, \"yref\": \"y\"}, {\"align\": \"left\", \"font\": {\"color\": \"#000000\"}, \"showarrow\": false, \"text\": \"11.05\", \"x\": 1.55, \"xanchor\": \"left\", \"xref\": \"x\", \"y\": 100, \"yref\": \"y\"}, {\"align\": \"left\", \"font\": {\"color\": \"#000000\"}, \"showarrow\": false, \"text\": \"11.19\", \"x\": 2.55, \"xanchor\": \"left\", \"xref\": \"x\", \"y\": 100, \"yref\": \"y\"}, {\"align\": \"left\", \"font\": {\"color\": \"#000000\"}, \"showarrow\": false, \"text\": \"IBRD only\", \"x\": -0.45, \"xanchor\": \"left\", \"xref\": \"x\", \"y\": 101, \"yref\": \"y\"}, {\"align\": \"left\", \"font\": {\"color\": \"#000000\"}, \"showarrow\": false, \"text\": \"6352117\", \"x\": 0.55, \"xanchor\": \"left\", \"xref\": \"x\", \"y\": 101, \"yref\": \"y\"}, {\"align\": \"left\", \"font\": {\"color\": \"#000000\"}, \"showarrow\": false, \"text\": \"17.97\", \"x\": 1.55, \"xanchor\": \"left\", \"xref\": \"x\", \"y\": 101, \"yref\": \"y\"}, {\"align\": \"left\", \"font\": {\"color\": \"#000000\"}, \"showarrow\": false, \"text\": \"6.18\", \"x\": 2.55, \"xanchor\": \"left\", \"xref\": \"x\", \"y\": 101, \"yref\": \"y\"}, {\"align\": \"left\", \"font\": {\"color\": \"#000000\"}, \"showarrow\": false, \"text\": \"IDA & IBRD total\", \"x\": -0.45, \"xanchor\": \"left\", \"xref\": \"x\", \"y\": 102, \"yref\": \"y\"}, {\"align\": \"left\", \"font\": {\"color\": \"#000000\"}, \"showarrow\": false, \"text\": \"58133509\", \"x\": 0.55, \"xanchor\": \"left\", \"xref\": \"x\", \"y\": 102, \"yref\": \"y\"}, {\"align\": \"left\", \"font\": {\"color\": \"#000000\"}, \"showarrow\": false, \"text\": \"8.72\", \"x\": 1.55, \"xanchor\": \"left\", \"xref\": \"x\", \"y\": 102, \"yref\": \"y\"}, {\"align\": \"left\", \"font\": {\"color\": \"#000000\"}, \"showarrow\": false, \"text\": \"10.4\", \"x\": 2.55, \"xanchor\": \"left\", \"xref\": \"x\", \"y\": 102, \"yref\": \"y\"}, {\"align\": \"left\", \"font\": {\"color\": \"#000000\"}, \"showarrow\": false, \"text\": \"IDA total\", \"x\": -0.45, \"xanchor\": \"left\", \"xref\": \"x\", \"y\": 103, \"yref\": \"y\"}, {\"align\": \"left\", \"font\": {\"color\": \"#000000\"}, \"showarrow\": false, \"text\": \"2758124\", \"x\": 0.55, \"xanchor\": \"left\", \"xref\": \"x\", \"y\": 103, \"yref\": \"y\"}, {\"align\": \"left\", \"font\": {\"color\": \"#000000\"}, \"showarrow\": false, \"text\": \"20.82\", \"x\": 1.55, \"xanchor\": \"left\", \"xref\": \"x\", \"y\": 103, \"yref\": \"y\"}, {\"align\": \"left\", \"font\": {\"color\": \"#000000\"}, \"showarrow\": false, \"text\": \"6.52\", \"x\": 2.55, \"xanchor\": \"left\", \"xref\": \"x\", \"y\": 103, \"yref\": \"y\"}, {\"align\": \"left\", \"font\": {\"color\": \"#000000\"}, \"showarrow\": false, \"text\": \"IDA blend\", \"x\": -0.45, \"xanchor\": \"left\", \"xref\": \"x\", \"y\": 104, \"yref\": \"y\"}, {\"align\": \"left\", \"font\": {\"color\": \"#000000\"}, \"showarrow\": false, \"text\": \"127463611\", \"x\": 0.55, \"xanchor\": \"left\", \"xref\": \"x\", \"y\": 104, \"yref\": \"y\"}, {\"align\": \"left\", \"font\": {\"color\": \"#000000\"}, \"showarrow\": false, \"text\": \"9.37\", \"x\": 1.55, \"xanchor\": \"left\", \"xref\": \"x\", \"y\": 104, \"yref\": \"y\"}, {\"align\": \"left\", \"font\": {\"color\": \"#000000\"}, \"showarrow\": false, \"text\": \"9.16\", \"x\": 2.55, \"xanchor\": \"left\", \"xref\": \"x\", \"y\": 104, \"yref\": \"y\"}, {\"align\": \"left\", \"font\": {\"color\": \"#000000\"}, \"showarrow\": false, \"text\": \"Indonesia\", \"x\": -0.45, \"xanchor\": \"left\", \"xref\": \"x\", \"y\": 105, \"yref\": \"y\"}, {\"align\": \"left\", \"font\": {\"color\": \"#000000\"}, \"showarrow\": false, \"text\": \"91084\", \"x\": 0.55, \"xanchor\": \"left\", \"xref\": \"x\", \"y\": 105, \"yref\": \"y\"}, {\"align\": \"left\", \"font\": {\"color\": \"#000000\"}, \"showarrow\": false, \"text\": \"9.3\", \"x\": 1.55, \"xanchor\": \"left\", \"xref\": \"x\", \"y\": 105, \"yref\": \"y\"}, {\"align\": \"left\", \"font\": {\"color\": \"#000000\"}, \"showarrow\": false, \"text\": \"9.28\", \"x\": 2.55, \"xanchor\": \"left\", \"xref\": \"x\", \"y\": 105, \"yref\": \"y\"}, {\"align\": \"left\", \"font\": {\"color\": \"#000000\"}, \"showarrow\": false, \"text\": \"IDA only\", \"x\": -0.45, \"xanchor\": \"left\", \"xref\": \"x\", \"y\": 106, \"yref\": \"y\"}, {\"align\": \"left\", \"font\": {\"color\": \"#000000\"}, \"showarrow\": false, \"text\": \"5906760\", \"x\": 0.55, \"xanchor\": \"left\", \"xref\": \"x\", \"y\": 106, \"yref\": \"y\"}, {\"align\": \"left\", \"font\": {\"color\": \"#000000\"}, \"showarrow\": false, \"text\": \"21.25\", \"x\": 1.55, \"xanchor\": \"left\", \"xref\": \"x\", \"y\": 106, \"yref\": \"y\"}, {\"align\": \"left\", \"font\": {\"color\": \"#000000\"}, \"showarrow\": false, \"text\": \"2.65\", \"x\": 2.55, \"xanchor\": \"left\", \"xref\": \"x\", \"y\": 106, \"yref\": \"y\"}, {\"align\": \"left\", \"font\": {\"color\": \"#000000\"}, \"showarrow\": false, \"text\": \"Isle of Man\", \"x\": -0.45, \"xanchor\": \"left\", \"xref\": \"x\", \"y\": 107, \"yref\": \"y\"}, {\"align\": \"left\", \"font\": {\"color\": \"#000000\"}, \"showarrow\": false, \"text\": \"15233244\", \"x\": 0.55, \"xanchor\": \"left\", \"xref\": \"x\", \"y\": 107, \"yref\": \"y\"}, {\"align\": \"left\", \"font\": {\"color\": \"#000000\"}, \"showarrow\": false, \"text\": \"16.0\", \"x\": 1.55, \"xanchor\": \"left\", \"xref\": \"x\", \"y\": 107, \"yref\": \"y\"}, {\"align\": \"left\", \"font\": {\"color\": \"#000000\"}, \"showarrow\": false, \"text\": \"9.42\", \"x\": 2.55, \"xanchor\": \"left\", \"xref\": \"x\", \"y\": 107, \"yref\": \"y\"}, {\"align\": \"left\", \"font\": {\"color\": \"#000000\"}, \"showarrow\": false, \"text\": \"India\", \"x\": -0.45, \"xanchor\": \"left\", \"xref\": \"x\", \"y\": 108, \"yref\": \"y\"}, {\"align\": \"left\", \"font\": {\"color\": \"#000000\"}, \"showarrow\": false, \"text\": \"34707817\", \"x\": 0.55, \"xanchor\": \"left\", \"xref\": \"x\", \"y\": 108, \"yref\": \"y\"}, {\"align\": \"left\", \"font\": {\"color\": \"#000000\"}, \"showarrow\": false, \"text\": \"39.72\", \"x\": 1.55, \"xanchor\": \"left\", \"xref\": \"x\", \"y\": 108, \"yref\": \"y\"}, {\"align\": \"left\", \"font\": {\"color\": \"#000000\"}, \"showarrow\": false, \"text\": \"14.02\", \"x\": 2.55, \"xanchor\": \"left\", \"xref\": \"x\", \"y\": 108, \"yref\": \"y\"}, {\"align\": \"left\", \"font\": {\"color\": \"#000000\"}, \"showarrow\": false, \"text\": \"Not classified\", \"x\": -0.45, \"xanchor\": \"left\", \"xref\": \"x\", \"y\": 109, \"yref\": \"y\"}, {\"align\": \"left\", \"font\": {\"color\": \"#000000\"}, \"showarrow\": false, \"text\": \"105432\", \"x\": 0.55, \"xanchor\": \"left\", \"xref\": \"x\", \"y\": 109, \"yref\": \"y\"}, {\"align\": \"left\", \"font\": {\"color\": \"#000000\"}, \"showarrow\": false, \"text\": \"30.65\", \"x\": 1.55, \"xanchor\": \"left\", \"xref\": \"x\", \"y\": 109, \"yref\": \"y\"}, {\"align\": \"left\", \"font\": {\"color\": \"#000000\"}, \"showarrow\": false, \"text\": \"8.26\", \"x\": 2.55, \"xanchor\": \"left\", \"xref\": \"x\", \"y\": 109, \"yref\": \"y\"}, {\"align\": \"left\", \"font\": {\"color\": \"#000000\"}, \"showarrow\": false, \"text\": \"Ireland\", \"x\": -0.45, \"xanchor\": \"left\", \"xref\": \"x\", \"y\": 110, \"yref\": \"y\"}, {\"align\": \"left\", \"font\": {\"color\": \"#000000\"}, \"showarrow\": false, \"text\": \"23113019\", \"x\": 0.55, \"xanchor\": \"left\", \"xref\": \"x\", \"y\": 110, \"yref\": \"y\"}, {\"align\": \"left\", \"font\": {\"color\": \"#000000\"}, \"showarrow\": false, \"text\": \"15.54\", \"x\": 1.55, \"xanchor\": \"left\", \"xref\": \"x\", \"y\": 110, \"yref\": \"y\"}, {\"align\": \"left\", \"font\": {\"color\": \"#000000\"}, \"showarrow\": false, \"text\": \"7.13\", \"x\": 2.55, \"xanchor\": \"left\", \"xref\": \"x\", \"y\": 110, \"yref\": \"y\"}, {\"align\": \"left\", \"font\": {\"color\": \"#000000\"}, \"showarrow\": false, \"text\": \"Iran, Islamic Rep.\", \"x\": -0.45, \"xanchor\": \"left\", \"xref\": \"x\", \"y\": 111, \"yref\": \"y\"}, {\"align\": \"left\", \"font\": {\"color\": \"#000000\"}, \"showarrow\": false, \"text\": \"48846823\", \"x\": 0.55, \"xanchor\": \"left\", \"xref\": \"x\", \"y\": 111, \"yref\": \"y\"}, {\"align\": \"left\", \"font\": {\"color\": \"#000000\"}, \"showarrow\": false, \"text\": \"10.0\", \"x\": 1.55, \"xanchor\": \"left\", \"xref\": \"x\", \"y\": 111, \"yref\": \"y\"}, {\"align\": \"left\", \"font\": {\"color\": \"#000000\"}, \"showarrow\": false, \"text\": \"5.85\", \"x\": 2.55, \"xanchor\": \"left\", \"xref\": \"x\", \"y\": 111, \"yref\": \"y\"}, {\"align\": \"left\", \"font\": {\"color\": \"#000000\"}, \"showarrow\": false, \"text\": \"Iraq\", \"x\": -0.45, \"xanchor\": \"left\", \"xref\": \"x\", \"y\": 112, \"yref\": \"y\"}, {\"align\": \"left\", \"font\": {\"color\": \"#000000\"}, \"showarrow\": false, \"text\": \"2418393\", \"x\": 0.55, \"xanchor\": \"left\", \"xref\": \"x\", \"y\": 112, \"yref\": \"y\"}, {\"align\": \"left\", \"font\": {\"color\": \"#000000\"}, \"showarrow\": false, \"text\": \"21.94\", \"x\": 1.55, \"xanchor\": \"left\", \"xref\": \"x\", \"y\": 112, \"yref\": \"y\"}, {\"align\": \"left\", \"font\": {\"color\": \"#000000\"}, \"showarrow\": false, \"text\": \"2.41\", \"x\": 2.55, \"xanchor\": \"left\", \"xref\": \"x\", \"y\": 112, \"yref\": \"y\"}, {\"align\": \"left\", \"font\": {\"color\": \"#000000\"}, \"showarrow\": false, \"text\": \"Iceland\", \"x\": -0.45, \"xanchor\": \"left\", \"xref\": \"x\", \"y\": 113, \"yref\": \"y\"}, {\"align\": \"left\", \"font\": {\"color\": \"#000000\"}, \"showarrow\": false, \"text\": \"5213898\", \"x\": 0.55, \"xanchor\": \"left\", \"xref\": \"x\", \"y\": 113, \"yref\": \"y\"}, {\"align\": \"left\", \"font\": {\"color\": \"#000000\"}, \"showarrow\": false, \"text\": \"22.8\", \"x\": 1.55, \"xanchor\": \"left\", \"xref\": \"x\", \"y\": 113, \"yref\": \"y\"}, {\"align\": \"left\", \"font\": {\"color\": \"#000000\"}, \"showarrow\": false, \"text\": \"7.08\", \"x\": 2.55, \"xanchor\": \"left\", \"xref\": \"x\", \"y\": 113, \"yref\": \"y\"}, {\"align\": \"left\", \"font\": {\"color\": \"#000000\"}, \"showarrow\": false, \"text\": \"Israel\", \"x\": -0.45, \"xanchor\": \"left\", \"xref\": \"x\", \"y\": 114, \"yref\": \"y\"}, {\"align\": \"left\", \"font\": {\"color\": \"#000000\"}, \"showarrow\": false, \"text\": \"6368481\", \"x\": 0.55, \"xanchor\": \"left\", \"xref\": \"x\", \"y\": 114, \"yref\": \"y\"}, {\"align\": \"left\", \"font\": {\"color\": \"#000000\"}, \"showarrow\": false, \"text\": \"35.49\", \"x\": 1.55, \"xanchor\": \"left\", \"xref\": \"x\", \"y\": 114, \"yref\": \"y\"}, {\"align\": \"left\", \"font\": {\"color\": \"#000000\"}, \"showarrow\": false, \"text\": \"11.55\", \"x\": 2.55, \"xanchor\": \"left\", \"xref\": \"x\", \"y\": 114, \"yref\": \"y\"}, {\"align\": \"left\", \"font\": {\"color\": \"#000000\"}, \"showarrow\": false, \"text\": \"Italy\", \"x\": -0.45, \"xanchor\": \"left\", \"xref\": \"x\", \"y\": 115, \"yref\": \"y\"}, {\"align\": \"left\", \"font\": {\"color\": \"#000000\"}, \"showarrow\": false, \"text\": \"2274735\", \"x\": 0.55, \"xanchor\": \"left\", \"xref\": \"x\", \"y\": 115, \"yref\": \"y\"}, {\"align\": \"left\", \"font\": {\"color\": \"#000000\"}, \"showarrow\": false, \"text\": \"9.24\", \"x\": 1.55, \"xanchor\": \"left\", \"xref\": \"x\", \"y\": 115, \"yref\": \"y\"}, {\"align\": \"left\", \"font\": {\"color\": \"#000000\"}, \"showarrow\": false, \"text\": \"13.66\", \"x\": 2.55, \"xanchor\": \"left\", \"xref\": \"x\", \"y\": 115, \"yref\": \"y\"}, {\"align\": \"left\", \"font\": {\"color\": \"#000000\"}, \"showarrow\": false, \"text\": \"Jamaica\", \"x\": -0.45, \"xanchor\": \"left\", \"xref\": \"x\", \"y\": 116, \"yref\": \"y\"}, {\"align\": \"left\", \"font\": {\"color\": \"#000000\"}, \"showarrow\": false, \"text\": \"3874050\", \"x\": 0.55, \"xanchor\": \"left\", \"xref\": \"x\", \"y\": 116, \"yref\": \"y\"}, {\"align\": \"left\", \"font\": {\"color\": \"#000000\"}, \"showarrow\": false, \"text\": \"18.52\", \"x\": 1.55, \"xanchor\": \"left\", \"xref\": \"x\", \"y\": 116, \"yref\": \"y\"}, {\"align\": \"left\", \"font\": {\"color\": \"#000000\"}, \"showarrow\": false, \"text\": \"6.21\", \"x\": 2.55, \"xanchor\": \"left\", \"xref\": \"x\", \"y\": 116, \"yref\": \"y\"}, {\"align\": \"left\", \"font\": {\"color\": \"#000000\"}, \"showarrow\": false, \"text\": \"Jordan\", \"x\": -0.45, \"xanchor\": \"left\", \"xref\": \"x\", \"y\": 117, \"yref\": \"y\"}, {\"align\": \"left\", \"font\": {\"color\": \"#000000\"}, \"showarrow\": false, \"text\": \"2022331\", \"x\": 0.55, \"xanchor\": \"left\", \"xref\": \"x\", \"y\": 117, \"yref\": \"y\"}, {\"align\": \"left\", \"font\": {\"color\": \"#000000\"}, \"showarrow\": false, \"text\": \"24.75\", \"x\": 1.55, \"xanchor\": \"left\", \"xref\": \"x\", \"y\": 117, \"yref\": \"y\"}, {\"align\": \"left\", \"font\": {\"color\": \"#000000\"}, \"showarrow\": false, \"text\": \"28.71\", \"x\": 2.55, \"xanchor\": \"left\", \"xref\": \"x\", \"y\": 117, \"yref\": \"y\"}, {\"align\": \"left\", \"font\": {\"color\": \"#000000\"}, \"showarrow\": false, \"text\": \"Japan\", \"x\": -0.45, \"xanchor\": \"left\", \"xref\": \"x\", \"y\": 118, \"yref\": \"y\"}, {\"align\": \"left\", \"font\": {\"color\": \"#000000\"}, \"showarrow\": false, \"text\": \"3042004\", \"x\": 0.55, \"xanchor\": \"left\", \"xref\": \"x\", \"y\": 118, \"yref\": \"y\"}, {\"align\": \"left\", \"font\": {\"color\": \"#000000\"}, \"showarrow\": false, \"text\": \"44.77\", \"x\": 1.55, \"xanchor\": \"left\", \"xref\": \"x\", \"y\": 118, \"yref\": \"y\"}, {\"align\": \"left\", \"font\": {\"color\": \"#000000\"}, \"showarrow\": false, \"text\": \"23.1\", \"x\": 2.55, \"xanchor\": \"left\", \"xref\": \"x\", \"y\": 118, \"yref\": \"y\"}, {\"align\": \"left\", \"font\": {\"color\": \"#000000\"}, \"showarrow\": false, \"text\": \"Kazakhstan\", \"x\": -0.45, \"xanchor\": \"left\", \"xref\": \"x\", \"y\": 119, \"yref\": \"y\"}, {\"align\": \"left\", \"font\": {\"color\": \"#000000\"}, \"showarrow\": false, \"text\": \"5900754\", \"x\": 0.55, \"xanchor\": \"left\", \"xref\": \"x\", \"y\": 119, \"yref\": \"y\"}, {\"align\": \"left\", \"font\": {\"color\": \"#000000\"}, \"showarrow\": false, \"text\": \"26.49\", \"x\": 1.55, \"xanchor\": \"left\", \"xref\": \"x\", \"y\": 119, \"yref\": \"y\"}, {\"align\": \"left\", \"font\": {\"color\": \"#000000\"}, \"showarrow\": false, \"text\": \"3.48\", \"x\": 2.55, \"xanchor\": \"left\", \"xref\": \"x\", \"y\": 119, \"yref\": \"y\"}, {\"align\": \"left\", \"font\": {\"color\": \"#000000\"}, \"showarrow\": false, \"text\": \"Kenya\", \"x\": -0.45, \"xanchor\": \"left\", \"xref\": \"x\", \"y\": 120, \"yref\": \"y\"}, {\"align\": \"left\", \"font\": {\"color\": \"#000000\"}, \"showarrow\": false, \"text\": \"33987\", \"x\": 0.55, \"xanchor\": \"left\", \"xref\": \"x\", \"y\": 120, \"yref\": \"y\"}, {\"align\": \"left\", \"font\": {\"color\": \"#000000\"}, \"showarrow\": false, \"text\": \"10.21\", \"x\": 1.55, \"xanchor\": \"left\", \"xref\": \"x\", \"y\": 120, \"yref\": \"y\"}, {\"align\": \"left\", \"font\": {\"color\": \"#000000\"}, \"showarrow\": false, \"text\": \"7.18\", \"x\": 2.55, \"xanchor\": \"left\", \"xref\": \"x\", \"y\": 120, \"yref\": \"y\"}, {\"align\": \"left\", \"font\": {\"color\": \"#000000\"}, \"showarrow\": false, \"text\": \"Kyrgyz Republic\", \"x\": -0.45, \"xanchor\": \"left\", \"xref\": \"x\", \"y\": 121, \"yref\": \"y\"}, {\"align\": \"left\", \"font\": {\"color\": \"#000000\"}, \"showarrow\": false, \"text\": \"3585906\", \"x\": 0.55, \"xanchor\": \"left\", \"xref\": \"x\", \"y\": 121, \"yref\": \"y\"}, {\"align\": \"left\", \"font\": {\"color\": \"#000000\"}, \"showarrow\": false, \"text\": \"8.75\", \"x\": 1.55, \"xanchor\": \"left\", \"xref\": \"x\", \"y\": 121, \"yref\": \"y\"}, {\"align\": \"left\", \"font\": {\"color\": \"#000000\"}, \"showarrow\": false, \"text\": \"10.98\", \"x\": 2.55, \"xanchor\": \"left\", \"xref\": \"x\", \"y\": 121, \"yref\": \"y\"}, {\"align\": \"left\", \"font\": {\"color\": \"#000000\"}, \"showarrow\": false, \"text\": \"Cambodia\", \"x\": -0.45, \"xanchor\": \"left\", \"xref\": \"x\", \"y\": 122, \"yref\": \"y\"}, {\"align\": \"left\", \"font\": {\"color\": \"#000000\"}, \"showarrow\": false, \"text\": \"474413\", \"x\": 0.55, \"xanchor\": \"left\", \"xref\": \"x\", \"y\": 122, \"yref\": \"y\"}, {\"align\": \"left\", \"font\": {\"color\": \"#000000\"}, \"showarrow\": false, \"text\": \"11.94\", \"x\": 1.55, \"xanchor\": \"left\", \"xref\": \"x\", \"y\": 122, \"yref\": \"y\"}, {\"align\": \"left\", \"font\": {\"color\": \"#000000\"}, \"showarrow\": false, \"text\": \"8.41\", \"x\": 2.55, \"xanchor\": \"left\", \"xref\": \"x\", \"y\": 122, \"yref\": \"y\"}, {\"align\": \"left\", \"font\": {\"color\": \"#000000\"}, \"showarrow\": false, \"text\": \"Kiribati\", \"x\": -0.45, \"xanchor\": \"left\", \"xref\": \"x\", \"y\": 123, \"yref\": \"y\"}, {\"align\": \"left\", \"font\": {\"color\": \"#000000\"}, \"showarrow\": false, \"text\": \"453125\", \"x\": 0.55, \"xanchor\": \"left\", \"xref\": \"x\", \"y\": 123, \"yref\": \"y\"}, {\"align\": \"left\", \"font\": {\"color\": \"#000000\"}, \"showarrow\": false, \"text\": \"8.48\", \"x\": 1.55, \"xanchor\": \"left\", \"xref\": \"x\", \"y\": 123, \"yref\": \"y\"}, {\"align\": \"left\", \"font\": {\"color\": \"#000000\"}, \"showarrow\": false, \"text\": \"4.47\", \"x\": 2.55, \"xanchor\": \"left\", \"xref\": \"x\", \"y\": 123, \"yref\": \"y\"}, {\"align\": \"left\", \"font\": {\"color\": \"#000000\"}, \"showarrow\": false, \"text\": \"St. Kitts and Nevis\", \"x\": -0.45, \"xanchor\": \"left\", \"xref\": \"x\", \"y\": 124, \"yref\": \"y\"}, {\"align\": \"left\", \"font\": {\"color\": \"#000000\"}, \"showarrow\": false, \"text\": \"2050554\", \"x\": 0.55, \"xanchor\": \"left\", \"xref\": \"x\", \"y\": 124, \"yref\": \"y\"}, {\"align\": \"left\", \"font\": {\"color\": \"#000000\"}, \"showarrow\": false, \"text\": \"12.02\", \"x\": 1.55, \"xanchor\": \"left\", \"xref\": \"x\", \"y\": 124, \"yref\": \"y\"}, {\"align\": \"left\", \"font\": {\"color\": \"#000000\"}, \"showarrow\": false, \"text\": \"8.77\", \"x\": 2.55, \"xanchor\": \"left\", \"xref\": \"x\", \"y\": 124, \"yref\": \"y\"}, {\"align\": \"left\", \"font\": {\"color\": \"#000000\"}, \"showarrow\": false, \"text\": \"Korea, Rep.\", \"x\": -0.45, \"xanchor\": \"left\", \"xref\": \"x\", \"y\": 125, \"yref\": \"y\"}, {\"align\": \"left\", \"font\": {\"color\": \"#000000\"}, \"showarrow\": false, \"text\": \"18595469\", \"x\": 0.55, \"xanchor\": \"left\", \"xref\": \"x\", \"y\": 125, \"yref\": \"y\"}, {\"align\": \"left\", \"font\": {\"color\": \"#000000\"}, \"showarrow\": false, \"text\": \"41.41\", \"x\": 1.55, \"xanchor\": \"left\", \"xref\": \"x\", \"y\": 125, \"yref\": \"y\"}, {\"align\": \"left\", \"font\": {\"color\": \"#000000\"}, \"showarrow\": false, \"text\": \"11.11\", \"x\": 2.55, \"xanchor\": \"left\", \"xref\": \"x\", \"y\": 125, \"yref\": \"y\"}, {\"align\": \"left\", \"font\": {\"color\": \"#000000\"}, \"showarrow\": false, \"text\": \"Kuwait\", \"x\": -0.45, \"xanchor\": \"left\", \"xref\": \"x\", \"y\": 126, \"yref\": \"y\"}, {\"align\": \"left\", \"font\": {\"color\": \"#000000\"}, \"showarrow\": false, \"text\": \"13013926\", \"x\": 0.55, \"xanchor\": \"left\", \"xref\": \"x\", \"y\": 126, \"yref\": \"y\"}, {\"align\": \"left\", \"font\": {\"color\": \"#000000\"}, \"showarrow\": false, \"text\": \"43.13\", \"x\": 1.55, \"xanchor\": \"left\", \"xref\": \"x\", \"y\": 126, \"yref\": \"y\"}, {\"align\": \"left\", \"font\": {\"color\": \"#000000\"}, \"showarrow\": false, \"text\": \"19.33\", \"x\": 2.55, \"xanchor\": \"left\", \"xref\": \"x\", \"y\": 126, \"yref\": \"y\"}, {\"align\": \"left\", \"font\": {\"color\": \"#000000\"}, \"showarrow\": false, \"text\": \"Latin America & Caribbean (excluding high income)\", \"x\": -0.45, \"xanchor\": \"left\", \"xref\": \"x\", \"y\": 127, \"yref\": \"y\"}, {\"align\": \"left\", \"font\": {\"color\": \"#000000\"}, \"showarrow\": false, \"text\": \"24385858\", \"x\": 0.55, \"xanchor\": \"left\", \"xref\": \"x\", \"y\": 127, \"yref\": \"y\"}, {\"align\": \"left\", \"font\": {\"color\": \"#000000\"}, \"showarrow\": false, \"text\": \"22.86\", \"x\": 1.55, \"xanchor\": \"left\", \"xref\": \"x\", \"y\": 127, \"yref\": \"y\"}, {\"align\": \"left\", \"font\": {\"color\": \"#000000\"}, \"showarrow\": false, \"text\": \"5.05\", \"x\": 2.55, \"xanchor\": \"left\", \"xref\": \"x\", \"y\": 127, \"yref\": \"y\"}, {\"align\": \"left\", \"font\": {\"color\": \"#000000\"}, \"showarrow\": false, \"text\": \"Lao PDR\", \"x\": -0.45, \"xanchor\": \"left\", \"xref\": \"x\", \"y\": 128, \"yref\": \"y\"}, {\"align\": \"left\", \"font\": {\"color\": \"#000000\"}, \"showarrow\": false, \"text\": \"359008\", \"x\": 0.55, \"xanchor\": \"left\", \"xref\": \"x\", \"y\": 128, \"yref\": \"y\"}, {\"align\": \"left\", \"font\": {\"color\": \"#000000\"}, \"showarrow\": false, \"text\": \"34.81\", \"x\": 1.55, \"xanchor\": \"left\", \"xref\": \"x\", \"y\": 128, \"yref\": \"y\"}, {\"align\": \"left\", \"font\": {\"color\": \"#000000\"}, \"showarrow\": false, \"text\": \"7.06\", \"x\": 2.55, \"xanchor\": \"left\", \"xref\": \"x\", \"y\": 128, \"yref\": \"y\"}, {\"align\": \"left\", \"font\": {\"color\": \"#000000\"}, \"showarrow\": false, \"text\": \"Lebanon\", \"x\": -0.45, \"xanchor\": \"left\", \"xref\": \"x\", \"y\": 129, \"yref\": \"y\"}, {\"align\": \"left\", \"font\": {\"color\": \"#000000\"}, \"showarrow\": false, \"text\": \"11716829\", \"x\": 0.55, \"xanchor\": \"left\", \"xref\": \"x\", \"y\": 129, \"yref\": \"y\"}, {\"align\": \"left\", \"font\": {\"color\": \"#000000\"}, \"showarrow\": false, \"text\": \"49.82\", \"x\": 1.55, \"xanchor\": \"left\", \"xref\": \"x\", \"y\": 129, \"yref\": \"y\"}, {\"align\": \"left\", \"font\": {\"color\": \"#000000\"}, \"showarrow\": false, \"text\": \"16.89\", \"x\": 2.55, \"xanchor\": \"left\", \"xref\": \"x\", \"y\": 129, \"yref\": \"y\"}, {\"align\": \"left\", \"font\": {\"color\": \"#000000\"}, \"showarrow\": false, \"text\": \"Liberia\", \"x\": -0.45, \"xanchor\": \"left\", \"xref\": \"x\", \"y\": 130, \"yref\": \"y\"}, {\"align\": \"left\", \"font\": {\"color\": \"#000000\"}, \"showarrow\": false, \"text\": \"400214\", \"x\": 0.55, \"xanchor\": \"left\", \"xref\": \"x\", \"y\": 130, \"yref\": \"y\"}, {\"align\": \"left\", \"font\": {\"color\": \"#000000\"}, \"showarrow\": false, \"text\": \"10.22\", \"x\": 1.55, \"xanchor\": \"left\", \"xref\": \"x\", \"y\": 130, \"yref\": \"y\"}, {\"align\": \"left\", \"font\": {\"color\": \"#000000\"}, \"showarrow\": false, \"text\": \"8.1\", \"x\": 2.55, \"xanchor\": \"left\", \"xref\": \"x\", \"y\": 130, \"yref\": \"y\"}, {\"align\": \"left\", \"font\": {\"color\": \"#000000\"}, \"showarrow\": false, \"text\": \"Libya\", \"x\": -0.45, \"xanchor\": \"left\", \"xref\": \"x\", \"y\": 131, \"yref\": \"y\"}, {\"align\": \"left\", \"font\": {\"color\": \"#000000\"}, \"showarrow\": false, \"text\": \"60422\", \"x\": 0.55, \"xanchor\": \"left\", \"xref\": \"x\", \"y\": 131, \"yref\": \"y\"}, {\"align\": \"left\", \"font\": {\"color\": \"#000000\"}, \"showarrow\": false, \"text\": \"33.05\", \"x\": 1.55, \"xanchor\": \"left\", \"xref\": \"x\", \"y\": 131, \"yref\": \"y\"}, {\"align\": \"left\", \"font\": {\"color\": \"#000000\"}, \"showarrow\": false, \"text\": \"4.78\", \"x\": 2.55, \"xanchor\": \"left\", \"xref\": \"x\", \"y\": 131, \"yref\": \"y\"}, {\"align\": \"left\", \"font\": {\"color\": \"#000000\"}, \"showarrow\": false, \"text\": \"St. Lucia\", \"x\": -0.45, \"xanchor\": \"left\", \"xref\": \"x\", \"y\": 132, \"yref\": \"y\"}, {\"align\": \"left\", \"font\": {\"color\": \"#000000\"}, \"showarrow\": false, \"text\": \"436131\", \"x\": 0.55, \"xanchor\": \"left\", \"xref\": \"x\", \"y\": 132, \"yref\": \"y\"}, {\"align\": \"left\", \"font\": {\"color\": \"#000000\"}, \"showarrow\": false, \"text\": \"13.74\", \"x\": 1.55, \"xanchor\": \"left\", \"xref\": \"x\", \"y\": 132, \"yref\": \"y\"}, {\"align\": \"left\", \"font\": {\"color\": \"#000000\"}, \"showarrow\": false, \"text\": \"6.48\", \"x\": 2.55, \"xanchor\": \"left\", \"xref\": \"x\", \"y\": 132, \"yref\": \"y\"}, {\"align\": \"left\", \"font\": {\"color\": \"#000000\"}, \"showarrow\": false, \"text\": \"Latin America & Caribbean\", \"x\": -0.45, \"xanchor\": \"left\", \"xref\": \"x\", \"y\": 133, \"yref\": \"y\"}, {\"align\": \"left\", \"font\": {\"color\": \"#000000\"}, \"showarrow\": false, \"text\": \"3177388\", \"x\": 0.55, \"xanchor\": \"left\", \"xref\": \"x\", \"y\": 133, \"yref\": \"y\"}, {\"align\": \"left\", \"font\": {\"color\": \"#000000\"}, \"showarrow\": false, \"text\": \"40.99\", \"x\": 1.55, \"xanchor\": \"left\", \"xref\": \"x\", \"y\": 133, \"yref\": \"y\"}, {\"align\": \"left\", \"font\": {\"color\": \"#000000\"}, \"showarrow\": false, \"text\": \"12.16\", \"x\": 2.55, \"xanchor\": \"left\", \"xref\": \"x\", \"y\": 133, \"yref\": \"y\"}, {\"align\": \"left\", \"font\": {\"color\": \"#000000\"}, \"showarrow\": false, \"text\": \"Least developed countries: UN classification\", \"x\": -0.45, \"xanchor\": \"left\", \"xref\": \"x\", \"y\": 134, \"yref\": \"y\"}, {\"align\": \"left\", \"font\": {\"color\": \"#000000\"}, \"showarrow\": false, \"text\": \"1240827\", \"x\": 0.55, \"xanchor\": \"left\", \"xref\": \"x\", \"y\": 134, \"yref\": \"y\"}, {\"align\": \"left\", \"font\": {\"color\": \"#000000\"}, \"showarrow\": false, \"text\": \"15.43\", \"x\": 1.55, \"xanchor\": \"left\", \"xref\": \"x\", \"y\": 134, \"yref\": \"y\"}, {\"align\": \"left\", \"font\": {\"color\": \"#000000\"}, \"showarrow\": false, \"text\": \"6.86\", \"x\": 2.55, \"xanchor\": \"left\", \"xref\": \"x\", \"y\": 134, \"yref\": \"y\"}, {\"align\": \"left\", \"font\": {\"color\": \"#000000\"}, \"showarrow\": false, \"text\": \"Low income\", \"x\": -0.45, \"xanchor\": \"left\", \"xref\": \"x\", \"y\": 135, \"yref\": \"y\"}, {\"align\": \"left\", \"font\": {\"color\": \"#000000\"}, \"showarrow\": false, \"text\": \"201234\", \"x\": 0.55, \"xanchor\": \"left\", \"xref\": \"x\", \"y\": 135, \"yref\": \"y\"}, {\"align\": \"left\", \"font\": {\"color\": \"#000000\"}, \"showarrow\": false, \"text\": \"40.95\", \"x\": 1.55, \"xanchor\": \"left\", \"xref\": \"x\", \"y\": 135, \"yref\": \"y\"}, {\"align\": \"left\", \"font\": {\"color\": \"#000000\"}, \"showarrow\": false, \"text\": \"7.7\", \"x\": 2.55, \"xanchor\": \"left\", \"xref\": \"x\", \"y\": 135, \"yref\": \"y\"}, {\"align\": \"left\", \"font\": {\"color\": \"#000000\"}, \"showarrow\": false, \"text\": \"Liechtenstein\", \"x\": -0.45, \"xanchor\": \"left\", \"xref\": \"x\", \"y\": 136, \"yref\": \"y\"}, {\"align\": \"left\", \"font\": {\"color\": \"#000000\"}, \"showarrow\": false, \"text\": \"107449525\", \"x\": 0.55, \"xanchor\": \"left\", \"xref\": \"x\", \"y\": 136, \"yref\": \"y\"}, {\"align\": \"left\", \"font\": {\"color\": \"#000000\"}, \"showarrow\": false, \"text\": \"20.69\", \"x\": 1.55, \"xanchor\": \"left\", \"xref\": \"x\", \"y\": 136, \"yref\": \"y\"}, {\"align\": \"left\", \"font\": {\"color\": \"#000000\"}, \"showarrow\": false, \"text\": \"4.74\", \"x\": 2.55, \"xanchor\": \"left\", \"xref\": \"x\", \"y\": 136, \"yref\": \"y\"}, {\"align\": \"left\", \"font\": {\"color\": \"#000000\"}, \"showarrow\": false, \"text\": \"Sri Lanka\", \"x\": -0.45, \"xanchor\": \"left\", \"xref\": \"x\", \"y\": 137, \"yref\": \"y\"}, {\"align\": \"left\", \"font\": {\"color\": \"#000000\"}, \"showarrow\": false, \"text\": \"108004\", \"x\": 0.55, \"xanchor\": \"left\", \"xref\": \"x\", \"y\": 137, \"yref\": \"y\"}, {\"align\": \"left\", \"font\": {\"color\": \"#000000\"}, \"showarrow\": false, \"text\": \"24.68\", \"x\": 1.55, \"xanchor\": \"left\", \"xref\": \"x\", \"y\": 137, \"yref\": \"y\"}, {\"align\": \"left\", \"font\": {\"color\": \"#000000\"}, \"showarrow\": false, \"text\": \"4.75\", \"x\": 2.55, \"xanchor\": \"left\", \"xref\": \"x\", \"y\": 137, \"yref\": \"y\"}, {\"align\": \"left\", \"font\": {\"color\": \"#000000\"}, \"showarrow\": false, \"text\": \"Lower middle income\", \"x\": -0.45, \"xanchor\": \"left\", \"xref\": \"x\", \"y\": 138, \"yref\": \"y\"}, {\"align\": \"left\", \"font\": {\"color\": \"#000000\"}, \"showarrow\": false, \"text\": \"4466706\", \"x\": 0.55, \"xanchor\": \"left\", \"xref\": \"x\", \"y\": 138, \"yref\": \"y\"}, {\"align\": \"left\", \"font\": {\"color\": \"#000000\"}, \"showarrow\": false, \"text\": \"15.7\", \"x\": 1.55, \"xanchor\": \"left\", \"xref\": \"x\", \"y\": 138, \"yref\": \"y\"}, {\"align\": \"left\", \"font\": {\"color\": \"#000000\"}, \"showarrow\": false, \"text\": \"12.64\", \"x\": 2.55, \"xanchor\": \"left\", \"xref\": \"x\", \"y\": 138, \"yref\": \"y\"}, {\"align\": \"left\", \"font\": {\"color\": \"#000000\"}, \"showarrow\": false, \"text\": \"Low & middle income\", \"x\": -0.45, \"xanchor\": \"left\", \"xref\": \"x\", \"y\": 139, \"yref\": \"y\"}, {\"align\": \"left\", \"font\": {\"color\": \"#000000\"}, \"showarrow\": false, \"text\": \"32543\", \"x\": 0.55, \"xanchor\": \"left\", \"xref\": \"x\", \"y\": 139, \"yref\": \"y\"}, {\"align\": \"left\", \"font\": {\"color\": \"#000000\"}, \"showarrow\": false, \"text\": \"9.19\", \"x\": 1.55, \"xanchor\": \"left\", \"xref\": \"x\", \"y\": 139, \"yref\": \"y\"}, {\"align\": \"left\", \"font\": {\"color\": \"#000000\"}, \"showarrow\": false, \"text\": \"12.91\", \"x\": 2.55, \"xanchor\": \"left\", \"xref\": \"x\", \"y\": 139, \"yref\": \"y\"}, {\"align\": \"left\", \"font\": {\"color\": \"#000000\"}, \"showarrow\": false, \"text\": \"Lesotho\", \"x\": -0.45, \"xanchor\": \"left\", \"xref\": \"x\", \"y\": 140, \"yref\": \"y\"}, {\"align\": \"left\", \"font\": {\"color\": \"#000000\"}, \"showarrow\": false, \"text\": \"2832224\", \"x\": 0.55, \"xanchor\": \"left\", \"xref\": \"x\", \"y\": 140, \"yref\": \"y\"}, {\"align\": \"left\", \"font\": {\"color\": \"#000000\"}, \"showarrow\": false, \"text\": \"21.59\", \"x\": 1.55, \"xanchor\": \"left\", \"xref\": \"x\", \"y\": 140, \"yref\": \"y\"}, {\"align\": \"left\", \"font\": {\"color\": \"#000000\"}, \"showarrow\": false, \"text\": \"6.95\", \"x\": 2.55, \"xanchor\": \"left\", \"xref\": \"x\", \"y\": 140, \"yref\": \"y\"}, {\"align\": \"left\", \"font\": {\"color\": \"#000000\"}, \"showarrow\": false, \"text\": \"Late-demographic dividend\", \"x\": -0.45, \"xanchor\": \"left\", \"xref\": \"x\", \"y\": 141, \"yref\": \"y\"}, {\"align\": \"left\", \"font\": {\"color\": \"#000000\"}, \"showarrow\": false, \"text\": \"9439\", \"x\": 0.55, \"xanchor\": \"left\", \"xref\": \"x\", \"y\": 141, \"yref\": \"y\"}, {\"align\": \"left\", \"font\": {\"color\": \"#000000\"}, \"showarrow\": false, \"text\": \"17.59\", \"x\": 1.55, \"xanchor\": \"left\", \"xref\": \"x\", \"y\": 141, \"yref\": \"y\"}, {\"align\": \"left\", \"font\": {\"color\": \"#000000\"}, \"showarrow\": false, \"text\": \"7.1\", \"x\": 2.55, \"xanchor\": \"left\", \"xref\": \"x\", \"y\": 141, \"yref\": \"y\"}, {\"align\": \"left\", \"font\": {\"color\": \"#000000\"}, \"showarrow\": false, \"text\": \"Lithuania\", \"x\": -0.45, \"xanchor\": \"left\", \"xref\": \"x\", \"y\": 142, \"yref\": \"y\"}, {\"align\": \"left\", \"font\": {\"color\": \"#000000\"}, \"showarrow\": false, \"text\": \"33241259\", \"x\": 0.55, \"xanchor\": \"left\", \"xref\": \"x\", \"y\": 142, \"yref\": \"y\"}, {\"align\": \"left\", \"font\": {\"color\": \"#000000\"}, \"showarrow\": false, \"text\": \"21.98\", \"x\": 1.55, \"xanchor\": \"left\", \"xref\": \"x\", \"y\": 142, \"yref\": \"y\"}, {\"align\": \"left\", \"font\": {\"color\": \"#000000\"}, \"showarrow\": false, \"text\": \"5.58\", \"x\": 2.55, \"xanchor\": \"left\", \"xref\": \"x\", \"y\": 142, \"yref\": \"y\"}, {\"align\": \"left\", \"font\": {\"color\": \"#000000\"}, \"showarrow\": false, \"text\": \"Luxembourg\", \"x\": -0.45, \"xanchor\": \"left\", \"xref\": \"x\", \"y\": 143, \"yref\": \"y\"}, {\"align\": \"left\", \"font\": {\"color\": \"#000000\"}, \"showarrow\": false, \"text\": \"19686505\", \"x\": 0.55, \"xanchor\": \"left\", \"xref\": \"x\", \"y\": 143, \"yref\": \"y\"}, {\"align\": \"left\", \"font\": {\"color\": \"#000000\"}, \"showarrow\": false, \"text\": \"35.18\", \"x\": 1.55, \"xanchor\": \"left\", \"xref\": \"x\", \"y\": 143, \"yref\": \"y\"}, {\"align\": \"left\", \"font\": {\"color\": \"#000000\"}, \"showarrow\": false, \"text\": \"21.35\", \"x\": 2.55, \"xanchor\": \"left\", \"xref\": \"x\", \"y\": 143, \"yref\": \"y\"}, {\"align\": \"left\", \"font\": {\"color\": \"#000000\"}, \"showarrow\": false, \"text\": \"Latvia\", \"x\": -0.45, \"xanchor\": \"left\", \"xref\": \"x\", \"y\": 144, \"yref\": \"y\"}, {\"align\": \"left\", \"font\": {\"color\": \"#000000\"}, \"showarrow\": false, \"text\": \"2044147\", \"x\": 0.55, \"xanchor\": \"left\", \"xref\": \"x\", \"y\": 144, \"yref\": \"y\"}, {\"align\": \"left\", \"font\": {\"color\": \"#000000\"}, \"showarrow\": false, \"text\": \"24.32\", \"x\": 1.55, \"xanchor\": \"left\", \"xref\": \"x\", \"y\": 144, \"yref\": \"y\"}, {\"align\": \"left\", \"font\": {\"color\": \"#000000\"}, \"showarrow\": false, \"text\": \"18.86\", \"x\": 2.55, \"xanchor\": \"left\", \"xref\": \"x\", \"y\": 144, \"yref\": \"y\"}, {\"align\": \"left\", \"font\": {\"color\": \"#000000\"}, \"showarrow\": false, \"text\": \"Macao SAR, China\", \"x\": -0.45, \"xanchor\": \"left\", \"xref\": \"x\", \"y\": 145, \"yref\": \"y\"}, {\"align\": \"left\", \"font\": {\"color\": \"#000000\"}, \"showarrow\": false, \"text\": \"13287\", \"x\": 0.55, \"xanchor\": \"left\", \"xref\": \"x\", \"y\": 145, \"yref\": \"y\"}, {\"align\": \"left\", \"font\": {\"color\": \"#000000\"}, \"showarrow\": false, \"text\": \"24.76\", \"x\": 1.55, \"xanchor\": \"left\", \"xref\": \"x\", \"y\": 145, \"yref\": \"y\"}, {\"align\": \"left\", \"font\": {\"color\": \"#000000\"}, \"showarrow\": false, \"text\": \"6.7\", \"x\": 2.55, \"xanchor\": \"left\", \"xref\": \"x\", \"y\": 145, \"yref\": \"y\"}, {\"align\": \"left\", \"font\": {\"color\": \"#000000\"}, \"showarrow\": false, \"text\": \"St. Martin (French part)\", \"x\": -0.45, \"xanchor\": \"left\", \"xref\": \"x\", \"y\": 146, \"yref\": \"y\"}, {\"align\": \"left\", \"font\": {\"color\": \"#000000\"}, \"showarrow\": false, \"text\": \"28287147\", \"x\": 0.55, \"xanchor\": \"left\", \"xref\": \"x\", \"y\": 146, \"yref\": \"y\"}, {\"align\": \"left\", \"font\": {\"color\": \"#000000\"}, \"showarrow\": false, \"text\": \"30.98\", \"x\": 1.55, \"xanchor\": \"left\", \"xref\": \"x\", \"y\": 146, \"yref\": \"y\"}, {\"align\": \"left\", \"font\": {\"color\": \"#000000\"}, \"showarrow\": false, \"text\": \"9.31\", \"x\": 2.55, \"xanchor\": \"left\", \"xref\": \"x\", \"y\": 146, \"yref\": \"y\"}, {\"align\": \"left\", \"font\": {\"color\": \"#000000\"}, \"showarrow\": false, \"text\": \"Morocco\", \"x\": -0.45, \"xanchor\": \"left\", \"xref\": \"x\", \"y\": 147, \"yref\": \"y\"}, {\"align\": \"left\", \"font\": {\"color\": \"#000000\"}, \"showarrow\": false, \"text\": \"16491461\", \"x\": 0.55, \"xanchor\": \"left\", \"xref\": \"x\", \"y\": 147, \"yref\": \"y\"}, {\"align\": \"left\", \"font\": {\"color\": \"#000000\"}, \"showarrow\": false, \"text\": \"10.9\", \"x\": 1.55, \"xanchor\": \"left\", \"xref\": \"x\", \"y\": 147, \"yref\": \"y\"}, {\"align\": \"left\", \"font\": {\"color\": \"#000000\"}, \"showarrow\": false, \"text\": \"8.68\", \"x\": 2.55, \"xanchor\": \"left\", \"xref\": \"x\", \"y\": 147, \"yref\": \"y\"}, {\"align\": \"left\", \"font\": {\"color\": \"#000000\"}, \"showarrow\": false, \"text\": \"Monaco\", \"x\": -0.45, \"xanchor\": \"left\", \"xref\": \"x\", \"y\": 148, \"yref\": \"y\"}, {\"align\": \"left\", \"font\": {\"color\": \"#000000\"}, \"showarrow\": false, \"text\": \"221736\", \"x\": 0.55, \"xanchor\": \"left\", \"xref\": \"x\", \"y\": 148, \"yref\": \"y\"}, {\"align\": \"left\", \"font\": {\"color\": \"#000000\"}, \"showarrow\": false, \"text\": \"14.78\", \"x\": 1.55, \"xanchor\": \"left\", \"xref\": \"x\", \"y\": 148, \"yref\": \"y\"}, {\"align\": \"left\", \"font\": {\"color\": \"#000000\"}, \"showarrow\": false, \"text\": \"6.45\", \"x\": 2.55, \"xanchor\": \"left\", \"xref\": \"x\", \"y\": 148, \"yref\": \"y\"}, {\"align\": \"left\", \"font\": {\"color\": \"#000000\"}, \"showarrow\": false, \"text\": \"Moldova\", \"x\": -0.45, \"xanchor\": \"left\", \"xref\": \"x\", \"y\": 149, \"yref\": \"y\"}, {\"align\": \"left\", \"font\": {\"color\": \"#000000\"}, \"showarrow\": false, \"text\": \"219246\", \"x\": 0.55, \"xanchor\": \"left\", \"xref\": \"x\", \"y\": 149, \"yref\": \"y\"}, {\"align\": \"left\", \"font\": {\"color\": \"#000000\"}, \"showarrow\": false, \"text\": \"18.11\", \"x\": 1.55, \"xanchor\": \"left\", \"xref\": \"x\", \"y\": 149, \"yref\": \"y\"}, {\"align\": \"left\", \"font\": {\"color\": \"#000000\"}, \"showarrow\": false, \"text\": \"5.69\", \"x\": 2.55, \"xanchor\": \"left\", \"xref\": \"x\", \"y\": 149, \"yref\": \"y\"}, {\"align\": \"left\", \"font\": {\"color\": \"#000000\"}, \"showarrow\": false, \"text\": \"Madagascar\", \"x\": -0.45, \"xanchor\": \"left\", \"xref\": \"x\", \"y\": 150, \"yref\": \"y\"}, {\"align\": \"left\", \"font\": {\"color\": \"#000000\"}, \"showarrow\": false, \"text\": \"4076140\", \"x\": 0.55, \"xanchor\": \"left\", \"xref\": \"x\", \"y\": 150, \"yref\": \"y\"}, {\"align\": \"left\", \"font\": {\"color\": \"#000000\"}, \"showarrow\": false, \"text\": \"13.76\", \"x\": 1.55, \"xanchor\": \"left\", \"xref\": \"x\", \"y\": 150, \"yref\": \"y\"}, {\"align\": \"left\", \"font\": {\"color\": \"#000000\"}, \"showarrow\": false, \"text\": \"7.53\", \"x\": 2.55, \"xanchor\": \"left\", \"xref\": \"x\", \"y\": 150, \"yref\": \"y\"}, {\"align\": \"left\", \"font\": {\"color\": \"#000000\"}, \"showarrow\": false, \"text\": \"Maldives\", \"x\": -0.45, \"xanchor\": \"left\", \"xref\": \"x\", \"y\": 151, \"yref\": \"y\"}, {\"align\": \"left\", \"font\": {\"color\": \"#000000\"}, \"showarrow\": false, \"text\": \"5570129\", \"x\": 0.55, \"xanchor\": \"left\", \"xref\": \"x\", \"y\": 151, \"yref\": \"y\"}, {\"align\": \"left\", \"font\": {\"color\": \"#000000\"}, \"showarrow\": false, \"text\": \"24.51\", \"x\": 1.55, \"xanchor\": \"left\", \"xref\": \"x\", \"y\": 151, \"yref\": \"y\"}, {\"align\": \"left\", \"font\": {\"color\": \"#000000\"}, \"showarrow\": false, \"text\": \"4.45\", \"x\": 2.55, \"xanchor\": \"left\", \"xref\": \"x\", \"y\": 151, \"yref\": \"y\"}, {\"align\": \"left\", \"font\": {\"color\": \"#000000\"}, \"showarrow\": false, \"text\": \"Middle East & North Africa\", \"x\": -0.45, \"xanchor\": \"left\", \"xref\": \"x\", \"y\": 152, \"yref\": \"y\"}, {\"align\": \"left\", \"font\": {\"color\": \"#000000\"}, \"showarrow\": false, \"text\": \"12525094\", \"x\": 0.55, \"xanchor\": \"left\", \"xref\": \"x\", \"y\": 152, \"yref\": \"y\"}, {\"align\": \"left\", \"font\": {\"color\": \"#000000\"}, \"showarrow\": false, \"text\": \"50.73\", \"x\": 1.55, \"xanchor\": \"left\", \"xref\": \"x\", \"y\": 152, \"yref\": \"y\"}, {\"align\": \"left\", \"font\": {\"color\": \"#000000\"}, \"showarrow\": false, \"text\": \"20.91\", \"x\": 2.55, \"xanchor\": \"left\", \"xref\": \"x\", \"y\": 152, \"yref\": \"y\"}, {\"align\": \"left\", \"font\": {\"color\": \"#000000\"}, \"showarrow\": false, \"text\": \"Mexico\", \"x\": -0.45, \"xanchor\": \"left\", \"xref\": \"x\", \"y\": 153, \"yref\": \"y\"}, {\"align\": \"left\", \"font\": {\"color\": \"#000000\"}, \"showarrow\": false, \"text\": \"131859731\", \"x\": 0.55, \"xanchor\": \"left\", \"xref\": \"x\", \"y\": 153, \"yref\": \"y\"}, {\"align\": \"left\", \"font\": {\"color\": \"#000000\"}, \"showarrow\": false, \"text\": \"40.43\", \"x\": 1.55, \"xanchor\": \"left\", \"xref\": \"x\", \"y\": 153, \"yref\": \"y\"}, {\"align\": \"left\", \"font\": {\"color\": \"#000000\"}, \"showarrow\": false, \"text\": \"16.94\", \"x\": 2.55, \"xanchor\": \"left\", \"xref\": \"x\", \"y\": 153, \"yref\": \"y\"}, {\"align\": \"left\", \"font\": {\"color\": \"#000000\"}, \"showarrow\": false, \"text\": \"Marshall Islands\", \"x\": -0.45, \"xanchor\": \"left\", \"xref\": \"x\", \"y\": 154, \"yref\": \"y\"}, {\"align\": \"left\", \"font\": {\"color\": \"#000000\"}, \"showarrow\": false, \"text\": \"82459\", \"x\": 0.55, \"xanchor\": \"left\", \"xref\": \"x\", \"y\": 154, \"yref\": \"y\"}, {\"align\": \"left\", \"font\": {\"color\": \"#000000\"}, \"showarrow\": false, \"text\": \"19.43\", \"x\": 1.55, \"xanchor\": \"left\", \"xref\": \"x\", \"y\": 154, \"yref\": \"y\"}, {\"align\": \"left\", \"font\": {\"color\": \"#000000\"}, \"showarrow\": false, \"text\": \"2.29\", \"x\": 2.55, \"xanchor\": \"left\", \"xref\": \"x\", \"y\": 154, \"yref\": \"y\"}, {\"align\": \"left\", \"font\": {\"color\": \"#000000\"}, \"showarrow\": false, \"text\": \"Middle income\", \"x\": -0.45, \"xanchor\": \"left\", \"xref\": \"x\", \"y\": 155, \"yref\": \"y\"}, {\"align\": \"left\", \"font\": {\"color\": \"#000000\"}, \"showarrow\": false, \"text\": \"4610820\", \"x\": 0.55, \"xanchor\": \"left\", \"xref\": \"x\", \"y\": 155, \"yref\": \"y\"}, {\"align\": \"left\", \"font\": {\"color\": \"#000000\"}, \"showarrow\": false, \"text\": \"11.46\", \"x\": 1.55, \"xanchor\": \"left\", \"xref\": \"x\", \"y\": 155, \"yref\": \"y\"}, {\"align\": \"left\", \"font\": {\"color\": \"#000000\"}, \"showarrow\": false, \"text\": \"9.4\", \"x\": 2.55, \"xanchor\": \"left\", \"xref\": \"x\", \"y\": 155, \"yref\": \"y\"}, {\"align\": \"left\", \"font\": {\"color\": \"#000000\"}, \"showarrow\": false, \"text\": \"Macedonia, FYR\", \"x\": -0.45, \"xanchor\": \"left\", \"xref\": \"x\", \"y\": 156, \"yref\": \"y\"}, {\"align\": \"left\", \"font\": {\"color\": \"#000000\"}, \"showarrow\": false, \"text\": \"3102229\", \"x\": 0.55, \"xanchor\": \"left\", \"xref\": \"x\", \"y\": 156, \"yref\": \"y\"}, {\"align\": \"left\", \"font\": {\"color\": \"#000000\"}, \"showarrow\": false, \"text\": \"36.24\", \"x\": 1.55, \"xanchor\": \"left\", \"xref\": \"x\", \"y\": 156, \"yref\": \"y\"}, {\"align\": \"left\", \"font\": {\"color\": \"#000000\"}, \"showarrow\": false, \"text\": \"3.81\", \"x\": 2.55, \"xanchor\": \"left\", \"xref\": \"x\", \"y\": 156, \"yref\": \"y\"}, {\"align\": \"left\", \"font\": {\"color\": \"#000000\"}, \"showarrow\": false, \"text\": \"Mali\", \"x\": -0.45, \"xanchor\": \"left\", \"xref\": \"x\", \"y\": 157, \"yref\": \"y\"}, {\"align\": \"left\", \"font\": {\"color\": \"#000000\"}, \"showarrow\": false, \"text\": \"165803560\", \"x\": 0.55, \"xanchor\": \"left\", \"xref\": \"x\", \"y\": 157, \"yref\": \"y\"}, {\"align\": \"left\", \"font\": {\"color\": \"#000000\"}, \"showarrow\": false, \"text\": \"29.74\", \"x\": 1.55, \"xanchor\": \"left\", \"xref\": \"x\", \"y\": 157, \"yref\": \"y\"}, {\"align\": \"left\", \"font\": {\"color\": \"#000000\"}, \"showarrow\": false, \"text\": \"8.23\", \"x\": 2.55, \"xanchor\": \"left\", \"xref\": \"x\", \"y\": 157, \"yref\": \"y\"}, {\"align\": \"left\", \"font\": {\"color\": \"#000000\"}, \"showarrow\": false, \"text\": \"Malta\", \"x\": -0.45, \"xanchor\": \"left\", \"xref\": \"x\", \"y\": 158, \"yref\": \"y\"}, {\"align\": \"left\", \"font\": {\"color\": \"#000000\"}, \"showarrow\": false, \"text\": \"20579\", \"x\": 0.55, \"xanchor\": \"left\", \"xref\": \"x\", \"y\": 158, \"yref\": \"y\"}, {\"align\": \"left\", \"font\": {\"color\": \"#000000\"}, \"showarrow\": false, \"text\": \"18.03\", \"x\": 1.55, \"xanchor\": \"left\", \"xref\": \"x\", \"y\": 158, \"yref\": \"y\"}, {\"align\": \"left\", \"font\": {\"color\": \"#000000\"}, \"showarrow\": false, \"text\": \"6.8\", \"x\": 2.55, \"xanchor\": \"left\", \"xref\": \"x\", \"y\": 158, \"yref\": \"y\"}, {\"align\": \"left\", \"font\": {\"color\": \"#000000\"}, \"showarrow\": false, \"text\": \"Myanmar\", \"x\": -0.45, \"xanchor\": \"left\", \"xref\": \"x\", \"y\": 159, \"yref\": \"y\"}, {\"align\": \"left\", \"font\": {\"color\": \"#000000\"}, \"showarrow\": false, \"text\": \"3191319\", \"x\": 0.55, \"xanchor\": \"left\", \"xref\": \"x\", \"y\": 159, \"yref\": \"y\"}, {\"align\": \"left\", \"font\": {\"color\": \"#000000\"}, \"showarrow\": false, \"text\": \"21.74\", \"x\": 1.55, \"xanchor\": \"left\", \"xref\": \"x\", \"y\": 159, \"yref\": \"y\"}, {\"align\": \"left\", \"font\": {\"color\": \"#000000\"}, \"showarrow\": false, \"text\": \"5.36\", \"x\": 2.55, \"xanchor\": \"left\", \"xref\": \"x\", \"y\": 159, \"yref\": \"y\"}, {\"align\": \"left\", \"font\": {\"color\": \"#000000\"}, \"showarrow\": false, \"text\": \"Middle East & North Africa (excluding high income)\", \"x\": -0.45, \"xanchor\": \"left\", \"xref\": \"x\", \"y\": 160, \"yref\": \"y\"}, {\"align\": \"left\", \"font\": {\"color\": \"#000000\"}, \"showarrow\": false, \"text\": \"5670544\", \"x\": 0.55, \"xanchor\": \"left\", \"xref\": \"x\", \"y\": 160, \"yref\": \"y\"}, {\"align\": \"left\", \"font\": {\"color\": \"#000000\"}, \"showarrow\": false, \"text\": \"29.36\", \"x\": 1.55, \"xanchor\": \"left\", \"xref\": \"x\", \"y\": 160, \"yref\": \"y\"}, {\"align\": \"left\", \"font\": {\"color\": \"#000000\"}, \"showarrow\": false, \"text\": \"7.25\", \"x\": 2.55, \"xanchor\": \"left\", \"xref\": \"x\", \"y\": 160, \"yref\": \"y\"}, {\"align\": \"left\", \"font\": {\"color\": \"#000000\"}, \"showarrow\": false, \"text\": \"Montenegro\", \"x\": -0.45, \"xanchor\": \"left\", \"xref\": \"x\", \"y\": 161, \"yref\": \"y\"}, {\"align\": \"left\", \"font\": {\"color\": \"#000000\"}, \"showarrow\": false, \"text\": \"6506464\", \"x\": 0.55, \"xanchor\": \"left\", \"xref\": \"x\", \"y\": 161, \"yref\": \"y\"}, {\"align\": \"left\", \"font\": {\"color\": \"#000000\"}, \"showarrow\": false, \"text\": \"29.1\", \"x\": 1.55, \"xanchor\": \"left\", \"xref\": \"x\", \"y\": 161, \"yref\": \"y\"}, {\"align\": \"left\", \"font\": {\"color\": \"#000000\"}, \"showarrow\": false, \"text\": \"4.49\", \"x\": 2.55, \"xanchor\": \"left\", \"xref\": \"x\", \"y\": 161, \"yref\": \"y\"}, {\"align\": \"left\", \"font\": {\"color\": \"#000000\"}, \"showarrow\": false, \"text\": \"Mongolia\", \"x\": -0.45, \"xanchor\": \"left\", \"xref\": \"x\", \"y\": 162, \"yref\": \"y\"}, {\"align\": \"left\", \"font\": {\"color\": \"#000000\"}, \"showarrow\": false, \"text\": \"28302603\", \"x\": 0.55, \"xanchor\": \"left\", \"xref\": \"x\", \"y\": 162, \"yref\": \"y\"}, {\"align\": \"left\", \"font\": {\"color\": \"#000000\"}, \"showarrow\": false, \"text\": \"20.48\", \"x\": 1.55, \"xanchor\": \"left\", \"xref\": \"x\", \"y\": 162, \"yref\": \"y\"}, {\"align\": \"left\", \"font\": {\"color\": \"#000000\"}, \"showarrow\": false, \"text\": \"6.23\", \"x\": 2.55, \"xanchor\": \"left\", \"xref\": \"x\", \"y\": 162, \"yref\": \"y\"}, {\"align\": \"left\", \"font\": {\"color\": \"#000000\"}, \"showarrow\": false, \"text\": \"Northern Mariana Islands\", \"x\": -0.45, \"xanchor\": \"left\", \"xref\": \"x\", \"y\": 163, \"yref\": \"y\"}, {\"align\": \"left\", \"font\": {\"color\": \"#000000\"}, \"showarrow\": false, \"text\": \"89468677\", \"x\": 0.55, \"xanchor\": \"left\", \"xref\": \"x\", \"y\": 163, \"yref\": \"y\"}, {\"align\": \"left\", \"font\": {\"color\": \"#000000\"}, \"showarrow\": false, \"text\": \"24.89\", \"x\": 1.55, \"xanchor\": \"left\", \"xref\": \"x\", \"y\": 163, \"yref\": \"y\"}, {\"align\": \"left\", \"font\": {\"color\": \"#000000\"}, \"showarrow\": false, \"text\": \"5.41\", \"x\": 2.55, \"xanchor\": \"left\", \"xref\": \"x\", \"y\": 163, \"yref\": \"y\"}, {\"align\": \"left\", \"font\": {\"color\": \"#000000\"}, \"showarrow\": false, \"text\": \"Mozambique\", \"x\": -0.45, \"xanchor\": \"left\", \"xref\": \"x\", \"y\": 164, \"yref\": \"y\"}, {\"align\": \"left\", \"font\": {\"color\": \"#000000\"}, \"showarrow\": false, \"text\": \"38536869\", \"x\": 0.55, \"xanchor\": \"left\", \"xref\": \"x\", \"y\": 164, \"yref\": \"y\"}, {\"align\": \"left\", \"font\": {\"color\": \"#000000\"}, \"showarrow\": false, \"text\": \"9.85\", \"x\": 1.55, \"xanchor\": \"left\", \"xref\": \"x\", \"y\": 164, \"yref\": \"y\"}, {\"align\": \"left\", \"font\": {\"color\": \"#000000\"}, \"showarrow\": false, \"text\": \"9.89\", \"x\": 2.55, \"xanchor\": \"left\", \"xref\": \"x\", \"y\": 164, \"yref\": \"y\"}, {\"align\": \"left\", \"font\": {\"color\": \"#000000\"}, \"showarrow\": false, \"text\": \"Mauritania\", \"x\": -0.45, \"xanchor\": \"left\", \"xref\": \"x\", \"y\": 165, \"yref\": \"y\"}, {\"align\": \"left\", \"font\": {\"color\": \"#000000\"}, \"showarrow\": false, \"text\": \"10605870\", \"x\": 0.55, \"xanchor\": \"left\", \"xref\": \"x\", \"y\": 165, \"yref\": \"y\"}, {\"align\": \"left\", \"font\": {\"color\": \"#000000\"}, \"showarrow\": false, \"text\": \"10.72\", \"x\": 1.55, \"xanchor\": \"left\", \"xref\": \"x\", \"y\": 165, \"yref\": \"y\"}, {\"align\": \"left\", \"font\": {\"color\": \"#000000\"}, \"showarrow\": false, \"text\": \"10.5\", \"x\": 2.55, \"xanchor\": \"left\", \"xref\": \"x\", \"y\": 165, \"yref\": \"y\"}, {\"align\": \"left\", \"font\": {\"color\": \"#000000\"}, \"showarrow\": false, \"text\": \"Mauritius\", \"x\": -0.45, \"xanchor\": \"left\", \"xref\": \"x\", \"y\": 166, \"yref\": \"y\"}, {\"align\": \"left\", \"font\": {\"color\": \"#000000\"}, \"showarrow\": false, \"text\": \"3927188\", \"x\": 0.55, \"xanchor\": \"left\", \"xref\": \"x\", \"y\": 166, \"yref\": \"y\"}, {\"align\": \"left\", \"font\": {\"color\": \"#000000\"}, \"showarrow\": false, \"text\": \"12.77\", \"x\": 1.55, \"xanchor\": \"left\", \"xref\": \"x\", \"y\": 166, \"yref\": \"y\"}, {\"align\": \"left\", \"font\": {\"color\": \"#000000\"}, \"showarrow\": false, \"text\": \"7.65\", \"x\": 2.55, \"xanchor\": \"left\", \"xref\": \"x\", \"y\": 166, \"yref\": \"y\"}, {\"align\": \"left\", \"font\": {\"color\": \"#000000\"}, \"showarrow\": false, \"text\": \"Malawi\", \"x\": -0.45, \"xanchor\": \"left\", \"xref\": \"x\", \"y\": 167, \"yref\": \"y\"}, {\"align\": \"left\", \"font\": {\"color\": \"#000000\"}, \"showarrow\": false, \"text\": \"885359\", \"x\": 0.55, \"xanchor\": \"left\", \"xref\": \"x\", \"y\": 167, \"yref\": \"y\"}, {\"align\": \"left\", \"font\": {\"color\": \"#000000\"}, \"showarrow\": false, \"text\": \"15.56\", \"x\": 1.55, \"xanchor\": \"left\", \"xref\": \"x\", \"y\": 167, \"yref\": \"y\"}, {\"align\": \"left\", \"font\": {\"color\": \"#000000\"}, \"showarrow\": false, \"text\": \"4.72\", \"x\": 2.55, \"xanchor\": \"left\", \"xref\": \"x\", \"y\": 167, \"yref\": \"y\"}, {\"align\": \"left\", \"font\": {\"color\": \"#000000\"}, \"showarrow\": false, \"text\": \"Malaysia\", \"x\": -0.45, \"xanchor\": \"left\", \"xref\": \"x\", \"y\": 168, \"yref\": \"y\"}, {\"align\": \"left\", \"font\": {\"color\": \"#000000\"}, \"showarrow\": false, \"text\": \"787584\", \"x\": 0.55, \"xanchor\": \"left\", \"xref\": \"x\", \"y\": 168, \"yref\": \"y\"}, {\"align\": \"left\", \"font\": {\"color\": \"#000000\"}, \"showarrow\": false, \"text\": \"18.9\", \"x\": 1.55, \"xanchor\": \"left\", \"xref\": \"x\", \"y\": 168, \"yref\": \"y\"}, {\"align\": \"left\", \"font\": {\"color\": \"#000000\"}, \"showarrow\": false, \"text\": \"5.49\", \"x\": 2.55, \"xanchor\": \"left\", \"xref\": \"x\", \"y\": 168, \"yref\": \"y\"}, {\"align\": \"left\", \"font\": {\"color\": \"#000000\"}, \"showarrow\": false, \"text\": \"North America\", \"x\": -0.45, \"xanchor\": \"left\", \"xref\": \"x\", \"y\": 169, \"yref\": \"y\"}, {\"align\": \"left\", \"font\": {\"color\": \"#000000\"}, \"showarrow\": false, \"text\": \"22303552\", \"x\": 0.55, \"xanchor\": \"left\", \"xref\": \"x\", \"y\": 169, \"yref\": \"y\"}, {\"align\": \"left\", \"font\": {\"color\": \"#000000\"}, \"showarrow\": false, \"text\": \"10.7\", \"x\": 1.55, \"xanchor\": \"left\", \"xref\": \"x\", \"y\": 169, \"yref\": \"y\"}, {\"align\": \"left\", \"font\": {\"color\": \"#000000\"}, \"showarrow\": false, \"text\": \"11.77\", \"x\": 2.55, \"xanchor\": \"left\", \"xref\": \"x\", \"y\": 169, \"yref\": \"y\"}, {\"align\": \"left\", \"font\": {\"color\": \"#000000\"}, \"showarrow\": false, \"text\": \"Namibia\", \"x\": -0.45, \"xanchor\": \"left\", \"xref\": \"x\", \"y\": 170, \"yref\": \"y\"}, {\"align\": \"left\", \"font\": {\"color\": \"#000000\"}, \"showarrow\": false, \"text\": \"142893540\", \"x\": 0.55, \"xanchor\": \"left\", \"xref\": \"x\", \"y\": 170, \"yref\": \"y\"}, {\"align\": \"left\", \"font\": {\"color\": \"#000000\"}, \"showarrow\": false, \"text\": \"9.95\", \"x\": 1.55, \"xanchor\": \"left\", \"xref\": \"x\", \"y\": 170, \"yref\": \"y\"}, {\"align\": \"left\", \"font\": {\"color\": \"#000000\"}, \"showarrow\": false, \"text\": \"14.65\", \"x\": 2.55, \"xanchor\": \"left\", \"xref\": \"x\", \"y\": 170, \"yref\": \"y\"}, {\"align\": \"left\", \"font\": {\"color\": \"#000000\"}, \"showarrow\": false, \"text\": \"New Caledonia\", \"x\": -0.45, \"xanchor\": \"left\", \"xref\": \"x\", \"y\": 171, \"yref\": \"y\"}, {\"align\": \"left\", \"font\": {\"color\": \"#000000\"}, \"showarrow\": false, \"text\": \"8648248\", \"x\": 0.55, \"xanchor\": \"left\", \"xref\": \"x\", \"y\": 171, \"yref\": \"y\"}, {\"align\": \"left\", \"font\": {\"color\": \"#000000\"}, \"showarrow\": false, \"text\": \"40.37\", \"x\": 1.55, \"xanchor\": \"left\", \"xref\": \"x\", \"y\": 171, \"yref\": \"y\"}, {\"align\": \"left\", \"font\": {\"color\": \"#000000\"}, \"showarrow\": false, \"text\": \"16.09\", \"x\": 2.55, \"xanchor\": \"left\", \"xref\": \"x\", \"y\": 171, \"yref\": \"y\"}, {\"align\": \"left\", \"font\": {\"color\": \"#000000\"}, \"showarrow\": false, \"text\": \"Niger\", \"x\": -0.45, \"xanchor\": \"left\", \"xref\": \"x\", \"y\": 172, \"yref\": \"y\"}, {\"align\": \"left\", \"font\": {\"color\": \"#000000\"}, \"showarrow\": false, \"text\": \"7502\", \"x\": 0.55, \"xanchor\": \"left\", \"xref\": \"x\", \"y\": 172, \"yref\": \"y\"}, {\"align\": \"left\", \"font\": {\"color\": \"#000000\"}, \"showarrow\": false, \"text\": \"12.13\", \"x\": 1.55, \"xanchor\": \"left\", \"xref\": \"x\", \"y\": 172, \"yref\": \"y\"}, {\"align\": \"left\", \"font\": {\"color\": \"#000000\"}, \"showarrow\": false, \"text\": \"6.53\", \"x\": 2.55, \"xanchor\": \"left\", \"xref\": \"x\", \"y\": 172, \"yref\": \"y\"}, {\"align\": \"left\", \"font\": {\"color\": \"#000000\"}, \"showarrow\": false, \"text\": \"Nigeria\", \"x\": -0.45, \"xanchor\": \"left\", \"xref\": \"x\", \"y\": 173, \"yref\": \"y\"}, {\"align\": \"left\", \"font\": {\"color\": \"#000000\"}, \"showarrow\": false, \"text\": \"39129\", \"x\": 0.55, \"xanchor\": \"left\", \"xref\": \"x\", \"y\": 173, \"yref\": \"y\"}, {\"align\": \"left\", \"font\": {\"color\": \"#000000\"}, \"showarrow\": false, \"text\": \"18.02\", \"x\": 1.55, \"xanchor\": \"left\", \"xref\": \"x\", \"y\": 173, \"yref\": \"y\"}, {\"align\": \"left\", \"font\": {\"color\": \"#000000\"}, \"showarrow\": false, \"text\": \"8.33\", \"x\": 2.55, \"xanchor\": \"left\", \"xref\": \"x\", \"y\": 173, \"yref\": \"y\"}, {\"align\": \"left\", \"font\": {\"color\": \"#000000\"}, \"showarrow\": false, \"text\": \"Nicaragua\", \"x\": -0.45, \"xanchor\": \"left\", \"xref\": \"x\", \"y\": 174, \"yref\": \"y\"}, {\"align\": \"left\", \"font\": {\"color\": \"#000000\"}, \"showarrow\": false, \"text\": \"168458\", \"x\": 0.55, \"xanchor\": \"left\", \"xref\": \"x\", \"y\": 174, \"yref\": \"y\"}, {\"align\": \"left\", \"font\": {\"color\": \"#000000\"}, \"showarrow\": false, \"text\": \"19.68\", \"x\": 1.55, \"xanchor\": \"left\", \"xref\": \"x\", \"y\": 174, \"yref\": \"y\"}, {\"align\": \"left\", \"font\": {\"color\": \"#000000\"}, \"showarrow\": false, \"text\": \"5.08\", \"x\": 2.55, \"xanchor\": \"left\", \"xref\": \"x\", \"y\": 174, \"yref\": \"y\"}, {\"align\": \"left\", \"font\": {\"color\": \"#000000\"}, \"showarrow\": false, \"text\": \"Netherlands\", \"x\": -0.45, \"xanchor\": \"left\", \"xref\": \"x\", \"y\": 175, \"yref\": \"y\"}, {\"align\": \"left\", \"font\": {\"color\": \"#000000\"}, \"showarrow\": false, \"text\": \"7026\", \"x\": 0.55, \"xanchor\": \"left\", \"xref\": \"x\", \"y\": 175, \"yref\": \"y\"}, {\"align\": \"left\", \"font\": {\"color\": \"#000000\"}, \"showarrow\": false, \"text\": \"13.52\", \"x\": 1.55, \"xanchor\": \"left\", \"xref\": \"x\", \"y\": 175, \"yref\": \"y\"}, {\"align\": \"left\", \"font\": {\"color\": \"#000000\"}, \"showarrow\": false, \"text\": \"6.83\", \"x\": 2.55, \"xanchor\": \"left\", \"xref\": \"x\", \"y\": 175, \"yref\": \"y\"}, {\"align\": \"left\", \"font\": {\"color\": \"#000000\"}, \"showarrow\": false, \"text\": \"Norway\", \"x\": -0.45, \"xanchor\": \"left\", \"xref\": \"x\", \"y\": 176, \"yref\": \"y\"}, {\"align\": \"left\", \"font\": {\"color\": \"#000000\"}, \"showarrow\": false, \"text\": \"117848\", \"x\": 0.55, \"xanchor\": \"left\", \"xref\": \"x\", \"y\": 176, \"yref\": \"y\"}, {\"align\": \"left\", \"font\": {\"color\": \"#000000\"}, \"showarrow\": false, \"text\": \"16.18\", \"x\": 1.55, \"xanchor\": \"left\", \"xref\": \"x\", \"y\": 176, \"yref\": \"y\"}, {\"align\": \"left\", \"font\": {\"color\": \"#000000\"}, \"showarrow\": false, \"text\": \"5.98\", \"x\": 2.55, \"xanchor\": \"left\", \"xref\": \"x\", \"y\": 176, \"yref\": \"y\"}, {\"align\": \"left\", \"font\": {\"color\": \"#000000\"}, \"showarrow\": false, \"text\": \"Nepal\", \"x\": -0.45, \"xanchor\": \"left\", \"xref\": \"x\", \"y\": 177, \"yref\": \"y\"}, {\"align\": \"left\", \"font\": {\"color\": \"#000000\"}, \"showarrow\": false, \"text\": \"176908\", \"x\": 0.55, \"xanchor\": \"left\", \"xref\": \"x\", \"y\": 177, \"yref\": \"y\"}, {\"align\": \"left\", \"font\": {\"color\": \"#000000\"}, \"showarrow\": false, \"text\": \"16.43\", \"x\": 1.55, \"xanchor\": \"left\", \"xref\": \"x\", \"y\": 177, \"yref\": \"y\"}, {\"align\": \"left\", \"font\": {\"color\": \"#000000\"}, \"showarrow\": false, \"text\": \"6.62\", \"x\": 2.55, \"xanchor\": \"left\", \"xref\": \"x\", \"y\": 177, \"yref\": \"y\"}, {\"align\": \"left\", \"font\": {\"color\": \"#000000\"}, \"showarrow\": false, \"text\": \"Nauru\", \"x\": -0.45, \"xanchor\": \"left\", \"xref\": \"x\", \"y\": 178, \"yref\": \"y\"}, {\"align\": \"left\", \"font\": {\"color\": \"#000000\"}, \"showarrow\": false, \"text\": \"29251\", \"x\": 0.55, \"xanchor\": \"left\", \"xref\": \"x\", \"y\": 178, \"yref\": \"y\"}, {\"align\": \"left\", \"font\": {\"color\": \"#000000\"}, \"showarrow\": false, \"text\": \"10.02\", \"x\": 1.55, \"xanchor\": \"left\", \"xref\": \"x\", \"y\": 178, \"yref\": \"y\"}, {\"align\": \"left\", \"font\": {\"color\": \"#000000\"}, \"showarrow\": false, \"text\": \"8.17\", \"x\": 2.55, \"xanchor\": \"left\", \"xref\": \"x\", \"y\": 178, \"yref\": \"y\"}, {\"align\": \"left\", \"font\": {\"color\": \"#000000\"}, \"showarrow\": false, \"text\": \"New Zealand\", \"x\": -0.45, \"xanchor\": \"left\", \"xref\": \"x\", \"y\": 179, \"yref\": \"y\"}, {\"align\": \"left\", \"font\": {\"color\": \"#000000\"}, \"showarrow\": false, \"text\": \"193413\", \"x\": 0.55, \"xanchor\": \"left\", \"xref\": \"x\", \"y\": 179, \"yref\": \"y\"}, {\"align\": \"left\", \"font\": {\"color\": \"#000000\"}, \"showarrow\": false, \"text\": \"40.25\", \"x\": 1.55, \"xanchor\": \"left\", \"xref\": \"x\", \"y\": 179, \"yref\": \"y\"}, {\"align\": \"left\", \"font\": {\"color\": \"#000000\"}, \"showarrow\": false, \"text\": \"6.47\", \"x\": 2.55, \"xanchor\": \"left\", \"xref\": \"x\", \"y\": 179, \"yref\": \"y\"}, {\"align\": \"left\", \"font\": {\"color\": \"#000000\"}, \"showarrow\": false, \"text\": \"OECD members\", \"x\": -0.45, \"xanchor\": \"left\", \"xref\": \"x\", \"y\": 180, \"yref\": \"y\"}, {\"align\": \"left\", \"font\": {\"color\": \"#000000\"}, \"showarrow\": false, \"text\": \"27019731\", \"x\": 0.55, \"xanchor\": \"left\", \"xref\": \"x\", \"y\": 180, \"yref\": \"y\"}, {\"align\": \"left\", \"font\": {\"color\": \"#000000\"}, \"showarrow\": false, \"text\": \"29.34\", \"x\": 1.55, \"xanchor\": \"left\", \"xref\": \"x\", \"y\": 180, \"yref\": \"y\"}, {\"align\": \"left\", \"font\": {\"color\": \"#000000\"}, \"showarrow\": false, \"text\": \"2.58\", \"x\": 2.55, \"xanchor\": \"left\", \"xref\": \"x\", \"y\": 180, \"yref\": \"y\"}, {\"align\": \"left\", \"font\": {\"color\": \"#000000\"}, \"showarrow\": false, \"text\": \"Oman\", \"x\": -0.45, \"xanchor\": \"left\", \"xref\": \"x\", \"y\": 181, \"yref\": \"y\"}, {\"align\": \"left\", \"font\": {\"color\": \"#000000\"}, \"showarrow\": false, \"text\": \"11987121\", \"x\": 0.55, \"xanchor\": \"left\", \"xref\": \"x\", \"y\": 181, \"yref\": \"y\"}, {\"align\": \"left\", \"font\": {\"color\": \"#000000\"}, \"showarrow\": false, \"text\": \"32.78\", \"x\": 1.55, \"xanchor\": \"left\", \"xref\": \"x\", \"y\": 181, \"yref\": \"y\"}, {\"align\": \"left\", \"font\": {\"color\": \"#000000\"}, \"showarrow\": false, \"text\": \"9.42\", \"x\": 2.55, \"xanchor\": \"left\", \"xref\": \"x\", \"y\": 181, \"yref\": \"y\"}, {\"align\": \"left\", \"font\": {\"color\": \"#000000\"}, \"showarrow\": false, \"text\": \"Other small states\", \"x\": -0.45, \"xanchor\": \"left\", \"xref\": \"x\", \"y\": 182, \"yref\": \"y\"}, {\"align\": \"left\", \"font\": {\"color\": \"#000000\"}, \"showarrow\": false, \"text\": \"9396411\", \"x\": 0.55, \"xanchor\": \"left\", \"xref\": \"x\", \"y\": 182, \"yref\": \"y\"}, {\"align\": \"left\", \"font\": {\"color\": \"#000000\"}, \"showarrow\": false, \"text\": \"nan\", \"x\": 1.55, \"xanchor\": \"left\", \"xref\": \"x\", \"y\": 182, \"yref\": \"y\"}, {\"align\": \"left\", \"font\": {\"color\": \"#000000\"}, \"showarrow\": false, \"text\": \"nan\", \"x\": 2.55, \"xanchor\": \"left\", \"xref\": \"x\", \"y\": 182, \"yref\": \"y\"}, {\"align\": \"left\", \"font\": {\"color\": \"#000000\"}, \"showarrow\": false, \"text\": \"Pakistan\", \"x\": -0.45, \"xanchor\": \"left\", \"xref\": \"x\", \"y\": 183, \"yref\": \"y\"}, {\"align\": \"left\", \"font\": {\"color\": \"#000000\"}, \"showarrow\": false, \"text\": \"81541\", \"x\": 0.55, \"xanchor\": \"left\", \"xref\": \"x\", \"y\": 183, \"yref\": \"y\"}, {\"align\": \"left\", \"font\": {\"color\": \"#000000\"}, \"showarrow\": false, \"text\": \"16.03\", \"x\": 1.55, \"xanchor\": \"left\", \"xref\": \"x\", \"y\": 183, \"yref\": \"y\"}, {\"align\": \"left\", \"font\": {\"color\": \"#000000\"}, \"showarrow\": false, \"text\": \"6.29\", \"x\": 2.55, \"xanchor\": \"left\", \"xref\": \"x\", \"y\": 183, \"yref\": \"y\"}, {\"align\": \"left\", \"font\": {\"color\": \"#000000\"}, \"showarrow\": false, \"text\": \"Panama\", \"x\": -0.45, \"xanchor\": \"left\", \"xref\": \"x\", \"y\": 184, \"yref\": \"y\"}, {\"align\": \"left\", \"font\": {\"color\": \"#000000\"}, \"showarrow\": false, \"text\": \"6005250\", \"x\": 0.55, \"xanchor\": \"left\", \"xref\": \"x\", \"y\": 184, \"yref\": \"y\"}, {\"align\": \"left\", \"font\": {\"color\": \"#000000\"}, \"showarrow\": false, \"text\": \"45.76\", \"x\": 1.55, \"xanchor\": \"left\", \"xref\": \"x\", \"y\": 184, \"yref\": \"y\"}, {\"align\": \"left\", \"font\": {\"color\": \"#000000\"}, \"showarrow\": false, \"text\": \"23.03\", \"x\": 2.55, \"xanchor\": \"left\", \"xref\": \"x\", \"y\": 184, \"yref\": \"y\"}, {\"align\": \"left\", \"font\": {\"color\": \"#000000\"}, \"showarrow\": false, \"text\": \"Peru\", \"x\": -0.45, \"xanchor\": \"left\", \"xref\": \"x\", \"y\": 185, \"yref\": \"y\"}, {\"align\": \"left\", \"font\": {\"color\": \"#000000\"}, \"showarrow\": false, \"text\": \"4492150\", \"x\": 0.55, \"xanchor\": \"left\", \"xref\": \"x\", \"y\": 185, \"yref\": \"y\"}, {\"align\": \"left\", \"font\": {\"color\": \"#000000\"}, \"showarrow\": false, \"text\": \"9.34\", \"x\": 1.55, \"xanchor\": \"left\", \"xref\": \"x\", \"y\": 185, \"yref\": \"y\"}, {\"align\": \"left\", \"font\": {\"color\": \"#000000\"}, \"showarrow\": false, \"text\": \"4.28\", \"x\": 2.55, \"xanchor\": \"left\", \"xref\": \"x\", \"y\": 185, \"yref\": \"y\"}, {\"align\": \"left\", \"font\": {\"color\": \"#000000\"}, \"showarrow\": false, \"text\": \"Philippines\", \"x\": -0.45, \"xanchor\": \"left\", \"xref\": \"x\", \"y\": 186, \"yref\": \"y\"}, {\"align\": \"left\", \"font\": {\"color\": \"#000000\"}, \"showarrow\": false, \"text\": \"5439448\", \"x\": 0.55, \"xanchor\": \"left\", \"xref\": \"x\", \"y\": 186, \"yref\": \"y\"}, {\"align\": \"left\", \"font\": {\"color\": \"#000000\"}, \"showarrow\": false, \"text\": \"10.65\", \"x\": 1.55, \"xanchor\": \"left\", \"xref\": \"x\", \"y\": 186, \"yref\": \"y\"}, {\"align\": \"left\", \"font\": {\"color\": \"#000000\"}, \"showarrow\": false, \"text\": \"9.45\", \"x\": 2.55, \"xanchor\": \"left\", \"xref\": \"x\", \"y\": 186, \"yref\": \"y\"}, {\"align\": \"left\", \"font\": {\"color\": \"#000000\"}, \"showarrow\": false, \"text\": \"Palau\", \"x\": -0.45, \"xanchor\": \"left\", \"xref\": \"x\", \"y\": 187, \"yref\": \"y\"}, {\"align\": \"left\", \"font\": {\"color\": \"#000000\"}, \"showarrow\": false, \"text\": \"2010347\", \"x\": 0.55, \"xanchor\": \"left\", \"xref\": \"x\", \"y\": 187, \"yref\": \"y\"}, {\"align\": \"left\", \"font\": {\"color\": \"#000000\"}, \"showarrow\": false, \"text\": \"8.98\", \"x\": 1.55, \"xanchor\": \"left\", \"xref\": \"x\", \"y\": 187, \"yref\": \"y\"}, {\"align\": \"left\", \"font\": {\"color\": \"#000000\"}, \"showarrow\": false, \"text\": \"10.31\", \"x\": 2.55, \"xanchor\": \"left\", \"xref\": \"x\", \"y\": 187, \"yref\": \"y\"}, {\"align\": \"left\", \"font\": {\"color\": \"#000000\"}, \"showarrow\": false, \"text\": \"Papua New Guinea\", \"x\": -0.45, \"xanchor\": \"left\", \"xref\": \"x\", \"y\": 188, \"yref\": \"y\"}, {\"align\": \"left\", \"font\": {\"color\": \"#000000\"}, \"showarrow\": false, \"text\": \"552438\", \"x\": 0.55, \"xanchor\": \"left\", \"xref\": \"x\", \"y\": 188, \"yref\": \"y\"}, {\"align\": \"left\", \"font\": {\"color\": \"#000000\"}, \"showarrow\": false, \"text\": \"30.01\", \"x\": 1.55, \"xanchor\": \"left\", \"xref\": \"x\", \"y\": 188, \"yref\": \"y\"}, {\"align\": \"left\", \"font\": {\"color\": \"#000000\"}, \"showarrow\": false, \"text\": \"3.92\", \"x\": 2.55, \"xanchor\": \"left\", \"xref\": \"x\", \"y\": 188, \"yref\": \"y\"}, {\"align\": \"left\", \"font\": {\"color\": \"#000000\"}, \"showarrow\": false, \"text\": \"Poland\", \"x\": -0.45, \"xanchor\": \"left\", \"xref\": \"x\", \"y\": 189, \"yref\": \"y\"}, {\"align\": \"left\", \"font\": {\"color\": \"#000000\"}, \"showarrow\": false, \"text\": \"8863338\", \"x\": 0.55, \"xanchor\": \"left\", \"xref\": \"x\", \"y\": 189, \"yref\": \"y\"}, {\"align\": \"left\", \"font\": {\"color\": \"#000000\"}, \"showarrow\": false, \"text\": \"45.13\", \"x\": 1.55, \"xanchor\": \"left\", \"xref\": \"x\", \"y\": 189, \"yref\": \"y\"}, {\"align\": \"left\", \"font\": {\"color\": \"#000000\"}, \"showarrow\": false, \"text\": \"16.63\", \"x\": 2.55, \"xanchor\": \"left\", \"xref\": \"x\", \"y\": 189, \"yref\": \"y\"}, {\"align\": \"left\", \"font\": {\"color\": \"#000000\"}, \"showarrow\": false, \"text\": \"Pre-demographic dividend\", \"x\": -0.45, \"xanchor\": \"left\", \"xref\": \"x\", \"y\": 190, \"yref\": \"y\"}, {\"align\": \"left\", \"font\": {\"color\": \"#000000\"}, \"showarrow\": false, \"text\": \"44187637\", \"x\": 0.55, \"xanchor\": \"left\", \"xref\": \"x\", \"y\": 190, \"yref\": \"y\"}, {\"align\": \"left\", \"font\": {\"color\": \"#000000\"}, \"showarrow\": false, \"text\": \"18.2\", \"x\": 1.55, \"xanchor\": \"left\", \"xref\": \"x\", \"y\": 190, \"yref\": \"y\"}, {\"align\": \"left\", \"font\": {\"color\": \"#000000\"}, \"showarrow\": false, \"text\": \"22.0\", \"x\": 2.55, \"xanchor\": \"left\", \"xref\": \"x\", \"y\": 190, \"yref\": \"y\"}, {\"align\": \"left\", \"font\": {\"color\": \"#000000\"}, \"showarrow\": false, \"text\": \"Puerto Rico\", \"x\": -0.45, \"xanchor\": \"left\", \"xref\": \"x\", \"y\": 191, \"yref\": \"y\"}, {\"align\": \"left\", \"font\": {\"color\": \"#000000\"}, \"showarrow\": false, \"text\": \"40397842\", \"x\": 0.55, \"xanchor\": \"left\", \"xref\": \"x\", \"y\": 191, \"yref\": \"y\"}, {\"align\": \"left\", \"font\": {\"color\": \"#000000\"}, \"showarrow\": false, \"text\": \"10.06\", \"x\": 1.55, \"xanchor\": \"left\", \"xref\": \"x\", \"y\": 191, \"yref\": \"y\"}, {\"align\": \"left\", \"font\": {\"color\": \"#000000\"}, \"showarrow\": false, \"text\": \"9.72\", \"x\": 2.55, \"xanchor\": \"left\", \"xref\": \"x\", \"y\": 191, \"yref\": \"y\"}, {\"align\": \"left\", \"font\": {\"color\": \"#000000\"}, \"showarrow\": false, \"text\": \"Korea, Dem. People?s Rep.\", \"x\": -0.45, \"xanchor\": \"left\", \"xref\": \"x\", \"y\": 192, \"yref\": \"y\"}, {\"align\": \"left\", \"font\": {\"color\": \"#000000\"}, \"showarrow\": false, \"text\": \"20222240\", \"x\": 0.55, \"xanchor\": \"left\", \"xref\": \"x\", \"y\": 192, \"yref\": \"y\"}, {\"align\": \"left\", \"font\": {\"color\": \"#000000\"}, \"showarrow\": false, \"text\": \"15.51\", \"x\": 1.55, \"xanchor\": \"left\", \"xref\": \"x\", \"y\": 192, \"yref\": \"y\"}, {\"align\": \"left\", \"font\": {\"color\": \"#000000\"}, \"showarrow\": false, \"text\": \"6.52\", \"x\": 2.55, \"xanchor\": \"left\", \"xref\": \"x\", \"y\": 192, \"yref\": \"y\"}, {\"align\": \"left\", \"font\": {\"color\": \"#000000\"}, \"showarrow\": false, \"text\": \"Portugal\", \"x\": -0.45, \"xanchor\": \"left\", \"xref\": \"x\", \"y\": 193, \"yref\": \"y\"}, {\"align\": \"left\", \"font\": {\"color\": \"#000000\"}, \"showarrow\": false, \"text\": \"41236378\", \"x\": 0.55, \"xanchor\": \"left\", \"xref\": \"x\", \"y\": 193, \"yref\": \"y\"}, {\"align\": \"left\", \"font\": {\"color\": \"#000000\"}, \"showarrow\": false, \"text\": \"34.53\", \"x\": 1.55, \"xanchor\": \"left\", \"xref\": \"x\", \"y\": 193, \"yref\": \"y\"}, {\"align\": \"left\", \"font\": {\"color\": \"#000000\"}, \"showarrow\": false, \"text\": \"8.97\", \"x\": 2.55, \"xanchor\": \"left\", \"xref\": \"x\", \"y\": 193, \"yref\": \"y\"}, {\"align\": \"left\", \"font\": {\"color\": \"#000000\"}, \"showarrow\": false, \"text\": \"Paraguay\", \"x\": -0.45, \"xanchor\": \"left\", \"xref\": \"x\", \"y\": 194, \"yref\": \"y\"}, {\"align\": \"left\", \"font\": {\"color\": \"#000000\"}, \"showarrow\": false, \"text\": \"439117\", \"x\": 0.55, \"xanchor\": \"left\", \"xref\": \"x\", \"y\": 194, \"yref\": \"y\"}, {\"align\": \"left\", \"font\": {\"color\": \"#000000\"}, \"showarrow\": false, \"text\": \"18.02\", \"x\": 1.55, \"xanchor\": \"left\", \"xref\": \"x\", \"y\": 194, \"yref\": \"y\"}, {\"align\": \"left\", \"font\": {\"color\": \"#000000\"}, \"showarrow\": false, \"text\": \"7.27\", \"x\": 2.55, \"xanchor\": \"left\", \"xref\": \"x\", \"y\": 194, \"yref\": \"y\"}, {\"align\": \"left\", \"font\": {\"color\": \"#000000\"}, \"showarrow\": false, \"text\": \"West Bank and Gaza\", \"x\": -0.45, \"xanchor\": \"left\", \"xref\": \"x\", \"y\": 195, \"yref\": \"y\"}, {\"align\": \"left\", \"font\": {\"color\": \"#000000\"}, \"showarrow\": false, \"text\": \"1136334\", \"x\": 0.55, \"xanchor\": \"left\", \"xref\": \"x\", \"y\": 195, \"yref\": \"y\"}, {\"align\": \"left\", \"font\": {\"color\": \"#000000\"}, \"showarrow\": false, \"text\": \"27.41\", \"x\": 1.55, \"xanchor\": \"left\", \"xref\": \"x\", \"y\": 195, \"yref\": \"y\"}, {\"align\": \"left\", \"font\": {\"color\": \"#000000\"}, \"showarrow\": false, \"text\": \"29.74\", \"x\": 2.55, \"xanchor\": \"left\", \"xref\": \"x\", \"y\": 195, \"yref\": \"y\"}, {\"align\": \"left\", \"font\": {\"color\": \"#000000\"}, \"showarrow\": false, \"text\": \"Pacific island small states\", \"x\": -0.45, \"xanchor\": \"left\", \"xref\": \"x\", \"y\": 196, \"yref\": \"y\"}, {\"align\": \"left\", \"font\": {\"color\": \"#000000\"}, \"showarrow\": false, \"text\": \"9016596\", \"x\": 0.55, \"xanchor\": \"left\", \"xref\": \"x\", \"y\": 196, \"yref\": \"y\"}, {\"align\": \"left\", \"font\": {\"color\": \"#000000\"}, \"showarrow\": false, \"text\": \"10.27\", \"x\": 1.55, \"xanchor\": \"left\", \"xref\": \"x\", \"y\": 196, \"yref\": \"y\"}, {\"align\": \"left\", \"font\": {\"color\": \"#000000\"}, \"showarrow\": false, \"text\": \"10.31\", \"x\": 2.55, \"xanchor\": \"left\", \"xref\": \"x\", \"y\": 196, \"yref\": \"y\"}, {\"align\": \"left\", \"font\": {\"color\": \"#000000\"}, \"showarrow\": false, \"text\": \"Post-demographic dividend\", \"x\": -0.45, \"xanchor\": \"left\", \"xref\": \"x\", \"y\": 197, \"yref\": \"y\"}, {\"align\": \"left\", \"font\": {\"color\": \"#000000\"}, \"showarrow\": false, \"text\": \"7523934\", \"x\": 0.55, \"xanchor\": \"left\", \"xref\": \"x\", \"y\": 197, \"yref\": \"y\"}, {\"align\": \"left\", \"font\": {\"color\": \"#000000\"}, \"showarrow\": false, \"text\": \"9.71\", \"x\": 1.55, \"xanchor\": \"left\", \"xref\": \"x\", \"y\": 197, \"yref\": \"y\"}, {\"align\": \"left\", \"font\": {\"color\": \"#000000\"}, \"showarrow\": false, \"text\": \"8.49\", \"x\": 2.55, \"xanchor\": \"left\", \"xref\": \"x\", \"y\": 197, \"yref\": \"y\"}, {\"align\": \"left\", \"font\": {\"color\": \"#000000\"}, \"showarrow\": false, \"text\": \"French Polynesia\", \"x\": -0.45, \"xanchor\": \"left\", \"xref\": \"x\", \"y\": 198, \"yref\": \"y\"}, {\"align\": \"left\", \"font\": {\"color\": \"#000000\"}, \"showarrow\": false, \"text\": \"18881361\", \"x\": 0.55, \"xanchor\": \"left\", \"xref\": \"x\", \"y\": 198, \"yref\": \"y\"}, {\"align\": \"left\", \"font\": {\"color\": \"#000000\"}, \"showarrow\": false, \"text\": \"27.76\", \"x\": 1.55, \"xanchor\": \"left\", \"xref\": \"x\", \"y\": 198, \"yref\": \"y\"}, {\"align\": \"left\", \"font\": {\"color\": \"#000000\"}, \"showarrow\": false, \"text\": \"4.81\", \"x\": 2.55, \"xanchor\": \"left\", \"xref\": \"x\", \"y\": 198, \"yref\": \"y\"}, {\"align\": \"left\", \"font\": {\"color\": \"#000000\"}, \"showarrow\": false, \"text\": \"Qatar\", \"x\": -0.45, \"xanchor\": \"left\", \"xref\": \"x\", \"y\": 199, \"yref\": \"y\"}, {\"align\": \"left\", \"font\": {\"color\": \"#000000\"}, \"showarrow\": false, \"text\": \"23036087\", \"x\": 0.55, \"xanchor\": \"left\", \"xref\": \"x\", \"y\": 199, \"yref\": \"y\"}, {\"align\": \"left\", \"font\": {\"color\": \"#000000\"}, \"showarrow\": false, \"text\": \"12.56\", \"x\": 1.55, \"xanchor\": \"left\", \"xref\": \"x\", \"y\": 199, \"yref\": \"y\"}, {\"align\": \"left\", \"font\": {\"color\": \"#000000\"}, \"showarrow\": false, \"text\": \"6.48\", \"x\": 2.55, \"xanchor\": \"left\", \"xref\": \"x\", \"y\": 199, \"yref\": \"y\"}, {\"align\": \"left\", \"font\": {\"color\": \"#000000\"}, \"showarrow\": false, \"text\": \"Romania\", \"x\": -0.45, \"xanchor\": \"left\", \"xref\": \"x\", \"y\": 200, \"yref\": \"y\"}, {\"align\": \"left\", \"font\": {\"color\": \"#000000\"}, \"showarrow\": false, \"text\": \"7320815\", \"x\": 0.55, \"xanchor\": \"left\", \"xref\": \"x\", \"y\": 200, \"yref\": \"y\"}, {\"align\": \"left\", \"font\": {\"color\": \"#000000\"}, \"showarrow\": false, \"text\": \"32.65\", \"x\": 1.55, \"xanchor\": \"left\", \"xref\": \"x\", \"y\": 200, \"yref\": \"y\"}, {\"align\": \"left\", \"font\": {\"color\": \"#000000\"}, \"showarrow\": false, \"text\": \"8.25\", \"x\": 2.55, \"xanchor\": \"left\", \"xref\": \"x\", \"y\": 200, \"yref\": \"y\"}, {\"align\": \"left\", \"font\": {\"color\": \"#000000\"}, \"showarrow\": false, \"text\": \"Russian Federation\", \"x\": -0.45, \"xanchor\": \"left\", \"xref\": \"x\", \"y\": 201, \"yref\": \"y\"}, {\"align\": \"left\", \"font\": {\"color\": \"#000000\"}, \"showarrow\": false, \"text\": \"37445392\", \"x\": 0.55, \"xanchor\": \"left\", \"xref\": \"x\", \"y\": 201, \"yref\": \"y\"}, {\"align\": \"left\", \"font\": {\"color\": \"#000000\"}, \"showarrow\": false, \"text\": \"37.71\", \"x\": 1.55, \"xanchor\": \"left\", \"xref\": \"x\", \"y\": 201, \"yref\": \"y\"}, {\"align\": \"left\", \"font\": {\"color\": \"#000000\"}, \"showarrow\": false, \"text\": \"16.39\", \"x\": 2.55, \"xanchor\": \"left\", \"xref\": \"x\", \"y\": 201, \"yref\": \"y\"}, {\"align\": \"left\", \"font\": {\"color\": \"#000000\"}, \"showarrow\": false, \"text\": \"Rwanda\", \"x\": -0.45, \"xanchor\": \"left\", \"xref\": \"x\", \"y\": 202, \"yref\": \"y\"}, {\"align\": \"left\", \"font\": {\"color\": \"#000000\"}, \"showarrow\": false, \"text\": \"64631595\", \"x\": 0.55, \"xanchor\": \"left\", \"xref\": \"x\", \"y\": 202, \"yref\": \"y\"}, {\"align\": \"left\", \"font\": {\"color\": \"#000000\"}, \"showarrow\": false, \"text\": \"13.87\", \"x\": 1.55, \"xanchor\": \"left\", \"xref\": \"x\", \"y\": 202, \"yref\": \"y\"}, {\"align\": \"left\", \"font\": {\"color\": \"#000000\"}, \"showarrow\": false, \"text\": \"7.04\", \"x\": 2.55, \"xanchor\": \"left\", \"xref\": \"x\", \"y\": 202, \"yref\": \"y\"}, {\"align\": \"left\", \"font\": {\"color\": \"#000000\"}, \"showarrow\": false, \"text\": \"South Asia\", \"x\": -0.45, \"xanchor\": \"left\", \"xref\": \"x\", \"y\": 203, \"yref\": \"y\"}, {\"align\": \"left\", \"font\": {\"color\": \"#000000\"}, \"showarrow\": false, \"text\": \"5548702\", \"x\": 0.55, \"xanchor\": \"left\", \"xref\": \"x\", \"y\": 203, \"yref\": \"y\"}, {\"align\": \"left\", \"font\": {\"color\": \"#000000\"}, \"showarrow\": false, \"text\": \"37.01\", \"x\": 1.55, \"xanchor\": \"left\", \"xref\": \"x\", \"y\": 203, \"yref\": \"y\"}, {\"align\": \"left\", \"font\": {\"color\": \"#000000\"}, \"showarrow\": false, \"text\": \"9.83\", \"x\": 2.55, \"xanchor\": \"left\", \"xref\": \"x\", \"y\": 203, \"yref\": \"y\"}, {\"align\": \"left\", \"font\": {\"color\": \"#000000\"}, \"showarrow\": false, \"text\": \"Saudi Arabia\", \"x\": -0.45, \"xanchor\": \"left\", \"xref\": \"x\", \"y\": 204, \"yref\": \"y\"}, {\"align\": \"left\", \"font\": {\"color\": \"#000000\"}, \"showarrow\": false, \"text\": \"114689\", \"x\": 0.55, \"xanchor\": \"left\", \"xref\": \"x\", \"y\": 204, \"yref\": \"y\"}, {\"align\": \"left\", \"font\": {\"color\": \"#000000\"}, \"showarrow\": false, \"text\": \"25.37\", \"x\": 1.55, \"xanchor\": \"left\", \"xref\": \"x\", \"y\": 204, \"yref\": \"y\"}, {\"align\": \"left\", \"font\": {\"color\": \"#000000\"}, \"showarrow\": false, \"text\": \"5.28\", \"x\": 2.55, \"xanchor\": \"left\", \"xref\": \"x\", \"y\": 204, \"yref\": \"y\"}, {\"align\": \"left\", \"font\": {\"color\": \"#000000\"}, \"showarrow\": false, \"text\": \"Sudan\", \"x\": -0.45, \"xanchor\": \"left\", \"xref\": \"x\", \"y\": 205, \"yref\": \"y\"}, {\"align\": \"left\", \"font\": {\"color\": \"#000000\"}, \"showarrow\": false, \"text\": \"1065842\", \"x\": 0.55, \"xanchor\": \"left\", \"xref\": \"x\", \"y\": 205, \"yref\": \"y\"}, {\"align\": \"left\", \"font\": {\"color\": \"#000000\"}, \"showarrow\": false, \"text\": \"12.9\", \"x\": 1.55, \"xanchor\": \"left\", \"xref\": \"x\", \"y\": 205, \"yref\": \"y\"}, {\"align\": \"left\", \"font\": {\"color\": \"#000000\"}, \"showarrow\": false, \"text\": \"10.57\", \"x\": 2.55, \"xanchor\": \"left\", \"xref\": \"x\", \"y\": 205, \"yref\": \"y\"}, {\"align\": \"left\", \"font\": {\"color\": \"#000000\"}, \"showarrow\": false, \"text\": \"Senegal\", \"x\": -0.45, \"xanchor\": \"left\", \"xref\": \"x\", \"y\": 206, \"yref\": \"y\"}, {\"align\": \"left\", \"font\": {\"color\": \"#000000\"}, \"showarrow\": false, \"text\": \"10175014\", \"x\": 0.55, \"xanchor\": \"left\", \"xref\": \"x\", \"y\": 206, \"yref\": \"y\"}, {\"align\": \"left\", \"font\": {\"color\": \"#000000\"}, \"showarrow\": false, \"text\": \"15.52\", \"x\": 1.55, \"xanchor\": \"left\", \"xref\": \"x\", \"y\": 206, \"yref\": \"y\"}, {\"align\": \"left\", \"font\": {\"color\": \"#000000\"}, \"showarrow\": false, \"text\": \"5.13\", \"x\": 2.55, \"xanchor\": \"left\", \"xref\": \"x\", \"y\": 206, \"yref\": \"y\"}, {\"align\": \"left\", \"font\": {\"color\": \"#000000\"}, \"showarrow\": false, \"text\": \"Singapore\", \"x\": -0.45, \"xanchor\": \"left\", \"xref\": \"x\", \"y\": 207, \"yref\": \"y\"}, {\"align\": \"left\", \"font\": {\"color\": \"#000000\"}, \"showarrow\": false, \"text\": \"70413958\", \"x\": 0.55, \"xanchor\": \"left\", \"xref\": \"x\", \"y\": 207, \"yref\": \"y\"}, {\"align\": \"left\", \"font\": {\"color\": \"#000000\"}, \"showarrow\": false, \"text\": \"16.62\", \"x\": 1.55, \"xanchor\": \"left\", \"xref\": \"x\", \"y\": 207, \"yref\": \"y\"}, {\"align\": \"left\", \"font\": {\"color\": \"#000000\"}, \"showarrow\": false, \"text\": \"5.97\", \"x\": 2.55, \"xanchor\": \"left\", \"xref\": \"x\", \"y\": 207, \"yref\": \"y\"}, {\"align\": \"left\", \"font\": {\"color\": \"#000000\"}, \"showarrow\": false, \"text\": \"Solomon Islands\", \"x\": -0.45, \"xanchor\": \"left\", \"xref\": \"x\", \"y\": 208, \"yref\": \"y\"}, {\"align\": \"left\", \"font\": {\"color\": \"#000000\"}, \"showarrow\": false, \"text\": \"5042920\", \"x\": 0.55, \"xanchor\": \"left\", \"xref\": \"x\", \"y\": 208, \"yref\": \"y\"}, {\"align\": \"left\", \"font\": {\"color\": \"#000000\"}, \"showarrow\": false, \"text\": \"27.61\", \"x\": 1.55, \"xanchor\": \"left\", \"xref\": \"x\", \"y\": 208, \"yref\": \"y\"}, {\"align\": \"left\", \"font\": {\"color\": \"#000000\"}, \"showarrow\": false, \"text\": \"8.6\", \"x\": 2.55, \"xanchor\": \"left\", \"xref\": \"x\", \"y\": 208, \"yref\": \"y\"}, {\"align\": \"left\", \"font\": {\"color\": \"#000000\"}, \"showarrow\": false, \"text\": \"Sierra Leone\", \"x\": -0.45, \"xanchor\": \"left\", \"xref\": \"x\", \"y\": 209, \"yref\": \"y\"}, {\"align\": \"left\", \"font\": {\"color\": \"#000000\"}, \"showarrow\": false, \"text\": \"21152\", \"x\": 0.55, \"xanchor\": \"left\", \"xref\": \"x\", \"y\": 209, \"yref\": \"y\"}, {\"align\": \"left\", \"font\": {\"color\": \"#000000\"}, \"showarrow\": false, \"text\": \"21.84\", \"x\": 1.55, \"xanchor\": \"left\", \"xref\": \"x\", \"y\": 209, \"yref\": \"y\"}, {\"align\": \"left\", \"font\": {\"color\": \"#000000\"}, \"showarrow\": false, \"text\": \"4.21\", \"x\": 2.55, \"xanchor\": \"left\", \"xref\": \"x\", \"y\": 209, \"yref\": \"y\"}, {\"align\": \"left\", \"font\": {\"color\": \"#000000\"}, \"showarrow\": false, \"text\": \"El Salvador\", \"x\": -0.45, \"xanchor\": \"left\", \"xref\": \"x\", \"y\": 210, \"yref\": \"y\"}, {\"align\": \"left\", \"font\": {\"color\": \"#000000\"}, \"showarrow\": false, \"text\": \"11810\", \"x\": 0.55, \"xanchor\": \"left\", \"xref\": \"x\", \"y\": 210, \"yref\": \"y\"}, {\"align\": \"left\", \"font\": {\"color\": \"#000000\"}, \"showarrow\": false, \"text\": \"22.18\", \"x\": 1.55, \"xanchor\": \"left\", \"xref\": \"x\", \"y\": 210, \"yref\": \"y\"}, {\"align\": \"left\", \"font\": {\"color\": \"#000000\"}, \"showarrow\": false, \"text\": \"7.11\", \"x\": 2.55, \"xanchor\": \"left\", \"xref\": \"x\", \"y\": 210, \"yref\": \"y\"}, {\"align\": \"left\", \"font\": {\"color\": \"#000000\"}, \"showarrow\": false, \"text\": \"San Marino\", \"x\": -0.45, \"xanchor\": \"left\", \"xref\": \"x\", \"y\": 211, \"yref\": \"y\"}, {\"align\": \"left\", \"font\": {\"color\": \"#000000\"}, \"showarrow\": false, \"text\": \"28195754\", \"x\": 0.55, \"xanchor\": \"left\", \"xref\": \"x\", \"y\": 211, \"yref\": \"y\"}, {\"align\": \"left\", \"font\": {\"color\": \"#000000\"}, \"showarrow\": false, \"text\": \"47.35\", \"x\": 1.55, \"xanchor\": \"left\", \"xref\": \"x\", \"y\": 211, \"yref\": \"y\"}, {\"align\": \"left\", \"font\": {\"color\": \"#000000\"}, \"showarrow\": false, \"text\": \"12.24\", \"x\": 2.55, \"xanchor\": \"left\", \"xref\": \"x\", \"y\": 211, \"yref\": \"y\"}, {\"align\": \"left\", \"font\": {\"color\": \"#000000\"}, \"showarrow\": false, \"text\": \"Somalia\", \"x\": -0.45, \"xanchor\": \"left\", \"xref\": \"x\", \"y\": 212, \"yref\": \"y\"}, {\"align\": \"left\", \"font\": {\"color\": \"#000000\"}, \"showarrow\": false, \"text\": \"46710816\", \"x\": 0.55, \"xanchor\": \"left\", \"xref\": \"x\", \"y\": 212, \"yref\": \"y\"}, {\"align\": \"left\", \"font\": {\"color\": \"#000000\"}, \"showarrow\": false, \"text\": \"8.82\", \"x\": 1.55, \"xanchor\": \"left\", \"xref\": \"x\", \"y\": 212, \"yref\": \"y\"}, {\"align\": \"left\", \"font\": {\"color\": \"#000000\"}, \"showarrow\": false, \"text\": \"14.39\", \"x\": 2.55, \"xanchor\": \"left\", \"xref\": \"x\", \"y\": 212, \"yref\": \"y\"}, {\"align\": \"left\", \"font\": {\"color\": \"#000000\"}, \"showarrow\": false, \"text\": \"Serbia\", \"x\": -0.45, \"xanchor\": \"left\", \"xref\": \"x\", \"y\": 213, \"yref\": \"y\"}, {\"align\": \"left\", \"font\": {\"color\": \"#000000\"}, \"showarrow\": false, \"text\": \"2602713\", \"x\": 0.55, \"xanchor\": \"left\", \"xref\": \"x\", \"y\": 213, \"yref\": \"y\"}, {\"align\": \"left\", \"font\": {\"color\": \"#000000\"}, \"showarrow\": false, \"text\": \"18.96\", \"x\": 1.55, \"xanchor\": \"left\", \"xref\": \"x\", \"y\": 213, \"yref\": \"y\"}, {\"align\": \"left\", \"font\": {\"color\": \"#000000\"}, \"showarrow\": false, \"text\": \"4.4\", \"x\": 2.55, \"xanchor\": \"left\", \"xref\": \"x\", \"y\": 213, \"yref\": \"y\"}, {\"align\": \"left\", \"font\": {\"color\": \"#000000\"}, \"showarrow\": false, \"text\": \"Sub-Saharan Africa (excluding high income)\", \"x\": -0.45, \"xanchor\": \"left\", \"xref\": \"x\", \"y\": 214, \"yref\": \"y\"}, {\"align\": \"left\", \"font\": {\"color\": \"#000000\"}, \"showarrow\": false, \"text\": \"60609153\", \"x\": 0.55, \"xanchor\": \"left\", \"xref\": \"x\", \"y\": 214, \"yref\": \"y\"}, {\"align\": \"left\", \"font\": {\"color\": \"#000000\"}, \"showarrow\": false, \"text\": \"10.71\", \"x\": 1.55, \"xanchor\": \"left\", \"xref\": \"x\", \"y\": 214, \"yref\": \"y\"}, {\"align\": \"left\", \"font\": {\"color\": \"#000000\"}, \"showarrow\": false, \"text\": \"10.13\", \"x\": 2.55, \"xanchor\": \"left\", \"xref\": \"x\", \"y\": 214, \"yref\": \"y\"}, {\"align\": \"left\", \"font\": {\"color\": \"#000000\"}, \"showarrow\": false, \"text\": \"South Sudan\", \"x\": -0.45, \"xanchor\": \"left\", \"xref\": \"x\", \"y\": 215, \"yref\": \"y\"}, {\"align\": \"left\", \"font\": {\"color\": \"#000000\"}, \"showarrow\": false, \"text\": \"298444215\", \"x\": 0.55, \"xanchor\": \"left\", \"xref\": \"x\", \"y\": 215, \"yref\": \"y\"}, {\"align\": \"left\", \"font\": {\"color\": \"#000000\"}, \"showarrow\": false, \"text\": \"14.14\", \"x\": 1.55, \"xanchor\": \"left\", \"xref\": \"x\", \"y\": 215, \"yref\": \"y\"}, {\"align\": \"left\", \"font\": {\"color\": \"#000000\"}, \"showarrow\": false, \"text\": \"8.26\", \"x\": 2.55, \"xanchor\": \"left\", \"xref\": \"x\", \"y\": 215, \"yref\": \"y\"}, {\"align\": \"left\", \"font\": {\"color\": \"#000000\"}, \"showarrow\": false, \"text\": \"Sub-Saharan Africa\", \"x\": -0.45, \"xanchor\": \"left\", \"xref\": \"x\", \"y\": 216, \"yref\": \"y\"}, {\"align\": \"left\", \"font\": {\"color\": \"#000000\"}, \"showarrow\": false, \"text\": \"3431932\", \"x\": 0.55, \"xanchor\": \"left\", \"xref\": \"x\", \"y\": 216, \"yref\": \"y\"}, {\"align\": \"left\", \"font\": {\"color\": \"#000000\"}, \"showarrow\": false, \"text\": \"13.91\", \"x\": 1.55, \"xanchor\": \"left\", \"xref\": \"x\", \"y\": 216, \"yref\": \"y\"}, {\"align\": \"left\", \"font\": {\"color\": \"#000000\"}, \"showarrow\": false, \"text\": \"9.05\", \"x\": 2.55, \"xanchor\": \"left\", \"xref\": \"x\", \"y\": 216, \"yref\": \"y\"}, {\"align\": \"left\", \"font\": {\"color\": \"#000000\"}, \"showarrow\": false, \"text\": \"Small states\", \"x\": -0.45, \"xanchor\": \"left\", \"xref\": \"x\", \"y\": 217, \"yref\": \"y\"}, {\"align\": \"left\", \"font\": {\"color\": \"#000000\"}, \"showarrow\": false, \"text\": \"27307134\", \"x\": 0.55, \"xanchor\": \"left\", \"xref\": \"x\", \"y\": 217, \"yref\": \"y\"}, {\"align\": \"left\", \"font\": {\"color\": \"#000000\"}, \"showarrow\": false, \"text\": \"26.36\", \"x\": 1.55, \"xanchor\": \"left\", \"xref\": \"x\", \"y\": 217, \"yref\": \"y\"}, {\"align\": \"left\", \"font\": {\"color\": \"#000000\"}, \"showarrow\": false, \"text\": \"7.84\", \"x\": 2.55, \"xanchor\": \"left\", \"xref\": \"x\", \"y\": 217, \"yref\": \"y\"}, {\"align\": \"left\", \"font\": {\"color\": \"#000000\"}, \"showarrow\": false, \"text\": \"Sao Tome and Principe\", \"x\": -0.45, \"xanchor\": \"left\", \"xref\": \"x\", \"y\": 218, \"yref\": \"y\"}, {\"align\": \"left\", \"font\": {\"color\": \"#000000\"}, \"showarrow\": false, \"text\": \"208869\", \"x\": 0.55, \"xanchor\": \"left\", \"xref\": \"x\", \"y\": 218, \"yref\": \"y\"}, {\"align\": \"left\", \"font\": {\"color\": \"#000000\"}, \"showarrow\": false, \"text\": \"22.72\", \"x\": 1.55, \"xanchor\": \"left\", \"xref\": \"x\", \"y\": 218, \"yref\": \"y\"}, {\"align\": \"left\", \"font\": {\"color\": \"#000000\"}, \"showarrow\": false, \"text\": \"7.82\", \"x\": 2.55, \"xanchor\": \"left\", \"xref\": \"x\", \"y\": 218, \"yref\": \"y\"}, {\"align\": \"left\", \"font\": {\"color\": \"#000000\"}, \"showarrow\": false, \"text\": \"Suriname\", \"x\": -0.45, \"xanchor\": \"left\", \"xref\": \"x\", \"y\": 219, \"yref\": \"y\"}, {\"align\": \"left\", \"font\": {\"color\": \"#000000\"}, \"showarrow\": false, \"text\": \"25730435\", \"x\": 0.55, \"xanchor\": \"left\", \"xref\": \"x\", \"y\": 219, \"yref\": \"y\"}, {\"align\": \"left\", \"font\": {\"color\": \"#000000\"}, \"showarrow\": false, \"text\": \"18.71\", \"x\": 1.55, \"xanchor\": \"left\", \"xref\": \"x\", \"y\": 219, \"yref\": \"y\"}, {\"align\": \"left\", \"font\": {\"color\": \"#000000\"}, \"showarrow\": false, \"text\": \"4.92\", \"x\": 2.55, \"xanchor\": \"left\", \"xref\": \"x\", \"y\": 219, \"yref\": \"y\"}, {\"align\": \"left\", \"font\": {\"color\": \"#000000\"}, \"showarrow\": false, \"text\": \"Slovak Republic\", \"x\": -0.45, \"xanchor\": \"left\", \"xref\": \"x\", \"y\": 220, \"yref\": \"y\"}, {\"align\": \"left\", \"font\": {\"color\": \"#000000\"}, \"showarrow\": false, \"text\": \"84402966\", \"x\": 0.55, \"xanchor\": \"left\", \"xref\": \"x\", \"y\": 220, \"yref\": \"y\"}, {\"align\": \"left\", \"font\": {\"color\": \"#000000\"}, \"showarrow\": false, \"text\": \"16.86\", \"x\": 1.55, \"xanchor\": \"left\", \"xref\": \"x\", \"y\": 220, \"yref\": \"y\"}, {\"align\": \"left\", \"font\": {\"color\": \"#000000\"}, \"showarrow\": false, \"text\": \"6.22\", \"x\": 2.55, \"xanchor\": \"left\", \"xref\": \"x\", \"y\": 220, \"yref\": \"y\"}, {\"align\": \"left\", \"font\": {\"color\": \"#000000\"}, \"showarrow\": false, \"text\": \"Slovenia\", \"x\": -0.45, \"xanchor\": \"left\", \"xref\": \"x\", \"y\": 221, \"yref\": \"y\"}, {\"align\": \"left\", \"font\": {\"color\": \"#000000\"}, \"showarrow\": false, \"text\": \"108605\", \"x\": 0.55, \"xanchor\": \"left\", \"xref\": \"x\", \"y\": 221, \"yref\": \"y\"}, {\"align\": \"left\", \"font\": {\"color\": \"#000000\"}, \"showarrow\": false, \"text\": \"13.96\", \"x\": 1.55, \"xanchor\": \"left\", \"xref\": \"x\", \"y\": 221, \"yref\": \"y\"}, {\"align\": \"left\", \"font\": {\"color\": \"#000000\"}, \"showarrow\": false, \"text\": \"6.43\", \"x\": 2.55, \"xanchor\": \"left\", \"xref\": \"x\", \"y\": 221, \"yref\": \"y\"}, {\"align\": \"left\", \"font\": {\"color\": \"#000000\"}, \"showarrow\": false, \"text\": \"Sweden\", \"x\": -0.45, \"xanchor\": \"left\", \"xref\": \"x\", \"y\": 222, \"yref\": \"y\"}, {\"align\": \"left\", \"font\": {\"color\": \"#000000\"}, \"showarrow\": false, \"text\": \"16025\", \"x\": 0.55, \"xanchor\": \"left\", \"xref\": \"x\", \"y\": 222, \"yref\": \"y\"}, {\"align\": \"left\", \"font\": {\"color\": \"#000000\"}, \"showarrow\": false, \"text\": \"nan\", \"x\": 1.55, \"xanchor\": \"left\", \"xref\": \"x\", \"y\": 222, \"yref\": \"y\"}, {\"align\": \"left\", \"font\": {\"color\": \"#000000\"}, \"showarrow\": false, \"text\": \"nan\", \"x\": 2.55, \"xanchor\": \"left\", \"xref\": \"x\", \"y\": 222, \"yref\": \"y\"}, {\"align\": \"left\", \"font\": {\"color\": \"#000000\"}, \"showarrow\": false, \"text\": \"Swaziland\", \"x\": -0.45, \"xanchor\": \"left\", \"xref\": \"x\", \"y\": 223, \"yref\": \"y\"}, {\"align\": \"left\", \"font\": {\"color\": \"#000000\"}, \"showarrow\": false, \"text\": \"2460492\", \"x\": 0.55, \"xanchor\": \"left\", \"xref\": \"x\", \"y\": 223, \"yref\": \"y\"}, {\"align\": \"left\", \"font\": {\"color\": \"#000000\"}, \"showarrow\": false, \"text\": \"31.67\", \"x\": 1.55, \"xanchor\": \"left\", \"xref\": \"x\", \"y\": 223, \"yref\": \"y\"}, {\"align\": \"left\", \"font\": {\"color\": \"#000000\"}, \"showarrow\": false, \"text\": \"3.92\", \"x\": 2.55, \"xanchor\": \"left\", \"xref\": \"x\", \"y\": 223, \"yref\": \"y\"}, {\"align\": \"left\", \"font\": {\"color\": \"#000000\"}, \"showarrow\": false, \"text\": \"Sint Maarten (Dutch part)\", \"x\": -0.45, \"xanchor\": \"left\", \"xref\": \"x\", \"y\": 224, \"yref\": \"y\"}, {\"align\": \"left\", \"font\": {\"color\": \"#000000\"}, \"showarrow\": false, \"text\": \"273008\", \"x\": 0.55, \"xanchor\": \"left\", \"xref\": \"x\", \"y\": 224, \"yref\": \"y\"}, {\"align\": \"left\", \"font\": {\"color\": \"#000000\"}, \"showarrow\": false, \"text\": \"nan\", \"x\": 1.55, \"xanchor\": \"left\", \"xref\": \"x\", \"y\": 224, \"yref\": \"y\"}, {\"align\": \"left\", \"font\": {\"color\": \"#000000\"}, \"showarrow\": false, \"text\": \"nan\", \"x\": 2.55, \"xanchor\": \"left\", \"xref\": \"x\", \"y\": 224, \"yref\": \"y\"}, {\"align\": \"left\", \"font\": {\"color\": \"#000000\"}, \"showarrow\": false, \"text\": \"Seychelles\", \"x\": -0.45, \"xanchor\": \"left\", \"xref\": \"x\", \"y\": 225, \"yref\": \"y\"}, {\"align\": \"left\", \"font\": {\"color\": \"#000000\"}, \"showarrow\": false, \"text\": \"21456188\", \"x\": 0.55, \"xanchor\": \"left\", \"xref\": \"x\", \"y\": 225, \"yref\": \"y\"}, {\"align\": \"left\", \"font\": {\"color\": \"#000000\"}, \"showarrow\": false, \"text\": \"42.89\", \"x\": 1.55, \"xanchor\": \"left\", \"xref\": \"x\", \"y\": 225, \"yref\": \"y\"}, {\"align\": \"left\", \"font\": {\"color\": \"#000000\"}, \"showarrow\": false, \"text\": \"8.3\", \"x\": 2.55, \"xanchor\": \"left\", \"xref\": \"x\", \"y\": 225, \"yref\": \"y\"}, {\"align\": \"left\", \"font\": {\"color\": \"#000000\"}, \"showarrow\": false, \"text\": \"Syrian Arab Republic\", \"x\": -0.45, \"xanchor\": \"left\", \"xref\": \"x\", \"y\": 226, \"yref\": \"y\"}, {\"align\": \"left\", \"font\": {\"color\": \"#000000\"}, \"showarrow\": false, \"text\": \"11502010\", \"x\": 0.55, \"xanchor\": \"left\", \"xref\": \"x\", \"y\": 226, \"yref\": \"y\"}, {\"align\": \"left\", \"font\": {\"color\": \"#000000\"}, \"showarrow\": false, \"text\": \"41.0\", \"x\": 1.55, \"xanchor\": \"left\", \"xref\": \"x\", \"y\": 226, \"yref\": \"y\"}, {\"align\": \"left\", \"font\": {\"color\": \"#000000\"}, \"showarrow\": false, \"text\": \"19.93\", \"x\": 2.55, \"xanchor\": \"left\", \"xref\": \"x\", \"y\": 226, \"yref\": \"y\"}, {\"align\": \"left\", \"font\": {\"color\": \"#000000\"}, \"showarrow\": false, \"text\": \"Turks and Caicos Islands\", \"x\": -0.45, \"xanchor\": \"left\", \"xref\": \"x\", \"y\": 227, \"yref\": \"y\"}, {\"align\": \"left\", \"font\": {\"color\": \"#000000\"}, \"showarrow\": false, \"text\": \"12236805\", \"x\": 0.55, \"xanchor\": \"left\", \"xref\": \"x\", \"y\": 227, \"yref\": \"y\"}, {\"align\": \"left\", \"font\": {\"color\": \"#000000\"}, \"showarrow\": false, \"text\": \"28.01\", \"x\": 1.55, \"xanchor\": \"left\", \"xref\": \"x\", \"y\": 227, \"yref\": \"y\"}, {\"align\": \"left\", \"font\": {\"color\": \"#000000\"}, \"showarrow\": false, \"text\": \"21.84\", \"x\": 2.55, \"xanchor\": \"left\", \"xref\": \"x\", \"y\": 227, \"yref\": \"y\"}], \"height\": 6890, \"margin\": {\"b\": 0, \"l\": 0, \"r\": 0, \"t\": 0}, \"xaxis\": {\"dtick\": 1, \"gridwidth\": 2, \"showticklabels\": false, \"tick0\": -0.5, \"ticks\": \"\", \"zeroline\": false}, \"yaxis\": {\"autorange\": \"reversed\", \"dtick\": 1, \"gridwidth\": 2, \"showticklabels\": false, \"tick0\": 0.5, \"ticks\": \"\", \"zeroline\": false}},\n",
       "            {\"showLink\": true, \"linkText\": \"Export to plot.ly\"}\n",
       "        ).then(function () {return Plotly.addFrames('3ca1e1bc-faaa-4702-be82-9f760a684667',{});}).then(function(){Plotly.animate('3ca1e1bc-faaa-4702-be82-9f760a684667');})\n",
       "        });</script>"
      ]
     },
     "metadata": {},
     "output_type": "display_data"
    }
   ],
   "source": [
    "# View table offline\n",
    "plotly.offline.iplot(table, filename='world population table')   \n"
   ]
  },
  {
   "cell_type": "markdown",
   "metadata": {},
   "source": [
    "#### *Plot Dashboard online or offline *\n",
    "- We can view the dashboard online or offline\n",
    "- Dashboard in Bar graph\n",
    "- Dashboard in Scatter graph with title"
   ]
  },
  {
   "cell_type": "code",
   "execution_count": 7,
   "metadata": {},
   "outputs": [
    {
     "data": {
      "text/html": [
       "<iframe id=\"igraph\" scrolling=\"no\" style=\"border:none;\" seamless=\"seamless\" src=\"https://plot.ly/~jasmin.c.johnson/16.embed\" height=\"525px\" width=\"100%\"></iframe>"
      ],
      "text/plain": [
       "<plotly.tools.PlotlyDisplay object>"
      ]
     },
     "execution_count": 7,
     "metadata": {},
     "output_type": "execute_result"
    }
   ],
   "source": [
    "# View plot online without title\n",
    "\n",
    "data = [go.Bar(x=df.CountryName,\n",
    "            y=df.Birthrate)]\n",
    "\n",
    "py.iplot(data, filename='birthrate_by_country', auto_open=True)"
   ]
  },
  {
   "cell_type": "code",
   "execution_count": 8,
   "metadata": {},
   "outputs": [
    {
     "data": {
      "text/html": [
       "<iframe id=\"igraph\" scrolling=\"no\" style=\"border:none;\" seamless=\"seamless\" src=\"https://plot.ly/~jasmin.c.johnson/24.embed\" height=\"525px\" width=\"100%\"></iframe>"
      ],
      "text/plain": [
       "<plotly.tools.PlotlyDisplay object>"
      ]
     },
     "execution_count": 8,
     "metadata": {},
     "output_type": "execute_result"
    }
   ],
   "source": [
    "# View plot online with title\n",
    "py.iplot({\n",
    "    \"data\": [go.Bar(x=df.CountryName, y=df.Birthrate)],\n",
    "    \"layout\": go.Layout(title=\"Birthrate_by_Country\")\n",
    "})\n"
   ]
  },
  {
   "cell_type": "code",
   "execution_count": 9,
   "metadata": {},
   "outputs": [
    {
     "data": {
      "application/vnd.plotly.v1+json": {
       "data": [
        {
         "type": "bar",
         "uid": "ae5a56be-a321-11e8-a27c-b88a605d4570",
         "x": [
          "Aruba",
          "Afghanistan",
          "Angola",
          "Albania",
          "Andorra",
          "Arab World",
          "United Arab Emirates",
          "Argentina",
          "Armenia",
          "American Samoa",
          "Antigua and Barbuda",
          "Australia",
          "Austria",
          "Azerbaijan",
          "Burundi",
          "Belgium",
          "Benin",
          "Burkina Faso",
          "Bangladesh",
          "Bulgaria",
          "Bahrain",
          "Bahamas, The",
          "Bosnia and Herzegovina",
          "Belarus",
          "Belize",
          "Bermuda",
          "Bolivia",
          "Brazil",
          "Barbados",
          "Brunei Darussalam",
          "Bhutan",
          "Botswana",
          "Central African Republic",
          "Canada",
          "Central Europe and the Baltics",
          "Switzerland",
          "Channel Islands",
          "Chile",
          "China",
          "Cote d'Ivoire",
          "Cameroon",
          "Congo, Dem. Rep.",
          "Congo, Rep.",
          "Colombia",
          "Comoros",
          "Cabo Verde",
          "Costa Rica",
          "Caribbean small states",
          "Cuba",
          "Curacao",
          "Cayman Islands",
          "Cyprus",
          "Czech Republic",
          "Germany",
          "Djibouti",
          "Dominica",
          "Denmark",
          "Dominican Republic",
          "Algeria",
          "East Asia & Pacific (excluding high income)",
          "Early-demographic dividend",
          "East Asia & Pacific",
          "Europe & Central Asia (excluding high income)",
          "Europe & Central Asia",
          "Ecuador",
          "Egypt, Arab Rep.",
          "Euro area",
          "Eritrea",
          "Spain",
          "Estonia",
          "Ethiopia",
          "European Union",
          "Fragile and conflict affected situations",
          "Finland",
          "Fiji",
          "France",
          "Faroe Islands",
          "Micronesia, Fed. Sts.",
          "Gabon",
          "United Kingdom",
          "Georgia",
          "Ghana",
          "Gibraltar",
          "Guinea",
          "Gambia, The",
          "Guinea-Bissau",
          "Equatorial Guinea",
          "Greece",
          "Grenada",
          "Greenland",
          "Guatemala",
          "Guam",
          "Guyana",
          "High income",
          "Hong Kong SAR, China",
          "Honduras",
          "Heavily indebted poor countries (HIPC)",
          "Croatia",
          "Haiti",
          "Hungary",
          "IBRD only",
          "IDA & IBRD total",
          "IDA total",
          "IDA blend",
          "Indonesia",
          "IDA only",
          "Isle of Man",
          "India",
          "Not classified",
          "Ireland",
          "Iran, Islamic Rep.",
          "Iraq",
          "Iceland",
          "Israel",
          "Italy",
          "Jamaica",
          "Jordan",
          "Japan",
          "Kazakhstan",
          "Kenya",
          "Kyrgyz Republic",
          "Cambodia",
          "Kiribati",
          "St. Kitts and Nevis",
          "Korea, Rep.",
          "Kuwait",
          "Latin America & Caribbean (excluding high income)",
          "Lao PDR",
          "Lebanon",
          "Liberia",
          "Libya",
          "St. Lucia",
          "Latin America & Caribbean",
          "Least developed countries: UN classification",
          "Low income",
          "Liechtenstein",
          "Sri Lanka",
          "Lower middle income",
          "Low & middle income",
          "Lesotho",
          "Late-demographic dividend",
          "Lithuania",
          "Luxembourg",
          "Latvia",
          "Macao SAR, China",
          "St. Martin (French part)",
          "Morocco",
          "Monaco",
          "Moldova",
          "Madagascar",
          "Maldives",
          "Middle East & North Africa",
          "Mexico",
          "Marshall Islands",
          "Middle income",
          "Macedonia, FYR",
          "Mali",
          "Malta",
          "Myanmar",
          "Middle East & North Africa (excluding high income)",
          "Montenegro",
          "Mongolia",
          "Northern Mariana Islands",
          "Mozambique",
          "Mauritania",
          "Mauritius",
          "Malawi",
          "Malaysia",
          "North America",
          "Namibia",
          "New Caledonia",
          "Niger",
          "Nigeria",
          "Nicaragua",
          "Netherlands",
          "Norway",
          "Nepal",
          "Nauru",
          "New Zealand",
          "OECD members",
          "Oman",
          "Other small states",
          "Pakistan",
          "Panama",
          "Peru",
          "Philippines",
          "Palau",
          "Papua New Guinea",
          "Poland",
          "Pre-demographic dividend",
          "Puerto Rico",
          "Korea, Dem. People?s Rep.",
          "Portugal",
          "Paraguay",
          "West Bank and Gaza",
          "Pacific island small states",
          "Post-demographic dividend",
          "French Polynesia",
          "Qatar",
          "Romania",
          "Russian Federation",
          "Rwanda",
          "South Asia",
          "Saudi Arabia",
          "Sudan",
          "Senegal",
          "Singapore",
          "Solomon Islands",
          "Sierra Leone",
          "El Salvador",
          "San Marino",
          "Somalia",
          "Serbia",
          "Sub-Saharan Africa (excluding high income)",
          "South Sudan",
          "Sub-Saharan Africa",
          "Small states",
          "Sao Tome and Principe",
          "Suriname",
          "Slovak Republic",
          "Slovenia",
          "Sweden",
          "Swaziland",
          "Sint Maarten (Dutch part)",
          "Seychelles",
          "Syrian Arab Republic",
          "Turks and Caicos Islands"
         ],
         "y": [
          46.6,
          15.11,
          17.14,
          22.46,
          8.71,
          45.11,
          14.17,
          16.93,
          16.73,
          12.07,
          11.03,
          12.14,
          8.74,
          20.74,
          17.57,
          17.8,
          29.8,
          12.71,
          11.16,
          10.38,
          28.84,
          38.85,
          11.4,
          33.65,
          23.3,
          8.77,
          23.08,
          16.56,
          14.89,
          18.79,
          9.65,
          45.62,
          17.91,
          42.22,
          26.9,
          33.89,
          10.78,
          24.87,
          12.74,
          33.91,
          45.73,
          15.23,
          13.25,
          20.48,
          36.93,
          43.69,
          42.57,
          21,
          18.32,
          35.11,
          9.61,
          11.89,
          12.56,
          9.02,
          11.13,
          39.53,
          15.27,
          23.22,
          26.99,
          22.29,
          22.94,
          26.61,
          35.59,
          34.33,
          10.04,
          37.98,
          14.05,
          22.55,
          10.45,
          11.99,
          20.46,
          16.68,
          36.16,
          39.37,
          39.45,
          10.41,
          8.25,
          30.52,
          10.74,
          9.68,
          15.93,
          22.08,
          15.05,
          18.79,
          29.88,
          8.81,
          41.76,
          37.22,
          18.28,
          36.44,
          28.24,
          7.29,
          9.72,
          13.64,
          22.01,
          20.34,
          17,
          31.98,
          14.45,
          11.05,
          17.97,
          8.72,
          20.82,
          9.37,
          9.3,
          21.25,
          16,
          39.72,
          30.65,
          15.54,
          10,
          21.94,
          22.8,
          35.49,
          9.24,
          18.52,
          24.75,
          44.77,
          26.49,
          10.21,
          8.75,
          11.94,
          8.48,
          12.02,
          41.41,
          43.13,
          22.86,
          34.81,
          49.82,
          10.22,
          33.05,
          13.74,
          40.99,
          15.43,
          40.95,
          20.69,
          24.68,
          15.7,
          9.19,
          21.59,
          17.59,
          21.98,
          35.18,
          24.32,
          24.76,
          30.98,
          10.9,
          14.78,
          18.11,
          13.76,
          24.51,
          50.73,
          40.43,
          19.43,
          11.46,
          36.24,
          29.74,
          18.03,
          21.74,
          29.36,
          29.1,
          20.48,
          24.89,
          9.85,
          10.72,
          12.77,
          15.56,
          18.9,
          10.7,
          9.95,
          40.37,
          12.13,
          18.02,
          19.68,
          13.52,
          16.18,
          16.43,
          10.02,
          40.25,
          29.34,
          32.78,
          null,
          16.03,
          45.76,
          9.34,
          10.65,
          8.98,
          30.01,
          45.13,
          18.2,
          10.06,
          15.51,
          34.53,
          18.02,
          27.41,
          10.27,
          9.71,
          27.76,
          12.56,
          32.65,
          37.71,
          13.87,
          37.01,
          25.37,
          12.9,
          15.52,
          16.62,
          27.61,
          21.84,
          22.18,
          47.35,
          8.82,
          18.96,
          10.71,
          14.14,
          13.91,
          26.36,
          22.72,
          18.71,
          16.86,
          13.96,
          null,
          31.67,
          null,
          42.89,
          41,
          28.01
         ]
        }
       ],
       "layout": {
        "title": "Birthrate_by_Country"
       }
      },
      "text/html": [
       "<div id=\"6fc9235b-d69a-42b0-9a2d-2b2e08032df2\" style=\"height: 525px; width: 100%;\" class=\"plotly-graph-div\"></div><script type=\"text/javascript\">require([\"plotly\"], function(Plotly) { window.PLOTLYENV=window.PLOTLYENV || {};window.PLOTLYENV.BASE_URL=\"https://plot.ly\";Plotly.newPlot(\"6fc9235b-d69a-42b0-9a2d-2b2e08032df2\", [{\"x\": [\"Aruba\", \"Afghanistan\", \"Angola\", \"Albania\", \"Andorra\", \"Arab World\", \"United Arab Emirates\", \"Argentina\", \"Armenia\", \"American Samoa\", \"Antigua and Barbuda\", \"Australia\", \"Austria\", \"Azerbaijan\", \"Burundi\", \"Belgium\", \"Benin\", \"Burkina Faso\", \"Bangladesh\", \"Bulgaria\", \"Bahrain\", \"Bahamas, The\", \"Bosnia and Herzegovina\", \"Belarus\", \"Belize\", \"Bermuda\", \"Bolivia\", \"Brazil\", \"Barbados\", \"Brunei Darussalam\", \"Bhutan\", \"Botswana\", \"Central African Republic\", \"Canada\", \"Central Europe and the Baltics\", \"Switzerland\", \"Channel Islands\", \"Chile\", \"China\", \"Cote d'Ivoire\", \"Cameroon\", \"Congo, Dem. Rep.\", \"Congo, Rep.\", \"Colombia\", \"Comoros\", \"Cabo Verde\", \"Costa Rica\", \"Caribbean small states\", \"Cuba\", \"Curacao\", \"Cayman Islands\", \"Cyprus\", \"Czech Republic\", \"Germany\", \"Djibouti\", \"Dominica\", \"Denmark\", \"Dominican Republic\", \"Algeria\", \"East Asia & Pacific (excluding high income)\", \"Early-demographic dividend\", \"East Asia & Pacific\", \"Europe & Central Asia (excluding high income)\", \"Europe & Central Asia\", \"Ecuador\", \"Egypt, Arab Rep.\", \"Euro area\", \"Eritrea\", \"Spain\", \"Estonia\", \"Ethiopia\", \"European Union\", \"Fragile and conflict affected situations\", \"Finland\", \"Fiji\", \"France\", \"Faroe Islands\", \"Micronesia, Fed. Sts.\", \"Gabon\", \"United Kingdom\", \"Georgia\", \"Ghana\", \"Gibraltar\", \"Guinea\", \"Gambia, The\", \"Guinea-Bissau\", \"Equatorial Guinea\", \"Greece\", \"Grenada\", \"Greenland\", \"Guatemala\", \"Guam\", \"Guyana\", \"High income\", \"Hong Kong SAR, China\", \"Honduras\", \"Heavily indebted poor countries (HIPC)\", \"Croatia\", \"Haiti\", \"Hungary\", \"IBRD only\", \"IDA & IBRD total\", \"IDA total\", \"IDA blend\", \"Indonesia\", \"IDA only\", \"Isle of Man\", \"India\", \"Not classified\", \"Ireland\", \"Iran, Islamic Rep.\", \"Iraq\", \"Iceland\", \"Israel\", \"Italy\", \"Jamaica\", \"Jordan\", \"Japan\", \"Kazakhstan\", \"Kenya\", \"Kyrgyz Republic\", \"Cambodia\", \"Kiribati\", \"St. Kitts and Nevis\", \"Korea, Rep.\", \"Kuwait\", \"Latin America & Caribbean (excluding high income)\", \"Lao PDR\", \"Lebanon\", \"Liberia\", \"Libya\", \"St. Lucia\", \"Latin America & Caribbean\", \"Least developed countries: UN classification\", \"Low income\", \"Liechtenstein\", \"Sri Lanka\", \"Lower middle income\", \"Low & middle income\", \"Lesotho\", \"Late-demographic dividend\", \"Lithuania\", \"Luxembourg\", \"Latvia\", \"Macao SAR, China\", \"St. Martin (French part)\", \"Morocco\", \"Monaco\", \"Moldova\", \"Madagascar\", \"Maldives\", \"Middle East & North Africa\", \"Mexico\", \"Marshall Islands\", \"Middle income\", \"Macedonia, FYR\", \"Mali\", \"Malta\", \"Myanmar\", \"Middle East & North Africa (excluding high income)\", \"Montenegro\", \"Mongolia\", \"Northern Mariana Islands\", \"Mozambique\", \"Mauritania\", \"Mauritius\", \"Malawi\", \"Malaysia\", \"North America\", \"Namibia\", \"New Caledonia\", \"Niger\", \"Nigeria\", \"Nicaragua\", \"Netherlands\", \"Norway\", \"Nepal\", \"Nauru\", \"New Zealand\", \"OECD members\", \"Oman\", \"Other small states\", \"Pakistan\", \"Panama\", \"Peru\", \"Philippines\", \"Palau\", \"Papua New Guinea\", \"Poland\", \"Pre-demographic dividend\", \"Puerto Rico\", \"Korea, Dem. People?s Rep.\", \"Portugal\", \"Paraguay\", \"West Bank and Gaza\", \"Pacific island small states\", \"Post-demographic dividend\", \"French Polynesia\", \"Qatar\", \"Romania\", \"Russian Federation\", \"Rwanda\", \"South Asia\", \"Saudi Arabia\", \"Sudan\", \"Senegal\", \"Singapore\", \"Solomon Islands\", \"Sierra Leone\", \"El Salvador\", \"San Marino\", \"Somalia\", \"Serbia\", \"Sub-Saharan Africa (excluding high income)\", \"South Sudan\", \"Sub-Saharan Africa\", \"Small states\", \"Sao Tome and Principe\", \"Suriname\", \"Slovak Republic\", \"Slovenia\", \"Sweden\", \"Swaziland\", \"Sint Maarten (Dutch part)\", \"Seychelles\", \"Syrian Arab Republic\", \"Turks and Caicos Islands\"], \"y\": [46.6, 15.11, 17.14, 22.46, 8.71, 45.11, 14.17, 16.93, 16.73, 12.07, 11.03, 12.14, 8.74, 20.74, 17.57, 17.8, 29.8, 12.71, 11.16, 10.38, 28.84, 38.85, 11.4, 33.65, 23.3, 8.77, 23.08, 16.56, 14.89, 18.79, 9.65, 45.62, 17.91, 42.22, 26.9, 33.89, 10.78, 24.87, 12.74, 33.91, 45.73, 15.23, 13.25, 20.48, 36.93, 43.69, 42.57, 21.0, 18.32, 35.11, 9.61, 11.89, 12.56, 9.02, 11.13, 39.53, 15.27, 23.22, 26.99, 22.29, 22.94, 26.61, 35.59, 34.33, 10.04, 37.98, 14.05, 22.55, 10.45, 11.99, 20.46, 16.68, 36.16, 39.37, 39.45, 10.41, 8.25, 30.52, 10.74, 9.68, 15.93, 22.08, 15.05, 18.79, 29.88, 8.81, 41.76, 37.22, 18.28, 36.44, 28.24, 7.29, 9.72, 13.64, 22.01, 20.34, 17.0, 31.98, 14.45, 11.05, 17.97, 8.72, 20.82, 9.37, 9.3, 21.25, 16.0, 39.72, 30.65, 15.54, 10.0, 21.94, 22.8, 35.49, 9.24, 18.52, 24.75, 44.77, 26.49, 10.21, 8.75, 11.94, 8.48, 12.02, 41.41, 43.13, 22.86, 34.81, 49.82, 10.22, 33.05, 13.74, 40.99, 15.43, 40.95, 20.69, 24.68, 15.7, 9.19, 21.59, 17.59, 21.98, 35.18, 24.32, 24.76, 30.98, 10.9, 14.78, 18.11, 13.76, 24.51, 50.73, 40.43, 19.43, 11.46, 36.24, 29.74, 18.03, 21.74, 29.36, 29.1, 20.48, 24.89, 9.85, 10.72, 12.77, 15.56, 18.9, 10.7, 9.95, 40.37, 12.13, 18.02, 19.68, 13.52, 16.18, 16.43, 10.02, 40.25, 29.34, 32.78, null, 16.03, 45.76, 9.34, 10.65, 8.98, 30.01, 45.13, 18.2, 10.06, 15.51, 34.53, 18.02, 27.41, 10.27, 9.71, 27.76, 12.56, 32.65, 37.71, 13.87, 37.01, 25.37, 12.9, 15.52, 16.62, 27.61, 21.84, 22.18, 47.35, 8.82, 18.96, 10.71, 14.14, 13.91, 26.36, 22.72, 18.71, 16.86, 13.96, null, 31.67, null, 42.89, 41.0, 28.01], \"type\": \"bar\", \"uid\": \"ae5e72a6-a321-11e8-a47b-b88a605d4570\"}], {\"title\": \"Birthrate_by_Country\"}, {\"showLink\": true, \"linkText\": \"Export to plot.ly\"})});</script>"
      ],
      "text/vnd.plotly.v1+html": [
       "<div id=\"6fc9235b-d69a-42b0-9a2d-2b2e08032df2\" style=\"height: 525px; width: 100%;\" class=\"plotly-graph-div\"></div><script type=\"text/javascript\">require([\"plotly\"], function(Plotly) { window.PLOTLYENV=window.PLOTLYENV || {};window.PLOTLYENV.BASE_URL=\"https://plot.ly\";Plotly.newPlot(\"6fc9235b-d69a-42b0-9a2d-2b2e08032df2\", [{\"x\": [\"Aruba\", \"Afghanistan\", \"Angola\", \"Albania\", \"Andorra\", \"Arab World\", \"United Arab Emirates\", \"Argentina\", \"Armenia\", \"American Samoa\", \"Antigua and Barbuda\", \"Australia\", \"Austria\", \"Azerbaijan\", \"Burundi\", \"Belgium\", \"Benin\", \"Burkina Faso\", \"Bangladesh\", \"Bulgaria\", \"Bahrain\", \"Bahamas, The\", \"Bosnia and Herzegovina\", \"Belarus\", \"Belize\", \"Bermuda\", \"Bolivia\", \"Brazil\", \"Barbados\", \"Brunei Darussalam\", \"Bhutan\", \"Botswana\", \"Central African Republic\", \"Canada\", \"Central Europe and the Baltics\", \"Switzerland\", \"Channel Islands\", \"Chile\", \"China\", \"Cote d'Ivoire\", \"Cameroon\", \"Congo, Dem. Rep.\", \"Congo, Rep.\", \"Colombia\", \"Comoros\", \"Cabo Verde\", \"Costa Rica\", \"Caribbean small states\", \"Cuba\", \"Curacao\", \"Cayman Islands\", \"Cyprus\", \"Czech Republic\", \"Germany\", \"Djibouti\", \"Dominica\", \"Denmark\", \"Dominican Republic\", \"Algeria\", \"East Asia & Pacific (excluding high income)\", \"Early-demographic dividend\", \"East Asia & Pacific\", \"Europe & Central Asia (excluding high income)\", \"Europe & Central Asia\", \"Ecuador\", \"Egypt, Arab Rep.\", \"Euro area\", \"Eritrea\", \"Spain\", \"Estonia\", \"Ethiopia\", \"European Union\", \"Fragile and conflict affected situations\", \"Finland\", \"Fiji\", \"France\", \"Faroe Islands\", \"Micronesia, Fed. Sts.\", \"Gabon\", \"United Kingdom\", \"Georgia\", \"Ghana\", \"Gibraltar\", \"Guinea\", \"Gambia, The\", \"Guinea-Bissau\", \"Equatorial Guinea\", \"Greece\", \"Grenada\", \"Greenland\", \"Guatemala\", \"Guam\", \"Guyana\", \"High income\", \"Hong Kong SAR, China\", \"Honduras\", \"Heavily indebted poor countries (HIPC)\", \"Croatia\", \"Haiti\", \"Hungary\", \"IBRD only\", \"IDA & IBRD total\", \"IDA total\", \"IDA blend\", \"Indonesia\", \"IDA only\", \"Isle of Man\", \"India\", \"Not classified\", \"Ireland\", \"Iran, Islamic Rep.\", \"Iraq\", \"Iceland\", \"Israel\", \"Italy\", \"Jamaica\", \"Jordan\", \"Japan\", \"Kazakhstan\", \"Kenya\", \"Kyrgyz Republic\", \"Cambodia\", \"Kiribati\", \"St. Kitts and Nevis\", \"Korea, Rep.\", \"Kuwait\", \"Latin America & Caribbean (excluding high income)\", \"Lao PDR\", \"Lebanon\", \"Liberia\", \"Libya\", \"St. Lucia\", \"Latin America & Caribbean\", \"Least developed countries: UN classification\", \"Low income\", \"Liechtenstein\", \"Sri Lanka\", \"Lower middle income\", \"Low & middle income\", \"Lesotho\", \"Late-demographic dividend\", \"Lithuania\", \"Luxembourg\", \"Latvia\", \"Macao SAR, China\", \"St. Martin (French part)\", \"Morocco\", \"Monaco\", \"Moldova\", \"Madagascar\", \"Maldives\", \"Middle East & North Africa\", \"Mexico\", \"Marshall Islands\", \"Middle income\", \"Macedonia, FYR\", \"Mali\", \"Malta\", \"Myanmar\", \"Middle East & North Africa (excluding high income)\", \"Montenegro\", \"Mongolia\", \"Northern Mariana Islands\", \"Mozambique\", \"Mauritania\", \"Mauritius\", \"Malawi\", \"Malaysia\", \"North America\", \"Namibia\", \"New Caledonia\", \"Niger\", \"Nigeria\", \"Nicaragua\", \"Netherlands\", \"Norway\", \"Nepal\", \"Nauru\", \"New Zealand\", \"OECD members\", \"Oman\", \"Other small states\", \"Pakistan\", \"Panama\", \"Peru\", \"Philippines\", \"Palau\", \"Papua New Guinea\", \"Poland\", \"Pre-demographic dividend\", \"Puerto Rico\", \"Korea, Dem. People?s Rep.\", \"Portugal\", \"Paraguay\", \"West Bank and Gaza\", \"Pacific island small states\", \"Post-demographic dividend\", \"French Polynesia\", \"Qatar\", \"Romania\", \"Russian Federation\", \"Rwanda\", \"South Asia\", \"Saudi Arabia\", \"Sudan\", \"Senegal\", \"Singapore\", \"Solomon Islands\", \"Sierra Leone\", \"El Salvador\", \"San Marino\", \"Somalia\", \"Serbia\", \"Sub-Saharan Africa (excluding high income)\", \"South Sudan\", \"Sub-Saharan Africa\", \"Small states\", \"Sao Tome and Principe\", \"Suriname\", \"Slovak Republic\", \"Slovenia\", \"Sweden\", \"Swaziland\", \"Sint Maarten (Dutch part)\", \"Seychelles\", \"Syrian Arab Republic\", \"Turks and Caicos Islands\"], \"y\": [46.6, 15.11, 17.14, 22.46, 8.71, 45.11, 14.17, 16.93, 16.73, 12.07, 11.03, 12.14, 8.74, 20.74, 17.57, 17.8, 29.8, 12.71, 11.16, 10.38, 28.84, 38.85, 11.4, 33.65, 23.3, 8.77, 23.08, 16.56, 14.89, 18.79, 9.65, 45.62, 17.91, 42.22, 26.9, 33.89, 10.78, 24.87, 12.74, 33.91, 45.73, 15.23, 13.25, 20.48, 36.93, 43.69, 42.57, 21.0, 18.32, 35.11, 9.61, 11.89, 12.56, 9.02, 11.13, 39.53, 15.27, 23.22, 26.99, 22.29, 22.94, 26.61, 35.59, 34.33, 10.04, 37.98, 14.05, 22.55, 10.45, 11.99, 20.46, 16.68, 36.16, 39.37, 39.45, 10.41, 8.25, 30.52, 10.74, 9.68, 15.93, 22.08, 15.05, 18.79, 29.88, 8.81, 41.76, 37.22, 18.28, 36.44, 28.24, 7.29, 9.72, 13.64, 22.01, 20.34, 17.0, 31.98, 14.45, 11.05, 17.97, 8.72, 20.82, 9.37, 9.3, 21.25, 16.0, 39.72, 30.65, 15.54, 10.0, 21.94, 22.8, 35.49, 9.24, 18.52, 24.75, 44.77, 26.49, 10.21, 8.75, 11.94, 8.48, 12.02, 41.41, 43.13, 22.86, 34.81, 49.82, 10.22, 33.05, 13.74, 40.99, 15.43, 40.95, 20.69, 24.68, 15.7, 9.19, 21.59, 17.59, 21.98, 35.18, 24.32, 24.76, 30.98, 10.9, 14.78, 18.11, 13.76, 24.51, 50.73, 40.43, 19.43, 11.46, 36.24, 29.74, 18.03, 21.74, 29.36, 29.1, 20.48, 24.89, 9.85, 10.72, 12.77, 15.56, 18.9, 10.7, 9.95, 40.37, 12.13, 18.02, 19.68, 13.52, 16.18, 16.43, 10.02, 40.25, 29.34, 32.78, null, 16.03, 45.76, 9.34, 10.65, 8.98, 30.01, 45.13, 18.2, 10.06, 15.51, 34.53, 18.02, 27.41, 10.27, 9.71, 27.76, 12.56, 32.65, 37.71, 13.87, 37.01, 25.37, 12.9, 15.52, 16.62, 27.61, 21.84, 22.18, 47.35, 8.82, 18.96, 10.71, 14.14, 13.91, 26.36, 22.72, 18.71, 16.86, 13.96, null, 31.67, null, 42.89, 41.0, 28.01], \"type\": \"bar\", \"uid\": \"ae5e72a6-a321-11e8-a47b-b88a605d4570\"}], {\"title\": \"Birthrate_by_Country\"}, {\"showLink\": true, \"linkText\": \"Export to plot.ly\"})});</script>"
      ]
     },
     "metadata": {},
     "output_type": "display_data"
    }
   ],
   "source": [
    "# View dashboard offline with title\n",
    "\n",
    "plotly.offline.iplot({\n",
    "    \"data\": [go.Bar(x=df.CountryName, y=df.Birthrate)],\n",
    "    \"layout\": go.Layout(title=\"Birthrate_by_Country\")\n",
    "})"
   ]
  },
  {
   "cell_type": "code",
   "execution_count": 11,
   "metadata": {},
   "outputs": [
    {
     "data": {
      "text/html": [
       "<iframe id=\"igraph\" scrolling=\"no\" style=\"border:none;\" seamless=\"seamless\" src=\"https://plot.ly/~jasmin.c.johnson/18.embed\" height=\"525px\" width=\"100%\"></iframe>"
      ],
      "text/plain": [
       "<plotly.tools.PlotlyDisplay object>"
      ]
     },
     "execution_count": 11,
     "metadata": {},
     "output_type": "execute_result"
    }
   ],
   "source": [
    "# View birthrate and population by country\n",
    "\n",
    "Birthrate = go.Scatter(\n",
    "    x= df.CountryName,\n",
    "    y= df.Birthrate\n",
    ")\n",
    "Population = go.Scatter(\n",
    "    x= df.CountryName,\n",
    "    y= df.Population\n",
    ")\n",
    "data = [Birthrate, Population]\n",
    "\n",
    "# View online\n",
    "py.iplot(data, filename = 'birthrate_population_by_country', auto_open=True)\n"
   ]
  },
  {
   "cell_type": "code",
   "execution_count": 12,
   "metadata": {},
   "outputs": [
    {
     "data": {
      "application/vnd.plotly.v1+json": {
       "data": [
        {
         "type": "scatter",
         "uid": "f574c212-a321-11e8-9a06-b88a605d4570",
         "x": [
          "Aruba",
          "Afghanistan",
          "Angola",
          "Albania",
          "Andorra",
          "Arab World",
          "United Arab Emirates",
          "Argentina",
          "Armenia",
          "American Samoa",
          "Antigua and Barbuda",
          "Australia",
          "Austria",
          "Azerbaijan",
          "Burundi",
          "Belgium",
          "Benin",
          "Burkina Faso",
          "Bangladesh",
          "Bulgaria",
          "Bahrain",
          "Bahamas, The",
          "Bosnia and Herzegovina",
          "Belarus",
          "Belize",
          "Bermuda",
          "Bolivia",
          "Brazil",
          "Barbados",
          "Brunei Darussalam",
          "Bhutan",
          "Botswana",
          "Central African Republic",
          "Canada",
          "Central Europe and the Baltics",
          "Switzerland",
          "Channel Islands",
          "Chile",
          "China",
          "Cote d'Ivoire",
          "Cameroon",
          "Congo, Dem. Rep.",
          "Congo, Rep.",
          "Colombia",
          "Comoros",
          "Cabo Verde",
          "Costa Rica",
          "Caribbean small states",
          "Cuba",
          "Curacao",
          "Cayman Islands",
          "Cyprus",
          "Czech Republic",
          "Germany",
          "Djibouti",
          "Dominica",
          "Denmark",
          "Dominican Republic",
          "Algeria",
          "East Asia & Pacific (excluding high income)",
          "Early-demographic dividend",
          "East Asia & Pacific",
          "Europe & Central Asia (excluding high income)",
          "Europe & Central Asia",
          "Ecuador",
          "Egypt, Arab Rep.",
          "Euro area",
          "Eritrea",
          "Spain",
          "Estonia",
          "Ethiopia",
          "European Union",
          "Fragile and conflict affected situations",
          "Finland",
          "Fiji",
          "France",
          "Faroe Islands",
          "Micronesia, Fed. Sts.",
          "Gabon",
          "United Kingdom",
          "Georgia",
          "Ghana",
          "Gibraltar",
          "Guinea",
          "Gambia, The",
          "Guinea-Bissau",
          "Equatorial Guinea",
          "Greece",
          "Grenada",
          "Greenland",
          "Guatemala",
          "Guam",
          "Guyana",
          "High income",
          "Hong Kong SAR, China",
          "Honduras",
          "Heavily indebted poor countries (HIPC)",
          "Croatia",
          "Haiti",
          "Hungary",
          "IBRD only",
          "IDA & IBRD total",
          "IDA total",
          "IDA blend",
          "Indonesia",
          "IDA only",
          "Isle of Man",
          "India",
          "Not classified",
          "Ireland",
          "Iran, Islamic Rep.",
          "Iraq",
          "Iceland",
          "Israel",
          "Italy",
          "Jamaica",
          "Jordan",
          "Japan",
          "Kazakhstan",
          "Kenya",
          "Kyrgyz Republic",
          "Cambodia",
          "Kiribati",
          "St. Kitts and Nevis",
          "Korea, Rep.",
          "Kuwait",
          "Latin America & Caribbean (excluding high income)",
          "Lao PDR",
          "Lebanon",
          "Liberia",
          "Libya",
          "St. Lucia",
          "Latin America & Caribbean",
          "Least developed countries: UN classification",
          "Low income",
          "Liechtenstein",
          "Sri Lanka",
          "Lower middle income",
          "Low & middle income",
          "Lesotho",
          "Late-demographic dividend",
          "Lithuania",
          "Luxembourg",
          "Latvia",
          "Macao SAR, China",
          "St. Martin (French part)",
          "Morocco",
          "Monaco",
          "Moldova",
          "Madagascar",
          "Maldives",
          "Middle East & North Africa",
          "Mexico",
          "Marshall Islands",
          "Middle income",
          "Macedonia, FYR",
          "Mali",
          "Malta",
          "Myanmar",
          "Middle East & North Africa (excluding high income)",
          "Montenegro",
          "Mongolia",
          "Northern Mariana Islands",
          "Mozambique",
          "Mauritania",
          "Mauritius",
          "Malawi",
          "Malaysia",
          "North America",
          "Namibia",
          "New Caledonia",
          "Niger",
          "Nigeria",
          "Nicaragua",
          "Netherlands",
          "Norway",
          "Nepal",
          "Nauru",
          "New Zealand",
          "OECD members",
          "Oman",
          "Other small states",
          "Pakistan",
          "Panama",
          "Peru",
          "Philippines",
          "Palau",
          "Papua New Guinea",
          "Poland",
          "Pre-demographic dividend",
          "Puerto Rico",
          "Korea, Dem. People?s Rep.",
          "Portugal",
          "Paraguay",
          "West Bank and Gaza",
          "Pacific island small states",
          "Post-demographic dividend",
          "French Polynesia",
          "Qatar",
          "Romania",
          "Russian Federation",
          "Rwanda",
          "South Asia",
          "Saudi Arabia",
          "Sudan",
          "Senegal",
          "Singapore",
          "Solomon Islands",
          "Sierra Leone",
          "El Salvador",
          "San Marino",
          "Somalia",
          "Serbia",
          "Sub-Saharan Africa (excluding high income)",
          "South Sudan",
          "Sub-Saharan Africa",
          "Small states",
          "Sao Tome and Principe",
          "Suriname",
          "Slovak Republic",
          "Slovenia",
          "Sweden",
          "Swaziland",
          "Sint Maarten (Dutch part)",
          "Seychelles",
          "Syrian Arab Republic",
          "Turks and Caicos Islands"
         ],
         "y": [
          46.6,
          15.11,
          17.14,
          22.46,
          8.71,
          45.11,
          14.17,
          16.93,
          16.73,
          12.07,
          11.03,
          12.14,
          8.74,
          20.74,
          17.57,
          17.8,
          29.8,
          12.71,
          11.16,
          10.38,
          28.84,
          38.85,
          11.4,
          33.65,
          23.3,
          8.77,
          23.08,
          16.56,
          14.89,
          18.79,
          9.65,
          45.62,
          17.91,
          42.22,
          26.9,
          33.89,
          10.78,
          24.87,
          12.74,
          33.91,
          45.73,
          15.23,
          13.25,
          20.48,
          36.93,
          43.69,
          42.57,
          21,
          18.32,
          35.11,
          9.61,
          11.89,
          12.56,
          9.02,
          11.13,
          39.53,
          15.27,
          23.22,
          26.99,
          22.29,
          22.94,
          26.61,
          35.59,
          34.33,
          10.04,
          37.98,
          14.05,
          22.55,
          10.45,
          11.99,
          20.46,
          16.68,
          36.16,
          39.37,
          39.45,
          10.41,
          8.25,
          30.52,
          10.74,
          9.68,
          15.93,
          22.08,
          15.05,
          18.79,
          29.88,
          8.81,
          41.76,
          37.22,
          18.28,
          36.44,
          28.24,
          7.29,
          9.72,
          13.64,
          22.01,
          20.34,
          17,
          31.98,
          14.45,
          11.05,
          17.97,
          8.72,
          20.82,
          9.37,
          9.3,
          21.25,
          16,
          39.72,
          30.65,
          15.54,
          10,
          21.94,
          22.8,
          35.49,
          9.24,
          18.52,
          24.75,
          44.77,
          26.49,
          10.21,
          8.75,
          11.94,
          8.48,
          12.02,
          41.41,
          43.13,
          22.86,
          34.81,
          49.82,
          10.22,
          33.05,
          13.74,
          40.99,
          15.43,
          40.95,
          20.69,
          24.68,
          15.7,
          9.19,
          21.59,
          17.59,
          21.98,
          35.18,
          24.32,
          24.76,
          30.98,
          10.9,
          14.78,
          18.11,
          13.76,
          24.51,
          50.73,
          40.43,
          19.43,
          11.46,
          36.24,
          29.74,
          18.03,
          21.74,
          29.36,
          29.1,
          20.48,
          24.89,
          9.85,
          10.72,
          12.77,
          15.56,
          18.9,
          10.7,
          9.95,
          40.37,
          12.13,
          18.02,
          19.68,
          13.52,
          16.18,
          16.43,
          10.02,
          40.25,
          29.34,
          32.78,
          null,
          16.03,
          45.76,
          9.34,
          10.65,
          8.98,
          30.01,
          45.13,
          18.2,
          10.06,
          15.51,
          34.53,
          18.02,
          27.41,
          10.27,
          9.71,
          27.76,
          12.56,
          32.65,
          37.71,
          13.87,
          37.01,
          25.37,
          12.9,
          15.52,
          16.62,
          27.61,
          21.84,
          22.18,
          47.35,
          8.82,
          18.96,
          10.71,
          14.14,
          13.91,
          26.36,
          22.72,
          18.71,
          16.86,
          13.96,
          null,
          31.67,
          null,
          42.89,
          41,
          28.01
         ]
        },
        {
         "type": "scatter",
         "uid": "f574c213-a321-11e8-aa9f-b88a605d4570",
         "x": [
          "Aruba",
          "Afghanistan",
          "Angola",
          "Albania",
          "Andorra",
          "Arab World",
          "United Arab Emirates",
          "Argentina",
          "Armenia",
          "American Samoa",
          "Antigua and Barbuda",
          "Australia",
          "Austria",
          "Azerbaijan",
          "Burundi",
          "Belgium",
          "Benin",
          "Burkina Faso",
          "Bangladesh",
          "Bulgaria",
          "Bahrain",
          "Bahamas, The",
          "Bosnia and Herzegovina",
          "Belarus",
          "Belize",
          "Bermuda",
          "Bolivia",
          "Brazil",
          "Barbados",
          "Brunei Darussalam",
          "Bhutan",
          "Botswana",
          "Central African Republic",
          "Canada",
          "Central Europe and the Baltics",
          "Switzerland",
          "Channel Islands",
          "Chile",
          "China",
          "Cote d'Ivoire",
          "Cameroon",
          "Congo, Dem. Rep.",
          "Congo, Rep.",
          "Colombia",
          "Comoros",
          "Cabo Verde",
          "Costa Rica",
          "Caribbean small states",
          "Cuba",
          "Curacao",
          "Cayman Islands",
          "Cyprus",
          "Czech Republic",
          "Germany",
          "Djibouti",
          "Dominica",
          "Denmark",
          "Dominican Republic",
          "Algeria",
          "East Asia & Pacific (excluding high income)",
          "Early-demographic dividend",
          "East Asia & Pacific",
          "Europe & Central Asia (excluding high income)",
          "Europe & Central Asia",
          "Ecuador",
          "Egypt, Arab Rep.",
          "Euro area",
          "Eritrea",
          "Spain",
          "Estonia",
          "Ethiopia",
          "European Union",
          "Fragile and conflict affected situations",
          "Finland",
          "Fiji",
          "France",
          "Faroe Islands",
          "Micronesia, Fed. Sts.",
          "Gabon",
          "United Kingdom",
          "Georgia",
          "Ghana",
          "Gibraltar",
          "Guinea",
          "Gambia, The",
          "Guinea-Bissau",
          "Equatorial Guinea",
          "Greece",
          "Grenada",
          "Greenland",
          "Guatemala",
          "Guam",
          "Guyana",
          "High income",
          "Hong Kong SAR, China",
          "Honduras",
          "Heavily indebted poor countries (HIPC)",
          "Croatia",
          "Haiti",
          "Hungary",
          "IBRD only",
          "IDA & IBRD total",
          "IDA total",
          "IDA blend",
          "Indonesia",
          "IDA only",
          "Isle of Man",
          "India",
          "Not classified",
          "Ireland",
          "Iran, Islamic Rep.",
          "Iraq",
          "Iceland",
          "Israel",
          "Italy",
          "Jamaica",
          "Jordan",
          "Japan",
          "Kazakhstan",
          "Kenya",
          "Kyrgyz Republic",
          "Cambodia",
          "Kiribati",
          "St. Kitts and Nevis",
          "Korea, Rep.",
          "Kuwait",
          "Latin America & Caribbean (excluding high income)",
          "Lao PDR",
          "Lebanon",
          "Liberia",
          "Libya",
          "St. Lucia",
          "Latin America & Caribbean",
          "Least developed countries: UN classification",
          "Low income",
          "Liechtenstein",
          "Sri Lanka",
          "Lower middle income",
          "Low & middle income",
          "Lesotho",
          "Late-demographic dividend",
          "Lithuania",
          "Luxembourg",
          "Latvia",
          "Macao SAR, China",
          "St. Martin (French part)",
          "Morocco",
          "Monaco",
          "Moldova",
          "Madagascar",
          "Maldives",
          "Middle East & North Africa",
          "Mexico",
          "Marshall Islands",
          "Middle income",
          "Macedonia, FYR",
          "Mali",
          "Malta",
          "Myanmar",
          "Middle East & North Africa (excluding high income)",
          "Montenegro",
          "Mongolia",
          "Northern Mariana Islands",
          "Mozambique",
          "Mauritania",
          "Mauritius",
          "Malawi",
          "Malaysia",
          "North America",
          "Namibia",
          "New Caledonia",
          "Niger",
          "Nigeria",
          "Nicaragua",
          "Netherlands",
          "Norway",
          "Nepal",
          "Nauru",
          "New Zealand",
          "OECD members",
          "Oman",
          "Other small states",
          "Pakistan",
          "Panama",
          "Peru",
          "Philippines",
          "Palau",
          "Papua New Guinea",
          "Poland",
          "Pre-demographic dividend",
          "Puerto Rico",
          "Korea, Dem. People?s Rep.",
          "Portugal",
          "Paraguay",
          "West Bank and Gaza",
          "Pacific island small states",
          "Post-demographic dividend",
          "French Polynesia",
          "Qatar",
          "Romania",
          "Russian Federation",
          "Rwanda",
          "South Asia",
          "Saudi Arabia",
          "Sudan",
          "Senegal",
          "Singapore",
          "Solomon Islands",
          "Sierra Leone",
          "El Salvador",
          "San Marino",
          "Somalia",
          "Serbia",
          "Sub-Saharan Africa (excluding high income)",
          "South Sudan",
          "Sub-Saharan Africa",
          "Small states",
          "Sao Tome and Principe",
          "Suriname",
          "Slovak Republic",
          "Slovenia",
          "Sweden",
          "Swaziland",
          "Sint Maarten (Dutch part)",
          "Seychelles",
          "Syrian Arab Republic",
          "Turks and Caicos Islands"
         ],
         "y": [
          31056997,
          3581655,
          32930091,
          57794,
          71201,
          12127071,
          13477,
          69108,
          39921833,
          2976372,
          71891,
          20264082,
          8192880,
          7961619,
          303770,
          698585,
          147365352,
          279912,
          10293011,
          10379067,
          287730,
          7862944,
          65773,
          2279723,
          8989046,
          4498976,
          1639833,
          188078227,
          23098,
          379444,
          7385367,
          13902972,
          47382633,
          8090068,
          13881427,
          17340702,
          33098932,
          420979,
          45436,
          4303356,
          9944201,
          16134219,
          1313973713,
          43593035,
          690948,
          62660551,
          3702314,
          21388,
          4075261,
          17654843,
          4494749,
          11382820,
          784301,
          10235455,
          5450661,
          486530,
          68910,
          9183984,
          1062777,
          13547510,
          78887007,
          6822378,
          540109,
          4786994,
          1324333,
          74777981,
          47246,
          905949,
          5231372,
          60876136,
          199509,
          274578,
          1424906,
          1641564,
          1428757,
          4661473,
          82422299,
          22409572,
          27928,
          10688058,
          56361,
          89703,
          452776,
          171019,
          12293545,
          65409,
          9690222,
          1442029,
          767245,
          8308504,
          7326496,
          6940432,
          9981334,
          299388,
          1095351995,
          245452739,
          68688433,
          26783383,
          4062235,
          75441,
          6352117,
          58133509,
          2758124,
          127463611,
          91084,
          5906760,
          15233244,
          34707817,
          105432,
          23113019,
          48846823,
          2418393,
          5213898,
          6368481,
          2274735,
          3874050,
          2022331,
          3042004,
          5900754,
          33987,
          3585906,
          474413,
          453125,
          2050554,
          18595469,
          13013926,
          24385858,
          359008,
          11716829,
          400214,
          60422,
          436131,
          3177388,
          1240827,
          201234,
          107449525,
          108004,
          4466706,
          32543,
          2832224,
          9439,
          33241259,
          19686505,
          2044147,
          13287,
          28287147,
          16491461,
          221736,
          219246,
          4076140,
          5570129,
          12525094,
          131859731,
          82459,
          4610820,
          3102229,
          165803560,
          20579,
          3191319,
          5670544,
          6506464,
          28302603,
          89468677,
          38536869,
          10605870,
          3927188,
          885359,
          787584,
          22303552,
          142893540,
          8648248,
          7502,
          39129,
          168458,
          7026,
          117848,
          176908,
          29251,
          193413,
          27019731,
          11987121,
          9396411,
          81541,
          6005250,
          4492150,
          5439448,
          2010347,
          552438,
          8863338,
          44187637,
          40397842,
          20222240,
          41236378,
          439117,
          1136334,
          9016596,
          7523934,
          18881361,
          23036087,
          7320815,
          37445392,
          64631595,
          5548702,
          114689,
          1065842,
          10175014,
          70413958,
          5042920,
          21152,
          11810,
          28195754,
          46710816,
          2602713,
          60609153,
          298444215,
          3431932,
          27307134,
          208869,
          25730435,
          84402966,
          108605,
          16025,
          2460492,
          273008,
          21456188,
          11502010,
          12236805
         ]
        }
       ],
       "layout": {}
      },
      "text/html": [
       "<div id=\"62b70198-1388-4052-a9bb-86e273062eb0\" style=\"height: 525px; width: 100%;\" class=\"plotly-graph-div\"></div><script type=\"text/javascript\">require([\"plotly\"], function(Plotly) { window.PLOTLYENV=window.PLOTLYENV || {};window.PLOTLYENV.BASE_URL=\"https://plot.ly\";Plotly.newPlot(\"62b70198-1388-4052-a9bb-86e273062eb0\", [{\"x\": [\"Aruba\", \"Afghanistan\", \"Angola\", \"Albania\", \"Andorra\", \"Arab World\", \"United Arab Emirates\", \"Argentina\", \"Armenia\", \"American Samoa\", \"Antigua and Barbuda\", \"Australia\", \"Austria\", \"Azerbaijan\", \"Burundi\", \"Belgium\", \"Benin\", \"Burkina Faso\", \"Bangladesh\", \"Bulgaria\", \"Bahrain\", \"Bahamas, The\", \"Bosnia and Herzegovina\", \"Belarus\", \"Belize\", \"Bermuda\", \"Bolivia\", \"Brazil\", \"Barbados\", \"Brunei Darussalam\", \"Bhutan\", \"Botswana\", \"Central African Republic\", \"Canada\", \"Central Europe and the Baltics\", \"Switzerland\", \"Channel Islands\", \"Chile\", \"China\", \"Cote d'Ivoire\", \"Cameroon\", \"Congo, Dem. Rep.\", \"Congo, Rep.\", \"Colombia\", \"Comoros\", \"Cabo Verde\", \"Costa Rica\", \"Caribbean small states\", \"Cuba\", \"Curacao\", \"Cayman Islands\", \"Cyprus\", \"Czech Republic\", \"Germany\", \"Djibouti\", \"Dominica\", \"Denmark\", \"Dominican Republic\", \"Algeria\", \"East Asia & Pacific (excluding high income)\", \"Early-demographic dividend\", \"East Asia & Pacific\", \"Europe & Central Asia (excluding high income)\", \"Europe & Central Asia\", \"Ecuador\", \"Egypt, Arab Rep.\", \"Euro area\", \"Eritrea\", \"Spain\", \"Estonia\", \"Ethiopia\", \"European Union\", \"Fragile and conflict affected situations\", \"Finland\", \"Fiji\", \"France\", \"Faroe Islands\", \"Micronesia, Fed. Sts.\", \"Gabon\", \"United Kingdom\", \"Georgia\", \"Ghana\", \"Gibraltar\", \"Guinea\", \"Gambia, The\", \"Guinea-Bissau\", \"Equatorial Guinea\", \"Greece\", \"Grenada\", \"Greenland\", \"Guatemala\", \"Guam\", \"Guyana\", \"High income\", \"Hong Kong SAR, China\", \"Honduras\", \"Heavily indebted poor countries (HIPC)\", \"Croatia\", \"Haiti\", \"Hungary\", \"IBRD only\", \"IDA & IBRD total\", \"IDA total\", \"IDA blend\", \"Indonesia\", \"IDA only\", \"Isle of Man\", \"India\", \"Not classified\", \"Ireland\", \"Iran, Islamic Rep.\", \"Iraq\", \"Iceland\", \"Israel\", \"Italy\", \"Jamaica\", \"Jordan\", \"Japan\", \"Kazakhstan\", \"Kenya\", \"Kyrgyz Republic\", \"Cambodia\", \"Kiribati\", \"St. Kitts and Nevis\", \"Korea, Rep.\", \"Kuwait\", \"Latin America & Caribbean (excluding high income)\", \"Lao PDR\", \"Lebanon\", \"Liberia\", \"Libya\", \"St. Lucia\", \"Latin America & Caribbean\", \"Least developed countries: UN classification\", \"Low income\", \"Liechtenstein\", \"Sri Lanka\", \"Lower middle income\", \"Low & middle income\", \"Lesotho\", \"Late-demographic dividend\", \"Lithuania\", \"Luxembourg\", \"Latvia\", \"Macao SAR, China\", \"St. Martin (French part)\", \"Morocco\", \"Monaco\", \"Moldova\", \"Madagascar\", \"Maldives\", \"Middle East & North Africa\", \"Mexico\", \"Marshall Islands\", \"Middle income\", \"Macedonia, FYR\", \"Mali\", \"Malta\", \"Myanmar\", \"Middle East & North Africa (excluding high income)\", \"Montenegro\", \"Mongolia\", \"Northern Mariana Islands\", \"Mozambique\", \"Mauritania\", \"Mauritius\", \"Malawi\", \"Malaysia\", \"North America\", \"Namibia\", \"New Caledonia\", \"Niger\", \"Nigeria\", \"Nicaragua\", \"Netherlands\", \"Norway\", \"Nepal\", \"Nauru\", \"New Zealand\", \"OECD members\", \"Oman\", \"Other small states\", \"Pakistan\", \"Panama\", \"Peru\", \"Philippines\", \"Palau\", \"Papua New Guinea\", \"Poland\", \"Pre-demographic dividend\", \"Puerto Rico\", \"Korea, Dem. People?s Rep.\", \"Portugal\", \"Paraguay\", \"West Bank and Gaza\", \"Pacific island small states\", \"Post-demographic dividend\", \"French Polynesia\", \"Qatar\", \"Romania\", \"Russian Federation\", \"Rwanda\", \"South Asia\", \"Saudi Arabia\", \"Sudan\", \"Senegal\", \"Singapore\", \"Solomon Islands\", \"Sierra Leone\", \"El Salvador\", \"San Marino\", \"Somalia\", \"Serbia\", \"Sub-Saharan Africa (excluding high income)\", \"South Sudan\", \"Sub-Saharan Africa\", \"Small states\", \"Sao Tome and Principe\", \"Suriname\", \"Slovak Republic\", \"Slovenia\", \"Sweden\", \"Swaziland\", \"Sint Maarten (Dutch part)\", \"Seychelles\", \"Syrian Arab Republic\", \"Turks and Caicos Islands\"], \"y\": [46.6, 15.11, 17.14, 22.46, 8.71, 45.11, 14.17, 16.93, 16.73, 12.07, 11.03, 12.14, 8.74, 20.74, 17.57, 17.8, 29.8, 12.71, 11.16, 10.38, 28.84, 38.85, 11.4, 33.65, 23.3, 8.77, 23.08, 16.56, 14.89, 18.79, 9.65, 45.62, 17.91, 42.22, 26.9, 33.89, 10.78, 24.87, 12.74, 33.91, 45.73, 15.23, 13.25, 20.48, 36.93, 43.69, 42.57, 21.0, 18.32, 35.11, 9.61, 11.89, 12.56, 9.02, 11.13, 39.53, 15.27, 23.22, 26.99, 22.29, 22.94, 26.61, 35.59, 34.33, 10.04, 37.98, 14.05, 22.55, 10.45, 11.99, 20.46, 16.68, 36.16, 39.37, 39.45, 10.41, 8.25, 30.52, 10.74, 9.68, 15.93, 22.08, 15.05, 18.79, 29.88, 8.81, 41.76, 37.22, 18.28, 36.44, 28.24, 7.29, 9.72, 13.64, 22.01, 20.34, 17.0, 31.98, 14.45, 11.05, 17.97, 8.72, 20.82, 9.37, 9.3, 21.25, 16.0, 39.72, 30.65, 15.54, 10.0, 21.94, 22.8, 35.49, 9.24, 18.52, 24.75, 44.77, 26.49, 10.21, 8.75, 11.94, 8.48, 12.02, 41.41, 43.13, 22.86, 34.81, 49.82, 10.22, 33.05, 13.74, 40.99, 15.43, 40.95, 20.69, 24.68, 15.7, 9.19, 21.59, 17.59, 21.98, 35.18, 24.32, 24.76, 30.98, 10.9, 14.78, 18.11, 13.76, 24.51, 50.73, 40.43, 19.43, 11.46, 36.24, 29.74, 18.03, 21.74, 29.36, 29.1, 20.48, 24.89, 9.85, 10.72, 12.77, 15.56, 18.9, 10.7, 9.95, 40.37, 12.13, 18.02, 19.68, 13.52, 16.18, 16.43, 10.02, 40.25, 29.34, 32.78, null, 16.03, 45.76, 9.34, 10.65, 8.98, 30.01, 45.13, 18.2, 10.06, 15.51, 34.53, 18.02, 27.41, 10.27, 9.71, 27.76, 12.56, 32.65, 37.71, 13.87, 37.01, 25.37, 12.9, 15.52, 16.62, 27.61, 21.84, 22.18, 47.35, 8.82, 18.96, 10.71, 14.14, 13.91, 26.36, 22.72, 18.71, 16.86, 13.96, null, 31.67, null, 42.89, 41.0, 28.01], \"type\": \"scatter\", \"uid\": \"f579eeae-a321-11e8-ae72-b88a605d4570\"}, {\"x\": [\"Aruba\", \"Afghanistan\", \"Angola\", \"Albania\", \"Andorra\", \"Arab World\", \"United Arab Emirates\", \"Argentina\", \"Armenia\", \"American Samoa\", \"Antigua and Barbuda\", \"Australia\", \"Austria\", \"Azerbaijan\", \"Burundi\", \"Belgium\", \"Benin\", \"Burkina Faso\", \"Bangladesh\", \"Bulgaria\", \"Bahrain\", \"Bahamas, The\", \"Bosnia and Herzegovina\", \"Belarus\", \"Belize\", \"Bermuda\", \"Bolivia\", \"Brazil\", \"Barbados\", \"Brunei Darussalam\", \"Bhutan\", \"Botswana\", \"Central African Republic\", \"Canada\", \"Central Europe and the Baltics\", \"Switzerland\", \"Channel Islands\", \"Chile\", \"China\", \"Cote d'Ivoire\", \"Cameroon\", \"Congo, Dem. Rep.\", \"Congo, Rep.\", \"Colombia\", \"Comoros\", \"Cabo Verde\", \"Costa Rica\", \"Caribbean small states\", \"Cuba\", \"Curacao\", \"Cayman Islands\", \"Cyprus\", \"Czech Republic\", \"Germany\", \"Djibouti\", \"Dominica\", \"Denmark\", \"Dominican Republic\", \"Algeria\", \"East Asia & Pacific (excluding high income)\", \"Early-demographic dividend\", \"East Asia & Pacific\", \"Europe & Central Asia (excluding high income)\", \"Europe & Central Asia\", \"Ecuador\", \"Egypt, Arab Rep.\", \"Euro area\", \"Eritrea\", \"Spain\", \"Estonia\", \"Ethiopia\", \"European Union\", \"Fragile and conflict affected situations\", \"Finland\", \"Fiji\", \"France\", \"Faroe Islands\", \"Micronesia, Fed. Sts.\", \"Gabon\", \"United Kingdom\", \"Georgia\", \"Ghana\", \"Gibraltar\", \"Guinea\", \"Gambia, The\", \"Guinea-Bissau\", \"Equatorial Guinea\", \"Greece\", \"Grenada\", \"Greenland\", \"Guatemala\", \"Guam\", \"Guyana\", \"High income\", \"Hong Kong SAR, China\", \"Honduras\", \"Heavily indebted poor countries (HIPC)\", \"Croatia\", \"Haiti\", \"Hungary\", \"IBRD only\", \"IDA & IBRD total\", \"IDA total\", \"IDA blend\", \"Indonesia\", \"IDA only\", \"Isle of Man\", \"India\", \"Not classified\", \"Ireland\", \"Iran, Islamic Rep.\", \"Iraq\", \"Iceland\", \"Israel\", \"Italy\", \"Jamaica\", \"Jordan\", \"Japan\", \"Kazakhstan\", \"Kenya\", \"Kyrgyz Republic\", \"Cambodia\", \"Kiribati\", \"St. Kitts and Nevis\", \"Korea, Rep.\", \"Kuwait\", \"Latin America & Caribbean (excluding high income)\", \"Lao PDR\", \"Lebanon\", \"Liberia\", \"Libya\", \"St. Lucia\", \"Latin America & Caribbean\", \"Least developed countries: UN classification\", \"Low income\", \"Liechtenstein\", \"Sri Lanka\", \"Lower middle income\", \"Low & middle income\", \"Lesotho\", \"Late-demographic dividend\", \"Lithuania\", \"Luxembourg\", \"Latvia\", \"Macao SAR, China\", \"St. Martin (French part)\", \"Morocco\", \"Monaco\", \"Moldova\", \"Madagascar\", \"Maldives\", \"Middle East & North Africa\", \"Mexico\", \"Marshall Islands\", \"Middle income\", \"Macedonia, FYR\", \"Mali\", \"Malta\", \"Myanmar\", \"Middle East & North Africa (excluding high income)\", \"Montenegro\", \"Mongolia\", \"Northern Mariana Islands\", \"Mozambique\", \"Mauritania\", \"Mauritius\", \"Malawi\", \"Malaysia\", \"North America\", \"Namibia\", \"New Caledonia\", \"Niger\", \"Nigeria\", \"Nicaragua\", \"Netherlands\", \"Norway\", \"Nepal\", \"Nauru\", \"New Zealand\", \"OECD members\", \"Oman\", \"Other small states\", \"Pakistan\", \"Panama\", \"Peru\", \"Philippines\", \"Palau\", \"Papua New Guinea\", \"Poland\", \"Pre-demographic dividend\", \"Puerto Rico\", \"Korea, Dem. People?s Rep.\", \"Portugal\", \"Paraguay\", \"West Bank and Gaza\", \"Pacific island small states\", \"Post-demographic dividend\", \"French Polynesia\", \"Qatar\", \"Romania\", \"Russian Federation\", \"Rwanda\", \"South Asia\", \"Saudi Arabia\", \"Sudan\", \"Senegal\", \"Singapore\", \"Solomon Islands\", \"Sierra Leone\", \"El Salvador\", \"San Marino\", \"Somalia\", \"Serbia\", \"Sub-Saharan Africa (excluding high income)\", \"South Sudan\", \"Sub-Saharan Africa\", \"Small states\", \"Sao Tome and Principe\", \"Suriname\", \"Slovak Republic\", \"Slovenia\", \"Sweden\", \"Swaziland\", \"Sint Maarten (Dutch part)\", \"Seychelles\", \"Syrian Arab Republic\", \"Turks and Caicos Islands\"], \"y\": [31056997.0, 3581655.0, 32930091.0, 57794.0, 71201.0, 12127071.0, 13477.0, 69108.0, 39921833.0, 2976372.0, 71891.0, 20264082.0, 8192880.0, 7961619.0, 303770.0, 698585.0, 147365352.0, 279912.0, 10293011.0, 10379067.0, 287730.0, 7862944.0, 65773.0, 2279723.0, 8989046.0, 4498976.0, 1639833.0, 188078227.0, 23098.0, 379444.0, 7385367.0, 13902972.0, 47382633.0, 8090068.0, 13881427.0, 17340702.0, 33098932.0, 420979.0, 45436.0, 4303356.0, 9944201.0, 16134219.0, 1313973713.0, 43593035.0, 690948.0, 62660551.0, 3702314.0, 21388.0, 4075261.0, 17654843.0, 4494749.0, 11382820.0, 784301.0, 10235455.0, 5450661.0, 486530.0, 68910.0, 9183984.0, 1062777.0, 13547510.0, 78887007.0, 6822378.0, 540109.0, 4786994.0, 1324333.0, 74777981.0, 47246.0, 905949.0, 5231372.0, 60876136.0, 199509.0, 274578.0, 1424906.0, 1641564.0, 1428757.0, 4661473.0, 82422299.0, 22409572.0, 27928.0, 10688058.0, 56361.0, 89703.0, 452776.0, 171019.0, 12293545.0, 65409.0, 9690222.0, 1442029.0, 767245.0, 8308504.0, 7326496.0, 6940432.0, 9981334.0, 299388.0, 1095351995.0, 245452739.0, 68688433.0, 26783383.0, 4062235.0, 75441.0, 6352117.0, 58133509.0, 2758124.0, 127463611.0, 91084.0, 5906760.0, 15233244.0, 34707817.0, 105432.0, 23113019.0, 48846823.0, 2418393.0, 5213898.0, 6368481.0, 2274735.0, 3874050.0, 2022331.0, 3042004.0, 5900754.0, 33987.0, 3585906.0, 474413.0, 453125.0, 2050554.0, 18595469.0, 13013926.0, 24385858.0, 359008.0, 11716829.0, 400214.0, 60422.0, 436131.0, 3177388.0, 1240827.0, 201234.0, 107449525.0, 108004.0, 4466706.0, 32543.0, 2832224.0, 9439.0, 33241259.0, 19686505.0, 2044147.0, 13287.0, 28287147.0, 16491461.0, 221736.0, 219246.0, 4076140.0, 5570129.0, 12525094.0, 131859731.0, 82459.0, 4610820.0, 3102229.0, 165803560.0, 20579.0, 3191319.0, 5670544.0, 6506464.0, 28302603.0, 89468677.0, 38536869.0, 10605870.0, 3927188.0, 885359.0, 787584.0, 22303552.0, 142893540.0, 8648248.0, 7502.0, 39129.0, 168458.0, 7026.0, 117848.0, 176908.0, 29251.0, 193413.0, 27019731.0, 11987121.0, 9396411.0, 81541.0, 6005250.0, 4492150.0, 5439448.0, 2010347.0, 552438.0, 8863338.0, 44187637.0, 40397842.0, 20222240.0, 41236378.0, 439117.0, 1136334.0, 9016596.0, 7523934.0, 18881361.0, 23036087.0, 7320815.0, 37445392.0, 64631595.0, 5548702.0, 114689.0, 1065842.0, 10175014.0, 70413958.0, 5042920.0, 21152.0, 11810.0, 28195754.0, 46710816.0, 2602713.0, 60609153.0, 298444215.0, 3431932.0, 27307134.0, 208869.0, 25730435.0, 84402966.0, 108605.0, 16025.0, 2460492.0, 273008.0, 21456188.0, 11502010.0, 12236805.0], \"type\": \"scatter\", \"uid\": \"f579eeaf-a321-11e8-a762-b88a605d4570\"}], {}, {\"showLink\": true, \"linkText\": \"Export to plot.ly\"})});</script>"
      ],
      "text/vnd.plotly.v1+html": [
       "<div id=\"62b70198-1388-4052-a9bb-86e273062eb0\" style=\"height: 525px; width: 100%;\" class=\"plotly-graph-div\"></div><script type=\"text/javascript\">require([\"plotly\"], function(Plotly) { window.PLOTLYENV=window.PLOTLYENV || {};window.PLOTLYENV.BASE_URL=\"https://plot.ly\";Plotly.newPlot(\"62b70198-1388-4052-a9bb-86e273062eb0\", [{\"x\": [\"Aruba\", \"Afghanistan\", \"Angola\", \"Albania\", \"Andorra\", \"Arab World\", \"United Arab Emirates\", \"Argentina\", \"Armenia\", \"American Samoa\", \"Antigua and Barbuda\", \"Australia\", \"Austria\", \"Azerbaijan\", \"Burundi\", \"Belgium\", \"Benin\", \"Burkina Faso\", \"Bangladesh\", \"Bulgaria\", \"Bahrain\", \"Bahamas, The\", \"Bosnia and Herzegovina\", \"Belarus\", \"Belize\", \"Bermuda\", \"Bolivia\", \"Brazil\", \"Barbados\", \"Brunei Darussalam\", \"Bhutan\", \"Botswana\", \"Central African Republic\", \"Canada\", \"Central Europe and the Baltics\", \"Switzerland\", \"Channel Islands\", \"Chile\", \"China\", \"Cote d'Ivoire\", \"Cameroon\", \"Congo, Dem. Rep.\", \"Congo, Rep.\", \"Colombia\", \"Comoros\", \"Cabo Verde\", \"Costa Rica\", \"Caribbean small states\", \"Cuba\", \"Curacao\", \"Cayman Islands\", \"Cyprus\", \"Czech Republic\", \"Germany\", \"Djibouti\", \"Dominica\", \"Denmark\", \"Dominican Republic\", \"Algeria\", \"East Asia & Pacific (excluding high income)\", \"Early-demographic dividend\", \"East Asia & Pacific\", \"Europe & Central Asia (excluding high income)\", \"Europe & Central Asia\", \"Ecuador\", \"Egypt, Arab Rep.\", \"Euro area\", \"Eritrea\", \"Spain\", \"Estonia\", \"Ethiopia\", \"European Union\", \"Fragile and conflict affected situations\", \"Finland\", \"Fiji\", \"France\", \"Faroe Islands\", \"Micronesia, Fed. Sts.\", \"Gabon\", \"United Kingdom\", \"Georgia\", \"Ghana\", \"Gibraltar\", \"Guinea\", \"Gambia, The\", \"Guinea-Bissau\", \"Equatorial Guinea\", \"Greece\", \"Grenada\", \"Greenland\", \"Guatemala\", \"Guam\", \"Guyana\", \"High income\", \"Hong Kong SAR, China\", \"Honduras\", \"Heavily indebted poor countries (HIPC)\", \"Croatia\", \"Haiti\", \"Hungary\", \"IBRD only\", \"IDA & IBRD total\", \"IDA total\", \"IDA blend\", \"Indonesia\", \"IDA only\", \"Isle of Man\", \"India\", \"Not classified\", \"Ireland\", \"Iran, Islamic Rep.\", \"Iraq\", \"Iceland\", \"Israel\", \"Italy\", \"Jamaica\", \"Jordan\", \"Japan\", \"Kazakhstan\", \"Kenya\", \"Kyrgyz Republic\", \"Cambodia\", \"Kiribati\", \"St. Kitts and Nevis\", \"Korea, Rep.\", \"Kuwait\", \"Latin America & Caribbean (excluding high income)\", \"Lao PDR\", \"Lebanon\", \"Liberia\", \"Libya\", \"St. Lucia\", \"Latin America & Caribbean\", \"Least developed countries: UN classification\", \"Low income\", \"Liechtenstein\", \"Sri Lanka\", \"Lower middle income\", \"Low & middle income\", \"Lesotho\", \"Late-demographic dividend\", \"Lithuania\", \"Luxembourg\", \"Latvia\", \"Macao SAR, China\", \"St. Martin (French part)\", \"Morocco\", \"Monaco\", \"Moldova\", \"Madagascar\", \"Maldives\", \"Middle East & North Africa\", \"Mexico\", \"Marshall Islands\", \"Middle income\", \"Macedonia, FYR\", \"Mali\", \"Malta\", \"Myanmar\", \"Middle East & North Africa (excluding high income)\", \"Montenegro\", \"Mongolia\", \"Northern Mariana Islands\", \"Mozambique\", \"Mauritania\", \"Mauritius\", \"Malawi\", \"Malaysia\", \"North America\", \"Namibia\", \"New Caledonia\", \"Niger\", \"Nigeria\", \"Nicaragua\", \"Netherlands\", \"Norway\", \"Nepal\", \"Nauru\", \"New Zealand\", \"OECD members\", \"Oman\", \"Other small states\", \"Pakistan\", \"Panama\", \"Peru\", \"Philippines\", \"Palau\", \"Papua New Guinea\", \"Poland\", \"Pre-demographic dividend\", \"Puerto Rico\", \"Korea, Dem. People?s Rep.\", \"Portugal\", \"Paraguay\", \"West Bank and Gaza\", \"Pacific island small states\", \"Post-demographic dividend\", \"French Polynesia\", \"Qatar\", \"Romania\", \"Russian Federation\", \"Rwanda\", \"South Asia\", \"Saudi Arabia\", \"Sudan\", \"Senegal\", \"Singapore\", \"Solomon Islands\", \"Sierra Leone\", \"El Salvador\", \"San Marino\", \"Somalia\", \"Serbia\", \"Sub-Saharan Africa (excluding high income)\", \"South Sudan\", \"Sub-Saharan Africa\", \"Small states\", \"Sao Tome and Principe\", \"Suriname\", \"Slovak Republic\", \"Slovenia\", \"Sweden\", \"Swaziland\", \"Sint Maarten (Dutch part)\", \"Seychelles\", \"Syrian Arab Republic\", \"Turks and Caicos Islands\"], \"y\": [46.6, 15.11, 17.14, 22.46, 8.71, 45.11, 14.17, 16.93, 16.73, 12.07, 11.03, 12.14, 8.74, 20.74, 17.57, 17.8, 29.8, 12.71, 11.16, 10.38, 28.84, 38.85, 11.4, 33.65, 23.3, 8.77, 23.08, 16.56, 14.89, 18.79, 9.65, 45.62, 17.91, 42.22, 26.9, 33.89, 10.78, 24.87, 12.74, 33.91, 45.73, 15.23, 13.25, 20.48, 36.93, 43.69, 42.57, 21.0, 18.32, 35.11, 9.61, 11.89, 12.56, 9.02, 11.13, 39.53, 15.27, 23.22, 26.99, 22.29, 22.94, 26.61, 35.59, 34.33, 10.04, 37.98, 14.05, 22.55, 10.45, 11.99, 20.46, 16.68, 36.16, 39.37, 39.45, 10.41, 8.25, 30.52, 10.74, 9.68, 15.93, 22.08, 15.05, 18.79, 29.88, 8.81, 41.76, 37.22, 18.28, 36.44, 28.24, 7.29, 9.72, 13.64, 22.01, 20.34, 17.0, 31.98, 14.45, 11.05, 17.97, 8.72, 20.82, 9.37, 9.3, 21.25, 16.0, 39.72, 30.65, 15.54, 10.0, 21.94, 22.8, 35.49, 9.24, 18.52, 24.75, 44.77, 26.49, 10.21, 8.75, 11.94, 8.48, 12.02, 41.41, 43.13, 22.86, 34.81, 49.82, 10.22, 33.05, 13.74, 40.99, 15.43, 40.95, 20.69, 24.68, 15.7, 9.19, 21.59, 17.59, 21.98, 35.18, 24.32, 24.76, 30.98, 10.9, 14.78, 18.11, 13.76, 24.51, 50.73, 40.43, 19.43, 11.46, 36.24, 29.74, 18.03, 21.74, 29.36, 29.1, 20.48, 24.89, 9.85, 10.72, 12.77, 15.56, 18.9, 10.7, 9.95, 40.37, 12.13, 18.02, 19.68, 13.52, 16.18, 16.43, 10.02, 40.25, 29.34, 32.78, null, 16.03, 45.76, 9.34, 10.65, 8.98, 30.01, 45.13, 18.2, 10.06, 15.51, 34.53, 18.02, 27.41, 10.27, 9.71, 27.76, 12.56, 32.65, 37.71, 13.87, 37.01, 25.37, 12.9, 15.52, 16.62, 27.61, 21.84, 22.18, 47.35, 8.82, 18.96, 10.71, 14.14, 13.91, 26.36, 22.72, 18.71, 16.86, 13.96, null, 31.67, null, 42.89, 41.0, 28.01], \"type\": \"scatter\", \"uid\": \"f579eeae-a321-11e8-ae72-b88a605d4570\"}, {\"x\": [\"Aruba\", \"Afghanistan\", \"Angola\", \"Albania\", \"Andorra\", \"Arab World\", \"United Arab Emirates\", \"Argentina\", \"Armenia\", \"American Samoa\", \"Antigua and Barbuda\", \"Australia\", \"Austria\", \"Azerbaijan\", \"Burundi\", \"Belgium\", \"Benin\", \"Burkina Faso\", \"Bangladesh\", \"Bulgaria\", \"Bahrain\", \"Bahamas, The\", \"Bosnia and Herzegovina\", \"Belarus\", \"Belize\", \"Bermuda\", \"Bolivia\", \"Brazil\", \"Barbados\", \"Brunei Darussalam\", \"Bhutan\", \"Botswana\", \"Central African Republic\", \"Canada\", \"Central Europe and the Baltics\", \"Switzerland\", \"Channel Islands\", \"Chile\", \"China\", \"Cote d'Ivoire\", \"Cameroon\", \"Congo, Dem. Rep.\", \"Congo, Rep.\", \"Colombia\", \"Comoros\", \"Cabo Verde\", \"Costa Rica\", \"Caribbean small states\", \"Cuba\", \"Curacao\", \"Cayman Islands\", \"Cyprus\", \"Czech Republic\", \"Germany\", \"Djibouti\", \"Dominica\", \"Denmark\", \"Dominican Republic\", \"Algeria\", \"East Asia & Pacific (excluding high income)\", \"Early-demographic dividend\", \"East Asia & Pacific\", \"Europe & Central Asia (excluding high income)\", \"Europe & Central Asia\", \"Ecuador\", \"Egypt, Arab Rep.\", \"Euro area\", \"Eritrea\", \"Spain\", \"Estonia\", \"Ethiopia\", \"European Union\", \"Fragile and conflict affected situations\", \"Finland\", \"Fiji\", \"France\", \"Faroe Islands\", \"Micronesia, Fed. Sts.\", \"Gabon\", \"United Kingdom\", \"Georgia\", \"Ghana\", \"Gibraltar\", \"Guinea\", \"Gambia, The\", \"Guinea-Bissau\", \"Equatorial Guinea\", \"Greece\", \"Grenada\", \"Greenland\", \"Guatemala\", \"Guam\", \"Guyana\", \"High income\", \"Hong Kong SAR, China\", \"Honduras\", \"Heavily indebted poor countries (HIPC)\", \"Croatia\", \"Haiti\", \"Hungary\", \"IBRD only\", \"IDA & IBRD total\", \"IDA total\", \"IDA blend\", \"Indonesia\", \"IDA only\", \"Isle of Man\", \"India\", \"Not classified\", \"Ireland\", \"Iran, Islamic Rep.\", \"Iraq\", \"Iceland\", \"Israel\", \"Italy\", \"Jamaica\", \"Jordan\", \"Japan\", \"Kazakhstan\", \"Kenya\", \"Kyrgyz Republic\", \"Cambodia\", \"Kiribati\", \"St. Kitts and Nevis\", \"Korea, Rep.\", \"Kuwait\", \"Latin America & Caribbean (excluding high income)\", \"Lao PDR\", \"Lebanon\", \"Liberia\", \"Libya\", \"St. Lucia\", \"Latin America & Caribbean\", \"Least developed countries: UN classification\", \"Low income\", \"Liechtenstein\", \"Sri Lanka\", \"Lower middle income\", \"Low & middle income\", \"Lesotho\", \"Late-demographic dividend\", \"Lithuania\", \"Luxembourg\", \"Latvia\", \"Macao SAR, China\", \"St. Martin (French part)\", \"Morocco\", \"Monaco\", \"Moldova\", \"Madagascar\", \"Maldives\", \"Middle East & North Africa\", \"Mexico\", \"Marshall Islands\", \"Middle income\", \"Macedonia, FYR\", \"Mali\", \"Malta\", \"Myanmar\", \"Middle East & North Africa (excluding high income)\", \"Montenegro\", \"Mongolia\", \"Northern Mariana Islands\", \"Mozambique\", \"Mauritania\", \"Mauritius\", \"Malawi\", \"Malaysia\", \"North America\", \"Namibia\", \"New Caledonia\", \"Niger\", \"Nigeria\", \"Nicaragua\", \"Netherlands\", \"Norway\", \"Nepal\", \"Nauru\", \"New Zealand\", \"OECD members\", \"Oman\", \"Other small states\", \"Pakistan\", \"Panama\", \"Peru\", \"Philippines\", \"Palau\", \"Papua New Guinea\", \"Poland\", \"Pre-demographic dividend\", \"Puerto Rico\", \"Korea, Dem. People?s Rep.\", \"Portugal\", \"Paraguay\", \"West Bank and Gaza\", \"Pacific island small states\", \"Post-demographic dividend\", \"French Polynesia\", \"Qatar\", \"Romania\", \"Russian Federation\", \"Rwanda\", \"South Asia\", \"Saudi Arabia\", \"Sudan\", \"Senegal\", \"Singapore\", \"Solomon Islands\", \"Sierra Leone\", \"El Salvador\", \"San Marino\", \"Somalia\", \"Serbia\", \"Sub-Saharan Africa (excluding high income)\", \"South Sudan\", \"Sub-Saharan Africa\", \"Small states\", \"Sao Tome and Principe\", \"Suriname\", \"Slovak Republic\", \"Slovenia\", \"Sweden\", \"Swaziland\", \"Sint Maarten (Dutch part)\", \"Seychelles\", \"Syrian Arab Republic\", \"Turks and Caicos Islands\"], \"y\": [31056997.0, 3581655.0, 32930091.0, 57794.0, 71201.0, 12127071.0, 13477.0, 69108.0, 39921833.0, 2976372.0, 71891.0, 20264082.0, 8192880.0, 7961619.0, 303770.0, 698585.0, 147365352.0, 279912.0, 10293011.0, 10379067.0, 287730.0, 7862944.0, 65773.0, 2279723.0, 8989046.0, 4498976.0, 1639833.0, 188078227.0, 23098.0, 379444.0, 7385367.0, 13902972.0, 47382633.0, 8090068.0, 13881427.0, 17340702.0, 33098932.0, 420979.0, 45436.0, 4303356.0, 9944201.0, 16134219.0, 1313973713.0, 43593035.0, 690948.0, 62660551.0, 3702314.0, 21388.0, 4075261.0, 17654843.0, 4494749.0, 11382820.0, 784301.0, 10235455.0, 5450661.0, 486530.0, 68910.0, 9183984.0, 1062777.0, 13547510.0, 78887007.0, 6822378.0, 540109.0, 4786994.0, 1324333.0, 74777981.0, 47246.0, 905949.0, 5231372.0, 60876136.0, 199509.0, 274578.0, 1424906.0, 1641564.0, 1428757.0, 4661473.0, 82422299.0, 22409572.0, 27928.0, 10688058.0, 56361.0, 89703.0, 452776.0, 171019.0, 12293545.0, 65409.0, 9690222.0, 1442029.0, 767245.0, 8308504.0, 7326496.0, 6940432.0, 9981334.0, 299388.0, 1095351995.0, 245452739.0, 68688433.0, 26783383.0, 4062235.0, 75441.0, 6352117.0, 58133509.0, 2758124.0, 127463611.0, 91084.0, 5906760.0, 15233244.0, 34707817.0, 105432.0, 23113019.0, 48846823.0, 2418393.0, 5213898.0, 6368481.0, 2274735.0, 3874050.0, 2022331.0, 3042004.0, 5900754.0, 33987.0, 3585906.0, 474413.0, 453125.0, 2050554.0, 18595469.0, 13013926.0, 24385858.0, 359008.0, 11716829.0, 400214.0, 60422.0, 436131.0, 3177388.0, 1240827.0, 201234.0, 107449525.0, 108004.0, 4466706.0, 32543.0, 2832224.0, 9439.0, 33241259.0, 19686505.0, 2044147.0, 13287.0, 28287147.0, 16491461.0, 221736.0, 219246.0, 4076140.0, 5570129.0, 12525094.0, 131859731.0, 82459.0, 4610820.0, 3102229.0, 165803560.0, 20579.0, 3191319.0, 5670544.0, 6506464.0, 28302603.0, 89468677.0, 38536869.0, 10605870.0, 3927188.0, 885359.0, 787584.0, 22303552.0, 142893540.0, 8648248.0, 7502.0, 39129.0, 168458.0, 7026.0, 117848.0, 176908.0, 29251.0, 193413.0, 27019731.0, 11987121.0, 9396411.0, 81541.0, 6005250.0, 4492150.0, 5439448.0, 2010347.0, 552438.0, 8863338.0, 44187637.0, 40397842.0, 20222240.0, 41236378.0, 439117.0, 1136334.0, 9016596.0, 7523934.0, 18881361.0, 23036087.0, 7320815.0, 37445392.0, 64631595.0, 5548702.0, 114689.0, 1065842.0, 10175014.0, 70413958.0, 5042920.0, 21152.0, 11810.0, 28195754.0, 46710816.0, 2602713.0, 60609153.0, 298444215.0, 3431932.0, 27307134.0, 208869.0, 25730435.0, 84402966.0, 108605.0, 16025.0, 2460492.0, 273008.0, 21456188.0, 11502010.0, 12236805.0], \"type\": \"scatter\", \"uid\": \"f579eeaf-a321-11e8-a762-b88a605d4570\"}], {}, {\"showLink\": true, \"linkText\": \"Export to plot.ly\"})});</script>"
      ]
     },
     "metadata": {},
     "output_type": "display_data"
    }
   ],
   "source": [
    "# View dashboard offline\n",
    "plotly.offline.iplot(data, filename='birthrate_population_by_country') "
   ]
  },
  {
   "cell_type": "code",
   "execution_count": 13,
   "metadata": {},
   "outputs": [
    {
     "data": {
      "text/html": [
       "<iframe id=\"igraph\" scrolling=\"no\" style=\"border:none;\" seamless=\"seamless\" src=\"https://plot.ly/~jasmin.c.johnson/26.embed\" height=\"525px\" width=\"100%\"></iframe>"
      ],
      "text/plain": [
       "<plotly.tools.PlotlyDisplay object>"
      ]
     },
     "execution_count": 13,
     "metadata": {},
     "output_type": "execute_result"
    }
   ],
   "source": [
    "import plotly\n",
    "import plotly.graph_objs as go\n",
    "\n",
    "# plotly.offline.init_notebook_mode(connected=True)\n",
    "\n",
    "# View online\n",
    "py.iplot({\n",
    "    \"data\": [go.Scatter(x= df.CountryName, y= df.Birthrate)],\n",
    "    \"layout\": go.Layout(title=\"Birthrate_by_Country\")\n",
    "})"
   ]
  },
  {
   "cell_type": "code",
   "execution_count": 14,
   "metadata": {},
   "outputs": [
    {
     "data": {
      "application/vnd.plotly.v1+json": {
       "data": [
        {
         "type": "scatter",
         "uid": "0e7c8c48-a322-11e8-b88e-b88a605d4570",
         "x": [
          "Aruba",
          "Afghanistan",
          "Angola",
          "Albania",
          "Andorra",
          "Arab World",
          "United Arab Emirates",
          "Argentina",
          "Armenia",
          "American Samoa",
          "Antigua and Barbuda",
          "Australia",
          "Austria",
          "Azerbaijan",
          "Burundi",
          "Belgium",
          "Benin",
          "Burkina Faso",
          "Bangladesh",
          "Bulgaria",
          "Bahrain",
          "Bahamas, The",
          "Bosnia and Herzegovina",
          "Belarus",
          "Belize",
          "Bermuda",
          "Bolivia",
          "Brazil",
          "Barbados",
          "Brunei Darussalam",
          "Bhutan",
          "Botswana",
          "Central African Republic",
          "Canada",
          "Central Europe and the Baltics",
          "Switzerland",
          "Channel Islands",
          "Chile",
          "China",
          "Cote d'Ivoire",
          "Cameroon",
          "Congo, Dem. Rep.",
          "Congo, Rep.",
          "Colombia",
          "Comoros",
          "Cabo Verde",
          "Costa Rica",
          "Caribbean small states",
          "Cuba",
          "Curacao",
          "Cayman Islands",
          "Cyprus",
          "Czech Republic",
          "Germany",
          "Djibouti",
          "Dominica",
          "Denmark",
          "Dominican Republic",
          "Algeria",
          "East Asia & Pacific (excluding high income)",
          "Early-demographic dividend",
          "East Asia & Pacific",
          "Europe & Central Asia (excluding high income)",
          "Europe & Central Asia",
          "Ecuador",
          "Egypt, Arab Rep.",
          "Euro area",
          "Eritrea",
          "Spain",
          "Estonia",
          "Ethiopia",
          "European Union",
          "Fragile and conflict affected situations",
          "Finland",
          "Fiji",
          "France",
          "Faroe Islands",
          "Micronesia, Fed. Sts.",
          "Gabon",
          "United Kingdom",
          "Georgia",
          "Ghana",
          "Gibraltar",
          "Guinea",
          "Gambia, The",
          "Guinea-Bissau",
          "Equatorial Guinea",
          "Greece",
          "Grenada",
          "Greenland",
          "Guatemala",
          "Guam",
          "Guyana",
          "High income",
          "Hong Kong SAR, China",
          "Honduras",
          "Heavily indebted poor countries (HIPC)",
          "Croatia",
          "Haiti",
          "Hungary",
          "IBRD only",
          "IDA & IBRD total",
          "IDA total",
          "IDA blend",
          "Indonesia",
          "IDA only",
          "Isle of Man",
          "India",
          "Not classified",
          "Ireland",
          "Iran, Islamic Rep.",
          "Iraq",
          "Iceland",
          "Israel",
          "Italy",
          "Jamaica",
          "Jordan",
          "Japan",
          "Kazakhstan",
          "Kenya",
          "Kyrgyz Republic",
          "Cambodia",
          "Kiribati",
          "St. Kitts and Nevis",
          "Korea, Rep.",
          "Kuwait",
          "Latin America & Caribbean (excluding high income)",
          "Lao PDR",
          "Lebanon",
          "Liberia",
          "Libya",
          "St. Lucia",
          "Latin America & Caribbean",
          "Least developed countries: UN classification",
          "Low income",
          "Liechtenstein",
          "Sri Lanka",
          "Lower middle income",
          "Low & middle income",
          "Lesotho",
          "Late-demographic dividend",
          "Lithuania",
          "Luxembourg",
          "Latvia",
          "Macao SAR, China",
          "St. Martin (French part)",
          "Morocco",
          "Monaco",
          "Moldova",
          "Madagascar",
          "Maldives",
          "Middle East & North Africa",
          "Mexico",
          "Marshall Islands",
          "Middle income",
          "Macedonia, FYR",
          "Mali",
          "Malta",
          "Myanmar",
          "Middle East & North Africa (excluding high income)",
          "Montenegro",
          "Mongolia",
          "Northern Mariana Islands",
          "Mozambique",
          "Mauritania",
          "Mauritius",
          "Malawi",
          "Malaysia",
          "North America",
          "Namibia",
          "New Caledonia",
          "Niger",
          "Nigeria",
          "Nicaragua",
          "Netherlands",
          "Norway",
          "Nepal",
          "Nauru",
          "New Zealand",
          "OECD members",
          "Oman",
          "Other small states",
          "Pakistan",
          "Panama",
          "Peru",
          "Philippines",
          "Palau",
          "Papua New Guinea",
          "Poland",
          "Pre-demographic dividend",
          "Puerto Rico",
          "Korea, Dem. People?s Rep.",
          "Portugal",
          "Paraguay",
          "West Bank and Gaza",
          "Pacific island small states",
          "Post-demographic dividend",
          "French Polynesia",
          "Qatar",
          "Romania",
          "Russian Federation",
          "Rwanda",
          "South Asia",
          "Saudi Arabia",
          "Sudan",
          "Senegal",
          "Singapore",
          "Solomon Islands",
          "Sierra Leone",
          "El Salvador",
          "San Marino",
          "Somalia",
          "Serbia",
          "Sub-Saharan Africa (excluding high income)",
          "South Sudan",
          "Sub-Saharan Africa",
          "Small states",
          "Sao Tome and Principe",
          "Suriname",
          "Slovak Republic",
          "Slovenia",
          "Sweden",
          "Swaziland",
          "Sint Maarten (Dutch part)",
          "Seychelles",
          "Syrian Arab Republic",
          "Turks and Caicos Islands"
         ],
         "y": [
          46.6,
          15.11,
          17.14,
          22.46,
          8.71,
          45.11,
          14.17,
          16.93,
          16.73,
          12.07,
          11.03,
          12.14,
          8.74,
          20.74,
          17.57,
          17.8,
          29.8,
          12.71,
          11.16,
          10.38,
          28.84,
          38.85,
          11.4,
          33.65,
          23.3,
          8.77,
          23.08,
          16.56,
          14.89,
          18.79,
          9.65,
          45.62,
          17.91,
          42.22,
          26.9,
          33.89,
          10.78,
          24.87,
          12.74,
          33.91,
          45.73,
          15.23,
          13.25,
          20.48,
          36.93,
          43.69,
          42.57,
          21,
          18.32,
          35.11,
          9.61,
          11.89,
          12.56,
          9.02,
          11.13,
          39.53,
          15.27,
          23.22,
          26.99,
          22.29,
          22.94,
          26.61,
          35.59,
          34.33,
          10.04,
          37.98,
          14.05,
          22.55,
          10.45,
          11.99,
          20.46,
          16.68,
          36.16,
          39.37,
          39.45,
          10.41,
          8.25,
          30.52,
          10.74,
          9.68,
          15.93,
          22.08,
          15.05,
          18.79,
          29.88,
          8.81,
          41.76,
          37.22,
          18.28,
          36.44,
          28.24,
          7.29,
          9.72,
          13.64,
          22.01,
          20.34,
          17,
          31.98,
          14.45,
          11.05,
          17.97,
          8.72,
          20.82,
          9.37,
          9.3,
          21.25,
          16,
          39.72,
          30.65,
          15.54,
          10,
          21.94,
          22.8,
          35.49,
          9.24,
          18.52,
          24.75,
          44.77,
          26.49,
          10.21,
          8.75,
          11.94,
          8.48,
          12.02,
          41.41,
          43.13,
          22.86,
          34.81,
          49.82,
          10.22,
          33.05,
          13.74,
          40.99,
          15.43,
          40.95,
          20.69,
          24.68,
          15.7,
          9.19,
          21.59,
          17.59,
          21.98,
          35.18,
          24.32,
          24.76,
          30.98,
          10.9,
          14.78,
          18.11,
          13.76,
          24.51,
          50.73,
          40.43,
          19.43,
          11.46,
          36.24,
          29.74,
          18.03,
          21.74,
          29.36,
          29.1,
          20.48,
          24.89,
          9.85,
          10.72,
          12.77,
          15.56,
          18.9,
          10.7,
          9.95,
          40.37,
          12.13,
          18.02,
          19.68,
          13.52,
          16.18,
          16.43,
          10.02,
          40.25,
          29.34,
          32.78,
          null,
          16.03,
          45.76,
          9.34,
          10.65,
          8.98,
          30.01,
          45.13,
          18.2,
          10.06,
          15.51,
          34.53,
          18.02,
          27.41,
          10.27,
          9.71,
          27.76,
          12.56,
          32.65,
          37.71,
          13.87,
          37.01,
          25.37,
          12.9,
          15.52,
          16.62,
          27.61,
          21.84,
          22.18,
          47.35,
          8.82,
          18.96,
          10.71,
          14.14,
          13.91,
          26.36,
          22.72,
          18.71,
          16.86,
          13.96,
          null,
          31.67,
          null,
          42.89,
          41,
          28.01
         ]
        }
       ],
       "layout": {
        "title": "Birthrate_by_Country"
       }
      },
      "text/html": [
       "<div id=\"1ab50a50-1dee-42bb-9f18-640d019d71c3\" style=\"height: 525px; width: 100%;\" class=\"plotly-graph-div\"></div><script type=\"text/javascript\">require([\"plotly\"], function(Plotly) { window.PLOTLYENV=window.PLOTLYENV || {};window.PLOTLYENV.BASE_URL=\"https://plot.ly\";Plotly.newPlot(\"1ab50a50-1dee-42bb-9f18-640d019d71c3\", [{\"x\": [\"Aruba\", \"Afghanistan\", \"Angola\", \"Albania\", \"Andorra\", \"Arab World\", \"United Arab Emirates\", \"Argentina\", \"Armenia\", \"American Samoa\", \"Antigua and Barbuda\", \"Australia\", \"Austria\", \"Azerbaijan\", \"Burundi\", \"Belgium\", \"Benin\", \"Burkina Faso\", \"Bangladesh\", \"Bulgaria\", \"Bahrain\", \"Bahamas, The\", \"Bosnia and Herzegovina\", \"Belarus\", \"Belize\", \"Bermuda\", \"Bolivia\", \"Brazil\", \"Barbados\", \"Brunei Darussalam\", \"Bhutan\", \"Botswana\", \"Central African Republic\", \"Canada\", \"Central Europe and the Baltics\", \"Switzerland\", \"Channel Islands\", \"Chile\", \"China\", \"Cote d'Ivoire\", \"Cameroon\", \"Congo, Dem. Rep.\", \"Congo, Rep.\", \"Colombia\", \"Comoros\", \"Cabo Verde\", \"Costa Rica\", \"Caribbean small states\", \"Cuba\", \"Curacao\", \"Cayman Islands\", \"Cyprus\", \"Czech Republic\", \"Germany\", \"Djibouti\", \"Dominica\", \"Denmark\", \"Dominican Republic\", \"Algeria\", \"East Asia & Pacific (excluding high income)\", \"Early-demographic dividend\", \"East Asia & Pacific\", \"Europe & Central Asia (excluding high income)\", \"Europe & Central Asia\", \"Ecuador\", \"Egypt, Arab Rep.\", \"Euro area\", \"Eritrea\", \"Spain\", \"Estonia\", \"Ethiopia\", \"European Union\", \"Fragile and conflict affected situations\", \"Finland\", \"Fiji\", \"France\", \"Faroe Islands\", \"Micronesia, Fed. Sts.\", \"Gabon\", \"United Kingdom\", \"Georgia\", \"Ghana\", \"Gibraltar\", \"Guinea\", \"Gambia, The\", \"Guinea-Bissau\", \"Equatorial Guinea\", \"Greece\", \"Grenada\", \"Greenland\", \"Guatemala\", \"Guam\", \"Guyana\", \"High income\", \"Hong Kong SAR, China\", \"Honduras\", \"Heavily indebted poor countries (HIPC)\", \"Croatia\", \"Haiti\", \"Hungary\", \"IBRD only\", \"IDA & IBRD total\", \"IDA total\", \"IDA blend\", \"Indonesia\", \"IDA only\", \"Isle of Man\", \"India\", \"Not classified\", \"Ireland\", \"Iran, Islamic Rep.\", \"Iraq\", \"Iceland\", \"Israel\", \"Italy\", \"Jamaica\", \"Jordan\", \"Japan\", \"Kazakhstan\", \"Kenya\", \"Kyrgyz Republic\", \"Cambodia\", \"Kiribati\", \"St. Kitts and Nevis\", \"Korea, Rep.\", \"Kuwait\", \"Latin America & Caribbean (excluding high income)\", \"Lao PDR\", \"Lebanon\", \"Liberia\", \"Libya\", \"St. Lucia\", \"Latin America & Caribbean\", \"Least developed countries: UN classification\", \"Low income\", \"Liechtenstein\", \"Sri Lanka\", \"Lower middle income\", \"Low & middle income\", \"Lesotho\", \"Late-demographic dividend\", \"Lithuania\", \"Luxembourg\", \"Latvia\", \"Macao SAR, China\", \"St. Martin (French part)\", \"Morocco\", \"Monaco\", \"Moldova\", \"Madagascar\", \"Maldives\", \"Middle East & North Africa\", \"Mexico\", \"Marshall Islands\", \"Middle income\", \"Macedonia, FYR\", \"Mali\", \"Malta\", \"Myanmar\", \"Middle East & North Africa (excluding high income)\", \"Montenegro\", \"Mongolia\", \"Northern Mariana Islands\", \"Mozambique\", \"Mauritania\", \"Mauritius\", \"Malawi\", \"Malaysia\", \"North America\", \"Namibia\", \"New Caledonia\", \"Niger\", \"Nigeria\", \"Nicaragua\", \"Netherlands\", \"Norway\", \"Nepal\", \"Nauru\", \"New Zealand\", \"OECD members\", \"Oman\", \"Other small states\", \"Pakistan\", \"Panama\", \"Peru\", \"Philippines\", \"Palau\", \"Papua New Guinea\", \"Poland\", \"Pre-demographic dividend\", \"Puerto Rico\", \"Korea, Dem. People?s Rep.\", \"Portugal\", \"Paraguay\", \"West Bank and Gaza\", \"Pacific island small states\", \"Post-demographic dividend\", \"French Polynesia\", \"Qatar\", \"Romania\", \"Russian Federation\", \"Rwanda\", \"South Asia\", \"Saudi Arabia\", \"Sudan\", \"Senegal\", \"Singapore\", \"Solomon Islands\", \"Sierra Leone\", \"El Salvador\", \"San Marino\", \"Somalia\", \"Serbia\", \"Sub-Saharan Africa (excluding high income)\", \"South Sudan\", \"Sub-Saharan Africa\", \"Small states\", \"Sao Tome and Principe\", \"Suriname\", \"Slovak Republic\", \"Slovenia\", \"Sweden\", \"Swaziland\", \"Sint Maarten (Dutch part)\", \"Seychelles\", \"Syrian Arab Republic\", \"Turks and Caicos Islands\"], \"y\": [46.6, 15.11, 17.14, 22.46, 8.71, 45.11, 14.17, 16.93, 16.73, 12.07, 11.03, 12.14, 8.74, 20.74, 17.57, 17.8, 29.8, 12.71, 11.16, 10.38, 28.84, 38.85, 11.4, 33.65, 23.3, 8.77, 23.08, 16.56, 14.89, 18.79, 9.65, 45.62, 17.91, 42.22, 26.9, 33.89, 10.78, 24.87, 12.74, 33.91, 45.73, 15.23, 13.25, 20.48, 36.93, 43.69, 42.57, 21.0, 18.32, 35.11, 9.61, 11.89, 12.56, 9.02, 11.13, 39.53, 15.27, 23.22, 26.99, 22.29, 22.94, 26.61, 35.59, 34.33, 10.04, 37.98, 14.05, 22.55, 10.45, 11.99, 20.46, 16.68, 36.16, 39.37, 39.45, 10.41, 8.25, 30.52, 10.74, 9.68, 15.93, 22.08, 15.05, 18.79, 29.88, 8.81, 41.76, 37.22, 18.28, 36.44, 28.24, 7.29, 9.72, 13.64, 22.01, 20.34, 17.0, 31.98, 14.45, 11.05, 17.97, 8.72, 20.82, 9.37, 9.3, 21.25, 16.0, 39.72, 30.65, 15.54, 10.0, 21.94, 22.8, 35.49, 9.24, 18.52, 24.75, 44.77, 26.49, 10.21, 8.75, 11.94, 8.48, 12.02, 41.41, 43.13, 22.86, 34.81, 49.82, 10.22, 33.05, 13.74, 40.99, 15.43, 40.95, 20.69, 24.68, 15.7, 9.19, 21.59, 17.59, 21.98, 35.18, 24.32, 24.76, 30.98, 10.9, 14.78, 18.11, 13.76, 24.51, 50.73, 40.43, 19.43, 11.46, 36.24, 29.74, 18.03, 21.74, 29.36, 29.1, 20.48, 24.89, 9.85, 10.72, 12.77, 15.56, 18.9, 10.7, 9.95, 40.37, 12.13, 18.02, 19.68, 13.52, 16.18, 16.43, 10.02, 40.25, 29.34, 32.78, null, 16.03, 45.76, 9.34, 10.65, 8.98, 30.01, 45.13, 18.2, 10.06, 15.51, 34.53, 18.02, 27.41, 10.27, 9.71, 27.76, 12.56, 32.65, 37.71, 13.87, 37.01, 25.37, 12.9, 15.52, 16.62, 27.61, 21.84, 22.18, 47.35, 8.82, 18.96, 10.71, 14.14, 13.91, 26.36, 22.72, 18.71, 16.86, 13.96, null, 31.67, null, 42.89, 41.0, 28.01], \"type\": \"scatter\", \"uid\": \"0e7fe566-a322-11e8-b8c8-b88a605d4570\"}], {\"title\": \"Birthrate_by_Country\"}, {\"showLink\": true, \"linkText\": \"Export to plot.ly\"})});</script>"
      ],
      "text/vnd.plotly.v1+html": [
       "<div id=\"1ab50a50-1dee-42bb-9f18-640d019d71c3\" style=\"height: 525px; width: 100%;\" class=\"plotly-graph-div\"></div><script type=\"text/javascript\">require([\"plotly\"], function(Plotly) { window.PLOTLYENV=window.PLOTLYENV || {};window.PLOTLYENV.BASE_URL=\"https://plot.ly\";Plotly.newPlot(\"1ab50a50-1dee-42bb-9f18-640d019d71c3\", [{\"x\": [\"Aruba\", \"Afghanistan\", \"Angola\", \"Albania\", \"Andorra\", \"Arab World\", \"United Arab Emirates\", \"Argentina\", \"Armenia\", \"American Samoa\", \"Antigua and Barbuda\", \"Australia\", \"Austria\", \"Azerbaijan\", \"Burundi\", \"Belgium\", \"Benin\", \"Burkina Faso\", \"Bangladesh\", \"Bulgaria\", \"Bahrain\", \"Bahamas, The\", \"Bosnia and Herzegovina\", \"Belarus\", \"Belize\", \"Bermuda\", \"Bolivia\", \"Brazil\", \"Barbados\", \"Brunei Darussalam\", \"Bhutan\", \"Botswana\", \"Central African Republic\", \"Canada\", \"Central Europe and the Baltics\", \"Switzerland\", \"Channel Islands\", \"Chile\", \"China\", \"Cote d'Ivoire\", \"Cameroon\", \"Congo, Dem. Rep.\", \"Congo, Rep.\", \"Colombia\", \"Comoros\", \"Cabo Verde\", \"Costa Rica\", \"Caribbean small states\", \"Cuba\", \"Curacao\", \"Cayman Islands\", \"Cyprus\", \"Czech Republic\", \"Germany\", \"Djibouti\", \"Dominica\", \"Denmark\", \"Dominican Republic\", \"Algeria\", \"East Asia & Pacific (excluding high income)\", \"Early-demographic dividend\", \"East Asia & Pacific\", \"Europe & Central Asia (excluding high income)\", \"Europe & Central Asia\", \"Ecuador\", \"Egypt, Arab Rep.\", \"Euro area\", \"Eritrea\", \"Spain\", \"Estonia\", \"Ethiopia\", \"European Union\", \"Fragile and conflict affected situations\", \"Finland\", \"Fiji\", \"France\", \"Faroe Islands\", \"Micronesia, Fed. Sts.\", \"Gabon\", \"United Kingdom\", \"Georgia\", \"Ghana\", \"Gibraltar\", \"Guinea\", \"Gambia, The\", \"Guinea-Bissau\", \"Equatorial Guinea\", \"Greece\", \"Grenada\", \"Greenland\", \"Guatemala\", \"Guam\", \"Guyana\", \"High income\", \"Hong Kong SAR, China\", \"Honduras\", \"Heavily indebted poor countries (HIPC)\", \"Croatia\", \"Haiti\", \"Hungary\", \"IBRD only\", \"IDA & IBRD total\", \"IDA total\", \"IDA blend\", \"Indonesia\", \"IDA only\", \"Isle of Man\", \"India\", \"Not classified\", \"Ireland\", \"Iran, Islamic Rep.\", \"Iraq\", \"Iceland\", \"Israel\", \"Italy\", \"Jamaica\", \"Jordan\", \"Japan\", \"Kazakhstan\", \"Kenya\", \"Kyrgyz Republic\", \"Cambodia\", \"Kiribati\", \"St. Kitts and Nevis\", \"Korea, Rep.\", \"Kuwait\", \"Latin America & Caribbean (excluding high income)\", \"Lao PDR\", \"Lebanon\", \"Liberia\", \"Libya\", \"St. Lucia\", \"Latin America & Caribbean\", \"Least developed countries: UN classification\", \"Low income\", \"Liechtenstein\", \"Sri Lanka\", \"Lower middle income\", \"Low & middle income\", \"Lesotho\", \"Late-demographic dividend\", \"Lithuania\", \"Luxembourg\", \"Latvia\", \"Macao SAR, China\", \"St. Martin (French part)\", \"Morocco\", \"Monaco\", \"Moldova\", \"Madagascar\", \"Maldives\", \"Middle East & North Africa\", \"Mexico\", \"Marshall Islands\", \"Middle income\", \"Macedonia, FYR\", \"Mali\", \"Malta\", \"Myanmar\", \"Middle East & North Africa (excluding high income)\", \"Montenegro\", \"Mongolia\", \"Northern Mariana Islands\", \"Mozambique\", \"Mauritania\", \"Mauritius\", \"Malawi\", \"Malaysia\", \"North America\", \"Namibia\", \"New Caledonia\", \"Niger\", \"Nigeria\", \"Nicaragua\", \"Netherlands\", \"Norway\", \"Nepal\", \"Nauru\", \"New Zealand\", \"OECD members\", \"Oman\", \"Other small states\", \"Pakistan\", \"Panama\", \"Peru\", \"Philippines\", \"Palau\", \"Papua New Guinea\", \"Poland\", \"Pre-demographic dividend\", \"Puerto Rico\", \"Korea, Dem. People?s Rep.\", \"Portugal\", \"Paraguay\", \"West Bank and Gaza\", \"Pacific island small states\", \"Post-demographic dividend\", \"French Polynesia\", \"Qatar\", \"Romania\", \"Russian Federation\", \"Rwanda\", \"South Asia\", \"Saudi Arabia\", \"Sudan\", \"Senegal\", \"Singapore\", \"Solomon Islands\", \"Sierra Leone\", \"El Salvador\", \"San Marino\", \"Somalia\", \"Serbia\", \"Sub-Saharan Africa (excluding high income)\", \"South Sudan\", \"Sub-Saharan Africa\", \"Small states\", \"Sao Tome and Principe\", \"Suriname\", \"Slovak Republic\", \"Slovenia\", \"Sweden\", \"Swaziland\", \"Sint Maarten (Dutch part)\", \"Seychelles\", \"Syrian Arab Republic\", \"Turks and Caicos Islands\"], \"y\": [46.6, 15.11, 17.14, 22.46, 8.71, 45.11, 14.17, 16.93, 16.73, 12.07, 11.03, 12.14, 8.74, 20.74, 17.57, 17.8, 29.8, 12.71, 11.16, 10.38, 28.84, 38.85, 11.4, 33.65, 23.3, 8.77, 23.08, 16.56, 14.89, 18.79, 9.65, 45.62, 17.91, 42.22, 26.9, 33.89, 10.78, 24.87, 12.74, 33.91, 45.73, 15.23, 13.25, 20.48, 36.93, 43.69, 42.57, 21.0, 18.32, 35.11, 9.61, 11.89, 12.56, 9.02, 11.13, 39.53, 15.27, 23.22, 26.99, 22.29, 22.94, 26.61, 35.59, 34.33, 10.04, 37.98, 14.05, 22.55, 10.45, 11.99, 20.46, 16.68, 36.16, 39.37, 39.45, 10.41, 8.25, 30.52, 10.74, 9.68, 15.93, 22.08, 15.05, 18.79, 29.88, 8.81, 41.76, 37.22, 18.28, 36.44, 28.24, 7.29, 9.72, 13.64, 22.01, 20.34, 17.0, 31.98, 14.45, 11.05, 17.97, 8.72, 20.82, 9.37, 9.3, 21.25, 16.0, 39.72, 30.65, 15.54, 10.0, 21.94, 22.8, 35.49, 9.24, 18.52, 24.75, 44.77, 26.49, 10.21, 8.75, 11.94, 8.48, 12.02, 41.41, 43.13, 22.86, 34.81, 49.82, 10.22, 33.05, 13.74, 40.99, 15.43, 40.95, 20.69, 24.68, 15.7, 9.19, 21.59, 17.59, 21.98, 35.18, 24.32, 24.76, 30.98, 10.9, 14.78, 18.11, 13.76, 24.51, 50.73, 40.43, 19.43, 11.46, 36.24, 29.74, 18.03, 21.74, 29.36, 29.1, 20.48, 24.89, 9.85, 10.72, 12.77, 15.56, 18.9, 10.7, 9.95, 40.37, 12.13, 18.02, 19.68, 13.52, 16.18, 16.43, 10.02, 40.25, 29.34, 32.78, null, 16.03, 45.76, 9.34, 10.65, 8.98, 30.01, 45.13, 18.2, 10.06, 15.51, 34.53, 18.02, 27.41, 10.27, 9.71, 27.76, 12.56, 32.65, 37.71, 13.87, 37.01, 25.37, 12.9, 15.52, 16.62, 27.61, 21.84, 22.18, 47.35, 8.82, 18.96, 10.71, 14.14, 13.91, 26.36, 22.72, 18.71, 16.86, 13.96, null, 31.67, null, 42.89, 41.0, 28.01], \"type\": \"scatter\", \"uid\": \"0e7fe566-a322-11e8-b8c8-b88a605d4570\"}], {\"title\": \"Birthrate_by_Country\"}, {\"showLink\": true, \"linkText\": \"Export to plot.ly\"})});</script>"
      ]
     },
     "metadata": {},
     "output_type": "display_data"
    }
   ],
   "source": [
    "# View offline\n",
    "plotly.offline.iplot({\n",
    "    \"data\": [go.Scatter(x= df.CountryName, y= df.Birthrate)],\n",
    "    \"layout\": go.Layout(title=\"Birthrate_by_Country\")\n",
    "})"
   ]
  },
  {
   "cell_type": "markdown",
   "metadata": {},
   "source": [
    "#### *View dashboard in Plotly *"
   ]
  },
  {
   "cell_type": "markdown",
   "metadata": {},
   "source": [
    "#### *Example of view chart online and offline *"
   ]
  },
  {
   "cell_type": "code",
   "execution_count": 15,
   "metadata": {},
   "outputs": [
    {
     "data": {
      "text/html": [
       "<script>requirejs.config({paths: { 'plotly': ['https://cdn.plot.ly/plotly-latest.min']},});if(!window.Plotly) {{require(['plotly'],function(plotly) {window.Plotly=plotly;});}}</script>"
      ],
      "text/vnd.plotly.v1+html": [
       "<script>requirejs.config({paths: { 'plotly': ['https://cdn.plot.ly/plotly-latest.min']},});if(!window.Plotly) {{require(['plotly'],function(plotly) {window.Plotly=plotly;});}}</script>"
      ]
     },
     "metadata": {},
     "output_type": "display_data"
    },
    {
     "data": {
      "application/vnd.plotly.v1+json": {
       "data": [
        {
         "type": "scatter",
         "uid": "14969588-a322-11e8-a368-b88a605d4570",
         "x": [
          1,
          2,
          3,
          4
         ],
         "y": [
          4,
          3,
          2,
          1
         ]
        }
       ],
       "layout": {
        "title": "hello world"
       }
      },
      "text/html": [
       "<div id=\"28b036cf-e167-418a-b4e9-3d9493d9e408\" style=\"height: 525px; width: 100%;\" class=\"plotly-graph-div\"></div><script type=\"text/javascript\">require([\"plotly\"], function(Plotly) { window.PLOTLYENV=window.PLOTLYENV || {};window.PLOTLYENV.BASE_URL=\"https://plot.ly\";Plotly.newPlot(\"28b036cf-e167-418a-b4e9-3d9493d9e408\", [{\"x\": [1, 2, 3, 4], \"y\": [4, 3, 2, 1], \"type\": \"scatter\", \"uid\": \"14a65206-a322-11e8-9afe-b88a605d4570\"}], {\"title\": \"hello world\"}, {\"showLink\": true, \"linkText\": \"Export to plot.ly\"})});</script>"
      ],
      "text/vnd.plotly.v1+html": [
       "<div id=\"28b036cf-e167-418a-b4e9-3d9493d9e408\" style=\"height: 525px; width: 100%;\" class=\"plotly-graph-div\"></div><script type=\"text/javascript\">require([\"plotly\"], function(Plotly) { window.PLOTLYENV=window.PLOTLYENV || {};window.PLOTLYENV.BASE_URL=\"https://plot.ly\";Plotly.newPlot(\"28b036cf-e167-418a-b4e9-3d9493d9e408\", [{\"x\": [1, 2, 3, 4], \"y\": [4, 3, 2, 1], \"type\": \"scatter\", \"uid\": \"14a65206-a322-11e8-9afe-b88a605d4570\"}], {\"title\": \"hello world\"}, {\"showLink\": true, \"linkText\": \"Export to plot.ly\"})});</script>"
      ]
     },
     "metadata": {},
     "output_type": "display_data"
    }
   ],
   "source": [
    "import plotly\n",
    "import plotly.graph_objs as go\n",
    "\n",
    "plotly.offline.init_notebook_mode(connected=True)\n",
    "\n",
    "plotly.offline.iplot({\n",
    "    \"data\": [go.Scatter(x=[1, 2, 3, 4], y=[4, 3, 2, 1])],\n",
    "    \"layout\": go.Layout(title=\"hello world\")\n",
    "})\n"
   ]
  }
 ],
 "metadata": {
  "kernelspec": {
   "display_name": "Python 3",
   "language": "python",
   "name": "python3"
  },
  "language_info": {
   "codemirror_mode": {
    "name": "ipython",
    "version": 3
   },
   "file_extension": ".py",
   "mimetype": "text/x-python",
   "name": "python",
   "nbconvert_exporter": "python",
   "pygments_lexer": "ipython3",
   "version": "3.6.3"
  }
 },
 "nbformat": 4,
 "nbformat_minor": 2
}
