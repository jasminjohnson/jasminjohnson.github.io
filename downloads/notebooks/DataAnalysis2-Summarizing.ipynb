{
 "cells": [
  {
   "cell_type": "code",
   "execution_count": 1,
   "metadata": {},
   "outputs": [
    {
     "data": {
      "text/html": [
       "<style>.container { width:100% !important; }</style>"
      ],
      "text/plain": [
       "<IPython.core.display.HTML object>"
      ]
     },
     "metadata": {},
     "output_type": "display_data"
    }
   ],
   "source": [
    "from IPython.core.interactiveshell import InteractiveShell\n",
    "InteractiveShell.ast_node_interactivity = \"all\"\n",
    "\n",
    "from IPython.core.display import display, HTML\n",
    "display(HTML(\"<style>.container { width:100% !important; }</style>\"))\n",
    "%matplotlib inline \n",
    "import matplotlib.pyplot as plt\n",
    "import pandas as pd\n",
    "import numpy as np"
   ]
  },
  {
   "cell_type": "markdown",
   "metadata": {},
   "source": [
    "# Data Analysis With Python II - Summarizing Data"
   ]
  },
  {
   "cell_type": "markdown",
   "metadata": {},
   "source": [
    "<!-- PELICAN_BEGIN_SUMMARY -->\n",
    "\n",
    "When we computed the mean, minimum and maximum of the data in Python, we are employing a technique to get information about the data distribution.\n",
    "This can be an effective tool when we need to summarize datasets for analysis.\n",
    "<!-- PELICAN_END_SUMMARY -->"
   ]
  },
  {
   "cell_type": "markdown",
   "metadata": {},
   "source": [
    "<br>\n",
    "**Goal: Apply Python functions to summarize a Dataset**\n",
    "<br>Specifically, I plan to use Python to: \n",
    "    - Sum up columns or rows in python\n",
    "    - Get the maximum, mean, average value in the datasets \n",
    "    - Filter data to isolate invalid data \n",
    "    - Transpose columns\n",
    "    - Excel Index-Match function in python (more example at Blog Data Analysis IV)"
   ]
  },
  {
   "cell_type": "markdown",
   "metadata": {},
   "source": [
    "<br>\n",
    "**Example - Dow Jones Index 30 Stocks' Dividends**"
   ]
  },
  {
   "cell_type": "code",
   "execution_count": 2,
   "metadata": {},
   "outputs": [
    {
     "data": {
      "text/html": [
       "<div>\n",
       "<style scoped>\n",
       "    .dataframe tbody tr th:only-of-type {\n",
       "        vertical-align: middle;\n",
       "    }\n",
       "\n",
       "    .dataframe tbody tr th {\n",
       "        vertical-align: top;\n",
       "    }\n",
       "\n",
       "    .dataframe thead th {\n",
       "        text-align: right;\n",
       "    }\n",
       "</style>\n",
       "<table border=\"1\" class=\"dataframe\">\n",
       "  <thead>\n",
       "    <tr style=\"text-align: right;\">\n",
       "      <th></th>\n",
       "      <th>Stock Symbol</th>\n",
       "      <th>Company Name</th>\n",
       "      <th>Dividend Yield</th>\n",
       "      <th>Closing Price</th>\n",
       "      <th>Annualized Dividend</th>\n",
       "      <th>Ex-Div Date</th>\n",
       "      <th>Pay Date</th>\n",
       "      <th>50-day moving average</th>\n",
       "      <th>200-day moving average</th>\n",
       "      <th>Dif 50-day</th>\n",
       "    </tr>\n",
       "  </thead>\n",
       "  <tbody>\n",
       "    <tr>\n",
       "      <th>0</th>\n",
       "      <td>WMT</td>\n",
       "      <td>Wal-Mart Stores</td>\n",
       "      <td>0.0242</td>\n",
       "      <td>85.91</td>\n",
       "      <td>2.08</td>\n",
       "      <td>2018-12-06</td>\n",
       "      <td>2019-01-02</td>\n",
       "      <td>82.35</td>\n",
       "      <td>78.6800</td>\n",
       "      <td>-3.56</td>\n",
       "    </tr>\n",
       "    <tr>\n",
       "      <th>1</th>\n",
       "      <td>V</td>\n",
       "      <td>Visa</td>\n",
       "      <td>0.0070</td>\n",
       "      <td>119.78</td>\n",
       "      <td>0.84</td>\n",
       "      <td>2018-02-15</td>\n",
       "      <td>2018-03-06</td>\n",
       "      <td>106.44</td>\n",
       "      <td>98.9627</td>\n",
       "      <td>-13.34</td>\n",
       "    </tr>\n",
       "    <tr>\n",
       "      <th>2</th>\n",
       "      <td>VZ</td>\n",
       "      <td>Verizon</td>\n",
       "      <td>0.0496</td>\n",
       "      <td>47.58</td>\n",
       "      <td>2.36</td>\n",
       "      <td>2018-04-09</td>\n",
       "      <td>2018-05-01</td>\n",
       "      <td>48.73</td>\n",
       "      <td>47.0300</td>\n",
       "      <td>1.15</td>\n",
       "    </tr>\n",
       "  </tbody>\n",
       "</table>\n",
       "</div>"
      ],
      "text/plain": [
       "  Stock Symbol     Company Name  Dividend Yield  Closing Price  \\\n",
       "0          WMT  Wal-Mart Stores          0.0242          85.91   \n",
       "1            V             Visa          0.0070         119.78   \n",
       "2           VZ          Verizon          0.0496          47.58   \n",
       "\n",
       "   Annualized Dividend Ex-Div Date   Pay Date  50-day moving average  \\\n",
       "0                 2.08  2018-12-06 2019-01-02                  82.35   \n",
       "1                 0.84  2018-02-15 2018-03-06                 106.44   \n",
       "2                 2.36  2018-04-09 2018-05-01                  48.73   \n",
       "\n",
       "   200-day moving average  Dif 50-day  \n",
       "0                 78.6800       -3.56  \n",
       "1                 98.9627      -13.34  \n",
       "2                 47.0300        1.15  "
      ]
     },
     "execution_count": 2,
     "metadata": {},
     "output_type": "execute_result"
    },
    {
     "data": {
      "text/plain": [
       "(30, 10)"
      ]
     },
     "execution_count": 2,
     "metadata": {},
     "output_type": "execute_result"
    }
   ],
   "source": [
    "## Using Dow 30 dividend data sourced from yahoo finance\n",
    "df = pd.read_excel('data/analysis2/Dow.xlsx')\n",
    "df.head(3)\n",
    "df.shape"
   ]
  },
  {
   "cell_type": "markdown",
   "metadata": {},
   "source": [
    "<br>\n",
    "**Which Stock Has the Maximum Dividend Yield?**"
   ]
  },
  {
   "cell_type": "code",
   "execution_count": 3,
   "metadata": {},
   "outputs": [
    {
     "data": {
      "text/plain": [
       "Stock Symbol                               VZ\n",
       "Company Name                          Verizon\n",
       "Dividend Yield                         0.0496\n",
       "Closing Price                           47.58\n",
       "Annualized Dividend                      2.36\n",
       "Ex-Div Date               2018-04-09 00:00:00\n",
       "Pay Date                  2018-05-01 00:00:00\n",
       "50-day moving average                   48.73\n",
       "200-day moving average                  47.03\n",
       "Dif 50-day                               1.15\n",
       "Name: 2, dtype: object"
      ]
     },
     "execution_count": 3,
     "metadata": {},
     "output_type": "execute_result"
    },
    {
     "name": "stdout",
     "output_type": "stream",
     "text": [
      "The stock with the max dividend yield is Verizon with yield 0.0496\n"
     ]
    }
   ],
   "source": [
    "## Find the stock with the maximum dividend yield\n",
    "max_div_stock=df.iloc[df[\"Dividend Yield\"].idxmax()]\n",
    "max_div_stock\n",
    "print(\"The stock with the max dividend yield is %s with yield %s\" % (max_div_stock['Company Name'],max_div_stock['Dividend Yield']))"
   ]
  },
  {
   "cell_type": "markdown",
   "metadata": {},
   "source": [
    "<br>\n",
    "**Which Stock Has the Minimum Dividend Yield?**"
   ]
  },
  {
   "cell_type": "code",
   "execution_count": 4,
   "metadata": {},
   "outputs": [
    {
     "data": {
      "text/plain": [
       "Stock Symbol                                V\n",
       "Company Name                             Visa\n",
       "Dividend Yield                          0.007\n",
       "Closing Price                          119.78\n",
       "Annualized Dividend                      0.84\n",
       "Ex-Div Date               2018-02-15 00:00:00\n",
       "Pay Date                  2018-03-06 00:00:00\n",
       "50-day moving average                  106.44\n",
       "200-day moving average                98.9627\n",
       "Dif 50-day                             -13.34\n",
       "Name: 1, dtype: object"
      ]
     },
     "execution_count": 4,
     "metadata": {},
     "output_type": "execute_result"
    },
    {
     "name": "stdout",
     "output_type": "stream",
     "text": [
      "The stock with the minimum dividend yield is Visa with yield 0.007\n"
     ]
    }
   ],
   "source": [
    "## Find the stock with the minimum dividend yield\n",
    "min_div_stock=df.iloc[df[\"Dividend Yield\"].idxmin()]\n",
    "min_div_stock\n",
    "print(\"The stock with the minimum dividend yield is %s with yield %s\" % (min_div_stock['Company Name'],min_div_stock['Dividend Yield']))"
   ]
  },
  {
   "cell_type": "markdown",
   "metadata": {},
   "source": [
    "<br>\n",
    "**Which Stock Price is Currently Below 50-day Moving Average?**\n",
    "    - Calculate the difference between 50-day moving average and the closing price \n",
    "    - Use min() to show the the stock with the smallest 50-day average\n",
    "    - Filter the difference below zero, this showed a list of stocks below 50-day average"
   ]
  },
  {
   "cell_type": "code",
   "execution_count": 5,
   "metadata": {},
   "outputs": [
    {
     "data": {
      "text/plain": [
       "-71.970000000000027"
      ]
     },
     "execution_count": 5,
     "metadata": {},
     "output_type": "execute_result"
    },
    {
     "data": {
      "text/html": [
       "<div>\n",
       "<style scoped>\n",
       "    .dataframe tbody tr th:only-of-type {\n",
       "        vertical-align: middle;\n",
       "    }\n",
       "\n",
       "    .dataframe tbody tr th {\n",
       "        vertical-align: top;\n",
       "    }\n",
       "\n",
       "    .dataframe thead th {\n",
       "        text-align: right;\n",
       "    }\n",
       "</style>\n",
       "<table border=\"1\" class=\"dataframe\">\n",
       "  <thead>\n",
       "    <tr style=\"text-align: right;\">\n",
       "      <th></th>\n",
       "      <th>Stock Symbol</th>\n",
       "      <th>Company Name</th>\n",
       "      <th>Dividend Yield</th>\n",
       "      <th>Closing Price</th>\n",
       "      <th>Annualized Dividend</th>\n",
       "      <th>Ex-Div Date</th>\n",
       "      <th>Pay Date</th>\n",
       "      <th>50-day moving average</th>\n",
       "      <th>200-day moving average</th>\n",
       "      <th>Dif 50-day</th>\n",
       "    </tr>\n",
       "  </thead>\n",
       "  <tbody>\n",
       "    <tr>\n",
       "      <th>0</th>\n",
       "      <td>WMT</td>\n",
       "      <td>Wal-Mart Stores</td>\n",
       "      <td>0.0242</td>\n",
       "      <td>85.91</td>\n",
       "      <td>2.08</td>\n",
       "      <td>2018-12-06</td>\n",
       "      <td>2019-01-02</td>\n",
       "      <td>82.35</td>\n",
       "      <td>78.6800</td>\n",
       "      <td>-3.56</td>\n",
       "    </tr>\n",
       "    <tr>\n",
       "      <th>1</th>\n",
       "      <td>V</td>\n",
       "      <td>Visa</td>\n",
       "      <td>0.0070</td>\n",
       "      <td>119.78</td>\n",
       "      <td>0.84</td>\n",
       "      <td>2018-02-15</td>\n",
       "      <td>2018-03-06</td>\n",
       "      <td>106.44</td>\n",
       "      <td>98.9627</td>\n",
       "      <td>-13.34</td>\n",
       "    </tr>\n",
       "    <tr>\n",
       "      <th>3</th>\n",
       "      <td>UNH</td>\n",
       "      <td>UnitedHealth Group</td>\n",
       "      <td>0.0135</td>\n",
       "      <td>221.90</td>\n",
       "      <td>3.00</td>\n",
       "      <td>2018-03-08</td>\n",
       "      <td>2018-03-20</td>\n",
       "      <td>198.85</td>\n",
       "      <td>187.4800</td>\n",
       "      <td>-23.05</td>\n",
       "    </tr>\n",
       "  </tbody>\n",
       "</table>\n",
       "</div>"
      ],
      "text/plain": [
       "  Stock Symbol        Company Name  Dividend Yield  Closing Price  \\\n",
       "0          WMT     Wal-Mart Stores          0.0242          85.91   \n",
       "1            V                Visa          0.0070         119.78   \n",
       "3          UNH  UnitedHealth Group          0.0135         221.90   \n",
       "\n",
       "   Annualized Dividend Ex-Div Date   Pay Date  50-day moving average  \\\n",
       "0                 2.08  2018-12-06 2019-01-02                  82.35   \n",
       "1                 0.84  2018-02-15 2018-03-06                 106.44   \n",
       "3                 3.00  2018-03-08 2018-03-20                 198.85   \n",
       "\n",
       "   200-day moving average  Dif 50-day  \n",
       "0                 78.6800       -3.56  \n",
       "1                 98.9627      -13.34  \n",
       "3                187.4800      -23.05  "
      ]
     },
     "execution_count": 5,
     "metadata": {},
     "output_type": "execute_result"
    },
    {
     "data": {
      "text/plain": [
       "(20, 10)"
      ]
     },
     "execution_count": 5,
     "metadata": {},
     "output_type": "execute_result"
    }
   ],
   "source": [
    "df[\"Dif 50-day\"] = df[\"50-day moving average\"] - df[\"Closing Price\"]  \n",
    "df[\"Dif 50-day\"].min()  \n",
    "df[df[\"Dif 50-day\"] <=0].head(3)\n",
    "df[df[\"Dif 50-day\"] <=0].shape"
   ]
  },
  {
   "cell_type": "markdown",
   "metadata": {},
   "source": [
    "<br>\n",
    "**Insert Column and Assign Value in Python Instead of in Excel**<br>- Test Insert new column after columns 2 with 5% Commission Rate"
   ]
  },
  {
   "cell_type": "code",
   "execution_count": 6,
   "metadata": {},
   "outputs": [
    {
     "data": {
      "text/html": [
       "<div>\n",
       "<style scoped>\n",
       "    .dataframe tbody tr th:only-of-type {\n",
       "        vertical-align: middle;\n",
       "    }\n",
       "\n",
       "    .dataframe tbody tr th {\n",
       "        vertical-align: top;\n",
       "    }\n",
       "\n",
       "    .dataframe thead th {\n",
       "        text-align: right;\n",
       "    }\n",
       "</style>\n",
       "<table border=\"1\" class=\"dataframe\">\n",
       "  <thead>\n",
       "    <tr style=\"text-align: right;\">\n",
       "      <th></th>\n",
       "      <th>Stock Symbol</th>\n",
       "      <th>Company Name</th>\n",
       "      <th>Com Rate %</th>\n",
       "      <th>Dividend Yield</th>\n",
       "      <th>Closing Price</th>\n",
       "      <th>Annualized Dividend</th>\n",
       "      <th>Ex-Div Date</th>\n",
       "      <th>Pay Date</th>\n",
       "      <th>50-day moving average</th>\n",
       "      <th>200-day moving average</th>\n",
       "      <th>Dif 50-day</th>\n",
       "    </tr>\n",
       "  </thead>\n",
       "  <tbody>\n",
       "    <tr>\n",
       "      <th>0</th>\n",
       "      <td>WMT</td>\n",
       "      <td>Wal-Mart Stores</td>\n",
       "      <td>5</td>\n",
       "      <td>0.0242</td>\n",
       "      <td>85.91</td>\n",
       "      <td>2.08</td>\n",
       "      <td>2018-12-06</td>\n",
       "      <td>2019-01-02</td>\n",
       "      <td>82.35</td>\n",
       "      <td>78.6800</td>\n",
       "      <td>-3.56</td>\n",
       "    </tr>\n",
       "    <tr>\n",
       "      <th>1</th>\n",
       "      <td>V</td>\n",
       "      <td>Visa</td>\n",
       "      <td>5</td>\n",
       "      <td>0.0070</td>\n",
       "      <td>119.78</td>\n",
       "      <td>0.84</td>\n",
       "      <td>2018-02-15</td>\n",
       "      <td>2018-03-06</td>\n",
       "      <td>106.44</td>\n",
       "      <td>98.9627</td>\n",
       "      <td>-13.34</td>\n",
       "    </tr>\n",
       "    <tr>\n",
       "      <th>2</th>\n",
       "      <td>VZ</td>\n",
       "      <td>Verizon</td>\n",
       "      <td>5</td>\n",
       "      <td>0.0496</td>\n",
       "      <td>47.58</td>\n",
       "      <td>2.36</td>\n",
       "      <td>2018-04-09</td>\n",
       "      <td>2018-05-01</td>\n",
       "      <td>48.73</td>\n",
       "      <td>47.0300</td>\n",
       "      <td>1.15</td>\n",
       "    </tr>\n",
       "  </tbody>\n",
       "</table>\n",
       "</div>"
      ],
      "text/plain": [
       "  Stock Symbol     Company Name  Com Rate %  Dividend Yield  Closing Price  \\\n",
       "0          WMT  Wal-Mart Stores           5          0.0242          85.91   \n",
       "1            V             Visa           5          0.0070         119.78   \n",
       "2           VZ          Verizon           5          0.0496          47.58   \n",
       "\n",
       "   Annualized Dividend Ex-Div Date   Pay Date  50-day moving average  \\\n",
       "0                 2.08  2018-12-06 2019-01-02                  82.35   \n",
       "1                 0.84  2018-02-15 2018-03-06                 106.44   \n",
       "2                 2.36  2018-04-09 2018-05-01                  48.73   \n",
       "\n",
       "   200-day moving average  Dif 50-day  \n",
       "0                 78.6800       -3.56  \n",
       "1                 98.9627      -13.34  \n",
       "2                 47.0300        1.15  "
      ]
     },
     "execution_count": 6,
     "metadata": {},
     "output_type": "execute_result"
    }
   ],
   "source": [
    "df.insert(2,\"Com Rate %\", 5)\n",
    "df.head(3)"
   ]
  },
  {
   "cell_type": "markdown",
   "metadata": {},
   "source": [
    "<br>\n",
    "**Save the Calculation and the New Column to Excel**"
   ]
  },
  {
   "cell_type": "code",
   "execution_count": 7,
   "metadata": {},
   "outputs": [
    {
     "data": {
      "text/html": [
       "<div>\n",
       "<style scoped>\n",
       "    .dataframe tbody tr th:only-of-type {\n",
       "        vertical-align: middle;\n",
       "    }\n",
       "\n",
       "    .dataframe tbody tr th {\n",
       "        vertical-align: top;\n",
       "    }\n",
       "\n",
       "    .dataframe thead th {\n",
       "        text-align: right;\n",
       "    }\n",
       "</style>\n",
       "<table border=\"1\" class=\"dataframe\">\n",
       "  <thead>\n",
       "    <tr style=\"text-align: right;\">\n",
       "      <th></th>\n",
       "      <th>Stock Symbol</th>\n",
       "      <th>Company Name</th>\n",
       "      <th>Com Rate %</th>\n",
       "      <th>Dividend Yield</th>\n",
       "      <th>Closing Price</th>\n",
       "      <th>Annualized Dividend</th>\n",
       "      <th>Ex-Div Date</th>\n",
       "      <th>Pay Date</th>\n",
       "      <th>50-day moving average</th>\n",
       "      <th>200-day moving average</th>\n",
       "      <th>Dif 50-day</th>\n",
       "    </tr>\n",
       "  </thead>\n",
       "  <tbody>\n",
       "    <tr>\n",
       "      <th>27</th>\n",
       "      <td>AAPL</td>\n",
       "      <td>Apple Inc.</td>\n",
       "      <td>5</td>\n",
       "      <td>0.0146</td>\n",
       "      <td>172.44</td>\n",
       "      <td>2.52</td>\n",
       "      <td>2018-02-09</td>\n",
       "      <td>2018-02-15</td>\n",
       "      <td>156.641</td>\n",
       "      <td>152.6100</td>\n",
       "      <td>-15.799</td>\n",
       "    </tr>\n",
       "    <tr>\n",
       "      <th>28</th>\n",
       "      <td>AXP</td>\n",
       "      <td>American Express</td>\n",
       "      <td>5</td>\n",
       "      <td>0.0153</td>\n",
       "      <td>91.60</td>\n",
       "      <td>1.40</td>\n",
       "      <td>2018-04-05</td>\n",
       "      <td>2018-05-10</td>\n",
       "      <td>90.340</td>\n",
       "      <td>84.1304</td>\n",
       "      <td>-1.260</td>\n",
       "    </tr>\n",
       "    <tr>\n",
       "      <th>29</th>\n",
       "      <td>MMM</td>\n",
       "      <td>3M</td>\n",
       "      <td>5</td>\n",
       "      <td>0.0254</td>\n",
       "      <td>214.33</td>\n",
       "      <td>5.44</td>\n",
       "      <td>2018-02-15</td>\n",
       "      <td>2018-03-12</td>\n",
       "      <td>216.330</td>\n",
       "      <td>206.6900</td>\n",
       "      <td>2.000</td>\n",
       "    </tr>\n",
       "  </tbody>\n",
       "</table>\n",
       "</div>"
      ],
      "text/plain": [
       "   Stock Symbol      Company Name  Com Rate %  Dividend Yield  Closing Price  \\\n",
       "27         AAPL        Apple Inc.           5          0.0146         172.44   \n",
       "28          AXP  American Express           5          0.0153          91.60   \n",
       "29          MMM                3M           5          0.0254         214.33   \n",
       "\n",
       "    Annualized Dividend Ex-Div Date   Pay Date  50-day moving average  \\\n",
       "27                 2.52  2018-02-09 2018-02-15                156.641   \n",
       "28                 1.40  2018-04-05 2018-05-10                 90.340   \n",
       "29                 5.44  2018-02-15 2018-03-12                216.330   \n",
       "\n",
       "    200-day moving average  Dif 50-day  \n",
       "27                152.6100     -15.799  \n",
       "28                 84.1304      -1.260  \n",
       "29                206.6900       2.000  "
      ]
     },
     "execution_count": 7,
     "metadata": {},
     "output_type": "execute_result"
    }
   ],
   "source": [
    "df.to_excel('data/analysis2/Dow2.xlsx')\n",
    "df.tail(3)   "
   ]
  },
  {
   "cell_type": "markdown",
   "metadata": {},
   "source": [
    " *- two new columns created in python is saved in the Excel file*"
   ]
  },
  {
   "cell_type": "markdown",
   "metadata": {},
   "source": [
    "<br>\n",
    "**Count Rows and Columns When Dealing With Huge Dataset**"
   ]
  },
  {
   "cell_type": "code",
   "execution_count": 8,
   "metadata": {},
   "outputs": [
    {
     "name": "stdout",
     "output_type": "stream",
     "text": [
      "There are 30 rows in this file\n",
      "There are 11 columns in this file\n"
     ]
    }
   ],
   "source": [
    "Count_Row=df.shape[0] \n",
    "Count_Col=df.shape[1] \n",
    "print(\"There are %s rows in this file\" % (Count_Row))\n",
    "print(\"There are %s columns in this file\" % (Count_Col))"
   ]
  },
  {
   "cell_type": "markdown",
   "metadata": {},
   "source": [
    "<br>\n",
    "**Sum up total for specific columns**"
   ]
  },
  {
   "cell_type": "code",
   "execution_count": 9,
   "metadata": {},
   "outputs": [
    {
     "data": {
      "text/plain": [
       "Dividend Yield       0.7648\n",
       "Closing Price     3513.1300\n",
       "dtype: float64"
      ]
     },
     "execution_count": 9,
     "metadata": {},
     "output_type": "execute_result"
    }
   ],
   "source": [
    "sum_row=df[[\"Dividend Yield\",\"Closing Price\"]].sum()\n",
    "sum_row"
   ]
  },
  {
   "cell_type": "markdown",
   "metadata": {},
   "source": [
    "<br>\n",
    "**Transpose columns - This code is very helpful for viewing the output**"
   ]
  },
  {
   "cell_type": "code",
   "execution_count": 10,
   "metadata": {},
   "outputs": [
    {
     "data": {
      "text/html": [
       "<div>\n",
       "<style scoped>\n",
       "    .dataframe tbody tr th:only-of-type {\n",
       "        vertical-align: middle;\n",
       "    }\n",
       "\n",
       "    .dataframe tbody tr th {\n",
       "        vertical-align: top;\n",
       "    }\n",
       "\n",
       "    .dataframe thead th {\n",
       "        text-align: right;\n",
       "    }\n",
       "</style>\n",
       "<table border=\"1\" class=\"dataframe\">\n",
       "  <thead>\n",
       "    <tr style=\"text-align: right;\">\n",
       "      <th></th>\n",
       "      <th>Dividend Yield</th>\n",
       "      <th>Closing Price</th>\n",
       "    </tr>\n",
       "  </thead>\n",
       "  <tbody>\n",
       "    <tr>\n",
       "      <th>0</th>\n",
       "      <td>0.7648</td>\n",
       "      <td>3513.13</td>\n",
       "    </tr>\n",
       "  </tbody>\n",
       "</table>\n",
       "</div>"
      ],
      "text/plain": [
       "   Dividend Yield  Closing Price\n",
       "0          0.7648        3513.13"
      ]
     },
     "execution_count": 10,
     "metadata": {},
     "output_type": "execute_result"
    }
   ],
   "source": [
    "## Initially, think of this as similar to a pivot in excel - but more flexible\n",
    "df_sum=pd.DataFrame(data=sum_row).T\n",
    "df_sum "
   ]
  },
  {
   "cell_type": "markdown",
   "metadata": {},
   "source": [
    "<br>\n",
    "**Excel Index-Match function in python**<br>- More example at blog Data Analysis IV"
   ]
  },
  {
   "cell_type": "code",
   "execution_count": 11,
   "metadata": {},
   "outputs": [
    {
     "data": {
      "text/html": [
       "<div>\n",
       "<style scoped>\n",
       "    .dataframe tbody tr th:only-of-type {\n",
       "        vertical-align: middle;\n",
       "    }\n",
       "\n",
       "    .dataframe tbody tr th {\n",
       "        vertical-align: top;\n",
       "    }\n",
       "\n",
       "    .dataframe thead th {\n",
       "        text-align: right;\n",
       "    }\n",
       "</style>\n",
       "<table border=\"1\" class=\"dataframe\">\n",
       "  <thead>\n",
       "    <tr style=\"text-align: right;\">\n",
       "      <th></th>\n",
       "      <th>List</th>\n",
       "    </tr>\n",
       "  </thead>\n",
       "  <tbody>\n",
       "    <tr>\n",
       "      <th>0</th>\n",
       "      <td>0</td>\n",
       "    </tr>\n",
       "    <tr>\n",
       "      <th>1</th>\n",
       "      <td>1</td>\n",
       "    </tr>\n",
       "    <tr>\n",
       "      <th>2</th>\n",
       "      <td>2</td>\n",
       "    </tr>\n",
       "    <tr>\n",
       "      <th>3</th>\n",
       "      <td>3</td>\n",
       "    </tr>\n",
       "    <tr>\n",
       "      <th>4</th>\n",
       "      <td>4</td>\n",
       "    </tr>\n",
       "    <tr>\n",
       "      <th>5</th>\n",
       "      <td>5</td>\n",
       "    </tr>\n",
       "    <tr>\n",
       "      <th>6</th>\n",
       "      <td>6</td>\n",
       "    </tr>\n",
       "    <tr>\n",
       "      <th>7</th>\n",
       "      <td>7</td>\n",
       "    </tr>\n",
       "    <tr>\n",
       "      <th>8</th>\n",
       "      <td>8</td>\n",
       "    </tr>\n",
       "    <tr>\n",
       "      <th>9</th>\n",
       "      <td>9</td>\n",
       "    </tr>\n",
       "  </tbody>\n",
       "</table>\n",
       "</div>"
      ],
      "text/plain": [
       "   List\n",
       "0     0\n",
       "1     1\n",
       "2     2\n",
       "3     3\n",
       "4     4\n",
       "5     5\n",
       "6     6\n",
       "7     7\n",
       "8     8\n",
       "9     9"
      ]
     },
     "execution_count": 11,
     "metadata": {},
     "output_type": "execute_result"
    },
    {
     "data": {
      "text/html": [
       "<div>\n",
       "<style scoped>\n",
       "    .dataframe tbody tr th:only-of-type {\n",
       "        vertical-align: middle;\n",
       "    }\n",
       "\n",
       "    .dataframe tbody tr th {\n",
       "        vertical-align: top;\n",
       "    }\n",
       "\n",
       "    .dataframe thead th {\n",
       "        text-align: right;\n",
       "    }\n",
       "</style>\n",
       "<table border=\"1\" class=\"dataframe\">\n",
       "  <thead>\n",
       "    <tr style=\"text-align: right;\">\n",
       "      <th></th>\n",
       "      <th>List</th>\n",
       "      <th>Category</th>\n",
       "    </tr>\n",
       "  </thead>\n",
       "  <tbody>\n",
       "    <tr>\n",
       "      <th>0</th>\n",
       "      <td>-1</td>\n",
       "      <td>Small</td>\n",
       "    </tr>\n",
       "    <tr>\n",
       "      <th>1</th>\n",
       "      <td>4</td>\n",
       "      <td>Medium</td>\n",
       "    </tr>\n",
       "    <tr>\n",
       "      <th>2</th>\n",
       "      <td>7</td>\n",
       "      <td>Large</td>\n",
       "    </tr>\n",
       "  </tbody>\n",
       "</table>\n",
       "</div>"
      ],
      "text/plain": [
       "   List Category\n",
       "0    -1    Small\n",
       "1     4   Medium\n",
       "2     7    Large"
      ]
     },
     "execution_count": 11,
     "metadata": {},
     "output_type": "execute_result"
    },
    {
     "data": {
      "text/plain": [
       "0     Small\n",
       "1     Small\n",
       "2     Small\n",
       "3     Small\n",
       "4     Small\n",
       "5    Medium\n",
       "6    Medium\n",
       "7    Medium\n",
       "8     Large\n",
       "9     Large\n",
       "Name: List, dtype: category\n",
       "Categories (3, object): [Small < Medium < Large]"
      ]
     },
     "execution_count": 11,
     "metadata": {},
     "output_type": "execute_result"
    }
   ],
   "source": [
    "x = pd.DataFrame(data=list(range(0, 10)), columns=[\"List\"])\n",
    "x\n",
    "y = pd.DataFrame(data=[(-1, \"Small\"), (4, \"Medium\"), (7, \"Large\")], \n",
    "                         columns=[\"List\", \"Category\"])\n",
    "y\n",
    "pd.cut(x.List, y.List.tolist()+[np.inf], labels=y.Category)"
   ]
  }
 ],
 "metadata": {
  "kernelspec": {
   "display_name": "Python 3",
   "language": "python",
   "name": "python3"
  },
  "language_info": {
   "codemirror_mode": {
    "name": "ipython",
    "version": 3
   },
   "file_extension": ".py",
   "mimetype": "text/x-python",
   "name": "python",
   "nbconvert_exporter": "python",
   "pygments_lexer": "ipython3",
   "version": "3.6.3"
  }
 },
 "nbformat": 4,
 "nbformat_minor": 2
}
