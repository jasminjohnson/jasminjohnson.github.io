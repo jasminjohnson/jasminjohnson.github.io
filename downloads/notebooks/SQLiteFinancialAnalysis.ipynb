{
 "cells": [
  {
   "cell_type": "code",
   "execution_count": 2,
   "metadata": {},
   "outputs": [
    {
     "data": {
      "text/html": [
       "<style>.container { width:100% !important; }</style>"
      ],
      "text/plain": [
       "<IPython.core.display.HTML object>"
      ]
     },
     "metadata": {},
     "output_type": "display_data"
    }
   ],
   "source": [
    "from IPython.core.interactiveshell import InteractiveShell\n",
    "from IPython.core.display import display, HTML\n",
    "display(HTML(\"<style>.container { width:100% !important; }</style>\"))\n",
    "%matplotlib inline \n",
    "import matplotlib.pyplot as plt\n",
    "import pandas as pd\n",
    "import sqlite3\n"
   ]
  },
  {
   "cell_type": "markdown",
   "metadata": {},
   "source": [
    "\n",
    "# SQLite to Store Financial Analysis on the local drive\n"
   ]
  },
  {
   "cell_type": "code",
   "execution_count": null,
   "metadata": {},
   "outputs": [],
   "source": [
    "<!-- PELICAN_BEGIN_SUMMARY -->\n",
    "\n",
    "After merging and reshaping the datasets, we can use SQLite to safely storing, organizing and manipulating data in smaller environments.\n",
    "SQLite is a flexible database can do real work in real business environments. \n",
    "This database tool can be useful for accountants to fo financial analysis.\n",
    "\n",
    "\n",
    "<!-- PELICAN_END_SUMMARY -->\n",
    "\n",
    "from book \"Using SQLite by Jay A. Kreibich\"\n",
    "\n",
    "what is SQLite: In the simplest terms, SQLite is a public-domain software package that provides a\n",
    "relational database management system, or RDBMS. Relational database systems are\n",
    "used to store user-defined records in large tables. In addition to data storage and management, a database engine can process complex query commands that combine data\n",
    "from multiple tables to generate reports and data summaries. Other popular RDBMS\n",
    "products include Oracle Database, IBM’s DB2, and Microsoft’s SQL Server on the\n",
    "commercial side, with MySQL and PostgreSQL being popular open source products.\n",
    "The “Lite” in SQLite does not refer to its capabilities. Rather, SQLite is lightweight\n",
    "when it comes to setup complexity, administrative overhead, and resource usage\n",
    "\n",
    "## What is DB Brower for SQLite\n",
    "DB Browser for SQLite is a high quality, visual, open source tool to create, design, and edit database files compatible with SQLite.\n",
    "\n",
    "It is for users and developers wanting to create databases, search, and edit data. It uses a familiar spreadsheet-like interface,\n",
    "and you don't need to learn complicated SQL commands.\n",
    "\n",
    "This program is not a visual shell for the sqlite command line tool.\n",
    "\n",
    "\n",
    "\n",
    "## Why use SQLite to read Excel File?\n",
    "- Sort data on several fields\n",
    "- Combining data from several sheets \n",
    "- Install Scientific Python to convert Excel file in SQLite database in just 8 lines of code\n",
    "- Use free GUI tools to run SQL queries on database\n",
    "- Each sheet of Excel file is converted in a table\n",
    "- Sheet name can use underscore, but no whitespace for legal SQLite table name\n",
    "- The first row in each sheet should have legal column names. Here is conversion code:\n",
    "\n"
   ]
  },
  {
   "cell_type": "code",
   "execution_count": 3,
   "metadata": {},
   "outputs": [
    {
     "name": "stderr",
     "output_type": "stream",
     "text": [
      "C:\\apps\\python36\\python-3.6.3.amd64\\lib\\site-packages\\pandas\\core\\generic.py:1534: UserWarning: The spaces in these column names will not be changed. In pandas versions < 0.14, spaces were converted to underscores.\n",
      "  chunksize=chunksize, dtype=dtype)\n"
     ]
    }
   ],
   "source": [
    "#Name of Excel xlsx file. SQLite database will have the same name and extension .db\n",
    "filename=\"data/Premium_Loss\" \n",
    "con=sqlite3.connect(filename+\".db\")\n",
    "wb=pd.read_excel(filename+'.xlsx',sheet_name=None)\n",
    "for sheet in wb:\n",
    "#     wb[sheet].to_sql(sheet,con, index=False)\n",
    "    wb[sheet].to_sql(sheet,con, index=False, if_exists='replace')\n",
    "con.commit()\n",
    "con.close()"
   ]
  },
  {
   "cell_type": "code",
   "execution_count": 5,
   "metadata": {},
   "outputs": [
    {
     "ename": "SyntaxError",
     "evalue": "invalid syntax (<ipython-input-5-f51ee6f7bdc3>, line 5)",
     "output_type": "error",
     "traceback": [
      "\u001b[1;36m  File \u001b[1;32m\"<ipython-input-5-f51ee6f7bdc3>\"\u001b[1;36m, line \u001b[1;32m5\u001b[0m\n\u001b[1;33m    <img src=\"files/image.png\">\u001b[0m\n\u001b[1;37m    ^\u001b[0m\n\u001b[1;31mSyntaxError\u001b[0m\u001b[1;31m:\u001b[0m invalid syntax\n"
     ]
    }
   ],
   "source": [
    "## Install DB Brower for SQLite\n",
    "\n",
    "## View Excel File as Table in SQLite\n",
    "\n",
    "<img src=\"files/image.png\">\n",
    "\n",
    "## Export SQLite Database To a CSV File\n"
   ]
  }
 ],
 "metadata": {
  "kernelspec": {
   "display_name": "Python 3",
   "language": "python",
   "name": "python3"
  },
  "language_info": {
   "codemirror_mode": {
    "name": "ipython",
    "version": 3
   },
   "file_extension": ".py",
   "mimetype": "text/x-python",
   "name": "python",
   "nbconvert_exporter": "python",
   "pygments_lexer": "ipython3",
   "version": "3.6.3"
  }
 },
 "nbformat": 4,
 "nbformat_minor": 2
}
