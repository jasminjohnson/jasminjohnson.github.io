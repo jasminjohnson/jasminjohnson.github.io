{
 "cells": [
  {
   "cell_type": "code",
   "execution_count": 1,
   "metadata": {},
   "outputs": [
    {
     "data": {
      "text/html": [
       "<style>.container { width:100% !important; }</style>"
      ],
      "text/plain": [
       "<IPython.core.display.HTML object>"
      ]
     },
     "metadata": {},
     "output_type": "display_data"
    }
   ],
   "source": [
    "from IPython.core.interactiveshell import InteractiveShell\n",
    "from IPython.core.display import display, HTML\n",
    "display(HTML(\"<style>.container { width:100% !important; }</style>\"))\n",
    "%matplotlib inline \n",
    "import matplotlib.pyplot as plt\n",
    "import pandas as pd"
   ]
  },
  {
   "cell_type": "markdown",
   "metadata": {},
   "source": [
    "# SQLite Database for Financial Analysis - SQLite and DB Browser "
   ]
  },
  {
   "cell_type": "markdown",
   "metadata": {},
   "source": [
    "<!-- PELICAN_BEGIN_SUMMARY -->\n",
    "\n",
    "After merging and reshaping the datasets, we can use SQLite to safely store, organize and manipulate data in smaller environments.\n",
    "SQLite is a flexible database that can do real work in real business environments and the SQLite library is also integrated\n",
    "into a number of popular scripting languages, including Python.\n",
    "This database tool can also be useful for accountants doing financial analysis.\n",
    "\n",
    "<!-- PELICAN_END_SUMMARY -->"
   ]
  },
  {
   "cell_type": "markdown",
   "metadata": {},
   "source": [
    "<img src=\"/images/SQLflowchart.png\" alt=\"[img: SQL flowchart]\" title=\"SQLite flowchart\" />\n"
   ]
  },
  {
   "cell_type": "markdown",
   "metadata": {},
   "source": [
    "#### **What is SQLite?**\n",
    "from \"Using SQLite\" by Jay A. Kreibich\n",
    "\n",
    "What is SQLite: In the simplest terms, SQLite is a public-domain software package that provides a\n",
    "relational database management system, or RDBMS. Relational database systems are\n",
    "used to store user-defined records in large tables. In addition to data storage and management, a database engine can process complex query commands that combine data\n",
    "from multiple tables to generate reports and data summaries.\n",
    "The “Lite” in SQLite does not refer to its capabilities. Rather, SQLite is lightweight\n",
    "when it comes to setup complexity, administrative overhead, and resource usage\n",
    "\n",
    "#### **What is DB Browser for SQLite?**\n",
    "DB Browser for SQLite is a high quality, visual, open source tool used to create, design, and edit database files compatible with SQLite.\n",
    "\n",
    "It is for users and developers wanting to create, search, and edit databases. It uses a familiar spreadsheet-like interface,\n",
    "and you don't need to learn complicated SQL commands. This program is not a visual shell for the sqlite command line tool."
   ]
  },
  {
   "cell_type": "markdown",
   "metadata": {},
   "source": [
    "#### **Why would we use SQLite to read Excel Files?**\n",
    "- Sort data on several fields\n",
    "- Combine data from different spreadheets \n",
    "- Use free graphical user interface (GUI) tools to run SQL queries on database\n",
    "- Convert Excel files to tables\n",
    "- Install Scientific Python to convert Excel file in SQLite database in just 8 lines of code\n",
    "- Note: Excel tab name cannot have spaces, but underscores are acceptable"
   ]
  },
  {
   "cell_type": "markdown",
   "metadata": {},
   "source": [
    "#### **Connecting SQLite **\n",
    "- The example is an Excel file \"PremiumLossSQLite.xlsx\" \n",
    "- The file has three tabs - premium, loss and reinsurance\n",
    "- The first row in each sheet should have legal column names. Here is the conversion code:"
   ]
  },
  {
   "cell_type": "code",
   "execution_count": 2,
   "metadata": {},
   "outputs": [],
   "source": [
    "# Import library\n",
    "import sqlite3\n",
    "\n",
    "# Name of Excel xlsx file. SQLite database will have the same name and extension .db\n",
    "filename=\"data/PremiumLossSQLite\"   \n",
    "\n",
    "# filename+\".db\"\n",
    "# use if_exists so we can repeat the process when new data is available for rerun\n",
    "\n",
    "con=sqlite3.connect(filename+\".db\") \n",
    "wb=pd.read_excel(filename+'.xlsx',sheet_name=None)\n",
    "for sheet in wb:\n",
    "    wb[sheet].to_sql(sheet,con, index=False, if_exists='replace')  \n",
    "con.commit()\n",
    "\n",
    "#con.close()    # keep the connection open until you finish all the modification"
   ]
  },
  {
   "cell_type": "markdown",
   "metadata": {},
   "source": [
    "#### **A handy tool to visualize and access SQLite databases is the free DB Browser**\n",
    "#### **Below is the screenshot of the database structures after connecting from Excel to SQLite by using Python**\n",
    "<img src=\"/images/DBimage.png\" alt=\"[img: DB Browser after import Excel to SQLite and view the table]\" title=\"DbBrowser Query\" />"
   ]
  },
  {
   "cell_type": "markdown",
   "metadata": {},
   "source": [
    "#### ** Query the database - query list of policies with incurred losses that covered under the reinsurance treaty**\n",
    "- Instead of Excel VLookup function that has certian limitation\n",
    "- We can repeat/automate the query process when new data get updated \n",
    "- Save the query result to SQLite or Excel\n",
    "- Option A : Inner join between the reinsurance, premium and loss data \n",
    "- Option B : Selecting row"
   ]
  },
  {
   "cell_type": "code",
   "execution_count": 3,
   "metadata": {},
   "outputs": [],
   "source": [
    "## Option A : Inner join between the reinsurance, premium and loss data \n",
    "\n",
    "sql_statement='''\n",
    "select r.PolicyNumber as Policy_from_Reinsurance_Tab, p.PolicyNumber as Policy_from_Policy_Tab, l.PolicyNumber as Policy_from_Loss_Tab\n",
    "from reinsurance as r\n",
    "join premium as p on p.PolicyNumber=r.PolicyNumber\n",
    "join loss as l on l.PolicyNumber=r.PolicyNumber\n",
    "'''\n",
    "df = pd.read_sql(sql_statement,con)\n",
    "\n",
    "df.to_sql('reinsurace_query_results', con,if_exists='replace') \n",
    "df.to_excel('data/reinsurace_query_results.xlsx') "
   ]
  },
  {
   "cell_type": "markdown",
   "metadata": {},
   "source": [
    "#### ** Save the query result in SQLite**\n",
    "<img src=\"/images/SQLQuery.png\" alt=\"[img: Reinsurance Query Save in SQLite]\" title=\"Reinsurance Query SQL \" />"
   ]
  },
  {
   "cell_type": "markdown",
   "metadata": {},
   "source": [
    "#### **Save the query result as an Excel file**\n",
    "<img src=\"/images/reinsurance.jpg\" alt=\"[img: Reinsurance Query Save in Excel from SQLite]\" title=\"Reinsurance Query Excel\" />"
   ]
  },
  {
   "cell_type": "code",
   "execution_count": 4,
   "metadata": {},
   "outputs": [
    {
     "name": "stdout",
     "output_type": "stream",
     "text": [
      "1): (47653, 2017, 'Open', 'Rudolf \\xa0', 'Talkin', 'Hospital', '500K/1.5M', 887969, '2014-01-03 00:00:00', '2017-09-17 00:00:00', '2017-08-14 00:00:00', '2018-08-14 00:00:00', 'OCC', 80800, 50000, 20000, None, 63133, 290832)\n"
     ]
    }
   ],
   "source": [
    "## Option B : Selecting row   ???? how to print out??? 8/8/2018\n",
    "# 1) Select from reinsurance table with Line of Business is Hospital\n",
    "\n",
    "cur=con.cursor()\n",
    "table_name = 'reinsurance'   # name of the table to be queried\n",
    "\n",
    "column_2 = 'LOB'\n",
    "cur.execute('SELECT * FROM {tn} WHERE {cn}=\"Hospital\"'.\\\n",
    "        format(tn=table_name, cn=column_2))\n",
    "# all_rows = cur.fetchall()\n",
    "# print('1):', all_rows)\n",
    "\n",
    "one_row = cur.fetchone()\n",
    "print('1):', one_row) "
   ]
  },
  {
   "cell_type": "code",
   "execution_count": 5,
   "metadata": {},
   "outputs": [
    {
     "name": "stdout",
     "output_type": "stream",
     "text": [
      "2): [(47653,), (46048,), (43112,), (37955,), (43242,), (13418,), (26364,), (23810,), (11106,), (12652,)]\n"
     ]
    }
   ],
   "source": [
    "# 2) Select one column - policy column for rows that match a LOB is hosptial\n",
    "column_1 = 'PolicyNumber'\n",
    "cur.execute('SELECT ({coi}) FROM {tn} WHERE {cn}=\"Hospital\"'.\\\n",
    "        format(coi=column_1, tn=table_name, cn=column_2))\n",
    "all_rows = cur.fetchall()\n",
    "print('2):', all_rows)"
   ]
  },
  {
   "cell_type": "code",
   "execution_count": 6,
   "metadata": {},
   "outputs": [
    {
     "name": "stdout",
     "output_type": "stream",
     "text": [
      "3): [(47653, 'Hospital'), (46048, 'Hospital'), (43112, 'Hospital'), (37955, 'Hospital'), (43242, 'Hospital'), (13418, 'Hospital'), (26364, 'Hospital'), (23810, 'Hospital'), (11106, 'Hospital'), (12652, 'Hospital')]\n"
     ]
    }
   ],
   "source": [
    "# 3) Select two columns - policy/LOB column for rows that match a LOB is hosptial\n",
    "cur.execute('SELECT {coi1},{coi2} FROM {tn} WHERE {cn}=\"Hospital\"'.\\\n",
    "        format(coi1=column_1, coi2=column_2, tn=table_name, cn=column_2))\n",
    "all_rows = cur.fetchall()\n",
    "print('3):', all_rows)"
   ]
  },
  {
   "cell_type": "code",
   "execution_count": 8,
   "metadata": {},
   "outputs": [
    {
     "name": "stdout",
     "output_type": "stream",
     "text": [
      "4): [(18196, 2017, 'Closed', 'Burl \\xa0', 'Katan', 'Phy', '500K/1.5M', 887535, '2013-02-05 00:00:00', '2017-07-02 00:00:00', '2017-01-03 00:00:00', '2018-01-03 00:00:00', 'CM', 212515, 50000, 20000, None, 55733, 101685), (37658, 2017, 'Closed', 'Towanda \\xa0', 'Israeli', 'Phy', '500K/1.5M', 884102, '2013-03-06 00:00:00', '2018-05-22 00:00:00', '2017-11-29 00:00:00', '2018-11-29 00:00:00', 'OCC', 122708, 50000, 20000, None, 92617, 244446), (10700, 2017, 'Closed', 'Sabra \\xa0', 'Higgenbotham', 'Phy', '500K/1.5M', 880205, '2012-12-23 00:00:00', '2013-12-05 00:00:00', '2017-10-07 00:00:00', '2018-10-07 00:00:00', 'OCC', 12021, 50000, 20000, None, 37639, 97247), (10948, 2017, 'Closed', 'Florencia \\xa0', 'Bilyk', 'Phy', '500K/1.5M', 880208, '2013-01-11 00:00:00', '2017-04-22 00:00:00', '2017-06-05 00:00:00', '2018-06-05 00:00:00', 'CM', 5132, 50000, 20000, None, 289389, 38573), (26445, 2017, 'Closed', 'Saturnina \\xa0', 'Lamperouge', 'Phy', '500K/1.5M', 889713, '2013-03-22 00:00:00', '2018-02-11 00:00:00', '2017-03-01 00:00:00', '2018-03-01 00:00:00', 'OCC', 110571, 50000, 20000, None, 31063, 122436)]\n"
     ]
    }
   ],
   "source": [
    "# 4) Selecting only up to 5 rows that match a certain value in 1 column\n",
    "\n",
    "cur.execute('SELECT * FROM {tn} WHERE {cn}=\"Phy\" LIMIT 5'.\\\n",
    "        format(tn=table_name, cn=column_2))\n",
    "five_rows = cur.fetchall()\n",
    "print('4):', five_rows)"
   ]
  },
  {
   "cell_type": "code",
   "execution_count": 9,
   "metadata": {},
   "outputs": [
    {
     "name": "stdout",
     "output_type": "stream",
     "text": [
      "5): (18196, 2017, 'Closed', 'Burl \\xa0', 'Katan', 'Phy', '500K/1.5M', 887535, '2013-02-05 00:00:00', '2017-07-02 00:00:00', '2017-01-03 00:00:00', '2018-01-03 00:00:00', 'CM', 212515, 50000, 20000, None, 55733, 101685)\n"
     ]
    }
   ],
   "source": [
    "# 5) Check if a certain claim number exists and print its column contents\n",
    "id_column = 'ClaimNumber'\n",
    "some_id = 887535\n",
    "\n",
    "cur.execute(\"SELECT * FROM {tn} WHERE {idf}={my_id}\".\\\n",
    "        format(tn=table_name, cn=column_2, idf=id_column, my_id=some_id))\n",
    "id_exists = cur.fetchone()\n",
    "if id_exists:\n",
    "    print('5): {}'.format(id_exists))\n",
    "else:\n",
    "    print('5): {} does not exist'.format(some_id))\n"
   ]
  },
  {
   "cell_type": "markdown",
   "metadata": {},
   "source": [
    "#### ** Insert a column to table - \"premium\" **\n",
    "- Option A - use DML to add a column :-|\n",
    "- Option B - use to_sql to add a column - much easier and more native to PANDAS way of doing things"
   ]
  },
  {
   "cell_type": "code",
   "execution_count": 10,
   "metadata": {},
   "outputs": [
    {
     "data": {
      "text/html": [
       "<div>\n",
       "<style scoped>\n",
       "    .dataframe tbody tr th:only-of-type {\n",
       "        vertical-align: middle;\n",
       "    }\n",
       "\n",
       "    .dataframe tbody tr th {\n",
       "        vertical-align: top;\n",
       "    }\n",
       "\n",
       "    .dataframe thead th {\n",
       "        text-align: right;\n",
       "    }\n",
       "</style>\n",
       "<table border=\"1\" class=\"dataframe\">\n",
       "  <thead>\n",
       "    <tr style=\"text-align: right;\">\n",
       "      <th></th>\n",
       "      <th>PolicyNumber</th>\n",
       "      <th>FirstName</th>\n",
       "      <th>LastName</th>\n",
       "      <th>PolicyEffectiveDate</th>\n",
       "      <th>LOB</th>\n",
       "      <th>PolicyType</th>\n",
       "      <th>Premium</th>\n",
       "      <th>Coverage</th>\n",
       "      <th>ExcessCoverage</th>\n",
       "      <th>ExcessPolicy</th>\n",
       "    </tr>\n",
       "  </thead>\n",
       "  <tbody>\n",
       "    <tr>\n",
       "      <th>0</th>\n",
       "      <td>10880</td>\n",
       "      <td>Kurtis</td>\n",
       "      <td>Dumm</td>\n",
       "      <td>2017-07-08 00:00:00</td>\n",
       "      <td>Phy</td>\n",
       "      <td>CM</td>\n",
       "      <td>232058</td>\n",
       "      <td>1000000</td>\n",
       "      <td>3900000</td>\n",
       "      <td>96289.0</td>\n",
       "    </tr>\n",
       "    <tr>\n",
       "      <th>1</th>\n",
       "      <td>10948</td>\n",
       "      <td>Florencia</td>\n",
       "      <td>Bilyk</td>\n",
       "      <td>2017-06-05 00:00:00</td>\n",
       "      <td>Podiatrist</td>\n",
       "      <td>CM</td>\n",
       "      <td>5132</td>\n",
       "      <td>1000000</td>\n",
       "      <td>3900000</td>\n",
       "      <td>99671.0</td>\n",
       "    </tr>\n",
       "    <tr>\n",
       "      <th>2</th>\n",
       "      <td>10962</td>\n",
       "      <td>Taisha</td>\n",
       "      <td>Whack</td>\n",
       "      <td>2017-09-19 00:00:00</td>\n",
       "      <td>Dentist</td>\n",
       "      <td>OCC</td>\n",
       "      <td>11308</td>\n",
       "      <td>1000000</td>\n",
       "      <td>3900000</td>\n",
       "      <td>91809.0</td>\n",
       "    </tr>\n",
       "    <tr>\n",
       "      <th>3</th>\n",
       "      <td>11028</td>\n",
       "      <td>Yun</td>\n",
       "      <td>Linely</td>\n",
       "      <td>2017-10-11 00:00:00</td>\n",
       "      <td>Dentist</td>\n",
       "      <td>OCC</td>\n",
       "      <td>13381</td>\n",
       "      <td>1000000</td>\n",
       "      <td>3900000</td>\n",
       "      <td>94102.0</td>\n",
       "    </tr>\n",
       "    <tr>\n",
       "      <th>4</th>\n",
       "      <td>10244</td>\n",
       "      <td>Wonda</td>\n",
       "      <td>Hallsworth</td>\n",
       "      <td>2017-08-07 00:00:00</td>\n",
       "      <td>Dentist</td>\n",
       "      <td>OCC</td>\n",
       "      <td>13330</td>\n",
       "      <td>1000000</td>\n",
       "      <td>3900000</td>\n",
       "      <td>92319.0</td>\n",
       "    </tr>\n",
       "  </tbody>\n",
       "</table>\n",
       "</div>"
      ],
      "text/plain": [
       "   PolicyNumber    FirstName    LastName  PolicyEffectiveDate         LOB  \\\n",
       "0         10880     Kurtis          Dumm  2017-07-08 00:00:00         Phy   \n",
       "1         10948  Florencia         Bilyk  2017-06-05 00:00:00  Podiatrist   \n",
       "2         10962     Taisha         Whack  2017-09-19 00:00:00     Dentist   \n",
       "3         11028        Yun        Linely  2017-10-11 00:00:00     Dentist   \n",
       "4         10244      Wonda    Hallsworth  2017-08-07 00:00:00     Dentist   \n",
       "\n",
       "  PolicyType  Premium  Coverage  ExcessCoverage  ExcessPolicy  \n",
       "0         CM   232058   1000000         3900000       96289.0  \n",
       "1         CM     5132   1000000         3900000       99671.0  \n",
       "2        OCC    11308   1000000         3900000       91809.0  \n",
       "3        OCC    13381   1000000         3900000       94102.0  \n",
       "4        OCC    13330   1000000         3900000       92319.0  "
      ]
     },
     "execution_count": 10,
     "metadata": {},
     "output_type": "execute_result"
    }
   ],
   "source": [
    "# Premium table before inserting new column\n",
    "sql_statement='''\n",
    "select p.* from premium as p\n",
    "'''\n",
    "df = pd.read_sql(sql_statement,con)\n",
    "df.head()"
   ]
  },
  {
   "cell_type": "code",
   "execution_count": 11,
   "metadata": {},
   "outputs": [
    {
     "data": {
      "text/html": [
       "<div>\n",
       "<style scoped>\n",
       "    .dataframe tbody tr th:only-of-type {\n",
       "        vertical-align: middle;\n",
       "    }\n",
       "\n",
       "    .dataframe tbody tr th {\n",
       "        vertical-align: top;\n",
       "    }\n",
       "\n",
       "    .dataframe thead th {\n",
       "        text-align: right;\n",
       "    }\n",
       "</style>\n",
       "<table border=\"1\" class=\"dataframe\">\n",
       "  <thead>\n",
       "    <tr style=\"text-align: right;\">\n",
       "      <th></th>\n",
       "      <th>PolicyNumber</th>\n",
       "      <th>FirstName</th>\n",
       "      <th>LastName</th>\n",
       "      <th>PolicyEffectiveDate</th>\n",
       "      <th>LOB</th>\n",
       "      <th>PolicyType</th>\n",
       "      <th>Premium</th>\n",
       "      <th>Coverage</th>\n",
       "      <th>ExcessCoverage</th>\n",
       "      <th>ExcessPolicy</th>\n",
       "      <th>Reinsurers</th>\n",
       "    </tr>\n",
       "  </thead>\n",
       "  <tbody>\n",
       "    <tr>\n",
       "      <th>0</th>\n",
       "      <td>10880</td>\n",
       "      <td>Kurtis</td>\n",
       "      <td>Dumm</td>\n",
       "      <td>2017-07-08 00:00:00</td>\n",
       "      <td>Phy</td>\n",
       "      <td>CM</td>\n",
       "      <td>232058</td>\n",
       "      <td>1000000</td>\n",
       "      <td>3900000</td>\n",
       "      <td>96289.0</td>\n",
       "      <td>None</td>\n",
       "    </tr>\n",
       "    <tr>\n",
       "      <th>1</th>\n",
       "      <td>10948</td>\n",
       "      <td>Florencia</td>\n",
       "      <td>Bilyk</td>\n",
       "      <td>2017-06-05 00:00:00</td>\n",
       "      <td>Podiatrist</td>\n",
       "      <td>CM</td>\n",
       "      <td>5132</td>\n",
       "      <td>1000000</td>\n",
       "      <td>3900000</td>\n",
       "      <td>99671.0</td>\n",
       "      <td>None</td>\n",
       "    </tr>\n",
       "    <tr>\n",
       "      <th>2</th>\n",
       "      <td>10962</td>\n",
       "      <td>Taisha</td>\n",
       "      <td>Whack</td>\n",
       "      <td>2017-09-19 00:00:00</td>\n",
       "      <td>Dentist</td>\n",
       "      <td>OCC</td>\n",
       "      <td>11308</td>\n",
       "      <td>1000000</td>\n",
       "      <td>3900000</td>\n",
       "      <td>91809.0</td>\n",
       "      <td>None</td>\n",
       "    </tr>\n",
       "    <tr>\n",
       "      <th>3</th>\n",
       "      <td>11028</td>\n",
       "      <td>Yun</td>\n",
       "      <td>Linely</td>\n",
       "      <td>2017-10-11 00:00:00</td>\n",
       "      <td>Dentist</td>\n",
       "      <td>OCC</td>\n",
       "      <td>13381</td>\n",
       "      <td>1000000</td>\n",
       "      <td>3900000</td>\n",
       "      <td>94102.0</td>\n",
       "      <td>None</td>\n",
       "    </tr>\n",
       "    <tr>\n",
       "      <th>4</th>\n",
       "      <td>10244</td>\n",
       "      <td>Wonda</td>\n",
       "      <td>Hallsworth</td>\n",
       "      <td>2017-08-07 00:00:00</td>\n",
       "      <td>Dentist</td>\n",
       "      <td>OCC</td>\n",
       "      <td>13330</td>\n",
       "      <td>1000000</td>\n",
       "      <td>3900000</td>\n",
       "      <td>92319.0</td>\n",
       "      <td>None</td>\n",
       "    </tr>\n",
       "  </tbody>\n",
       "</table>\n",
       "</div>"
      ],
      "text/plain": [
       "   PolicyNumber    FirstName    LastName  PolicyEffectiveDate         LOB  \\\n",
       "0         10880     Kurtis          Dumm  2017-07-08 00:00:00         Phy   \n",
       "1         10948  Florencia         Bilyk  2017-06-05 00:00:00  Podiatrist   \n",
       "2         10962     Taisha         Whack  2017-09-19 00:00:00     Dentist   \n",
       "3         11028        Yun        Linely  2017-10-11 00:00:00     Dentist   \n",
       "4         10244      Wonda    Hallsworth  2017-08-07 00:00:00     Dentist   \n",
       "\n",
       "  PolicyType  Premium  Coverage  ExcessCoverage  ExcessPolicy Reinsurers  \n",
       "0         CM   232058   1000000         3900000       96289.0       None  \n",
       "1         CM     5132   1000000         3900000       99671.0       None  \n",
       "2        OCC    11308   1000000         3900000       91809.0       None  \n",
       "3        OCC    13381   1000000         3900000       94102.0       None  \n",
       "4        OCC    13330   1000000         3900000       92319.0       None  "
      ]
     },
     "execution_count": 11,
     "metadata": {},
     "output_type": "execute_result"
    }
   ],
   "source": [
    "## Option A - use DML to add a column :-|\n",
    "\n",
    "# Obtain a Cursor object to execute SQL statements\n",
    "\n",
    "cur=con.cursor()\n",
    "\n",
    "# Add a new column to premium table\n",
    "\n",
    "addColumn = \"ALTER TABLE premium ADD COLUMN Reinsurers varchar(32)\"\n",
    "\n",
    "cur.execute(addColumn) \n",
    "\n",
    "sql_statement='''\n",
    "select p.* from premium as p\n",
    "'''\n",
    "df = pd.read_sql(sql_statement,con)\n",
    "df.head()"
   ]
  },
  {
   "cell_type": "code",
   "execution_count": 12,
   "metadata": {},
   "outputs": [
    {
     "data": {
      "text/html": [
       "<div>\n",
       "<style scoped>\n",
       "    .dataframe tbody tr th:only-of-type {\n",
       "        vertical-align: middle;\n",
       "    }\n",
       "\n",
       "    .dataframe tbody tr th {\n",
       "        vertical-align: top;\n",
       "    }\n",
       "\n",
       "    .dataframe thead th {\n",
       "        text-align: right;\n",
       "    }\n",
       "</style>\n",
       "<table border=\"1\" class=\"dataframe\">\n",
       "  <thead>\n",
       "    <tr style=\"text-align: right;\">\n",
       "      <th></th>\n",
       "      <th>PolicyNumber</th>\n",
       "      <th>FirstName</th>\n",
       "      <th>LastName</th>\n",
       "      <th>PolicyEffectiveDate</th>\n",
       "      <th>LOB</th>\n",
       "      <th>PolicyType</th>\n",
       "      <th>Premium</th>\n",
       "      <th>Coverage</th>\n",
       "      <th>ExcessCoverage</th>\n",
       "      <th>ExcessPolicy</th>\n",
       "      <th>Reinsurers</th>\n",
       "      <th>Reinsurers2</th>\n",
       "    </tr>\n",
       "  </thead>\n",
       "  <tbody>\n",
       "    <tr>\n",
       "      <th>0</th>\n",
       "      <td>10880</td>\n",
       "      <td>Kurtis</td>\n",
       "      <td>Dumm</td>\n",
       "      <td>2017-07-08 00:00:00</td>\n",
       "      <td>Phy</td>\n",
       "      <td>CM</td>\n",
       "      <td>232058</td>\n",
       "      <td>1000000</td>\n",
       "      <td>3900000</td>\n",
       "      <td>96289.0</td>\n",
       "      <td>None</td>\n",
       "      <td>ABC Re</td>\n",
       "    </tr>\n",
       "    <tr>\n",
       "      <th>1</th>\n",
       "      <td>10948</td>\n",
       "      <td>Florencia</td>\n",
       "      <td>Bilyk</td>\n",
       "      <td>2017-06-05 00:00:00</td>\n",
       "      <td>Podiatrist</td>\n",
       "      <td>CM</td>\n",
       "      <td>5132</td>\n",
       "      <td>1000000</td>\n",
       "      <td>3900000</td>\n",
       "      <td>99671.0</td>\n",
       "      <td>None</td>\n",
       "      <td>ABC Re</td>\n",
       "    </tr>\n",
       "    <tr>\n",
       "      <th>2</th>\n",
       "      <td>10962</td>\n",
       "      <td>Taisha</td>\n",
       "      <td>Whack</td>\n",
       "      <td>2017-09-19 00:00:00</td>\n",
       "      <td>Dentist</td>\n",
       "      <td>OCC</td>\n",
       "      <td>11308</td>\n",
       "      <td>1000000</td>\n",
       "      <td>3900000</td>\n",
       "      <td>91809.0</td>\n",
       "      <td>None</td>\n",
       "      <td>ABC Re</td>\n",
       "    </tr>\n",
       "    <tr>\n",
       "      <th>3</th>\n",
       "      <td>11028</td>\n",
       "      <td>Yun</td>\n",
       "      <td>Linely</td>\n",
       "      <td>2017-10-11 00:00:00</td>\n",
       "      <td>Dentist</td>\n",
       "      <td>OCC</td>\n",
       "      <td>13381</td>\n",
       "      <td>1000000</td>\n",
       "      <td>3900000</td>\n",
       "      <td>94102.0</td>\n",
       "      <td>None</td>\n",
       "      <td>ABC Re</td>\n",
       "    </tr>\n",
       "    <tr>\n",
       "      <th>4</th>\n",
       "      <td>10244</td>\n",
       "      <td>Wonda</td>\n",
       "      <td>Hallsworth</td>\n",
       "      <td>2017-08-07 00:00:00</td>\n",
       "      <td>Dentist</td>\n",
       "      <td>OCC</td>\n",
       "      <td>13330</td>\n",
       "      <td>1000000</td>\n",
       "      <td>3900000</td>\n",
       "      <td>92319.0</td>\n",
       "      <td>None</td>\n",
       "      <td>ABC Re</td>\n",
       "    </tr>\n",
       "  </tbody>\n",
       "</table>\n",
       "</div>"
      ],
      "text/plain": [
       "   PolicyNumber    FirstName    LastName  PolicyEffectiveDate         LOB  \\\n",
       "0         10880     Kurtis          Dumm  2017-07-08 00:00:00         Phy   \n",
       "1         10948  Florencia         Bilyk  2017-06-05 00:00:00  Podiatrist   \n",
       "2         10962     Taisha         Whack  2017-09-19 00:00:00     Dentist   \n",
       "3         11028        Yun        Linely  2017-10-11 00:00:00     Dentist   \n",
       "4         10244      Wonda    Hallsworth  2017-08-07 00:00:00     Dentist   \n",
       "\n",
       "  PolicyType  Premium  Coverage  ExcessCoverage  ExcessPolicy Reinsurers  \\\n",
       "0         CM   232058   1000000         3900000       96289.0       None   \n",
       "1         CM     5132   1000000         3900000       99671.0       None   \n",
       "2        OCC    11308   1000000         3900000       91809.0       None   \n",
       "3        OCC    13381   1000000         3900000       94102.0       None   \n",
       "4        OCC    13330   1000000         3900000       92319.0       None   \n",
       "\n",
       "  Reinsurers2  \n",
       "0      ABC Re  \n",
       "1      ABC Re  \n",
       "2      ABC Re  \n",
       "3      ABC Re  \n",
       "4      ABC Re  "
      ]
     },
     "execution_count": 12,
     "metadata": {},
     "output_type": "execute_result"
    }
   ],
   "source": [
    "## Option B - use to_sql to add a column - much easier and more native to PANDAS way of doing things\n",
    "\n",
    "df['Reinsurers2']='ABC Re'\n",
    "df.to_sql('premium',con,if_exists='replace') \n",
    "\n",
    "df.head()"
   ]
  },
  {
   "cell_type": "code",
   "execution_count": null,
   "metadata": {},
   "outputs": [],
   "source": [
    "# Closing the connection to the database file\n",
    "con.close()"
   ]
  }
 ],
 "metadata": {
  "kernelspec": {
   "display_name": "Python 3",
   "language": "python",
   "name": "python3"
  },
  "language_info": {
   "codemirror_mode": {
    "name": "ipython",
    "version": 3
   },
   "file_extension": ".py",
   "mimetype": "text/x-python",
   "name": "python",
   "nbconvert_exporter": "python",
   "pygments_lexer": "ipython3",
   "version": "3.6.3"
  }
 },
 "nbformat": 4,
 "nbformat_minor": 2
}
