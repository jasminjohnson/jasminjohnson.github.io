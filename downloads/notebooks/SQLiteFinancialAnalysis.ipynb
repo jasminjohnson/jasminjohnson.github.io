{
 "cells": [
  {
   "cell_type": "code",
   "execution_count": 1,
   "metadata": {},
   "outputs": [
    {
     "data": {
      "text/html": [
       "<style>.container { width:100% !important; }</style>"
      ],
      "text/plain": [
       "<IPython.core.display.HTML object>"
      ]
     },
     "metadata": {},
     "output_type": "display_data"
    }
   ],
   "source": [
    "from IPython.core.interactiveshell import InteractiveShell\n",
    "from IPython.core.display import display, HTML\n",
    "display(HTML(\"<style>.container { width:100% !important; }</style>\"))\n",
    "%matplotlib inline \n",
    "import matplotlib.pyplot as plt\n",
    "import pandas as pd\n",
    "import sqlite3\n"
   ]
  },
  {
   "cell_type": "code",
   "execution_count": null,
   "metadata": {},
   "outputs": [],
   "source": [
    "\n",
    "# SQLite Database for Financial Analysis I - SQLite and DB Brower\n"
   ]
  },
  {
   "cell_type": "markdown",
   "metadata": {},
   "source": [
    "<!-- PELICAN_BEGIN_SUMMARY -->\n",
    "\n",
    "After merging and reshaping the datasets, we can use SQLite to safely storing, organizing and manipulating data in smaller environments.\n",
    "SQLite is a flexible database can do real work in real business environments. \n",
    "This database tool can be useful for accountants to do financial analysis.\n",
    "\n",
    "\n",
    "<!-- PELICAN_END_SUMMARY -->\n",
    "\n",
    "## What is SQLite?\n",
    "\n",
    "from book \"Using SQLite by Jay A. Kreibich\"\n",
    "\n",
    "What is SQLite: In the simplest terms, SQLite is a public-domain software package that provides a\n",
    "relational database management system, or RDBMS. Relational database systems are\n",
    "used to store user-defined records in large tables. In addition to data storage and management, a database engine can process complex query commands that combine data\n",
    "from multiple tables to generate reports and data summaries. Other popular RDBMS\n",
    "products include Oracle Database, IBM’s DB2, and Microsoft’s SQL Server on the\n",
    "commercial side, with MySQL and PostgreSQL being popular open source products.\n",
    "The “Lite” in SQLite does not refer to its capabilities. Rather, SQLite is lightweight\n",
    "when it comes to setup complexity, administrative overhead, and resource usage\n",
    "\n",
    "## What is DB Brower for SQLite?\n",
    "DB Browser for SQLite is a high quality, visual, open source tool to create, design, and edit database files compatible with SQLite.\n",
    "\n",
    "It is for users and developers wanting to create databases, search, and edit data. It uses a familiar spreadsheet-like interface,\n",
    "and you don't need to learn complicated SQL commands.\n",
    "\n",
    "This program is not a visual shell for the sqlite command line tool.\n",
    "\n",
    "\n",
    "## SQLite data types\n",
    "All data types that are supported by SQLite 3:\n",
    "INTEGER: A signed integer up to 8 bytes depending on the magnitude of the value.\n",
    "REAL: An 8-byte floating point value.\n",
    "TEXT: A text string, typically UTF-8 encoded (depending on the database encoding).\n",
    "BLOB: A blob of data (binary large object) for storing binary data.\n",
    "NULL: A NULL value, represents missing data or an empty cell.\n",
    "No designated Boolean data type: simply re-purpose the INTEGER type to represent Boolean values (0 = false, 1 = true).\n",
    "\n",
    "\n",
    "\n",
    "## Why use SQLite to read Excel File?\n",
    "- Sort data on several fields\n",
    "- Combine data from different spreadheets \n",
    "- Use free graphical user interface (GUI) tools to run SQL queries on database\n",
    "- Each sheet of Excel file is converted into a table\n",
    "- Sheet name can use underscore, but no whitespace for legal SQLite table name\n",
    "- Install Scientific Python to convert Excel file in SQLite database in just 8 lines of code\n",
    "- The first row in each sheet should have legal column names. Here is conversion code:\n",
    "    \n",
    "    - import sqlite3\n",
    "    - import pandas as pd       \n",
    "    - filename=\"workbook\" (#Name of Excel xlsx file. SQLite database will have the same name and extension .db)\n",
    "    - con=sqlite3.connect(filename+\".db\")\n",
    "    - wb=pd.read_excel(filename+'.xlsx',sheetname=None)\n",
    "    - for sheet in wb:\n",
    "         - wb[sheet].to_sql(sheet,con, index=False)\n",
    "    - con.commit()\n",
    "    - con.close()"
   ]
  },
  {
   "cell_type": "code",
   "execution_count": 2,
   "metadata": {},
   "outputs": [],
   "source": [
    "#Connect SQlite file\n",
    "filename=\"data/PremiumLossSQLite\" \n",
    "con=sqlite3.connect(filename+\".db\")  \n",
    "wb=pd.read_excel(filename+'.xlsx',sheet_name=None)\n",
    "for sheet in wb:\n",
    "#     wb[sheet].to_sql(sheet,con, index=False)\n",
    "    wb[sheet].to_sql(sheet,con, index=False, if_exists='replace')\n",
    "con.commit()\n",
    "#con.close()"
   ]
  },
  {
   "cell_type": "markdown",
   "metadata": {},
   "source": [
    "## A handy tool to visualize and access SQLite databases is the free DB Brower\n",
    "### I will use this tool to provide screenshots of the database structures that we created below the corresponding code sections\n",
    "\n",
    "<img src=\"/images/DBimage.png\" alt=\"[img: DB Browser after import Excel to SQLite and view the table]\" title=\"DbBrowser Query\" />\n"
   ]
  },
  {
   "cell_type": "code",
   "execution_count": 4,
   "metadata": {},
   "outputs": [],
   "source": [
    "# Query inner join between the reinsurance, premium and loss data and export the data to Excel\n",
    "\n",
    "sql_statement='''\n",
    "select r.PolicyNumber as rp, p.PolicyNumber as pp, l.PolicyNumber as lp\n",
    "from reinsurance as r\n",
    "join premium as p on p.PolicyNumber=r.PolicyNumber\n",
    "join loss as l on l.PolicyNumber=r.PolicyNumber\n",
    "'''\n",
    "\n",
    "df = pd.read_sql(sql_statement,con)\n",
    "\n",
    "df.to_excel('data/reinsurace_query_results.xlsx')\n"
   ]
  },
  {
   "cell_type": "markdown",
   "metadata": {},
   "source": [
    "## Save the query result as an Excel file\n",
    "\n",
    "<img src=\"/images/reinsurance.png\" alt=\"[img: Reinsurance Query Save in Excel from SQLite]\" title=\"Reinsurance Query\" />\n"
   ]
  },
  {
   "cell_type": "markdown",
   "metadata": {},
   "source": [
    "con.close()"
   ]
  }
 ],
 "metadata": {
  "kernelspec": {
   "display_name": "Python 3",
   "language": "python",
   "name": "python3"
  },
  "language_info": {
   "codemirror_mode": {
    "name": "ipython",
    "version": 3
   },
   "file_extension": ".py",
   "mimetype": "text/x-python",
   "name": "python",
   "nbconvert_exporter": "python",
   "pygments_lexer": "ipython3",
   "version": "3.6.3"
  }
 },
 "nbformat": 4,
 "nbformat_minor": 2
}
