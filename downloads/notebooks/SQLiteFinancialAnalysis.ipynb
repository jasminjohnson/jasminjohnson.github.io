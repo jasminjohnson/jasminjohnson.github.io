{
 "cells": [
  {
   "cell_type": "code",
   "execution_count": 1,
   "metadata": {},
   "outputs": [
    {
     "data": {
      "text/html": [
       "<style>.container { width:100% !important; }</style>"
      ],
      "text/plain": [
       "<IPython.core.display.HTML object>"
      ]
     },
     "metadata": {},
     "output_type": "display_data"
    }
   ],
   "source": [
    "from IPython.core.interactiveshell import InteractiveShell\n",
    "InteractiveShell.ast_node_interactivity = \"all\"\n",
    "\n",
    "from IPython.core.display import display, HTML\n",
    "display(HTML(\"<style>.container { width:100% !important; }</style>\"))\n",
    "%matplotlib inline \n",
    "import matplotlib.pyplot as plt\n",
    "import pandas as pd\n",
    "import sqlite3\n",
    "import numpy as np"
   ]
  },
  {
   "cell_type": "markdown",
   "metadata": {},
   "source": [
    "# SQLite Database for Financial Analysis - SQLite and DB Browser "
   ]
  },
  {
   "cell_type": "markdown",
   "metadata": {},
   "source": [
    "<!-- PELICAN_BEGIN_SUMMARY -->\n",
    "After merging and reshaping the datasets, we can use SQLite to store, organize and manipulate data in smaller environments.\n",
    "<br>SQLite is a public-domain software package that provides a relational database management system. \n",
    "<!-- PELICAN_END_SUMMARY -->"
   ]
  },
  {
   "cell_type": "markdown",
   "metadata": {},
   "source": [
    "<br>\n",
    "<br>\n",
    "<img src=\"/images/SQLflowchart.png\" alt=\"[img: SQL flowchart]\" title=\"SQLite flowchart\" />"
   ]
  },
  {
   "cell_type": "markdown",
   "metadata": {},
   "source": [
    "<br>\n",
    "**Goals: Automate Financial Analysis Process in SQLite**\n",
    "    - Install Scientific Python \"sqlite3\" to convert Excel file into SQLite database in 8 lines of code\n",
    "    - Excel file will be updated after rerun/reconnect to SQLite\n",
    "    - Set index and modifying primary key in SQLite or in Python\n",
    "    - Create and save query result table in SQLite and Excel\n",
    "    - Create and alter tables with pandas\n",
    "    - Insert columns to the tables        \n",
    "    - Use free graphical user interface (GUI) tools to run SQL queries on database "
   ]
  },
  {
   "cell_type": "markdown",
   "metadata": {},
   "source": [
    "<br>\n",
    "**Connecting SQLite**\n",
    "    - The first row in each sheet should have legal column names\n",
    "    - Excel tab name cannot have spaces, but underscores are acceptable \n",
    "    - Here is the conversion codes:\n",
    "      - Import library sqlite3\n",
    "      - Name of Excel .xlsx file. SQLite database will have the same name and extension .db (filename+\".db\")\n",
    "      - Use if_exists so we can repeat the process"
   ]
  },
  {
   "cell_type": "markdown",
   "metadata": {},
   "source": [
    "**Connect Excel file into SQlite**<br> - The example file is a lsit of stocks with 4 tabs - market value, share, cost and combined"
   ]
  },
  {
   "cell_type": "code",
   "execution_count": 2,
   "metadata": {},
   "outputs": [
    {
     "name": "stderr",
     "output_type": "stream",
     "text": [
      "C:\\apps\\python36\\python-3.6.3.amd64\\lib\\site-packages\\pandas\\core\\generic.py:1534: UserWarning: The spaces in these column names will not be changed. In pandas versions < 0.14, spaces were converted to underscores.\n",
      "  chunksize=chunksize, dtype=dtype)\n"
     ]
    }
   ],
   "source": [
    "filename=\"data/SQLite/Stock\" \n",
    "con=sqlite3.connect(filename+\".db\")  \n",
    "\n",
    "wb=pd.read_excel(filename+'.xlsx',sheet_name=None)\n",
    "for sheet in wb:\n",
    "    wb[sheet].to_sql(sheet,con, index=False, if_exists='replace')\n",
    "   \n",
    "con.commit()\n",
    "#con.close()"
   ]
  },
  {
   "cell_type": "markdown",
   "metadata": {},
   "source": [
    "<br>\n",
    "**Query the database**\n",
    "    - The benefit of SQlite is we can set up unique identifer as primay key\n",
    "    - We can repeat/automate the query process when new data get updated \n",
    "    - Save the query result to SQLite or Excel    "
   ]
  },
  {
   "cell_type": "markdown",
   "metadata": {},
   "source": [
    "<br>\n",
    "**Join the table**\n",
    "    - Option A : Inner join between the reinsurance, premium and loss tables \n",
    "    - Option B : Selecting row"
   ]
  },
  {
   "cell_type": "markdown",
   "metadata": {},
   "source": [
    "<br>\n",
    "**Option A : Using SQL for Inner Join between three tables**"
   ]
  },
  {
   "cell_type": "code",
   "execution_count": 3,
   "metadata": {},
   "outputs": [],
   "source": [
    "sql_statement='''\n",
    "select\n",
    "m.Symbol as Market_Tab,\n",
    "s.Symbol as Share_Tab,\n",
    "c.Symbol as Cost_Tab\n",
    "from Market as m\n",
    "join Share as s on s.Symbol=m.Symbol\n",
    "join Cost as c on c.Symbol=m.Symbol\n",
    "'''\n",
    "df = pd.read_sql(sql_statement,con)\n",
    "\n",
    "df.to_sql('/SQlite/QueryResult', con,if_exists='replace') \n",
    "df.to_excel('data/SQlite/QueryResult.xlsx') "
   ]
  },
  {
   "cell_type": "markdown",
   "metadata": {},
   "source": [
    "<br>\n",
    "**Option B : Using Pandas issuing SQL command for Inner Join between three tables**"
   ]
  },
  {
   "cell_type": "code",
   "execution_count": 4,
   "metadata": {},
   "outputs": [
    {
     "data": {
      "text/html": [
       "<div>\n",
       "<style scoped>\n",
       "    .dataframe tbody tr th:only-of-type {\n",
       "        vertical-align: middle;\n",
       "    }\n",
       "\n",
       "    .dataframe tbody tr th {\n",
       "        vertical-align: top;\n",
       "    }\n",
       "\n",
       "    .dataframe thead th {\n",
       "        text-align: right;\n",
       "    }\n",
       "</style>\n",
       "<table border=\"1\" class=\"dataframe\">\n",
       "  <thead>\n",
       "    <tr style=\"text-align: right;\">\n",
       "      <th></th>\n",
       "      <th>Market_Tab</th>\n",
       "      <th>Share_Tab</th>\n",
       "      <th>Cost_Tab</th>\n",
       "    </tr>\n",
       "  </thead>\n",
       "  <tbody>\n",
       "    <tr>\n",
       "      <th>0</th>\n",
       "      <td>AA</td>\n",
       "      <td>AA</td>\n",
       "      <td>AA</td>\n",
       "    </tr>\n",
       "    <tr>\n",
       "      <th>1</th>\n",
       "      <td>AAPL</td>\n",
       "      <td>AAPL</td>\n",
       "      <td>AAPL</td>\n",
       "    </tr>\n",
       "    <tr>\n",
       "      <th>2</th>\n",
       "      <td>ABBV</td>\n",
       "      <td>ABBV</td>\n",
       "      <td>ABBV</td>\n",
       "    </tr>\n",
       "    <tr>\n",
       "      <th>3</th>\n",
       "      <td>ABT</td>\n",
       "      <td>ABT</td>\n",
       "      <td>ABT</td>\n",
       "    </tr>\n",
       "    <tr>\n",
       "      <th>4</th>\n",
       "      <td>ADBE</td>\n",
       "      <td>ADBE</td>\n",
       "      <td>ADBE</td>\n",
       "    </tr>\n",
       "  </tbody>\n",
       "</table>\n",
       "</div>"
      ],
      "text/plain": [
       "  Market_Tab Share_Tab Cost_Tab\n",
       "0         AA        AA       AA\n",
       "1       AAPL      AAPL     AAPL\n",
       "2       ABBV      ABBV     ABBV\n",
       "3        ABT       ABT      ABT\n",
       "4       ADBE      ADBE     ADBE"
      ]
     },
     "execution_count": 4,
     "metadata": {},
     "output_type": "execute_result"
    },
    {
     "name": "stdout",
     "output_type": "stream",
     "text": [
      "rows=19\n"
     ]
    }
   ],
   "source": [
    "sql_statement='select * from Market'\n",
    "df_market = pd.read_sql(sql_statement,con)\n",
    "df_market['Market_Tab']=df_market['Symbol']\n",
    "\n",
    "sql_statement='select * from Share'\n",
    "df_share = pd.read_sql(sql_statement,con)\n",
    "df_share['Share_Tab']=df_share['Symbol']\n",
    "\n",
    "sql_statement='select * from Cost'\n",
    "df_cost = pd.read_sql(sql_statement,con)\n",
    "df_cost['Cost_Tab']=df_cost['Symbol']\n",
    "\n",
    "df_merge = pd.merge(df_market, df_share, on=['Symbol'], how='inner', suffixes=['_from_Market_Tab','_from_Share_Tab'])\n",
    "\n",
    "df_merge = pd.merge(df_merge, df_cost, on=['Symbol'], how='inner', suffixes=['','_from_Cost_Tab'])\n",
    "\n",
    "df_merge[['Market_Tab','Share_Tab','Cost_Tab']].head()\n",
    "\n",
    "df_merge=df_merge[['Market_Tab','Share_Tab','Cost_Tab']]\n",
    "\n",
    "print(\"rows=%s\" % df_merge.shape[0])\n",
    "\n",
    "df_merge.to_sql('/SQlite/QueryRresult2', con,if_exists='replace') \n",
    "df_merge.to_excel('data/SQlite/QueryResult2.xlsx') "
   ]
  },
  {
   "cell_type": "markdown",
   "metadata": {},
   "source": [
    "<br>\n",
    "**DB Browser - a tool to visualize and access SQLite databases**\n",
    "    - DB Browser for SQLite is a high quality, visual, open source tool used to create, design, and edit database files compatible with SQLite.\n",
    "    - Save the query result to SQLite\n",
    "    - Below is the screenshot of the database structures after connecting from Excel to SQLite by using Python  \n",
    "<img src=\"/images/MergeSQL.png\" alt=\"[img:DB Browser after save merge result as SQL file]\" title=\"DbBrowser Merge\" />"
   ]
  },
  {
   "cell_type": "markdown",
   "metadata": {},
   "source": [
    "<br>\n",
    "**Insert a column to table**\n",
    "    - Option A - use DML to add a column :-|\n",
    "    - Option B - use to_sql to add a column - much easier and more native to PANDAS way of doing things"
   ]
  },
  {
   "cell_type": "markdown",
   "metadata": {},
   "source": [
    "<br>\n",
    "** View table before inserting a new column**"
   ]
  },
  {
   "cell_type": "code",
   "execution_count": 5,
   "metadata": {},
   "outputs": [
    {
     "data": {
      "text/html": [
       "<div>\n",
       "<style scoped>\n",
       "    .dataframe tbody tr th:only-of-type {\n",
       "        vertical-align: middle;\n",
       "    }\n",
       "\n",
       "    .dataframe tbody tr th {\n",
       "        vertical-align: top;\n",
       "    }\n",
       "\n",
       "    .dataframe thead th {\n",
       "        text-align: right;\n",
       "    }\n",
       "</style>\n",
       "<table border=\"1\" class=\"dataframe\">\n",
       "  <thead>\n",
       "    <tr style=\"text-align: right;\">\n",
       "      <th></th>\n",
       "      <th>Symbol</th>\n",
       "      <th>Description</th>\n",
       "      <th>Quantity</th>\n",
       "    </tr>\n",
       "  </thead>\n",
       "  <tbody>\n",
       "    <tr>\n",
       "      <th>0</th>\n",
       "      <td>AA</td>\n",
       "      <td>ALCOA</td>\n",
       "      <td>11.00</td>\n",
       "    </tr>\n",
       "    <tr>\n",
       "      <th>1</th>\n",
       "      <td>AAPL</td>\n",
       "      <td>APPLE</td>\n",
       "      <td>1.03</td>\n",
       "    </tr>\n",
       "    <tr>\n",
       "      <th>2</th>\n",
       "      <td>ABBV</td>\n",
       "      <td>ABBVIE</td>\n",
       "      <td>1.06</td>\n",
       "    </tr>\n",
       "    <tr>\n",
       "      <th>3</th>\n",
       "      <td>ABT</td>\n",
       "      <td>ABBOTT</td>\n",
       "      <td>2.05</td>\n",
       "    </tr>\n",
       "    <tr>\n",
       "      <th>4</th>\n",
       "      <td>ADBE</td>\n",
       "      <td>ADOBE</td>\n",
       "      <td>5.00</td>\n",
       "    </tr>\n",
       "  </tbody>\n",
       "</table>\n",
       "</div>"
      ],
      "text/plain": [
       "  Symbol Description   Quantity \n",
       "0     AA       ALCOA       11.00\n",
       "1   AAPL       APPLE        1.03\n",
       "2   ABBV      ABBVIE        1.06\n",
       "3    ABT      ABBOTT        2.05\n",
       "4   ADBE       ADOBE        5.00"
      ]
     },
     "execution_count": 5,
     "metadata": {},
     "output_type": "execute_result"
    }
   ],
   "source": [
    "sql_statement='''\n",
    "select s.* from share as s\n",
    "'''\n",
    "df = pd.read_sql(sql_statement,con)\n",
    "df.head()"
   ]
  },
  {
   "cell_type": "markdown",
   "metadata": {},
   "source": [
    "<br>\n",
    "**Option A - use DML to add a column :-|**"
   ]
  },
  {
   "cell_type": "code",
   "execution_count": 6,
   "metadata": {},
   "outputs": [
    {
     "data": {
      "text/plain": [
       "<sqlite3.Cursor at 0x1b63ec76c00>"
      ]
     },
     "execution_count": 6,
     "metadata": {},
     "output_type": "execute_result"
    },
    {
     "data": {
      "text/html": [
       "<div>\n",
       "<style scoped>\n",
       "    .dataframe tbody tr th:only-of-type {\n",
       "        vertical-align: middle;\n",
       "    }\n",
       "\n",
       "    .dataframe tbody tr th {\n",
       "        vertical-align: top;\n",
       "    }\n",
       "\n",
       "    .dataframe thead th {\n",
       "        text-align: right;\n",
       "    }\n",
       "</style>\n",
       "<table border=\"1\" class=\"dataframe\">\n",
       "  <thead>\n",
       "    <tr style=\"text-align: right;\">\n",
       "      <th></th>\n",
       "      <th>Symbol</th>\n",
       "      <th>Description</th>\n",
       "      <th>Quantity</th>\n",
       "      <th>BROKER</th>\n",
       "    </tr>\n",
       "  </thead>\n",
       "  <tbody>\n",
       "    <tr>\n",
       "      <th>0</th>\n",
       "      <td>AA</td>\n",
       "      <td>ALCOA</td>\n",
       "      <td>11.00</td>\n",
       "      <td>None</td>\n",
       "    </tr>\n",
       "    <tr>\n",
       "      <th>1</th>\n",
       "      <td>AAPL</td>\n",
       "      <td>APPLE</td>\n",
       "      <td>1.03</td>\n",
       "      <td>None</td>\n",
       "    </tr>\n",
       "    <tr>\n",
       "      <th>2</th>\n",
       "      <td>ABBV</td>\n",
       "      <td>ABBVIE</td>\n",
       "      <td>1.06</td>\n",
       "      <td>None</td>\n",
       "    </tr>\n",
       "    <tr>\n",
       "      <th>3</th>\n",
       "      <td>ABT</td>\n",
       "      <td>ABBOTT</td>\n",
       "      <td>2.05</td>\n",
       "      <td>None</td>\n",
       "    </tr>\n",
       "    <tr>\n",
       "      <th>4</th>\n",
       "      <td>ADBE</td>\n",
       "      <td>ADOBE</td>\n",
       "      <td>5.00</td>\n",
       "      <td>None</td>\n",
       "    </tr>\n",
       "  </tbody>\n",
       "</table>\n",
       "</div>"
      ],
      "text/plain": [
       "  Symbol Description   Quantity  BROKER\n",
       "0     AA       ALCOA       11.00   None\n",
       "1   AAPL       APPLE        1.03   None\n",
       "2   ABBV      ABBVIE        1.06   None\n",
       "3    ABT      ABBOTT        2.05   None\n",
       "4   ADBE       ADOBE        5.00   None"
      ]
     },
     "execution_count": 6,
     "metadata": {},
     "output_type": "execute_result"
    }
   ],
   "source": [
    "# Obtain a Cursor object to execute SQL statements\n",
    "\n",
    "cur=con.cursor()\n",
    "\n",
    "# Add a new column to share table\n",
    "\n",
    "addColumn = \"ALTER TABLE Share ADD COLUMN BROKER varchar(32)\"\n",
    "\n",
    "cur.execute(addColumn) \n",
    "\n",
    "sql_statement='''\n",
    "select s.* from Share as s\n",
    "'''\n",
    "df = pd.read_sql(sql_statement,con)\n",
    "df.head()"
   ]
  },
  {
   "cell_type": "markdown",
   "metadata": {},
   "source": [
    "<br>\n",
    "**Option B - use to_sql to add a column - much easier and more native to PANDAS way of doing things**"
   ]
  },
  {
   "cell_type": "code",
   "execution_count": 7,
   "metadata": {},
   "outputs": [
    {
     "name": "stderr",
     "output_type": "stream",
     "text": [
      "C:\\apps\\python36\\python-3.6.3.amd64\\lib\\site-packages\\pandas\\core\\generic.py:1534: UserWarning: The spaces in these column names will not be changed. In pandas versions < 0.14, spaces were converted to underscores.\n",
      "  chunksize=chunksize, dtype=dtype)\n"
     ]
    },
    {
     "data": {
      "text/html": [
       "<div>\n",
       "<style scoped>\n",
       "    .dataframe tbody tr th:only-of-type {\n",
       "        vertical-align: middle;\n",
       "    }\n",
       "\n",
       "    .dataframe tbody tr th {\n",
       "        vertical-align: top;\n",
       "    }\n",
       "\n",
       "    .dataframe thead th {\n",
       "        text-align: right;\n",
       "    }\n",
       "</style>\n",
       "<table border=\"1\" class=\"dataframe\">\n",
       "  <thead>\n",
       "    <tr style=\"text-align: right;\">\n",
       "      <th></th>\n",
       "      <th>Symbol</th>\n",
       "      <th>Description</th>\n",
       "      <th>Quantity</th>\n",
       "      <th>BROKER</th>\n",
       "      <th>Broker2</th>\n",
       "    </tr>\n",
       "  </thead>\n",
       "  <tbody>\n",
       "    <tr>\n",
       "      <th>0</th>\n",
       "      <td>AA</td>\n",
       "      <td>ALCOA</td>\n",
       "      <td>11.00</td>\n",
       "      <td>None</td>\n",
       "      <td>Fidelity LLC</td>\n",
       "    </tr>\n",
       "    <tr>\n",
       "      <th>1</th>\n",
       "      <td>AAPL</td>\n",
       "      <td>APPLE</td>\n",
       "      <td>1.03</td>\n",
       "      <td>None</td>\n",
       "      <td>Fidelity LLC</td>\n",
       "    </tr>\n",
       "    <tr>\n",
       "      <th>2</th>\n",
       "      <td>ABBV</td>\n",
       "      <td>ABBVIE</td>\n",
       "      <td>1.06</td>\n",
       "      <td>None</td>\n",
       "      <td>Fidelity LLC</td>\n",
       "    </tr>\n",
       "    <tr>\n",
       "      <th>3</th>\n",
       "      <td>ABT</td>\n",
       "      <td>ABBOTT</td>\n",
       "      <td>2.05</td>\n",
       "      <td>None</td>\n",
       "      <td>Fidelity LLC</td>\n",
       "    </tr>\n",
       "    <tr>\n",
       "      <th>4</th>\n",
       "      <td>ADBE</td>\n",
       "      <td>ADOBE</td>\n",
       "      <td>5.00</td>\n",
       "      <td>None</td>\n",
       "      <td>Fidelity LLC</td>\n",
       "    </tr>\n",
       "  </tbody>\n",
       "</table>\n",
       "</div>"
      ],
      "text/plain": [
       "  Symbol Description   Quantity  BROKER       Broker2\n",
       "0     AA       ALCOA       11.00   None  Fidelity LLC\n",
       "1   AAPL       APPLE        1.03   None  Fidelity LLC\n",
       "2   ABBV      ABBVIE        1.06   None  Fidelity LLC\n",
       "3    ABT      ABBOTT        2.05   None  Fidelity LLC\n",
       "4   ADBE       ADOBE        5.00   None  Fidelity LLC"
      ]
     },
     "execution_count": 7,
     "metadata": {},
     "output_type": "execute_result"
    }
   ],
   "source": [
    "df['Broker2']='Fidelity LLC'\n",
    "df.to_sql('Share',con,if_exists='replace') \n",
    "\n",
    "df.head()"
   ]
  },
  {
   "cell_type": "code",
   "execution_count": 9,
   "metadata": {},
   "outputs": [
    {
     "data": {
      "text/plain": [
       "<sqlite3.Cursor at 0x1b63ec76c00>"
      ]
     },
     "execution_count": 9,
     "metadata": {},
     "output_type": "execute_result"
    }
   ],
   "source": [
    "# Rename the SQLite Table\n",
    "renameTable = \"ALTER TABLE Combined RENAME TO CombinedNew\"\n",
    "cur.execute(renameTable)"
   ]
  },
  {
   "cell_type": "markdown",
   "metadata": {},
   "source": [
    "<br>\n",
    "**Inserting a new column called \"testing\" to the SQlite **"
   ]
  },
  {
   "cell_type": "code",
   "execution_count": 10,
   "metadata": {},
   "outputs": [
    {
     "data": {
      "text/plain": [
       "<sqlite3.Cursor at 0x1b63eed4c00>"
      ]
     },
     "execution_count": 10,
     "metadata": {},
     "output_type": "execute_result"
    }
   ],
   "source": [
    "con = sqlite3.connect(\"data/SQLite/Stock.db\")\n",
    "cur = con.cursor()\n",
    "addColumn = \"ALTER TABLE Market ADD COLUMN Broker_Name varchar(32)\"\n",
    "cur.execute(addColumn)"
   ]
  },
  {
   "cell_type": "code",
   "execution_count": null,
   "metadata": {},
   "outputs": [],
   "source": [
    "# Closing the connection to the database file\n",
    "con.close()"
   ]
  }
 ],
 "metadata": {
  "kernelspec": {
   "display_name": "Python 3",
   "language": "python",
   "name": "python3"
  },
  "language_info": {
   "codemirror_mode": {
    "name": "ipython",
    "version": 3
   },
   "file_extension": ".py",
   "mimetype": "text/x-python",
   "name": "python",
   "nbconvert_exporter": "python",
   "pygments_lexer": "ipython3",
   "version": "3.6.3"
  }
 },
 "nbformat": 4,
 "nbformat_minor": 2
}
