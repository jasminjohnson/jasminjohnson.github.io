{
 "cells": [
  {
   "cell_type": "code",
   "execution_count": 7,
   "metadata": {},
   "outputs": [
    {
     "data": {
      "text/html": [
       "<style>.container { width:100% !important; }</style>"
      ],
      "text/plain": [
       "<IPython.core.display.HTML object>"
      ]
     },
     "metadata": {},
     "output_type": "display_data"
    }
   ],
   "source": [
    "from IPython.core.interactiveshell import InteractiveShell\n",
    "from IPython.core.display import display, HTML\n",
    "display(HTML(\"<style>.container { width:100% !important; }</style>\"))\n",
    "%matplotlib inline \n",
    "import matplotlib.pyplot as plt\n",
    "import pandas as pd\n",
    "import sqlite3"
   ]
  },
  {
   "cell_type": "markdown",
   "metadata": {},
   "source": [
    "# SQLite Database for Financial Analysis - SQLite and DB Browser "
   ]
  },
  {
   "cell_type": "markdown",
   "metadata": {},
   "source": [
    "<!-- PELICAN_BEGIN_SUMMARY -->\n",
    "\n",
    "After merging and reshaping the datasets, we can use SQLite to safely store, organize and manipulate data in smaller environments.\n",
    "SQLite is a flexible database that can do real work in real business environments and the SQLite library is also integrated\n",
    "into a number of popular scripting languages, including Python.\n",
    "This database tool can also be useful for accountants doing financial analysis.\n",
    "\n",
    "<!-- PELICAN_END_SUMMARY -->"
   ]
  },
  {
   "cell_type": "markdown",
   "metadata": {},
   "source": [
    "<img src=\"/images/SQLflowchart.png\" alt=\"[img: SQL flowchart]\" title=\"SQLite flowchart\" />\n"
   ]
  },
  {
   "cell_type": "markdown",
   "metadata": {},
   "source": [
    "#### **What is SQLite?**\n",
    "from \"Using SQLite\" by Jay A. Kreibich\n",
    "\n",
    "What is SQLite: In the simplest terms, SQLite is a public-domain software package that provides a\n",
    "relational database management system, or RDBMS. Relational database systems are\n",
    "used to store user-defined records in large tables. In addition to data storage and management, a database engine can process complex query commands that combine data\n",
    "from multiple tables to generate reports and data summaries.\n",
    "The “Lite” in SQLite does not refer to its capabilities. Rather, SQLite is lightweight\n",
    "when it comes to setup complexity, administrative overhead, and resource usage\n",
    "\n",
    "#### **What is DB Browser for SQLite?**\n",
    "DB Browser for SQLite is a high quality, visual, open source tool used to create, design, and edit database files compatible with SQLite.\n",
    "\n",
    "It is for users and developers wanting to create, search, and edit databases. It uses a familiar spreadsheet-like interface,\n",
    "and you don't need to learn complicated SQL commands. This program is not a visual shell for the sqlite command line tool."
   ]
  },
  {
   "cell_type": "markdown",
   "metadata": {},
   "source": [
    "#### **Why would we use SQLite to read Excel Files?**\n",
    "- Sort data on several fields\n",
    "- Combine data from different spreadheets \n",
    "- Use free graphical user interface (GUI) tools to run SQL queries on database\n",
    "- Convert Excel files to tables\n",
    "- Install Scientific Python to convert Excel file in SQLite database in just 8 lines of code\n",
    "- Note: Excel tab name cannot have spaces, but underscores are acceptable"
   ]
  },
  {
   "cell_type": "markdown",
   "metadata": {},
   "source": [
    "#### **Connecting SQLite **\n",
    "- The example is an Excel file \"PremiumLossSQLite.xlsx\" \n",
    "- The file has three tabs - premium, loss and reinsurance\n",
    "- The first row in each sheet should have legal column names. Here is the conversion code:"
   ]
  },
  {
   "cell_type": "code",
   "execution_count": 8,
   "metadata": {},
   "outputs": [],
   "source": [
    "filename=\"data/PremiumLossSQLite\"   # name of Excel xlsx file. SQLite database will have the same name and extension .db\n",
    "con=sqlite3.connect(filename+\".db\") # filename+\".db\"\n",
    "wb=pd.read_excel(filename+'.xlsx',sheet_name=None)\n",
    "for sheet in wb:\n",
    "#     wb[sheet].to_sql(sheet,con, index=False)\n",
    "    wb[sheet].to_sql(sheet,con, index=False, if_exists='replace')\n",
    "con.commit()\n",
    "#con.close()"
   ]
  },
  {
   "cell_type": "markdown",
   "metadata": {},
   "source": [
    "#### **A handy tool to visualize and access SQLite databases is the free DB Browser**\n",
    "#### **Below is the screenshot of the database structures after connecting from Excel to SQLite by using Python**\n",
    "<img src=\"/images/DBimage.png\" alt=\"[img: DB Browser after import Excel to SQLite and view the table]\" title=\"DbBrowser Query\" />"
   ]
  },
  {
   "cell_type": "markdown",
   "metadata": {},
   "source": [
    "#### ** Query inner join between the reinsurance, premium and loss data and export the data to Excel**\n",
    "- Query list of policies with incurred losses that covered under the reinsurance treaty\n",
    "- Instead of Excel VLookup function that has certian limitation\n",
    "- We can repeat/automate the query process when new data get updated \n",
    "- Save the query result to SQLite\n",
    "- Save the query result to Excel"
   ]
  },
  {
   "cell_type": "code",
   "execution_count": 10,
   "metadata": {},
   "outputs": [],
   "source": [
    "sql_statement='''\n",
    "select r.PolicyNumber as Policy_from_Reinsurance_Tab, p.PolicyNumber as Policy_from_Policy_Tab, l.PolicyNumber as Policy_from_Loss_Tab\n",
    "from reinsurance as r\n",
    "join premium as p on p.PolicyNumber=r.PolicyNumber\n",
    "join loss as l on l.PolicyNumber=r.PolicyNumber\n",
    "'''\n",
    "df = pd.read_sql(sql_statement,con)\n",
    "\n",
    "df.to_sql('reinsurace_query_results', con) \n",
    "df.to_excel('data/reinsurace_query_results.xlsx') "
   ]
  },
  {
   "cell_type": "markdown",
   "metadata": {},
   "source": [
    "#### ** Save the query result in SQLite**\n",
    "<img src=\"/images/SQLQuery.png\" alt=\"[img: Reinsurance Query Save in SQLite]\" title=\"Reinsurance Query SQL \" />"
   ]
  },
  {
   "cell_type": "markdown",
   "metadata": {},
   "source": [
    "#### **Save the query result as an Excel file**\n",
    "<img src=\"/images/reinsurance.jpg\" alt=\"[img: Reinsurance Query Save in Excel from SQLite]\" title=\"Reinsurance Query Excel\" />"
   ]
  },
  {
   "cell_type": "code",
   "execution_count": 23,
   "metadata": {},
   "outputs": [
    {
     "ename": "OperationalError",
     "evalue": "no such table: premium",
     "output_type": "error",
     "traceback": [
      "\u001b[1;31m---------------------------------------------------------------------------\u001b[0m",
      "\u001b[1;31mOperationalError\u001b[0m                          Traceback (most recent call last)",
      "\u001b[1;32m<ipython-input-23-29d0e8052c73>\u001b[0m in \u001b[0;36m<module>\u001b[1;34m()\u001b[0m\n\u001b[0;32m      9\u001b[0m \u001b[0maddColumn\u001b[0m \u001b[1;33m=\u001b[0m \u001b[1;34m\"ALTER TABLE premium ADD COLUMN Reinsurers varchar(32)\"\u001b[0m\u001b[1;33m\u001b[0m\u001b[0m\n\u001b[0;32m     10\u001b[0m \u001b[1;33m\u001b[0m\u001b[0m\n\u001b[1;32m---> 11\u001b[1;33m \u001b[0mcur\u001b[0m\u001b[1;33m.\u001b[0m\u001b[0mexecute\u001b[0m\u001b[1;33m(\u001b[0m\u001b[0maddColumn\u001b[0m\u001b[1;33m)\u001b[0m\u001b[1;33m\u001b[0m\u001b[0m\n\u001b[0m",
      "\u001b[1;31mOperationalError\u001b[0m: no such table: premium"
     ]
    }
   ],
   "source": [
    "# Make a connection to the SQLite DB\n",
    "con=sqlite3.connect(\"PremiumLossSQLite.db\")\n",
    "\n",
    "# Obtain a Cursor object to execute SQL statements\n",
    "cur   = con.cursor()\n",
    "\n",
    "# Add a new column to student table\n",
    "\n",
    "addColumn = \"ALTER TABLE premium ADD COLUMN Reinsurers varchar(32)\"\n",
    "\n",
    "cur.execute(addColumn)"
   ]
  },
  {
   "cell_type": "code",
   "execution_count": null,
   "metadata": {},
   "outputs": [],
   "source": [
    "con.close()"
   ]
  }
 ],
 "metadata": {
  "kernelspec": {
   "display_name": "Python 3",
   "language": "python",
   "name": "python3"
  },
  "language_info": {
   "codemirror_mode": {
    "name": "ipython",
    "version": 3
   },
   "file_extension": ".py",
   "mimetype": "text/x-python",
   "name": "python",
   "nbconvert_exporter": "python",
   "pygments_lexer": "ipython3",
   "version": "3.6.3"
  }
 },
 "nbformat": 4,
 "nbformat_minor": 2
}
