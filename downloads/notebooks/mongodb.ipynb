{
 "cells": [
  {
   "cell_type": "code",
   "execution_count": 1,
   "metadata": {},
   "outputs": [
    {
     "data": {
      "text/html": [
       "<style>.container { width:100% !important; }</style>"
      ],
      "text/plain": [
       "<IPython.core.display.HTML object>"
      ]
     },
     "metadata": {},
     "output_type": "display_data"
    }
   ],
   "source": [
    "from IPython.core.interactiveshell import InteractiveShell\n",
    "InteractiveShell.ast_node_interactivity = \"all\"\n",
    "\n",
    "from IPython.core.display import display, HTML\n",
    "display(HTML(\"<style>.container { width:100% !important; }</style>\"))\n",
    "%matplotlib inline \n",
    "import matplotlib.pyplot as plt\n",
    "import pandas as pd"
   ]
  },
  {
   "cell_type": "markdown",
   "metadata": {},
   "source": [
    "# MongoDB Example - for Accountant reinsurance loss data analysis "
   ]
  },
  {
   "cell_type": "markdown",
   "metadata": {},
   "source": [
    "<!-- PELICAN_BEGIN_SUMMARY -->\n",
    "\n",
    "MongoDB is a document-oriented database. Instead of storing your data in tables made out of individual rows,\n",
    "like a relational database does, it stores your data in collections made out of individual documents.\n",
    "In MongoDB, a document is a big JSON blob with no particular format or schema.\n",
    "\n",
    "You can have all your data in one single table or collection.\n",
    "\n",
    "<!-- PELICAN_END_SUMMARY -->"
   ]
  },
  {
   "cell_type": "markdown",
   "metadata": {},
   "source": [
    "### MongoDB for Reinsurance Data Analysis\n",
    "- Create sample data in MongoDB\n",
    "  - reinsurance treaty by reinsurer/year/treaty type\n",
    "- Read webpage data into MongoDB and \n",
    "  - example : read twitter page about what type of insurance people are interesting buying\n",
    "- Retrieve from MongoDB to Excel for data analysis\n",
    "- Read investment gain and loss from broker website into MongoDB for analysis\n",
    "- how to use BSON-NumPy to pull data out of Mongo and into pandas"
   ]
  },
  {
   "cell_type": "markdown",
   "metadata": {},
   "source": [
    "### *Making a Connection with MongoClient*\n",
    "-  Below link is an introduction tutorial to working with MongoDB and PyMongo\n",
    "-  ref: http://api.mongodb.com/python/current/tutorial.html"
   ]
  },
  {
   "cell_type": "code",
   "execution_count": 2,
   "metadata": {},
   "outputs": [],
   "source": [
    "# Making a Connection with MongoClient\n",
    "# Import pymongo\n",
    "import pymongo\n",
    "\n",
    "# The first step when working with PyMongo is to create a MongoClient to the running mongod instance\n",
    "from pymongo import MongoClient\n",
    "\n",
    "# Connect on the default host and port.\n",
    "client = MongoClient()\n",
    "\n",
    "# We can also specify the host and port explicitly\n",
    "client = MongoClient('localhost', 27017)"
   ]
  },
  {
   "cell_type": "markdown",
   "metadata": {},
   "source": [
    "#### *Getting a Database*\n",
    "- A single instance of MongoDB can support multiple independent databases.\n",
    "- When working with PyMongo you access databases using attribute style access on MongoClient instances.\n",
    "- database name can not use attribute style access (like sample-data), but sample_data is okay"
   ]
  },
  {
   "cell_type": "code",
   "execution_count": 3,
   "metadata": {},
   "outputs": [
    {
     "data": {
      "text/plain": [
       "Collection(Database(MongoClient(host=['localhost:27017'], document_class=dict, tz_aware=False, connect=True), 'test_database'), 'test_collection')"
      ]
     },
     "execution_count": 3,
     "metadata": {},
     "output_type": "execute_result"
    }
   ],
   "source": [
    "db = client.test_database\n",
    "\n",
    "collection = db.test_collection\n",
    "\n",
    "# cant use attribute style\n",
    "# you can use dictionary style access instead\n",
    "db = client['test-database']\n",
    "\n",
    "collection"
   ]
  },
  {
   "cell_type": "markdown",
   "metadata": {},
   "source": [
    "#### *Document*\n",
    "- Data in MongoDB is represented (and stored) using JSON-style documents. \n",
    "- In PyMongo we use dictionaries to represent documents.\n",
    "- As an example, the following dictionary might be used to represent a reinsurance treaty type by reinsurer and year:\n",
    "- Documents can contain native Python types (like datetime.datetime instances) which will be automatically converted to and from the appropriate BSON types."
   ]
  },
  {
   "cell_type": "code",
   "execution_count": 4,
   "metadata": {},
   "outputs": [],
   "source": [
    "import datetime\n",
    "post = {\"reinsurer\": \"AIG\",\n",
    "        \"treaty\": \"XOL layer\",\n",
    "        \"tags\": [\"mongodb\", \"python\", \"pymongo\"],\n",
    "        \"date\": datetime.datetime.utcnow()}"
   ]
  },
  {
   "cell_type": "markdown",
   "metadata": {},
   "source": [
    "#### *Inserting a Document*\n",
    "- When a document is inserted a special key, \"_id\", is automatically added if the document doesn’t already contain an \"_id\" key.\n",
    "- The value of \"_id\" must be unique across the collection. insert_one() returns an instance of InsertOneResult. "
   ]
  },
  {
   "cell_type": "code",
   "execution_count": 5,
   "metadata": {},
   "outputs": [
    {
     "data": {
      "text/plain": [
       "ObjectId('5b747db3760df74924ecbe28')"
      ]
     },
     "execution_count": 5,
     "metadata": {},
     "output_type": "execute_result"
    }
   ],
   "source": [
    "# To insert a document into a collection we can use the insert_one() method:\n",
    "posts = db.posts\n",
    "post_id = posts.insert_one(post).inserted_id\n",
    "post_id"
   ]
  },
  {
   "cell_type": "markdown",
   "metadata": {},
   "source": [
    "#### * After inserting the first document, the posts collection has actually been created on the server.*\n",
    "- We can verify this by listing all of the collections in our database:"
   ]
  },
  {
   "cell_type": "code",
   "execution_count": 6,
   "metadata": {},
   "outputs": [
    {
     "name": "stderr",
     "output_type": "stream",
     "text": [
      "C:\\apps\\python36\\python-3.6.3.amd64\\lib\\site-packages\\ipykernel_launcher.py:1: DeprecationWarning: collection_names is deprecated. Use list_collection_names instead.\n",
      "  \"\"\"Entry point for launching an IPython kernel.\n"
     ]
    },
    {
     "data": {
      "text/plain": [
       "['posts', 'profiles']"
      ]
     },
     "execution_count": 6,
     "metadata": {},
     "output_type": "execute_result"
    }
   ],
   "source": [
    "db.collection_names(include_system_collections=False)"
   ]
  },
  {
   "cell_type": "code",
   "execution_count": 7,
   "metadata": {},
   "outputs": [
    {
     "data": {
      "text/plain": [
       "ObjectId('5b747db8760df74924ecbe29')"
      ]
     },
     "execution_count": 7,
     "metadata": {},
     "output_type": "execute_result"
    }
   ],
   "source": [
    "post2 = {\"reinsurer\": \"Swiss Re\",\n",
    "        \"treaty\": \"Clash Layer\",\n",
    "        \"tags\": [\"mongodb\", \"python\", \"pymongo\"],\n",
    "        \"date\": datetime.datetime.utcnow()}\n",
    "\n",
    "post_id = posts.insert_one(post2).inserted_id\n",
    "post_id"
   ]
  },
  {
   "cell_type": "markdown",
   "metadata": {},
   "source": [
    "#### * Getting a Single Document With find_one()*\n",
    "- The most basic type of query that can be performed in MongoDB is find_one().\n",
    "- This method returns a single document matching a query (or None if there are no matches).\n",
    "- It is useful when you know there is only one matching document, or\n",
    "- are only interested in the first match. Here we use find_one() to get the first document from the posts collection:"
   ]
  },
  {
   "cell_type": "code",
   "execution_count": 8,
   "metadata": {},
   "outputs": [
    {
     "name": "stdout",
     "output_type": "stream",
     "text": [
      "{'_id': ObjectId('5b733f8da68b144b14aa4fda'),\n",
      " 'date': datetime.datetime(2018, 8, 14, 20, 45, 55, 156000),\n",
      " 'reinsurer': 'AIG',\n",
      " 'tags': ['mongodb', 'python', 'pymongo'],\n",
      " 'treaty': 'XOL layer'}\n"
     ]
    }
   ],
   "source": [
    "import pprint\n",
    "pprint.pprint(posts.find_one())"
   ]
  },
  {
   "cell_type": "code",
   "execution_count": 9,
   "metadata": {},
   "outputs": [
    {
     "name": "stdout",
     "output_type": "stream",
     "text": [
      "{'_id': ObjectId('5b733f8da68b144b14aa4fda'),\n",
      " 'date': datetime.datetime(2018, 8, 14, 20, 45, 55, 156000),\n",
      " 'reinsurer': 'AIG',\n",
      " 'tags': ['mongodb', 'python', 'pymongo'],\n",
      " 'treaty': 'XOL layer'}\n"
     ]
    }
   ],
   "source": [
    "pprint.pprint(posts.find_one({\"reinsurer\": \"AIG\"}))"
   ]
  },
  {
   "cell_type": "code",
   "execution_count": 10,
   "metadata": {},
   "outputs": [
    {
     "name": "stdout",
     "output_type": "stream",
     "text": [
      "None\n"
     ]
    }
   ],
   "source": [
    "pprint.pprint(posts.find_one({\"reinsurer\": \"ACE\"}))"
   ]
  },
  {
   "cell_type": "markdown",
   "metadata": {},
   "source": [
    "#### * Querying By ObjectId*\n",
    "- We can also find a post by its _id, which in our example is an ObjectId:"
   ]
  },
  {
   "cell_type": "code",
   "execution_count": 11,
   "metadata": {},
   "outputs": [
    {
     "data": {
      "text/plain": [
       "ObjectId('5b747db8760df74924ecbe29')"
      ]
     },
     "execution_count": 11,
     "metadata": {},
     "output_type": "execute_result"
    }
   ],
   "source": [
    "post_id  ##output is an object"
   ]
  },
  {
   "cell_type": "code",
   "execution_count": 12,
   "metadata": {},
   "outputs": [
    {
     "name": "stdout",
     "output_type": "stream",
     "text": [
      "{'_id': ObjectId('5b747db8760df74924ecbe29'),\n",
      " 'date': datetime.datetime(2018, 8, 15, 19, 23, 36, 998000),\n",
      " 'reinsurer': 'Swiss Re',\n",
      " 'tags': ['mongodb', 'python', 'pymongo'],\n",
      " 'treaty': 'Clash Layer'}\n"
     ]
    }
   ],
   "source": [
    "pprint.pprint(posts.find_one({\"_id\": post_id}))"
   ]
  },
  {
   "cell_type": "markdown",
   "metadata": {},
   "source": [
    "#### * Note that an ObjectId is not the same as its string representation:*"
   ]
  },
  {
   "cell_type": "code",
   "execution_count": 13,
   "metadata": {},
   "outputs": [
    {
     "data": {
      "text/plain": [
       "'5b747db8760df74924ecbe29'"
      ]
     },
     "execution_count": 13,
     "metadata": {},
     "output_type": "execute_result"
    }
   ],
   "source": [
    "post_id_as_str = str(post_id)\n",
    "post_id_as_str  ## output is a string"
   ]
  },
  {
   "cell_type": "code",
   "execution_count": 14,
   "metadata": {},
   "outputs": [],
   "source": [
    "posts.find_one({\"_id\": post_id_as_str}) # No result"
   ]
  },
  {
   "cell_type": "markdown",
   "metadata": {},
   "source": [
    "#### *Get URL data*\n",
    "- A common task in web applications is to get an ObjectId from the request URL and find the matching document.\n",
    "- It’s necessary in this case to convert the ObjectId from a string before passing it to find_one:"
   ]
  },
  {
   "cell_type": "code",
   "execution_count": 15,
   "metadata": {},
   "outputs": [],
   "source": [
    "# follow up @8/14/18\n",
    "from bson.objectid import ObjectId\n",
    "\n",
    "# The web framework gets post_id from the URL and passes it as a string\n",
    "def get(post_id):\n",
    "    # Convert from string to ObjectId:\n",
    "    document = client.db.collection.find_one({'_id': ObjectId(post_id)})"
   ]
  },
  {
   "cell_type": "markdown",
   "metadata": {},
   "source": [
    "#### * A Note On Unicode Strings*\n",
    "- You probably noticed that the regular Python strings we stored earlier look different when retrieved from the server (e.g. u’AIG’ instead of ‘AIG’).\n",
    "- A short explanation is in order.\n",
    "- MongoDB stores data in BSON format. BSON strings are UTF-8 encoded so PyMongo must ensure that any strings it stores contain only valid UTF-8 data.\n",
    "- Regular strings (<type ‘str’>) are validated and stored unaltered. Unicode strings (<type ‘unicode’>) are encoded UTF-8 first. \n",
    "- The reason our example string is represented in the Python shell as u’AIG’ instead of ‘AIG’ \n",
    "- is that PyMongo decodes each BSON string to a Python unicode string, not a regular str."
   ]
  },
  {
   "cell_type": "markdown",
   "metadata": {},
   "source": [
    "#### * Bulk Inserts*\n",
    "- we can also perform bulk insert operations, by passing a list as the first argument to insert_many(). \n",
    "- This will insert each document in the list, sending only a single command to the server:\n",
    "- different shape, but can handle with new title,can add to the collection... because its not a table"
   ]
  },
  {
   "cell_type": "code",
   "execution_count": 16,
   "metadata": {},
   "outputs": [
    {
     "data": {
      "text/plain": [
       "[ObjectId('5b747dcf760df74924ecbe2a'), ObjectId('5b747dcf760df74924ecbe2b')]"
      ]
     },
     "execution_count": 16,
     "metadata": {},
     "output_type": "execute_result"
    }
   ],
   "source": [
    "# new_posts[1] has a different “shape” than the other posts \n",
    "# there is no \"tags\" field and we’ve added a new field, \"retenion\". \n",
    "# This is what we mean when we say that MongoDB is schema-free.\n",
    "\n",
    "new_posts = [{\"reinsurer\": \"AIG\",\n",
    "              \"treaty\": \"XOL Layer 2018\",\n",
    "              \"tags\": [\"bulk\", \"insert\"],\n",
    "              \"date\": datetime.datetime(2018, 11, 12, 11, 14)},\n",
    "              {\"reinsurer\": \"Munich Re\",\n",
    "               \"treaty\": \"QS 2018\",\n",
    "               \"retenion\": \"QS 20% for US business\",\n",
    "               \"date\": datetime.datetime(2018, 11, 10, 10, 45)}]\n",
    "\n",
    "result = posts.insert_many(new_posts)\n",
    "result.inserted_ids"
   ]
  },
  {
   "cell_type": "markdown",
   "metadata": {},
   "source": [
    "#### * The result from insert_many() now returns two ObjectId instances, one for each inserted document.*\n",
    "- new_posts[1] has a different “shape” than the other posts - there is no \"tags\" field and we’ve added a new field, \"title\".\n",
    "- This is what we mean when we say that MongoDB is schema-free."
   ]
  },
  {
   "cell_type": "code",
   "execution_count": 17,
   "metadata": {},
   "outputs": [
    {
     "name": "stdout",
     "output_type": "stream",
     "text": [
      "{'_id': ObjectId('5b733f8da68b144b14aa4fda'),\n",
      " 'date': datetime.datetime(2018, 8, 14, 20, 45, 55, 156000),\n",
      " 'reinsurer': 'AIG',\n",
      " 'tags': ['mongodb', 'python', 'pymongo'],\n",
      " 'treaty': 'XOL layer'}\n",
      "{'_id': ObjectId('5b733fb2a68b144b14aa4fdb'),\n",
      " 'date': datetime.datetime(2018, 8, 14, 20, 46, 42, 222000),\n",
      " 'reinsurer': 'Swiss Re',\n",
      " 'tags': ['mongodb', 'python', 'pymongo'],\n",
      " 'treaty': 'Clash Layer'}\n",
      "{'_id': ObjectId('5b7340e5a68b144b14aa4fdc'),\n",
      " 'date': datetime.datetime(2018, 11, 12, 11, 14),\n",
      " 'reinsurer': 'AIG',\n",
      " 'tags': ['bulk', 'insert'],\n",
      " 'treaty': 'XOL Layer 2018'}\n",
      "{'_id': ObjectId('5b7340e5a68b144b14aa4fdd'),\n",
      " 'date': datetime.datetime(2018, 11, 10, 10, 45),\n",
      " 'reinsurer': 'Munich Re',\n",
      " 'retenion': 'QS 20% for US business',\n",
      " 'treaty': 'QS 2018'}\n",
      "{'_id': ObjectId('5b74590c760df751508616c1'),\n",
      " 'date': datetime.datetime(2018, 8, 15, 16, 47, 4, 939000),\n",
      " 'reinsurer': 'AIG',\n",
      " 'tags': ['mongodb', 'python', 'pymongo'],\n",
      " 'treaty': 'XOL layer'}\n",
      "{'_id': ObjectId('5b74594e760df751508616c2'),\n",
      " 'date': datetime.datetime(2018, 8, 15, 16, 48, 14, 644000),\n",
      " 'reinsurer': 'Swiss Re',\n",
      " 'tags': ['mongodb', 'python', 'pymongo'],\n",
      " 'treaty': 'Clash Layer'}\n",
      "{'_id': ObjectId('5b745967760df751508616c3'),\n",
      " 'date': datetime.datetime(2018, 11, 12, 11, 14),\n",
      " 'reinsurer': 'AIG',\n",
      " 'tags': ['bulk', 'insert'],\n",
      " 'treaty': 'XOL Layer 2018'}\n",
      "{'_id': ObjectId('5b745967760df751508616c4'),\n",
      " 'date': datetime.datetime(2018, 11, 10, 10, 45),\n",
      " 'reinsurer': 'Munich Re',\n",
      " 'retenion': 'QS 20% for US business',\n",
      " 'treaty': 'QS 2018'}\n",
      "{'_id': ObjectId('5b747db3760df74924ecbe28'),\n",
      " 'date': datetime.datetime(2018, 8, 15, 19, 23, 28, 222000),\n",
      " 'reinsurer': 'AIG',\n",
      " 'tags': ['mongodb', 'python', 'pymongo'],\n",
      " 'treaty': 'XOL layer'}\n",
      "{'_id': ObjectId('5b747db8760df74924ecbe29'),\n",
      " 'date': datetime.datetime(2018, 8, 15, 19, 23, 36, 998000),\n",
      " 'reinsurer': 'Swiss Re',\n",
      " 'tags': ['mongodb', 'python', 'pymongo'],\n",
      " 'treaty': 'Clash Layer'}\n",
      "{'_id': ObjectId('5b747dcf760df74924ecbe2a'),\n",
      " 'date': datetime.datetime(2018, 11, 12, 11, 14),\n",
      " 'reinsurer': 'AIG',\n",
      " 'tags': ['bulk', 'insert'],\n",
      " 'treaty': 'XOL Layer 2018'}\n",
      "{'_id': ObjectId('5b747dcf760df74924ecbe2b'),\n",
      " 'date': datetime.datetime(2018, 11, 10, 10, 45),\n",
      " 'reinsurer': 'Munich Re',\n",
      " 'retenion': 'QS 20% for US business',\n",
      " 'treaty': 'QS 2018'}\n"
     ]
    }
   ],
   "source": [
    "for post in posts.find():\n",
    "     pprint.pprint(post)"
   ]
  },
  {
   "cell_type": "code",
   "execution_count": 20,
   "metadata": {},
   "outputs": [
    {
     "ename": "SyntaxError",
     "evalue": "invalid syntax (<ipython-input-20-ea8111e655ce>, line 3)",
     "output_type": "error",
     "traceback": [
      "\u001b[1;36m  File \u001b[1;32m\"<ipython-input-20-ea8111e655ce>\"\u001b[1;36m, line \u001b[1;32m3\u001b[0m\n\u001b[1;33m    <img src=\"/images/SQLflowchart.png\" alt=\"[img: SQL flowchart]\" title=\"SQLite flowchart\" />\u001b[0m\n\u001b[1;37m    ^\u001b[0m\n\u001b[1;31mSyntaxError\u001b[0m\u001b[1;31m:\u001b[0m invalid syntax\n"
     ]
    }
   ],
   "source": [
    "#### **Below is the screenshot of the MongoDB structures showing list of dataset**\n",
    "<img src=\"/images/MongoDB1.png\" alt=\"[img: MongoDB view]\" title=\"MongoDB View\" />"
   ]
  },
  {
   "cell_type": "code",
   "execution_count": 21,
   "metadata": {},
   "outputs": [
    {
     "name": "stdout",
     "output_type": "stream",
     "text": [
      "{'_id': ObjectId('5b733f8da68b144b14aa4fda'),\n",
      " 'date': datetime.datetime(2018, 8, 14, 20, 45, 55, 156000),\n",
      " 'reinsurer': 'AIG',\n",
      " 'tags': ['mongodb', 'python', 'pymongo'],\n",
      " 'treaty': 'XOL layer'}\n",
      "{'_id': ObjectId('5b7340e5a68b144b14aa4fdc'),\n",
      " 'date': datetime.datetime(2018, 11, 12, 11, 14),\n",
      " 'reinsurer': 'AIG',\n",
      " 'tags': ['bulk', 'insert'],\n",
      " 'treaty': 'XOL Layer 2018'}\n",
      "{'_id': ObjectId('5b74590c760df751508616c1'),\n",
      " 'date': datetime.datetime(2018, 8, 15, 16, 47, 4, 939000),\n",
      " 'reinsurer': 'AIG',\n",
      " 'tags': ['mongodb', 'python', 'pymongo'],\n",
      " 'treaty': 'XOL layer'}\n",
      "{'_id': ObjectId('5b745967760df751508616c3'),\n",
      " 'date': datetime.datetime(2018, 11, 12, 11, 14),\n",
      " 'reinsurer': 'AIG',\n",
      " 'tags': ['bulk', 'insert'],\n",
      " 'treaty': 'XOL Layer 2018'}\n",
      "{'_id': ObjectId('5b747db3760df74924ecbe28'),\n",
      " 'date': datetime.datetime(2018, 8, 15, 19, 23, 28, 222000),\n",
      " 'reinsurer': 'AIG',\n",
      " 'tags': ['mongodb', 'python', 'pymongo'],\n",
      " 'treaty': 'XOL layer'}\n",
      "{'_id': ObjectId('5b747dcf760df74924ecbe2a'),\n",
      " 'date': datetime.datetime(2018, 11, 12, 11, 14),\n",
      " 'reinsurer': 'AIG',\n",
      " 'tags': ['bulk', 'insert'],\n",
      " 'treaty': 'XOL Layer 2018'}\n"
     ]
    }
   ],
   "source": [
    "# different than find_one\n",
    "for post in posts.find({\"reinsurer\": \"AIG\"}):\n",
    "    pprint.pprint(post)"
   ]
  },
  {
   "cell_type": "code",
   "execution_count": 22,
   "metadata": {},
   "outputs": [
    {
     "name": "stdout",
     "output_type": "stream",
     "text": [
      "{'_id': ObjectId('5b733f8da68b144b14aa4fda'),\n",
      " 'date': datetime.datetime(2018, 8, 14, 20, 45, 55, 156000),\n",
      " 'reinsurer': 'AIG',\n",
      " 'tags': ['mongodb', 'python', 'pymongo'],\n",
      " 'treaty': 'XOL layer'}\n"
     ]
    }
   ],
   "source": [
    "pprint.pprint(posts.find_one({\"reinsurer\": \"AIG\"}))"
   ]
  },
  {
   "cell_type": "markdown",
   "metadata": {},
   "source": [
    "#### * Counting*\n",
    "- If we just want to know how many documents match a query we can perform a count() operation instead of a full query.\n",
    "- We can get a count of all of the documents in a collection:"
   ]
  },
  {
   "cell_type": "code",
   "execution_count": 23,
   "metadata": {},
   "outputs": [
    {
     "name": "stderr",
     "output_type": "stream",
     "text": [
      "C:\\apps\\python36\\python-3.6.3.amd64\\lib\\site-packages\\ipykernel_launcher.py:1: DeprecationWarning: count is deprecated. Use estimated_document_count or count_documents instead. Please note that $where must be replaced by $expr, $near must be replaced by $geoWithin with $center, and $nearSphere must be replaced by $geoWithin with $centerSphere\n",
      "  \"\"\"Entry point for launching an IPython kernel.\n"
     ]
    },
    {
     "data": {
      "text/plain": [
       "12"
      ]
     },
     "execution_count": 23,
     "metadata": {},
     "output_type": "execute_result"
    }
   ],
   "source": [
    "posts.count()"
   ]
  },
  {
   "cell_type": "code",
   "execution_count": 24,
   "metadata": {},
   "outputs": [
    {
     "name": "stderr",
     "output_type": "stream",
     "text": [
      "C:\\apps\\python36\\python-3.6.3.amd64\\lib\\site-packages\\ipykernel_launcher.py:1: DeprecationWarning: count is deprecated. Use Collection.count_documents instead.\n",
      "  \"\"\"Entry point for launching an IPython kernel.\n"
     ]
    },
    {
     "data": {
      "text/plain": [
       "6"
      ]
     },
     "execution_count": 24,
     "metadata": {},
     "output_type": "execute_result"
    }
   ],
   "source": [
    "posts.find({\"reinsurer\": \"AIG\"}).count()"
   ]
  },
  {
   "cell_type": "markdown",
   "metadata": {},
   "source": [
    "#### * Range Queries*\n",
    "- MongoDB supports many different types of advanced queries.\n",
    "- As an example, lets perform a query where we limit results to posts older than a certain date,\n",
    "- but also sort the results by author:"
   ]
  },
  {
   "cell_type": "code",
   "execution_count": 25,
   "metadata": {},
   "outputs": [
    {
     "name": "stdout",
     "output_type": "stream",
     "text": [
      "{'_id': ObjectId('5b733f8da68b144b14aa4fda'),\n",
      " 'date': datetime.datetime(2018, 8, 14, 20, 45, 55, 156000),\n",
      " 'reinsurer': 'AIG',\n",
      " 'tags': ['mongodb', 'python', 'pymongo'],\n",
      " 'treaty': 'XOL layer'}\n",
      "{'_id': ObjectId('5b7340e5a68b144b14aa4fdc'),\n",
      " 'date': datetime.datetime(2018, 11, 12, 11, 14),\n",
      " 'reinsurer': 'AIG',\n",
      " 'tags': ['bulk', 'insert'],\n",
      " 'treaty': 'XOL Layer 2018'}\n",
      "{'_id': ObjectId('5b74590c760df751508616c1'),\n",
      " 'date': datetime.datetime(2018, 8, 15, 16, 47, 4, 939000),\n",
      " 'reinsurer': 'AIG',\n",
      " 'tags': ['mongodb', 'python', 'pymongo'],\n",
      " 'treaty': 'XOL layer'}\n",
      "{'_id': ObjectId('5b745967760df751508616c3'),\n",
      " 'date': datetime.datetime(2018, 11, 12, 11, 14),\n",
      " 'reinsurer': 'AIG',\n",
      " 'tags': ['bulk', 'insert'],\n",
      " 'treaty': 'XOL Layer 2018'}\n",
      "{'_id': ObjectId('5b747db3760df74924ecbe28'),\n",
      " 'date': datetime.datetime(2018, 8, 15, 19, 23, 28, 222000),\n",
      " 'reinsurer': 'AIG',\n",
      " 'tags': ['mongodb', 'python', 'pymongo'],\n",
      " 'treaty': 'XOL layer'}\n",
      "{'_id': ObjectId('5b747dcf760df74924ecbe2a'),\n",
      " 'date': datetime.datetime(2018, 11, 12, 11, 14),\n",
      " 'reinsurer': 'AIG',\n",
      " 'tags': ['bulk', 'insert'],\n",
      " 'treaty': 'XOL Layer 2018'}\n",
      "{'_id': ObjectId('5b7340e5a68b144b14aa4fdd'),\n",
      " 'date': datetime.datetime(2018, 11, 10, 10, 45),\n",
      " 'reinsurer': 'Munich Re',\n",
      " 'retenion': 'QS 20% for US business',\n",
      " 'treaty': 'QS 2018'}\n",
      "{'_id': ObjectId('5b745967760df751508616c4'),\n",
      " 'date': datetime.datetime(2018, 11, 10, 10, 45),\n",
      " 'reinsurer': 'Munich Re',\n",
      " 'retenion': 'QS 20% for US business',\n",
      " 'treaty': 'QS 2018'}\n",
      "{'_id': ObjectId('5b747dcf760df74924ecbe2b'),\n",
      " 'date': datetime.datetime(2018, 11, 10, 10, 45),\n",
      " 'reinsurer': 'Munich Re',\n",
      " 'retenion': 'QS 20% for US business',\n",
      " 'treaty': 'QS 2018'}\n",
      "{'_id': ObjectId('5b733fb2a68b144b14aa4fdb'),\n",
      " 'date': datetime.datetime(2018, 8, 14, 20, 46, 42, 222000),\n",
      " 'reinsurer': 'Swiss Re',\n",
      " 'tags': ['mongodb', 'python', 'pymongo'],\n",
      " 'treaty': 'Clash Layer'}\n",
      "{'_id': ObjectId('5b74594e760df751508616c2'),\n",
      " 'date': datetime.datetime(2018, 8, 15, 16, 48, 14, 644000),\n",
      " 'reinsurer': 'Swiss Re',\n",
      " 'tags': ['mongodb', 'python', 'pymongo'],\n",
      " 'treaty': 'Clash Layer'}\n",
      "{'_id': ObjectId('5b747db8760df74924ecbe29'),\n",
      " 'date': datetime.datetime(2018, 8, 15, 19, 23, 36, 998000),\n",
      " 'reinsurer': 'Swiss Re',\n",
      " 'tags': ['mongodb', 'python', 'pymongo'],\n",
      " 'treaty': 'Clash Layer'}\n"
     ]
    }
   ],
   "source": [
    "d = datetime.datetime(2018, 11, 12, 12)\n",
    "for post in posts.find({\"date\": {\"$lt\": d}}).sort(\"reinsurer\"):\n",
    "    pprint.pprint(post)"
   ]
  },
  {
   "cell_type": "markdown",
   "metadata": {},
   "source": [
    "#### * Indexing*\n",
    "- Adding indexes can help accelerate certain queries and can also add additional functionality to querying and storing documents.\n",
    "- In this example, we’ll demonstrate how to create a unique index on a key that rejects documents whose value for that key already exists in the index.\n",
    "- First, we’ll need to create the index:"
   ]
  },
  {
   "cell_type": "code",
   "execution_count": 26,
   "metadata": {},
   "outputs": [
    {
     "data": {
      "text/plain": [
       "['_id_', 'user_id_1']"
      ]
     },
     "execution_count": 26,
     "metadata": {},
     "output_type": "execute_result"
    }
   ],
   "source": [
    " result = db.profiles.create_index([('user_id', pymongo.ASCENDING)],\n",
    "                                  unique=True)\n",
    " sorted(list(db.profiles.index_information()))"
   ]
  },
  {
   "cell_type": "markdown",
   "metadata": {},
   "source": [
    "#### *Notice that we have two indexes now*\n",
    "- one is the index on _id that MongoDB creates automatically,\n",
    "- and the other is the index on user_id we just created."
   ]
  },
  {
   "cell_type": "code",
   "execution_count": 28,
   "metadata": {},
   "outputs": [],
   "source": [
    " # set up some user profiles:\n",
    "\n",
    "user_profiles = [\n",
    "    {'user_id': 218, 'reinsurer': 'Partner Re'},\n",
    "    {'user_id': 219, 'reinsurer': 'General Re'}]\n",
    "result = db.profiles.insert_many(user_profiles) \n",
    "  "
   ]
  },
  {
   "cell_type": "code",
   "execution_count": 32,
   "metadata": {},
   "outputs": [],
   "source": [
    " # DuplicateKeyError: E11000 duplicate key error collection: test_database.profiles index: user_id_1 dup key: { : 212 }\n",
    " new_profile = {'user_id': 213, 'reinsurer': 'XL American'}\n",
    " duplicate_profile = {'user_id': 212, 'reinsurer': 'SCOR S.E'}\n",
    " result = db.profiles.insert_one(new_profile)  # This is fine.\n",
    " result = db.profiles.insert_one(duplicate_profile)"
   ]
  },
  {
   "cell_type": "markdown",
   "metadata": {},
   "source": [
    "#### * Convert Excel to MongoDB*\n",
    "- https://stackoverflow.com/questions/21901209/convert-excel-to-mongodb\n",
    "- I want to move data from Excel files into MongoDB.\n",
    "- The Excel data is updated daily so I want to add the new data on daily reads.\n",
    "- I'm using Python and so far have only been trying to make a Python dictionary object to represent the Excel data\n",
    "- just to understand how MongoDB is storing its data but feel that I misunderstand some vital points."
   ]
  },
  {
   "cell_type": "markdown",
   "metadata": {},
   "source": [
    "#### *Collection data from twitter into MongoDB*\n",
    "- ref:  http://pythondata.com/collecting-storing-tweets-with-python-and-mongodb/"
   ]
  }
 ],
 "metadata": {
  "kernelspec": {
   "display_name": "Python 3",
   "language": "python",
   "name": "python3"
  },
  "language_info": {
   "codemirror_mode": {
    "name": "ipython",
    "version": 3
   },
   "file_extension": ".py",
   "mimetype": "text/x-python",
   "name": "python",
   "nbconvert_exporter": "python",
   "pygments_lexer": "ipython3",
   "version": "3.6.3"
  }
 },
 "nbformat": 4,
 "nbformat_minor": 2
}
