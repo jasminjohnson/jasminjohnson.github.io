{
 "cells": [
  {
   "cell_type": "markdown",
   "metadata": {},
   "source": [
    "# MongoDB Example - for Accountant reinsurance loss data analysis "
   ]
  },
  {
   "cell_type": "markdown",
   "metadata": {},
   "source": [
    "<!-- PELICAN_BEGIN_SUMMARY -->\n",
    "\n",
    "MongoDB is a document-oriented database. Instead of storing your data in tables made out of individual rows,\n",
    "like a relational database does, it stores your data in collections made out of individual documents.\n",
    "In MongoDB, a document is a big JSON blob with no particular format or schema.\n",
    "\n",
    "You can have all your data in one single table or collection.\n",
    "\n",
    "<!-- PELICAN_END_SUMMARY -->"
   ]
  },
  {
   "cell_type": "markdown",
   "metadata": {},
   "source": [
    "### MongoDB for Reinsurance Data Analysis\n",
    "- Create sample data in MongoDB\n",
    "- Read webpage data into MongoDB and retrieve it for data analysis"
   ]
  },
  {
   "cell_type": "code",
   "execution_count": 39,
   "metadata": {},
   "outputs": [
    {
     "data": {
      "text/plain": [
       "Collection(Database(MongoClient(host=['localhost:27017'], document_class=dict, tz_aware=False, connect=True), 'test_database'), 'test_collection')"
      ]
     },
     "execution_count": 39,
     "metadata": {},
     "output_type": "execute_result"
    }
   ],
   "source": [
    "## ref: http://api.mongodb.com/python/current/tutorial.html\n",
    "# Import pymongo\n",
    "# The first step when working with PyMongo is to create a MongoClient to the running mongod instance\n",
    "# Making a Connection with MongoClient\n",
    "import pymongo\n",
    "from pymongo import MongoClient\n",
    "\n",
    "\n",
    "# Connect on the default host and port.\n",
    "client = MongoClient()\n",
    "\n",
    "\n",
    "# We can also specify the host and port explicitly\n",
    "client = MongoClient('localhost', 27017)\n",
    "\n",
    "\n",
    "# Getting a Database\n",
    "# A single instance of MongoDB can support multiple independent databases.\n",
    "# When working with PyMongo you access databases using attribute style access on MongoClient instances:\n",
    "db = client.test_database\n",
    "\n",
    "\n",
    "# If your database name is such that using attribute style access won’t work (like test-database),\n",
    "# you can use dictionary style access instead:\n",
    "collection = db.test_collection\n",
    "\n",
    "collection"
   ]
  },
  {
   "cell_type": "code",
   "execution_count": 40,
   "metadata": {},
   "outputs": [],
   "source": [
    "#Data in MongoDB is represented (and stored) using JSON-style documents. \n",
    "#In PyMongo we use dictionaries to represent documents.\n",
    "#As an example, the following dictionary might be used to represent a blog post:\n",
    "import datetime\n",
    "post = {\"reinsurer\": \"AIG\",\n",
    "        \"treaty\": \"XOL layer\",\n",
    "        \"tags\": [\"mongodb\", \"python\", \"pymongo\"],\n",
    "        \"date\": datetime.datetime.utcnow()}"
   ]
  },
  {
   "cell_type": "code",
   "execution_count": null,
   "metadata": {},
   "outputs": [],
   "source": [
    "#Inserting a Document\n",
    "- When a document is inserted a special key, \"_id\", is automatically added if the document doesn’t already contain an \"_id\" key.\n",
    "- The value of \"_id\" must be unique across the collection. insert_one() returns an instance of InsertOneResult. "
   ]
  },
  {
   "cell_type": "code",
   "execution_count": 41,
   "metadata": {},
   "outputs": [
    {
     "data": {
      "text/plain": [
       "ObjectId('5b720f16a68b144f903802fa')"
      ]
     },
     "execution_count": 41,
     "metadata": {},
     "output_type": "execute_result"
    }
   ],
   "source": [
    "# To insert a document into a collection we can use the insert_one() method:\n",
    "posts = db.posts\n",
    "post_id = posts.insert_one(post).inserted_id\n",
    "post_id\n"
   ]
  },
  {
   "cell_type": "code",
   "execution_count": null,
   "metadata": {},
   "outputs": [],
   "source": [
    "# After inserting the first document, the posts collection has actually been created on the server.\n",
    "# We can verify this by listing all of the collections in our database:"
   ]
  },
  {
   "cell_type": "code",
   "execution_count": 42,
   "metadata": {},
   "outputs": [
    {
     "data": {
      "text/plain": [
       "['posts', 'profiles']"
      ]
     },
     "execution_count": 42,
     "metadata": {},
     "output_type": "execute_result"
    }
   ],
   "source": [
    "db.collection_names(include_system_collections=False)"
   ]
  },
  {
   "cell_type": "code",
   "execution_count": 43,
   "metadata": {},
   "outputs": [
    {
     "data": {
      "text/plain": [
       "ObjectId('5b720f1ea68b144f903802fb')"
      ]
     },
     "execution_count": 43,
     "metadata": {},
     "output_type": "execute_result"
    }
   ],
   "source": [
    "post2 = {\"reinsurer\": \"Swiss Re\",\n",
    "        \"treaty\": \"Clash Layer\",\n",
    "        \"tags\": [\"mongodb\", \"python\", \"pymongo\"],\n",
    "        \"date\": datetime.datetime.utcnow()}\n",
    "\n",
    "post_id = posts.insert_one(post2).inserted_id\n",
    "post_id"
   ]
  },
  {
   "cell_type": "code",
   "execution_count": null,
   "metadata": {},
   "outputs": [],
   "source": [
    "# Getting a Single Document With find_one()\n",
    "- The most basic type of query that can be performed in MongoDB is find_one().\n",
    "- This method returns a single document matching a query (or None if there are no matches).\n",
    "- It is useful when you know there is only one matching document, or\n",
    "- are only interested in the first match. Here we use find_one() to get the first document from the posts collection:"
   ]
  },
  {
   "cell_type": "code",
   "execution_count": 44,
   "metadata": {},
   "outputs": [
    {
     "name": "stdout",
     "output_type": "stream",
     "text": [
      "{'_id': ObjectId('5b6e411ba68b144f903802ee'),\n",
      " 'author': 'Mike',\n",
      " 'date': datetime.datetime(2018, 8, 11, 1, 47, 39, 710000),\n",
      " 'tags': ['mongodb', 'python', 'pymongo'],\n",
      " 'text': 'My first blog post!'}\n"
     ]
    }
   ],
   "source": [
    "import pprint\n",
    "pprint.pprint(posts.find_one())"
   ]
  },
  {
   "cell_type": "code",
   "execution_count": 45,
   "metadata": {},
   "outputs": [
    {
     "name": "stdout",
     "output_type": "stream",
     "text": [
      "{'_id': ObjectId('5b720f16a68b144f903802fa'),\n",
      " 'date': datetime.datetime(2018, 8, 13, 23, 6, 57, 506000),\n",
      " 'reinsurer': 'AIG',\n",
      " 'tags': ['mongodb', 'python', 'pymongo'],\n",
      " 'treaty': 'XOL layer'}\n"
     ]
    }
   ],
   "source": [
    "pprint.pprint(posts.find_one({\"reinsurer\": \"AIG\"}))"
   ]
  },
  {
   "cell_type": "code",
   "execution_count": 46,
   "metadata": {},
   "outputs": [
    {
     "name": "stdout",
     "output_type": "stream",
     "text": [
      "None\n"
     ]
    }
   ],
   "source": [
    "pprint.pprint(posts.find_one({\"reinsurer\": \"ACE\"}))"
   ]
  },
  {
   "cell_type": "code",
   "execution_count": null,
   "metadata": {},
   "outputs": [],
   "source": [
    "# Querying By ObjectId\n",
    "- We can also find a post by its _id, which in our example is an ObjectId:"
   ]
  },
  {
   "cell_type": "code",
   "execution_count": 47,
   "metadata": {},
   "outputs": [
    {
     "data": {
      "text/plain": [
       "ObjectId('5b720f1ea68b144f903802fb')"
      ]
     },
     "execution_count": 47,
     "metadata": {},
     "output_type": "execute_result"
    }
   ],
   "source": [
    "post_id  ##output is an object"
   ]
  },
  {
   "cell_type": "code",
   "execution_count": 48,
   "metadata": {},
   "outputs": [
    {
     "name": "stdout",
     "output_type": "stream",
     "text": [
      "{'_id': ObjectId('5b720f1ea68b144f903802fb'),\n",
      " 'date': datetime.datetime(2018, 8, 13, 23, 7, 10, 339000),\n",
      " 'reinsurer': 'Swiss Re',\n",
      " 'tags': ['mongodb', 'python', 'pymongo'],\n",
      " 'treaty': 'Clash Layer'}\n"
     ]
    }
   ],
   "source": [
    "pprint.pprint(posts.find_one({\"_id\": post_id}))"
   ]
  },
  {
   "cell_type": "code",
   "execution_count": null,
   "metadata": {},
   "outputs": [],
   "source": [
    "# Note that an ObjectId is not the same as its string representation:"
   ]
  },
  {
   "cell_type": "code",
   "execution_count": 49,
   "metadata": {},
   "outputs": [
    {
     "data": {
      "text/plain": [
       "'5b720f1ea68b144f903802fb'"
      ]
     },
     "execution_count": 49,
     "metadata": {},
     "output_type": "execute_result"
    }
   ],
   "source": [
    "post_id_as_str = str(post_id)\n",
    "post_id_as_str  ## output is a string\n"
   ]
  },
  {
   "cell_type": "code",
   "execution_count": 50,
   "metadata": {},
   "outputs": [],
   "source": [
    "posts.find_one({\"_id\": post_id_as_str}) # No result"
   ]
  },
  {
   "cell_type": "code",
   "execution_count": null,
   "metadata": {},
   "outputs": [],
   "source": [
    "# Get URL data\n",
    "- A common task in web applications is to get an ObjectId from the request URL and find the matching document.\n",
    "- It’s necessary in this case to convert the ObjectId from a string before passing it to find_one:"
   ]
  },
  {
   "cell_type": "code",
   "execution_count": 51,
   "metadata": {},
   "outputs": [],
   "source": [
    "from bson.objectid import ObjectId\n",
    "\n",
    "# The web framework gets post_id from the URL and passes it as a string\n",
    "def get(post_id):\n",
    "    # Convert from string to ObjectId:\n",
    "    document = client.db.collection.find_one({'_id': ObjectId(post_id)})"
   ]
  },
  {
   "cell_type": "code",
   "execution_count": null,
   "metadata": {},
   "outputs": [],
   "source": [
    "# A Note On Unicode Strings\n",
    "- You probably noticed that the regular Python strings we stored earlier look different when retrieved from the server (e.g. u’Mike’ instead of ‘Mike’).\n",
    "- A short explanation is in order.\n",
    "- MongoDB stores data in BSON format. BSON strings are UTF-8 encoded so PyMongo must ensure that any strings it stores contain only valid UTF-8 data.\n",
    "- Regular strings (<type ‘str’>) are validated and stored unaltered. Unicode strings (<type ‘unicode’>) are encoded UTF-8 first. \n",
    "- The reason our example string is represented in the Python shell as u’Mike’ instead of ‘Mike’ \n",
    "- is that PyMongo decodes each BSON string to a Python unicode string, not a regular str."
   ]
  },
  {
   "cell_type": "code",
   "execution_count": null,
   "metadata": {},
   "outputs": [],
   "source": [
    "# Bulk Inserts\n",
    "- we can also perform bulk insert operations, by passing a list as the first argument to insert_many(). \n",
    "- This will insert each document in the list, sending only a single command to the server:\n",
    "- different shape, but can handle with new title,can add to the collection... because its not a table"
   ]
  },
  {
   "cell_type": "code",
   "execution_count": 52,
   "metadata": {},
   "outputs": [
    {
     "data": {
      "text/plain": [
       "[ObjectId('5b720f37a68b144f903802fc'), ObjectId('5b720f37a68b144f903802fd')]"
      ]
     },
     "execution_count": 52,
     "metadata": {},
     "output_type": "execute_result"
    }
   ],
   "source": [
    "#new_posts[1] has a different “shape” than the other posts \n",
    "#- there is no \"tags\" field and we’ve added a new field, \"title\". \n",
    "#This is what we mean when we say that MongoDB is schema-free.\n",
    "\n",
    "\n",
    "new_posts = [{\"reinsurer\": \"AIG\",\n",
    "              \"treaty\": \"XOL Layer 2018\",\n",
    "              \"tags\": [\"bulk\", \"insert\"],\n",
    "              \"date\": datetime.datetime(2018, 11, 12, 11, 14)},\n",
    "              {\"reinsurer\": \"Munich Re\",\n",
    "               \"treaty\": \"QS 2018\",\n",
    "               \"text\": \"QS 20% for US business\",\n",
    "               \"date\": datetime.datetime(2018, 11, 10, 10, 45)}]\n",
    "\n",
    "result = posts.insert_many(new_posts)\n",
    "result.inserted_ids"
   ]
  },
  {
   "cell_type": "code",
   "execution_count": null,
   "metadata": {},
   "outputs": [],
   "source": [
    "# The result from insert_many() now returns two ObjectId instances, one for each inserted document.\n",
    " - new_posts[1] has a different “shape” than the other posts - there is no \"tags\" field and we’ve added a new field, \"title\".\n",
    "- This is what we mean when we say that MongoDB is schema-free."
   ]
  },
  {
   "cell_type": "code",
   "execution_count": 53,
   "metadata": {},
   "outputs": [
    {
     "name": "stdout",
     "output_type": "stream",
     "text": [
      "{'_id': ObjectId('5b6e411ba68b144f903802ee'),\n",
      " 'author': 'Mike',\n",
      " 'date': datetime.datetime(2018, 8, 11, 1, 47, 39, 710000),\n",
      " 'tags': ['mongodb', 'python', 'pymongo'],\n",
      " 'text': 'My first blog post!'}\n",
      "{'_id': ObjectId('5b6e4225a68b144f903802f0'),\n",
      " 'author': 'Jasmin',\n",
      " 'date': datetime.datetime(2018, 8, 11, 1, 55, 49, 411000),\n",
      " 'tags': ['mongodb', 'python', 'pymongo'],\n",
      " 'text': 'My second blog post!'}\n",
      "{'_id': ObjectId('5b6e4490a68b144f903802f1'),\n",
      " 'author': 'Mike',\n",
      " 'date': datetime.datetime(2009, 11, 12, 11, 14),\n",
      " 'tags': ['bulk', 'insert'],\n",
      " 'text': 'Another post!'}\n",
      "{'_id': ObjectId('5b6e4490a68b144f903802f2'),\n",
      " 'author': 'Eliot',\n",
      " 'date': datetime.datetime(2009, 11, 10, 10, 45),\n",
      " 'text': 'and pretty easy too!',\n",
      " 'title': 'MongoDB is fun'}\n",
      "{'_id': ObjectId('5b720f16a68b144f903802fa'),\n",
      " 'date': datetime.datetime(2018, 8, 13, 23, 6, 57, 506000),\n",
      " 'reinsurer': 'AIG',\n",
      " 'tags': ['mongodb', 'python', 'pymongo'],\n",
      " 'treaty': 'XOL layer'}\n",
      "{'_id': ObjectId('5b720f1ea68b144f903802fb'),\n",
      " 'date': datetime.datetime(2018, 8, 13, 23, 7, 10, 339000),\n",
      " 'reinsurer': 'Swiss Re',\n",
      " 'tags': ['mongodb', 'python', 'pymongo'],\n",
      " 'treaty': 'Clash Layer'}\n",
      "{'_id': ObjectId('5b720f37a68b144f903802fc'),\n",
      " 'date': datetime.datetime(2018, 11, 12, 11, 14),\n",
      " 'reinsurer': 'AIG',\n",
      " 'tags': ['bulk', 'insert'],\n",
      " 'treaty': 'XOL Layer 2018'}\n",
      "{'_id': ObjectId('5b720f37a68b144f903802fd'),\n",
      " 'date': datetime.datetime(2018, 11, 10, 10, 45),\n",
      " 'reinsurer': 'Munich Re',\n",
      " 'text': 'QS 20% for US business',\n",
      " 'treaty': 'QS 2018'}\n"
     ]
    }
   ],
   "source": [
    "for post in posts.find():\n",
    "     pprint.pprint(post)"
   ]
  },
  {
   "cell_type": "code",
   "execution_count": 54,
   "metadata": {},
   "outputs": [
    {
     "name": "stdout",
     "output_type": "stream",
     "text": [
      "{'_id': ObjectId('5b720f16a68b144f903802fa'),\n",
      " 'date': datetime.datetime(2018, 8, 13, 23, 6, 57, 506000),\n",
      " 'reinsurer': 'AIG',\n",
      " 'tags': ['mongodb', 'python', 'pymongo'],\n",
      " 'treaty': 'XOL layer'}\n",
      "{'_id': ObjectId('5b720f37a68b144f903802fc'),\n",
      " 'date': datetime.datetime(2018, 11, 12, 11, 14),\n",
      " 'reinsurer': 'AIG',\n",
      " 'tags': ['bulk', 'insert'],\n",
      " 'treaty': 'XOL Layer 2018'}\n"
     ]
    }
   ],
   "source": [
    "# different than find_one\n",
    "for post in posts.find({\"reinsurer\": \"AIG\"}):\n",
    "    pprint.pprint(post)"
   ]
  },
  {
   "cell_type": "code",
   "execution_count": 55,
   "metadata": {},
   "outputs": [
    {
     "name": "stdout",
     "output_type": "stream",
     "text": [
      "{'_id': ObjectId('5b720f16a68b144f903802fa'),\n",
      " 'date': datetime.datetime(2018, 8, 13, 23, 6, 57, 506000),\n",
      " 'reinsurer': 'AIG',\n",
      " 'tags': ['mongodb', 'python', 'pymongo'],\n",
      " 'treaty': 'XOL layer'}\n"
     ]
    }
   ],
   "source": [
    "pprint.pprint(posts.find_one({\"reinsurer\": \"AIG\"}))"
   ]
  },
  {
   "cell_type": "code",
   "execution_count": null,
   "metadata": {},
   "outputs": [],
   "source": [
    "# Counting\n",
    " - If we just want to know how many documents match a query we can perform a count() operation instead of a full query.\n",
    "- We can get a count of all of the documents in a collection:"
   ]
  },
  {
   "cell_type": "code",
   "execution_count": 56,
   "metadata": {},
   "outputs": [
    {
     "data": {
      "text/plain": [
       "8"
      ]
     },
     "execution_count": 56,
     "metadata": {},
     "output_type": "execute_result"
    }
   ],
   "source": [
    "posts.count()"
   ]
  },
  {
   "cell_type": "code",
   "execution_count": 57,
   "metadata": {},
   "outputs": [
    {
     "data": {
      "text/plain": [
       "2"
      ]
     },
     "execution_count": 57,
     "metadata": {},
     "output_type": "execute_result"
    }
   ],
   "source": [
    "posts.find({\"reinsurer\": \"AIG\"}).count()"
   ]
  },
  {
   "cell_type": "code",
   "execution_count": null,
   "metadata": {},
   "outputs": [],
   "source": [
    "# Range Queries\n",
    "- MongoDB supports many different types of advanced queries.\n",
    "- As an example, lets perform a query where we limit results to posts older than a certain date,\n",
    "- but also sort the results by author:"
   ]
  },
  {
   "cell_type": "code",
   "execution_count": 58,
   "metadata": {},
   "outputs": [
    {
     "name": "stdout",
     "output_type": "stream",
     "text": [
      "{'_id': ObjectId('5b6e411ba68b144f903802ee'),\n",
      " 'author': 'Mike',\n",
      " 'date': datetime.datetime(2018, 8, 11, 1, 47, 39, 710000),\n",
      " 'tags': ['mongodb', 'python', 'pymongo'],\n",
      " 'text': 'My first blog post!'}\n",
      "{'_id': ObjectId('5b6e4225a68b144f903802f0'),\n",
      " 'author': 'Jasmin',\n",
      " 'date': datetime.datetime(2018, 8, 11, 1, 55, 49, 411000),\n",
      " 'tags': ['mongodb', 'python', 'pymongo'],\n",
      " 'text': 'My second blog post!'}\n",
      "{'_id': ObjectId('5b6e4490a68b144f903802f1'),\n",
      " 'author': 'Mike',\n",
      " 'date': datetime.datetime(2009, 11, 12, 11, 14),\n",
      " 'tags': ['bulk', 'insert'],\n",
      " 'text': 'Another post!'}\n",
      "{'_id': ObjectId('5b6e4490a68b144f903802f2'),\n",
      " 'author': 'Eliot',\n",
      " 'date': datetime.datetime(2009, 11, 10, 10, 45),\n",
      " 'text': 'and pretty easy too!',\n",
      " 'title': 'MongoDB is fun'}\n",
      "{'_id': ObjectId('5b720f16a68b144f903802fa'),\n",
      " 'date': datetime.datetime(2018, 8, 13, 23, 6, 57, 506000),\n",
      " 'reinsurer': 'AIG',\n",
      " 'tags': ['mongodb', 'python', 'pymongo'],\n",
      " 'treaty': 'XOL layer'}\n",
      "{'_id': ObjectId('5b720f37a68b144f903802fc'),\n",
      " 'date': datetime.datetime(2018, 11, 12, 11, 14),\n",
      " 'reinsurer': 'AIG',\n",
      " 'tags': ['bulk', 'insert'],\n",
      " 'treaty': 'XOL Layer 2018'}\n",
      "{'_id': ObjectId('5b720f37a68b144f903802fd'),\n",
      " 'date': datetime.datetime(2018, 11, 10, 10, 45),\n",
      " 'reinsurer': 'Munich Re',\n",
      " 'text': 'QS 20% for US business',\n",
      " 'treaty': 'QS 2018'}\n",
      "{'_id': ObjectId('5b720f1ea68b144f903802fb'),\n",
      " 'date': datetime.datetime(2018, 8, 13, 23, 7, 10, 339000),\n",
      " 'reinsurer': 'Swiss Re',\n",
      " 'tags': ['mongodb', 'python', 'pymongo'],\n",
      " 'treaty': 'Clash Layer'}\n"
     ]
    }
   ],
   "source": [
    "d = datetime.datetime(2018, 11, 12, 12)\n",
    "for post in posts.find({\"date\": {\"$lt\": d}}).sort(\"reinsurer\"):\n",
    "    pprint.pprint(post)"
   ]
  },
  {
   "cell_type": "code",
   "execution_count": null,
   "metadata": {},
   "outputs": [],
   "source": [
    "# Indexing\n",
    "- Adding indexes can help accelerate certain queries and can also add additional functionality to querying and storing documents.\n",
    "- In this example, we’ll demonstrate how to create a unique index on a key that rejects documents whose value for that key already exists in the index.\n",
    "- First, we’ll need to create the index:"
   ]
  },
  {
   "cell_type": "code",
   "execution_count": 59,
   "metadata": {},
   "outputs": [
    {
     "data": {
      "text/plain": [
       "['_id_', 'user_id_1']"
      ]
     },
     "execution_count": 59,
     "metadata": {},
     "output_type": "execute_result"
    }
   ],
   "source": [
    " result = db.profiles.create_index([('user_id', pymongo.ASCENDING)],\n",
    "                                  unique=True)\n",
    " sorted(list(db.profiles.index_information()))"
   ]
  },
  {
   "cell_type": "code",
   "execution_count": null,
   "metadata": {},
   "outputs": [],
   "source": [
    "# Notice that we have two indexes now: one is the index on _id that MongoDB creates automatically,\n",
    "# and the other is the index on user_id we just created."
   ]
  },
  {
   "cell_type": "code",
   "execution_count": 67,
   "metadata": {},
   "outputs": [
    {
     "ename": "BulkWriteError",
     "evalue": "batch op errors occurred",
     "output_type": "error",
     "traceback": [
      "\u001b[1;31m---------------------------------------------------------------------------\u001b[0m",
      "\u001b[1;31mBulkWriteError\u001b[0m                            Traceback (most recent call last)",
      "\u001b[1;32m<ipython-input-67-8b49f0a6d2a0>\u001b[0m in \u001b[0;36m<module>\u001b[1;34m()\u001b[0m\n\u001b[0;32m      4\u001b[0m    \u001b[1;33m{\u001b[0m\u001b[1;34m'user_id'\u001b[0m\u001b[1;33m:\u001b[0m \u001b[1;36m211\u001b[0m\u001b[1;33m,\u001b[0m \u001b[1;34m'reinsurer'\u001b[0m\u001b[1;33m:\u001b[0m \u001b[1;34m'AIG'\u001b[0m\u001b[1;33m}\u001b[0m\u001b[1;33m,\u001b[0m\u001b[1;33m\u001b[0m\u001b[0m\n\u001b[0;32m      5\u001b[0m    {'user_id': 212, 'reinsurer': 'SCOR'}]\n\u001b[1;32m----> 6\u001b[1;33m \u001b[0mresult\u001b[0m \u001b[1;33m=\u001b[0m \u001b[0mdb\u001b[0m\u001b[1;33m.\u001b[0m\u001b[0mprofiles\u001b[0m\u001b[1;33m.\u001b[0m\u001b[0minsert_many\u001b[0m\u001b[1;33m(\u001b[0m\u001b[0muser_profiles\u001b[0m\u001b[1;33m)\u001b[0m\u001b[1;33m\u001b[0m\u001b[0m\n\u001b[0m\u001b[0;32m      7\u001b[0m \u001b[1;33m\u001b[0m\u001b[0m\n\u001b[0;32m      8\u001b[0m \u001b[1;33m\u001b[0m\u001b[0m\n",
      "\u001b[1;32mC:\\apps\\python36\\python-3.6.3.amd64\\lib\\site-packages\\pymongo\\collection.py\u001b[0m in \u001b[0;36minsert_many\u001b[1;34m(self, documents, ordered, bypass_document_validation)\u001b[0m\n\u001b[0;32m    722\u001b[0m         \u001b[0mblk\u001b[0m \u001b[1;33m=\u001b[0m \u001b[0m_Bulk\u001b[0m\u001b[1;33m(\u001b[0m\u001b[0mself\u001b[0m\u001b[1;33m,\u001b[0m \u001b[0mordered\u001b[0m\u001b[1;33m,\u001b[0m \u001b[0mbypass_document_validation\u001b[0m\u001b[1;33m)\u001b[0m\u001b[1;33m\u001b[0m\u001b[0m\n\u001b[0;32m    723\u001b[0m         \u001b[0mblk\u001b[0m\u001b[1;33m.\u001b[0m\u001b[0mops\u001b[0m \u001b[1;33m=\u001b[0m \u001b[1;33m[\u001b[0m\u001b[0mdoc\u001b[0m \u001b[1;32mfor\u001b[0m \u001b[0mdoc\u001b[0m \u001b[1;32min\u001b[0m \u001b[0mgen\u001b[0m\u001b[1;33m(\u001b[0m\u001b[1;33m)\u001b[0m\u001b[1;33m]\u001b[0m\u001b[1;33m\u001b[0m\u001b[0m\n\u001b[1;32m--> 724\u001b[1;33m         \u001b[0mblk\u001b[0m\u001b[1;33m.\u001b[0m\u001b[0mexecute\u001b[0m\u001b[1;33m(\u001b[0m\u001b[0mself\u001b[0m\u001b[1;33m.\u001b[0m\u001b[0mwrite_concern\u001b[0m\u001b[1;33m.\u001b[0m\u001b[0mdocument\u001b[0m\u001b[1;33m)\u001b[0m\u001b[1;33m\u001b[0m\u001b[0m\n\u001b[0m\u001b[0;32m    725\u001b[0m         \u001b[1;32mreturn\u001b[0m \u001b[0mInsertManyResult\u001b[0m\u001b[1;33m(\u001b[0m\u001b[0minserted_ids\u001b[0m\u001b[1;33m,\u001b[0m \u001b[0mself\u001b[0m\u001b[1;33m.\u001b[0m\u001b[0mwrite_concern\u001b[0m\u001b[1;33m.\u001b[0m\u001b[0macknowledged\u001b[0m\u001b[1;33m)\u001b[0m\u001b[1;33m\u001b[0m\u001b[0m\n\u001b[0;32m    726\u001b[0m \u001b[1;33m\u001b[0m\u001b[0m\n",
      "\u001b[1;32mC:\\apps\\python36\\python-3.6.3.amd64\\lib\\site-packages\\pymongo\\bulk.py\u001b[0m in \u001b[0;36mexecute\u001b[1;34m(self, write_concern)\u001b[0m\n\u001b[0;32m    491\u001b[0m                 \u001b[0mself\u001b[0m\u001b[1;33m.\u001b[0m\u001b[0mexecute_no_results\u001b[0m\u001b[1;33m(\u001b[0m\u001b[0msock_info\u001b[0m\u001b[1;33m,\u001b[0m \u001b[0mgenerator\u001b[0m\u001b[1;33m)\u001b[0m\u001b[1;33m\u001b[0m\u001b[0m\n\u001b[0;32m    492\u001b[0m             \u001b[1;32melif\u001b[0m \u001b[0msock_info\u001b[0m\u001b[1;33m.\u001b[0m\u001b[0mmax_wire_version\u001b[0m \u001b[1;33m>\u001b[0m \u001b[1;36m1\u001b[0m\u001b[1;33m:\u001b[0m\u001b[1;33m\u001b[0m\u001b[0m\n\u001b[1;32m--> 493\u001b[1;33m                 \u001b[1;32mreturn\u001b[0m \u001b[0mself\u001b[0m\u001b[1;33m.\u001b[0m\u001b[0mexecute_command\u001b[0m\u001b[1;33m(\u001b[0m\u001b[0msock_info\u001b[0m\u001b[1;33m,\u001b[0m \u001b[0mgenerator\u001b[0m\u001b[1;33m,\u001b[0m \u001b[0mwrite_concern\u001b[0m\u001b[1;33m)\u001b[0m\u001b[1;33m\u001b[0m\u001b[0m\n\u001b[0m\u001b[0;32m    494\u001b[0m             \u001b[1;32melse\u001b[0m\u001b[1;33m:\u001b[0m\u001b[1;33m\u001b[0m\u001b[0m\n\u001b[0;32m    495\u001b[0m                 \u001b[1;32mreturn\u001b[0m \u001b[0mself\u001b[0m\u001b[1;33m.\u001b[0m\u001b[0mexecute_legacy\u001b[0m\u001b[1;33m(\u001b[0m\u001b[0msock_info\u001b[0m\u001b[1;33m,\u001b[0m \u001b[0mgenerator\u001b[0m\u001b[1;33m,\u001b[0m \u001b[0mwrite_concern\u001b[0m\u001b[1;33m)\u001b[0m\u001b[1;33m\u001b[0m\u001b[0m\n",
      "\u001b[1;32mC:\\apps\\python36\\python-3.6.3.amd64\\lib\\site-packages\\pymongo\\bulk.py\u001b[0m in \u001b[0;36mexecute_command\u001b[1;34m(self, sock_info, generator, write_concern)\u001b[0m\n\u001b[0;32m    329\u001b[0m                 full_result['writeErrors'].sort(\n\u001b[0;32m    330\u001b[0m                     key=lambda error: error['index'])\n\u001b[1;32m--> 331\u001b[1;33m             \u001b[1;32mraise\u001b[0m \u001b[0mBulkWriteError\u001b[0m\u001b[1;33m(\u001b[0m\u001b[0mfull_result\u001b[0m\u001b[1;33m)\u001b[0m\u001b[1;33m\u001b[0m\u001b[0m\n\u001b[0m\u001b[0;32m    332\u001b[0m         \u001b[1;32mreturn\u001b[0m \u001b[0mfull_result\u001b[0m\u001b[1;33m\u001b[0m\u001b[0m\n\u001b[0;32m    333\u001b[0m \u001b[1;33m\u001b[0m\u001b[0m\n",
      "\u001b[1;31mBulkWriteError\u001b[0m: batch op errors occurred"
     ]
    }
   ],
   "source": [
    " # set up some user profiles:\n",
    "\n",
    "user_profiles = [\n",
    "    {'user_id': 211, 'reinsurer': 'AIG'},\n",
    "    {'user_id': 212, 'reinsurer': 'SCOR'}]\n",
    "result = db.profiles.insert_many(user_profiles)       \n",
    "   "
   ]
  },
  {
   "cell_type": "code",
   "execution_count": 38,
   "metadata": {},
   "outputs": [],
   "source": [
    " # DuplicateKeyError: E11000 duplicate key error collection: test_database.profiles index: user_id_1 dup key: { : 212 }\n",
    " new_profile = {'user_id': 213, 'reinsurer': 'XL American'}\n",
    " duplicate_profile = {'user_id': 212, 'reinsurer': 'SCOR S.E'}\n",
    " result = db.profiles.insert_one(new_profile)  # This is fine.\n",
    " result = db.profiles.insert_one(duplicate_profile)"
   ]
  },
  {
   "cell_type": "code",
   "execution_count": null,
   "metadata": {},
   "outputs": [],
   "source": [
    "#### *Display the webpage data using node.jc to MongoDB then retrieced it*\n",
    "#https://stackoverflow.com/questions/17256710/display-the-data-onto-webpage-retrieved-from-mongodb-using-node-js#"
   ]
  }
 ],
 "metadata": {
  "kernelspec": {
   "display_name": "Python 3",
   "language": "python",
   "name": "python3"
  },
  "language_info": {
   "codemirror_mode": {
    "name": "ipython",
    "version": 3
   },
   "file_extension": ".py",
   "mimetype": "text/x-python",
   "name": "python",
   "nbconvert_exporter": "python",
   "pygments_lexer": "ipython3",
   "version": "3.6.3"
  }
 },
 "nbformat": 4,
 "nbformat_minor": 2
}
