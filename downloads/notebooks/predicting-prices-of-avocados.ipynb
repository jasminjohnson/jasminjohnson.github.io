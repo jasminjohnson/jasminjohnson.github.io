{
 "cells": [
  {
   "cell_type": "markdown",
   "metadata": {
    "_uuid": "359c56a38ece7e3d7de26923c645ebf5526f7744"
   },
   "source": [
    "**Hi, in this notebook I would like to look at the avocado data and by using fbprophet library predict future prices. **"
   ]
  },
  {
   "cell_type": "code",
   "execution_count": null,
   "metadata": {
    "_cell_guid": "b1076dfc-b9ad-4769-8c92-a6c4dae69d19",
    "_uuid": "8f2839f25d086af736a60e9eeb907d3b93b6e0e5"
   },
   "outputs": [],
   "source": [
    "import numpy as np \n",
    "import pandas as pd \n",
    "from fbprophet import Prophet\n",
    "\n",
    "%matplotlib inline"
   ]
  },
  {
   "cell_type": "code",
   "execution_count": null,
   "metadata": {
    "_cell_guid": "79c7e3d0-c299-4dcb-8224-4455121ee9b0",
    "_uuid": "d629ff2d2480ee46fbb7e2d37f6b5fab8052498a"
   },
   "outputs": [],
   "source": [
    "df = pd.read_csv(\"../input/avocado.csv\")"
   ]
  },
  {
   "cell_type": "markdown",
   "metadata": {
    "_uuid": "e1581fb7d860cc4546fff0c79eaad9985f6eb989"
   },
   "source": [
    "After loading our data let's inspect it a little bit. "
   ]
  },
  {
   "cell_type": "code",
   "execution_count": null,
   "metadata": {
    "_uuid": "65cea7d31f75ab2b4512aa9ee3a31d067f9d1ffd"
   },
   "outputs": [],
   "source": [
    "df.head()"
   ]
  },
  {
   "cell_type": "markdown",
   "metadata": {
    "_uuid": "6c8c1635b8fbb1cfe3e8f63294977853893639c4"
   },
   "source": [
    "As we can see we have a column describing type of a avocado, what are these types?"
   ]
  },
  {
   "cell_type": "code",
   "execution_count": null,
   "metadata": {
    "_uuid": "52cf2a94bb877bf79b8517371bec2d3b3e807b1f"
   },
   "outputs": [],
   "source": [
    "df.groupby('type').groups"
   ]
  },
  {
   "cell_type": "markdown",
   "metadata": {
    "_uuid": "d7483beca19b30fe3e1c3aa34115a19b226026dd"
   },
   "source": [
    "We got two types of avocados - conventional and organic, I have chosen the conventional ones to make predictions for. "
   ]
  },
  {
   "cell_type": "code",
   "execution_count": null,
   "metadata": {
    "_uuid": "7d66432e595ae8a5537ef496ce13563a02dabe91"
   },
   "outputs": [],
   "source": [
    "PREDICTION_TYPE = 'conventional'\n",
    "df = df[df.type == PREDICTION_TYPE]"
   ]
  },
  {
   "cell_type": "markdown",
   "metadata": {
    "_uuid": "f16e19f1a9da50303d245083e3957896484d5e2e"
   },
   "source": [
    "After we have loaded our libraries and data, we shall continue by converting Date column of our DataFrame to pandas readable type.  "
   ]
  },
  {
   "cell_type": "code",
   "execution_count": null,
   "metadata": {
    "_uuid": "6e638c121962fcedcedf05055cac59b9d0ad5292"
   },
   "outputs": [],
   "source": [
    "df['Date'] = pd.to_datetime(df['Date'])"
   ]
  },
  {
   "cell_type": "markdown",
   "metadata": {
    "_uuid": "3473d27703f392151a32b3b44dcce2c93f2370b7"
   },
   "source": [
    "Let's check how many distinct regions column region includes and how many entries each region has."
   ]
  },
  {
   "cell_type": "code",
   "execution_count": null,
   "metadata": {
    "_uuid": "14554a4638fd8937cc3a8fb38b75d137ed9d77e1",
    "scrolled": true
   },
   "outputs": [],
   "source": [
    "regions = df.groupby(df.region)\n",
    "print(\"Total regions :\", len(regions))\n",
    "print(\"-------------\")\n",
    "for name, group in regions:\n",
    "    print(name, \" : \", len(group))"
   ]
  },
  {
   "cell_type": "markdown",
   "metadata": {
    "_uuid": "7b9300ce8f981c517a3eead86839e22bd4b4c64c"
   },
   "source": [
    "Each one of the regions has exactly 169 entries. The next step is to choose a region, for which we would like to predict future prices."
   ]
  },
  {
   "cell_type": "code",
   "execution_count": null,
   "metadata": {
    "_uuid": "5daabf1e5ef9fdcc20fde30d9a49222dedf6981d"
   },
   "outputs": [],
   "source": [
    "PREDICTING_FOR = \"TotalUS\""
   ]
  },
  {
   "cell_type": "code",
   "execution_count": null,
   "metadata": {
    "_uuid": "8476b9f7b059cfbd692ded6a0d6497028c6a3aab"
   },
   "outputs": [],
   "source": [
    "date_price = regions.get_group(PREDICTING_FOR)[['Date', 'AveragePrice']].reset_index(drop=True)"
   ]
  },
  {
   "cell_type": "code",
   "execution_count": null,
   "metadata": {
    "_uuid": "3e323537b584f77f63a1c670121279297176ce5d"
   },
   "outputs": [],
   "source": [
    "date_price.plot(x='Date', y='AveragePrice', kind=\"line\")"
   ]
  },
  {
   "cell_type": "markdown",
   "metadata": {
    "_uuid": "284632cecdcbb1fad9a08da345f73308ba4e1817"
   },
   "source": [
    "Rename dataframe for fbprophet lib."
   ]
  },
  {
   "cell_type": "code",
   "execution_count": null,
   "metadata": {
    "_uuid": "082da035acbbae122fd14041e1eef57a0e165966"
   },
   "outputs": [],
   "source": [
    "date_price = date_price.rename(columns={'Date':'ds', 'AveragePrice':'y'})"
   ]
  },
  {
   "cell_type": "markdown",
   "metadata": {
    "_uuid": "639b4535226bfa6e03ee459ccb171273a9aeb40d"
   },
   "source": [
    "Creating & fitting a model. All of the code here is further explained on prophet[ quick start page](https://facebook.github.io/prophet/docs/quick_start.html)."
   ]
  },
  {
   "cell_type": "code",
   "execution_count": null,
   "metadata": {
    "_uuid": "510a4775ff3dad3dfed2a6ad4847e5a801a684f8"
   },
   "outputs": [],
   "source": [
    "m = Prophet()\n",
    "m.fit(date_price)"
   ]
  },
  {
   "cell_type": "code",
   "execution_count": null,
   "metadata": {
    "_uuid": "876e54331c18c9a464a19527eb83d996290ba0f5"
   },
   "outputs": [],
   "source": [
    "future = m.make_future_dataframe(periods=365)\n",
    "forecast = m.predict(future)"
   ]
  },
  {
   "cell_type": "code",
   "execution_count": null,
   "metadata": {
    "_uuid": "8b37a55d9b4f61a40b13ba841048790e0f3282a9"
   },
   "outputs": [],
   "source": [
    "forecast.tail()"
   ]
  },
  {
   "cell_type": "code",
   "execution_count": null,
   "metadata": {
    "_uuid": "55934fadf2ad4a85910e16c803803983e79b406c"
   },
   "outputs": [],
   "source": [
    "fig1 = m.plot(forecast)"
   ]
  },
  {
   "cell_type": "markdown",
   "metadata": {
    "_uuid": "c1dbe5150ebb7699a5b4651134993c4691fb2fb5"
   },
   "source": [
    "Here we can see how components of the model affect our predictions. "
   ]
  },
  {
   "cell_type": "code",
   "execution_count": null,
   "metadata": {
    "_uuid": "4bb51805e3fcc0cd3ec36ec859ab2b061835c7e7"
   },
   "outputs": [],
   "source": [
    "fig2 = m.plot_components(forecast)"
   ]
  },
  {
   "cell_type": "markdown",
   "metadata": {
    "_uuid": "ae7d2c3236a10472546b5daee1f1ea7638e56f26"
   },
   "source": [
    "Thanks for reading my notebook."
   ]
  }
 ],
 "metadata": {
  "kernelspec": {
   "display_name": "Python 3",
   "language": "python",
   "name": "python3"
  },
  "language_info": {
   "codemirror_mode": {
    "name": "ipython",
    "version": 3
   },
   "file_extension": ".py",
   "mimetype": "text/x-python",
   "name": "python",
   "nbconvert_exporter": "python",
   "pygments_lexer": "ipython3",
   "version": "3.6.3"
  }
 },
 "nbformat": 4,
 "nbformat_minor": 1
}
