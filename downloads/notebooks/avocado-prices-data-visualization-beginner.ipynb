{
 "cells": [
  {
   "cell_type": "markdown",
   "metadata": {
    "_cell_guid": "b1076dfc-b9ad-4769-8c92-a6c4dae69d19",
    "_uuid": "8f2839f25d086af736a60e9eeb907d3b93b6e0e5"
   },
   "source": [
    "![](http://i.imgur.com/y5bvNsy.png)"
   ]
  },
  {
   "cell_type": "markdown",
   "metadata": {
    "_uuid": "872371531011e9b8fe09ddb2f279420cecefc857"
   },
   "source": []
  },
  {
   "cell_type": "markdown",
   "metadata": {
    "_uuid": "d4fbc3251cbda614127a010e0ad29e5388b9241a"
   },
   "source": [
    "- <a href='#1'>1. Introduction</a>  \n",
    "- <a href='#2'>2. Loading libraries and retrieving data</a>\n",
    "- <a href='#3'>3. Understanding the Data</a>\n",
    "- <a href='#4'>4.  Data Visualization</a>\n"
   ]
  },
  {
   "cell_type": "markdown",
   "metadata": {
    "_uuid": "67e9627f952f307407897ca020615788688e3588"
   },
   "source": [
    "# <a id='1'>1. Introduction</a>\n",
    "\n",
    "\n",
    "## Background\n",
    "\n",
    "Avocados are the darling of the produce section. They’re the go-to ingredient for guacamole dips at parties. And they're also turning up in everything from salads and wraps to smoothies and even brownies\n",
    "\n",
    "## Data \n",
    "\n",
    "Starting in 2013, the table  reflects an expanded, multi-outlet retail data set. Multi-outlet reporting includes an aggregation of the following channels: grocery, mass, club, drug, dollar and military. The Average Price (of avocados) in the table reflects a per unit (per avocado) cost, even when multiple units (avocados) are sold in bags. The Product Lookup codes (PLU’s) in the table are only for Hass avocados. Other varieties of avocados (e.g. greenskins) are not included in this table.\n",
    "\n",
    "Some relevant columns in the dataset:\n",
    "\n",
    "* Date - The date of the observation\n",
    "* AveragePrice - the average price of a single avocado\n",
    "* type - conventional or organic\n",
    "* year - the year\n",
    "* Region - the city or region of the observation\n",
    "* Total Volume - Total number of avocados sold\n",
    "* 4046 - Total number of avocados with PLU 4046 sold\n",
    "* 4225 - Total number of avocados with PLU 4225 sold\n",
    "* 4770 - Total number of avocados with PLU 4770 sold\n",
    "\n",
    "## Objective\n",
    "\n",
    "In this notebook, we will try to analyze the dataset to understand how millenials are buying avocados.\n",
    "\n",
    "\n",
    "# <a id='2'>2. Loading libraries and retrieving data</a>"
   ]
  },
  {
   "cell_type": "code",
   "execution_count": null,
   "metadata": {
    "_cell_guid": "79c7e3d0-c299-4dcb-8224-4455121ee9b0",
    "_kg_hide-input": true,
    "_uuid": "d629ff2d2480ee46fbb7e2d37f6b5fab8052498a"
   },
   "outputs": [],
   "source": [
    "import numpy as np\n",
    "import pandas as pd\n",
    "import matplotlib.pyplot as plt\n",
    "import seaborn as sns\n",
    "import datetime as dt\n",
    "\n",
    "import plotly.offline as py\n",
    "import plotly.graph_objs as go\n",
    "from plotly.offline import init_notebook_mode\n",
    "init_notebook_mode(connected=True)\n",
    "from plotly import tools\n",
    "\n",
    "import warnings\n",
    "warnings.filterwarnings(\"ignore\", message=\"numpy.dtype size changed\")"
   ]
  },
  {
   "cell_type": "markdown",
   "metadata": {
    "_uuid": "2f44a4dceb182d707cf5ab05b685659c5c97078e"
   },
   "source": [
    "# <a id='3'>3. Understanding the data</a>"
   ]
  },
  {
   "cell_type": "code",
   "execution_count": null,
   "metadata": {
    "_kg_hide-input": true,
    "_uuid": "b8b65cb3cf12ffc20181b49c9dab5f054de05852"
   },
   "outputs": [],
   "source": [
    "df = pd.read_csv('../input/avocado.csv')\n",
    "df.head(4)"
   ]
  },
  {
   "cell_type": "code",
   "execution_count": null,
   "metadata": {
    "_kg_hide-input": true,
    "_uuid": "aaf897db3c8c02e3a1b3dc8d11bfe23dd4b67b27"
   },
   "outputs": [],
   "source": [
    "df.shape"
   ]
  },
  {
   "cell_type": "code",
   "execution_count": null,
   "metadata": {
    "_kg_hide-input": true,
    "_uuid": "3b51d3ce768eadc7d56f9302f5bd60956a267b29"
   },
   "outputs": [],
   "source": [
    "df.describe()"
   ]
  },
  {
   "cell_type": "code",
   "execution_count": null,
   "metadata": {
    "_kg_hide-input": true,
    "_kg_hide-output": true,
    "_uuid": "fd7505deb81b46128d7b373b073e43e294143e10"
   },
   "outputs": [],
   "source": [
    "df.dtypes"
   ]
  },
  {
   "cell_type": "code",
   "execution_count": null,
   "metadata": {
    "_kg_hide-input": true,
    "_uuid": "5d60f32fe3eef768abf46e3bf92f079db7fadb97"
   },
   "outputs": [],
   "source": [
    "\n",
    "# Split Date into 3 different columns\n",
    "\n",
    "df['Year'], df['Month'],  df['Day'] = df['Date'].str.split('-').str"
   ]
  },
  {
   "cell_type": "markdown",
   "metadata": {
    "_uuid": "a84fcac4cc1e040872d21e8f1cdaa2c1aeec7d62"
   },
   "source": [
    "\n",
    "# <a id='4'>4. Data Visualization</a>\n",
    "\n",
    "\n",
    "\n",
    "\n",
    "\n",
    "**Organic vs Conventional** : The main difference between organic and conventional food products are the chemicals involved during production and processing. The interest in organic food products has been rising steadily over the recent years with new health super fruits emerging. Let's see if this is also the case with our dataset"
   ]
  },
  {
   "cell_type": "code",
   "execution_count": null,
   "metadata": {
    "_kg_hide-input": true,
    "_uuid": "2b96540295c8b1f7f7130629a44452f2816259b9"
   },
   "outputs": [],
   "source": [
    "Type=df.groupby('type')['Total Volume'].agg('sum')\n",
    "\n",
    "values=[Type['conventional'],Type['organic']]\n",
    "labels=['conventional','organic']\n",
    "\n",
    "trace=go.Pie(labels=labels,values=values)\n",
    "py.iplot([trace])"
   ]
  },
  {
   "cell_type": "markdown",
   "metadata": {
    "_uuid": "1943e89b478b362edad556a0ce4cd5deb1ed482c"
   },
   "source": [
    "Just over 2% of our dataset is organic. \n",
    "\n",
    "Now, let's look at the average price distribution"
   ]
  },
  {
   "cell_type": "code",
   "execution_count": null,
   "metadata": {
    "_kg_hide-input": true,
    "_uuid": "e4b9c399f0b82b83de041ff64e46a2e490931780"
   },
   "outputs": [],
   "source": [
    "sns.set(font_scale=1.5) \n",
    "from scipy.stats import norm\n",
    "fig, ax = plt.subplots(figsize=(15, 9))\n",
    "sns.distplot(a=df.AveragePrice, kde=False, fit=norm)"
   ]
  },
  {
   "cell_type": "markdown",
   "metadata": {
    "_uuid": "610ad8a50cfeaac8f2f44401bba908c0c6bad02c"
   },
   "source": [
    "Let's look at average price of conventional vs. organic. "
   ]
  },
  {
   "cell_type": "code",
   "execution_count": null,
   "metadata": {
    "_kg_hide-input": true,
    "_uuid": "83a8a77afc488c6af476d1864d802b1ed596b893"
   },
   "outputs": [],
   "source": [
    "plt.figure(figsize=(18,10))\n",
    "sns.lineplot(x=\"Month\", y=\"AveragePrice\", hue='type', data=df)\n",
    "plt.show()"
   ]
  },
  {
   "cell_type": "code",
   "execution_count": null,
   "metadata": {
    "_kg_hide-input": true,
    "_uuid": "1bd4dd3af1a1e219ce976b5ba6baafcd9e50749c"
   },
   "outputs": [],
   "source": [
    "df['Month'] = df['Month'].replace({'01': 'January', '02': 'February', '03': 'March', '04': 'April', '05': 'May', \n",
    "                                   '06': 'June', '07': 'July', '08': 'August', '09': 'September', '10': 'October', \n",
    "                                   '11': 'November', '12': 'December'})\n",
    "\n",
    "\n",
    "ax = sns.catplot(x=\"Month\", y=\"AveragePrice\", hue=\"type\", \n",
    "            kind=\"box\", data=df, height=8.5, linewidth=2.5, aspect=2.8,palette=\"Set2\");"
   ]
  },
  {
   "cell_type": "code",
   "execution_count": null,
   "metadata": {
    "_kg_hide-input": true,
    "_uuid": "bfbd307a9db1dec07ba8f39ce135c01e279612a3"
   },
   "outputs": [],
   "source": [
    "plt.figure(figsize=(18,10))\n",
    "sns.lineplot(x=\"Month\", y=\"AveragePrice\", hue='year',  data=df)\n",
    "plt.show()"
   ]
  },
  {
   "cell_type": "code",
   "execution_count": null,
   "metadata": {
    "_kg_hide-input": true,
    "_uuid": "922ee0f8a3b6da3bc31ee7d8765a2346ce45c947"
   },
   "outputs": [],
   "source": [
    "Year = df[['Total Volume' ,'AveragePrice']].groupby(df.year).sum()\n",
    "Year.plot(kind='line', fontsize = 14,figsize=(14,8))\n",
    "plt.show()\n"
   ]
  },
  {
   "cell_type": "code",
   "execution_count": null,
   "metadata": {
    "_kg_hide-input": true,
    "_uuid": "991c69cca0cbf8c3521eb581bd758a54cb2844db"
   },
   "outputs": [],
   "source": [
    "Month = df[['Total Volume', 'AveragePrice']].groupby(df.Month).sum()\n",
    "Month.plot(kind='line', fontsize = 14,figsize=(14,8))\n",
    "plt.show()"
   ]
  },
  {
   "cell_type": "code",
   "execution_count": null,
   "metadata": {
    "_kg_hide-input": true,
    "_uuid": "7262b318d9be7522325ec09599db1072d418a7c1"
   },
   "outputs": [],
   "source": [
    "plt.figure(figsize=(14,10))\n",
    "sns.scatterplot(x='Total Volume', y = 'AveragePrice', hue= 'type', data= df)"
   ]
  },
  {
   "cell_type": "code",
   "execution_count": null,
   "metadata": {
    "_kg_hide-input": true,
    "_uuid": "ffdd629e5ec802dc1957943bbccd8a8032d32248"
   },
   "outputs": [],
   "source": [
    "variant = df[['4046', '4225', '4770']].groupby(df.Month).sum()\n",
    "variant.plot(kind='line', fontsize = 14, figsize=(14,8))"
   ]
  },
  {
   "cell_type": "code",
   "execution_count": null,
   "metadata": {
    "_kg_hide-input": true,
    "_uuid": "aa0fd78ded9c0875d37e1ce2134aac979d2b2d2b"
   },
   "outputs": [],
   "source": [
    "Bags = df[['Small Bags', 'Large Bags']].groupby(df.region).sum()\n",
    "Bags.plot(kind='line', fontsize = 14,figsize=(14,8))\n",
    "plt.show()"
   ]
  },
  {
   "cell_type": "code",
   "execution_count": null,
   "metadata": {
    "_kg_hide-input": true,
    "_uuid": "220a27184c5802f804437714fc73fb439c2ab318"
   },
   "outputs": [],
   "source": [
    "sns.pairplot(df.iloc[:,8:11], palette=\"husl\",height=5.5)"
   ]
  },
  {
   "cell_type": "code",
   "execution_count": null,
   "metadata": {
    "_kg_hide-input": true,
    "_uuid": "3155b2aabb3957be15f0016cd761c8ef03d9784c"
   },
   "outputs": [],
   "source": [
    "con=df[df['type']=='conventional'].groupby('year')['Total Volume'].agg('mean')\n",
    "org=df[df['type']=='organic'].groupby('year')['Total Volume'].agg('mean')\n",
    "\n",
    "trace1=go.Bar(x=con.index,y=con,name=\"Conventional\",\n",
    "             marker=dict(\n",
    "        color='rgb(58,200,225)',\n",
    "        line=dict(\n",
    "            color='rgb(8,48,107)',\n",
    "            width=1.5),\n",
    "        ),\n",
    "    opacity=0.7)\n",
    "\n",
    "trace2=go.Bar(x=con.index,y=org,name=\"Organic\",\n",
    "             marker=dict(\n",
    "        color='rgb(158,202,225)',\n",
    "        line=dict(\n",
    "            color='rgb(8,48,107)',\n",
    "            width=1.5),\n",
    "        ),\n",
    "    opacity=0.7)\n",
    "\n",
    "data=[trace1,trace2]\n",
    "\n",
    "layout=go.Layout(barmode=\"stack\",title=\"Organic vs. Conventional (Mean Volume)\",\n",
    "                yaxis=dict(title=\"Volume\"))\n",
    "fig=go.Figure(data=data,layout=layout)\n",
    "py.iplot(fig)"
   ]
  },
  {
   "cell_type": "code",
   "execution_count": null,
   "metadata": {
    "_kg_hide-input": true,
    "_kg_hide-output": true,
    "_uuid": "665dec5e3e7ea62c7bac72ae7b5846c5e702533d"
   },
   "outputs": [],
   "source": [
    "df.groupby(['region','year'],as_index=False)['Total Volume'].agg('mean')"
   ]
  },
  {
   "cell_type": "code",
   "execution_count": null,
   "metadata": {
    "_kg_hide-input": true,
    "_uuid": "87934edef1fc3db1b957087647aa62354b85a30b"
   },
   "outputs": [],
   "source": [
    "region_list=list(df.region.unique())\n",
    "average_price=[]\n",
    "\n",
    "for i in region_list:\n",
    "    x=df[df.region==i]\n",
    "    region_average=sum(x.AveragePrice)/len(x)\n",
    "    average_price.append(region_average)\n",
    "\n",
    "df1=pd.DataFrame({'region_list':region_list,'average_price':average_price})\n",
    "new_index=df1.average_price.sort_values(ascending=False).index.values\n",
    "sorted_data=df1.reindex(new_index)\n",
    "\n",
    "plt.figure(figsize=(24,10))\n",
    "ax=sns.barplot(x=sorted_data.region_list,y=sorted_data.average_price)\n",
    "\n",
    "plt.xticks(rotation=90)\n",
    "plt.xlabel('Region')\n",
    "plt.ylabel('Average Price')\n",
    "plt.title('Average Price of Avocado According to Region')"
   ]
  },
  {
   "cell_type": "code",
   "execution_count": null,
   "metadata": {
    "_kg_hide-input": true,
    "_uuid": "8471da5588345631f93184dd71df1fd10afc261d"
   },
   "outputs": [],
   "source": [
    "filter1=df.region!='TotalUS'\n",
    "df1=df[filter1]\n",
    "\n",
    "region_list=list(df1.region.unique())\n",
    "average_total_volume=[]\n",
    "\n",
    "for i in region_list:\n",
    "    x=df1[df1.region==i]\n",
    "    average_total_volume.append(sum(x['Total Volume'])/len(x))\n",
    "df3=pd.DataFrame({'region_list':region_list,'average_total_volume':average_total_volume})\n",
    "\n",
    "new_index=df3.average_total_volume.sort_values(ascending=False).index.values\n",
    "sorted_data1=df3.reindex(new_index)\n",
    "\n",
    "plt.figure(figsize=(22,10))\n",
    "ax=sns.barplot(x=sorted_data1.region_list,y=sorted_data1.average_total_volume)\n",
    "\n",
    "plt.xticks(rotation=90)\n",
    "plt.xlabel('Region')\n",
    "plt.ylabel('Average of Total Volume')\n",
    "plt.title('Average of Total Volume According to Region')"
   ]
  },
  {
   "cell_type": "code",
   "execution_count": null,
   "metadata": {
    "_kg_hide-input": true,
    "_uuid": "f7c1bc58b8fd7238d1d845fc0190fae8c617f62c"
   },
   "outputs": [],
   "source": [
    "g = sns.factorplot('AveragePrice','region',data=df,\n",
    "                   hue='year',\n",
    "                   size=18,\n",
    "                   aspect=0.7,\n",
    "                   palette='Blues',\n",
    "                   join=False,\n",
    "              )"
   ]
  },
  {
   "cell_type": "markdown",
   "metadata": {
    "_uuid": "9888acb5f21f3228862596fac020eebe1bf31922"
   },
   "source": [
    "Next steps:\n",
    "\n",
    "*  More visualization\n",
    "*  Creating a model to predict the price"
   ]
  },
  {
   "cell_type": "code",
   "execution_count": null,
   "metadata": {
    "_uuid": "de66c854f0d937c67efda6c7a021b103575a6b0b"
   },
   "outputs": [],
   "source": []
  },
  {
   "cell_type": "code",
   "execution_count": null,
   "metadata": {
    "_uuid": "61d5e6d69f3bf3739cd495510dc7040ca73320ab"
   },
   "outputs": [],
   "source": []
  }
 ],
 "metadata": {
  "kernelspec": {
   "display_name": "Python 3",
   "language": "python",
   "name": "python3"
  },
  "language_info": {
   "codemirror_mode": {
    "name": "ipython",
    "version": 3
   },
   "file_extension": ".py",
   "mimetype": "text/x-python",
   "name": "python",
   "nbconvert_exporter": "python",
   "pygments_lexer": "ipython3",
   "version": "3.6.3"
  }
 },
 "nbformat": 4,
 "nbformat_minor": 1
}
