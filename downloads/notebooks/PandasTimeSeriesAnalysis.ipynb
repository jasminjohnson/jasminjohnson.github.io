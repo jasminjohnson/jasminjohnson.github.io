{
 "cells": [
  {
   "cell_type": "code",
   "execution_count": 1,
   "metadata": {},
   "outputs": [
    {
     "data": {
      "text/html": [
       "<style>.container { width:100% !important; }</style>"
      ],
      "text/plain": [
       "<IPython.core.display.HTML object>"
      ]
     },
     "metadata": {},
     "output_type": "display_data"
    }
   ],
   "source": [
    "from IPython.core.interactiveshell import InteractiveShell\n",
    "from IPython.core.display import display, HTML\n",
    "display(HTML(\"<style>.container { width:100% !important; }</style>\"))\n",
    "%matplotlib inline \n",
    "import matplotlib.pyplot as plt\n",
    "import pandas as pd\n"
   ]
  },
  {
   "cell_type": "markdown",
   "metadata": {},
   "source": [
    "# Data Time Series for stock or financial statment analysis"
   ]
  },
  {
   "cell_type": "markdown",
   "metadata": {},
   "source": [
    "<!-- PELICAN_BEGIN_SUMMARY -->\n",
    "Time Series can be useful to analyze financial data in different frequencies based on data distribution.<br>We can reload/repeat the data analysis process in Python and export the result to Excel or CSV on daily, weekly, monthly, quarterly or yearly basis.\n",
    "\n",
    "<!-- PELICAN_END_SUMMARY -->\n",
    "**Goals: Generate Mock Data**"
   ]
  },
  {
   "cell_type": "markdown",
   "metadata": {},
   "source": [
    "** Overview Data Time Series Basics**\n",
    "    - Example is Amazon stock daily closing prices from 1997 - 2021 in CSV format\n",
    "    - View date type: convert string to time sereies\n",
    "    - Set date as index : retrieve range of data \n",
    "    - Resample function : for plotting\n",
    "    - Assign date to the stock price without date column : with date frequency options\n",
    "** Mock Data**\n",
    "    - Generate date range \n",
    "    - Use Numpy to geneerate random number\n",
    "    - Set index to match date and number     "
   ]
  },
  {
   "cell_type": "code",
   "execution_count": 2,
   "metadata": {},
   "outputs": [
    {
     "data": {
      "text/html": [
       "<div>\n",
       "<style scoped>\n",
       "    .dataframe tbody tr th:only-of-type {\n",
       "        vertical-align: middle;\n",
       "    }\n",
       "\n",
       "    .dataframe tbody tr th {\n",
       "        vertical-align: top;\n",
       "    }\n",
       "\n",
       "    .dataframe thead th {\n",
       "        text-align: right;\n",
       "    }\n",
       "</style>\n",
       "<table border=\"1\" class=\"dataframe\">\n",
       "  <thead>\n",
       "    <tr style=\"text-align: right;\">\n",
       "      <th></th>\n",
       "      <th>Date</th>\n",
       "      <th>Open</th>\n",
       "      <th>High</th>\n",
       "      <th>Low</th>\n",
       "      <th>Close</th>\n",
       "      <th>Adj Close</th>\n",
       "      <th>Volume</th>\n",
       "    </tr>\n",
       "  </thead>\n",
       "  <tbody>\n",
       "    <tr>\n",
       "      <th>6145</th>\n",
       "      <td>10/15/2021</td>\n",
       "      <td>3311.419922</td>\n",
       "      <td>3410.419922</td>\n",
       "      <td>3304.000000</td>\n",
       "      <td>3409.020020</td>\n",
       "      <td>3409.020020</td>\n",
       "      <td>5175100</td>\n",
       "    </tr>\n",
       "    <tr>\n",
       "      <th>6146</th>\n",
       "      <td>10/18/2021</td>\n",
       "      <td>3388.360107</td>\n",
       "      <td>3449.169922</td>\n",
       "      <td>3385.100098</td>\n",
       "      <td>3446.739990</td>\n",
       "      <td>3446.739990</td>\n",
       "      <td>3174100</td>\n",
       "    </tr>\n",
       "    <tr>\n",
       "      <th>6147</th>\n",
       "      <td>10/19/2021</td>\n",
       "      <td>3434.290039</td>\n",
       "      <td>3454.689941</td>\n",
       "      <td>3422.000000</td>\n",
       "      <td>3444.149902</td>\n",
       "      <td>3444.149902</td>\n",
       "      <td>2386100</td>\n",
       "    </tr>\n",
       "    <tr>\n",
       "      <th>6148</th>\n",
       "      <td>10/20/2021</td>\n",
       "      <td>3452.659912</td>\n",
       "      <td>3462.860107</td>\n",
       "      <td>3400.370117</td>\n",
       "      <td>3415.060059</td>\n",
       "      <td>3415.060059</td>\n",
       "      <td>2139800</td>\n",
       "    </tr>\n",
       "    <tr>\n",
       "      <th>6149</th>\n",
       "      <td>10/21/2021</td>\n",
       "      <td>3414.250000</td>\n",
       "      <td>3440.280029</td>\n",
       "      <td>3403.000000</td>\n",
       "      <td>3435.010010</td>\n",
       "      <td>3435.010010</td>\n",
       "      <td>1881400</td>\n",
       "    </tr>\n",
       "  </tbody>\n",
       "</table>\n",
       "</div>"
      ],
      "text/plain": [
       "            Date         Open         High          Low        Close  \\\n",
       "6145  10/15/2021  3311.419922  3410.419922  3304.000000  3409.020020   \n",
       "6146  10/18/2021  3388.360107  3449.169922  3385.100098  3446.739990   \n",
       "6147  10/19/2021  3434.290039  3454.689941  3422.000000  3444.149902   \n",
       "6148  10/20/2021  3452.659912  3462.860107  3400.370117  3415.060059   \n",
       "6149  10/21/2021  3414.250000  3440.280029  3403.000000  3435.010010   \n",
       "\n",
       "        Adj Close   Volume  \n",
       "6145  3409.020020  5175100  \n",
       "6146  3446.739990  3174100  \n",
       "6147  3444.149902  2386100  \n",
       "6148  3415.060059  2139800  \n",
       "6149  3435.010010  1881400  "
      ]
     },
     "execution_count": 2,
     "metadata": {},
     "output_type": "execute_result"
    }
   ],
   "source": [
    "## Read the file from CSV format\n",
    "df = pd.read_csv('data/Amazon.csv')\n",
    "df.tail()"
   ]
  },
  {
   "cell_type": "markdown",
   "metadata": {},
   "source": [
    "<br>\n",
    "**Find out Date type**<br>- The Date type here is a string, not time series type"
   ]
  },
  {
   "cell_type": "code",
   "execution_count": 3,
   "metadata": {},
   "outputs": [
    {
     "data": {
      "text/plain": [
       "str"
      ]
     },
     "execution_count": 3,
     "metadata": {},
     "output_type": "execute_result"
    }
   ],
   "source": [
    "type(df.Date[0])"
   ]
  },
  {
   "cell_type": "markdown",
   "metadata": {},
   "source": [
    "<br>\n",
    "**Convert string into time series type**<br>- By adding Parse to read the CSV file"
   ]
  },
  {
   "cell_type": "code",
   "execution_count": 4,
   "metadata": {},
   "outputs": [
    {
     "data": {
      "text/html": [
       "<div>\n",
       "<style scoped>\n",
       "    .dataframe tbody tr th:only-of-type {\n",
       "        vertical-align: middle;\n",
       "    }\n",
       "\n",
       "    .dataframe tbody tr th {\n",
       "        vertical-align: top;\n",
       "    }\n",
       "\n",
       "    .dataframe thead th {\n",
       "        text-align: right;\n",
       "    }\n",
       "</style>\n",
       "<table border=\"1\" class=\"dataframe\">\n",
       "  <thead>\n",
       "    <tr style=\"text-align: right;\">\n",
       "      <th></th>\n",
       "      <th>Date</th>\n",
       "      <th>Open</th>\n",
       "      <th>High</th>\n",
       "      <th>Low</th>\n",
       "      <th>Close</th>\n",
       "      <th>Adj Close</th>\n",
       "      <th>Volume</th>\n",
       "    </tr>\n",
       "  </thead>\n",
       "  <tbody>\n",
       "    <tr>\n",
       "      <th>6145</th>\n",
       "      <td>2021-10-15</td>\n",
       "      <td>3311.419922</td>\n",
       "      <td>3410.419922</td>\n",
       "      <td>3304.000000</td>\n",
       "      <td>3409.020020</td>\n",
       "      <td>3409.020020</td>\n",
       "      <td>5175100</td>\n",
       "    </tr>\n",
       "    <tr>\n",
       "      <th>6146</th>\n",
       "      <td>2021-10-18</td>\n",
       "      <td>3388.360107</td>\n",
       "      <td>3449.169922</td>\n",
       "      <td>3385.100098</td>\n",
       "      <td>3446.739990</td>\n",
       "      <td>3446.739990</td>\n",
       "      <td>3174100</td>\n",
       "    </tr>\n",
       "    <tr>\n",
       "      <th>6147</th>\n",
       "      <td>2021-10-19</td>\n",
       "      <td>3434.290039</td>\n",
       "      <td>3454.689941</td>\n",
       "      <td>3422.000000</td>\n",
       "      <td>3444.149902</td>\n",
       "      <td>3444.149902</td>\n",
       "      <td>2386100</td>\n",
       "    </tr>\n",
       "    <tr>\n",
       "      <th>6148</th>\n",
       "      <td>2021-10-20</td>\n",
       "      <td>3452.659912</td>\n",
       "      <td>3462.860107</td>\n",
       "      <td>3400.370117</td>\n",
       "      <td>3415.060059</td>\n",
       "      <td>3415.060059</td>\n",
       "      <td>2139800</td>\n",
       "    </tr>\n",
       "    <tr>\n",
       "      <th>6149</th>\n",
       "      <td>2021-10-21</td>\n",
       "      <td>3414.250000</td>\n",
       "      <td>3440.280029</td>\n",
       "      <td>3403.000000</td>\n",
       "      <td>3435.010010</td>\n",
       "      <td>3435.010010</td>\n",
       "      <td>1881400</td>\n",
       "    </tr>\n",
       "  </tbody>\n",
       "</table>\n",
       "</div>"
      ],
      "text/plain": [
       "           Date         Open         High          Low        Close  \\\n",
       "6145 2021-10-15  3311.419922  3410.419922  3304.000000  3409.020020   \n",
       "6146 2021-10-18  3388.360107  3449.169922  3385.100098  3446.739990   \n",
       "6147 2021-10-19  3434.290039  3454.689941  3422.000000  3444.149902   \n",
       "6148 2021-10-20  3452.659912  3462.860107  3400.370117  3415.060059   \n",
       "6149 2021-10-21  3414.250000  3440.280029  3403.000000  3435.010010   \n",
       "\n",
       "        Adj Close   Volume  \n",
       "6145  3409.020020  5175100  \n",
       "6146  3446.739990  3174100  \n",
       "6147  3444.149902  2386100  \n",
       "6148  3415.060059  2139800  \n",
       "6149  3435.010010  1881400  "
      ]
     },
     "execution_count": 4,
     "metadata": {},
     "output_type": "execute_result"
    }
   ],
   "source": [
    "df = pd.read_csv('data/Amazon.csv', parse_dates=[\"Date\"])\n",
    "df.tail()"
   ]
  },
  {
   "cell_type": "code",
   "execution_count": 5,
   "metadata": {},
   "outputs": [
    {
     "data": {
      "text/plain": [
       "pandas._libs.tslib.Timestamp"
      ]
     },
     "execution_count": 5,
     "metadata": {},
     "output_type": "execute_result"
    }
   ],
   "source": [
    "## Find out Date type again: the Date type is Timestamp which is one of the time series\n",
    "type(df.Date[0])"
   ]
  },
  {
   "cell_type": "markdown",
   "metadata": {},
   "source": [
    "<br>\n",
    "**Set index to Date by adding Index column (index_col) to Date**<br>-The benefit of setting index is we can retrieve specific date ranges of Amazon stock prices"
   ]
  },
  {
   "cell_type": "code",
   "execution_count": 6,
   "metadata": {},
   "outputs": [
    {
     "data": {
      "text/plain": [
       "DatetimeIndex(['1997-05-16', '1997-05-19', '1997-05-20', '1997-05-21',\n",
       "               '1997-05-22', '1997-05-23', '1997-05-27', '1997-05-28',\n",
       "               '1997-05-29', '1997-05-30',\n",
       "               ...\n",
       "               '2021-10-08', '2021-10-11', '2021-10-12', '2021-10-13',\n",
       "               '2021-10-14', '2021-10-15', '2021-10-18', '2021-10-19',\n",
       "               '2021-10-20', '2021-10-21'],\n",
       "              dtype='datetime64[ns]', name='Date', length=6150, freq=None)"
      ]
     },
     "execution_count": 6,
     "metadata": {},
     "output_type": "execute_result"
    }
   ],
   "source": [
    "df = pd.read_csv('data/Amazon.csv', parse_dates=[\"Date\"],index_col=\"Date\")\n",
    "df.index"
   ]
  },
  {
   "cell_type": "code",
   "execution_count": 7,
   "metadata": {},
   "outputs": [
    {
     "data": {
      "text/html": [
       "<div>\n",
       "<style scoped>\n",
       "    .dataframe tbody tr th:only-of-type {\n",
       "        vertical-align: middle;\n",
       "    }\n",
       "\n",
       "    .dataframe tbody tr th {\n",
       "        vertical-align: top;\n",
       "    }\n",
       "\n",
       "    .dataframe thead th {\n",
       "        text-align: right;\n",
       "    }\n",
       "</style>\n",
       "<table border=\"1\" class=\"dataframe\">\n",
       "  <thead>\n",
       "    <tr style=\"text-align: right;\">\n",
       "      <th></th>\n",
       "      <th>Open</th>\n",
       "      <th>High</th>\n",
       "      <th>Low</th>\n",
       "      <th>Close</th>\n",
       "      <th>Adj Close</th>\n",
       "      <th>Volume</th>\n",
       "    </tr>\n",
       "    <tr>\n",
       "      <th>Date</th>\n",
       "      <th></th>\n",
       "      <th></th>\n",
       "      <th></th>\n",
       "      <th></th>\n",
       "      <th></th>\n",
       "      <th></th>\n",
       "    </tr>\n",
       "  </thead>\n",
       "  <tbody>\n",
       "    <tr>\n",
       "      <th>2021-09-01</th>\n",
       "      <td>3496.399902</td>\n",
       "      <td>3527.000000</td>\n",
       "      <td>3475.239990</td>\n",
       "      <td>3479.000000</td>\n",
       "      <td>3479.000000</td>\n",
       "      <td>3629900</td>\n",
       "    </tr>\n",
       "    <tr>\n",
       "      <th>2021-09-02</th>\n",
       "      <td>3494.760010</td>\n",
       "      <td>3511.959961</td>\n",
       "      <td>3455.000000</td>\n",
       "      <td>3463.120117</td>\n",
       "      <td>3463.120117</td>\n",
       "      <td>2923700</td>\n",
       "    </tr>\n",
       "    <tr>\n",
       "      <th>2021-09-03</th>\n",
       "      <td>3452.000000</td>\n",
       "      <td>3482.669922</td>\n",
       "      <td>3436.439941</td>\n",
       "      <td>3478.050049</td>\n",
       "      <td>3478.050049</td>\n",
       "      <td>2575700</td>\n",
       "    </tr>\n",
       "    <tr>\n",
       "      <th>2021-09-07</th>\n",
       "      <td>3478.000000</td>\n",
       "      <td>3528.090088</td>\n",
       "      <td>3476.939941</td>\n",
       "      <td>3509.290039</td>\n",
       "      <td>3509.290039</td>\n",
       "      <td>2737900</td>\n",
       "    </tr>\n",
       "    <tr>\n",
       "      <th>2021-09-08</th>\n",
       "      <td>3511.649902</td>\n",
       "      <td>3545.629883</td>\n",
       "      <td>3495.669922</td>\n",
       "      <td>3525.500000</td>\n",
       "      <td>3525.500000</td>\n",
       "      <td>3053400</td>\n",
       "    </tr>\n",
       "  </tbody>\n",
       "</table>\n",
       "</div>"
      ],
      "text/plain": [
       "                   Open         High          Low        Close    Adj Close  \\\n",
       "Date                                                                          \n",
       "2021-09-01  3496.399902  3527.000000  3475.239990  3479.000000  3479.000000   \n",
       "2021-09-02  3494.760010  3511.959961  3455.000000  3463.120117  3463.120117   \n",
       "2021-09-03  3452.000000  3482.669922  3436.439941  3478.050049  3478.050049   \n",
       "2021-09-07  3478.000000  3528.090088  3476.939941  3509.290039  3509.290039   \n",
       "2021-09-08  3511.649902  3545.629883  3495.669922  3525.500000  3525.500000   \n",
       "\n",
       "             Volume  \n",
       "Date                 \n",
       "2021-09-01  3629900  \n",
       "2021-09-02  2923700  \n",
       "2021-09-03  2575700  \n",
       "2021-09-07  2737900  \n",
       "2021-09-08  3053400  "
      ]
     },
     "execution_count": 7,
     "metadata": {},
     "output_type": "execute_result"
    }
   ],
   "source": [
    "## Retrieve September 2021 stock price\n",
    "df[\"2021-09\"].head()"
   ]
  },
  {
   "cell_type": "markdown",
   "metadata": {},
   "source": [
    "<br>\n",
    "**Time Series enable us to do more financial analysis by few coding steps**\n",
    "    - Get the average closing price of Amazon stock in March 2018\n",
    "    - Retrieve the specific date price\n",
    "    - Weekly, Monthly or Yearly average of the stock price\n",
    "    - Plot the stock price"
   ]
  },
  {
   "cell_type": "code",
   "execution_count": 8,
   "metadata": {},
   "outputs": [
    {
     "data": {
      "text/plain": [
       "3427.1828613333337"
      ]
     },
     "execution_count": 8,
     "metadata": {},
     "output_type": "execute_result"
    }
   ],
   "source": [
    "## Get the average closing price in March 2018\n",
    "df[\"2021-09\"].Close.mean()"
   ]
  },
  {
   "cell_type": "code",
   "execution_count": 9,
   "metadata": {},
   "outputs": [
    {
     "data": {
      "text/html": [
       "<div>\n",
       "<style scoped>\n",
       "    .dataframe tbody tr th:only-of-type {\n",
       "        vertical-align: middle;\n",
       "    }\n",
       "\n",
       "    .dataframe tbody tr th {\n",
       "        vertical-align: top;\n",
       "    }\n",
       "\n",
       "    .dataframe thead th {\n",
       "        text-align: right;\n",
       "    }\n",
       "</style>\n",
       "<table border=\"1\" class=\"dataframe\">\n",
       "  <thead>\n",
       "    <tr style=\"text-align: right;\">\n",
       "      <th></th>\n",
       "      <th>Open</th>\n",
       "      <th>High</th>\n",
       "      <th>Low</th>\n",
       "      <th>Close</th>\n",
       "      <th>Adj Close</th>\n",
       "      <th>Volume</th>\n",
       "    </tr>\n",
       "    <tr>\n",
       "      <th>Date</th>\n",
       "      <th></th>\n",
       "      <th></th>\n",
       "      <th></th>\n",
       "      <th></th>\n",
       "      <th></th>\n",
       "      <th></th>\n",
       "    </tr>\n",
       "  </thead>\n",
       "  <tbody>\n",
       "    <tr>\n",
       "      <th>2021-09-15</th>\n",
       "      <td>3442.52002</td>\n",
       "      <td>3485.419922</td>\n",
       "      <td>3402.01001</td>\n",
       "      <td>3475.790039</td>\n",
       "      <td>3475.790039</td>\n",
       "      <td>2957500</td>\n",
       "    </tr>\n",
       "  </tbody>\n",
       "</table>\n",
       "</div>"
      ],
      "text/plain": [
       "                  Open         High         Low        Close    Adj Close  \\\n",
       "Date                                                                        \n",
       "2021-09-15  3442.52002  3485.419922  3402.01001  3475.790039  3475.790039   \n",
       "\n",
       "             Volume  \n",
       "Date                 \n",
       "2021-09-15  2957500  "
      ]
     },
     "execution_count": 9,
     "metadata": {},
     "output_type": "execute_result"
    }
   ],
   "source": [
    "## Retrieving one specific day - can use loc slice function, but it's not necessary \n",
    "df.loc[\"2021-09-15\":\"2021-09-15\"]"
   ]
  },
  {
   "cell_type": "code",
   "execution_count": 10,
   "metadata": {},
   "outputs": [
    {
     "data": {
      "text/html": [
       "<div>\n",
       "<style scoped>\n",
       "    .dataframe tbody tr th:only-of-type {\n",
       "        vertical-align: middle;\n",
       "    }\n",
       "\n",
       "    .dataframe tbody tr th {\n",
       "        vertical-align: top;\n",
       "    }\n",
       "\n",
       "    .dataframe thead th {\n",
       "        text-align: right;\n",
       "    }\n",
       "</style>\n",
       "<table border=\"1\" class=\"dataframe\">\n",
       "  <thead>\n",
       "    <tr style=\"text-align: right;\">\n",
       "      <th></th>\n",
       "      <th>Open</th>\n",
       "      <th>High</th>\n",
       "      <th>Low</th>\n",
       "      <th>Close</th>\n",
       "      <th>Adj Close</th>\n",
       "      <th>Volume</th>\n",
       "    </tr>\n",
       "    <tr>\n",
       "      <th>Date</th>\n",
       "      <th></th>\n",
       "      <th></th>\n",
       "      <th></th>\n",
       "      <th></th>\n",
       "      <th></th>\n",
       "      <th></th>\n",
       "    </tr>\n",
       "  </thead>\n",
       "  <tbody>\n",
       "    <tr>\n",
       "      <th>2021-09-10</th>\n",
       "      <td>3501.830078</td>\n",
       "      <td>3508.449951</td>\n",
       "      <td>3462.909912</td>\n",
       "      <td>3469.149902</td>\n",
       "      <td>3469.149902</td>\n",
       "      <td>2393300</td>\n",
       "    </tr>\n",
       "    <tr>\n",
       "      <th>2021-09-13</th>\n",
       "      <td>3482.800049</td>\n",
       "      <td>3497.959961</td>\n",
       "      <td>3438.000000</td>\n",
       "      <td>3457.169922</td>\n",
       "      <td>3457.169922</td>\n",
       "      <td>2569000</td>\n",
       "    </tr>\n",
       "    <tr>\n",
       "      <th>2021-09-14</th>\n",
       "      <td>3475.550049</td>\n",
       "      <td>3486.810059</td>\n",
       "      <td>3437.709961</td>\n",
       "      <td>3450.000000</td>\n",
       "      <td>3450.000000</td>\n",
       "      <td>1936900</td>\n",
       "    </tr>\n",
       "  </tbody>\n",
       "</table>\n",
       "</div>"
      ],
      "text/plain": [
       "                   Open         High          Low        Close    Adj Close  \\\n",
       "Date                                                                          \n",
       "2021-09-10  3501.830078  3508.449951  3462.909912  3469.149902  3469.149902   \n",
       "2021-09-13  3482.800049  3497.959961  3438.000000  3457.169922  3457.169922   \n",
       "2021-09-14  3475.550049  3486.810059  3437.709961  3450.000000  3450.000000   \n",
       "\n",
       "             Volume  \n",
       "Date                 \n",
       "2021-09-10  2393300  \n",
       "2021-09-13  2569000  \n",
       "2021-09-14  1936900  "
      ]
     },
     "execution_count": 10,
     "metadata": {},
     "output_type": "execute_result"
    }
   ],
   "source": [
    "## Retrieving with a date range\n",
    "df[\"2021-09-10\":\"2021-09-14\"] "
   ]
  },
  {
   "cell_type": "code",
   "execution_count": 11,
   "metadata": {},
   "outputs": [
    {
     "data": {
      "text/plain": [
       "Date\n",
       "1997-12-31     3.133746\n",
       "1998-12-31    15.661112\n",
       "1999-12-31    69.062314\n",
       "2000-12-31    46.533668\n",
       "2001-12-31    12.200426\n",
       "Freq: A-DEC, Name: Close, dtype: float64"
      ]
     },
     "execution_count": 11,
     "metadata": {},
     "output_type": "execute_result"
    }
   ],
   "source": [
    "## Yearly average of the stock price\n",
    "df.Close.resample('Y').mean().head()"
   ]
  },
  {
   "cell_type": "markdown",
   "metadata": {},
   "source": [
    "<br>\n",
    "**Resample data function**\n",
    "    - Shift+tab to view all the possibilities of the Resample data function\n",
    "    - Without Resample, the chart is more grannuily"
   ]
  },
  {
   "cell_type": "code",
   "execution_count": 12,
   "metadata": {},
   "outputs": [
    {
     "data": {
      "text/plain": [
       "<matplotlib.axes._subplots.AxesSubplot at 0x27d4c9bebe0>"
      ]
     },
     "execution_count": 12,
     "metadata": {},
     "output_type": "execute_result"
    },
    {
     "data": {
      "image/png": "[encoded data removed]",
      "text/plain": [
       "<matplotlib.figure.Figure at 0x27d4c97cc18>"
      ]
     },
     "metadata": {},
     "output_type": "display_data"
    }
   ],
   "source": [
    "## Plot with resample - average monthly price \n",
    "df.Close.resample('M').mean().plot()"
   ]
  },
  {
   "cell_type": "code",
   "execution_count": 13,
   "metadata": {},
   "outputs": [
    {
     "data": {
      "text/plain": [
       "<matplotlib.axes._subplots.AxesSubplot at 0x27d4cb20400>"
      ]
     },
     "execution_count": 13,
     "metadata": {},
     "output_type": "execute_result"
    },
    {
     "data": {
      "image/png": "[encoded data removed]",
      "text/plain": [
       "<matplotlib.figure.Figure at 0x27d4cc0c438>"
      ]
     },
     "metadata": {},
     "output_type": "display_data"
    }
   ],
   "source": [
    "## Plot without Resample\n",
    "df.Close.plot()"
   ]
  },
  {
   "cell_type": "markdown",
   "metadata": {},
   "source": [
    "<br>\n",
    "**Assigning date to a dataset with missing date**\n",
    "    - The following example is the August 2021 Amazon stock prices but without any date\n",
    "    - Read the stock closing price csv file with the missing date column\n",
    "    - Assign the date to match the stock price"
   ]
  },
  {
   "cell_type": "code",
   "execution_count": 14,
   "metadata": {
    "scrolled": true
   },
   "outputs": [
    {
     "data": {
      "text/html": [
       "<div>\n",
       "<style scoped>\n",
       "    .dataframe tbody tr th:only-of-type {\n",
       "        vertical-align: middle;\n",
       "    }\n",
       "\n",
       "    .dataframe tbody tr th {\n",
       "        vertical-align: top;\n",
       "    }\n",
       "\n",
       "    .dataframe thead th {\n",
       "        text-align: right;\n",
       "    }\n",
       "</style>\n",
       "<table border=\"1\" class=\"dataframe\">\n",
       "  <thead>\n",
       "    <tr style=\"text-align: right;\">\n",
       "      <th></th>\n",
       "      <th>Open</th>\n",
       "      <th>High</th>\n",
       "      <th>Low</th>\n",
       "      <th>Close</th>\n",
       "      <th>Adj Close</th>\n",
       "      <th>Volume</th>\n",
       "    </tr>\n",
       "  </thead>\n",
       "  <tbody>\n",
       "    <tr>\n",
       "      <th>17</th>\n",
       "      <td>3309.870117</td>\n",
       "      <td>3321.000000</td>\n",
       "      <td>3286.149902</td>\n",
       "      <td>3299.179932</td>\n",
       "      <td>3299.179932</td>\n",
       "      <td>1680300</td>\n",
       "    </tr>\n",
       "    <tr>\n",
       "      <th>18</th>\n",
       "      <td>3299.000000</td>\n",
       "      <td>3332.000000</td>\n",
       "      <td>3296.000000</td>\n",
       "      <td>3316.000000</td>\n",
       "      <td>3316.000000</td>\n",
       "      <td>2098800</td>\n",
       "    </tr>\n",
       "    <tr>\n",
       "      <th>19</th>\n",
       "      <td>3333.229980</td>\n",
       "      <td>3352.320068</td>\n",
       "      <td>3313.750000</td>\n",
       "      <td>3349.629883</td>\n",
       "      <td>3349.629883</td>\n",
       "      <td>2391300</td>\n",
       "    </tr>\n",
       "    <tr>\n",
       "      <th>20</th>\n",
       "      <td>3357.429932</td>\n",
       "      <td>3445.000000</td>\n",
       "      <td>3355.219971</td>\n",
       "      <td>3421.570068</td>\n",
       "      <td>3421.570068</td>\n",
       "      <td>3192200</td>\n",
       "    </tr>\n",
       "    <tr>\n",
       "      <th>21</th>\n",
       "      <td>3424.800049</td>\n",
       "      <td>3472.580078</td>\n",
       "      <td>3395.590088</td>\n",
       "      <td>3470.790039</td>\n",
       "      <td>3470.790039</td>\n",
       "      <td>4356400</td>\n",
       "    </tr>\n",
       "  </tbody>\n",
       "</table>\n",
       "</div>"
      ],
      "text/plain": [
       "           Open         High          Low        Close    Adj Close   Volume\n",
       "17  3309.870117  3321.000000  3286.149902  3299.179932  3299.179932  1680300\n",
       "18  3299.000000  3332.000000  3296.000000  3316.000000  3316.000000  2098800\n",
       "19  3333.229980  3352.320068  3313.750000  3349.629883  3349.629883  2391300\n",
       "20  3357.429932  3445.000000  3355.219971  3421.570068  3421.570068  3192200\n",
       "21  3424.800049  3472.580078  3395.590088  3470.790039  3470.790039  4356400"
      ]
     },
     "execution_count": 14,
     "metadata": {},
     "output_type": "execute_result"
    }
   ],
   "source": [
    "## Read August 2021 Amazon stock price csv file without date column\n",
    "df1 = pd.read_csv('data\\Amazon_No_Date.csv')\n",
    "df1.tail()"
   ]
  },
  {
   "cell_type": "markdown",
   "metadata": {},
   "source": [
    "<br>\n",
    "**Assign the date to match the data**\n",
    "    - Use \"rng\" function to assign date to matach stock price\n",
    "    - Apply \"B\" (Business Day) as the frequency\n",
    "    - Shift+ tab twice on \"B\" to follow the link for more day function\n",
    "    - The Business day function does not consider holidays"
   ]
  },
  {
   "cell_type": "code",
   "execution_count": 15,
   "metadata": {},
   "outputs": [
    {
     "data": {
      "text/plain": [
       "DatetimeIndex(['2021-08-02', '2021-08-03', '2021-08-04', '2021-08-05',\n",
       "               '2021-08-06', '2021-08-09', '2021-08-10', '2021-08-11',\n",
       "               '2021-08-12', '2021-08-13', '2021-08-16', '2021-08-17',\n",
       "               '2021-08-18', '2021-08-19', '2021-08-20', '2021-08-23',\n",
       "               '2021-08-24', '2021-08-25', '2021-08-26', '2021-08-27',\n",
       "               '2021-08-30', '2021-08-31'],\n",
       "              dtype='datetime64[ns]', freq='B')"
      ]
     },
     "execution_count": 15,
     "metadata": {},
     "output_type": "execute_result"
    }
   ],
   "source": [
    "rng = pd.date_range(start=\"8/1/2021\", end = \"8/31/2021\", freq='B')\n",
    "rng"
   ]
  },
  {
   "cell_type": "markdown",
   "metadata": {},
   "source": [
    "<br>\n",
    "**Set the date column as the index**<br> - You must specify \"True\" to modify the original dataframe"
   ]
  },
  {
   "cell_type": "code",
   "execution_count": 16,
   "metadata": {},
   "outputs": [
    {
     "data": {
      "text/html": [
       "<div>\n",
       "<style scoped>\n",
       "    .dataframe tbody tr th:only-of-type {\n",
       "        vertical-align: middle;\n",
       "    }\n",
       "\n",
       "    .dataframe tbody tr th {\n",
       "        vertical-align: top;\n",
       "    }\n",
       "\n",
       "    .dataframe thead th {\n",
       "        text-align: right;\n",
       "    }\n",
       "</style>\n",
       "<table border=\"1\" class=\"dataframe\">\n",
       "  <thead>\n",
       "    <tr style=\"text-align: right;\">\n",
       "      <th></th>\n",
       "      <th>Open</th>\n",
       "      <th>High</th>\n",
       "      <th>Low</th>\n",
       "      <th>Close</th>\n",
       "      <th>Adj Close</th>\n",
       "      <th>Volume</th>\n",
       "    </tr>\n",
       "  </thead>\n",
       "  <tbody>\n",
       "    <tr>\n",
       "      <th>2021-08-02</th>\n",
       "      <td>3353.100098</td>\n",
       "      <td>3358.919922</td>\n",
       "      <td>3317.000000</td>\n",
       "      <td>3331.479980</td>\n",
       "      <td>3331.479980</td>\n",
       "      <td>3353900</td>\n",
       "    </tr>\n",
       "    <tr>\n",
       "      <th>2021-08-03</th>\n",
       "      <td>3340.719971</td>\n",
       "      <td>3391.000000</td>\n",
       "      <td>3299.770020</td>\n",
       "      <td>3366.239990</td>\n",
       "      <td>3366.239990</td>\n",
       "      <td>4157300</td>\n",
       "    </tr>\n",
       "    <tr>\n",
       "      <th>2021-08-04</th>\n",
       "      <td>3379.350098</td>\n",
       "      <td>3388.879883</td>\n",
       "      <td>3345.560059</td>\n",
       "      <td>3354.719971</td>\n",
       "      <td>3354.719971</td>\n",
       "      <td>2183900</td>\n",
       "    </tr>\n",
       "    <tr>\n",
       "      <th>2021-08-05</th>\n",
       "      <td>3356.219971</td>\n",
       "      <td>3389.000000</td>\n",
       "      <td>3340.919922</td>\n",
       "      <td>3375.989990</td>\n",
       "      <td>3375.989990</td>\n",
       "      <td>2433500</td>\n",
       "    </tr>\n",
       "    <tr>\n",
       "      <th>2021-08-06</th>\n",
       "      <td>3375.000000</td>\n",
       "      <td>3375.000000</td>\n",
       "      <td>3329.040039</td>\n",
       "      <td>3344.939941</td>\n",
       "      <td>3344.939941</td>\n",
       "      <td>2635300</td>\n",
       "    </tr>\n",
       "  </tbody>\n",
       "</table>\n",
       "</div>"
      ],
      "text/plain": [
       "                   Open         High          Low        Close    Adj Close  \\\n",
       "2021-08-02  3353.100098  3358.919922  3317.000000  3331.479980  3331.479980   \n",
       "2021-08-03  3340.719971  3391.000000  3299.770020  3366.239990  3366.239990   \n",
       "2021-08-04  3379.350098  3388.879883  3345.560059  3354.719971  3354.719971   \n",
       "2021-08-05  3356.219971  3389.000000  3340.919922  3375.989990  3375.989990   \n",
       "2021-08-06  3375.000000  3375.000000  3329.040039  3344.939941  3344.939941   \n",
       "\n",
       "             Volume  \n",
       "2021-08-02  3353900  \n",
       "2021-08-03  4157300  \n",
       "2021-08-04  2183900  \n",
       "2021-08-05  2433500  \n",
       "2021-08-06  2635300  "
      ]
     },
     "execution_count": 16,
     "metadata": {},
     "output_type": "execute_result"
    }
   ],
   "source": [
    "df1.set_index(rng,inplace=True)\n",
    "df1.head(5)"
   ]
  },
  {
   "cell_type": "code",
   "execution_count": 18,
   "metadata": {},
   "outputs": [
    {
     "data": {
      "text/plain": [
       "3312.897686230769"
      ]
     },
     "execution_count": 18,
     "metadata": {},
     "output_type": "execute_result"
    }
   ],
   "source": [
    "## Average Amazon price between 8/1/21 - 8/18/21\n",
    "df1[\"2021-08-01\":\"2021-08-18\"].Close.mean() "
   ]
  },
  {
   "cell_type": "markdown",
   "metadata": {},
   "source": [
    "<br>\n",
    "**Add weekends to the list**<br> - The price would be the same as the previous business day's closing price"
   ]
  },
  {
   "cell_type": "code",
   "execution_count": 19,
   "metadata": {},
   "outputs": [
    {
     "data": {
      "text/html": [
       "<div>\n",
       "<style scoped>\n",
       "    .dataframe tbody tr th:only-of-type {\n",
       "        vertical-align: middle;\n",
       "    }\n",
       "\n",
       "    .dataframe tbody tr th {\n",
       "        vertical-align: top;\n",
       "    }\n",
       "\n",
       "    .dataframe thead th {\n",
       "        text-align: right;\n",
       "    }\n",
       "</style>\n",
       "<table border=\"1\" class=\"dataframe\">\n",
       "  <thead>\n",
       "    <tr style=\"text-align: right;\">\n",
       "      <th></th>\n",
       "      <th>Open</th>\n",
       "      <th>High</th>\n",
       "      <th>Low</th>\n",
       "      <th>Close</th>\n",
       "      <th>Adj Close</th>\n",
       "      <th>Volume</th>\n",
       "    </tr>\n",
       "  </thead>\n",
       "  <tbody>\n",
       "    <tr>\n",
       "      <th>2021-08-02</th>\n",
       "      <td>3353.100098</td>\n",
       "      <td>3358.919922</td>\n",
       "      <td>3317.000000</td>\n",
       "      <td>3331.479980</td>\n",
       "      <td>3331.479980</td>\n",
       "      <td>3353900</td>\n",
       "    </tr>\n",
       "    <tr>\n",
       "      <th>2021-08-03</th>\n",
       "      <td>3340.719971</td>\n",
       "      <td>3391.000000</td>\n",
       "      <td>3299.770020</td>\n",
       "      <td>3366.239990</td>\n",
       "      <td>3366.239990</td>\n",
       "      <td>4157300</td>\n",
       "    </tr>\n",
       "    <tr>\n",
       "      <th>2021-08-04</th>\n",
       "      <td>3379.350098</td>\n",
       "      <td>3388.879883</td>\n",
       "      <td>3345.560059</td>\n",
       "      <td>3354.719971</td>\n",
       "      <td>3354.719971</td>\n",
       "      <td>2183900</td>\n",
       "    </tr>\n",
       "    <tr>\n",
       "      <th>2021-08-05</th>\n",
       "      <td>3356.219971</td>\n",
       "      <td>3389.000000</td>\n",
       "      <td>3340.919922</td>\n",
       "      <td>3375.989990</td>\n",
       "      <td>3375.989990</td>\n",
       "      <td>2433500</td>\n",
       "    </tr>\n",
       "    <tr>\n",
       "      <th>2021-08-06</th>\n",
       "      <td>3375.000000</td>\n",
       "      <td>3375.000000</td>\n",
       "      <td>3329.040039</td>\n",
       "      <td>3344.939941</td>\n",
       "      <td>3344.939941</td>\n",
       "      <td>2635300</td>\n",
       "    </tr>\n",
       "  </tbody>\n",
       "</table>\n",
       "</div>"
      ],
      "text/plain": [
       "                   Open         High          Low        Close    Adj Close  \\\n",
       "2021-08-02  3353.100098  3358.919922  3317.000000  3331.479980  3331.479980   \n",
       "2021-08-03  3340.719971  3391.000000  3299.770020  3366.239990  3366.239990   \n",
       "2021-08-04  3379.350098  3388.879883  3345.560059  3354.719971  3354.719971   \n",
       "2021-08-05  3356.219971  3389.000000  3340.919922  3375.989990  3375.989990   \n",
       "2021-08-06  3375.000000  3375.000000  3329.040039  3344.939941  3344.939941   \n",
       "\n",
       "             Volume  \n",
       "2021-08-02  3353900  \n",
       "2021-08-03  4157300  \n",
       "2021-08-04  2183900  \n",
       "2021-08-05  2433500  \n",
       "2021-08-06  2635300  "
      ]
     },
     "execution_count": 19,
     "metadata": {},
     "output_type": "execute_result"
    }
   ],
   "source": [
    "df1.asfreq('D', method='pad').head()"
   ]
  },
  {
   "cell_type": "markdown",
   "metadata": {},
   "source": [
    "<br>\n",
    "**View stock data by weekly**<br> - 8/1/21 is Sunday, the weekly business date starts at 8/2/21"
   ]
  },
  {
   "cell_type": "code",
   "execution_count": 20,
   "metadata": {},
   "outputs": [
    {
     "data": {
      "text/html": [
       "<div>\n",
       "<style scoped>\n",
       "    .dataframe tbody tr th:only-of-type {\n",
       "        vertical-align: middle;\n",
       "    }\n",
       "\n",
       "    .dataframe tbody tr th {\n",
       "        vertical-align: top;\n",
       "    }\n",
       "\n",
       "    .dataframe thead th {\n",
       "        text-align: right;\n",
       "    }\n",
       "</style>\n",
       "<table border=\"1\" class=\"dataframe\">\n",
       "  <thead>\n",
       "    <tr style=\"text-align: right;\">\n",
       "      <th></th>\n",
       "      <th>Open</th>\n",
       "      <th>High</th>\n",
       "      <th>Low</th>\n",
       "      <th>Close</th>\n",
       "      <th>Adj Close</th>\n",
       "      <th>Volume</th>\n",
       "    </tr>\n",
       "  </thead>\n",
       "  <tbody>\n",
       "    <tr>\n",
       "      <th>2021-08-08</th>\n",
       "      <td>3375.000000</td>\n",
       "      <td>3375.000000</td>\n",
       "      <td>3329.040039</td>\n",
       "      <td>3344.939941</td>\n",
       "      <td>3344.939941</td>\n",
       "      <td>2635300</td>\n",
       "    </tr>\n",
       "    <tr>\n",
       "      <th>2021-08-15</th>\n",
       "      <td>3305.669922</td>\n",
       "      <td>3306.070068</td>\n",
       "      <td>3283.000000</td>\n",
       "      <td>3293.969971</td>\n",
       "      <td>3293.969971</td>\n",
       "      <td>2052800</td>\n",
       "    </tr>\n",
       "    <tr>\n",
       "      <th>2021-08-22</th>\n",
       "      <td>3203.870117</td>\n",
       "      <td>3207.810059</td>\n",
       "      <td>3175.760010</td>\n",
       "      <td>3199.949951</td>\n",
       "      <td>3199.949951</td>\n",
       "      <td>3341200</td>\n",
       "    </tr>\n",
       "    <tr>\n",
       "      <th>2021-08-29</th>\n",
       "      <td>3333.229980</td>\n",
       "      <td>3352.320068</td>\n",
       "      <td>3313.750000</td>\n",
       "      <td>3349.629883</td>\n",
       "      <td>3349.629883</td>\n",
       "      <td>2391300</td>\n",
       "    </tr>\n",
       "  </tbody>\n",
       "</table>\n",
       "</div>"
      ],
      "text/plain": [
       "                   Open         High          Low        Close    Adj Close  \\\n",
       "2021-08-08  3375.000000  3375.000000  3329.040039  3344.939941  3344.939941   \n",
       "2021-08-15  3305.669922  3306.070068  3283.000000  3293.969971  3293.969971   \n",
       "2021-08-22  3203.870117  3207.810059  3175.760010  3199.949951  3199.949951   \n",
       "2021-08-29  3333.229980  3352.320068  3313.750000  3349.629883  3349.629883   \n",
       "\n",
       "             Volume  \n",
       "2021-08-08  2635300  \n",
       "2021-08-15  2052800  \n",
       "2021-08-22  3341200  \n",
       "2021-08-29  2391300  "
      ]
     },
     "execution_count": 20,
     "metadata": {},
     "output_type": "execute_result"
    }
   ],
   "source": [
    "df1.asfreq('W', method='pad')"
   ]
  },
  {
   "cell_type": "markdown",
   "metadata": {},
   "source": [
    "<br>\n",
    "** Mock Data - Generating Dates and Random Data for Testing**\n",
    "    - Set the date frequency to 'B' for business days\n",
    "    - Import numpy to generate random numbers\n",
    "    - Set the index to match the random numbers"
   ]
  },
  {
   "cell_type": "markdown",
   "metadata": {},
   "source": [
    "<br>\n",
    "**Generating business days**<br> - Generate 30 business days starting from 9/10/2021"
   ]
  },
  {
   "cell_type": "code",
   "execution_count": 21,
   "metadata": {},
   "outputs": [
    {
     "data": {
      "text/plain": [
       "DatetimeIndex(['2021-09-10', '2021-09-13', '2021-09-14', '2021-09-15',\n",
       "               '2021-09-16', '2021-09-17', '2021-09-20', '2021-09-21',\n",
       "               '2021-09-22', '2021-09-23', '2021-09-24', '2021-09-27',\n",
       "               '2021-09-28', '2021-09-29', '2021-09-30', '2021-10-01',\n",
       "               '2021-10-04', '2021-10-05', '2021-10-06', '2021-10-07',\n",
       "               '2021-10-08', '2021-10-11', '2021-10-12', '2021-10-13',\n",
       "               '2021-10-14', '2021-10-15', '2021-10-18', '2021-10-19',\n",
       "               '2021-10-20', '2021-10-21'],\n",
       "              dtype='datetime64[ns]', freq='B')"
      ]
     },
     "execution_count": 21,
     "metadata": {},
     "output_type": "execute_result"
    }
   ],
   "source": [
    "rng = pd.date_range(start='9/10/2021', periods=30, freq='B')\n",
    "rng"
   ]
  },
  {
   "cell_type": "markdown",
   "metadata": {},
   "source": [
    "<br>\n",
    "**Import numpy to generate random numbers**<br> - Generate random numbers between 1 to 20 for the length of 30 days"
   ]
  },
  {
   "cell_type": "code",
   "execution_count": 22,
   "metadata": {},
   "outputs": [
    {
     "data": {
      "text/plain": [
       "array([13, 13, 19,  3,  6,  8, 14, 15, 12,  6,  1, 11,  4,  1, 18, 16, 12,\n",
       "       16, 18,  8,  1, 14, 19, 10,  7, 16,  3,  9, 10,  7])"
      ]
     },
     "execution_count": 22,
     "metadata": {},
     "output_type": "execute_result"
    }
   ],
   "source": [
    "import numpy as np\n",
    "np.random.randint(1,20,len(rng))"
   ]
  }
 ],
 "metadata": {
  "kernelspec": {
   "display_name": "Python 3",
   "language": "python",
   "name": "python3"
  },
  "language_info": {
   "codemirror_mode": {
    "name": "ipython",
    "version": 3
   },
   "file_extension": ".py",
   "mimetype": "text/x-python",
   "name": "python",
   "nbconvert_exporter": "python",
   "pygments_lexer": "ipython3",
   "version": "3.6.3"
  }
 },
 "nbformat": 4,
 "nbformat_minor": 2
}
