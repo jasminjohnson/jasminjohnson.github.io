{
 "cells": [
  {
   "cell_type": "code",
   "execution_count": 1,
   "metadata": {},
   "outputs": [
    {
     "data": {
      "text/html": [
       "<style>.container { width:100% !important; }</style>"
      ],
      "text/plain": [
       "<IPython.core.display.HTML object>"
      ]
     },
     "metadata": {},
     "output_type": "display_data"
    }
   ],
   "source": [
    "from IPython.core.interactiveshell import InteractiveShell\n",
    "from IPython.core.display import display, HTML\n",
    "display(HTML(\"<style>.container { width:100% !important; }</style>\"))\n",
    "%matplotlib inline \n",
    "import matplotlib.pyplot as plt\n",
    "import pandas as pd\n"
   ]
  },
  {
   "cell_type": "markdown",
   "metadata": {},
   "source": [
    "# Data Time Series for stock or financial statment analysis"
   ]
  },
  {
   "cell_type": "markdown",
   "metadata": {},
   "source": [
    "<!-- PELICAN_BEGIN_SUMMARY -->\n",
    "Time Series can be useful to analyze financial data in different frequencies based on data distribution.<br>We can reload/repeat the data analysis process in Python and export the result to Excel or CSV on daily, weekly, monthly, quarterly or yearly basis.\n",
    "\n",
    "<!-- PELICAN_END_SUMMARY -->\n",
    "**Goals: Generate Mock Data**"
   ]
  },
  {
   "cell_type": "markdown",
   "metadata": {},
   "source": [
    "** Overview Data Time Series Basics**\n",
    "    - Example is Amazon stock daily closing prices from 1997 - 2018 in CSV format\n",
    "    - View date type: convert string to time sereies\n",
    "    - Set date as index : retrieve range of data \n",
    "    - Resample function : for plotting\n",
    "    - Assign date to the stock price without date column : with date frequency options\n",
    "** Mock Data**\n",
    "    - Generate date range \n",
    "    - Use Numpy to geneerate random number\n",
    "    - Set index to match date and number     "
   ]
  },
  {
   "cell_type": "code",
   "execution_count": 2,
   "metadata": {},
   "outputs": [
    {
     "data": {
      "text/html": [
       "<div>\n",
       "<style scoped>\n",
       "    .dataframe tbody tr th:only-of-type {\n",
       "        vertical-align: middle;\n",
       "    }\n",
       "\n",
       "    .dataframe tbody tr th {\n",
       "        vertical-align: top;\n",
       "    }\n",
       "\n",
       "    .dataframe thead th {\n",
       "        text-align: right;\n",
       "    }\n",
       "</style>\n",
       "<table border=\"1\" class=\"dataframe\">\n",
       "  <thead>\n",
       "    <tr style=\"text-align: right;\">\n",
       "      <th></th>\n",
       "      <th>Date</th>\n",
       "      <th>Open</th>\n",
       "      <th>High</th>\n",
       "      <th>Low</th>\n",
       "      <th>Close</th>\n",
       "      <th>Adj Close</th>\n",
       "      <th>Volume</th>\n",
       "    </tr>\n",
       "  </thead>\n",
       "  <tbody>\n",
       "    <tr>\n",
       "      <th>0</th>\n",
       "      <td>1997-05-15</td>\n",
       "      <td>2.437500</td>\n",
       "      <td>2.500000</td>\n",
       "      <td>1.927083</td>\n",
       "      <td>1.958333</td>\n",
       "      <td>1.958333</td>\n",
       "      <td>72156000</td>\n",
       "    </tr>\n",
       "    <tr>\n",
       "      <th>1</th>\n",
       "      <td>1997-05-16</td>\n",
       "      <td>1.968750</td>\n",
       "      <td>1.979167</td>\n",
       "      <td>1.708333</td>\n",
       "      <td>1.729167</td>\n",
       "      <td>1.729167</td>\n",
       "      <td>14700000</td>\n",
       "    </tr>\n",
       "    <tr>\n",
       "      <th>2</th>\n",
       "      <td>1997-05-19</td>\n",
       "      <td>1.760417</td>\n",
       "      <td>1.770833</td>\n",
       "      <td>1.625000</td>\n",
       "      <td>1.708333</td>\n",
       "      <td>1.708333</td>\n",
       "      <td>6106800</td>\n",
       "    </tr>\n",
       "    <tr>\n",
       "      <th>3</th>\n",
       "      <td>1997-05-20</td>\n",
       "      <td>1.729167</td>\n",
       "      <td>1.750000</td>\n",
       "      <td>1.635417</td>\n",
       "      <td>1.635417</td>\n",
       "      <td>1.635417</td>\n",
       "      <td>5467200</td>\n",
       "    </tr>\n",
       "    <tr>\n",
       "      <th>4</th>\n",
       "      <td>1997-05-21</td>\n",
       "      <td>1.635417</td>\n",
       "      <td>1.645833</td>\n",
       "      <td>1.375000</td>\n",
       "      <td>1.427083</td>\n",
       "      <td>1.427083</td>\n",
       "      <td>18853200</td>\n",
       "    </tr>\n",
       "  </tbody>\n",
       "</table>\n",
       "</div>"
      ],
      "text/plain": [
       "         Date      Open      High       Low     Close  Adj Close    Volume\n",
       "0  1997-05-15  2.437500  2.500000  1.927083  1.958333   1.958333  72156000\n",
       "1  1997-05-16  1.968750  1.979167  1.708333  1.729167   1.729167  14700000\n",
       "2  1997-05-19  1.760417  1.770833  1.625000  1.708333   1.708333   6106800\n",
       "3  1997-05-20  1.729167  1.750000  1.635417  1.635417   1.635417   5467200\n",
       "4  1997-05-21  1.635417  1.645833  1.375000  1.427083   1.427083  18853200"
      ]
     },
     "execution_count": 2,
     "metadata": {},
     "output_type": "execute_result"
    }
   ],
   "source": [
    "## Read the file from CSV format\n",
    "df = pd.read_csv('data/Amazon.csv')\n",
    "df.head()"
   ]
  },
  {
   "cell_type": "markdown",
   "metadata": {},
   "source": [
    "<br>\n",
    "**Find out Date type**<br>- The Date type here is a string, not time series type"
   ]
  },
  {
   "cell_type": "code",
   "execution_count": 3,
   "metadata": {},
   "outputs": [
    {
     "data": {
      "text/plain": [
       "str"
      ]
     },
     "execution_count": 3,
     "metadata": {},
     "output_type": "execute_result"
    }
   ],
   "source": [
    "type(df.Date[0])"
   ]
  },
  {
   "cell_type": "markdown",
   "metadata": {},
   "source": [
    "<br>\n",
    "**Convert string into time series type**<br>- By adding Parse to read the CSV file"
   ]
  },
  {
   "cell_type": "code",
   "execution_count": 4,
   "metadata": {},
   "outputs": [
    {
     "data": {
      "text/html": [
       "<div>\n",
       "<style scoped>\n",
       "    .dataframe tbody tr th:only-of-type {\n",
       "        vertical-align: middle;\n",
       "    }\n",
       "\n",
       "    .dataframe tbody tr th {\n",
       "        vertical-align: top;\n",
       "    }\n",
       "\n",
       "    .dataframe thead th {\n",
       "        text-align: right;\n",
       "    }\n",
       "</style>\n",
       "<table border=\"1\" class=\"dataframe\">\n",
       "  <thead>\n",
       "    <tr style=\"text-align: right;\">\n",
       "      <th></th>\n",
       "      <th>Date</th>\n",
       "      <th>Open</th>\n",
       "      <th>High</th>\n",
       "      <th>Low</th>\n",
       "      <th>Close</th>\n",
       "      <th>Adj Close</th>\n",
       "      <th>Volume</th>\n",
       "    </tr>\n",
       "  </thead>\n",
       "  <tbody>\n",
       "    <tr>\n",
       "      <th>0</th>\n",
       "      <td>1997-05-15</td>\n",
       "      <td>2.437500</td>\n",
       "      <td>2.500000</td>\n",
       "      <td>1.927083</td>\n",
       "      <td>1.958333</td>\n",
       "      <td>1.958333</td>\n",
       "      <td>72156000</td>\n",
       "    </tr>\n",
       "    <tr>\n",
       "      <th>1</th>\n",
       "      <td>1997-05-16</td>\n",
       "      <td>1.968750</td>\n",
       "      <td>1.979167</td>\n",
       "      <td>1.708333</td>\n",
       "      <td>1.729167</td>\n",
       "      <td>1.729167</td>\n",
       "      <td>14700000</td>\n",
       "    </tr>\n",
       "    <tr>\n",
       "      <th>2</th>\n",
       "      <td>1997-05-19</td>\n",
       "      <td>1.760417</td>\n",
       "      <td>1.770833</td>\n",
       "      <td>1.625000</td>\n",
       "      <td>1.708333</td>\n",
       "      <td>1.708333</td>\n",
       "      <td>6106800</td>\n",
       "    </tr>\n",
       "    <tr>\n",
       "      <th>3</th>\n",
       "      <td>1997-05-20</td>\n",
       "      <td>1.729167</td>\n",
       "      <td>1.750000</td>\n",
       "      <td>1.635417</td>\n",
       "      <td>1.635417</td>\n",
       "      <td>1.635417</td>\n",
       "      <td>5467200</td>\n",
       "    </tr>\n",
       "    <tr>\n",
       "      <th>4</th>\n",
       "      <td>1997-05-21</td>\n",
       "      <td>1.635417</td>\n",
       "      <td>1.645833</td>\n",
       "      <td>1.375000</td>\n",
       "      <td>1.427083</td>\n",
       "      <td>1.427083</td>\n",
       "      <td>18853200</td>\n",
       "    </tr>\n",
       "  </tbody>\n",
       "</table>\n",
       "</div>"
      ],
      "text/plain": [
       "        Date      Open      High       Low     Close  Adj Close    Volume\n",
       "0 1997-05-15  2.437500  2.500000  1.927083  1.958333   1.958333  72156000\n",
       "1 1997-05-16  1.968750  1.979167  1.708333  1.729167   1.729167  14700000\n",
       "2 1997-05-19  1.760417  1.770833  1.625000  1.708333   1.708333   6106800\n",
       "3 1997-05-20  1.729167  1.750000  1.635417  1.635417   1.635417   5467200\n",
       "4 1997-05-21  1.635417  1.645833  1.375000  1.427083   1.427083  18853200"
      ]
     },
     "execution_count": 4,
     "metadata": {},
     "output_type": "execute_result"
    }
   ],
   "source": [
    "df = pd.read_csv('data/Amazon.csv', parse_dates=[\"Date\"])\n",
    "df.head()"
   ]
  },
  {
   "cell_type": "code",
   "execution_count": 5,
   "metadata": {},
   "outputs": [
    {
     "data": {
      "text/plain": [
       "pandas._libs.tslib.Timestamp"
      ]
     },
     "execution_count": 5,
     "metadata": {},
     "output_type": "execute_result"
    }
   ],
   "source": [
    "## Find out Date type again: the Date type is Timestamp which is one of the time series\n",
    "type(df.Date[0])"
   ]
  },
  {
   "cell_type": "markdown",
   "metadata": {},
   "source": [
    "<br>\n",
    "**Set index to Date by adding Index column (index_col) to Date**<br>-The benefit of setting index is we can retrieve specific date ranges of Amazon stock prices"
   ]
  },
  {
   "cell_type": "code",
   "execution_count": 6,
   "metadata": {},
   "outputs": [
    {
     "data": {
      "text/plain": [
       "DatetimeIndex(['1997-05-15', '1997-05-16', '1997-05-19', '1997-05-20',\n",
       "               '1997-05-21', '1997-05-22', '1997-05-23', '1997-05-27',\n",
       "               '1997-05-28', '1997-05-29',\n",
       "               ...\n",
       "               '2018-05-15', '2018-05-16', '2018-05-17', '2018-05-18',\n",
       "               '2018-05-21', '2018-05-22', '2018-05-23', '2018-05-24',\n",
       "               '2018-05-25', '2018-05-29'],\n",
       "              dtype='datetime64[ns]', name='Date', length=5294, freq=None)"
      ]
     },
     "execution_count": 6,
     "metadata": {},
     "output_type": "execute_result"
    }
   ],
   "source": [
    "df = pd.read_csv('data/Amazon.csv', parse_dates=[\"Date\"],index_col=\"Date\")\n",
    "df.index"
   ]
  },
  {
   "cell_type": "code",
   "execution_count": 8,
   "metadata": {},
   "outputs": [
    {
     "data": {
      "text/html": [
       "<div>\n",
       "<style scoped>\n",
       "    .dataframe tbody tr th:only-of-type {\n",
       "        vertical-align: middle;\n",
       "    }\n",
       "\n",
       "    .dataframe tbody tr th {\n",
       "        vertical-align: top;\n",
       "    }\n",
       "\n",
       "    .dataframe thead th {\n",
       "        text-align: right;\n",
       "    }\n",
       "</style>\n",
       "<table border=\"1\" class=\"dataframe\">\n",
       "  <thead>\n",
       "    <tr style=\"text-align: right;\">\n",
       "      <th></th>\n",
       "      <th>Open</th>\n",
       "      <th>High</th>\n",
       "      <th>Low</th>\n",
       "      <th>Close</th>\n",
       "      <th>Adj Close</th>\n",
       "      <th>Volume</th>\n",
       "    </tr>\n",
       "    <tr>\n",
       "      <th>Date</th>\n",
       "      <th></th>\n",
       "      <th></th>\n",
       "      <th></th>\n",
       "      <th></th>\n",
       "      <th></th>\n",
       "      <th></th>\n",
       "    </tr>\n",
       "  </thead>\n",
       "  <tbody>\n",
       "    <tr>\n",
       "      <th>2018-03-01</th>\n",
       "      <td>1513.599976</td>\n",
       "      <td>1518.489990</td>\n",
       "      <td>1465.00000</td>\n",
       "      <td>1493.449951</td>\n",
       "      <td>1493.449951</td>\n",
       "      <td>6835200</td>\n",
       "    </tr>\n",
       "    <tr>\n",
       "      <th>2018-03-02</th>\n",
       "      <td>1469.099976</td>\n",
       "      <td>1501.050049</td>\n",
       "      <td>1455.01001</td>\n",
       "      <td>1500.250000</td>\n",
       "      <td>1500.250000</td>\n",
       "      <td>6587600</td>\n",
       "    </tr>\n",
       "    <tr>\n",
       "      <th>2018-03-05</th>\n",
       "      <td>1494.239990</td>\n",
       "      <td>1525.380005</td>\n",
       "      <td>1481.00000</td>\n",
       "      <td>1523.609985</td>\n",
       "      <td>1523.609985</td>\n",
       "      <td>5233900</td>\n",
       "    </tr>\n",
       "    <tr>\n",
       "      <th>2018-03-06</th>\n",
       "      <td>1533.199951</td>\n",
       "      <td>1542.130005</td>\n",
       "      <td>1528.00000</td>\n",
       "      <td>1537.640015</td>\n",
       "      <td>1537.640015</td>\n",
       "      <td>4561700</td>\n",
       "    </tr>\n",
       "    <tr>\n",
       "      <th>2018-03-07</th>\n",
       "      <td>1526.520020</td>\n",
       "      <td>1545.900024</td>\n",
       "      <td>1522.51001</td>\n",
       "      <td>1545.000000</td>\n",
       "      <td>1545.000000</td>\n",
       "      <td>4174100</td>\n",
       "    </tr>\n",
       "  </tbody>\n",
       "</table>\n",
       "</div>"
      ],
      "text/plain": [
       "                   Open         High         Low        Close    Adj Close  \\\n",
       "Date                                                                         \n",
       "2018-03-01  1513.599976  1518.489990  1465.00000  1493.449951  1493.449951   \n",
       "2018-03-02  1469.099976  1501.050049  1455.01001  1500.250000  1500.250000   \n",
       "2018-03-05  1494.239990  1525.380005  1481.00000  1523.609985  1523.609985   \n",
       "2018-03-06  1533.199951  1542.130005  1528.00000  1537.640015  1537.640015   \n",
       "2018-03-07  1526.520020  1545.900024  1522.51001  1545.000000  1545.000000   \n",
       "\n",
       "             Volume  \n",
       "Date                 \n",
       "2018-03-01  6835200  \n",
       "2018-03-02  6587600  \n",
       "2018-03-05  5233900  \n",
       "2018-03-06  4561700  \n",
       "2018-03-07  4174100  "
      ]
     },
     "execution_count": 8,
     "metadata": {},
     "output_type": "execute_result"
    }
   ],
   "source": [
    "## Retrieve March 2018 stock price\n",
    "df[\"2018-03\"].head()"
   ]
  },
  {
   "cell_type": "markdown",
   "metadata": {},
   "source": [
    "<br>\n",
    "**Time Series enable us to do more financial analysis by few coding steps**\n",
    "    - Get the average closing price of Amazon stock in March 2018\n",
    "    - Retrieve the specific date price\n",
    "    - Weekly, Monthly or Yearly average of the stock price\n",
    "    - Plot the stock price"
   ]
  },
  {
   "cell_type": "code",
   "execution_count": 9,
   "metadata": {},
   "outputs": [
    {
     "data": {
      "text/plain": [
       "1540.367629333333"
      ]
     },
     "execution_count": 9,
     "metadata": {},
     "output_type": "execute_result"
    }
   ],
   "source": [
    "## Get the average closing price in March 2018\n",
    "df[\"2018-03\"].Close.mean()"
   ]
  },
  {
   "cell_type": "code",
   "execution_count": 12,
   "metadata": {},
   "outputs": [
    {
     "data": {
      "text/html": [
       "<div>\n",
       "<style scoped>\n",
       "    .dataframe tbody tr th:only-of-type {\n",
       "        vertical-align: middle;\n",
       "    }\n",
       "\n",
       "    .dataframe tbody tr th {\n",
       "        vertical-align: top;\n",
       "    }\n",
       "\n",
       "    .dataframe thead th {\n",
       "        text-align: right;\n",
       "    }\n",
       "</style>\n",
       "<table border=\"1\" class=\"dataframe\">\n",
       "  <thead>\n",
       "    <tr style=\"text-align: right;\">\n",
       "      <th></th>\n",
       "      <th>Open</th>\n",
       "      <th>High</th>\n",
       "      <th>Low</th>\n",
       "      <th>Close</th>\n",
       "      <th>Adj Close</th>\n",
       "      <th>Volume</th>\n",
       "    </tr>\n",
       "    <tr>\n",
       "      <th>Date</th>\n",
       "      <th></th>\n",
       "      <th></th>\n",
       "      <th></th>\n",
       "      <th></th>\n",
       "      <th></th>\n",
       "      <th></th>\n",
       "    </tr>\n",
       "  </thead>\n",
       "  <tbody>\n",
       "    <tr>\n",
       "      <th>2018-03-01</th>\n",
       "      <td>1513.599976</td>\n",
       "      <td>1518.48999</td>\n",
       "      <td>1465.0</td>\n",
       "      <td>1493.449951</td>\n",
       "      <td>1493.449951</td>\n",
       "      <td>6835200</td>\n",
       "    </tr>\n",
       "  </tbody>\n",
       "</table>\n",
       "</div>"
      ],
      "text/plain": [
       "                   Open        High     Low        Close    Adj Close   Volume\n",
       "Date                                                                          \n",
       "2018-03-01  1513.599976  1518.48999  1465.0  1493.449951  1493.449951  6835200"
      ]
     },
     "execution_count": 12,
     "metadata": {},
     "output_type": "execute_result"
    }
   ],
   "source": [
    "## Retrieving one specific day - can use loc slice function, but it's not necessary \n",
    "df.loc[\"2018-03-01\":\"2018-03-01\"]"
   ]
  },
  {
   "cell_type": "code",
   "execution_count": 13,
   "metadata": {},
   "outputs": [
    {
     "data": {
      "text/html": [
       "<div>\n",
       "<style scoped>\n",
       "    .dataframe tbody tr th:only-of-type {\n",
       "        vertical-align: middle;\n",
       "    }\n",
       "\n",
       "    .dataframe tbody tr th {\n",
       "        vertical-align: top;\n",
       "    }\n",
       "\n",
       "    .dataframe thead th {\n",
       "        text-align: right;\n",
       "    }\n",
       "</style>\n",
       "<table border=\"1\" class=\"dataframe\">\n",
       "  <thead>\n",
       "    <tr style=\"text-align: right;\">\n",
       "      <th></th>\n",
       "      <th>Open</th>\n",
       "      <th>High</th>\n",
       "      <th>Low</th>\n",
       "      <th>Close</th>\n",
       "      <th>Adj Close</th>\n",
       "      <th>Volume</th>\n",
       "    </tr>\n",
       "    <tr>\n",
       "      <th>Date</th>\n",
       "      <th></th>\n",
       "      <th></th>\n",
       "      <th></th>\n",
       "      <th></th>\n",
       "      <th></th>\n",
       "      <th></th>\n",
       "    </tr>\n",
       "  </thead>\n",
       "  <tbody>\n",
       "    <tr>\n",
       "      <th>2018-03-01</th>\n",
       "      <td>1513.599976</td>\n",
       "      <td>1518.489990</td>\n",
       "      <td>1465.00000</td>\n",
       "      <td>1493.449951</td>\n",
       "      <td>1493.449951</td>\n",
       "      <td>6835200</td>\n",
       "    </tr>\n",
       "    <tr>\n",
       "      <th>2018-03-02</th>\n",
       "      <td>1469.099976</td>\n",
       "      <td>1501.050049</td>\n",
       "      <td>1455.01001</td>\n",
       "      <td>1500.250000</td>\n",
       "      <td>1500.250000</td>\n",
       "      <td>6587600</td>\n",
       "    </tr>\n",
       "    <tr>\n",
       "      <th>2018-03-05</th>\n",
       "      <td>1494.239990</td>\n",
       "      <td>1525.380005</td>\n",
       "      <td>1481.00000</td>\n",
       "      <td>1523.609985</td>\n",
       "      <td>1523.609985</td>\n",
       "      <td>5233900</td>\n",
       "    </tr>\n",
       "  </tbody>\n",
       "</table>\n",
       "</div>"
      ],
      "text/plain": [
       "                   Open         High         Low        Close    Adj Close  \\\n",
       "Date                                                                         \n",
       "2018-03-01  1513.599976  1518.489990  1465.00000  1493.449951  1493.449951   \n",
       "2018-03-02  1469.099976  1501.050049  1455.01001  1500.250000  1500.250000   \n",
       "2018-03-05  1494.239990  1525.380005  1481.00000  1523.609985  1523.609985   \n",
       "\n",
       "             Volume  \n",
       "Date                 \n",
       "2018-03-01  6835200  \n",
       "2018-03-02  6587600  \n",
       "2018-03-05  5233900  "
      ]
     },
     "execution_count": 13,
     "metadata": {},
     "output_type": "execute_result"
    }
   ],
   "source": [
    "## Retrieving with a date range\n",
    "df[\"2018-03-01\":\"2018-03-05\"] "
   ]
  },
  {
   "cell_type": "code",
   "execution_count": 14,
   "metadata": {},
   "outputs": [
    {
     "data": {
      "text/plain": [
       "Date\n",
       "1997-12-31     3.126400\n",
       "1998-12-31    15.661112\n",
       "1999-12-31    69.062314\n",
       "2000-12-31    46.533668\n",
       "2001-12-31    12.200426\n",
       "Freq: A-DEC, Name: Close, dtype: float64"
      ]
     },
     "execution_count": 14,
     "metadata": {},
     "output_type": "execute_result"
    }
   ],
   "source": [
    "## Yearly average of the stock price\n",
    "df.Close.resample('Y').mean().head()"
   ]
  },
  {
   "cell_type": "markdown",
   "metadata": {},
   "source": [
    "<br>\n",
    "**Resample data function**\n",
    "    - Shift+tab to view all the possibilities of the Resample data function\n",
    "    - Without Resample, the chart is more grannuily"
   ]
  },
  {
   "cell_type": "code",
   "execution_count": 15,
   "metadata": {},
   "outputs": [
    {
     "data": {
      "text/plain": [
       "<matplotlib.axes._subplots.AxesSubplot at 0x1bbc8b18208>"
      ]
     },
     "execution_count": 15,
     "metadata": {},
     "output_type": "execute_result"
    },
    {
     "data": {
      "image/png": "[encoded data removed]",
      "text/plain": [
       "<matplotlib.figure.Figure at 0x1bbc8ad5898>"
      ]
     },
     "metadata": {},
     "output_type": "display_data"
    }
   ],
   "source": [
    "## Plot with resample - average monthly price \n",
    "df.Close.resample('M').mean().plot()"
   ]
  },
  {
   "cell_type": "code",
   "execution_count": 18,
   "metadata": {},
   "outputs": [
    {
     "data": {
      "text/plain": [
       "<matplotlib.axes._subplots.AxesSubplot at 0x1bbc8b18128>"
      ]
     },
     "execution_count": 18,
     "metadata": {},
     "output_type": "execute_result"
    },
    {
     "data": {
      "image/png": "[encoded data removed]",
      "text/plain": [
       "<matplotlib.figure.Figure at 0x1bbc8fe0278>"
      ]
     },
     "metadata": {},
     "output_type": "display_data"
    }
   ],
   "source": [
    "## Plot without Resample\n",
    "df.Close.plot()"
   ]
  },
  {
   "cell_type": "markdown",
   "metadata": {},
   "source": [
    "<br>\n",
    "**Assigning date to a dataset with missing date**\n",
    "    - The following example is the April 2018 Amazon stock prices but without any date\n",
    "    - Read the stock closing price with the missing date\n",
    "    - Assign the date to match the stock price"
   ]
  },
  {
   "cell_type": "code",
   "execution_count": 19,
   "metadata": {
    "scrolled": true
   },
   "outputs": [
    {
     "data": {
      "text/html": [
       "<div>\n",
       "<style scoped>\n",
       "    .dataframe tbody tr th:only-of-type {\n",
       "        vertical-align: middle;\n",
       "    }\n",
       "\n",
       "    .dataframe tbody tr th {\n",
       "        vertical-align: top;\n",
       "    }\n",
       "\n",
       "    .dataframe thead th {\n",
       "        text-align: right;\n",
       "    }\n",
       "</style>\n",
       "<table border=\"1\" class=\"dataframe\">\n",
       "  <thead>\n",
       "    <tr style=\"text-align: right;\">\n",
       "      <th></th>\n",
       "      <th>Open</th>\n",
       "      <th>High</th>\n",
       "      <th>Low</th>\n",
       "      <th>Close</th>\n",
       "      <th>Adj Close</th>\n",
       "      <th>Volume</th>\n",
       "    </tr>\n",
       "  </thead>\n",
       "  <tbody>\n",
       "    <tr>\n",
       "      <th>0</th>\n",
       "      <td>1417.619995</td>\n",
       "      <td>1421.359985</td>\n",
       "      <td>1355.000000</td>\n",
       "      <td>1371.989990</td>\n",
       "      <td>1371.989990</td>\n",
       "      <td>10463600</td>\n",
       "    </tr>\n",
       "    <tr>\n",
       "      <th>1</th>\n",
       "      <td>1391.380005</td>\n",
       "      <td>1414.000000</td>\n",
       "      <td>1355.329956</td>\n",
       "      <td>1392.050049</td>\n",
       "      <td>1392.050049</td>\n",
       "      <td>10231200</td>\n",
       "    </tr>\n",
       "    <tr>\n",
       "      <th>2</th>\n",
       "      <td>1358.239990</td>\n",
       "      <td>1415.390015</td>\n",
       "      <td>1352.880005</td>\n",
       "      <td>1410.569946</td>\n",
       "      <td>1410.569946</td>\n",
       "      <td>6982300</td>\n",
       "    </tr>\n",
       "    <tr>\n",
       "      <th>3</th>\n",
       "      <td>1441.989990</td>\n",
       "      <td>1459.560059</td>\n",
       "      <td>1427.069946</td>\n",
       "      <td>1451.750000</td>\n",
       "      <td>1451.750000</td>\n",
       "      <td>6413500</td>\n",
       "    </tr>\n",
       "    <tr>\n",
       "      <th>4</th>\n",
       "      <td>1429.969971</td>\n",
       "      <td>1452.500000</td>\n",
       "      <td>1400.260010</td>\n",
       "      <td>1405.229980</td>\n",
       "      <td>1405.229980</td>\n",
       "      <td>5882300</td>\n",
       "    </tr>\n",
       "  </tbody>\n",
       "</table>\n",
       "</div>"
      ],
      "text/plain": [
       "          Open         High          Low        Close    Adj Close    Volume\n",
       "0  1417.619995  1421.359985  1355.000000  1371.989990  1371.989990  10463600\n",
       "1  1391.380005  1414.000000  1355.329956  1392.050049  1392.050049  10231200\n",
       "2  1358.239990  1415.390015  1352.880005  1410.569946  1410.569946   6982300\n",
       "3  1441.989990  1459.560059  1427.069946  1451.750000  1451.750000   6413500\n",
       "4  1429.969971  1452.500000  1400.260010  1405.229980  1405.229980   5882300"
      ]
     },
     "execution_count": 19,
     "metadata": {},
     "output_type": "execute_result"
    }
   ],
   "source": [
    "## Read April 2018 Amazon stock price without date column\n",
    "df1 = pd.read_csv('data\\Amazon_No_Date.csv')\n",
    "df1.head()"
   ]
  },
  {
   "cell_type": "markdown",
   "metadata": {},
   "source": [
    "<br>\n",
    "**Assign the date to match the data**\n",
    "    - Use \"rng\" function to assign date to matach stock price\n",
    "    - Apply \"B\" (Business Day) as the frequency\n",
    "    - Shift+ tab twice on \"B\" to follow the link for more day function\n",
    "    - The Business day function does not consider holidays"
   ]
  },
  {
   "cell_type": "code",
   "execution_count": 20,
   "metadata": {},
   "outputs": [
    {
     "data": {
      "text/plain": [
       "DatetimeIndex(['2018-04-02', '2018-04-03', '2018-04-04', '2018-04-05',\n",
       "               '2018-04-06', '2018-04-09', '2018-04-10', '2018-04-11',\n",
       "               '2018-04-12', '2018-04-13', '2018-04-16', '2018-04-17',\n",
       "               '2018-04-18', '2018-04-19', '2018-04-20', '2018-04-23',\n",
       "               '2018-04-24', '2018-04-25', '2018-04-26', '2018-04-27',\n",
       "               '2018-04-30'],\n",
       "              dtype='datetime64[ns]', freq='B')"
      ]
     },
     "execution_count": 20,
     "metadata": {},
     "output_type": "execute_result"
    }
   ],
   "source": [
    "rng = pd.date_range(start=\"4/1/2018\", end = \"4/30/2018\", freq='B')\n",
    "rng"
   ]
  },
  {
   "cell_type": "markdown",
   "metadata": {},
   "source": [
    "<br>\n",
    "**Set the date column as the index**<br> - You must specify \"True\" to modify the original dataframe"
   ]
  },
  {
   "cell_type": "code",
   "execution_count": 22,
   "metadata": {},
   "outputs": [
    {
     "data": {
      "text/html": [
       "<div>\n",
       "<style scoped>\n",
       "    .dataframe tbody tr th:only-of-type {\n",
       "        vertical-align: middle;\n",
       "    }\n",
       "\n",
       "    .dataframe tbody tr th {\n",
       "        vertical-align: top;\n",
       "    }\n",
       "\n",
       "    .dataframe thead th {\n",
       "        text-align: right;\n",
       "    }\n",
       "</style>\n",
       "<table border=\"1\" class=\"dataframe\">\n",
       "  <thead>\n",
       "    <tr style=\"text-align: right;\">\n",
       "      <th></th>\n",
       "      <th>Open</th>\n",
       "      <th>High</th>\n",
       "      <th>Low</th>\n",
       "      <th>Close</th>\n",
       "      <th>Adj Close</th>\n",
       "      <th>Volume</th>\n",
       "    </tr>\n",
       "  </thead>\n",
       "  <tbody>\n",
       "    <tr>\n",
       "      <th>2018-04-02</th>\n",
       "      <td>1417.619995</td>\n",
       "      <td>1421.359985</td>\n",
       "      <td>1355.000000</td>\n",
       "      <td>1371.989990</td>\n",
       "      <td>1371.989990</td>\n",
       "      <td>10463600</td>\n",
       "    </tr>\n",
       "    <tr>\n",
       "      <th>2018-04-03</th>\n",
       "      <td>1391.380005</td>\n",
       "      <td>1414.000000</td>\n",
       "      <td>1355.329956</td>\n",
       "      <td>1392.050049</td>\n",
       "      <td>1392.050049</td>\n",
       "      <td>10231200</td>\n",
       "    </tr>\n",
       "    <tr>\n",
       "      <th>2018-04-04</th>\n",
       "      <td>1358.239990</td>\n",
       "      <td>1415.390015</td>\n",
       "      <td>1352.880005</td>\n",
       "      <td>1410.569946</td>\n",
       "      <td>1410.569946</td>\n",
       "      <td>6982300</td>\n",
       "    </tr>\n",
       "    <tr>\n",
       "      <th>2018-04-05</th>\n",
       "      <td>1441.989990</td>\n",
       "      <td>1459.560059</td>\n",
       "      <td>1427.069946</td>\n",
       "      <td>1451.750000</td>\n",
       "      <td>1451.750000</td>\n",
       "      <td>6413500</td>\n",
       "    </tr>\n",
       "    <tr>\n",
       "      <th>2018-04-06</th>\n",
       "      <td>1429.969971</td>\n",
       "      <td>1452.500000</td>\n",
       "      <td>1400.260010</td>\n",
       "      <td>1405.229980</td>\n",
       "      <td>1405.229980</td>\n",
       "      <td>5882300</td>\n",
       "    </tr>\n",
       "  </tbody>\n",
       "</table>\n",
       "</div>"
      ],
      "text/plain": [
       "                   Open         High          Low        Close    Adj Close  \\\n",
       "2018-04-02  1417.619995  1421.359985  1355.000000  1371.989990  1371.989990   \n",
       "2018-04-03  1391.380005  1414.000000  1355.329956  1392.050049  1392.050049   \n",
       "2018-04-04  1358.239990  1415.390015  1352.880005  1410.569946  1410.569946   \n",
       "2018-04-05  1441.989990  1459.560059  1427.069946  1451.750000  1451.750000   \n",
       "2018-04-06  1429.969971  1452.500000  1400.260010  1405.229980  1405.229980   \n",
       "\n",
       "              Volume  \n",
       "2018-04-02  10463600  \n",
       "2018-04-03  10231200  \n",
       "2018-04-04   6982300  \n",
       "2018-04-05   6413500  \n",
       "2018-04-06   5882300  "
      ]
     },
     "execution_count": 22,
     "metadata": {},
     "output_type": "execute_result"
    }
   ],
   "source": [
    "df1.set_index(rng,inplace=True)\n",
    "df1.head(5)"
   ]
  },
  {
   "cell_type": "code",
   "execution_count": 31,
   "metadata": {},
   "outputs": [
    {
     "data": {
      "text/plain": [
       "1410.555698857143"
      ]
     },
     "execution_count": 31,
     "metadata": {},
     "output_type": "execute_result"
    }
   ],
   "source": [
    "## Average Amazon price between 4/1/18 - 4/10/18\n",
    "df1[\"2018-04-01\":\"2018-04-10\"].Close.mean() "
   ]
  },
  {
   "cell_type": "markdown",
   "metadata": {},
   "source": [
    "<br>\n",
    "**Add weekends to the list**<br> - The price would be the same as the previous business day's closing price"
   ]
  },
  {
   "cell_type": "code",
   "execution_count": 23,
   "metadata": {},
   "outputs": [
    {
     "data": {
      "text/html": [
       "<div>\n",
       "<style scoped>\n",
       "    .dataframe tbody tr th:only-of-type {\n",
       "        vertical-align: middle;\n",
       "    }\n",
       "\n",
       "    .dataframe tbody tr th {\n",
       "        vertical-align: top;\n",
       "    }\n",
       "\n",
       "    .dataframe thead th {\n",
       "        text-align: right;\n",
       "    }\n",
       "</style>\n",
       "<table border=\"1\" class=\"dataframe\">\n",
       "  <thead>\n",
       "    <tr style=\"text-align: right;\">\n",
       "      <th></th>\n",
       "      <th>Open</th>\n",
       "      <th>High</th>\n",
       "      <th>Low</th>\n",
       "      <th>Close</th>\n",
       "      <th>Adj Close</th>\n",
       "      <th>Volume</th>\n",
       "    </tr>\n",
       "  </thead>\n",
       "  <tbody>\n",
       "    <tr>\n",
       "      <th>2018-04-02</th>\n",
       "      <td>1417.619995</td>\n",
       "      <td>1421.359985</td>\n",
       "      <td>1355.000000</td>\n",
       "      <td>1371.989990</td>\n",
       "      <td>1371.989990</td>\n",
       "      <td>10463600</td>\n",
       "    </tr>\n",
       "    <tr>\n",
       "      <th>2018-04-03</th>\n",
       "      <td>1391.380005</td>\n",
       "      <td>1414.000000</td>\n",
       "      <td>1355.329956</td>\n",
       "      <td>1392.050049</td>\n",
       "      <td>1392.050049</td>\n",
       "      <td>10231200</td>\n",
       "    </tr>\n",
       "    <tr>\n",
       "      <th>2018-04-04</th>\n",
       "      <td>1358.239990</td>\n",
       "      <td>1415.390015</td>\n",
       "      <td>1352.880005</td>\n",
       "      <td>1410.569946</td>\n",
       "      <td>1410.569946</td>\n",
       "      <td>6982300</td>\n",
       "    </tr>\n",
       "    <tr>\n",
       "      <th>2018-04-05</th>\n",
       "      <td>1441.989990</td>\n",
       "      <td>1459.560059</td>\n",
       "      <td>1427.069946</td>\n",
       "      <td>1451.750000</td>\n",
       "      <td>1451.750000</td>\n",
       "      <td>6413500</td>\n",
       "    </tr>\n",
       "    <tr>\n",
       "      <th>2018-04-06</th>\n",
       "      <td>1429.969971</td>\n",
       "      <td>1452.500000</td>\n",
       "      <td>1400.260010</td>\n",
       "      <td>1405.229980</td>\n",
       "      <td>1405.229980</td>\n",
       "      <td>5882300</td>\n",
       "    </tr>\n",
       "  </tbody>\n",
       "</table>\n",
       "</div>"
      ],
      "text/plain": [
       "                   Open         High          Low        Close    Adj Close  \\\n",
       "2018-04-02  1417.619995  1421.359985  1355.000000  1371.989990  1371.989990   \n",
       "2018-04-03  1391.380005  1414.000000  1355.329956  1392.050049  1392.050049   \n",
       "2018-04-04  1358.239990  1415.390015  1352.880005  1410.569946  1410.569946   \n",
       "2018-04-05  1441.989990  1459.560059  1427.069946  1451.750000  1451.750000   \n",
       "2018-04-06  1429.969971  1452.500000  1400.260010  1405.229980  1405.229980   \n",
       "\n",
       "              Volume  \n",
       "2018-04-02  10463600  \n",
       "2018-04-03  10231200  \n",
       "2018-04-04   6982300  \n",
       "2018-04-05   6413500  \n",
       "2018-04-06   5882300  "
      ]
     },
     "execution_count": 23,
     "metadata": {},
     "output_type": "execute_result"
    }
   ],
   "source": [
    "df1.asfreq('D', method='pad').head()"
   ]
  },
  {
   "cell_type": "markdown",
   "metadata": {},
   "source": [
    "<br>\n",
    "**View stock data by weekly**<br> - 4/1/18 is Sunday (non-business day), the weekly date starts at 4/8/18"
   ]
  },
  {
   "cell_type": "code",
   "execution_count": 33,
   "metadata": {},
   "outputs": [
    {
     "data": {
      "text/html": [
       "<div>\n",
       "<style scoped>\n",
       "    .dataframe tbody tr th:only-of-type {\n",
       "        vertical-align: middle;\n",
       "    }\n",
       "\n",
       "    .dataframe tbody tr th {\n",
       "        vertical-align: top;\n",
       "    }\n",
       "\n",
       "    .dataframe thead th {\n",
       "        text-align: right;\n",
       "    }\n",
       "</style>\n",
       "<table border=\"1\" class=\"dataframe\">\n",
       "  <thead>\n",
       "    <tr style=\"text-align: right;\">\n",
       "      <th></th>\n",
       "      <th>Open</th>\n",
       "      <th>High</th>\n",
       "      <th>Low</th>\n",
       "      <th>Close</th>\n",
       "      <th>Adj Close</th>\n",
       "      <th>Volume</th>\n",
       "    </tr>\n",
       "  </thead>\n",
       "  <tbody>\n",
       "    <tr>\n",
       "      <th>2018-04-08</th>\n",
       "      <td>1429.969971</td>\n",
       "      <td>1452.500000</td>\n",
       "      <td>1400.260010</td>\n",
       "      <td>1405.229980</td>\n",
       "      <td>1405.229980</td>\n",
       "      <td>5882300</td>\n",
       "    </tr>\n",
       "    <tr>\n",
       "      <th>2018-04-15</th>\n",
       "      <td>1449.140015</td>\n",
       "      <td>1459.780029</td>\n",
       "      <td>1424.520020</td>\n",
       "      <td>1430.790039</td>\n",
       "      <td>1430.790039</td>\n",
       "      <td>3685300</td>\n",
       "    </tr>\n",
       "    <tr>\n",
       "      <th>2018-04-22</th>\n",
       "      <td>1561.199951</td>\n",
       "      <td>1561.199951</td>\n",
       "      <td>1516.089966</td>\n",
       "      <td>1527.489990</td>\n",
       "      <td>1527.489990</td>\n",
       "      <td>5541600</td>\n",
       "    </tr>\n",
       "    <tr>\n",
       "      <th>2018-04-29</th>\n",
       "      <td>1634.010010</td>\n",
       "      <td>1638.099976</td>\n",
       "      <td>1567.390015</td>\n",
       "      <td>1572.619995</td>\n",
       "      <td>1572.619995</td>\n",
       "      <td>13053200</td>\n",
       "    </tr>\n",
       "  </tbody>\n",
       "</table>\n",
       "</div>"
      ],
      "text/plain": [
       "                   Open         High          Low        Close    Adj Close  \\\n",
       "2018-04-08  1429.969971  1452.500000  1400.260010  1405.229980  1405.229980   \n",
       "2018-04-15  1449.140015  1459.780029  1424.520020  1430.790039  1430.790039   \n",
       "2018-04-22  1561.199951  1561.199951  1516.089966  1527.489990  1527.489990   \n",
       "2018-04-29  1634.010010  1638.099976  1567.390015  1572.619995  1572.619995   \n",
       "\n",
       "              Volume  \n",
       "2018-04-08   5882300  \n",
       "2018-04-15   3685300  \n",
       "2018-04-22   5541600  \n",
       "2018-04-29  13053200  "
      ]
     },
     "execution_count": 33,
     "metadata": {},
     "output_type": "execute_result"
    }
   ],
   "source": [
    "df1.asfreq('W', method='pad')"
   ]
  },
  {
   "cell_type": "markdown",
   "metadata": {},
   "source": [
    "<br>\n",
    "** Mock Data - Generating Dates and Random Data for Testing**\n",
    "    - Set the date frequency to 'B' for business days\n",
    "    - Import numpy to generate random numbers\n",
    "    - Set the index to match the random numbers"
   ]
  },
  {
   "cell_type": "markdown",
   "metadata": {},
   "source": [
    "<br>\n",
    "**Generating business days**<br> - Generate 30 business days starting from 8/15/2018"
   ]
  },
  {
   "cell_type": "code",
   "execution_count": 25,
   "metadata": {},
   "outputs": [
    {
     "data": {
      "text/plain": [
       "DatetimeIndex(['2018-08-15', '2018-08-16', '2018-08-17', '2018-08-20',\n",
       "               '2018-08-21', '2018-08-22', '2018-08-23', '2018-08-24',\n",
       "               '2018-08-27', '2018-08-28', '2018-08-29', '2018-08-30',\n",
       "               '2018-08-31', '2018-09-03', '2018-09-04', '2018-09-05',\n",
       "               '2018-09-06', '2018-09-07', '2018-09-10', '2018-09-11',\n",
       "               '2018-09-12', '2018-09-13', '2018-09-14', '2018-09-17',\n",
       "               '2018-09-18', '2018-09-19', '2018-09-20', '2018-09-21',\n",
       "               '2018-09-24', '2018-09-25'],\n",
       "              dtype='datetime64[ns]', freq='B')"
      ]
     },
     "execution_count": 25,
     "metadata": {},
     "output_type": "execute_result"
    }
   ],
   "source": [
    "rng = pd.date_range(start='8/15/2018', periods=30, freq='B')\n",
    "rng"
   ]
  },
  {
   "cell_type": "markdown",
   "metadata": {},
   "source": [
    "<br>\n",
    "**Import numpy to generate random numbers**<br> - Generate random numbers between 1 to 20 for the length of 30 days"
   ]
  },
  {
   "cell_type": "code",
   "execution_count": 26,
   "metadata": {},
   "outputs": [
    {
     "data": {
      "text/plain": [
       "array([ 7, 14,  7,  2, 16,  9, 12,  5, 15,  8,  3, 18,  5,  5,  9,  8, 10,\n",
       "        8, 13, 15, 12, 12, 19,  4, 18, 12, 15,  8, 16, 13])"
      ]
     },
     "execution_count": 26,
     "metadata": {},
     "output_type": "execute_result"
    }
   ],
   "source": [
    "import numpy as np\n",
    "np.random.randint(1,20,len(rng))"
   ]
  },
  {
   "cell_type": "markdown",
   "metadata": {},
   "source": [
    "<br>\n",
    "**Set index to match the random numbers**"
   ]
  },
  {
   "cell_type": "code",
   "execution_count": 39,
   "metadata": {},
   "outputs": [
    {
     "data": {
      "text/plain": [
       "2018-07-02    10\n",
       "2018-07-03     3\n",
       "2018-07-04    16\n",
       "2018-07-05     2\n",
       "2018-07-06    12\n",
       "Freq: B, dtype: int32"
      ]
     },
     "execution_count": 39,
     "metadata": {},
     "output_type": "execute_result"
    }
   ],
   "source": [
    "ts = pd.Series(np.random.randint(1,20,len(rng)), index=rng)\n",
    "ts.head()"
   ]
  }
 ],
 "metadata": {
  "kernelspec": {
   "display_name": "Python 3",
   "language": "python",
   "name": "python3"
  },
  "language_info": {
   "codemirror_mode": {
    "name": "ipython",
    "version": 3
   },
   "file_extension": ".py",
   "mimetype": "text/x-python",
   "name": "python",
   "nbconvert_exporter": "python",
   "pygments_lexer": "ipython3",
   "version": "3.6.3"
  }
 },
 "nbformat": 4,
 "nbformat_minor": 2
}
