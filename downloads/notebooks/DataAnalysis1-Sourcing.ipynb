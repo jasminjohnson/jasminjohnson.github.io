{
 "cells": [
  {
   "cell_type": "code",
   "execution_count": 1,
   "metadata": {},
   "outputs": [
    {
     "data": {
      "text/html": [
       "<style>.container { width:100% !important; }</style>"
      ],
      "text/plain": [
       "<IPython.core.display.HTML object>"
      ]
     },
     "metadata": {},
     "output_type": "display_data"
    }
   ],
   "source": [
    "from IPython.core.interactiveshell import InteractiveShell\n",
    "InteractiveShell.ast_node_interactivity = \"all\"\n",
    "\n",
    "from IPython.core.display import display, HTML\n",
    "display(HTML(\"<style>.container { width:100% !important; }</style>\"))\n",
    "%matplotlib inline \n",
    "import matplotlib.pyplot as plt\n",
    "import pandas as pd"
   ]
  },
  {
   "cell_type": "code",
   "execution_count": 2,
   "metadata": {},
   "outputs": [
    {
     "name": "stdout",
     "output_type": "stream",
     "text": [
      "/c/data/jasmin/jasminblog/content/downloads/notebooks\n"
     ]
    }
   ],
   "source": [
    "!pwd"
   ]
  },
  {
   "cell_type": "markdown",
   "metadata": {},
   "source": [
    "# Data Analysis With Python I - Importing Data"
   ]
  },
  {
   "cell_type": "markdown",
   "metadata": {},
   "source": [
    "<!-- PELICAN_BEGIN_SUMMARY -->\n",
    "Goal: Use Python to load data into a dataframe and get basic statistics.\n",
    "<!-- PELICAN_END_SUMMARY -->"
   ]
  },
  {
   "cell_type": "markdown",
   "metadata": {},
   "source": [
    "Specifically, I plan to use Python to:\n",
    "    - Import an Excel dataset with 1k rows and 132 columns into a dataframe,\n",
    "    - Get preliminary dataframe statistics: sum, mean, min/max \n",
    "    - Visualize the dataframe as a time series graph\n",
    "The 2 sample data files I will use are:\n",
    "    - \"2015 USA Census Data\" from gov.org (data/analysis1/sample.xlsx)\n",
    "    - \"Historical daily price data for 9 stocks from 2010-2011\" (data/analysis1/Stock_px.xlsx)    "
   ]
  },
  {
   "cell_type": "markdown",
   "metadata": {},
   "source": [
    "**First Example - 2015 USA Census Data in Excel**<br>- Python Pandas to Read Excel Files"
   ]
  },
  {
   "cell_type": "code",
   "execution_count": 2,
   "metadata": {},
   "outputs": [
    {
     "data": {
      "text/html": [
       "<div>\n",
       "<style scoped>\n",
       "    .dataframe tbody tr th:only-of-type {\n",
       "        vertical-align: middle;\n",
       "    }\n",
       "\n",
       "    .dataframe tbody tr th {\n",
       "        vertical-align: top;\n",
       "    }\n",
       "\n",
       "    .dataframe thead th {\n",
       "        text-align: right;\n",
       "    }\n",
       "</style>\n",
       "<table border=\"1\" class=\"dataframe\">\n",
       "  <thead>\n",
       "    <tr style=\"text-align: right;\">\n",
       "      <th></th>\n",
       "      <th>STATEFIPS</th>\n",
       "      <th>STATE</th>\n",
       "      <th>zipcode</th>\n",
       "      <th>agi_stub</th>\n",
       "      <th>income1</th>\n",
       "      <th>income2</th>\n",
       "      <th>income3</th>\n",
       "      <th>income4</th>\n",
       "      <th>income5</th>\n",
       "      <th>income6</th>\n",
       "      <th>...</th>\n",
       "      <th>A10300</th>\n",
       "      <th>N85530</th>\n",
       "      <th>A85530</th>\n",
       "      <th>N85300</th>\n",
       "      <th>A85300</th>\n",
       "      <th>N11901</th>\n",
       "      <th>A11901</th>\n",
       "      <th>N11902</th>\n",
       "      <th>A11902</th>\n",
       "      <th>total</th>\n",
       "    </tr>\n",
       "  </thead>\n",
       "  <tbody>\n",
       "    <tr>\n",
       "      <th>0</th>\n",
       "      <td>1</td>\n",
       "      <td>New Hampshere</td>\n",
       "      <td>0</td>\n",
       "      <td>1</td>\n",
       "      <td>836320</td>\n",
       "      <td>481570</td>\n",
       "      <td>109790</td>\n",
       "      <td>233260</td>\n",
       "      <td>455560</td>\n",
       "      <td>1356760</td>\n",
       "      <td>...</td>\n",
       "      <td>328469</td>\n",
       "      <td>0</td>\n",
       "      <td>0</td>\n",
       "      <td>0</td>\n",
       "      <td>0</td>\n",
       "      <td>61920</td>\n",
       "      <td>48150</td>\n",
       "      <td>732670</td>\n",
       "      <td>1933120</td>\n",
       "      <td>1427680</td>\n",
       "    </tr>\n",
       "    <tr>\n",
       "      <th>1</th>\n",
       "      <td>1</td>\n",
       "      <td>New Yok</td>\n",
       "      <td>0</td>\n",
       "      <td>2</td>\n",
       "      <td>494830</td>\n",
       "      <td>206630</td>\n",
       "      <td>146250</td>\n",
       "      <td>129390</td>\n",
       "      <td>275920</td>\n",
       "      <td>1010990</td>\n",
       "      <td>...</td>\n",
       "      <td>965011</td>\n",
       "      <td>0</td>\n",
       "      <td>0</td>\n",
       "      <td>0</td>\n",
       "      <td>0</td>\n",
       "      <td>73720</td>\n",
       "      <td>107304</td>\n",
       "      <td>415410</td>\n",
       "      <td>1187403</td>\n",
       "      <td>847710</td>\n",
       "    </tr>\n",
       "    <tr>\n",
       "      <th>2</th>\n",
       "      <td>1</td>\n",
       "      <td>Floria</td>\n",
       "      <td>0</td>\n",
       "      <td>3</td>\n",
       "      <td>261250</td>\n",
       "      <td>80720</td>\n",
       "      <td>139280</td>\n",
       "      <td>36130</td>\n",
       "      <td>155100</td>\n",
       "      <td>583910</td>\n",
       "      <td>...</td>\n",
       "      <td>1333418</td>\n",
       "      <td>0</td>\n",
       "      <td>0</td>\n",
       "      <td>0</td>\n",
       "      <td>0</td>\n",
       "      <td>64200</td>\n",
       "      <td>139598</td>\n",
       "      <td>193030</td>\n",
       "      <td>536699</td>\n",
       "      <td>481250</td>\n",
       "    </tr>\n",
       "  </tbody>\n",
       "</table>\n",
       "<p>3 rows × 132 columns</p>\n",
       "</div>"
      ],
      "text/plain": [
       "   STATEFIPS          STATE zipcode  agi_stub  income1  income2  income3  \\\n",
       "0          1  New Hampshere       0         1   836320   481570   109790   \n",
       "1          1        New Yok       0         2   494830   206630   146250   \n",
       "2          1         Floria       0         3   261250    80720   139280   \n",
       "\n",
       "   income4  income5  income6   ...      A10300  N85530  A85530  N85300  \\\n",
       "0   233260   455560  1356760   ...      328469       0       0       0   \n",
       "1   129390   275920  1010990   ...      965011       0       0       0   \n",
       "2    36130   155100   583910   ...     1333418       0       0       0   \n",
       "\n",
       "   A85300  N11901  A11901  N11902   A11902    total  \n",
       "0       0   61920   48150  732670  1933120  1427680  \n",
       "1       0   73720  107304  415410  1187403   847710  \n",
       "2       0   64200  139598  193030   536699   481250  \n",
       "\n",
       "[3 rows x 132 columns]"
      ]
     },
     "execution_count": 2,
     "metadata": {},
     "output_type": "execute_result"
    },
    {
     "data": {
      "text/plain": [
       "(101, 132)"
      ]
     },
     "execution_count": 2,
     "metadata": {},
     "output_type": "execute_result"
    }
   ],
   "source": [
    "## Import pandas to read Excel, head(3) to show the first 3 rows only, shape to show how many rows/columns\n",
    "df = pd.read_excel('data/analysis1/sample.xlsx')\n",
    "df.head(3)\n",
    "df.shape"
   ]
  },
  {
   "cell_type": "markdown",
   "metadata": {},
   "source": [
    "<br>\n",
    "**Two Commands in Python Pandas to Read Excel Files**\n",
    "    - pd = pd.read_excel(\"data/sample.xlsx\") or\n",
    "    - pd = pd.ExcelFile(\"data/sample.xlsx\")\n",
    "    - Both commands can read Excel file\n",
    "    - Use Pandas Timeit to time how long does it take to run the reports\n",
    "    - In general, the ExcelFile command will be faster"
   ]
  },
  {
   "cell_type": "code",
   "execution_count": 5,
   "metadata": {},
   "outputs": [
    {
     "name": "stdout",
     "output_type": "stream",
     "text": [
      "pd.ExcelFile: time=\n",
      "67.2 ms ± 1.45 ms per loop (mean ± std. dev. of 7 runs, 10 loops each)\n",
      "pd.read_excel: time=\n",
      "86.5 ms ± 3.27 ms per loop (mean ± std. dev. of 7 runs, 10 loops each)\n"
     ]
    }
   ],
   "source": [
    "def test_excelfile():\n",
    "    df = pd.ExcelFile(\"data/analysis1/sample.xlsx\")  # this code is faster...use panda timeit library to compare \n",
    "    \n",
    "def test_read_excel():\n",
    "    df = pd.read_excel(\"data/analysis1/sample.xlsx\")\n",
    "\n",
    "print(\"pd.ExcelFile: time=\")\n",
    "%timeit test_excelfile()\n",
    "    \n",
    "print(\"pd.read_excel: time=\")\n",
    "%timeit test_read_excel()\n"
   ]
  },
  {
   "cell_type": "markdown",
   "metadata": {},
   "source": [
    "<br>\n",
    "**How to filter data in Python instead of in Excel?**\n",
    "    - The following example filters and count (\"shape\") the dataframe for zipcode 35005\n",
    "    - This approach can easily scale to more complicated datasets, and provides results using Python pandas dataframe"
   ]
  },
  {
   "cell_type": "code",
   "execution_count": 7,
   "metadata": {},
   "outputs": [
    {
     "data": {
      "text/html": [
       "<div>\n",
       "<style scoped>\n",
       "    .dataframe tbody tr th:only-of-type {\n",
       "        vertical-align: middle;\n",
       "    }\n",
       "\n",
       "    .dataframe tbody tr th {\n",
       "        vertical-align: top;\n",
       "    }\n",
       "\n",
       "    .dataframe thead th {\n",
       "        text-align: right;\n",
       "    }\n",
       "</style>\n",
       "<table border=\"1\" class=\"dataframe\">\n",
       "  <thead>\n",
       "    <tr style=\"text-align: right;\">\n",
       "      <th></th>\n",
       "      <th>STATEFIPS</th>\n",
       "      <th>STATE</th>\n",
       "      <th>zipcode</th>\n",
       "      <th>agi_stub</th>\n",
       "      <th>income1</th>\n",
       "      <th>income2</th>\n",
       "      <th>income3</th>\n",
       "      <th>income4</th>\n",
       "      <th>income5</th>\n",
       "      <th>income6</th>\n",
       "      <th>...</th>\n",
       "      <th>A10300</th>\n",
       "      <th>N85530</th>\n",
       "      <th>A85530</th>\n",
       "      <th>N85300</th>\n",
       "      <th>A85300</th>\n",
       "      <th>N11901</th>\n",
       "      <th>A11901</th>\n",
       "      <th>N11902</th>\n",
       "      <th>A11902</th>\n",
       "      <th>total</th>\n",
       "    </tr>\n",
       "  </thead>\n",
       "  <tbody>\n",
       "    <tr>\n",
       "      <th>12</th>\n",
       "      <td>1</td>\n",
       "      <td>VERMONT</td>\n",
       "      <td>35005</td>\n",
       "      <td>1</td>\n",
       "      <td>1350</td>\n",
       "      <td>750</td>\n",
       "      <td>190</td>\n",
       "      <td>390</td>\n",
       "      <td>730</td>\n",
       "      <td>2300</td>\n",
       "      <td>...</td>\n",
       "      <td>545</td>\n",
       "      <td>0</td>\n",
       "      <td>0</td>\n",
       "      <td>0</td>\n",
       "      <td>0</td>\n",
       "      <td>100</td>\n",
       "      <td>74</td>\n",
       "      <td>1200</td>\n",
       "      <td>3243</td>\n",
       "      <td>2290</td>\n",
       "    </tr>\n",
       "    <tr>\n",
       "      <th>13</th>\n",
       "      <td>1</td>\n",
       "      <td>New Hampshere</td>\n",
       "      <td>35005</td>\n",
       "      <td>2</td>\n",
       "      <td>980</td>\n",
       "      <td>370</td>\n",
       "      <td>230</td>\n",
       "      <td>350</td>\n",
       "      <td>530</td>\n",
       "      <td>1970</td>\n",
       "      <td>...</td>\n",
       "      <td>1679</td>\n",
       "      <td>0</td>\n",
       "      <td>0</td>\n",
       "      <td>0</td>\n",
       "      <td>0</td>\n",
       "      <td>100</td>\n",
       "      <td>116</td>\n",
       "      <td>880</td>\n",
       "      <td>2501</td>\n",
       "      <td>1580</td>\n",
       "    </tr>\n",
       "    <tr>\n",
       "      <th>14</th>\n",
       "      <td>1</td>\n",
       "      <td>New Yok</td>\n",
       "      <td>35005</td>\n",
       "      <td>3</td>\n",
       "      <td>490</td>\n",
       "      <td>150</td>\n",
       "      <td>210</td>\n",
       "      <td>120</td>\n",
       "      <td>290</td>\n",
       "      <td>1070</td>\n",
       "      <td>...</td>\n",
       "      <td>2373</td>\n",
       "      <td>0</td>\n",
       "      <td>0</td>\n",
       "      <td>0</td>\n",
       "      <td>0</td>\n",
       "      <td>100</td>\n",
       "      <td>226</td>\n",
       "      <td>390</td>\n",
       "      <td>1136</td>\n",
       "      <td>850</td>\n",
       "    </tr>\n",
       "  </tbody>\n",
       "</table>\n",
       "<p>3 rows × 132 columns</p>\n",
       "</div>"
      ],
      "text/plain": [
       "    STATEFIPS          STATE zipcode  agi_stub  income1  income2  income3  \\\n",
       "12          1        VERMONT   35005         1     1350      750      190   \n",
       "13          1  New Hampshere   35005         2      980      370      230   \n",
       "14          1        New Yok   35005         3      490      150      210   \n",
       "\n",
       "    income4  income5  income6  ...    A10300  N85530  A85530  N85300  A85300  \\\n",
       "12      390      730     2300  ...       545       0       0       0       0   \n",
       "13      350      530     1970  ...      1679       0       0       0       0   \n",
       "14      120      290     1070  ...      2373       0       0       0       0   \n",
       "\n",
       "    N11901  A11901  N11902  A11902  total  \n",
       "12     100      74    1200    3243   2290  \n",
       "13     100     116     880    2501   1580  \n",
       "14     100     226     390    1136    850  \n",
       "\n",
       "[3 rows x 132 columns]"
      ]
     },
     "execution_count": 7,
     "metadata": {},
     "output_type": "execute_result"
    },
    {
     "data": {
      "text/plain": [
       "(6, 132)"
      ]
     },
     "execution_count": 7,
     "metadata": {},
     "output_type": "execute_result"
    }
   ],
   "source": [
    "df_filtered=df[df[\"zipcode\"]==35005]\n",
    "\n",
    "df_filtered.head(3)\n",
    "df_filtered.shape"
   ]
  },
  {
   "cell_type": "markdown",
   "metadata": {},
   "source": [
    "<br>\n",
    "**Second Example - 9 stocks historical price from 2010-2011**<br>- Import pandas and read the Excel file (specified the directory)      "
   ]
  },
  {
   "cell_type": "code",
   "execution_count": 8,
   "metadata": {},
   "outputs": [
    {
     "data": {
      "text/html": [
       "<div>\n",
       "<style scoped>\n",
       "    .dataframe tbody tr th:only-of-type {\n",
       "        vertical-align: middle;\n",
       "    }\n",
       "\n",
       "    .dataframe tbody tr th {\n",
       "        vertical-align: top;\n",
       "    }\n",
       "\n",
       "    .dataframe thead th {\n",
       "        text-align: right;\n",
       "    }\n",
       "</style>\n",
       "<table border=\"1\" class=\"dataframe\">\n",
       "  <thead>\n",
       "    <tr style=\"text-align: right;\">\n",
       "      <th></th>\n",
       "      <th>DATE</th>\n",
       "      <th>AA</th>\n",
       "      <th>AAPL</th>\n",
       "      <th>GE</th>\n",
       "      <th>IBM</th>\n",
       "      <th>JNJ</th>\n",
       "      <th>MSFT</th>\n",
       "      <th>PEP</th>\n",
       "      <th>SPX</th>\n",
       "      <th>XOM</th>\n",
       "      <th>Broker</th>\n",
       "    </tr>\n",
       "  </thead>\n",
       "  <tbody>\n",
       "    <tr>\n",
       "      <th>0</th>\n",
       "      <td>2010-01-04</td>\n",
       "      <td>16.40</td>\n",
       "      <td>214.01</td>\n",
       "      <td>14.66</td>\n",
       "      <td>128.32</td>\n",
       "      <td>60.84</td>\n",
       "      <td>29.76</td>\n",
       "      <td>58.10</td>\n",
       "      <td>1132.99</td>\n",
       "      <td>66.16</td>\n",
       "      <td>XYZ Inc.</td>\n",
       "    </tr>\n",
       "    <tr>\n",
       "      <th>1</th>\n",
       "      <td>2010-01-05</td>\n",
       "      <td>15.89</td>\n",
       "      <td>214.38</td>\n",
       "      <td>14.74</td>\n",
       "      <td>126.77</td>\n",
       "      <td>60.14</td>\n",
       "      <td>29.77</td>\n",
       "      <td>58.80</td>\n",
       "      <td>1136.52</td>\n",
       "      <td>66.42</td>\n",
       "      <td>Fidelity</td>\n",
       "    </tr>\n",
       "    <tr>\n",
       "      <th>2</th>\n",
       "      <td>2010-01-06</td>\n",
       "      <td>16.72</td>\n",
       "      <td>210.97</td>\n",
       "      <td>14.66</td>\n",
       "      <td>125.94</td>\n",
       "      <td>60.63</td>\n",
       "      <td>29.58</td>\n",
       "      <td>58.21</td>\n",
       "      <td>1137.14</td>\n",
       "      <td>66.99</td>\n",
       "      <td>TD Bank</td>\n",
       "    </tr>\n",
       "  </tbody>\n",
       "</table>\n",
       "</div>"
      ],
      "text/plain": [
       "        DATE     AA    AAPL     GE     IBM    JNJ   MSFT    PEP      SPX  \\\n",
       "0 2010-01-04  16.40  214.01  14.66  128.32  60.84  29.76  58.10  1132.99   \n",
       "1 2010-01-05  15.89  214.38  14.74  126.77  60.14  29.77  58.80  1136.52   \n",
       "2 2010-01-06  16.72  210.97  14.66  125.94  60.63  29.58  58.21  1137.14   \n",
       "\n",
       "     XOM    Broker  \n",
       "0  66.16  XYZ Inc.  \n",
       "1  66.42  Fidelity  \n",
       "2  66.99   TD Bank  "
      ]
     },
     "execution_count": 8,
     "metadata": {},
     "output_type": "execute_result"
    },
    {
     "data": {
      "text/plain": [
       "(451, 11)"
      ]
     },
     "execution_count": 8,
     "metadata": {},
     "output_type": "execute_result"
    }
   ],
   "source": [
    "df_stock = pd.read_excel('data/analysis1/Stock_px.xlsx')\n",
    "df_stock.head(3)\n",
    "df_stock.shape"
   ]
  },
  {
   "cell_type": "markdown",
   "metadata": {},
   "source": [
    "<br>\n",
    "**Insert a new column that is the sum of 3 existing columns**"
   ]
  },
  {
   "cell_type": "code",
   "execution_count": 9,
   "metadata": {},
   "outputs": [
    {
     "data": {
      "text/html": [
       "<div>\n",
       "<style scoped>\n",
       "    .dataframe tbody tr th:only-of-type {\n",
       "        vertical-align: middle;\n",
       "    }\n",
       "\n",
       "    .dataframe tbody tr th {\n",
       "        vertical-align: top;\n",
       "    }\n",
       "\n",
       "    .dataframe thead th {\n",
       "        text-align: right;\n",
       "    }\n",
       "</style>\n",
       "<table border=\"1\" class=\"dataframe\">\n",
       "  <thead>\n",
       "    <tr style=\"text-align: right;\">\n",
       "      <th></th>\n",
       "      <th>DATE</th>\n",
       "      <th>AA</th>\n",
       "      <th>AAPL</th>\n",
       "      <th>GE</th>\n",
       "      <th>IBM</th>\n",
       "      <th>JNJ</th>\n",
       "      <th>MSFT</th>\n",
       "      <th>PEP</th>\n",
       "      <th>SPX</th>\n",
       "      <th>XOM</th>\n",
       "      <th>Broker</th>\n",
       "      <th>total</th>\n",
       "    </tr>\n",
       "  </thead>\n",
       "  <tbody>\n",
       "    <tr>\n",
       "      <th>448</th>\n",
       "      <td>2011-10-12</td>\n",
       "      <td>10.05</td>\n",
       "      <td>402.19</td>\n",
       "      <td>16.40</td>\n",
       "      <td>186.12</td>\n",
       "      <td>64.33</td>\n",
       "      <td>26.96</td>\n",
       "      <td>62.70</td>\n",
       "      <td>1207.25</td>\n",
       "      <td>77.16</td>\n",
       "      <td>XYZ Inc.</td>\n",
       "      <td>428.64</td>\n",
       "    </tr>\n",
       "    <tr>\n",
       "      <th>449</th>\n",
       "      <td>2011-10-13</td>\n",
       "      <td>10.10</td>\n",
       "      <td>408.43</td>\n",
       "      <td>16.22</td>\n",
       "      <td>186.82</td>\n",
       "      <td>64.23</td>\n",
       "      <td>27.18</td>\n",
       "      <td>62.36</td>\n",
       "      <td>1203.66</td>\n",
       "      <td>76.37</td>\n",
       "      <td>Fidelity</td>\n",
       "      <td>434.75</td>\n",
       "    </tr>\n",
       "    <tr>\n",
       "      <th>450</th>\n",
       "      <td>2011-10-14</td>\n",
       "      <td>10.26</td>\n",
       "      <td>422.00</td>\n",
       "      <td>16.60</td>\n",
       "      <td>190.53</td>\n",
       "      <td>64.72</td>\n",
       "      <td>27.27</td>\n",
       "      <td>62.24</td>\n",
       "      <td>1224.58</td>\n",
       "      <td>78.11</td>\n",
       "      <td>TD Bank</td>\n",
       "      <td>448.86</td>\n",
       "    </tr>\n",
       "  </tbody>\n",
       "</table>\n",
       "</div>"
      ],
      "text/plain": [
       "          DATE     AA    AAPL     GE     IBM    JNJ   MSFT    PEP      SPX  \\\n",
       "448 2011-10-12  10.05  402.19  16.40  186.12  64.33  26.96  62.70  1207.25   \n",
       "449 2011-10-13  10.10  408.43  16.22  186.82  64.23  27.18  62.36  1203.66   \n",
       "450 2011-10-14  10.26  422.00  16.60  190.53  64.72  27.27  62.24  1224.58   \n",
       "\n",
       "       XOM    Broker   total  \n",
       "448  77.16  XYZ Inc.  428.64  \n",
       "449  76.37  Fidelity  434.75  \n",
       "450  78.11   TD Bank  448.86  "
      ]
     },
     "execution_count": 9,
     "metadata": {},
     "output_type": "execute_result"
    }
   ],
   "source": [
    "## Show the last 3 rows of data\n",
    "df_stock[\"total\"] = df_stock[\"AA\"] + df_stock[\"AAPL\"] + df_stock[\"GE\"]\n",
    "df_stock.tail(3)"
   ]
  },
  {
   "cell_type": "code",
   "execution_count": 7,
   "metadata": {},
   "outputs": [
    {
     "data": {
      "text/plain": [
       "(95433.239999999991, 17.44028508771932, 4.2000000000000002, 43.619999999999997)"
      ]
     },
     "execution_count": 7,
     "metadata": {},
     "output_type": "execute_result"
    }
   ],
   "source": [
    "## Now get the sum / mean / min / max for stock AA\n",
    "df_stock[\"AA\"].sum(), df_stock[\"AA\"].mean(),df_stock[\"AA\"].min(),df_stock[\"AA\"].max()"
   ]
  },
  {
   "cell_type": "markdown",
   "metadata": {},
   "source": [
    "<br>\n",
    "**Pandas Time Series Analysis: DatetimeIndex and Resample**\n",
    "    - Change column DATE type from string to timeseries (see Pandas TimeSeries blog)\n",
    "    - Set column \"DATE\" as index"
   ]
  },
  {
   "cell_type": "code",
   "execution_count": 10,
   "metadata": {},
   "outputs": [
    {
     "data": {
      "text/plain": [
       "pandas._libs.tslib.Timestamp"
      ]
     },
     "execution_count": 10,
     "metadata": {},
     "output_type": "execute_result"
    }
   ],
   "source": [
    "## Check the data type\n",
    "type(df_stock.DATE[0])\n",
    "\n",
    "## the type is a timestamp"
   ]
  },
  {
   "cell_type": "code",
   "execution_count": 11,
   "metadata": {},
   "outputs": [
    {
     "data": {
      "text/html": [
       "<div>\n",
       "<style scoped>\n",
       "    .dataframe tbody tr th:only-of-type {\n",
       "        vertical-align: middle;\n",
       "    }\n",
       "\n",
       "    .dataframe tbody tr th {\n",
       "        vertical-align: top;\n",
       "    }\n",
       "\n",
       "    .dataframe thead th {\n",
       "        text-align: right;\n",
       "    }\n",
       "</style>\n",
       "<table border=\"1\" class=\"dataframe\">\n",
       "  <thead>\n",
       "    <tr style=\"text-align: right;\">\n",
       "      <th></th>\n",
       "      <th>AA</th>\n",
       "      <th>AAPL</th>\n",
       "      <th>GE</th>\n",
       "      <th>IBM</th>\n",
       "      <th>JNJ</th>\n",
       "      <th>MSFT</th>\n",
       "      <th>PEP</th>\n",
       "      <th>SPX</th>\n",
       "      <th>XOM</th>\n",
       "      <th>Broker</th>\n",
       "    </tr>\n",
       "    <tr>\n",
       "      <th>DATE</th>\n",
       "      <th></th>\n",
       "      <th></th>\n",
       "      <th></th>\n",
       "      <th></th>\n",
       "      <th></th>\n",
       "      <th></th>\n",
       "      <th></th>\n",
       "      <th></th>\n",
       "      <th></th>\n",
       "      <th></th>\n",
       "    </tr>\n",
       "  </thead>\n",
       "  <tbody>\n",
       "    <tr>\n",
       "      <th>2010-01-04</th>\n",
       "      <td>16.40</td>\n",
       "      <td>214.01</td>\n",
       "      <td>14.66</td>\n",
       "      <td>128.32</td>\n",
       "      <td>60.84</td>\n",
       "      <td>29.76</td>\n",
       "      <td>58.10</td>\n",
       "      <td>1132.99</td>\n",
       "      <td>66.16</td>\n",
       "      <td>XYZ Inc.</td>\n",
       "    </tr>\n",
       "    <tr>\n",
       "      <th>2010-01-05</th>\n",
       "      <td>15.89</td>\n",
       "      <td>214.38</td>\n",
       "      <td>14.74</td>\n",
       "      <td>126.77</td>\n",
       "      <td>60.14</td>\n",
       "      <td>29.77</td>\n",
       "      <td>58.80</td>\n",
       "      <td>1136.52</td>\n",
       "      <td>66.42</td>\n",
       "      <td>Fidelity</td>\n",
       "    </tr>\n",
       "    <tr>\n",
       "      <th>2010-01-06</th>\n",
       "      <td>16.72</td>\n",
       "      <td>210.97</td>\n",
       "      <td>14.66</td>\n",
       "      <td>125.94</td>\n",
       "      <td>60.63</td>\n",
       "      <td>29.58</td>\n",
       "      <td>58.21</td>\n",
       "      <td>1137.14</td>\n",
       "      <td>66.99</td>\n",
       "      <td>TD Bank</td>\n",
       "    </tr>\n",
       "  </tbody>\n",
       "</table>\n",
       "</div>"
      ],
      "text/plain": [
       "               AA    AAPL     GE     IBM    JNJ   MSFT    PEP      SPX    XOM  \\\n",
       "DATE                                                                            \n",
       "2010-01-04  16.40  214.01  14.66  128.32  60.84  29.76  58.10  1132.99  66.16   \n",
       "2010-01-05  15.89  214.38  14.74  126.77  60.14  29.77  58.80  1136.52  66.42   \n",
       "2010-01-06  16.72  210.97  14.66  125.94  60.63  29.58  58.21  1137.14  66.99   \n",
       "\n",
       "              Broker  \n",
       "DATE                  \n",
       "2010-01-04  XYZ Inc.  \n",
       "2010-01-05  Fidelity  \n",
       "2010-01-06   TD Bank  "
      ]
     },
     "execution_count": 11,
     "metadata": {},
     "output_type": "execute_result"
    }
   ],
   "source": [
    "## Reload the dataframe with the index specified as the date \n",
    "df_stock_index = pd.read_excel('data/analysis1/Stock_px.xlsx', parse_dates=[\"DATE\"], index_col=\"DATE\")\n",
    "df_stock_index.head(3)"
   ]
  },
  {
   "cell_type": "code",
   "execution_count": 12,
   "metadata": {},
   "outputs": [
    {
     "data": {
      "text/plain": [
       "<matplotlib.axes._subplots.AxesSubplot at 0x21ef974dc50>"
      ]
     },
     "execution_count": 12,
     "metadata": {},
     "output_type": "execute_result"
    },
    {
     "data": {
      "image/png": "[encoded data removed]",
      "text/plain": [
       "<matplotlib.figure.Figure at 0x21ef9637198>"
      ]
     },
     "metadata": {},
     "output_type": "display_data"
    }
   ],
   "source": [
    "## Now we use the dataframe resample method to create a line graph with multiple series\n",
    "df_stock_index.resample('D').sum().plot()"
   ]
  }
 ],
 "metadata": {
  "kernelspec": {
   "display_name": "Python 3",
   "language": "python",
   "name": "python3"
  },
  "language_info": {
   "codemirror_mode": {
    "name": "ipython",
    "version": 3
   },
   "file_extension": ".py",
   "mimetype": "text/x-python",
   "name": "python",
   "nbconvert_exporter": "python",
   "pygments_lexer": "ipython3",
   "version": "3.6.3"
  }
 },
 "nbformat": 4,
 "nbformat_minor": 2
}
