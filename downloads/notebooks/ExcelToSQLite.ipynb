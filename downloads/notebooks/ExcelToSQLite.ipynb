{
 "cells": [
  {
   "cell_type": "code",
   "execution_count": 1,
   "metadata": {},
   "outputs": [
    {
     "data": {
      "text/html": [
       "<style>.container { width:100% !important; }</style>"
      ],
      "text/plain": [
       "<IPython.core.display.HTML object>"
      ]
     },
     "metadata": {},
     "output_type": "display_data"
    }
   ],
   "source": [
    "from IPython.core.interactiveshell import InteractiveShell\n",
    "from IPython.core.display import display, HTML\n",
    "display(HTML(\"<style>.container { width:100% !important; }</style>\"))\n",
    "%matplotlib inline \n",
    "import matplotlib.pyplot as plt\n",
    "import pandas as pd\n",
    "import sqlite3"
   ]
  },
  {
   "cell_type": "code",
   "execution_count": 3,
   "metadata": {},
   "outputs": [],
   "source": [
    "#Name of Excel xlsx file. SQLite database will have the same name and extension .db\n",
    "filename=\"data/PremiumLossSQLite\" \n",
    "con=sqlite3.connect(filename+\".db\")\n",
    "wb=pd.read_excel(filename+'.xlsx',sheet_name=None)\n",
    "for sheet in wb:\n",
    "#     wb[sheet].to_sql(sheet,con, index=False)\n",
    "    wb[sheet].to_sql(sheet,con, index=False, if_exists='replace')\n",
    "    \n",
    "con.commit()\n",
    "# con.close()"
   ]
  },
  {
   "cell_type": "code",
   "execution_count": 5,
   "metadata": {},
   "outputs": [],
   "source": [
    "# now lets take a query that we think should get the inner join data between the reinsurance, premium and loss data and export the data to ??\n",
    "\n",
    "sql_statement='''\n",
    "select r.PolicyNumber as rp, p.PolicyNumber as pp, l.PolicyNumber as lp\n",
    "from reinsurance as r\n",
    "join premium as p on p.PolicyNumber=r.PolicyNumber\n",
    "join loss as l on l.PolicyNumber=r.PolicyNumber\n",
    "'''\n",
    "\n",
    "df = pd.read_sql(sql_statement,con)\n",
    "\n",
    "df.to_excel('data/reinsurace_query_results.xlsx')\n",
    "\n",
    "\n",
    "\n",
    "\n",
    "\n",
    "\n"
   ]
  }
 ],
 "metadata": {
  "kernelspec": {
   "display_name": "Python 3",
   "language": "python",
   "name": "python3"
  },
  "language_info": {
   "codemirror_mode": {
    "name": "ipython",
    "version": 3
   },
   "file_extension": ".py",
   "mimetype": "text/x-python",
   "name": "python",
   "nbconvert_exporter": "python",
   "pygments_lexer": "ipython3",
   "version": "3.6.3"
  }
 },
 "nbformat": 4,
 "nbformat_minor": 2
}
