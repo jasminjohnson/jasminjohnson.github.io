{
 "cells": [
  {
   "cell_type": "code",
   "execution_count": 5,
   "metadata": {},
   "outputs": [
    {
     "data": {
      "text/html": [
       "<style>.container { width:100% !important; }</style>"
      ],
      "text/plain": [
       "<IPython.core.display.HTML object>"
      ]
     },
     "metadata": {},
     "output_type": "display_data"
    }
   ],
   "source": [
    "from IPython.core.interactiveshell import InteractiveShell\n",
    "InteractiveShell.ast_node_interactivity = \"all\"\n",
    "\n",
    "from IPython.core.display import display, HTML\n",
    "display(HTML(\"<style>.container { width:100% !important; }</style>\"))\n",
    "%matplotlib inline\n",
    "import matplotlib.pyplot as plt\n",
    "import pandas as pd\n",
    "import numpy as np\n"
   ]
  },
  {
   "cell_type": "markdown",
   "metadata": {},
   "source": [
    "# Data Analysis with Python III - Validating Data"
   ]
  },
  {
   "cell_type": "markdown",
   "metadata": {},
   "source": [
    "<!-- PELICAN_BEGIN_SUMMARY -->\n",
    "A favorite old saying of mine with respect to data quality is \"Garbage In and Garbage Out\".\n",
    "<br>My objective here is to go through some examples for how to perform basic data validation.\n",
    "<!-- PELICAN_END_SUMMARY -->"
   ]
  },
  {
   "cell_type": "markdown",
   "metadata": {},
   "source": [
    "**Goals: How to get a clean and valid dataset?**\n",
    "- Join two or more dataframes by using a key or composite key\n",
    "- Spot invalid data by using pandas \n",
    "   - Pandas offers functionality similar to Excel Vlookup, Sumif etc.\n",
    "- Remove duplicate data\n",
    "- Calculate the average value or the maximum value of certain dataset\n",
    "\n",
    "I plan to demonstrate how to validate data using a \"dirty\" dataset.\n",
    "<br>Specifically, how to \n",
    "<br>- detect/eliminate outlier data\n",
    "<br>- detect/eliminate duplicate data\n",
    "<br>- deal with missing data\n",
    "<br>- add default values\n",
    "<br>- remove incomplete data/rows\n",
    "<br>- deal with error-prone columns\n",
    "<br>- normalize data types\n",
    "<br>- change casing\n",
    "<br>- rename columns\n",
    "<br>- make bulk corrections to string/number values where appropriate"
   ]
  }
 ],
 "metadata": {
  "kernelspec": {
   "display_name": "Python 3",
   "language": "python",
   "name": "python3"
  },
  "language_info": {
   "codemirror_mode": {
    "name": "ipython",
    "version": 3
   },
   "file_extension": ".py",
   "mimetype": "text/x-python",
   "name": "python",
   "nbconvert_exporter": "python",
   "pygments_lexer": "ipython3",
   "version": "3.6.3"
  }
 },
 "nbformat": 4,
 "nbformat_minor": 2
}
