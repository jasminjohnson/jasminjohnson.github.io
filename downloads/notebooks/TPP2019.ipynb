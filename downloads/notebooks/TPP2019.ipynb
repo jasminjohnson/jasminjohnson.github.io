{
 "cells": [
  {
   "cell_type": "code",
   "execution_count": 1,
   "metadata": {
    "slideshow": {
     "slide_type": "fragment"
    }
   },
   "outputs": [
    {
     "data": {
      "text/html": [
       "<style>.container { width:100% !important; }</style>"
      ],
      "text/plain": [
       "<IPython.core.display.HTML object>"
      ]
     },
     "metadata": {},
     "output_type": "display_data"
    }
   ],
   "source": [
    "from IPython.core.interactiveshell import InteractiveShell\n",
    "InteractiveShell.ast_node_interactivity = \"all\"\n",
    "\n",
    "from IPython.core.display import display, HTML\n",
    "display(HTML(\"<style>.container { width:100% !important; }</style>\"))\n",
    "%matplotlib inline\n",
    "import matplotlib.pyplot as plt\n",
    "import pandas as pd\n",
    "import numpy as np\n",
    "import os"
   ]
  },
  {
   "cell_type": "code",
   "execution_count": 2,
   "metadata": {},
   "outputs": [
    {
     "data": {
      "text/html": [
       "<div>\n",
       "<style scoped>\n",
       "    .dataframe tbody tr th:only-of-type {\n",
       "        vertical-align: middle;\n",
       "    }\n",
       "\n",
       "    .dataframe tbody tr th {\n",
       "        vertical-align: top;\n",
       "    }\n",
       "\n",
       "    .dataframe thead th {\n",
       "        text-align: right;\n",
       "    }\n",
       "</style>\n",
       "<table border=\"1\" class=\"dataframe\">\n",
       "  <thead>\n",
       "    <tr style=\"text-align: right;\">\n",
       "      <th></th>\n",
       "      <th>Period</th>\n",
       "      <th>Date</th>\n",
       "      <th>Journal</th>\n",
       "      <th>Comments</th>\n",
       "      <th>Comments2</th>\n",
       "      <th>Beginning Balance</th>\n",
       "      <th>Debit</th>\n",
       "      <th>Credit</th>\n",
       "      <th>Net Change</th>\n",
       "      <th>Ending Balance</th>\n",
       "    </tr>\n",
       "  </thead>\n",
       "  <tbody>\n",
       "    <tr>\n",
       "      <th>0</th>\n",
       "      <td>103-02-01</td>\n",
       "      <td>NaN</td>\n",
       "      <td>NaN</td>\n",
       "      <td>SIGNATURE BANK - OPERATING ACCOUNT</td>\n",
       "      <td>NaN</td>\n",
       "      <td>199322.92</td>\n",
       "      <td>NaN</td>\n",
       "      <td>NaN</td>\n",
       "      <td>NaN</td>\n",
       "      <td>NaN</td>\n",
       "    </tr>\n",
       "    <tr>\n",
       "      <th>1</th>\n",
       "      <td>01</td>\n",
       "      <td>2019-01-02 00:00:00</td>\n",
       "      <td>CD-000240</td>\n",
       "      <td>A/P CHECK REGISTER</td>\n",
       "      <td>A/P CHECK REGISTER</td>\n",
       "      <td>NaN</td>\n",
       "      <td>NaN</td>\n",
       "      <td>60022.6</td>\n",
       "      <td>NaN</td>\n",
       "      <td>139300</td>\n",
       "    </tr>\n",
       "    <tr>\n",
       "      <th>2</th>\n",
       "      <td>01</td>\n",
       "      <td>2019-01-04 00:00:00</td>\n",
       "      <td>CD-000243</td>\n",
       "      <td>A/P CHECK REGISTER</td>\n",
       "      <td>A/P CHECK REGISTER</td>\n",
       "      <td>NaN</td>\n",
       "      <td>NaN</td>\n",
       "      <td>7450.8</td>\n",
       "      <td>NaN</td>\n",
       "      <td>131850</td>\n",
       "    </tr>\n",
       "  </tbody>\n",
       "</table>\n",
       "</div>"
      ],
      "text/plain": [
       "      Period                 Date    Journal  \\\n",
       "0  103-02-01                  NaN        NaN   \n",
       "1         01  2019-01-02 00:00:00  CD-000240   \n",
       "2         01  2019-01-04 00:00:00  CD-000243   \n",
       "\n",
       "                             Comments           Comments2  Beginning Balance  \\\n",
       "0  SIGNATURE BANK - OPERATING ACCOUNT                 NaN          199322.92   \n",
       "1                  A/P CHECK REGISTER  A/P CHECK REGISTER                NaN   \n",
       "2                  A/P CHECK REGISTER  A/P CHECK REGISTER                NaN   \n",
       "\n",
       "  Debit   Credit Net Change Ending Balance  \n",
       "0   NaN      NaN        NaN            NaN  \n",
       "1   NaN  60022.6        NaN         139300  \n",
       "2   NaN   7450.8        NaN         131850  "
      ]
     },
     "execution_count": 2,
     "metadata": {},
     "output_type": "execute_result"
    },
    {
     "name": "stdout",
     "output_type": "stream",
     "text": [
      "There are 30646 rows\n",
      "There are 10 rows\n"
     ]
    },
    {
     "data": {
      "text/plain": [
       "30646"
      ]
     },
     "execution_count": 2,
     "metadata": {},
     "output_type": "execute_result"
    },
    {
     "data": {
      "text/plain": [
       "10"
      ]
     },
     "execution_count": 2,
     "metadata": {},
     "output_type": "execute_result"
    }
   ],
   "source": [
    "# read the file only has one tab. no need to specified which tab\n",
    "df = pd.read_excel('data/GL4Q19.xls')\n",
    "df.head(3)\n",
    "# shape can count row and columns\n",
    "# Count_Row=df.shape[0] \n",
    "# print(\"There are %s rows\" % (Count_Row)) \n",
    "rows=len(df) \n",
    "print(\"There are %s rows\" % (rows)) \n",
    "columns=len(df.columns) \n",
    "print(\"There are %s rows\" % (columns)) \n",
    "len(df)  #how many rows\n",
    "len(df.columns)  # how many columns"
   ]
  },
  {
   "cell_type": "code",
   "execution_count": 3,
   "metadata": {},
   "outputs": [
    {
     "name": "stdout",
     "output_type": "stream",
     "text": [
      "<class 'pandas.core.frame.DataFrame'>\n",
      "RangeIndex: 30646 entries, 0 to 30645\n",
      "Data columns (total 10 columns):\n",
      "Period               27287 non-null object\n",
      "Date                 26259 non-null object\n",
      "Journal              26263 non-null object\n",
      "Comments             27309 non-null object\n",
      "Comments2            27308 non-null object\n",
      "Beginning Balance    1055 non-null float64\n",
      "Debit                16617 non-null object\n",
      "Credit               11197 non-null object\n",
      "Net Change           1027 non-null object\n",
      "Ending Balance       26791 non-null object\n",
      "dtypes: float64(1), object(9)\n",
      "memory usage: 2.3+ MB\n"
     ]
    },
    {
     "data": {
      "text/html": [
       "<div>\n",
       "<style scoped>\n",
       "    .dataframe tbody tr th:only-of-type {\n",
       "        vertical-align: middle;\n",
       "    }\n",
       "\n",
       "    .dataframe tbody tr th {\n",
       "        vertical-align: top;\n",
       "    }\n",
       "\n",
       "    .dataframe thead th {\n",
       "        text-align: right;\n",
       "    }\n",
       "</style>\n",
       "<table border=\"1\" class=\"dataframe\">\n",
       "  <thead>\n",
       "    <tr style=\"text-align: right;\">\n",
       "      <th></th>\n",
       "      <th>Period</th>\n",
       "      <th>Date</th>\n",
       "      <th>Journal</th>\n",
       "      <th>Comments</th>\n",
       "      <th>Comments2</th>\n",
       "      <th>Beginning Balance</th>\n",
       "      <th>Debit</th>\n",
       "      <th>Credit</th>\n",
       "      <th>Net Change</th>\n",
       "      <th>Ending Balance</th>\n",
       "    </tr>\n",
       "  </thead>\n",
       "  <tbody>\n",
       "    <tr>\n",
       "      <th>27</th>\n",
       "      <td>01</td>\n",
       "      <td>2019-01-31 00:00:00</td>\n",
       "      <td>MC-000087</td>\n",
       "      <td>THE PRINCETON PARTNERSHIP, LLC W00203</td>\n",
       "      <td>THE PRINCETON PARTNERSHIP, LLC</td>\n",
       "      <td>NaN</td>\n",
       "      <td>NaN</td>\n",
       "      <td>146667</td>\n",
       "      <td>NaN</td>\n",
       "      <td>2.28892e+06</td>\n",
       "    </tr>\n",
       "    <tr>\n",
       "      <th>34</th>\n",
       "      <td>01</td>\n",
       "      <td>2019-01-31 00:00:00</td>\n",
       "      <td>MC-000087</td>\n",
       "      <td>THE PRINCETON PARTNERSHIP, LLC W00208</td>\n",
       "      <td>THE PRINCETON PARTNERSHIP, LLC</td>\n",
       "      <td>NaN</td>\n",
       "      <td>NaN</td>\n",
       "      <td>73038.2</td>\n",
       "      <td>NaN</td>\n",
       "      <td>1.75426e+06</td>\n",
       "    </tr>\n",
       "    <tr>\n",
       "      <th>39</th>\n",
       "      <td>01</td>\n",
       "      <td>2019-01-31 00:00:00</td>\n",
       "      <td>MC-000090</td>\n",
       "      <td>THE PRINCETON PARTNERSHIP, LLC W00214</td>\n",
       "      <td>THE PRINCETON PARTNERSHIP, LLC</td>\n",
       "      <td>NaN</td>\n",
       "      <td>NaN</td>\n",
       "      <td>146667</td>\n",
       "      <td>NaN</td>\n",
       "      <td>847132</td>\n",
       "    </tr>\n",
       "  </tbody>\n",
       "</table>\n",
       "</div>"
      ],
      "text/plain": [
       "   Period                 Date    Journal  \\\n",
       "27     01  2019-01-31 00:00:00  MC-000087   \n",
       "34     01  2019-01-31 00:00:00  MC-000087   \n",
       "39     01  2019-01-31 00:00:00  MC-000090   \n",
       "\n",
       "                                 Comments                       Comments2  \\\n",
       "27  THE PRINCETON PARTNERSHIP, LLC W00203  THE PRINCETON PARTNERSHIP, LLC   \n",
       "34  THE PRINCETON PARTNERSHIP, LLC W00208  THE PRINCETON PARTNERSHIP, LLC   \n",
       "39  THE PRINCETON PARTNERSHIP, LLC W00214  THE PRINCETON PARTNERSHIP, LLC   \n",
       "\n",
       "    Beginning Balance Debit   Credit Net Change Ending Balance  \n",
       "27                NaN   NaN   146667        NaN    2.28892e+06  \n",
       "34                NaN   NaN  73038.2        NaN    1.75426e+06  \n",
       "39                NaN   NaN   146667        NaN         847132  "
      ]
     },
     "execution_count": 3,
     "metadata": {},
     "output_type": "execute_result"
    },
    {
     "data": {
      "text/html": [
       "<style  type=\"text/css\" >\n",
       "</style>  \n",
       "<table id=\"T_f64ac336_79fe_11ea_b14a_b88a605d4570\" > \n",
       "<thead>    <tr> \n",
       "        <th class=\"blank level0\" ></th> \n",
       "        <th class=\"col_heading level0 col0\" >Debit</th> \n",
       "        <th class=\"col_heading level0 col1\" >Credit</th> \n",
       "    </tr>    <tr> \n",
       "        <th class=\"blank level1\" ></th> \n",
       "        <th class=\"col_heading level1 col0\" >sum</th> \n",
       "        <th class=\"col_heading level1 col1\" >sum</th> \n",
       "    </tr>    <tr> \n",
       "        <th class=\"index_name level0\" >Comments2</th> \n",
       "        <th class=\"blank\" ></th> \n",
       "        <th class=\"blank\" ></th> \n",
       "    </tr></thead> \n",
       "<tbody>    <tr> \n",
       "        <th id=\"T_f64ac336_79fe_11ea_b14a_b88a605d4570level0_row0\" class=\"row_heading level0 row0\" >THE PRINCETON PARTNERSHIP, LLC</th> \n",
       "        <td id=\"T_f64ac336_79fe_11ea_b14a_b88a605d4570row0_col0\" class=\"data row0 col0\" >$5,748,603.43</td> \n",
       "        <td id=\"T_f64ac336_79fe_11ea_b14a_b88a605d4570row0_col1\" class=\"data row0 col1\" >$5,748,603.43</td> \n",
       "    </tr></tbody> \n",
       "</table> "
      ],
      "text/plain": [
       "<pandas.io.formats.style.Styler at 0x18d55aeaa58>"
      ]
     },
     "execution_count": 3,
     "metadata": {},
     "output_type": "execute_result"
    }
   ],
   "source": [
    "df.info()\n",
    "# df[' Comments'].head(3)\n",
    "\n",
    "# ## filter security type Equity and see the unrealized value\n",
    "df_TPP=df[df['Comments2']=='THE PRINCETON PARTNERSHIP, LLC']\n",
    "df_TPP.head(3)\n",
    "\n",
    "# ## filter security type Corp and see the unrealized value\n",
    "# df_corp=df[(df['Security Type']=='CORP') & (df['STAT Unrealized']!=0)]\n",
    "\n",
    "# (df.groupby('STAT Classification')['STAT Unrealized']\n",
    "# .agg(['mean', 'sum'])\n",
    "# .style.format('${0:,.2f}'))\n",
    "\n",
    "(df_TPP.groupby('Comments2')\n",
    ".agg({'Debit':['sum'],'Credit':['sum']})\n",
    ".style.format('${0:,.2f}'))\n",
    "\n",
    "# (df.groupby('Comments')\n",
    "# .agg({'Debit':['sum'],'Credit':['sum']}))\n",
    "\n",
    "df_TPP.to_excel(\"output2019.xlsx\")"
   ]
  }
 ],
 "metadata": {
  "kernelspec": {
   "display_name": "Python 3",
   "language": "python",
   "name": "python3"
  },
  "language_info": {
   "codemirror_mode": {
    "name": "ipython",
    "version": 3
   },
   "file_extension": ".py",
   "mimetype": "text/x-python",
   "name": "python",
   "nbconvert_exporter": "python",
   "pygments_lexer": "ipython3",
   "version": "3.6.3"
  }
 },
 "nbformat": 4,
 "nbformat_minor": 2
}
